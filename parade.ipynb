{
 "cells": [
  {
   "cell_type": "markdown",
   "metadata": {},
   "source": [
    "# Analyzing Parade Artblocks"
   ]
  },
  {
   "cell_type": "markdown",
   "metadata": {},
   "source": [
    "This notebook analyzes the Parade Art Blocks collection with a focus on their traits and the prices they can realize. [Visit the repository](https://github.com/ymyke) for more notebooks on other projects, to use the code, or to contribute.\n",
    "\n",
    "Important: This notebook uses [Plotly](https://plotly.com/python/) mostly to visualize data. Plotly charts won't be rendered in Githubs notebook viewer. So please [view this notebook on nbviewer](https://nbviewer.org/github/ymyke/niftylytics/blob/main/parade.ipynb) (or on your local installation after cloning the repo). Note that nbviewer caches notebooks and sometimes takes a long time to pick up a new version.\n",
    "\n",
    "On the upside, all the Plotly charts are interactive. You can zoom, hover, pan, etc. Zooming is especially important due to the outliers in some the data so you can zoom in on the interesting parts."
   ]
  },
  {
   "cell_type": "code",
   "execution_count": 1,
   "metadata": {},
   "outputs": [],
   "source": [
    "import plotly.io as pio\n",
    "pio.renderers.default = \"notebook_connected\""
   ]
  },
  {
   "cell_type": "markdown",
   "metadata": {},
   "source": [
    "## Get the Parade"
   ]
  },
  {
   "cell_type": "markdown",
   "metadata": {},
   "source": [
    "Note that this takes a couple of minutes. Also note the timestamp below,\n",
    "that is when the information was last retrieved."
   ]
  },
  {
   "cell_type": "code",
   "execution_count": 2,
   "metadata": {},
   "outputs": [
    {
     "name": "stdout",
     "output_type": "stream",
     "text": [
      "............. -- All 250 assets retrieved.\n",
      "2021-11-07 14:55:48.711092\n"
     ]
    }
   ],
   "source": [
    "import datetime\n",
    "from opensea import ARTBLOCK_CONTRACT, retrieve_assets\n",
    "\n",
    "START = 197000000\n",
    "NUMBER = 250 # <- There's going to be 1024 in the end, when everything is minted.\n",
    "IDS = list(range(START, START + NUMBER))\n",
    "assets = retrieve_assets(token_ids=IDS, contract=ARTBLOCK_CONTRACT)\n",
    "print(datetime.datetime.now())"
   ]
  },
  {
   "cell_type": "markdown",
   "metadata": {},
   "source": [
    "## Build a dataframe"
   ]
  },
  {
   "cell_type": "code",
   "execution_count": 3,
   "metadata": {},
   "outputs": [],
   "source": [
    "import numpy as np\n",
    "import pandas as pd\n",
    "from helpers import turn_assets_into_df\n",
    "df, traits = turn_assets_into_df(assets)\n",
    "hoverdata = [ \"Name\", *traits, \"Probscore\"]"
   ]
  },
  {
   "cell_type": "code",
   "execution_count": 4,
   "metadata": {},
   "outputs": [],
   "source": [
    "assert set(df.LPsymbol.unique()) == set([\"ETH\", \"WETH\", np.nan]), \"\"\"\n",
    "This sheet does not do currency conversion at the moment and therefore \n",
    "assumes all prices are in (W)ETH. But there are more symbols in the input \n",
    "data which would lead to apples being compared to ranges below. Aborting.\n",
    "\"\"\""
   ]
  },
  {
   "cell_type": "markdown",
   "metadata": {},
   "source": [
    "## How many pieces have a last price on OpenSea?"
   ]
  },
  {
   "cell_type": "code",
   "execution_count": 5,
   "metadata": {},
   "outputs": [
    {
     "name": "stdout",
     "output_type": "stream",
     "text": [
      "6%\n"
     ]
    }
   ],
   "source": [
    "print(f\"{df[~df.Lastprice.isna()].shape[0] / df.shape[0]:.0%}\")"
   ]
  },
  {
   "cell_type": "markdown",
   "metadata": {},
   "source": [
    "## How are prices evolving over time?"
   ]
  },
  {
   "cell_type": "markdown",
   "metadata": {},
   "source": [
    "Note that this only takes into account the last sale of each piece."
   ]
  },
  {
   "cell_type": "code",
   "execution_count": 7,
   "metadata": {},
   "outputs": [
    {
     "data": {
      "text/html": [
       "        <script type=\"text/javascript\">\n",
       "        window.PlotlyConfig = {MathJaxConfig: 'local'};\n",
       "        if (window.MathJax) {MathJax.Hub.Config({SVG: {font: \"STIX-Web\"}});}\n",
       "        if (typeof require !== 'undefined') {\n",
       "        require.undef(\"plotly\");\n",
       "        requirejs.config({\n",
       "            paths: {\n",
       "                'plotly': ['https://cdn.plot.ly/plotly-2.4.2.min']\n",
       "            }\n",
       "        });\n",
       "        require(['plotly'], function(Plotly) {\n",
       "            window._Plotly = Plotly;\n",
       "        });\n",
       "        }\n",
       "        </script>\n",
       "        "
      ]
     },
     "metadata": {},
     "output_type": "display_data"
    },
    {
     "data": {
      "text/html": [
       "<div>                            <div id=\"fe006e00-8e4c-466b-86ed-dc5fc935236f\" class=\"plotly-graph-div\" style=\"height:525px; width:100%;\"></div>            <script type=\"text/javascript\">                require([\"plotly\"], function(Plotly) {                    window.PLOTLYENV=window.PLOTLYENV || {};                                    if (document.getElementById(\"fe006e00-8e4c-466b-86ed-dc5fc935236f\")) {                    Plotly.newPlot(                        \"fe006e00-8e4c-466b-86ed-dc5fc935236f\",                        [{\"customdata\":[[\"Parade #131\",\"64\",\"Horizontal\",\"Spectrum\",\"128\",0.00023316000000000002],[\"Parade #18\",\"16\",\"Horizontal\",\"Traverse\",\"64\",0.0005628000000000001],[\"Parade #155\",\"64\",\"Vertical\",\"Parade\",\"128\",0.00116928],[\"Parade #13\",\"1\",\"Vertical\",\"Journey\",\"32\",0.0015551999999999996],[\"Parade #39\",\"4\",\"Vertical\",\"Radiate\",\"8\",0.00205632],[\"Parade #32\",\"16\",\"Vertical\",\"Syncronize\",\"64\",0.001728],[\"Parade #55\",\"32\",\"Vertical\",\"Spectrum\",\"16\",0.00054432],[\"Parade #9\",\"32\",\"Vertical\",\"Distortion\",\"32\",0.0017418239999999999],[\"Parade #195\",\"128\",\"Vertical\",\"Space\",\"16\",0.0023327999999999995],[\"Parade #4\",\"16\",\"Vertical\",\"Space\",\"64\",0.0020736],[\"Parade #75\",\"64\",\"Horizontal\",\"Red Radiation\",\"32\",0.00037305600000000003],[\"Parade #136\",\"8\",\"Horizontal\",\"Yellow Radiation\",\"32\",6.753600000000001e-05],[\"Parade #8\",\"128\",\"Vertical\",\"Delve\",\"8\",0.0018143999999999999],[\"Parade #27\",\"4\",\"Vertical\",\"Luminous\",\"128\",0.0013708799999999999],[\"Parade #45\",\"4\",\"Vertical\",\"Distortion\",\"64\",0.0022031999999999998],[\"Parade #19\",\"16\",\"Vertical\",\"Royalty\",\"16\",0.00139968],[\"Parade #17\",\"1\",\"Vertical\",\"Nostalgia 1\",\"32\",0.00186624],[\"Parade #16\",\"32\",\"Vertical\",\"Delve\",\"128\",0.0024192000000000003],[\"Parade #15\",\"64\",\"Vertical\",\"Appeal\",\"64\",0.001044],[\"Parade #14\",\"64\",\"Vertical\",\"Wonder\",\"64\",0.002088],[\"Parade #12\",\"128\",\"Vertical\",\"Balance\",\"8\",0.00084672],[\"Parade #11\",\"128\",\"Vertical\",\"Wonder\",\"128\",0.0017279999999999997],[\"Parade #10\",\"16\",\"Vertical\",\"Resolve\",\"16\",0.0009331200000000001],[\"Parade #7\",\"32\",\"Vertical\",\"Luminous\",\"32\",0.001354752],[\"Parade #6\",\"4\",\"Vertical\",\"Concept\",\"128\",0.0009792000000000002],[\"Parade #5\",\"1\",\"Vertical\",\"Resolve\",\"32\",0.00186624],[\"Parade #3\",\"128\",\"Horizontal\",\"Strive\",\"32\",0.00067536],[\"Parade #2\",\"64\",\"Horizontal\",\"Distortion\",\"32\",0.0008393760000000001],[\"Parade #1\",\"32\",\"Vertical\",\"Radiate\",\"32\",0.00290304],[\"Parade #0\",\"8\",\"Horizontal\",\"Optimism\",\"128\",0.0002814],[\"Parade #38\",\"128\",\"Vertical\",\"Delve\",\"128\",0.0025919999999999997],[\"Parade #37\",\"4\",\"Vertical\",\"Interfere\",\"32\",0.002585088],[\"Parade #36\",\"64\",\"Horizontal\",\"Distortion\",\"16\",0.000786915],[\"Parade #35\",\"1\",\"Vertical\",\"Expanse\",\"64\",0.0029159999999999993],[\"Parade #34\",\"32\",\"Horizontal\",\"Parade\",\"32\",0.0006303360000000002],[\"Parade #33\",\"4\",\"Vertical\",\"Resolve\",\"8\",0.000822528],[\"Parade #31\",\"8\",\"Horizontal\",\"Delve\",\"64\",0.0010552500000000002],[\"Parade #30\",\"128\",\"Vertical\",\"Syncronize\",\"8\",0.0012096000000000001],[\"Parade #29\",\"4\",\"Vertical\",\"Syncronize\",\"64\",0.0024480000000000005],[\"Parade #28\",\"1\",\"Vertical\",\"Royalty\",\"64\",0.0029159999999999993],[\"Parade #26\",\"128\",\"Horizontal\",\"Interfere\",\"64\",0.0011055000000000001],[\"Parade #25\",\"8\",\"Horizontal\",\"Resolve\",\"32\",0.000405216],[\"Parade #24\",\"64\",\"Vertical\",\"Radiate\",\"16\",0.0028187999999999998],[\"Parade #23\",\"8\",\"Horizontal\",\"Balance\",\"32\",0.00047275200000000017],[\"Parade #22\",\"128\",\"Vertical\",\"Nostalgia 0\",\"8\",0.0012096],[\"Parade #21\",\"128\",\"Vertical\",\"Traverse\",\"16\",0.0013608],[\"Parade #20\",\"64\",\"Horizontal\",\"Space\",\"64\",0.0011658],[\"Parade #59\",\"64\",\"Vertical\",\"Wonder\",\"64\",0.002088],[\"Parade #58\",\"1\",\"Vertical\",\"Radiate\",\"128\",0.003887999999999999],[\"Parade #57\",\"1\",\"Vertical\",\"Precision\",\"16\",0.0005832],[\"Parade #56\",\"32\",\"Vertical\",\"Distortion\",\"32\",0.0017418239999999999],[\"Parade #54\",\"64\",\"Horizontal\",\"Space\",\"64\",0.0011658],[\"Parade #53\",\"4\",\"Vertical\",\"Expanse\",\"32\",0.002115072],[\"Parade #52\",\"32\",\"Vertical\",\"Interfere\",\"16\",0.00199584],[\"Parade #51\",\"1\",\"Vertical\",\"Enhance\",\"8\",0.00036288000000000005],[\"Parade #50\",\"4\",\"Vertical\",\"Space\",\"32\",0.0028200960000000002],[\"Parade #49\",\"4\",\"Vertical\",\"Space\",\"64\",0.0029376000000000003],[\"Parade #48\",\"8\",\"Horizontal\",\"Appeal\",\"128\",0.0002814],[\"Parade #47\",\"64\",\"Vertical\",\"Expanse\",\"128\",0.0015033599999999998],[\"Parade #46\",\"64\",\"Vertical\",\"Distortion\",\"8\",0.001052352],[\"Parade #44\",\"32\",\"Vertical\",\"Outlook\",\"32\",0.001161216],[\"Parade #43\",\"32\",\"Horizontal\",\"Nostalgia 1\",\"128\",0.0004502400000000001],[\"Parade #42\",\"16\",\"Horizontal\",\"Radiate\",\"16\",0.0010854],[\"Parade #41\",\"1\",\"Vertical\",\"Moment\",\"64\",0.001944],[\"Parade #40\",\"1\",\"Vertical\",\"Wonder\",\"8\",0.0018143999999999999],[\"Parade #79\",\"64\",\"Horizontal\",\"Outlook\",\"128\",0.00046632000000000005],[\"Parade #78\",\"4\",\"Vertical\",\"Expanse\",\"64\",0.0022031999999999998],[\"Parade #77\",\"32\",\"Horizontal\",\"Spectrum\",\"64\",0.00028140000000000006],[\"Parade #76\",\"4\",\"Vertical\",\"Expanse\",\"32\",0.002115072],[\"Parade #74\",\"32\",\"Vertical\",\"Wonder\",\"32\",0.00193536],[\"Parade #73\",\"16\",\"Horizontal\",\"Interfere\",\"128\",0.00070752],[\"Parade #72\",\"8\",\"Horizontal\",\"Wonder\",\"64\",0.0007035000000000001],[\"Parade #71\",\"4\",\"Vertical\",\"Cyan Radiation\",\"16\",0.00022032],[\"Parade #70\",\"8\",\"Horizontal\",\"Royalty\",\"128\",0.0005065200000000001],[\"Parade #69\",\"8\",\"Horizontal\",\"Luminous\",\"64\",0.0004924500000000002],[\"Parade #68\",\"16\",\"Vertical\",\"Strive\",\"8\",0.000677376],[\"Parade #67\",\"8\",\"Horizontal\",\"Expanse\",\"16\",0.0005698350000000001],[\"Parade #66\",\"1\",\"Vertical\",\"Space\",\"8\",0.00217728],[\"Parade #65\",\"4\",\"Vertical\",\"Traverse\",\"16\",0.0015422399999999998],[\"Parade #64\",\"1\",\"Vertical\",\"Radiate\",\"64\",0.004859999999999999],[\"Parade #63\",\"16\",\"Horizontal\",\"Concept\",\"128\",0.0003216],[\"Parade #62\",\"128\",\"Horizontal\",\"Delve\",\"128\",0.001206],[\"Parade #61\",\"64\",\"Vertical\",\"Royalty\",\"32\",0.0018040320000000001],[\"Parade #60\",\"128\",\"Horizontal\",\"Strive\",\"64\",0.0007035000000000001],[\"Parade #99\",\"1\",\"Vertical\",\"Royalty\",\"64\",0.0029159999999999993],[\"Parade #98\",\"128\",\"Horizontal\",\"Optimism\",\"32\",0.0004824],[\"Parade #97\",\"16\",\"Vertical\",\"Interfere\",\"64\",0.0019007999999999996],[\"Parade #96\",\"64\",\"Horizontal\",\"Nostalgia 1\",\"16\",0.00052461],[\"Parade #95\",\"1\",\"Vertical\",\"Interfere\",\"128\",0.0028511999999999995],[\"Parade #94\",\"32\",\"Vertical\",\"Nostalgia 0\",\"16\",0.0018143999999999999],[\"Parade #93\",\"1\",\"Vertical\",\"Interfere\",\"64\",0.0035639999999999995],[\"Parade #92\",\"1\",\"Vertical\",\"Space\",\"32\",0.00373248],[\"Parade #91\",\"1\",\"Vertical\",\"Syncronize\",\"128\",0.002592],[\"Parade #90\",\"32\",\"Vertical\",\"Nostalgia 0\",\"16\",0.0018143999999999999],[\"Parade #89\",\"16\",\"Horizontal\",\"Space\",\"64\",0.0009648000000000002],[\"Parade #88\",\"1\",\"Vertical\",\"Mono Radiation\",\"64\",0.000972],[\"Parade #87\",\"128\",\"Vertical\",\"Moment\",\"32\",0.00124416],[\"Parade #86\",\"32\",\"Horizontal\",\"Nostalgia 0\",\"64\",0.0009380000000000001],[\"Parade #85\",\"128\",\"Vertical\",\"Enhance\",\"32\",0.00041472],[\"Parade #84\",\"1\",\"Vertical\",\"Resolve\",\"64\",0.001944],[\"Parade #83\",\"4\",\"Vertical\",\"Nostalgia 0\",\"64\",0.0024480000000000005],[\"Parade #82\",\"128\",\"Horizontal\",\"Syncronize\",\"16\",0.0009045],[\"Parade #81\",\"16\",\"Vertical\",\"Syncronize\",\"8\",0.00096768],[\"Parade #80\",\"128\",\"Vertical\",\"Nostalgia 0\",\"8\",0.0012096],[\"Parade #119\",\"8\",\"Horizontal\",\"Interfere\",\"16\",0.0006964650000000001],[\"Parade #118\",\"1\",\"Vertical\",\"Red Radiation\",\"32\",0.00124416],[\"Parade #117\",\"8\",\"Horizontal\",\"Space\",\"128\",0.0006753600000000001],[\"Parade #116\",\"1\",\"Vertical\",\"Radiate\",\"128\",0.003887999999999999],[\"Parade #115\",\"64\",\"Vertical\",\"Distortion\",\"64\",0.0018791999999999997],[\"Parade #114\",\"64\",\"Horizontal\",\"Optimism\",\"64\",0.00048575000000000007],[\"Parade #113\",\"16\",\"Vertical\",\"Parade\",\"8\",0.000677376],[\"Parade #112\",\"64\",\"Horizontal\",\"Entropy\",\"32\",0.00027979200000000006],[\"Parade #111\",\"4\",\"Vertical\",\"Balance\",\"16\",0.0015422399999999998],[\"Parade #110\",\"1\",\"Vertical\",\"Blue Radiation\",\"128\",0.0002592],[\"Parade #109\",\"32\",\"Horizontal\",\"Moment\",\"64\",0.0005628000000000001],[\"Parade #108\",\"32\",\"Vertical\",\"Parade\",\"16\",0.00127008],[\"Parade #107\",\"8\",\"Horizontal\",\"Resolve\",\"32\",0.000405216],[\"Parade #106\",\"1\",\"Vertical\",\"Radiate\",\"8\",0.0027215999999999994],[\"Parade #105\",\"32\",\"Vertical\",\"Optimism\",\"128\",0.0008064],[\"Parade #104\",\"128\",\"Horizontal\",\"Delve\",\"128\",0.001206],[\"Parade #103\",\"16\",\"Horizontal\",\"Interfere\",\"32\",0.0008490240000000001],[\"Parade #102\",\"1\",\"Vertical\",\"Luminous\",\"32\",0.00217728],[\"Parade #101\",\"128\",\"Horizontal\",\"Red Radiation\",\"16\",0.00036179999999999996],[\"Parade #100\",\"16\",\"Vertical\",\"Luminous\",\"16\",0.00108864],[\"Parade #139\",\"4\",\"Vertical\",\"Wonder\",\"16\",0.0022032],[\"Parade #138\",\"1\",\"Vertical\",\"Green Radiation\",\"16\",0.0002916],[\"Parade #137\",\"128\",\"Vertical\",\"Mono Radiation\",\"16\",0.0005832],[\"Parade #135\",\"4\",\"Vertical\",\"Parade\",\"8\",0.0009596160000000002],[\"Parade #134\",\"128\",\"Vertical\",\"Strive\",\"16\",0.0013608],[\"Parade #133\",\"1\",\"Vertical\",\"Outlook\",\"128\",0.0015551999999999999],[\"Parade #132\",\"128\",\"Vertical\",\"Expanse\",\"64\",0.0019439999999999995],[\"Parade #130\",\"64\",\"Horizontal\",\"Interfere\",\"64\",0.0010686500000000002],[\"Parade #129\",\"32\",\"Horizontal\",\"Nostalgia 0\",\"128\",0.0007504000000000001],[\"Parade #128\",\"32\",\"Horizontal\",\"Wonder\",\"128\",0.0007504000000000001],[\"Parade #127\",\"32\",\"Horizontal\",\"Nostalgia 0\",\"128\",0.0007504000000000001],[\"Parade #126\",\"128\",\"Vertical\",\"Interfere\",\"16\",0.0021383999999999995],[\"Parade #125\",\"1\",\"Vertical\",\"Radiate\",\"128\",0.003887999999999999],[\"Parade #124\",\"1\",\"Vertical\",\"Parade\",\"16\",0.0020412],[\"Parade #123\",\"64\",\"Vertical\",\"Space\",\"64\",0.0025056],[\"Parade #122\",\"4\",\"Vertical\",\"Entropy\",\"8\",0.00041126400000000005],[\"Parade #121\",\"4\",\"Vertical\",\"Expanse\",\"16\",0.00198288],[\"Parade #120\",\"32\",\"Vertical\",\"Magenta Radiation\",\"16\",0.00018144],[\"Parade #159\",\"4\",\"Vertical\",\"Precision\",\"64\",0.0004896000000000001],[\"Parade #158\",\"4\",\"Vertical\",\"Delve\",\"8\",0.0020563200000000004],[\"Parade #157\",\"1\",\"Vertical\",\"Radiate\",\"64\",0.004859999999999999],[\"Parade #156\",\"4\",\"Vertical\",\"Concept\",\"16\",0.0011015999999999999],[\"Parade #154\",\"64\",\"Vertical\",\"Balance\",\"32\",0.001403136],[\"Parade #153\",\"32\",\"Horizontal\",\"Delve\",\"32\",0.0013507200000000001],[\"Parade #152\",\"16\",\"Vertical\",\"Radiate\",\"32\",0.0024883199999999996],[\"Parade #151\",\"8\",\"Horizontal\",\"Balance\",\"64\",0.0004924500000000002],[\"Parade #150\",\"8\",\"Horizontal\",\"Royalty\",\"128\",0.0005065200000000001],[\"Parade #149\",\"128\",\"Vertical\",\"Distortion\",\"16\",0.0017495999999999998],[\"Parade #148\",\"1\",\"Vertical\",\"Traverse\",\"64\",0.0022679999999999996],[\"Parade #147\",\"16\",\"Horizontal\",\"Nostalgia 0\",\"32\",0.0007718400000000001],[\"Parade #146\",\"1\",\"Vertical\",\"Outlook\",\"16\",0.0017496],[\"Parade #145\",\"8\",\"Horizontal\",\"Balance\",\"32\",0.00047275200000000017],[\"Parade #144\",\"8\",\"Horizontal\",\"Delve\",\"16\",0.000949725],[\"Parade #143\",\"64\",\"Horizontal\",\"Moment\",\"64\",0.0005829000000000001],[\"Parade #142\",\"8\",\"Horizontal\",\"Traverse\",\"16\",0.00044320499999999996],[\"Parade #141\",\"4\",\"Vertical\",\"Delve\",\"64\",0.003672000000000001],[\"Parade #140\",\"16\",\"Horizontal\",\"Journey\",\"32\",0.00038592000000000005],[\"Parade #179\",\"32\",\"Horizontal\",\"Delve\",\"16\",0.0012663000000000002],[\"Parade #178\",\"1\",\"Vertical\",\"Optimism\",\"16\",0.0014579999999999997],[\"Parade #177\",\"8\",\"Horizontal\",\"Expanse\",\"64\",0.0006331500000000002],[\"Parade #176\",\"16\",\"Vertical\",\"Wonder\",\"64\",0.001728],[\"Parade #175\",\"8\",\"Horizontal\",\"Moment\",\"64\",0.00042210000000000007],[\"Parade #174\",\"4\",\"Vertical\",\"Strive\",\"64\",0.0017136000000000005],[\"Parade #173\",\"1\",\"Vertical\",\"Delve\",\"64\",0.00486],[\"Parade #172\",\"16\",\"Vertical\",\"Appeal\",\"128\",0.0006912],[\"Parade #171\",\"1\",\"Vertical\",\"Radiate\",\"8\",0.0027215999999999994],[\"Parade #170\",\"64\",\"Horizontal\",\"Luminous\",\"16\",0.000612045],[\"Parade #169\",\"128\",\"Horizontal\",\"Strive\",\"32\",0.00067536],[\"Parade #168\",\"128\",\"Horizontal\",\"Concept\",\"128\",0.000402],[\"Parade #167\",\"1\",\"Vertical\",\"Radiate\",\"128\",0.003887999999999999],[\"Parade #166\",\"32\",\"Vertical\",\"Entropy\",\"8\",0.000338688],[\"Parade #165\",\"128\",\"Horizontal\",\"Appeal\",\"32\",0.0004824],[\"Parade #164\",\"4\",\"Vertical\",\"Nostalgia 1\",\"16\",0.0013219199999999999],[\"Parade #163\",\"64\",\"Horizontal\",\"Nostalgia 1\",\"32\",0.0005595840000000001],[\"Parade #162\",\"1\",\"Vertical\",\"Syncronize\",\"128\",0.002592],[\"Parade #161\",\"1\",\"Vertical\",\"Royalty\",\"8\",0.00163296],[\"Parade #160\",\"32\",\"Vertical\",\"Delve\",\"32\",0.00290304],[\"Parade #199\",\"64\",\"Vertical\",\"Delve\",\"8\",0.00175392],[\"Parade #198\",\"1\",\"Vertical\",\"Concept\",\"8\",0.0009071999999999999],[\"Parade #197\",\"64\",\"Vertical\",\"Delve\",\"32\",0.00300672],[\"Parade #196\",\"1\",\"Vertical\",\"Wonder\",\"32\",0.0031103999999999997],[\"Parade #194\",\"16\",\"Vertical\",\"Traverse\",\"32\",0.001161216],[\"Parade #193\",\"1\",\"Vertical\",\"Strive\",\"8\",0.00127008],[\"Parade #192\",\"1\",\"Vertical\",\"Distortion\",\"64\",0.0029159999999999993],[\"Parade #191\",\"64\",\"Vertical\",\"Outlook\",\"32\",0.001202688],[\"Parade #190\",\"64\",\"Vertical\",\"Moment\",\"32\",0.001202688],[\"Parade #189\",\"4\",\"Vertical\",\"Journey\",\"128\",0.0009792000000000002],[\"Parade #188\",\"32\",\"Horizontal\",\"Journey\",\"128\",0.0003752],[\"Parade #187\",\"4\",\"Vertical\",\"Balance\",\"8\",0.0009596160000000002],[\"Parade #186\",\"16\",\"Vertical\",\"Mono Radiation\",\"32\",0.000497664],[\"Parade #185\",\"4\",\"Vertical\",\"Luminous\",\"16\",0.0015422399999999998],[\"Parade #184\",\"4\",\"Vertical\",\"Syncronize\",\"8\",0.0013708799999999999],[\"Parade #183\",\"4\",\"Vertical\",\"Outlook\",\"128\",0.00117504],[\"Parade #182\",\"16\",\"Vertical\",\"Appeal\",\"8\",0.00048384],[\"Parade #181\",\"32\",\"Vertical\",\"Nostalgia 1\",\"32\",0.001161216],[\"Parade #180\",\"1\",\"Vertical\",\"Syncronize\",\"8\",0.0018143999999999999],[\"Parade #219\",\"64\",\"Vertical\",\"Delve\",\"8\",1.4195999999999998e-07],[\"Parade #218\",\"16\",\"Vertical\",\"Optimism\",\"32\",5.0700000000000004e-08],[\"Parade #217\",\"128\",\"Vertical\",\"Royalty\",\"64\",1.4601599999999998e-07],[\"Parade #216\",\"4\",\"Vertical\",\"Moment\",\"64\",8.213399999999997e-08],[\"Parade #215\",\"16\",\"Horizontal\",\"Balance\",\"128\",4.056e-08],[\"Parade #214\",\"8\",\"Horizontal\",\"Strive\",\"64\",9.125999999999998e-09],[\"Parade #213\",\"64\",\"Vertical\",\"Concept\",\"64\",2.5552799999999996e-07],[\"Parade #212\",\"128\",\"Horizontal\",\"Balance\",\"64\",7.300799999999999e-08],[\"Parade #211\",\"32\",\"Vertical\",\"Appeal\",\"16\",7.098e-08],[\"Parade #210\",\"8\",\"Horizontal\",\"Radiate\",\"128\",0.0008442000000000001],[\"Parade #209\",\"1\",\"Vertical\",\"Parade\",\"128\",0.0018143999999999999],[\"Parade #208\",\"128\",\"Horizontal\",\"Royalty\",\"16\",0.00081405],[\"Parade #207\",\"128\",\"Vertical\",\"Syncronize\",\"128\",0.0017279999999999997],[\"Parade #206\",\"4\",\"Vertical\",\"Nostalgia 0\",\"64\",0.0024480000000000005],[\"Parade #205\",\"1\",\"Vertical\",\"Red Radiation\",\"16\",0.0011664],[\"Parade #204\",\"1\",\"Vertical\",\"Journey\",\"16\",0.0014579999999999997],[\"Parade #203\",\"4\",\"Vertical\",\"Royalty\",\"64\",0.0022032],[\"Parade #202\",\"128\",\"Horizontal\",\"Space\",\"16\",0.0010854],[\"Parade #201\",\"4\",\"Vertical\",\"Radiate\",\"32\",0.0035251199999999996],[\"Parade #200\",\"16\",\"Vertical\",\"Traverse\",\"16\",0.00108864],[\"Parade #239\",\"128\",\"Horizontal\",\"Distortion\",\"128\",3.244800000000001e-08],[\"Parade #238\",\"128\",\"Vertical\",\"Syncronize\",\"32\",8.112e-08],[\"Parade #237\",\"4\",\"Vertical\",\"Delve\",\"128\",2.9203199999999995e-07],[\"Parade #236\",\"64\",\"Vertical\",\"Wonder\",\"8\",7.097999999999999e-08],[\"Parade #235\",\"4\",\"Vertical\",\"Journey\",\"64\",8.213399999999997e-08],[\"Parade #234\",\"8\",\"Horizontal\",\"Radiate\",\"16\",7.098000000000002e-09],[\"Parade #233\",\"128\",\"Horizontal\",\"Delve\",\"16\",1.1356800000000003e-07],[\"Parade #232\",\"32\",\"Vertical\",\"Outlook\",\"32\",5.0700000000000004e-08],[\"Parade #231\",\"128\",\"Horizontal\",\"Cyan Radiation\",\"32\",4.056e-08],[\"Parade #230\",\"16\",\"Vertical\",\"Wonder\",\"8\",5.0700000000000004e-08],[\"Parade #229\",\"128\",\"Horizontal\",\"Interfere\",\"128\",6.489600000000001e-08],[\"Parade #228\",\"4\",\"Vertical\",\"Concept\",\"16\",2.55528e-07],[\"Parade #227\",\"1\",\"Vertical\",\"Resolve\",\"128\",4.8672e-08],[\"Parade #226\",\"32\",\"Vertical\",\"Luminous\",\"16\",1.0647000000000001e-07],[\"Parade #225\",\"1\",\"Vertical\",\"Concept\",\"8\",6.084000000000001e-08],[\"Parade #224\",\"4\",\"Vertical\",\"Delve\",\"32\",3.6503999999999994e-07],[\"Parade #223\",\"128\",\"Horizontal\",\"Expanse\",\"64\",3.6503999999999994e-08],[\"Parade #222\",\"4\",\"Vertical\",\"Nostalgia 0\",\"16\",6.388199999999999e-08],[\"Parade #221\",\"16\",\"Horizontal\",\"Luminous\",\"128\",6.084000000000001e-08],[\"Parade #220\",\"32\",\"Vertical\",\"Interfere\",\"64\",9.126e-08],[\"Parade #249\",\"4\",\"Vertical\",\"Nostalgia 1\",\"16\",1.27764e-07],[\"Parade #248\",\"32\",\"Horizontal\",\"Concept\",\"32\",1.0140000000000001e-07],[\"Parade #247\",\"16\",\"Horizontal\",\"Luminous\",\"32\",7.605e-08],[\"Parade #246\",\"64\",\"Vertical\",\"Royalty\",\"64\",1.2776399999999998e-07],[\"Parade #245\",\"64\",\"Horizontal\",\"Traverse\",\"32\",3.5489999999999996e-08],[\"Parade #244\",\"4\",\"Vertical\",\"Entropy\",\"32\",9.125999999999998e-08],[\"Parade #243\",\"64\",\"Vertical\",\"Resolve\",\"8\",7.097999999999999e-08],[\"Parade #242\",\"4\",\"Vertical\",\"Mono Radiation\",\"32\",9.125999999999998e-08],[\"Parade #241\",\"64\",\"Vertical\",\"Appeal\",\"128\",1.1356799999999999e-07],[\"Parade #240\",\"1\",\"Vertical\",\"Nostalgia 1\",\"128\",4.8672e-08]],\"hovertemplate\":\"LPdate=%{x}<br>Lastprice=%{y}<br>Name=%{customdata[0]}<br>Bar Count=%{customdata[1]}<br>Orientation=%{customdata[2]}<br>Palette=%{customdata[3]}<br>Segment Count=%{customdata[4]}<br>Probscore=%{customdata[5]}<extra></extra>\",\"legendgroup\":\"\",\"marker\":{\"color\":\"#636efa\",\"symbol\":\"circle\"},\"mode\":\"markers\",\"name\":\"\",\"orientation\":\"v\",\"showlegend\":false,\"type\":\"scatter\",\"x\":[\"2021-11-05T19:15:11\",\"2021-11-05T19:08:11\",\"2021-11-05T20:06:12\",\"2021-11-05T19:04:26\",\"2021-11-05T19:08:11\",\"2021-11-05T19:04:26\",\"2021-11-05T16:42:08\",\"2021-11-05T19:03:41\",\"2021-11-06T00:49:12\",\"2021-11-05T19:02:03\",\"2021-11-06T19:55:53\",\"2021-11-06T06:09:38\",\"2021-11-05T17:27:02\",\"2021-11-07T05:47:49\",\"2021-11-07T04:49:14\",null,null,null,null,null,null,null,null,null,null,null,null,null,null,null,null,null,null,null,null,null,null,null,null,null,null,null,null,null,null,null,null,null,null,null,null,null,null,null,null,null,null,null,null,null,null,null,null,null,null,null,null,null,null,null,null,null,null,null,null,null,null,null,null,null,null,null,null,null,null,null,null,null,null,null,null,null,null,null,null,null,null,null,null,null,null,null,null,null,null,null,null,null,null,null,null,null,null,null,null,null,null,null,null,null,null,null,null,null,null,null,null,null,null,null,null,null,null,null,null,null,null,null,null,null,null,null,null,null,null,null,null,null,null,null,null,null,null,null,null,null,null,null,null,null,null,null,null,null,null,null,null,null,null,null,null,null,null,null,null,null,null,null,null,null,null,null,null,null,null,null,null,null,null,null,null,null,null,null,null,null,null,null,null,null,null,null,null,null,null,null,null,null,null,null,null,null,null,null,null,null,null,null,null,null,null,null,null,null,null,null,null,null,null,null,null,null,null,null,null,null,null,null,null,null,null,null,null,null,null,null,null,null,null,null],\"xaxis\":\"x\",\"y\":[3.5,1.12,1.1,1.0,1.0,1.0,1.0,0.7,0.575,0.5,0.5,0.5,0.4,0.24,0.2,null,null,null,null,null,null,null,null,null,null,null,null,null,null,null,null,null,null,null,null,null,null,null,null,null,null,null,null,null,null,null,null,null,null,null,null,null,null,null,null,null,null,null,null,null,null,null,null,null,null,null,null,null,null,null,null,null,null,null,null,null,null,null,null,null,null,null,null,null,null,null,null,null,null,null,null,null,null,null,null,null,null,null,null,null,null,null,null,null,null,null,null,null,null,null,null,null,null,null,null,null,null,null,null,null,null,null,null,null,null,null,null,null,null,null,null,null,null,null,null,null,null,null,null,null,null,null,null,null,null,null,null,null,null,null,null,null,null,null,null,null,null,null,null,null,null,null,null,null,null,null,null,null,null,null,null,null,null,null,null,null,null,null,null,null,null,null,null,null,null,null,null,null,null,null,null,null,null,null,null,null,null,null,null,null,null,null,null,null,null,null,null,null,null,null,null,null,null,null,null,null,null,null,null,null,null,null,null,null,null,null,null,null,null,null,null,null,null,null,null,null,null,null,null,null,null,null,null,null,null,null,null,null,null,null],\"yaxis\":\"y\"}],                        {\"legend\":{\"tracegroupgap\":0},\"margin\":{\"t\":60},\"template\":{\"data\":{\"bar\":[{\"error_x\":{\"color\":\"#2a3f5f\"},\"error_y\":{\"color\":\"#2a3f5f\"},\"marker\":{\"line\":{\"color\":\"#E5ECF6\",\"width\":0.5},\"pattern\":{\"fillmode\":\"overlay\",\"size\":10,\"solidity\":0.2}},\"type\":\"bar\"}],\"barpolar\":[{\"marker\":{\"line\":{\"color\":\"#E5ECF6\",\"width\":0.5},\"pattern\":{\"fillmode\":\"overlay\",\"size\":10,\"solidity\":0.2}},\"type\":\"barpolar\"}],\"carpet\":[{\"aaxis\":{\"endlinecolor\":\"#2a3f5f\",\"gridcolor\":\"white\",\"linecolor\":\"white\",\"minorgridcolor\":\"white\",\"startlinecolor\":\"#2a3f5f\"},\"baxis\":{\"endlinecolor\":\"#2a3f5f\",\"gridcolor\":\"white\",\"linecolor\":\"white\",\"minorgridcolor\":\"white\",\"startlinecolor\":\"#2a3f5f\"},\"type\":\"carpet\"}],\"choropleth\":[{\"colorbar\":{\"outlinewidth\":0,\"ticks\":\"\"},\"type\":\"choropleth\"}],\"contour\":[{\"colorbar\":{\"outlinewidth\":0,\"ticks\":\"\"},\"colorscale\":[[0.0,\"#0d0887\"],[0.1111111111111111,\"#46039f\"],[0.2222222222222222,\"#7201a8\"],[0.3333333333333333,\"#9c179e\"],[0.4444444444444444,\"#bd3786\"],[0.5555555555555556,\"#d8576b\"],[0.6666666666666666,\"#ed7953\"],[0.7777777777777778,\"#fb9f3a\"],[0.8888888888888888,\"#fdca26\"],[1.0,\"#f0f921\"]],\"type\":\"contour\"}],\"contourcarpet\":[{\"colorbar\":{\"outlinewidth\":0,\"ticks\":\"\"},\"type\":\"contourcarpet\"}],\"heatmap\":[{\"colorbar\":{\"outlinewidth\":0,\"ticks\":\"\"},\"colorscale\":[[0.0,\"#0d0887\"],[0.1111111111111111,\"#46039f\"],[0.2222222222222222,\"#7201a8\"],[0.3333333333333333,\"#9c179e\"],[0.4444444444444444,\"#bd3786\"],[0.5555555555555556,\"#d8576b\"],[0.6666666666666666,\"#ed7953\"],[0.7777777777777778,\"#fb9f3a\"],[0.8888888888888888,\"#fdca26\"],[1.0,\"#f0f921\"]],\"type\":\"heatmap\"}],\"heatmapgl\":[{\"colorbar\":{\"outlinewidth\":0,\"ticks\":\"\"},\"colorscale\":[[0.0,\"#0d0887\"],[0.1111111111111111,\"#46039f\"],[0.2222222222222222,\"#7201a8\"],[0.3333333333333333,\"#9c179e\"],[0.4444444444444444,\"#bd3786\"],[0.5555555555555556,\"#d8576b\"],[0.6666666666666666,\"#ed7953\"],[0.7777777777777778,\"#fb9f3a\"],[0.8888888888888888,\"#fdca26\"],[1.0,\"#f0f921\"]],\"type\":\"heatmapgl\"}],\"histogram\":[{\"marker\":{\"pattern\":{\"fillmode\":\"overlay\",\"size\":10,\"solidity\":0.2}},\"type\":\"histogram\"}],\"histogram2d\":[{\"colorbar\":{\"outlinewidth\":0,\"ticks\":\"\"},\"colorscale\":[[0.0,\"#0d0887\"],[0.1111111111111111,\"#46039f\"],[0.2222222222222222,\"#7201a8\"],[0.3333333333333333,\"#9c179e\"],[0.4444444444444444,\"#bd3786\"],[0.5555555555555556,\"#d8576b\"],[0.6666666666666666,\"#ed7953\"],[0.7777777777777778,\"#fb9f3a\"],[0.8888888888888888,\"#fdca26\"],[1.0,\"#f0f921\"]],\"type\":\"histogram2d\"}],\"histogram2dcontour\":[{\"colorbar\":{\"outlinewidth\":0,\"ticks\":\"\"},\"colorscale\":[[0.0,\"#0d0887\"],[0.1111111111111111,\"#46039f\"],[0.2222222222222222,\"#7201a8\"],[0.3333333333333333,\"#9c179e\"],[0.4444444444444444,\"#bd3786\"],[0.5555555555555556,\"#d8576b\"],[0.6666666666666666,\"#ed7953\"],[0.7777777777777778,\"#fb9f3a\"],[0.8888888888888888,\"#fdca26\"],[1.0,\"#f0f921\"]],\"type\":\"histogram2dcontour\"}],\"mesh3d\":[{\"colorbar\":{\"outlinewidth\":0,\"ticks\":\"\"},\"type\":\"mesh3d\"}],\"parcoords\":[{\"line\":{\"colorbar\":{\"outlinewidth\":0,\"ticks\":\"\"}},\"type\":\"parcoords\"}],\"pie\":[{\"automargin\":true,\"type\":\"pie\"}],\"scatter\":[{\"marker\":{\"colorbar\":{\"outlinewidth\":0,\"ticks\":\"\"}},\"type\":\"scatter\"}],\"scatter3d\":[{\"line\":{\"colorbar\":{\"outlinewidth\":0,\"ticks\":\"\"}},\"marker\":{\"colorbar\":{\"outlinewidth\":0,\"ticks\":\"\"}},\"type\":\"scatter3d\"}],\"scattercarpet\":[{\"marker\":{\"colorbar\":{\"outlinewidth\":0,\"ticks\":\"\"}},\"type\":\"scattercarpet\"}],\"scattergeo\":[{\"marker\":{\"colorbar\":{\"outlinewidth\":0,\"ticks\":\"\"}},\"type\":\"scattergeo\"}],\"scattergl\":[{\"marker\":{\"colorbar\":{\"outlinewidth\":0,\"ticks\":\"\"}},\"type\":\"scattergl\"}],\"scattermapbox\":[{\"marker\":{\"colorbar\":{\"outlinewidth\":0,\"ticks\":\"\"}},\"type\":\"scattermapbox\"}],\"scatterpolar\":[{\"marker\":{\"colorbar\":{\"outlinewidth\":0,\"ticks\":\"\"}},\"type\":\"scatterpolar\"}],\"scatterpolargl\":[{\"marker\":{\"colorbar\":{\"outlinewidth\":0,\"ticks\":\"\"}},\"type\":\"scatterpolargl\"}],\"scatterternary\":[{\"marker\":{\"colorbar\":{\"outlinewidth\":0,\"ticks\":\"\"}},\"type\":\"scatterternary\"}],\"surface\":[{\"colorbar\":{\"outlinewidth\":0,\"ticks\":\"\"},\"colorscale\":[[0.0,\"#0d0887\"],[0.1111111111111111,\"#46039f\"],[0.2222222222222222,\"#7201a8\"],[0.3333333333333333,\"#9c179e\"],[0.4444444444444444,\"#bd3786\"],[0.5555555555555556,\"#d8576b\"],[0.6666666666666666,\"#ed7953\"],[0.7777777777777778,\"#fb9f3a\"],[0.8888888888888888,\"#fdca26\"],[1.0,\"#f0f921\"]],\"type\":\"surface\"}],\"table\":[{\"cells\":{\"fill\":{\"color\":\"#EBF0F8\"},\"line\":{\"color\":\"white\"}},\"header\":{\"fill\":{\"color\":\"#C8D4E3\"},\"line\":{\"color\":\"white\"}},\"type\":\"table\"}]},\"layout\":{\"annotationdefaults\":{\"arrowcolor\":\"#2a3f5f\",\"arrowhead\":0,\"arrowwidth\":1},\"autotypenumbers\":\"strict\",\"coloraxis\":{\"colorbar\":{\"outlinewidth\":0,\"ticks\":\"\"}},\"colorscale\":{\"diverging\":[[0,\"#8e0152\"],[0.1,\"#c51b7d\"],[0.2,\"#de77ae\"],[0.3,\"#f1b6da\"],[0.4,\"#fde0ef\"],[0.5,\"#f7f7f7\"],[0.6,\"#e6f5d0\"],[0.7,\"#b8e186\"],[0.8,\"#7fbc41\"],[0.9,\"#4d9221\"],[1,\"#276419\"]],\"sequential\":[[0.0,\"#0d0887\"],[0.1111111111111111,\"#46039f\"],[0.2222222222222222,\"#7201a8\"],[0.3333333333333333,\"#9c179e\"],[0.4444444444444444,\"#bd3786\"],[0.5555555555555556,\"#d8576b\"],[0.6666666666666666,\"#ed7953\"],[0.7777777777777778,\"#fb9f3a\"],[0.8888888888888888,\"#fdca26\"],[1.0,\"#f0f921\"]],\"sequentialminus\":[[0.0,\"#0d0887\"],[0.1111111111111111,\"#46039f\"],[0.2222222222222222,\"#7201a8\"],[0.3333333333333333,\"#9c179e\"],[0.4444444444444444,\"#bd3786\"],[0.5555555555555556,\"#d8576b\"],[0.6666666666666666,\"#ed7953\"],[0.7777777777777778,\"#fb9f3a\"],[0.8888888888888888,\"#fdca26\"],[1.0,\"#f0f921\"]]},\"colorway\":[\"#636efa\",\"#EF553B\",\"#00cc96\",\"#ab63fa\",\"#FFA15A\",\"#19d3f3\",\"#FF6692\",\"#B6E880\",\"#FF97FF\",\"#FECB52\"],\"font\":{\"color\":\"#2a3f5f\"},\"geo\":{\"bgcolor\":\"white\",\"lakecolor\":\"white\",\"landcolor\":\"#E5ECF6\",\"showlakes\":true,\"showland\":true,\"subunitcolor\":\"white\"},\"hoverlabel\":{\"align\":\"left\"},\"hovermode\":\"closest\",\"mapbox\":{\"style\":\"light\"},\"paper_bgcolor\":\"white\",\"plot_bgcolor\":\"#E5ECF6\",\"polar\":{\"angularaxis\":{\"gridcolor\":\"white\",\"linecolor\":\"white\",\"ticks\":\"\"},\"bgcolor\":\"#E5ECF6\",\"radialaxis\":{\"gridcolor\":\"white\",\"linecolor\":\"white\",\"ticks\":\"\"}},\"scene\":{\"xaxis\":{\"backgroundcolor\":\"#E5ECF6\",\"gridcolor\":\"white\",\"gridwidth\":2,\"linecolor\":\"white\",\"showbackground\":true,\"ticks\":\"\",\"zerolinecolor\":\"white\"},\"yaxis\":{\"backgroundcolor\":\"#E5ECF6\",\"gridcolor\":\"white\",\"gridwidth\":2,\"linecolor\":\"white\",\"showbackground\":true,\"ticks\":\"\",\"zerolinecolor\":\"white\"},\"zaxis\":{\"backgroundcolor\":\"#E5ECF6\",\"gridcolor\":\"white\",\"gridwidth\":2,\"linecolor\":\"white\",\"showbackground\":true,\"ticks\":\"\",\"zerolinecolor\":\"white\"}},\"shapedefaults\":{\"line\":{\"color\":\"#2a3f5f\"}},\"ternary\":{\"aaxis\":{\"gridcolor\":\"white\",\"linecolor\":\"white\",\"ticks\":\"\"},\"baxis\":{\"gridcolor\":\"white\",\"linecolor\":\"white\",\"ticks\":\"\"},\"bgcolor\":\"#E5ECF6\",\"caxis\":{\"gridcolor\":\"white\",\"linecolor\":\"white\",\"ticks\":\"\"}},\"title\":{\"x\":0.05},\"xaxis\":{\"automargin\":true,\"gridcolor\":\"white\",\"linecolor\":\"white\",\"ticks\":\"\",\"title\":{\"standoff\":15},\"zerolinecolor\":\"white\",\"zerolinewidth\":2},\"yaxis\":{\"automargin\":true,\"gridcolor\":\"white\",\"linecolor\":\"white\",\"ticks\":\"\",\"title\":{\"standoff\":15},\"zerolinecolor\":\"white\",\"zerolinewidth\":2}}},\"xaxis\":{\"anchor\":\"y\",\"domain\":[0.0,1.0],\"title\":{\"text\":\"LPdate\"}},\"yaxis\":{\"anchor\":\"x\",\"domain\":[0.0,1.0],\"title\":{\"text\":\"Lastprice\"}}},                        {\"responsive\": true}                    ).then(function(){\n",
       "                            \n",
       "var gd = document.getElementById('fe006e00-8e4c-466b-86ed-dc5fc935236f');\n",
       "var x = new MutationObserver(function (mutations, observer) {{\n",
       "        var display = window.getComputedStyle(gd).display;\n",
       "        if (!display || display === 'none') {{\n",
       "            console.log([gd, 'removed!']);\n",
       "            Plotly.purge(gd);\n",
       "            observer.disconnect();\n",
       "        }}\n",
       "}});\n",
       "\n",
       "// Listen for the removal of the full notebook cells\n",
       "var notebookContainer = gd.closest('#notebook-container');\n",
       "if (notebookContainer) {{\n",
       "    x.observe(notebookContainer, {childList: true});\n",
       "}}\n",
       "\n",
       "// Listen for the clearing of the current output cell\n",
       "var outputEl = gd.closest('.output');\n",
       "if (outputEl) {{\n",
       "    x.observe(outputEl, {childList: true});\n",
       "}}\n",
       "\n",
       "                        })                };                });            </script>        </div>"
      ]
     },
     "metadata": {},
     "output_type": "display_data"
    }
   ],
   "source": [
    "import plotly.express as px\n",
    "import plotly.graph_objects as go\n",
    "import matplotlib.pyplot as plt\n",
    "\n",
    "plt.rcParams[\"figure.figsize\"] = (20, 8)\n",
    "pd.plotting.register_matplotlib_converters()\n",
    "\n",
    "fig = px.scatter(df, x=\"LPdate\", y=\"Lastprice\", hover_data=hoverdata)\n",
    "fig.show()"
   ]
  },
  {
   "cell_type": "markdown",
   "metadata": {},
   "source": [
    "## Price levels today"
   ]
  },
  {
   "cell_type": "code",
   "execution_count": 8,
   "metadata": {},
   "outputs": [
    {
     "data": {
      "text/html": [
       "<div>                            <div id=\"5d115149-f03d-46c0-b805-c8d610b18c43\" class=\"plotly-graph-div\" style=\"height:525px; width:100%;\"></div>            <script type=\"text/javascript\">                require([\"plotly\"], function(Plotly) {                    window.PLOTLYENV=window.PLOTLYENV || {};                                    if (document.getElementById(\"5d115149-f03d-46c0-b805-c8d610b18c43\")) {                    Plotly.newPlot(                        \"5d115149-f03d-46c0-b805-c8d610b18c43\",                        [{\"alignmentgroup\":\"True\",\"bingroup\":\"x\",\"hovertemplate\":\"Lastprice=%{x}<br>count=%{y}<extra></extra>\",\"legendgroup\":\"\",\"marker\":{\"color\":\"#636efa\",\"pattern\":{\"shape\":\"\"}},\"name\":\"\",\"offsetgroup\":\"\",\"orientation\":\"v\",\"showlegend\":false,\"type\":\"histogram\",\"x\":[3.5,1.12,1.1,1.0,1.0,1.0,1.0,0.7,0.575,0.5,0.5,0.5,0.4,0.24,0.2,null,null,null,null,null,null,null,null,null,null,null,null,null,null,null,null,null,null,null,null,null,null,null,null,null,null,null,null,null,null,null,null,null,null,null,null,null,null,null,null,null,null,null,null,null,null,null,null,null,null,null,null,null,null,null,null,null,null,null,null,null,null,null,null,null,null,null,null,null,null,null,null,null,null,null,null,null,null,null,null,null,null,null,null,null,null,null,null,null,null,null,null,null,null,null,null,null,null,null,null,null,null,null,null,null,null,null,null,null,null,null,null,null,null,null,null,null,null,null,null,null,null,null,null,null,null,null,null,null,null,null,null,null,null,null,null,null,null,null,null,null,null,null,null,null,null,null,null,null,null,null,null,null,null,null,null,null,null,null,null,null,null,null,null,null,null,null,null,null,null,null,null,null,null,null,null,null,null,null,null,null,null,null,null,null,null,null,null,null,null,null,null,null,null,null,null,null,null,null,null,null,null,null,null,null,null,null,null,null,null,null,null,null,null,null,null,null,null,null,null,null,null,null,null,null,null,null,null,null,null,null,null,null,null,null],\"xaxis\":\"x\",\"yaxis\":\"y\"},{\"alignmentgroup\":\"True\",\"customdata\":[[\"Parade #131\",\"64\",\"Horizontal\",\"Spectrum\",\"128\",0.00023316000000000002],[\"Parade #18\",\"16\",\"Horizontal\",\"Traverse\",\"64\",0.0005628000000000001],[\"Parade #155\",\"64\",\"Vertical\",\"Parade\",\"128\",0.00116928],[\"Parade #13\",\"1\",\"Vertical\",\"Journey\",\"32\",0.0015551999999999996],[\"Parade #39\",\"4\",\"Vertical\",\"Radiate\",\"8\",0.00205632],[\"Parade #32\",\"16\",\"Vertical\",\"Syncronize\",\"64\",0.001728],[\"Parade #55\",\"32\",\"Vertical\",\"Spectrum\",\"16\",0.00054432],[\"Parade #9\",\"32\",\"Vertical\",\"Distortion\",\"32\",0.0017418239999999999],[\"Parade #195\",\"128\",\"Vertical\",\"Space\",\"16\",0.0023327999999999995],[\"Parade #4\",\"16\",\"Vertical\",\"Space\",\"64\",0.0020736],[\"Parade #75\",\"64\",\"Horizontal\",\"Red Radiation\",\"32\",0.00037305600000000003],[\"Parade #136\",\"8\",\"Horizontal\",\"Yellow Radiation\",\"32\",6.753600000000001e-05],[\"Parade #8\",\"128\",\"Vertical\",\"Delve\",\"8\",0.0018143999999999999],[\"Parade #27\",\"4\",\"Vertical\",\"Luminous\",\"128\",0.0013708799999999999],[\"Parade #45\",\"4\",\"Vertical\",\"Distortion\",\"64\",0.0022031999999999998],[\"Parade #19\",\"16\",\"Vertical\",\"Royalty\",\"16\",0.00139968],[\"Parade #17\",\"1\",\"Vertical\",\"Nostalgia 1\",\"32\",0.00186624],[\"Parade #16\",\"32\",\"Vertical\",\"Delve\",\"128\",0.0024192000000000003],[\"Parade #15\",\"64\",\"Vertical\",\"Appeal\",\"64\",0.001044],[\"Parade #14\",\"64\",\"Vertical\",\"Wonder\",\"64\",0.002088],[\"Parade #12\",\"128\",\"Vertical\",\"Balance\",\"8\",0.00084672],[\"Parade #11\",\"128\",\"Vertical\",\"Wonder\",\"128\",0.0017279999999999997],[\"Parade #10\",\"16\",\"Vertical\",\"Resolve\",\"16\",0.0009331200000000001],[\"Parade #7\",\"32\",\"Vertical\",\"Luminous\",\"32\",0.001354752],[\"Parade #6\",\"4\",\"Vertical\",\"Concept\",\"128\",0.0009792000000000002],[\"Parade #5\",\"1\",\"Vertical\",\"Resolve\",\"32\",0.00186624],[\"Parade #3\",\"128\",\"Horizontal\",\"Strive\",\"32\",0.00067536],[\"Parade #2\",\"64\",\"Horizontal\",\"Distortion\",\"32\",0.0008393760000000001],[\"Parade #1\",\"32\",\"Vertical\",\"Radiate\",\"32\",0.00290304],[\"Parade #0\",\"8\",\"Horizontal\",\"Optimism\",\"128\",0.0002814],[\"Parade #38\",\"128\",\"Vertical\",\"Delve\",\"128\",0.0025919999999999997],[\"Parade #37\",\"4\",\"Vertical\",\"Interfere\",\"32\",0.002585088],[\"Parade #36\",\"64\",\"Horizontal\",\"Distortion\",\"16\",0.000786915],[\"Parade #35\",\"1\",\"Vertical\",\"Expanse\",\"64\",0.0029159999999999993],[\"Parade #34\",\"32\",\"Horizontal\",\"Parade\",\"32\",0.0006303360000000002],[\"Parade #33\",\"4\",\"Vertical\",\"Resolve\",\"8\",0.000822528],[\"Parade #31\",\"8\",\"Horizontal\",\"Delve\",\"64\",0.0010552500000000002],[\"Parade #30\",\"128\",\"Vertical\",\"Syncronize\",\"8\",0.0012096000000000001],[\"Parade #29\",\"4\",\"Vertical\",\"Syncronize\",\"64\",0.0024480000000000005],[\"Parade #28\",\"1\",\"Vertical\",\"Royalty\",\"64\",0.0029159999999999993],[\"Parade #26\",\"128\",\"Horizontal\",\"Interfere\",\"64\",0.0011055000000000001],[\"Parade #25\",\"8\",\"Horizontal\",\"Resolve\",\"32\",0.000405216],[\"Parade #24\",\"64\",\"Vertical\",\"Radiate\",\"16\",0.0028187999999999998],[\"Parade #23\",\"8\",\"Horizontal\",\"Balance\",\"32\",0.00047275200000000017],[\"Parade #22\",\"128\",\"Vertical\",\"Nostalgia 0\",\"8\",0.0012096],[\"Parade #21\",\"128\",\"Vertical\",\"Traverse\",\"16\",0.0013608],[\"Parade #20\",\"64\",\"Horizontal\",\"Space\",\"64\",0.0011658],[\"Parade #59\",\"64\",\"Vertical\",\"Wonder\",\"64\",0.002088],[\"Parade #58\",\"1\",\"Vertical\",\"Radiate\",\"128\",0.003887999999999999],[\"Parade #57\",\"1\",\"Vertical\",\"Precision\",\"16\",0.0005832],[\"Parade #56\",\"32\",\"Vertical\",\"Distortion\",\"32\",0.0017418239999999999],[\"Parade #54\",\"64\",\"Horizontal\",\"Space\",\"64\",0.0011658],[\"Parade #53\",\"4\",\"Vertical\",\"Expanse\",\"32\",0.002115072],[\"Parade #52\",\"32\",\"Vertical\",\"Interfere\",\"16\",0.00199584],[\"Parade #51\",\"1\",\"Vertical\",\"Enhance\",\"8\",0.00036288000000000005],[\"Parade #50\",\"4\",\"Vertical\",\"Space\",\"32\",0.0028200960000000002],[\"Parade #49\",\"4\",\"Vertical\",\"Space\",\"64\",0.0029376000000000003],[\"Parade #48\",\"8\",\"Horizontal\",\"Appeal\",\"128\",0.0002814],[\"Parade #47\",\"64\",\"Vertical\",\"Expanse\",\"128\",0.0015033599999999998],[\"Parade #46\",\"64\",\"Vertical\",\"Distortion\",\"8\",0.001052352],[\"Parade #44\",\"32\",\"Vertical\",\"Outlook\",\"32\",0.001161216],[\"Parade #43\",\"32\",\"Horizontal\",\"Nostalgia 1\",\"128\",0.0004502400000000001],[\"Parade #42\",\"16\",\"Horizontal\",\"Radiate\",\"16\",0.0010854],[\"Parade #41\",\"1\",\"Vertical\",\"Moment\",\"64\",0.001944],[\"Parade #40\",\"1\",\"Vertical\",\"Wonder\",\"8\",0.0018143999999999999],[\"Parade #79\",\"64\",\"Horizontal\",\"Outlook\",\"128\",0.00046632000000000005],[\"Parade #78\",\"4\",\"Vertical\",\"Expanse\",\"64\",0.0022031999999999998],[\"Parade #77\",\"32\",\"Horizontal\",\"Spectrum\",\"64\",0.00028140000000000006],[\"Parade #76\",\"4\",\"Vertical\",\"Expanse\",\"32\",0.002115072],[\"Parade #74\",\"32\",\"Vertical\",\"Wonder\",\"32\",0.00193536],[\"Parade #73\",\"16\",\"Horizontal\",\"Interfere\",\"128\",0.00070752],[\"Parade #72\",\"8\",\"Horizontal\",\"Wonder\",\"64\",0.0007035000000000001],[\"Parade #71\",\"4\",\"Vertical\",\"Cyan Radiation\",\"16\",0.00022032],[\"Parade #70\",\"8\",\"Horizontal\",\"Royalty\",\"128\",0.0005065200000000001],[\"Parade #69\",\"8\",\"Horizontal\",\"Luminous\",\"64\",0.0004924500000000002],[\"Parade #68\",\"16\",\"Vertical\",\"Strive\",\"8\",0.000677376],[\"Parade #67\",\"8\",\"Horizontal\",\"Expanse\",\"16\",0.0005698350000000001],[\"Parade #66\",\"1\",\"Vertical\",\"Space\",\"8\",0.00217728],[\"Parade #65\",\"4\",\"Vertical\",\"Traverse\",\"16\",0.0015422399999999998],[\"Parade #64\",\"1\",\"Vertical\",\"Radiate\",\"64\",0.004859999999999999],[\"Parade #63\",\"16\",\"Horizontal\",\"Concept\",\"128\",0.0003216],[\"Parade #62\",\"128\",\"Horizontal\",\"Delve\",\"128\",0.001206],[\"Parade #61\",\"64\",\"Vertical\",\"Royalty\",\"32\",0.0018040320000000001],[\"Parade #60\",\"128\",\"Horizontal\",\"Strive\",\"64\",0.0007035000000000001],[\"Parade #99\",\"1\",\"Vertical\",\"Royalty\",\"64\",0.0029159999999999993],[\"Parade #98\",\"128\",\"Horizontal\",\"Optimism\",\"32\",0.0004824],[\"Parade #97\",\"16\",\"Vertical\",\"Interfere\",\"64\",0.0019007999999999996],[\"Parade #96\",\"64\",\"Horizontal\",\"Nostalgia 1\",\"16\",0.00052461],[\"Parade #95\",\"1\",\"Vertical\",\"Interfere\",\"128\",0.0028511999999999995],[\"Parade #94\",\"32\",\"Vertical\",\"Nostalgia 0\",\"16\",0.0018143999999999999],[\"Parade #93\",\"1\",\"Vertical\",\"Interfere\",\"64\",0.0035639999999999995],[\"Parade #92\",\"1\",\"Vertical\",\"Space\",\"32\",0.00373248],[\"Parade #91\",\"1\",\"Vertical\",\"Syncronize\",\"128\",0.002592],[\"Parade #90\",\"32\",\"Vertical\",\"Nostalgia 0\",\"16\",0.0018143999999999999],[\"Parade #89\",\"16\",\"Horizontal\",\"Space\",\"64\",0.0009648000000000002],[\"Parade #88\",\"1\",\"Vertical\",\"Mono Radiation\",\"64\",0.000972],[\"Parade #87\",\"128\",\"Vertical\",\"Moment\",\"32\",0.00124416],[\"Parade #86\",\"32\",\"Horizontal\",\"Nostalgia 0\",\"64\",0.0009380000000000001],[\"Parade #85\",\"128\",\"Vertical\",\"Enhance\",\"32\",0.00041472],[\"Parade #84\",\"1\",\"Vertical\",\"Resolve\",\"64\",0.001944],[\"Parade #83\",\"4\",\"Vertical\",\"Nostalgia 0\",\"64\",0.0024480000000000005],[\"Parade #82\",\"128\",\"Horizontal\",\"Syncronize\",\"16\",0.0009045],[\"Parade #81\",\"16\",\"Vertical\",\"Syncronize\",\"8\",0.00096768],[\"Parade #80\",\"128\",\"Vertical\",\"Nostalgia 0\",\"8\",0.0012096],[\"Parade #119\",\"8\",\"Horizontal\",\"Interfere\",\"16\",0.0006964650000000001],[\"Parade #118\",\"1\",\"Vertical\",\"Red Radiation\",\"32\",0.00124416],[\"Parade #117\",\"8\",\"Horizontal\",\"Space\",\"128\",0.0006753600000000001],[\"Parade #116\",\"1\",\"Vertical\",\"Radiate\",\"128\",0.003887999999999999],[\"Parade #115\",\"64\",\"Vertical\",\"Distortion\",\"64\",0.0018791999999999997],[\"Parade #114\",\"64\",\"Horizontal\",\"Optimism\",\"64\",0.00048575000000000007],[\"Parade #113\",\"16\",\"Vertical\",\"Parade\",\"8\",0.000677376],[\"Parade #112\",\"64\",\"Horizontal\",\"Entropy\",\"32\",0.00027979200000000006],[\"Parade #111\",\"4\",\"Vertical\",\"Balance\",\"16\",0.0015422399999999998],[\"Parade #110\",\"1\",\"Vertical\",\"Blue Radiation\",\"128\",0.0002592],[\"Parade #109\",\"32\",\"Horizontal\",\"Moment\",\"64\",0.0005628000000000001],[\"Parade #108\",\"32\",\"Vertical\",\"Parade\",\"16\",0.00127008],[\"Parade #107\",\"8\",\"Horizontal\",\"Resolve\",\"32\",0.000405216],[\"Parade #106\",\"1\",\"Vertical\",\"Radiate\",\"8\",0.0027215999999999994],[\"Parade #105\",\"32\",\"Vertical\",\"Optimism\",\"128\",0.0008064],[\"Parade #104\",\"128\",\"Horizontal\",\"Delve\",\"128\",0.001206],[\"Parade #103\",\"16\",\"Horizontal\",\"Interfere\",\"32\",0.0008490240000000001],[\"Parade #102\",\"1\",\"Vertical\",\"Luminous\",\"32\",0.00217728],[\"Parade #101\",\"128\",\"Horizontal\",\"Red Radiation\",\"16\",0.00036179999999999996],[\"Parade #100\",\"16\",\"Vertical\",\"Luminous\",\"16\",0.00108864],[\"Parade #139\",\"4\",\"Vertical\",\"Wonder\",\"16\",0.0022032],[\"Parade #138\",\"1\",\"Vertical\",\"Green Radiation\",\"16\",0.0002916],[\"Parade #137\",\"128\",\"Vertical\",\"Mono Radiation\",\"16\",0.0005832],[\"Parade #135\",\"4\",\"Vertical\",\"Parade\",\"8\",0.0009596160000000002],[\"Parade #134\",\"128\",\"Vertical\",\"Strive\",\"16\",0.0013608],[\"Parade #133\",\"1\",\"Vertical\",\"Outlook\",\"128\",0.0015551999999999999],[\"Parade #132\",\"128\",\"Vertical\",\"Expanse\",\"64\",0.0019439999999999995],[\"Parade #130\",\"64\",\"Horizontal\",\"Interfere\",\"64\",0.0010686500000000002],[\"Parade #129\",\"32\",\"Horizontal\",\"Nostalgia 0\",\"128\",0.0007504000000000001],[\"Parade #128\",\"32\",\"Horizontal\",\"Wonder\",\"128\",0.0007504000000000001],[\"Parade #127\",\"32\",\"Horizontal\",\"Nostalgia 0\",\"128\",0.0007504000000000001],[\"Parade #126\",\"128\",\"Vertical\",\"Interfere\",\"16\",0.0021383999999999995],[\"Parade #125\",\"1\",\"Vertical\",\"Radiate\",\"128\",0.003887999999999999],[\"Parade #124\",\"1\",\"Vertical\",\"Parade\",\"16\",0.0020412],[\"Parade #123\",\"64\",\"Vertical\",\"Space\",\"64\",0.0025056],[\"Parade #122\",\"4\",\"Vertical\",\"Entropy\",\"8\",0.00041126400000000005],[\"Parade #121\",\"4\",\"Vertical\",\"Expanse\",\"16\",0.00198288],[\"Parade #120\",\"32\",\"Vertical\",\"Magenta Radiation\",\"16\",0.00018144],[\"Parade #159\",\"4\",\"Vertical\",\"Precision\",\"64\",0.0004896000000000001],[\"Parade #158\",\"4\",\"Vertical\",\"Delve\",\"8\",0.0020563200000000004],[\"Parade #157\",\"1\",\"Vertical\",\"Radiate\",\"64\",0.004859999999999999],[\"Parade #156\",\"4\",\"Vertical\",\"Concept\",\"16\",0.0011015999999999999],[\"Parade #154\",\"64\",\"Vertical\",\"Balance\",\"32\",0.001403136],[\"Parade #153\",\"32\",\"Horizontal\",\"Delve\",\"32\",0.0013507200000000001],[\"Parade #152\",\"16\",\"Vertical\",\"Radiate\",\"32\",0.0024883199999999996],[\"Parade #151\",\"8\",\"Horizontal\",\"Balance\",\"64\",0.0004924500000000002],[\"Parade #150\",\"8\",\"Horizontal\",\"Royalty\",\"128\",0.0005065200000000001],[\"Parade #149\",\"128\",\"Vertical\",\"Distortion\",\"16\",0.0017495999999999998],[\"Parade #148\",\"1\",\"Vertical\",\"Traverse\",\"64\",0.0022679999999999996],[\"Parade #147\",\"16\",\"Horizontal\",\"Nostalgia 0\",\"32\",0.0007718400000000001],[\"Parade #146\",\"1\",\"Vertical\",\"Outlook\",\"16\",0.0017496],[\"Parade #145\",\"8\",\"Horizontal\",\"Balance\",\"32\",0.00047275200000000017],[\"Parade #144\",\"8\",\"Horizontal\",\"Delve\",\"16\",0.000949725],[\"Parade #143\",\"64\",\"Horizontal\",\"Moment\",\"64\",0.0005829000000000001],[\"Parade #142\",\"8\",\"Horizontal\",\"Traverse\",\"16\",0.00044320499999999996],[\"Parade #141\",\"4\",\"Vertical\",\"Delve\",\"64\",0.003672000000000001],[\"Parade #140\",\"16\",\"Horizontal\",\"Journey\",\"32\",0.00038592000000000005],[\"Parade #179\",\"32\",\"Horizontal\",\"Delve\",\"16\",0.0012663000000000002],[\"Parade #178\",\"1\",\"Vertical\",\"Optimism\",\"16\",0.0014579999999999997],[\"Parade #177\",\"8\",\"Horizontal\",\"Expanse\",\"64\",0.0006331500000000002],[\"Parade #176\",\"16\",\"Vertical\",\"Wonder\",\"64\",0.001728],[\"Parade #175\",\"8\",\"Horizontal\",\"Moment\",\"64\",0.00042210000000000007],[\"Parade #174\",\"4\",\"Vertical\",\"Strive\",\"64\",0.0017136000000000005],[\"Parade #173\",\"1\",\"Vertical\",\"Delve\",\"64\",0.00486],[\"Parade #172\",\"16\",\"Vertical\",\"Appeal\",\"128\",0.0006912],[\"Parade #171\",\"1\",\"Vertical\",\"Radiate\",\"8\",0.0027215999999999994],[\"Parade #170\",\"64\",\"Horizontal\",\"Luminous\",\"16\",0.000612045],[\"Parade #169\",\"128\",\"Horizontal\",\"Strive\",\"32\",0.00067536],[\"Parade #168\",\"128\",\"Horizontal\",\"Concept\",\"128\",0.000402],[\"Parade #167\",\"1\",\"Vertical\",\"Radiate\",\"128\",0.003887999999999999],[\"Parade #166\",\"32\",\"Vertical\",\"Entropy\",\"8\",0.000338688],[\"Parade #165\",\"128\",\"Horizontal\",\"Appeal\",\"32\",0.0004824],[\"Parade #164\",\"4\",\"Vertical\",\"Nostalgia 1\",\"16\",0.0013219199999999999],[\"Parade #163\",\"64\",\"Horizontal\",\"Nostalgia 1\",\"32\",0.0005595840000000001],[\"Parade #162\",\"1\",\"Vertical\",\"Syncronize\",\"128\",0.002592],[\"Parade #161\",\"1\",\"Vertical\",\"Royalty\",\"8\",0.00163296],[\"Parade #160\",\"32\",\"Vertical\",\"Delve\",\"32\",0.00290304],[\"Parade #199\",\"64\",\"Vertical\",\"Delve\",\"8\",0.00175392],[\"Parade #198\",\"1\",\"Vertical\",\"Concept\",\"8\",0.0009071999999999999],[\"Parade #197\",\"64\",\"Vertical\",\"Delve\",\"32\",0.00300672],[\"Parade #196\",\"1\",\"Vertical\",\"Wonder\",\"32\",0.0031103999999999997],[\"Parade #194\",\"16\",\"Vertical\",\"Traverse\",\"32\",0.001161216],[\"Parade #193\",\"1\",\"Vertical\",\"Strive\",\"8\",0.00127008],[\"Parade #192\",\"1\",\"Vertical\",\"Distortion\",\"64\",0.0029159999999999993],[\"Parade #191\",\"64\",\"Vertical\",\"Outlook\",\"32\",0.001202688],[\"Parade #190\",\"64\",\"Vertical\",\"Moment\",\"32\",0.001202688],[\"Parade #189\",\"4\",\"Vertical\",\"Journey\",\"128\",0.0009792000000000002],[\"Parade #188\",\"32\",\"Horizontal\",\"Journey\",\"128\",0.0003752],[\"Parade #187\",\"4\",\"Vertical\",\"Balance\",\"8\",0.0009596160000000002],[\"Parade #186\",\"16\",\"Vertical\",\"Mono Radiation\",\"32\",0.000497664],[\"Parade #185\",\"4\",\"Vertical\",\"Luminous\",\"16\",0.0015422399999999998],[\"Parade #184\",\"4\",\"Vertical\",\"Syncronize\",\"8\",0.0013708799999999999],[\"Parade #183\",\"4\",\"Vertical\",\"Outlook\",\"128\",0.00117504],[\"Parade #182\",\"16\",\"Vertical\",\"Appeal\",\"8\",0.00048384],[\"Parade #181\",\"32\",\"Vertical\",\"Nostalgia 1\",\"32\",0.001161216],[\"Parade #180\",\"1\",\"Vertical\",\"Syncronize\",\"8\",0.0018143999999999999],[\"Parade #219\",\"64\",\"Vertical\",\"Delve\",\"8\",1.4195999999999998e-07],[\"Parade #218\",\"16\",\"Vertical\",\"Optimism\",\"32\",5.0700000000000004e-08],[\"Parade #217\",\"128\",\"Vertical\",\"Royalty\",\"64\",1.4601599999999998e-07],[\"Parade #216\",\"4\",\"Vertical\",\"Moment\",\"64\",8.213399999999997e-08],[\"Parade #215\",\"16\",\"Horizontal\",\"Balance\",\"128\",4.056e-08],[\"Parade #214\",\"8\",\"Horizontal\",\"Strive\",\"64\",9.125999999999998e-09],[\"Parade #213\",\"64\",\"Vertical\",\"Concept\",\"64\",2.5552799999999996e-07],[\"Parade #212\",\"128\",\"Horizontal\",\"Balance\",\"64\",7.300799999999999e-08],[\"Parade #211\",\"32\",\"Vertical\",\"Appeal\",\"16\",7.098e-08],[\"Parade #210\",\"8\",\"Horizontal\",\"Radiate\",\"128\",0.0008442000000000001],[\"Parade #209\",\"1\",\"Vertical\",\"Parade\",\"128\",0.0018143999999999999],[\"Parade #208\",\"128\",\"Horizontal\",\"Royalty\",\"16\",0.00081405],[\"Parade #207\",\"128\",\"Vertical\",\"Syncronize\",\"128\",0.0017279999999999997],[\"Parade #206\",\"4\",\"Vertical\",\"Nostalgia 0\",\"64\",0.0024480000000000005],[\"Parade #205\",\"1\",\"Vertical\",\"Red Radiation\",\"16\",0.0011664],[\"Parade #204\",\"1\",\"Vertical\",\"Journey\",\"16\",0.0014579999999999997],[\"Parade #203\",\"4\",\"Vertical\",\"Royalty\",\"64\",0.0022032],[\"Parade #202\",\"128\",\"Horizontal\",\"Space\",\"16\",0.0010854],[\"Parade #201\",\"4\",\"Vertical\",\"Radiate\",\"32\",0.0035251199999999996],[\"Parade #200\",\"16\",\"Vertical\",\"Traverse\",\"16\",0.00108864],[\"Parade #239\",\"128\",\"Horizontal\",\"Distortion\",\"128\",3.244800000000001e-08],[\"Parade #238\",\"128\",\"Vertical\",\"Syncronize\",\"32\",8.112e-08],[\"Parade #237\",\"4\",\"Vertical\",\"Delve\",\"128\",2.9203199999999995e-07],[\"Parade #236\",\"64\",\"Vertical\",\"Wonder\",\"8\",7.097999999999999e-08],[\"Parade #235\",\"4\",\"Vertical\",\"Journey\",\"64\",8.213399999999997e-08],[\"Parade #234\",\"8\",\"Horizontal\",\"Radiate\",\"16\",7.098000000000002e-09],[\"Parade #233\",\"128\",\"Horizontal\",\"Delve\",\"16\",1.1356800000000003e-07],[\"Parade #232\",\"32\",\"Vertical\",\"Outlook\",\"32\",5.0700000000000004e-08],[\"Parade #231\",\"128\",\"Horizontal\",\"Cyan Radiation\",\"32\",4.056e-08],[\"Parade #230\",\"16\",\"Vertical\",\"Wonder\",\"8\",5.0700000000000004e-08],[\"Parade #229\",\"128\",\"Horizontal\",\"Interfere\",\"128\",6.489600000000001e-08],[\"Parade #228\",\"4\",\"Vertical\",\"Concept\",\"16\",2.55528e-07],[\"Parade #227\",\"1\",\"Vertical\",\"Resolve\",\"128\",4.8672e-08],[\"Parade #226\",\"32\",\"Vertical\",\"Luminous\",\"16\",1.0647000000000001e-07],[\"Parade #225\",\"1\",\"Vertical\",\"Concept\",\"8\",6.084000000000001e-08],[\"Parade #224\",\"4\",\"Vertical\",\"Delve\",\"32\",3.6503999999999994e-07],[\"Parade #223\",\"128\",\"Horizontal\",\"Expanse\",\"64\",3.6503999999999994e-08],[\"Parade #222\",\"4\",\"Vertical\",\"Nostalgia 0\",\"16\",6.388199999999999e-08],[\"Parade #221\",\"16\",\"Horizontal\",\"Luminous\",\"128\",6.084000000000001e-08],[\"Parade #220\",\"32\",\"Vertical\",\"Interfere\",\"64\",9.126e-08],[\"Parade #249\",\"4\",\"Vertical\",\"Nostalgia 1\",\"16\",1.27764e-07],[\"Parade #248\",\"32\",\"Horizontal\",\"Concept\",\"32\",1.0140000000000001e-07],[\"Parade #247\",\"16\",\"Horizontal\",\"Luminous\",\"32\",7.605e-08],[\"Parade #246\",\"64\",\"Vertical\",\"Royalty\",\"64\",1.2776399999999998e-07],[\"Parade #245\",\"64\",\"Horizontal\",\"Traverse\",\"32\",3.5489999999999996e-08],[\"Parade #244\",\"4\",\"Vertical\",\"Entropy\",\"32\",9.125999999999998e-08],[\"Parade #243\",\"64\",\"Vertical\",\"Resolve\",\"8\",7.097999999999999e-08],[\"Parade #242\",\"4\",\"Vertical\",\"Mono Radiation\",\"32\",9.125999999999998e-08],[\"Parade #241\",\"64\",\"Vertical\",\"Appeal\",\"128\",1.1356799999999999e-07],[\"Parade #240\",\"1\",\"Vertical\",\"Nostalgia 1\",\"128\",4.8672e-08]],\"hovertemplate\":\"Lastprice=%{x}<br>Name=%{customdata[0]}<br>Bar Count=%{customdata[1]}<br>Orientation=%{customdata[2]}<br>Palette=%{customdata[3]}<br>Segment Count=%{customdata[4]}<br>Probscore=%{customdata[5]}<extra></extra>\",\"legendgroup\":\"\",\"marker\":{\"color\":\"#636efa\"},\"name\":\"\",\"notched\":true,\"offsetgroup\":\"\",\"showlegend\":false,\"type\":\"box\",\"x\":[3.5,1.12,1.1,1.0,1.0,1.0,1.0,0.7,0.575,0.5,0.5,0.5,0.4,0.24,0.2,null,null,null,null,null,null,null,null,null,null,null,null,null,null,null,null,null,null,null,null,null,null,null,null,null,null,null,null,null,null,null,null,null,null,null,null,null,null,null,null,null,null,null,null,null,null,null,null,null,null,null,null,null,null,null,null,null,null,null,null,null,null,null,null,null,null,null,null,null,null,null,null,null,null,null,null,null,null,null,null,null,null,null,null,null,null,null,null,null,null,null,null,null,null,null,null,null,null,null,null,null,null,null,null,null,null,null,null,null,null,null,null,null,null,null,null,null,null,null,null,null,null,null,null,null,null,null,null,null,null,null,null,null,null,null,null,null,null,null,null,null,null,null,null,null,null,null,null,null,null,null,null,null,null,null,null,null,null,null,null,null,null,null,null,null,null,null,null,null,null,null,null,null,null,null,null,null,null,null,null,null,null,null,null,null,null,null,null,null,null,null,null,null,null,null,null,null,null,null,null,null,null,null,null,null,null,null,null,null,null,null,null,null,null,null,null,null,null,null,null,null,null,null,null,null,null,null,null,null,null,null,null,null,null,null],\"xaxis\":\"x2\",\"yaxis\":\"y2\"}],                        {\"barmode\":\"relative\",\"legend\":{\"tracegroupgap\":0},\"margin\":{\"t\":60},\"template\":{\"data\":{\"bar\":[{\"error_x\":{\"color\":\"#2a3f5f\"},\"error_y\":{\"color\":\"#2a3f5f\"},\"marker\":{\"line\":{\"color\":\"#E5ECF6\",\"width\":0.5},\"pattern\":{\"fillmode\":\"overlay\",\"size\":10,\"solidity\":0.2}},\"type\":\"bar\"}],\"barpolar\":[{\"marker\":{\"line\":{\"color\":\"#E5ECF6\",\"width\":0.5},\"pattern\":{\"fillmode\":\"overlay\",\"size\":10,\"solidity\":0.2}},\"type\":\"barpolar\"}],\"carpet\":[{\"aaxis\":{\"endlinecolor\":\"#2a3f5f\",\"gridcolor\":\"white\",\"linecolor\":\"white\",\"minorgridcolor\":\"white\",\"startlinecolor\":\"#2a3f5f\"},\"baxis\":{\"endlinecolor\":\"#2a3f5f\",\"gridcolor\":\"white\",\"linecolor\":\"white\",\"minorgridcolor\":\"white\",\"startlinecolor\":\"#2a3f5f\"},\"type\":\"carpet\"}],\"choropleth\":[{\"colorbar\":{\"outlinewidth\":0,\"ticks\":\"\"},\"type\":\"choropleth\"}],\"contour\":[{\"colorbar\":{\"outlinewidth\":0,\"ticks\":\"\"},\"colorscale\":[[0.0,\"#0d0887\"],[0.1111111111111111,\"#46039f\"],[0.2222222222222222,\"#7201a8\"],[0.3333333333333333,\"#9c179e\"],[0.4444444444444444,\"#bd3786\"],[0.5555555555555556,\"#d8576b\"],[0.6666666666666666,\"#ed7953\"],[0.7777777777777778,\"#fb9f3a\"],[0.8888888888888888,\"#fdca26\"],[1.0,\"#f0f921\"]],\"type\":\"contour\"}],\"contourcarpet\":[{\"colorbar\":{\"outlinewidth\":0,\"ticks\":\"\"},\"type\":\"contourcarpet\"}],\"heatmap\":[{\"colorbar\":{\"outlinewidth\":0,\"ticks\":\"\"},\"colorscale\":[[0.0,\"#0d0887\"],[0.1111111111111111,\"#46039f\"],[0.2222222222222222,\"#7201a8\"],[0.3333333333333333,\"#9c179e\"],[0.4444444444444444,\"#bd3786\"],[0.5555555555555556,\"#d8576b\"],[0.6666666666666666,\"#ed7953\"],[0.7777777777777778,\"#fb9f3a\"],[0.8888888888888888,\"#fdca26\"],[1.0,\"#f0f921\"]],\"type\":\"heatmap\"}],\"heatmapgl\":[{\"colorbar\":{\"outlinewidth\":0,\"ticks\":\"\"},\"colorscale\":[[0.0,\"#0d0887\"],[0.1111111111111111,\"#46039f\"],[0.2222222222222222,\"#7201a8\"],[0.3333333333333333,\"#9c179e\"],[0.4444444444444444,\"#bd3786\"],[0.5555555555555556,\"#d8576b\"],[0.6666666666666666,\"#ed7953\"],[0.7777777777777778,\"#fb9f3a\"],[0.8888888888888888,\"#fdca26\"],[1.0,\"#f0f921\"]],\"type\":\"heatmapgl\"}],\"histogram\":[{\"marker\":{\"pattern\":{\"fillmode\":\"overlay\",\"size\":10,\"solidity\":0.2}},\"type\":\"histogram\"}],\"histogram2d\":[{\"colorbar\":{\"outlinewidth\":0,\"ticks\":\"\"},\"colorscale\":[[0.0,\"#0d0887\"],[0.1111111111111111,\"#46039f\"],[0.2222222222222222,\"#7201a8\"],[0.3333333333333333,\"#9c179e\"],[0.4444444444444444,\"#bd3786\"],[0.5555555555555556,\"#d8576b\"],[0.6666666666666666,\"#ed7953\"],[0.7777777777777778,\"#fb9f3a\"],[0.8888888888888888,\"#fdca26\"],[1.0,\"#f0f921\"]],\"type\":\"histogram2d\"}],\"histogram2dcontour\":[{\"colorbar\":{\"outlinewidth\":0,\"ticks\":\"\"},\"colorscale\":[[0.0,\"#0d0887\"],[0.1111111111111111,\"#46039f\"],[0.2222222222222222,\"#7201a8\"],[0.3333333333333333,\"#9c179e\"],[0.4444444444444444,\"#bd3786\"],[0.5555555555555556,\"#d8576b\"],[0.6666666666666666,\"#ed7953\"],[0.7777777777777778,\"#fb9f3a\"],[0.8888888888888888,\"#fdca26\"],[1.0,\"#f0f921\"]],\"type\":\"histogram2dcontour\"}],\"mesh3d\":[{\"colorbar\":{\"outlinewidth\":0,\"ticks\":\"\"},\"type\":\"mesh3d\"}],\"parcoords\":[{\"line\":{\"colorbar\":{\"outlinewidth\":0,\"ticks\":\"\"}},\"type\":\"parcoords\"}],\"pie\":[{\"automargin\":true,\"type\":\"pie\"}],\"scatter\":[{\"marker\":{\"colorbar\":{\"outlinewidth\":0,\"ticks\":\"\"}},\"type\":\"scatter\"}],\"scatter3d\":[{\"line\":{\"colorbar\":{\"outlinewidth\":0,\"ticks\":\"\"}},\"marker\":{\"colorbar\":{\"outlinewidth\":0,\"ticks\":\"\"}},\"type\":\"scatter3d\"}],\"scattercarpet\":[{\"marker\":{\"colorbar\":{\"outlinewidth\":0,\"ticks\":\"\"}},\"type\":\"scattercarpet\"}],\"scattergeo\":[{\"marker\":{\"colorbar\":{\"outlinewidth\":0,\"ticks\":\"\"}},\"type\":\"scattergeo\"}],\"scattergl\":[{\"marker\":{\"colorbar\":{\"outlinewidth\":0,\"ticks\":\"\"}},\"type\":\"scattergl\"}],\"scattermapbox\":[{\"marker\":{\"colorbar\":{\"outlinewidth\":0,\"ticks\":\"\"}},\"type\":\"scattermapbox\"}],\"scatterpolar\":[{\"marker\":{\"colorbar\":{\"outlinewidth\":0,\"ticks\":\"\"}},\"type\":\"scatterpolar\"}],\"scatterpolargl\":[{\"marker\":{\"colorbar\":{\"outlinewidth\":0,\"ticks\":\"\"}},\"type\":\"scatterpolargl\"}],\"scatterternary\":[{\"marker\":{\"colorbar\":{\"outlinewidth\":0,\"ticks\":\"\"}},\"type\":\"scatterternary\"}],\"surface\":[{\"colorbar\":{\"outlinewidth\":0,\"ticks\":\"\"},\"colorscale\":[[0.0,\"#0d0887\"],[0.1111111111111111,\"#46039f\"],[0.2222222222222222,\"#7201a8\"],[0.3333333333333333,\"#9c179e\"],[0.4444444444444444,\"#bd3786\"],[0.5555555555555556,\"#d8576b\"],[0.6666666666666666,\"#ed7953\"],[0.7777777777777778,\"#fb9f3a\"],[0.8888888888888888,\"#fdca26\"],[1.0,\"#f0f921\"]],\"type\":\"surface\"}],\"table\":[{\"cells\":{\"fill\":{\"color\":\"#EBF0F8\"},\"line\":{\"color\":\"white\"}},\"header\":{\"fill\":{\"color\":\"#C8D4E3\"},\"line\":{\"color\":\"white\"}},\"type\":\"table\"}]},\"layout\":{\"annotationdefaults\":{\"arrowcolor\":\"#2a3f5f\",\"arrowhead\":0,\"arrowwidth\":1},\"autotypenumbers\":\"strict\",\"coloraxis\":{\"colorbar\":{\"outlinewidth\":0,\"ticks\":\"\"}},\"colorscale\":{\"diverging\":[[0,\"#8e0152\"],[0.1,\"#c51b7d\"],[0.2,\"#de77ae\"],[0.3,\"#f1b6da\"],[0.4,\"#fde0ef\"],[0.5,\"#f7f7f7\"],[0.6,\"#e6f5d0\"],[0.7,\"#b8e186\"],[0.8,\"#7fbc41\"],[0.9,\"#4d9221\"],[1,\"#276419\"]],\"sequential\":[[0.0,\"#0d0887\"],[0.1111111111111111,\"#46039f\"],[0.2222222222222222,\"#7201a8\"],[0.3333333333333333,\"#9c179e\"],[0.4444444444444444,\"#bd3786\"],[0.5555555555555556,\"#d8576b\"],[0.6666666666666666,\"#ed7953\"],[0.7777777777777778,\"#fb9f3a\"],[0.8888888888888888,\"#fdca26\"],[1.0,\"#f0f921\"]],\"sequentialminus\":[[0.0,\"#0d0887\"],[0.1111111111111111,\"#46039f\"],[0.2222222222222222,\"#7201a8\"],[0.3333333333333333,\"#9c179e\"],[0.4444444444444444,\"#bd3786\"],[0.5555555555555556,\"#d8576b\"],[0.6666666666666666,\"#ed7953\"],[0.7777777777777778,\"#fb9f3a\"],[0.8888888888888888,\"#fdca26\"],[1.0,\"#f0f921\"]]},\"colorway\":[\"#636efa\",\"#EF553B\",\"#00cc96\",\"#ab63fa\",\"#FFA15A\",\"#19d3f3\",\"#FF6692\",\"#B6E880\",\"#FF97FF\",\"#FECB52\"],\"font\":{\"color\":\"#2a3f5f\"},\"geo\":{\"bgcolor\":\"white\",\"lakecolor\":\"white\",\"landcolor\":\"#E5ECF6\",\"showlakes\":true,\"showland\":true,\"subunitcolor\":\"white\"},\"hoverlabel\":{\"align\":\"left\"},\"hovermode\":\"closest\",\"mapbox\":{\"style\":\"light\"},\"paper_bgcolor\":\"white\",\"plot_bgcolor\":\"#E5ECF6\",\"polar\":{\"angularaxis\":{\"gridcolor\":\"white\",\"linecolor\":\"white\",\"ticks\":\"\"},\"bgcolor\":\"#E5ECF6\",\"radialaxis\":{\"gridcolor\":\"white\",\"linecolor\":\"white\",\"ticks\":\"\"}},\"scene\":{\"xaxis\":{\"backgroundcolor\":\"#E5ECF6\",\"gridcolor\":\"white\",\"gridwidth\":2,\"linecolor\":\"white\",\"showbackground\":true,\"ticks\":\"\",\"zerolinecolor\":\"white\"},\"yaxis\":{\"backgroundcolor\":\"#E5ECF6\",\"gridcolor\":\"white\",\"gridwidth\":2,\"linecolor\":\"white\",\"showbackground\":true,\"ticks\":\"\",\"zerolinecolor\":\"white\"},\"zaxis\":{\"backgroundcolor\":\"#E5ECF6\",\"gridcolor\":\"white\",\"gridwidth\":2,\"linecolor\":\"white\",\"showbackground\":true,\"ticks\":\"\",\"zerolinecolor\":\"white\"}},\"shapedefaults\":{\"line\":{\"color\":\"#2a3f5f\"}},\"ternary\":{\"aaxis\":{\"gridcolor\":\"white\",\"linecolor\":\"white\",\"ticks\":\"\"},\"baxis\":{\"gridcolor\":\"white\",\"linecolor\":\"white\",\"ticks\":\"\"},\"bgcolor\":\"#E5ECF6\",\"caxis\":{\"gridcolor\":\"white\",\"linecolor\":\"white\",\"ticks\":\"\"}},\"title\":{\"x\":0.05},\"xaxis\":{\"automargin\":true,\"gridcolor\":\"white\",\"linecolor\":\"white\",\"ticks\":\"\",\"title\":{\"standoff\":15},\"zerolinecolor\":\"white\",\"zerolinewidth\":2},\"yaxis\":{\"automargin\":true,\"gridcolor\":\"white\",\"linecolor\":\"white\",\"ticks\":\"\",\"title\":{\"standoff\":15},\"zerolinecolor\":\"white\",\"zerolinewidth\":2}}},\"xaxis\":{\"anchor\":\"y\",\"domain\":[0.0,1.0],\"title\":{\"text\":\"Lastprice\"}},\"xaxis2\":{\"anchor\":\"y2\",\"domain\":[0.0,1.0],\"matches\":\"x\",\"showgrid\":true,\"showticklabels\":false},\"yaxis\":{\"anchor\":\"x\",\"domain\":[0.0,0.8316],\"title\":{\"text\":\"count\"}},\"yaxis2\":{\"anchor\":\"x2\",\"domain\":[0.8416,1.0],\"matches\":\"y2\",\"showgrid\":false,\"showline\":false,\"showticklabels\":false,\"ticks\":\"\"}},                        {\"responsive\": true}                    ).then(function(){\n",
       "                            \n",
       "var gd = document.getElementById('5d115149-f03d-46c0-b805-c8d610b18c43');\n",
       "var x = new MutationObserver(function (mutations, observer) {{\n",
       "        var display = window.getComputedStyle(gd).display;\n",
       "        if (!display || display === 'none') {{\n",
       "            console.log([gd, 'removed!']);\n",
       "            Plotly.purge(gd);\n",
       "            observer.disconnect();\n",
       "        }}\n",
       "}});\n",
       "\n",
       "// Listen for the removal of the full notebook cells\n",
       "var notebookContainer = gd.closest('#notebook-container');\n",
       "if (notebookContainer) {{\n",
       "    x.observe(notebookContainer, {childList: true});\n",
       "}}\n",
       "\n",
       "// Listen for the clearing of the current output cell\n",
       "var outputEl = gd.closest('.output');\n",
       "if (outputEl) {{\n",
       "    x.observe(outputEl, {childList: true});\n",
       "}}\n",
       "\n",
       "                        })                };                });            </script>        </div>"
      ]
     },
     "metadata": {},
     "output_type": "display_data"
    }
   ],
   "source": [
    "fig = px.histogram(df, x=\"Lastprice\", marginal=\"box\", hover_data=hoverdata)\n",
    "fig.show()"
   ]
  },
  {
   "cell_type": "markdown",
   "metadata": {},
   "source": [
    "## How frequent are the different traits?"
   ]
  },
  {
   "cell_type": "code",
   "execution_count": 9,
   "metadata": {},
   "outputs": [
    {
     "data": {
      "text/html": [
       "<div>\n",
       "<style scoped>\n",
       "    .dataframe tbody tr th:only-of-type {\n",
       "        vertical-align: middle;\n",
       "    }\n",
       "\n",
       "    .dataframe tbody tr th {\n",
       "        vertical-align: top;\n",
       "    }\n",
       "\n",
       "    .dataframe thead th {\n",
       "        text-align: right;\n",
       "    }\n",
       "</style>\n",
       "<table border=\"1\" class=\"dataframe\">\n",
       "  <thead>\n",
       "    <tr style=\"text-align: right;\">\n",
       "      <th></th>\n",
       "      <th>8</th>\n",
       "      <th>16</th>\n",
       "      <th>32</th>\n",
       "      <th>64</th>\n",
       "      <th>128</th>\n",
       "      <th>4</th>\n",
       "      <th>1</th>\n",
       "    </tr>\n",
       "  </thead>\n",
       "  <tbody>\n",
       "    <tr>\n",
       "      <th>Bar Count</th>\n",
       "      <td>23</td>\n",
       "      <td>29</td>\n",
       "      <td>33</td>\n",
       "      <td>36</td>\n",
       "      <td>38</td>\n",
       "      <td>43</td>\n",
       "      <td>48</td>\n",
       "    </tr>\n",
       "  </tbody>\n",
       "</table>\n",
       "</div>"
      ],
      "text/plain": [
       "            8  16  32  64  128   4   1\n",
       "Bar Count  23  29  33  36   38  43  48"
      ]
     },
     "metadata": {},
     "output_type": "display_data"
    },
    {
     "data": {
      "text/html": [
       "<div>\n",
       "<style scoped>\n",
       "    .dataframe tbody tr th:only-of-type {\n",
       "        vertical-align: middle;\n",
       "    }\n",
       "\n",
       "    .dataframe tbody tr th {\n",
       "        vertical-align: top;\n",
       "    }\n",
       "\n",
       "    .dataframe thead th {\n",
       "        text-align: right;\n",
       "    }\n",
       "</style>\n",
       "<table border=\"1\" class=\"dataframe\">\n",
       "  <thead>\n",
       "    <tr style=\"text-align: right;\">\n",
       "      <th></th>\n",
       "      <th>Horizontal</th>\n",
       "      <th>Vertical</th>\n",
       "    </tr>\n",
       "  </thead>\n",
       "  <tbody>\n",
       "    <tr>\n",
       "      <th>Orientation</th>\n",
       "      <td>80</td>\n",
       "      <td>170</td>\n",
       "    </tr>\n",
       "  </tbody>\n",
       "</table>\n",
       "</div>"
      ],
      "text/plain": [
       "             Horizontal  Vertical\n",
       "Orientation          80       170"
      ]
     },
     "metadata": {},
     "output_type": "display_data"
    },
    {
     "data": {
      "text/html": [
       "<div>\n",
       "<style scoped>\n",
       "    .dataframe tbody tr th:only-of-type {\n",
       "        vertical-align: middle;\n",
       "    }\n",
       "\n",
       "    .dataframe tbody tr th {\n",
       "        vertical-align: top;\n",
       "    }\n",
       "\n",
       "    .dataframe thead th {\n",
       "        text-align: right;\n",
       "    }\n",
       "</style>\n",
       "<table border=\"1\" class=\"dataframe\">\n",
       "  <thead>\n",
       "    <tr style=\"text-align: right;\">\n",
       "      <th></th>\n",
       "      <th>Magenta Radiation</th>\n",
       "      <th>Blue Radiation</th>\n",
       "      <th>Green Radiation</th>\n",
       "      <th>Yellow Radiation</th>\n",
       "      <th>Cyan Radiation</th>\n",
       "      <th>Enhance</th>\n",
       "      <th>Precision</th>\n",
       "      <th>Spectrum</th>\n",
       "      <th>Red Radiation</th>\n",
       "      <th>Entropy</th>\n",
       "      <th>...</th>\n",
       "      <th>Luminous</th>\n",
       "      <th>Distortion</th>\n",
       "      <th>Royalty</th>\n",
       "      <th>Syncronize</th>\n",
       "      <th>Nostalgia 0</th>\n",
       "      <th>Space</th>\n",
       "      <th>Wonder</th>\n",
       "      <th>Interfere</th>\n",
       "      <th>Radiate</th>\n",
       "      <th>Delve</th>\n",
       "    </tr>\n",
       "  </thead>\n",
       "  <tbody>\n",
       "    <tr>\n",
       "      <th>Palette</th>\n",
       "      <td>1</td>\n",
       "      <td>1</td>\n",
       "      <td>1</td>\n",
       "      <td>1</td>\n",
       "      <td>2</td>\n",
       "      <td>2</td>\n",
       "      <td>2</td>\n",
       "      <td>3</td>\n",
       "      <td>4</td>\n",
       "      <td>4</td>\n",
       "      <td>...</td>\n",
       "      <td>10</td>\n",
       "      <td>10</td>\n",
       "      <td>11</td>\n",
       "      <td>11</td>\n",
       "      <td>11</td>\n",
       "      <td>12</td>\n",
       "      <td>12</td>\n",
       "      <td>13</td>\n",
       "      <td>16</td>\n",
       "      <td>19</td>\n",
       "    </tr>\n",
       "  </tbody>\n",
       "</table>\n",
       "<p>1 rows × 34 columns</p>\n",
       "</div>"
      ],
      "text/plain": [
       "         Magenta Radiation  Blue Radiation  Green Radiation  Yellow Radiation  \\\n",
       "Palette                  1               1                1                 1   \n",
       "\n",
       "         Cyan Radiation  Enhance  Precision  Spectrum  Red Radiation  Entropy  \\\n",
       "Palette               2        2          2         3              4        4   \n",
       "\n",
       "         ...  Luminous  Distortion  Royalty  Syncronize  Nostalgia 0  Space  \\\n",
       "Palette  ...        10          10       11          11           11     12   \n",
       "\n",
       "         Wonder  Interfere  Radiate  Delve  \n",
       "Palette      12         13       16     19  \n",
       "\n",
       "[1 rows x 34 columns]"
      ]
     },
     "metadata": {},
     "output_type": "display_data"
    },
    {
     "data": {
      "text/html": [
       "<div>\n",
       "<style scoped>\n",
       "    .dataframe tbody tr th:only-of-type {\n",
       "        vertical-align: middle;\n",
       "    }\n",
       "\n",
       "    .dataframe tbody tr th {\n",
       "        vertical-align: top;\n",
       "    }\n",
       "\n",
       "    .dataframe thead th {\n",
       "        text-align: right;\n",
       "    }\n",
       "</style>\n",
       "<table border=\"1\" class=\"dataframe\">\n",
       "  <thead>\n",
       "    <tr style=\"text-align: right;\">\n",
       "      <th></th>\n",
       "      <th>8</th>\n",
       "      <th>128</th>\n",
       "      <th>16</th>\n",
       "      <th>32</th>\n",
       "      <th>64</th>\n",
       "    </tr>\n",
       "  </thead>\n",
       "  <tbody>\n",
       "    <tr>\n",
       "      <th>Segment Count</th>\n",
       "      <td>33</td>\n",
       "      <td>48</td>\n",
       "      <td>52</td>\n",
       "      <td>58</td>\n",
       "      <td>59</td>\n",
       "    </tr>\n",
       "  </tbody>\n",
       "</table>\n",
       "</div>"
      ],
      "text/plain": [
       "                8  128  16  32  64\n",
       "Segment Count  33   48  52  58  59"
      ]
     },
     "metadata": {},
     "output_type": "display_data"
    }
   ],
   "source": [
    "for trait in traits:\n",
    "    display(\n",
    "        pd.DataFrame(df[trait].value_counts(normalize=False, sort=True, ascending=True)).transpose()\n",
    "    )\n"
   ]
  },
  {
   "cell_type": "markdown",
   "metadata": {},
   "source": [
    "## How much do people pay for the different traits?"
   ]
  },
  {
   "cell_type": "code",
   "execution_count": 10,
   "metadata": {},
   "outputs": [
    {
     "data": {
      "text/html": [
       "<div>                            <div id=\"2b1f18be-856d-46df-a7c5-f1c4f50d6e52\" class=\"plotly-graph-div\" style=\"height:525px; width:100%;\"></div>            <script type=\"text/javascript\">                require([\"plotly\"], function(Plotly) {                    window.PLOTLYENV=window.PLOTLYENV || {};                                    if (document.getElementById(\"2b1f18be-856d-46df-a7c5-f1c4f50d6e52\")) {                    Plotly.newPlot(                        \"2b1f18be-856d-46df-a7c5-f1c4f50d6e52\",                        [{\"boxpoints\":\"all\",\"jitter\":0.2,\"line\":{\"width\":1},\"marker\":{\"size\":2},\"name\":\"64\",\"type\":\"box\",\"whiskerwidth\":0.2,\"y\":[3.5,1.1,0.5,null,null,null,null,null,null,null,null,null,null,null,null,null,null,null,null,null,null,null,null,null,null,null,null,null,null,null,null,null,null,null,null,null]},{\"boxpoints\":\"all\",\"jitter\":0.2,\"line\":{\"width\":1},\"marker\":{\"size\":2},\"name\":\"1\",\"type\":\"box\",\"whiskerwidth\":0.2,\"y\":[1.0,null,null,null,null,null,null,null,null,null,null,null,null,null,null,null,null,null,null,null,null,null,null,null,null,null,null,null,null,null,null,null,null,null,null,null,null,null,null,null,null,null,null,null,null,null,null,null]},{\"boxpoints\":\"all\",\"jitter\":0.2,\"line\":{\"width\":1},\"marker\":{\"size\":2},\"name\":\"16\",\"type\":\"box\",\"whiskerwidth\":0.2,\"y\":[1.12,1.0,0.5,null,null,null,null,null,null,null,null,null,null,null,null,null,null,null,null,null,null,null,null,null,null,null,null,null,null]},{\"boxpoints\":\"all\",\"jitter\":0.2,\"line\":{\"width\":1},\"marker\":{\"size\":2},\"name\":\"32\",\"type\":\"box\",\"whiskerwidth\":0.2,\"y\":[1.0,0.7,null,null,null,null,null,null,null,null,null,null,null,null,null,null,null,null,null,null,null,null,null,null,null,null,null,null,null,null,null,null,null]},{\"boxpoints\":\"all\",\"jitter\":0.2,\"line\":{\"width\":1},\"marker\":{\"size\":2},\"name\":\"8\",\"type\":\"box\",\"whiskerwidth\":0.2,\"y\":[0.5,null,null,null,null,null,null,null,null,null,null,null,null,null,null,null,null,null,null,null,null,null,null]},{\"boxpoints\":\"all\",\"jitter\":0.2,\"line\":{\"width\":1},\"marker\":{\"size\":2},\"name\":\"128\",\"type\":\"box\",\"whiskerwidth\":0.2,\"y\":[0.575,0.4,null,null,null,null,null,null,null,null,null,null,null,null,null,null,null,null,null,null,null,null,null,null,null,null,null,null,null,null,null,null,null,null,null,null,null,null]},{\"boxpoints\":\"all\",\"jitter\":0.2,\"line\":{\"width\":1},\"marker\":{\"size\":2},\"name\":\"4\",\"type\":\"box\",\"whiskerwidth\":0.2,\"y\":[1.0,0.24,0.2,null,null,null,null,null,null,null,null,null,null,null,null,null,null,null,null,null,null,null,null,null,null,null,null,null,null,null,null,null,null,null,null,null,null,null,null,null,null,null,null]}],                        {\"template\":{\"data\":{\"bar\":[{\"error_x\":{\"color\":\"#2a3f5f\"},\"error_y\":{\"color\":\"#2a3f5f\"},\"marker\":{\"line\":{\"color\":\"#E5ECF6\",\"width\":0.5},\"pattern\":{\"fillmode\":\"overlay\",\"size\":10,\"solidity\":0.2}},\"type\":\"bar\"}],\"barpolar\":[{\"marker\":{\"line\":{\"color\":\"#E5ECF6\",\"width\":0.5},\"pattern\":{\"fillmode\":\"overlay\",\"size\":10,\"solidity\":0.2}},\"type\":\"barpolar\"}],\"carpet\":[{\"aaxis\":{\"endlinecolor\":\"#2a3f5f\",\"gridcolor\":\"white\",\"linecolor\":\"white\",\"minorgridcolor\":\"white\",\"startlinecolor\":\"#2a3f5f\"},\"baxis\":{\"endlinecolor\":\"#2a3f5f\",\"gridcolor\":\"white\",\"linecolor\":\"white\",\"minorgridcolor\":\"white\",\"startlinecolor\":\"#2a3f5f\"},\"type\":\"carpet\"}],\"choropleth\":[{\"colorbar\":{\"outlinewidth\":0,\"ticks\":\"\"},\"type\":\"choropleth\"}],\"contour\":[{\"colorbar\":{\"outlinewidth\":0,\"ticks\":\"\"},\"colorscale\":[[0.0,\"#0d0887\"],[0.1111111111111111,\"#46039f\"],[0.2222222222222222,\"#7201a8\"],[0.3333333333333333,\"#9c179e\"],[0.4444444444444444,\"#bd3786\"],[0.5555555555555556,\"#d8576b\"],[0.6666666666666666,\"#ed7953\"],[0.7777777777777778,\"#fb9f3a\"],[0.8888888888888888,\"#fdca26\"],[1.0,\"#f0f921\"]],\"type\":\"contour\"}],\"contourcarpet\":[{\"colorbar\":{\"outlinewidth\":0,\"ticks\":\"\"},\"type\":\"contourcarpet\"}],\"heatmap\":[{\"colorbar\":{\"outlinewidth\":0,\"ticks\":\"\"},\"colorscale\":[[0.0,\"#0d0887\"],[0.1111111111111111,\"#46039f\"],[0.2222222222222222,\"#7201a8\"],[0.3333333333333333,\"#9c179e\"],[0.4444444444444444,\"#bd3786\"],[0.5555555555555556,\"#d8576b\"],[0.6666666666666666,\"#ed7953\"],[0.7777777777777778,\"#fb9f3a\"],[0.8888888888888888,\"#fdca26\"],[1.0,\"#f0f921\"]],\"type\":\"heatmap\"}],\"heatmapgl\":[{\"colorbar\":{\"outlinewidth\":0,\"ticks\":\"\"},\"colorscale\":[[0.0,\"#0d0887\"],[0.1111111111111111,\"#46039f\"],[0.2222222222222222,\"#7201a8\"],[0.3333333333333333,\"#9c179e\"],[0.4444444444444444,\"#bd3786\"],[0.5555555555555556,\"#d8576b\"],[0.6666666666666666,\"#ed7953\"],[0.7777777777777778,\"#fb9f3a\"],[0.8888888888888888,\"#fdca26\"],[1.0,\"#f0f921\"]],\"type\":\"heatmapgl\"}],\"histogram\":[{\"marker\":{\"pattern\":{\"fillmode\":\"overlay\",\"size\":10,\"solidity\":0.2}},\"type\":\"histogram\"}],\"histogram2d\":[{\"colorbar\":{\"outlinewidth\":0,\"ticks\":\"\"},\"colorscale\":[[0.0,\"#0d0887\"],[0.1111111111111111,\"#46039f\"],[0.2222222222222222,\"#7201a8\"],[0.3333333333333333,\"#9c179e\"],[0.4444444444444444,\"#bd3786\"],[0.5555555555555556,\"#d8576b\"],[0.6666666666666666,\"#ed7953\"],[0.7777777777777778,\"#fb9f3a\"],[0.8888888888888888,\"#fdca26\"],[1.0,\"#f0f921\"]],\"type\":\"histogram2d\"}],\"histogram2dcontour\":[{\"colorbar\":{\"outlinewidth\":0,\"ticks\":\"\"},\"colorscale\":[[0.0,\"#0d0887\"],[0.1111111111111111,\"#46039f\"],[0.2222222222222222,\"#7201a8\"],[0.3333333333333333,\"#9c179e\"],[0.4444444444444444,\"#bd3786\"],[0.5555555555555556,\"#d8576b\"],[0.6666666666666666,\"#ed7953\"],[0.7777777777777778,\"#fb9f3a\"],[0.8888888888888888,\"#fdca26\"],[1.0,\"#f0f921\"]],\"type\":\"histogram2dcontour\"}],\"mesh3d\":[{\"colorbar\":{\"outlinewidth\":0,\"ticks\":\"\"},\"type\":\"mesh3d\"}],\"parcoords\":[{\"line\":{\"colorbar\":{\"outlinewidth\":0,\"ticks\":\"\"}},\"type\":\"parcoords\"}],\"pie\":[{\"automargin\":true,\"type\":\"pie\"}],\"scatter\":[{\"marker\":{\"colorbar\":{\"outlinewidth\":0,\"ticks\":\"\"}},\"type\":\"scatter\"}],\"scatter3d\":[{\"line\":{\"colorbar\":{\"outlinewidth\":0,\"ticks\":\"\"}},\"marker\":{\"colorbar\":{\"outlinewidth\":0,\"ticks\":\"\"}},\"type\":\"scatter3d\"}],\"scattercarpet\":[{\"marker\":{\"colorbar\":{\"outlinewidth\":0,\"ticks\":\"\"}},\"type\":\"scattercarpet\"}],\"scattergeo\":[{\"marker\":{\"colorbar\":{\"outlinewidth\":0,\"ticks\":\"\"}},\"type\":\"scattergeo\"}],\"scattergl\":[{\"marker\":{\"colorbar\":{\"outlinewidth\":0,\"ticks\":\"\"}},\"type\":\"scattergl\"}],\"scattermapbox\":[{\"marker\":{\"colorbar\":{\"outlinewidth\":0,\"ticks\":\"\"}},\"type\":\"scattermapbox\"}],\"scatterpolar\":[{\"marker\":{\"colorbar\":{\"outlinewidth\":0,\"ticks\":\"\"}},\"type\":\"scatterpolar\"}],\"scatterpolargl\":[{\"marker\":{\"colorbar\":{\"outlinewidth\":0,\"ticks\":\"\"}},\"type\":\"scatterpolargl\"}],\"scatterternary\":[{\"marker\":{\"colorbar\":{\"outlinewidth\":0,\"ticks\":\"\"}},\"type\":\"scatterternary\"}],\"surface\":[{\"colorbar\":{\"outlinewidth\":0,\"ticks\":\"\"},\"colorscale\":[[0.0,\"#0d0887\"],[0.1111111111111111,\"#46039f\"],[0.2222222222222222,\"#7201a8\"],[0.3333333333333333,\"#9c179e\"],[0.4444444444444444,\"#bd3786\"],[0.5555555555555556,\"#d8576b\"],[0.6666666666666666,\"#ed7953\"],[0.7777777777777778,\"#fb9f3a\"],[0.8888888888888888,\"#fdca26\"],[1.0,\"#f0f921\"]],\"type\":\"surface\"}],\"table\":[{\"cells\":{\"fill\":{\"color\":\"#EBF0F8\"},\"line\":{\"color\":\"white\"}},\"header\":{\"fill\":{\"color\":\"#C8D4E3\"},\"line\":{\"color\":\"white\"}},\"type\":\"table\"}]},\"layout\":{\"annotationdefaults\":{\"arrowcolor\":\"#2a3f5f\",\"arrowhead\":0,\"arrowwidth\":1},\"autotypenumbers\":\"strict\",\"coloraxis\":{\"colorbar\":{\"outlinewidth\":0,\"ticks\":\"\"}},\"colorscale\":{\"diverging\":[[0,\"#8e0152\"],[0.1,\"#c51b7d\"],[0.2,\"#de77ae\"],[0.3,\"#f1b6da\"],[0.4,\"#fde0ef\"],[0.5,\"#f7f7f7\"],[0.6,\"#e6f5d0\"],[0.7,\"#b8e186\"],[0.8,\"#7fbc41\"],[0.9,\"#4d9221\"],[1,\"#276419\"]],\"sequential\":[[0.0,\"#0d0887\"],[0.1111111111111111,\"#46039f\"],[0.2222222222222222,\"#7201a8\"],[0.3333333333333333,\"#9c179e\"],[0.4444444444444444,\"#bd3786\"],[0.5555555555555556,\"#d8576b\"],[0.6666666666666666,\"#ed7953\"],[0.7777777777777778,\"#fb9f3a\"],[0.8888888888888888,\"#fdca26\"],[1.0,\"#f0f921\"]],\"sequentialminus\":[[0.0,\"#0d0887\"],[0.1111111111111111,\"#46039f\"],[0.2222222222222222,\"#7201a8\"],[0.3333333333333333,\"#9c179e\"],[0.4444444444444444,\"#bd3786\"],[0.5555555555555556,\"#d8576b\"],[0.6666666666666666,\"#ed7953\"],[0.7777777777777778,\"#fb9f3a\"],[0.8888888888888888,\"#fdca26\"],[1.0,\"#f0f921\"]]},\"colorway\":[\"#636efa\",\"#EF553B\",\"#00cc96\",\"#ab63fa\",\"#FFA15A\",\"#19d3f3\",\"#FF6692\",\"#B6E880\",\"#FF97FF\",\"#FECB52\"],\"font\":{\"color\":\"#2a3f5f\"},\"geo\":{\"bgcolor\":\"white\",\"lakecolor\":\"white\",\"landcolor\":\"#E5ECF6\",\"showlakes\":true,\"showland\":true,\"subunitcolor\":\"white\"},\"hoverlabel\":{\"align\":\"left\"},\"hovermode\":\"closest\",\"mapbox\":{\"style\":\"light\"},\"paper_bgcolor\":\"white\",\"plot_bgcolor\":\"#E5ECF6\",\"polar\":{\"angularaxis\":{\"gridcolor\":\"white\",\"linecolor\":\"white\",\"ticks\":\"\"},\"bgcolor\":\"#E5ECF6\",\"radialaxis\":{\"gridcolor\":\"white\",\"linecolor\":\"white\",\"ticks\":\"\"}},\"scene\":{\"xaxis\":{\"backgroundcolor\":\"#E5ECF6\",\"gridcolor\":\"white\",\"gridwidth\":2,\"linecolor\":\"white\",\"showbackground\":true,\"ticks\":\"\",\"zerolinecolor\":\"white\"},\"yaxis\":{\"backgroundcolor\":\"#E5ECF6\",\"gridcolor\":\"white\",\"gridwidth\":2,\"linecolor\":\"white\",\"showbackground\":true,\"ticks\":\"\",\"zerolinecolor\":\"white\"},\"zaxis\":{\"backgroundcolor\":\"#E5ECF6\",\"gridcolor\":\"white\",\"gridwidth\":2,\"linecolor\":\"white\",\"showbackground\":true,\"ticks\":\"\",\"zerolinecolor\":\"white\"}},\"shapedefaults\":{\"line\":{\"color\":\"#2a3f5f\"}},\"ternary\":{\"aaxis\":{\"gridcolor\":\"white\",\"linecolor\":\"white\",\"ticks\":\"\"},\"baxis\":{\"gridcolor\":\"white\",\"linecolor\":\"white\",\"ticks\":\"\"},\"bgcolor\":\"#E5ECF6\",\"caxis\":{\"gridcolor\":\"white\",\"linecolor\":\"white\",\"ticks\":\"\"}},\"title\":{\"x\":0.05},\"xaxis\":{\"automargin\":true,\"gridcolor\":\"white\",\"linecolor\":\"white\",\"ticks\":\"\",\"title\":{\"standoff\":15},\"zerolinecolor\":\"white\",\"zerolinewidth\":2},\"yaxis\":{\"automargin\":true,\"gridcolor\":\"white\",\"linecolor\":\"white\",\"ticks\":\"\",\"title\":{\"standoff\":15},\"zerolinecolor\":\"white\",\"zerolinewidth\":2}}},\"title\":{\"text\":\"Bar Count\"}},                        {\"responsive\": true}                    ).then(function(){\n",
       "                            \n",
       "var gd = document.getElementById('2b1f18be-856d-46df-a7c5-f1c4f50d6e52');\n",
       "var x = new MutationObserver(function (mutations, observer) {{\n",
       "        var display = window.getComputedStyle(gd).display;\n",
       "        if (!display || display === 'none') {{\n",
       "            console.log([gd, 'removed!']);\n",
       "            Plotly.purge(gd);\n",
       "            observer.disconnect();\n",
       "        }}\n",
       "}});\n",
       "\n",
       "// Listen for the removal of the full notebook cells\n",
       "var notebookContainer = gd.closest('#notebook-container');\n",
       "if (notebookContainer) {{\n",
       "    x.observe(notebookContainer, {childList: true});\n",
       "}}\n",
       "\n",
       "// Listen for the clearing of the current output cell\n",
       "var outputEl = gd.closest('.output');\n",
       "if (outputEl) {{\n",
       "    x.observe(outputEl, {childList: true});\n",
       "}}\n",
       "\n",
       "                        })                };                });            </script>        </div>"
      ]
     },
     "metadata": {},
     "output_type": "display_data"
    },
    {
     "data": {
      "text/html": [
       "<div>                            <div id=\"5a856f45-18bc-4473-8ae4-57deea5796a1\" class=\"plotly-graph-div\" style=\"height:525px; width:100%;\"></div>            <script type=\"text/javascript\">                require([\"plotly\"], function(Plotly) {                    window.PLOTLYENV=window.PLOTLYENV || {};                                    if (document.getElementById(\"5a856f45-18bc-4473-8ae4-57deea5796a1\")) {                    Plotly.newPlot(                        \"5a856f45-18bc-4473-8ae4-57deea5796a1\",                        [{\"boxpoints\":\"all\",\"jitter\":0.2,\"line\":{\"width\":1},\"marker\":{\"size\":2},\"name\":\"Horizontal\",\"type\":\"box\",\"whiskerwidth\":0.2,\"y\":[3.5,1.12,0.5,0.5,null,null,null,null,null,null,null,null,null,null,null,null,null,null,null,null,null,null,null,null,null,null,null,null,null,null,null,null,null,null,null,null,null,null,null,null,null,null,null,null,null,null,null,null,null,null,null,null,null,null,null,null,null,null,null,null,null,null,null,null,null,null,null,null,null,null,null,null,null,null,null,null,null,null,null,null]},{\"boxpoints\":\"all\",\"jitter\":0.2,\"line\":{\"width\":1},\"marker\":{\"size\":2},\"name\":\"Vertical\",\"type\":\"box\",\"whiskerwidth\":0.2,\"y\":[1.1,1.0,1.0,1.0,1.0,0.7,0.575,0.5,0.4,0.24,0.2,null,null,null,null,null,null,null,null,null,null,null,null,null,null,null,null,null,null,null,null,null,null,null,null,null,null,null,null,null,null,null,null,null,null,null,null,null,null,null,null,null,null,null,null,null,null,null,null,null,null,null,null,null,null,null,null,null,null,null,null,null,null,null,null,null,null,null,null,null,null,null,null,null,null,null,null,null,null,null,null,null,null,null,null,null,null,null,null,null,null,null,null,null,null,null,null,null,null,null,null,null,null,null,null,null,null,null,null,null,null,null,null,null,null,null,null,null,null,null,null,null,null,null,null,null,null,null,null,null,null,null,null,null,null,null,null,null,null,null,null,null,null,null,null,null,null,null,null,null,null,null,null,null,null,null,null,null,null,null]}],                        {\"template\":{\"data\":{\"bar\":[{\"error_x\":{\"color\":\"#2a3f5f\"},\"error_y\":{\"color\":\"#2a3f5f\"},\"marker\":{\"line\":{\"color\":\"#E5ECF6\",\"width\":0.5},\"pattern\":{\"fillmode\":\"overlay\",\"size\":10,\"solidity\":0.2}},\"type\":\"bar\"}],\"barpolar\":[{\"marker\":{\"line\":{\"color\":\"#E5ECF6\",\"width\":0.5},\"pattern\":{\"fillmode\":\"overlay\",\"size\":10,\"solidity\":0.2}},\"type\":\"barpolar\"}],\"carpet\":[{\"aaxis\":{\"endlinecolor\":\"#2a3f5f\",\"gridcolor\":\"white\",\"linecolor\":\"white\",\"minorgridcolor\":\"white\",\"startlinecolor\":\"#2a3f5f\"},\"baxis\":{\"endlinecolor\":\"#2a3f5f\",\"gridcolor\":\"white\",\"linecolor\":\"white\",\"minorgridcolor\":\"white\",\"startlinecolor\":\"#2a3f5f\"},\"type\":\"carpet\"}],\"choropleth\":[{\"colorbar\":{\"outlinewidth\":0,\"ticks\":\"\"},\"type\":\"choropleth\"}],\"contour\":[{\"colorbar\":{\"outlinewidth\":0,\"ticks\":\"\"},\"colorscale\":[[0.0,\"#0d0887\"],[0.1111111111111111,\"#46039f\"],[0.2222222222222222,\"#7201a8\"],[0.3333333333333333,\"#9c179e\"],[0.4444444444444444,\"#bd3786\"],[0.5555555555555556,\"#d8576b\"],[0.6666666666666666,\"#ed7953\"],[0.7777777777777778,\"#fb9f3a\"],[0.8888888888888888,\"#fdca26\"],[1.0,\"#f0f921\"]],\"type\":\"contour\"}],\"contourcarpet\":[{\"colorbar\":{\"outlinewidth\":0,\"ticks\":\"\"},\"type\":\"contourcarpet\"}],\"heatmap\":[{\"colorbar\":{\"outlinewidth\":0,\"ticks\":\"\"},\"colorscale\":[[0.0,\"#0d0887\"],[0.1111111111111111,\"#46039f\"],[0.2222222222222222,\"#7201a8\"],[0.3333333333333333,\"#9c179e\"],[0.4444444444444444,\"#bd3786\"],[0.5555555555555556,\"#d8576b\"],[0.6666666666666666,\"#ed7953\"],[0.7777777777777778,\"#fb9f3a\"],[0.8888888888888888,\"#fdca26\"],[1.0,\"#f0f921\"]],\"type\":\"heatmap\"}],\"heatmapgl\":[{\"colorbar\":{\"outlinewidth\":0,\"ticks\":\"\"},\"colorscale\":[[0.0,\"#0d0887\"],[0.1111111111111111,\"#46039f\"],[0.2222222222222222,\"#7201a8\"],[0.3333333333333333,\"#9c179e\"],[0.4444444444444444,\"#bd3786\"],[0.5555555555555556,\"#d8576b\"],[0.6666666666666666,\"#ed7953\"],[0.7777777777777778,\"#fb9f3a\"],[0.8888888888888888,\"#fdca26\"],[1.0,\"#f0f921\"]],\"type\":\"heatmapgl\"}],\"histogram\":[{\"marker\":{\"pattern\":{\"fillmode\":\"overlay\",\"size\":10,\"solidity\":0.2}},\"type\":\"histogram\"}],\"histogram2d\":[{\"colorbar\":{\"outlinewidth\":0,\"ticks\":\"\"},\"colorscale\":[[0.0,\"#0d0887\"],[0.1111111111111111,\"#46039f\"],[0.2222222222222222,\"#7201a8\"],[0.3333333333333333,\"#9c179e\"],[0.4444444444444444,\"#bd3786\"],[0.5555555555555556,\"#d8576b\"],[0.6666666666666666,\"#ed7953\"],[0.7777777777777778,\"#fb9f3a\"],[0.8888888888888888,\"#fdca26\"],[1.0,\"#f0f921\"]],\"type\":\"histogram2d\"}],\"histogram2dcontour\":[{\"colorbar\":{\"outlinewidth\":0,\"ticks\":\"\"},\"colorscale\":[[0.0,\"#0d0887\"],[0.1111111111111111,\"#46039f\"],[0.2222222222222222,\"#7201a8\"],[0.3333333333333333,\"#9c179e\"],[0.4444444444444444,\"#bd3786\"],[0.5555555555555556,\"#d8576b\"],[0.6666666666666666,\"#ed7953\"],[0.7777777777777778,\"#fb9f3a\"],[0.8888888888888888,\"#fdca26\"],[1.0,\"#f0f921\"]],\"type\":\"histogram2dcontour\"}],\"mesh3d\":[{\"colorbar\":{\"outlinewidth\":0,\"ticks\":\"\"},\"type\":\"mesh3d\"}],\"parcoords\":[{\"line\":{\"colorbar\":{\"outlinewidth\":0,\"ticks\":\"\"}},\"type\":\"parcoords\"}],\"pie\":[{\"automargin\":true,\"type\":\"pie\"}],\"scatter\":[{\"marker\":{\"colorbar\":{\"outlinewidth\":0,\"ticks\":\"\"}},\"type\":\"scatter\"}],\"scatter3d\":[{\"line\":{\"colorbar\":{\"outlinewidth\":0,\"ticks\":\"\"}},\"marker\":{\"colorbar\":{\"outlinewidth\":0,\"ticks\":\"\"}},\"type\":\"scatter3d\"}],\"scattercarpet\":[{\"marker\":{\"colorbar\":{\"outlinewidth\":0,\"ticks\":\"\"}},\"type\":\"scattercarpet\"}],\"scattergeo\":[{\"marker\":{\"colorbar\":{\"outlinewidth\":0,\"ticks\":\"\"}},\"type\":\"scattergeo\"}],\"scattergl\":[{\"marker\":{\"colorbar\":{\"outlinewidth\":0,\"ticks\":\"\"}},\"type\":\"scattergl\"}],\"scattermapbox\":[{\"marker\":{\"colorbar\":{\"outlinewidth\":0,\"ticks\":\"\"}},\"type\":\"scattermapbox\"}],\"scatterpolar\":[{\"marker\":{\"colorbar\":{\"outlinewidth\":0,\"ticks\":\"\"}},\"type\":\"scatterpolar\"}],\"scatterpolargl\":[{\"marker\":{\"colorbar\":{\"outlinewidth\":0,\"ticks\":\"\"}},\"type\":\"scatterpolargl\"}],\"scatterternary\":[{\"marker\":{\"colorbar\":{\"outlinewidth\":0,\"ticks\":\"\"}},\"type\":\"scatterternary\"}],\"surface\":[{\"colorbar\":{\"outlinewidth\":0,\"ticks\":\"\"},\"colorscale\":[[0.0,\"#0d0887\"],[0.1111111111111111,\"#46039f\"],[0.2222222222222222,\"#7201a8\"],[0.3333333333333333,\"#9c179e\"],[0.4444444444444444,\"#bd3786\"],[0.5555555555555556,\"#d8576b\"],[0.6666666666666666,\"#ed7953\"],[0.7777777777777778,\"#fb9f3a\"],[0.8888888888888888,\"#fdca26\"],[1.0,\"#f0f921\"]],\"type\":\"surface\"}],\"table\":[{\"cells\":{\"fill\":{\"color\":\"#EBF0F8\"},\"line\":{\"color\":\"white\"}},\"header\":{\"fill\":{\"color\":\"#C8D4E3\"},\"line\":{\"color\":\"white\"}},\"type\":\"table\"}]},\"layout\":{\"annotationdefaults\":{\"arrowcolor\":\"#2a3f5f\",\"arrowhead\":0,\"arrowwidth\":1},\"autotypenumbers\":\"strict\",\"coloraxis\":{\"colorbar\":{\"outlinewidth\":0,\"ticks\":\"\"}},\"colorscale\":{\"diverging\":[[0,\"#8e0152\"],[0.1,\"#c51b7d\"],[0.2,\"#de77ae\"],[0.3,\"#f1b6da\"],[0.4,\"#fde0ef\"],[0.5,\"#f7f7f7\"],[0.6,\"#e6f5d0\"],[0.7,\"#b8e186\"],[0.8,\"#7fbc41\"],[0.9,\"#4d9221\"],[1,\"#276419\"]],\"sequential\":[[0.0,\"#0d0887\"],[0.1111111111111111,\"#46039f\"],[0.2222222222222222,\"#7201a8\"],[0.3333333333333333,\"#9c179e\"],[0.4444444444444444,\"#bd3786\"],[0.5555555555555556,\"#d8576b\"],[0.6666666666666666,\"#ed7953\"],[0.7777777777777778,\"#fb9f3a\"],[0.8888888888888888,\"#fdca26\"],[1.0,\"#f0f921\"]],\"sequentialminus\":[[0.0,\"#0d0887\"],[0.1111111111111111,\"#46039f\"],[0.2222222222222222,\"#7201a8\"],[0.3333333333333333,\"#9c179e\"],[0.4444444444444444,\"#bd3786\"],[0.5555555555555556,\"#d8576b\"],[0.6666666666666666,\"#ed7953\"],[0.7777777777777778,\"#fb9f3a\"],[0.8888888888888888,\"#fdca26\"],[1.0,\"#f0f921\"]]},\"colorway\":[\"#636efa\",\"#EF553B\",\"#00cc96\",\"#ab63fa\",\"#FFA15A\",\"#19d3f3\",\"#FF6692\",\"#B6E880\",\"#FF97FF\",\"#FECB52\"],\"font\":{\"color\":\"#2a3f5f\"},\"geo\":{\"bgcolor\":\"white\",\"lakecolor\":\"white\",\"landcolor\":\"#E5ECF6\",\"showlakes\":true,\"showland\":true,\"subunitcolor\":\"white\"},\"hoverlabel\":{\"align\":\"left\"},\"hovermode\":\"closest\",\"mapbox\":{\"style\":\"light\"},\"paper_bgcolor\":\"white\",\"plot_bgcolor\":\"#E5ECF6\",\"polar\":{\"angularaxis\":{\"gridcolor\":\"white\",\"linecolor\":\"white\",\"ticks\":\"\"},\"bgcolor\":\"#E5ECF6\",\"radialaxis\":{\"gridcolor\":\"white\",\"linecolor\":\"white\",\"ticks\":\"\"}},\"scene\":{\"xaxis\":{\"backgroundcolor\":\"#E5ECF6\",\"gridcolor\":\"white\",\"gridwidth\":2,\"linecolor\":\"white\",\"showbackground\":true,\"ticks\":\"\",\"zerolinecolor\":\"white\"},\"yaxis\":{\"backgroundcolor\":\"#E5ECF6\",\"gridcolor\":\"white\",\"gridwidth\":2,\"linecolor\":\"white\",\"showbackground\":true,\"ticks\":\"\",\"zerolinecolor\":\"white\"},\"zaxis\":{\"backgroundcolor\":\"#E5ECF6\",\"gridcolor\":\"white\",\"gridwidth\":2,\"linecolor\":\"white\",\"showbackground\":true,\"ticks\":\"\",\"zerolinecolor\":\"white\"}},\"shapedefaults\":{\"line\":{\"color\":\"#2a3f5f\"}},\"ternary\":{\"aaxis\":{\"gridcolor\":\"white\",\"linecolor\":\"white\",\"ticks\":\"\"},\"baxis\":{\"gridcolor\":\"white\",\"linecolor\":\"white\",\"ticks\":\"\"},\"bgcolor\":\"#E5ECF6\",\"caxis\":{\"gridcolor\":\"white\",\"linecolor\":\"white\",\"ticks\":\"\"}},\"title\":{\"x\":0.05},\"xaxis\":{\"automargin\":true,\"gridcolor\":\"white\",\"linecolor\":\"white\",\"ticks\":\"\",\"title\":{\"standoff\":15},\"zerolinecolor\":\"white\",\"zerolinewidth\":2},\"yaxis\":{\"automargin\":true,\"gridcolor\":\"white\",\"linecolor\":\"white\",\"ticks\":\"\",\"title\":{\"standoff\":15},\"zerolinecolor\":\"white\",\"zerolinewidth\":2}}},\"title\":{\"text\":\"Orientation\"}},                        {\"responsive\": true}                    ).then(function(){\n",
       "                            \n",
       "var gd = document.getElementById('5a856f45-18bc-4473-8ae4-57deea5796a1');\n",
       "var x = new MutationObserver(function (mutations, observer) {{\n",
       "        var display = window.getComputedStyle(gd).display;\n",
       "        if (!display || display === 'none') {{\n",
       "            console.log([gd, 'removed!']);\n",
       "            Plotly.purge(gd);\n",
       "            observer.disconnect();\n",
       "        }}\n",
       "}});\n",
       "\n",
       "// Listen for the removal of the full notebook cells\n",
       "var notebookContainer = gd.closest('#notebook-container');\n",
       "if (notebookContainer) {{\n",
       "    x.observe(notebookContainer, {childList: true});\n",
       "}}\n",
       "\n",
       "// Listen for the clearing of the current output cell\n",
       "var outputEl = gd.closest('.output');\n",
       "if (outputEl) {{\n",
       "    x.observe(outputEl, {childList: true});\n",
       "}}\n",
       "\n",
       "                        })                };                });            </script>        </div>"
      ]
     },
     "metadata": {},
     "output_type": "display_data"
    },
    {
     "data": {
      "text/html": [
       "<div>                            <div id=\"a926ead3-2f93-4731-bc62-3964142f4e01\" class=\"plotly-graph-div\" style=\"height:525px; width:100%;\"></div>            <script type=\"text/javascript\">                require([\"plotly\"], function(Plotly) {                    window.PLOTLYENV=window.PLOTLYENV || {};                                    if (document.getElementById(\"a926ead3-2f93-4731-bc62-3964142f4e01\")) {                    Plotly.newPlot(                        \"a926ead3-2f93-4731-bc62-3964142f4e01\",                        [{\"boxpoints\":\"all\",\"jitter\":0.2,\"line\":{\"width\":1},\"marker\":{\"size\":2},\"name\":\"Spectrum\",\"type\":\"box\",\"whiskerwidth\":0.2,\"y\":[3.5,1.0,null]},{\"boxpoints\":\"all\",\"jitter\":0.2,\"line\":{\"width\":1},\"marker\":{\"size\":2},\"name\":\"Traverse\",\"type\":\"box\",\"whiskerwidth\":0.2,\"y\":[1.12,null,null,null,null,null,null,null]},{\"boxpoints\":\"all\",\"jitter\":0.2,\"line\":{\"width\":1},\"marker\":{\"size\":2},\"name\":\"Parade\",\"type\":\"box\",\"whiskerwidth\":0.2,\"y\":[1.1,null,null,null,null,null,null]},{\"boxpoints\":\"all\",\"jitter\":0.2,\"line\":{\"width\":1},\"marker\":{\"size\":2},\"name\":\"Journey\",\"type\":\"box\",\"whiskerwidth\":0.2,\"y\":[1.0,null,null,null,null,null]},{\"boxpoints\":\"all\",\"jitter\":0.2,\"line\":{\"width\":1},\"marker\":{\"size\":2},\"name\":\"Radiate\",\"type\":\"box\",\"whiskerwidth\":0.2,\"y\":[1.0,null,null,null,null,null,null,null,null,null,null,null,null,null,null,null]},{\"boxpoints\":\"all\",\"jitter\":0.2,\"line\":{\"width\":1},\"marker\":{\"size\":2},\"name\":\"Syncronize\",\"type\":\"box\",\"whiskerwidth\":0.2,\"y\":[1.0,null,null,null,null,null,null,null,null,null,null]},{\"boxpoints\":\"all\",\"jitter\":0.2,\"line\":{\"width\":1},\"marker\":{\"size\":2},\"name\":\"Space\",\"type\":\"box\",\"whiskerwidth\":0.2,\"y\":[0.575,0.5,null,null,null,null,null,null,null,null,null,null]},{\"boxpoints\":\"all\",\"jitter\":0.2,\"line\":{\"width\":1},\"marker\":{\"size\":2},\"name\":\"Red Radiation\",\"type\":\"box\",\"whiskerwidth\":0.2,\"y\":[0.5,null,null,null]},{\"boxpoints\":\"all\",\"jitter\":0.2,\"line\":{\"width\":1},\"marker\":{\"size\":2},\"name\":\"Yellow Radiation\",\"type\":\"box\",\"whiskerwidth\":0.2,\"y\":[0.5]},{\"boxpoints\":\"all\",\"jitter\":0.2,\"line\":{\"width\":1},\"marker\":{\"size\":2},\"name\":\"Distortion\",\"type\":\"box\",\"whiskerwidth\":0.2,\"y\":[0.7,0.2,null,null,null,null,null,null,null,null]},{\"boxpoints\":\"all\",\"jitter\":0.2,\"line\":{\"width\":1},\"marker\":{\"size\":2},\"name\":\"Delve\",\"type\":\"box\",\"whiskerwidth\":0.2,\"y\":[0.4,null,null,null,null,null,null,null,null,null,null,null,null,null,null,null,null,null,null]},{\"boxpoints\":\"all\",\"jitter\":0.2,\"line\":{\"width\":1},\"marker\":{\"size\":2},\"name\":\"Luminous\",\"type\":\"box\",\"whiskerwidth\":0.2,\"y\":[0.24,null,null,null,null,null,null,null,null,null]},{\"boxpoints\":\"all\",\"jitter\":0.2,\"line\":{\"width\":1},\"marker\":{\"size\":2},\"name\":\"Appeal\",\"type\":\"box\",\"whiskerwidth\":0.2,\"y\":[null,null,null,null,null,null,null]},{\"boxpoints\":\"all\",\"jitter\":0.2,\"line\":{\"width\":1},\"marker\":{\"size\":2},\"name\":\"Balance\",\"type\":\"box\",\"whiskerwidth\":0.2,\"y\":[null,null,null,null,null,null,null,null,null]},{\"boxpoints\":\"all\",\"jitter\":0.2,\"line\":{\"width\":1},\"marker\":{\"size\":2},\"name\":\"Blue Radiation\",\"type\":\"box\",\"whiskerwidth\":0.2,\"y\":[null]},{\"boxpoints\":\"all\",\"jitter\":0.2,\"line\":{\"width\":1},\"marker\":{\"size\":2},\"name\":\"Concept\",\"type\":\"box\",\"whiskerwidth\":0.2,\"y\":[null,null,null,null,null,null,null,null,null]},{\"boxpoints\":\"all\",\"jitter\":0.2,\"line\":{\"width\":1},\"marker\":{\"size\":2},\"name\":\"Cyan Radiation\",\"type\":\"box\",\"whiskerwidth\":0.2,\"y\":[null,null]},{\"boxpoints\":\"all\",\"jitter\":0.2,\"line\":{\"width\":1},\"marker\":{\"size\":2},\"name\":\"Enhance\",\"type\":\"box\",\"whiskerwidth\":0.2,\"y\":[null,null]},{\"boxpoints\":\"all\",\"jitter\":0.2,\"line\":{\"width\":1},\"marker\":{\"size\":2},\"name\":\"Entropy\",\"type\":\"box\",\"whiskerwidth\":0.2,\"y\":[null,null,null,null]},{\"boxpoints\":\"all\",\"jitter\":0.2,\"line\":{\"width\":1},\"marker\":{\"size\":2},\"name\":\"Expanse\",\"type\":\"box\",\"whiskerwidth\":0.2,\"y\":[null,null,null,null,null,null,null,null,null,null]},{\"boxpoints\":\"all\",\"jitter\":0.2,\"line\":{\"width\":1},\"marker\":{\"size\":2},\"name\":\"Green Radiation\",\"type\":\"box\",\"whiskerwidth\":0.2,\"y\":[null]},{\"boxpoints\":\"all\",\"jitter\":0.2,\"line\":{\"width\":1},\"marker\":{\"size\":2},\"name\":\"Interfere\",\"type\":\"box\",\"whiskerwidth\":0.2,\"y\":[null,null,null,null,null,null,null,null,null,null,null,null,null]},{\"boxpoints\":\"all\",\"jitter\":0.2,\"line\":{\"width\":1},\"marker\":{\"size\":2},\"name\":\"Magenta Radiation\",\"type\":\"box\",\"whiskerwidth\":0.2,\"y\":[null]},{\"boxpoints\":\"all\",\"jitter\":0.2,\"line\":{\"width\":1},\"marker\":{\"size\":2},\"name\":\"Moment\",\"type\":\"box\",\"whiskerwidth\":0.2,\"y\":[null,null,null,null,null,null,null]},{\"boxpoints\":\"all\",\"jitter\":0.2,\"line\":{\"width\":1},\"marker\":{\"size\":2},\"name\":\"Mono Radiation\",\"type\":\"box\",\"whiskerwidth\":0.2,\"y\":[null,null,null,null]},{\"boxpoints\":\"all\",\"jitter\":0.2,\"line\":{\"width\":1},\"marker\":{\"size\":2},\"name\":\"Nostalgia 0\",\"type\":\"box\",\"whiskerwidth\":0.2,\"y\":[null,null,null,null,null,null,null,null,null,null,null]},{\"boxpoints\":\"all\",\"jitter\":0.2,\"line\":{\"width\":1},\"marker\":{\"size\":2},\"name\":\"Nostalgia 1\",\"type\":\"box\",\"whiskerwidth\":0.2,\"y\":[null,null,null,null,null,null,null,null]},{\"boxpoints\":\"all\",\"jitter\":0.2,\"line\":{\"width\":1},\"marker\":{\"size\":2},\"name\":\"Optimism\",\"type\":\"box\",\"whiskerwidth\":0.2,\"y\":[null,null,null,null,null,null]},{\"boxpoints\":\"all\",\"jitter\":0.2,\"line\":{\"width\":1},\"marker\":{\"size\":2},\"name\":\"Outlook\",\"type\":\"box\",\"whiskerwidth\":0.2,\"y\":[null,null,null,null,null,null,null]},{\"boxpoints\":\"all\",\"jitter\":0.2,\"line\":{\"width\":1},\"marker\":{\"size\":2},\"name\":\"Precision\",\"type\":\"box\",\"whiskerwidth\":0.2,\"y\":[null,null]},{\"boxpoints\":\"all\",\"jitter\":0.2,\"line\":{\"width\":1},\"marker\":{\"size\":2},\"name\":\"Resolve\",\"type\":\"box\",\"whiskerwidth\":0.2,\"y\":[null,null,null,null,null,null,null,null]},{\"boxpoints\":\"all\",\"jitter\":0.2,\"line\":{\"width\":1},\"marker\":{\"size\":2},\"name\":\"Royalty\",\"type\":\"box\",\"whiskerwidth\":0.2,\"y\":[null,null,null,null,null,null,null,null,null,null,null]},{\"boxpoints\":\"all\",\"jitter\":0.2,\"line\":{\"width\":1},\"marker\":{\"size\":2},\"name\":\"Strive\",\"type\":\"box\",\"whiskerwidth\":0.2,\"y\":[null,null,null,null,null,null,null,null]},{\"boxpoints\":\"all\",\"jitter\":0.2,\"line\":{\"width\":1},\"marker\":{\"size\":2},\"name\":\"Wonder\",\"type\":\"box\",\"whiskerwidth\":0.2,\"y\":[null,null,null,null,null,null,null,null,null,null,null,null]}],                        {\"template\":{\"data\":{\"bar\":[{\"error_x\":{\"color\":\"#2a3f5f\"},\"error_y\":{\"color\":\"#2a3f5f\"},\"marker\":{\"line\":{\"color\":\"#E5ECF6\",\"width\":0.5},\"pattern\":{\"fillmode\":\"overlay\",\"size\":10,\"solidity\":0.2}},\"type\":\"bar\"}],\"barpolar\":[{\"marker\":{\"line\":{\"color\":\"#E5ECF6\",\"width\":0.5},\"pattern\":{\"fillmode\":\"overlay\",\"size\":10,\"solidity\":0.2}},\"type\":\"barpolar\"}],\"carpet\":[{\"aaxis\":{\"endlinecolor\":\"#2a3f5f\",\"gridcolor\":\"white\",\"linecolor\":\"white\",\"minorgridcolor\":\"white\",\"startlinecolor\":\"#2a3f5f\"},\"baxis\":{\"endlinecolor\":\"#2a3f5f\",\"gridcolor\":\"white\",\"linecolor\":\"white\",\"minorgridcolor\":\"white\",\"startlinecolor\":\"#2a3f5f\"},\"type\":\"carpet\"}],\"choropleth\":[{\"colorbar\":{\"outlinewidth\":0,\"ticks\":\"\"},\"type\":\"choropleth\"}],\"contour\":[{\"colorbar\":{\"outlinewidth\":0,\"ticks\":\"\"},\"colorscale\":[[0.0,\"#0d0887\"],[0.1111111111111111,\"#46039f\"],[0.2222222222222222,\"#7201a8\"],[0.3333333333333333,\"#9c179e\"],[0.4444444444444444,\"#bd3786\"],[0.5555555555555556,\"#d8576b\"],[0.6666666666666666,\"#ed7953\"],[0.7777777777777778,\"#fb9f3a\"],[0.8888888888888888,\"#fdca26\"],[1.0,\"#f0f921\"]],\"type\":\"contour\"}],\"contourcarpet\":[{\"colorbar\":{\"outlinewidth\":0,\"ticks\":\"\"},\"type\":\"contourcarpet\"}],\"heatmap\":[{\"colorbar\":{\"outlinewidth\":0,\"ticks\":\"\"},\"colorscale\":[[0.0,\"#0d0887\"],[0.1111111111111111,\"#46039f\"],[0.2222222222222222,\"#7201a8\"],[0.3333333333333333,\"#9c179e\"],[0.4444444444444444,\"#bd3786\"],[0.5555555555555556,\"#d8576b\"],[0.6666666666666666,\"#ed7953\"],[0.7777777777777778,\"#fb9f3a\"],[0.8888888888888888,\"#fdca26\"],[1.0,\"#f0f921\"]],\"type\":\"heatmap\"}],\"heatmapgl\":[{\"colorbar\":{\"outlinewidth\":0,\"ticks\":\"\"},\"colorscale\":[[0.0,\"#0d0887\"],[0.1111111111111111,\"#46039f\"],[0.2222222222222222,\"#7201a8\"],[0.3333333333333333,\"#9c179e\"],[0.4444444444444444,\"#bd3786\"],[0.5555555555555556,\"#d8576b\"],[0.6666666666666666,\"#ed7953\"],[0.7777777777777778,\"#fb9f3a\"],[0.8888888888888888,\"#fdca26\"],[1.0,\"#f0f921\"]],\"type\":\"heatmapgl\"}],\"histogram\":[{\"marker\":{\"pattern\":{\"fillmode\":\"overlay\",\"size\":10,\"solidity\":0.2}},\"type\":\"histogram\"}],\"histogram2d\":[{\"colorbar\":{\"outlinewidth\":0,\"ticks\":\"\"},\"colorscale\":[[0.0,\"#0d0887\"],[0.1111111111111111,\"#46039f\"],[0.2222222222222222,\"#7201a8\"],[0.3333333333333333,\"#9c179e\"],[0.4444444444444444,\"#bd3786\"],[0.5555555555555556,\"#d8576b\"],[0.6666666666666666,\"#ed7953\"],[0.7777777777777778,\"#fb9f3a\"],[0.8888888888888888,\"#fdca26\"],[1.0,\"#f0f921\"]],\"type\":\"histogram2d\"}],\"histogram2dcontour\":[{\"colorbar\":{\"outlinewidth\":0,\"ticks\":\"\"},\"colorscale\":[[0.0,\"#0d0887\"],[0.1111111111111111,\"#46039f\"],[0.2222222222222222,\"#7201a8\"],[0.3333333333333333,\"#9c179e\"],[0.4444444444444444,\"#bd3786\"],[0.5555555555555556,\"#d8576b\"],[0.6666666666666666,\"#ed7953\"],[0.7777777777777778,\"#fb9f3a\"],[0.8888888888888888,\"#fdca26\"],[1.0,\"#f0f921\"]],\"type\":\"histogram2dcontour\"}],\"mesh3d\":[{\"colorbar\":{\"outlinewidth\":0,\"ticks\":\"\"},\"type\":\"mesh3d\"}],\"parcoords\":[{\"line\":{\"colorbar\":{\"outlinewidth\":0,\"ticks\":\"\"}},\"type\":\"parcoords\"}],\"pie\":[{\"automargin\":true,\"type\":\"pie\"}],\"scatter\":[{\"marker\":{\"colorbar\":{\"outlinewidth\":0,\"ticks\":\"\"}},\"type\":\"scatter\"}],\"scatter3d\":[{\"line\":{\"colorbar\":{\"outlinewidth\":0,\"ticks\":\"\"}},\"marker\":{\"colorbar\":{\"outlinewidth\":0,\"ticks\":\"\"}},\"type\":\"scatter3d\"}],\"scattercarpet\":[{\"marker\":{\"colorbar\":{\"outlinewidth\":0,\"ticks\":\"\"}},\"type\":\"scattercarpet\"}],\"scattergeo\":[{\"marker\":{\"colorbar\":{\"outlinewidth\":0,\"ticks\":\"\"}},\"type\":\"scattergeo\"}],\"scattergl\":[{\"marker\":{\"colorbar\":{\"outlinewidth\":0,\"ticks\":\"\"}},\"type\":\"scattergl\"}],\"scattermapbox\":[{\"marker\":{\"colorbar\":{\"outlinewidth\":0,\"ticks\":\"\"}},\"type\":\"scattermapbox\"}],\"scatterpolar\":[{\"marker\":{\"colorbar\":{\"outlinewidth\":0,\"ticks\":\"\"}},\"type\":\"scatterpolar\"}],\"scatterpolargl\":[{\"marker\":{\"colorbar\":{\"outlinewidth\":0,\"ticks\":\"\"}},\"type\":\"scatterpolargl\"}],\"scatterternary\":[{\"marker\":{\"colorbar\":{\"outlinewidth\":0,\"ticks\":\"\"}},\"type\":\"scatterternary\"}],\"surface\":[{\"colorbar\":{\"outlinewidth\":0,\"ticks\":\"\"},\"colorscale\":[[0.0,\"#0d0887\"],[0.1111111111111111,\"#46039f\"],[0.2222222222222222,\"#7201a8\"],[0.3333333333333333,\"#9c179e\"],[0.4444444444444444,\"#bd3786\"],[0.5555555555555556,\"#d8576b\"],[0.6666666666666666,\"#ed7953\"],[0.7777777777777778,\"#fb9f3a\"],[0.8888888888888888,\"#fdca26\"],[1.0,\"#f0f921\"]],\"type\":\"surface\"}],\"table\":[{\"cells\":{\"fill\":{\"color\":\"#EBF0F8\"},\"line\":{\"color\":\"white\"}},\"header\":{\"fill\":{\"color\":\"#C8D4E3\"},\"line\":{\"color\":\"white\"}},\"type\":\"table\"}]},\"layout\":{\"annotationdefaults\":{\"arrowcolor\":\"#2a3f5f\",\"arrowhead\":0,\"arrowwidth\":1},\"autotypenumbers\":\"strict\",\"coloraxis\":{\"colorbar\":{\"outlinewidth\":0,\"ticks\":\"\"}},\"colorscale\":{\"diverging\":[[0,\"#8e0152\"],[0.1,\"#c51b7d\"],[0.2,\"#de77ae\"],[0.3,\"#f1b6da\"],[0.4,\"#fde0ef\"],[0.5,\"#f7f7f7\"],[0.6,\"#e6f5d0\"],[0.7,\"#b8e186\"],[0.8,\"#7fbc41\"],[0.9,\"#4d9221\"],[1,\"#276419\"]],\"sequential\":[[0.0,\"#0d0887\"],[0.1111111111111111,\"#46039f\"],[0.2222222222222222,\"#7201a8\"],[0.3333333333333333,\"#9c179e\"],[0.4444444444444444,\"#bd3786\"],[0.5555555555555556,\"#d8576b\"],[0.6666666666666666,\"#ed7953\"],[0.7777777777777778,\"#fb9f3a\"],[0.8888888888888888,\"#fdca26\"],[1.0,\"#f0f921\"]],\"sequentialminus\":[[0.0,\"#0d0887\"],[0.1111111111111111,\"#46039f\"],[0.2222222222222222,\"#7201a8\"],[0.3333333333333333,\"#9c179e\"],[0.4444444444444444,\"#bd3786\"],[0.5555555555555556,\"#d8576b\"],[0.6666666666666666,\"#ed7953\"],[0.7777777777777778,\"#fb9f3a\"],[0.8888888888888888,\"#fdca26\"],[1.0,\"#f0f921\"]]},\"colorway\":[\"#636efa\",\"#EF553B\",\"#00cc96\",\"#ab63fa\",\"#FFA15A\",\"#19d3f3\",\"#FF6692\",\"#B6E880\",\"#FF97FF\",\"#FECB52\"],\"font\":{\"color\":\"#2a3f5f\"},\"geo\":{\"bgcolor\":\"white\",\"lakecolor\":\"white\",\"landcolor\":\"#E5ECF6\",\"showlakes\":true,\"showland\":true,\"subunitcolor\":\"white\"},\"hoverlabel\":{\"align\":\"left\"},\"hovermode\":\"closest\",\"mapbox\":{\"style\":\"light\"},\"paper_bgcolor\":\"white\",\"plot_bgcolor\":\"#E5ECF6\",\"polar\":{\"angularaxis\":{\"gridcolor\":\"white\",\"linecolor\":\"white\",\"ticks\":\"\"},\"bgcolor\":\"#E5ECF6\",\"radialaxis\":{\"gridcolor\":\"white\",\"linecolor\":\"white\",\"ticks\":\"\"}},\"scene\":{\"xaxis\":{\"backgroundcolor\":\"#E5ECF6\",\"gridcolor\":\"white\",\"gridwidth\":2,\"linecolor\":\"white\",\"showbackground\":true,\"ticks\":\"\",\"zerolinecolor\":\"white\"},\"yaxis\":{\"backgroundcolor\":\"#E5ECF6\",\"gridcolor\":\"white\",\"gridwidth\":2,\"linecolor\":\"white\",\"showbackground\":true,\"ticks\":\"\",\"zerolinecolor\":\"white\"},\"zaxis\":{\"backgroundcolor\":\"#E5ECF6\",\"gridcolor\":\"white\",\"gridwidth\":2,\"linecolor\":\"white\",\"showbackground\":true,\"ticks\":\"\",\"zerolinecolor\":\"white\"}},\"shapedefaults\":{\"line\":{\"color\":\"#2a3f5f\"}},\"ternary\":{\"aaxis\":{\"gridcolor\":\"white\",\"linecolor\":\"white\",\"ticks\":\"\"},\"baxis\":{\"gridcolor\":\"white\",\"linecolor\":\"white\",\"ticks\":\"\"},\"bgcolor\":\"#E5ECF6\",\"caxis\":{\"gridcolor\":\"white\",\"linecolor\":\"white\",\"ticks\":\"\"}},\"title\":{\"x\":0.05},\"xaxis\":{\"automargin\":true,\"gridcolor\":\"white\",\"linecolor\":\"white\",\"ticks\":\"\",\"title\":{\"standoff\":15},\"zerolinecolor\":\"white\",\"zerolinewidth\":2},\"yaxis\":{\"automargin\":true,\"gridcolor\":\"white\",\"linecolor\":\"white\",\"ticks\":\"\",\"title\":{\"standoff\":15},\"zerolinecolor\":\"white\",\"zerolinewidth\":2}}},\"title\":{\"text\":\"Palette\"}},                        {\"responsive\": true}                    ).then(function(){\n",
       "                            \n",
       "var gd = document.getElementById('a926ead3-2f93-4731-bc62-3964142f4e01');\n",
       "var x = new MutationObserver(function (mutations, observer) {{\n",
       "        var display = window.getComputedStyle(gd).display;\n",
       "        if (!display || display === 'none') {{\n",
       "            console.log([gd, 'removed!']);\n",
       "            Plotly.purge(gd);\n",
       "            observer.disconnect();\n",
       "        }}\n",
       "}});\n",
       "\n",
       "// Listen for the removal of the full notebook cells\n",
       "var notebookContainer = gd.closest('#notebook-container');\n",
       "if (notebookContainer) {{\n",
       "    x.observe(notebookContainer, {childList: true});\n",
       "}}\n",
       "\n",
       "// Listen for the clearing of the current output cell\n",
       "var outputEl = gd.closest('.output');\n",
       "if (outputEl) {{\n",
       "    x.observe(outputEl, {childList: true});\n",
       "}}\n",
       "\n",
       "                        })                };                });            </script>        </div>"
      ]
     },
     "metadata": {},
     "output_type": "display_data"
    },
    {
     "data": {
      "text/html": [
       "<div>                            <div id=\"3af07dcf-3711-4810-a803-826f4cf93b24\" class=\"plotly-graph-div\" style=\"height:525px; width:100%;\"></div>            <script type=\"text/javascript\">                require([\"plotly\"], function(Plotly) {                    window.PLOTLYENV=window.PLOTLYENV || {};                                    if (document.getElementById(\"3af07dcf-3711-4810-a803-826f4cf93b24\")) {                    Plotly.newPlot(                        \"3af07dcf-3711-4810-a803-826f4cf93b24\",                        [{\"boxpoints\":\"all\",\"jitter\":0.2,\"line\":{\"width\":1},\"marker\":{\"size\":2},\"name\":\"128\",\"type\":\"box\",\"whiskerwidth\":0.2,\"y\":[3.5,1.1,0.24,null,null,null,null,null,null,null,null,null,null,null,null,null,null,null,null,null,null,null,null,null,null,null,null,null,null,null,null,null,null,null,null,null,null,null,null,null,null,null,null,null,null,null,null,null]},{\"boxpoints\":\"all\",\"jitter\":0.2,\"line\":{\"width\":1},\"marker\":{\"size\":2},\"name\":\"16\",\"type\":\"box\",\"whiskerwidth\":0.2,\"y\":[1.0,0.575,null,null,null,null,null,null,null,null,null,null,null,null,null,null,null,null,null,null,null,null,null,null,null,null,null,null,null,null,null,null,null,null,null,null,null,null,null,null,null,null,null,null,null,null,null,null,null,null,null,null]},{\"boxpoints\":\"all\",\"jitter\":0.2,\"line\":{\"width\":1},\"marker\":{\"size\":2},\"name\":\"64\",\"type\":\"box\",\"whiskerwidth\":0.2,\"y\":[1.12,1.0,0.5,0.2,null,null,null,null,null,null,null,null,null,null,null,null,null,null,null,null,null,null,null,null,null,null,null,null,null,null,null,null,null,null,null,null,null,null,null,null,null,null,null,null,null,null,null,null,null,null,null,null,null,null,null,null,null,null,null]},{\"boxpoints\":\"all\",\"jitter\":0.2,\"line\":{\"width\":1},\"marker\":{\"size\":2},\"name\":\"8\",\"type\":\"box\",\"whiskerwidth\":0.2,\"y\":[1.0,0.4,null,null,null,null,null,null,null,null,null,null,null,null,null,null,null,null,null,null,null,null,null,null,null,null,null,null,null,null,null,null,null]},{\"boxpoints\":\"all\",\"jitter\":0.2,\"line\":{\"width\":1},\"marker\":{\"size\":2},\"name\":\"32\",\"type\":\"box\",\"whiskerwidth\":0.2,\"y\":[1.0,0.7,0.5,0.5,null,null,null,null,null,null,null,null,null,null,null,null,null,null,null,null,null,null,null,null,null,null,null,null,null,null,null,null,null,null,null,null,null,null,null,null,null,null,null,null,null,null,null,null,null,null,null,null,null,null,null,null,null,null]}],                        {\"template\":{\"data\":{\"bar\":[{\"error_x\":{\"color\":\"#2a3f5f\"},\"error_y\":{\"color\":\"#2a3f5f\"},\"marker\":{\"line\":{\"color\":\"#E5ECF6\",\"width\":0.5},\"pattern\":{\"fillmode\":\"overlay\",\"size\":10,\"solidity\":0.2}},\"type\":\"bar\"}],\"barpolar\":[{\"marker\":{\"line\":{\"color\":\"#E5ECF6\",\"width\":0.5},\"pattern\":{\"fillmode\":\"overlay\",\"size\":10,\"solidity\":0.2}},\"type\":\"barpolar\"}],\"carpet\":[{\"aaxis\":{\"endlinecolor\":\"#2a3f5f\",\"gridcolor\":\"white\",\"linecolor\":\"white\",\"minorgridcolor\":\"white\",\"startlinecolor\":\"#2a3f5f\"},\"baxis\":{\"endlinecolor\":\"#2a3f5f\",\"gridcolor\":\"white\",\"linecolor\":\"white\",\"minorgridcolor\":\"white\",\"startlinecolor\":\"#2a3f5f\"},\"type\":\"carpet\"}],\"choropleth\":[{\"colorbar\":{\"outlinewidth\":0,\"ticks\":\"\"},\"type\":\"choropleth\"}],\"contour\":[{\"colorbar\":{\"outlinewidth\":0,\"ticks\":\"\"},\"colorscale\":[[0.0,\"#0d0887\"],[0.1111111111111111,\"#46039f\"],[0.2222222222222222,\"#7201a8\"],[0.3333333333333333,\"#9c179e\"],[0.4444444444444444,\"#bd3786\"],[0.5555555555555556,\"#d8576b\"],[0.6666666666666666,\"#ed7953\"],[0.7777777777777778,\"#fb9f3a\"],[0.8888888888888888,\"#fdca26\"],[1.0,\"#f0f921\"]],\"type\":\"contour\"}],\"contourcarpet\":[{\"colorbar\":{\"outlinewidth\":0,\"ticks\":\"\"},\"type\":\"contourcarpet\"}],\"heatmap\":[{\"colorbar\":{\"outlinewidth\":0,\"ticks\":\"\"},\"colorscale\":[[0.0,\"#0d0887\"],[0.1111111111111111,\"#46039f\"],[0.2222222222222222,\"#7201a8\"],[0.3333333333333333,\"#9c179e\"],[0.4444444444444444,\"#bd3786\"],[0.5555555555555556,\"#d8576b\"],[0.6666666666666666,\"#ed7953\"],[0.7777777777777778,\"#fb9f3a\"],[0.8888888888888888,\"#fdca26\"],[1.0,\"#f0f921\"]],\"type\":\"heatmap\"}],\"heatmapgl\":[{\"colorbar\":{\"outlinewidth\":0,\"ticks\":\"\"},\"colorscale\":[[0.0,\"#0d0887\"],[0.1111111111111111,\"#46039f\"],[0.2222222222222222,\"#7201a8\"],[0.3333333333333333,\"#9c179e\"],[0.4444444444444444,\"#bd3786\"],[0.5555555555555556,\"#d8576b\"],[0.6666666666666666,\"#ed7953\"],[0.7777777777777778,\"#fb9f3a\"],[0.8888888888888888,\"#fdca26\"],[1.0,\"#f0f921\"]],\"type\":\"heatmapgl\"}],\"histogram\":[{\"marker\":{\"pattern\":{\"fillmode\":\"overlay\",\"size\":10,\"solidity\":0.2}},\"type\":\"histogram\"}],\"histogram2d\":[{\"colorbar\":{\"outlinewidth\":0,\"ticks\":\"\"},\"colorscale\":[[0.0,\"#0d0887\"],[0.1111111111111111,\"#46039f\"],[0.2222222222222222,\"#7201a8\"],[0.3333333333333333,\"#9c179e\"],[0.4444444444444444,\"#bd3786\"],[0.5555555555555556,\"#d8576b\"],[0.6666666666666666,\"#ed7953\"],[0.7777777777777778,\"#fb9f3a\"],[0.8888888888888888,\"#fdca26\"],[1.0,\"#f0f921\"]],\"type\":\"histogram2d\"}],\"histogram2dcontour\":[{\"colorbar\":{\"outlinewidth\":0,\"ticks\":\"\"},\"colorscale\":[[0.0,\"#0d0887\"],[0.1111111111111111,\"#46039f\"],[0.2222222222222222,\"#7201a8\"],[0.3333333333333333,\"#9c179e\"],[0.4444444444444444,\"#bd3786\"],[0.5555555555555556,\"#d8576b\"],[0.6666666666666666,\"#ed7953\"],[0.7777777777777778,\"#fb9f3a\"],[0.8888888888888888,\"#fdca26\"],[1.0,\"#f0f921\"]],\"type\":\"histogram2dcontour\"}],\"mesh3d\":[{\"colorbar\":{\"outlinewidth\":0,\"ticks\":\"\"},\"type\":\"mesh3d\"}],\"parcoords\":[{\"line\":{\"colorbar\":{\"outlinewidth\":0,\"ticks\":\"\"}},\"type\":\"parcoords\"}],\"pie\":[{\"automargin\":true,\"type\":\"pie\"}],\"scatter\":[{\"marker\":{\"colorbar\":{\"outlinewidth\":0,\"ticks\":\"\"}},\"type\":\"scatter\"}],\"scatter3d\":[{\"line\":{\"colorbar\":{\"outlinewidth\":0,\"ticks\":\"\"}},\"marker\":{\"colorbar\":{\"outlinewidth\":0,\"ticks\":\"\"}},\"type\":\"scatter3d\"}],\"scattercarpet\":[{\"marker\":{\"colorbar\":{\"outlinewidth\":0,\"ticks\":\"\"}},\"type\":\"scattercarpet\"}],\"scattergeo\":[{\"marker\":{\"colorbar\":{\"outlinewidth\":0,\"ticks\":\"\"}},\"type\":\"scattergeo\"}],\"scattergl\":[{\"marker\":{\"colorbar\":{\"outlinewidth\":0,\"ticks\":\"\"}},\"type\":\"scattergl\"}],\"scattermapbox\":[{\"marker\":{\"colorbar\":{\"outlinewidth\":0,\"ticks\":\"\"}},\"type\":\"scattermapbox\"}],\"scatterpolar\":[{\"marker\":{\"colorbar\":{\"outlinewidth\":0,\"ticks\":\"\"}},\"type\":\"scatterpolar\"}],\"scatterpolargl\":[{\"marker\":{\"colorbar\":{\"outlinewidth\":0,\"ticks\":\"\"}},\"type\":\"scatterpolargl\"}],\"scatterternary\":[{\"marker\":{\"colorbar\":{\"outlinewidth\":0,\"ticks\":\"\"}},\"type\":\"scatterternary\"}],\"surface\":[{\"colorbar\":{\"outlinewidth\":0,\"ticks\":\"\"},\"colorscale\":[[0.0,\"#0d0887\"],[0.1111111111111111,\"#46039f\"],[0.2222222222222222,\"#7201a8\"],[0.3333333333333333,\"#9c179e\"],[0.4444444444444444,\"#bd3786\"],[0.5555555555555556,\"#d8576b\"],[0.6666666666666666,\"#ed7953\"],[0.7777777777777778,\"#fb9f3a\"],[0.8888888888888888,\"#fdca26\"],[1.0,\"#f0f921\"]],\"type\":\"surface\"}],\"table\":[{\"cells\":{\"fill\":{\"color\":\"#EBF0F8\"},\"line\":{\"color\":\"white\"}},\"header\":{\"fill\":{\"color\":\"#C8D4E3\"},\"line\":{\"color\":\"white\"}},\"type\":\"table\"}]},\"layout\":{\"annotationdefaults\":{\"arrowcolor\":\"#2a3f5f\",\"arrowhead\":0,\"arrowwidth\":1},\"autotypenumbers\":\"strict\",\"coloraxis\":{\"colorbar\":{\"outlinewidth\":0,\"ticks\":\"\"}},\"colorscale\":{\"diverging\":[[0,\"#8e0152\"],[0.1,\"#c51b7d\"],[0.2,\"#de77ae\"],[0.3,\"#f1b6da\"],[0.4,\"#fde0ef\"],[0.5,\"#f7f7f7\"],[0.6,\"#e6f5d0\"],[0.7,\"#b8e186\"],[0.8,\"#7fbc41\"],[0.9,\"#4d9221\"],[1,\"#276419\"]],\"sequential\":[[0.0,\"#0d0887\"],[0.1111111111111111,\"#46039f\"],[0.2222222222222222,\"#7201a8\"],[0.3333333333333333,\"#9c179e\"],[0.4444444444444444,\"#bd3786\"],[0.5555555555555556,\"#d8576b\"],[0.6666666666666666,\"#ed7953\"],[0.7777777777777778,\"#fb9f3a\"],[0.8888888888888888,\"#fdca26\"],[1.0,\"#f0f921\"]],\"sequentialminus\":[[0.0,\"#0d0887\"],[0.1111111111111111,\"#46039f\"],[0.2222222222222222,\"#7201a8\"],[0.3333333333333333,\"#9c179e\"],[0.4444444444444444,\"#bd3786\"],[0.5555555555555556,\"#d8576b\"],[0.6666666666666666,\"#ed7953\"],[0.7777777777777778,\"#fb9f3a\"],[0.8888888888888888,\"#fdca26\"],[1.0,\"#f0f921\"]]},\"colorway\":[\"#636efa\",\"#EF553B\",\"#00cc96\",\"#ab63fa\",\"#FFA15A\",\"#19d3f3\",\"#FF6692\",\"#B6E880\",\"#FF97FF\",\"#FECB52\"],\"font\":{\"color\":\"#2a3f5f\"},\"geo\":{\"bgcolor\":\"white\",\"lakecolor\":\"white\",\"landcolor\":\"#E5ECF6\",\"showlakes\":true,\"showland\":true,\"subunitcolor\":\"white\"},\"hoverlabel\":{\"align\":\"left\"},\"hovermode\":\"closest\",\"mapbox\":{\"style\":\"light\"},\"paper_bgcolor\":\"white\",\"plot_bgcolor\":\"#E5ECF6\",\"polar\":{\"angularaxis\":{\"gridcolor\":\"white\",\"linecolor\":\"white\",\"ticks\":\"\"},\"bgcolor\":\"#E5ECF6\",\"radialaxis\":{\"gridcolor\":\"white\",\"linecolor\":\"white\",\"ticks\":\"\"}},\"scene\":{\"xaxis\":{\"backgroundcolor\":\"#E5ECF6\",\"gridcolor\":\"white\",\"gridwidth\":2,\"linecolor\":\"white\",\"showbackground\":true,\"ticks\":\"\",\"zerolinecolor\":\"white\"},\"yaxis\":{\"backgroundcolor\":\"#E5ECF6\",\"gridcolor\":\"white\",\"gridwidth\":2,\"linecolor\":\"white\",\"showbackground\":true,\"ticks\":\"\",\"zerolinecolor\":\"white\"},\"zaxis\":{\"backgroundcolor\":\"#E5ECF6\",\"gridcolor\":\"white\",\"gridwidth\":2,\"linecolor\":\"white\",\"showbackground\":true,\"ticks\":\"\",\"zerolinecolor\":\"white\"}},\"shapedefaults\":{\"line\":{\"color\":\"#2a3f5f\"}},\"ternary\":{\"aaxis\":{\"gridcolor\":\"white\",\"linecolor\":\"white\",\"ticks\":\"\"},\"baxis\":{\"gridcolor\":\"white\",\"linecolor\":\"white\",\"ticks\":\"\"},\"bgcolor\":\"#E5ECF6\",\"caxis\":{\"gridcolor\":\"white\",\"linecolor\":\"white\",\"ticks\":\"\"}},\"title\":{\"x\":0.05},\"xaxis\":{\"automargin\":true,\"gridcolor\":\"white\",\"linecolor\":\"white\",\"ticks\":\"\",\"title\":{\"standoff\":15},\"zerolinecolor\":\"white\",\"zerolinewidth\":2},\"yaxis\":{\"automargin\":true,\"gridcolor\":\"white\",\"linecolor\":\"white\",\"ticks\":\"\",\"title\":{\"standoff\":15},\"zerolinecolor\":\"white\",\"zerolinewidth\":2}}},\"title\":{\"text\":\"Segment Count\"}},                        {\"responsive\": true}                    ).then(function(){\n",
       "                            \n",
       "var gd = document.getElementById('3af07dcf-3711-4810-a803-826f4cf93b24');\n",
       "var x = new MutationObserver(function (mutations, observer) {{\n",
       "        var display = window.getComputedStyle(gd).display;\n",
       "        if (!display || display === 'none') {{\n",
       "            console.log([gd, 'removed!']);\n",
       "            Plotly.purge(gd);\n",
       "            observer.disconnect();\n",
       "        }}\n",
       "}});\n",
       "\n",
       "// Listen for the removal of the full notebook cells\n",
       "var notebookContainer = gd.closest('#notebook-container');\n",
       "if (notebookContainer) {{\n",
       "    x.observe(notebookContainer, {childList: true});\n",
       "}}\n",
       "\n",
       "// Listen for the clearing of the current output cell\n",
       "var outputEl = gd.closest('.output');\n",
       "if (outputEl) {{\n",
       "    x.observe(outputEl, {childList: true});\n",
       "}}\n",
       "\n",
       "                        })                };                });            </script>        </div>"
      ]
     },
     "metadata": {},
     "output_type": "display_data"
    }
   ],
   "source": [
    "for trait in traits:\n",
    "\n",
    "    fig = go.Figure()\n",
    "    for traitvariant in (\n",
    "        df.groupby(trait).median().sort_values(\"Lastprice\", ascending=False).index\n",
    "    ):\n",
    "        fig.add_trace(\n",
    "            go.Box(\n",
    "                y=df[df[trait] == traitvariant].Lastprice.values,\n",
    "                name=traitvariant,\n",
    "                boxpoints=\"all\",\n",
    "                jitter=0.2,\n",
    "                whiskerwidth=0.2,\n",
    "                marker_size=2,\n",
    "                line_width=1,\n",
    "            )\n",
    "        )\n",
    "    fig.update_layout(title=trait)\n",
    "    fig.show()\n"
   ]
  },
  {
   "cell_type": "markdown",
   "metadata": {},
   "source": [
    "## Probscore as a simple unified metric to predict prices\n",
    "\n",
    "The Probscore metric is simply the product of the probabilities of the different traits of a piece. There is currently not much value in that metric. While only the lowest probabilities are able to command the very high outlier prices, overall correlation between Probscore and Lastprice remains low:"
   ]
  },
  {
   "cell_type": "code",
   "execution_count": 18,
   "metadata": {},
   "outputs": [
    {
     "data": {
      "text/html": [
       "<div>                            <div id=\"2bf221b6-79ab-481e-93f6-1ba2ee2d9f1d\" class=\"plotly-graph-div\" style=\"height:525px; width:100%;\"></div>            <script type=\"text/javascript\">                require([\"plotly\"], function(Plotly) {                    window.PLOTLYENV=window.PLOTLYENV || {};                                    if (document.getElementById(\"2bf221b6-79ab-481e-93f6-1ba2ee2d9f1d\")) {                    Plotly.newPlot(                        \"2bf221b6-79ab-481e-93f6-1ba2ee2d9f1d\",                        [{\"customdata\":[[\"Parade #131\",\"64\",\"Horizontal\",\"Spectrum\",\"128\"],[\"Parade #18\",\"16\",\"Horizontal\",\"Traverse\",\"64\"],[\"Parade #155\",\"64\",\"Vertical\",\"Parade\",\"128\"],[\"Parade #13\",\"1\",\"Vertical\",\"Journey\",\"32\"],[\"Parade #39\",\"4\",\"Vertical\",\"Radiate\",\"8\"],[\"Parade #32\",\"16\",\"Vertical\",\"Syncronize\",\"64\"],[\"Parade #55\",\"32\",\"Vertical\",\"Spectrum\",\"16\"],[\"Parade #9\",\"32\",\"Vertical\",\"Distortion\",\"32\"],[\"Parade #195\",\"128\",\"Vertical\",\"Space\",\"16\"],[\"Parade #4\",\"16\",\"Vertical\",\"Space\",\"64\"],[\"Parade #75\",\"64\",\"Horizontal\",\"Red Radiation\",\"32\"],[\"Parade #136\",\"8\",\"Horizontal\",\"Yellow Radiation\",\"32\"],[\"Parade #8\",\"128\",\"Vertical\",\"Delve\",\"8\"],[\"Parade #27\",\"4\",\"Vertical\",\"Luminous\",\"128\"],[\"Parade #45\",\"4\",\"Vertical\",\"Distortion\",\"64\"],[\"Parade #19\",\"16\",\"Vertical\",\"Royalty\",\"16\"],[\"Parade #17\",\"1\",\"Vertical\",\"Nostalgia 1\",\"32\"],[\"Parade #16\",\"32\",\"Vertical\",\"Delve\",\"128\"],[\"Parade #15\",\"64\",\"Vertical\",\"Appeal\",\"64\"],[\"Parade #14\",\"64\",\"Vertical\",\"Wonder\",\"64\"],[\"Parade #12\",\"128\",\"Vertical\",\"Balance\",\"8\"],[\"Parade #11\",\"128\",\"Vertical\",\"Wonder\",\"128\"],[\"Parade #10\",\"16\",\"Vertical\",\"Resolve\",\"16\"],[\"Parade #7\",\"32\",\"Vertical\",\"Luminous\",\"32\"],[\"Parade #6\",\"4\",\"Vertical\",\"Concept\",\"128\"],[\"Parade #5\",\"1\",\"Vertical\",\"Resolve\",\"32\"],[\"Parade #3\",\"128\",\"Horizontal\",\"Strive\",\"32\"],[\"Parade #2\",\"64\",\"Horizontal\",\"Distortion\",\"32\"],[\"Parade #1\",\"32\",\"Vertical\",\"Radiate\",\"32\"],[\"Parade #0\",\"8\",\"Horizontal\",\"Optimism\",\"128\"],[\"Parade #38\",\"128\",\"Vertical\",\"Delve\",\"128\"],[\"Parade #37\",\"4\",\"Vertical\",\"Interfere\",\"32\"],[\"Parade #36\",\"64\",\"Horizontal\",\"Distortion\",\"16\"],[\"Parade #35\",\"1\",\"Vertical\",\"Expanse\",\"64\"],[\"Parade #34\",\"32\",\"Horizontal\",\"Parade\",\"32\"],[\"Parade #33\",\"4\",\"Vertical\",\"Resolve\",\"8\"],[\"Parade #31\",\"8\",\"Horizontal\",\"Delve\",\"64\"],[\"Parade #30\",\"128\",\"Vertical\",\"Syncronize\",\"8\"],[\"Parade #29\",\"4\",\"Vertical\",\"Syncronize\",\"64\"],[\"Parade #28\",\"1\",\"Vertical\",\"Royalty\",\"64\"],[\"Parade #26\",\"128\",\"Horizontal\",\"Interfere\",\"64\"],[\"Parade #25\",\"8\",\"Horizontal\",\"Resolve\",\"32\"],[\"Parade #24\",\"64\",\"Vertical\",\"Radiate\",\"16\"],[\"Parade #23\",\"8\",\"Horizontal\",\"Balance\",\"32\"],[\"Parade #22\",\"128\",\"Vertical\",\"Nostalgia 0\",\"8\"],[\"Parade #21\",\"128\",\"Vertical\",\"Traverse\",\"16\"],[\"Parade #20\",\"64\",\"Horizontal\",\"Space\",\"64\"],[\"Parade #59\",\"64\",\"Vertical\",\"Wonder\",\"64\"],[\"Parade #58\",\"1\",\"Vertical\",\"Radiate\",\"128\"],[\"Parade #57\",\"1\",\"Vertical\",\"Precision\",\"16\"],[\"Parade #56\",\"32\",\"Vertical\",\"Distortion\",\"32\"],[\"Parade #54\",\"64\",\"Horizontal\",\"Space\",\"64\"],[\"Parade #53\",\"4\",\"Vertical\",\"Expanse\",\"32\"],[\"Parade #52\",\"32\",\"Vertical\",\"Interfere\",\"16\"],[\"Parade #51\",\"1\",\"Vertical\",\"Enhance\",\"8\"],[\"Parade #50\",\"4\",\"Vertical\",\"Space\",\"32\"],[\"Parade #49\",\"4\",\"Vertical\",\"Space\",\"64\"],[\"Parade #48\",\"8\",\"Horizontal\",\"Appeal\",\"128\"],[\"Parade #47\",\"64\",\"Vertical\",\"Expanse\",\"128\"],[\"Parade #46\",\"64\",\"Vertical\",\"Distortion\",\"8\"],[\"Parade #44\",\"32\",\"Vertical\",\"Outlook\",\"32\"],[\"Parade #43\",\"32\",\"Horizontal\",\"Nostalgia 1\",\"128\"],[\"Parade #42\",\"16\",\"Horizontal\",\"Radiate\",\"16\"],[\"Parade #41\",\"1\",\"Vertical\",\"Moment\",\"64\"],[\"Parade #40\",\"1\",\"Vertical\",\"Wonder\",\"8\"],[\"Parade #79\",\"64\",\"Horizontal\",\"Outlook\",\"128\"],[\"Parade #78\",\"4\",\"Vertical\",\"Expanse\",\"64\"],[\"Parade #77\",\"32\",\"Horizontal\",\"Spectrum\",\"64\"],[\"Parade #76\",\"4\",\"Vertical\",\"Expanse\",\"32\"],[\"Parade #74\",\"32\",\"Vertical\",\"Wonder\",\"32\"],[\"Parade #73\",\"16\",\"Horizontal\",\"Interfere\",\"128\"],[\"Parade #72\",\"8\",\"Horizontal\",\"Wonder\",\"64\"],[\"Parade #71\",\"4\",\"Vertical\",\"Cyan Radiation\",\"16\"],[\"Parade #70\",\"8\",\"Horizontal\",\"Royalty\",\"128\"],[\"Parade #69\",\"8\",\"Horizontal\",\"Luminous\",\"64\"],[\"Parade #68\",\"16\",\"Vertical\",\"Strive\",\"8\"],[\"Parade #67\",\"8\",\"Horizontal\",\"Expanse\",\"16\"],[\"Parade #66\",\"1\",\"Vertical\",\"Space\",\"8\"],[\"Parade #65\",\"4\",\"Vertical\",\"Traverse\",\"16\"],[\"Parade #64\",\"1\",\"Vertical\",\"Radiate\",\"64\"],[\"Parade #63\",\"16\",\"Horizontal\",\"Concept\",\"128\"],[\"Parade #62\",\"128\",\"Horizontal\",\"Delve\",\"128\"],[\"Parade #61\",\"64\",\"Vertical\",\"Royalty\",\"32\"],[\"Parade #60\",\"128\",\"Horizontal\",\"Strive\",\"64\"],[\"Parade #99\",\"1\",\"Vertical\",\"Royalty\",\"64\"],[\"Parade #98\",\"128\",\"Horizontal\",\"Optimism\",\"32\"],[\"Parade #97\",\"16\",\"Vertical\",\"Interfere\",\"64\"],[\"Parade #96\",\"64\",\"Horizontal\",\"Nostalgia 1\",\"16\"],[\"Parade #95\",\"1\",\"Vertical\",\"Interfere\",\"128\"],[\"Parade #94\",\"32\",\"Vertical\",\"Nostalgia 0\",\"16\"],[\"Parade #93\",\"1\",\"Vertical\",\"Interfere\",\"64\"],[\"Parade #92\",\"1\",\"Vertical\",\"Space\",\"32\"],[\"Parade #91\",\"1\",\"Vertical\",\"Syncronize\",\"128\"],[\"Parade #90\",\"32\",\"Vertical\",\"Nostalgia 0\",\"16\"],[\"Parade #89\",\"16\",\"Horizontal\",\"Space\",\"64\"],[\"Parade #88\",\"1\",\"Vertical\",\"Mono Radiation\",\"64\"],[\"Parade #87\",\"128\",\"Vertical\",\"Moment\",\"32\"],[\"Parade #86\",\"32\",\"Horizontal\",\"Nostalgia 0\",\"64\"],[\"Parade #85\",\"128\",\"Vertical\",\"Enhance\",\"32\"],[\"Parade #84\",\"1\",\"Vertical\",\"Resolve\",\"64\"],[\"Parade #83\",\"4\",\"Vertical\",\"Nostalgia 0\",\"64\"],[\"Parade #82\",\"128\",\"Horizontal\",\"Syncronize\",\"16\"],[\"Parade #81\",\"16\",\"Vertical\",\"Syncronize\",\"8\"],[\"Parade #80\",\"128\",\"Vertical\",\"Nostalgia 0\",\"8\"],[\"Parade #119\",\"8\",\"Horizontal\",\"Interfere\",\"16\"],[\"Parade #118\",\"1\",\"Vertical\",\"Red Radiation\",\"32\"],[\"Parade #117\",\"8\",\"Horizontal\",\"Space\",\"128\"],[\"Parade #116\",\"1\",\"Vertical\",\"Radiate\",\"128\"],[\"Parade #115\",\"64\",\"Vertical\",\"Distortion\",\"64\"],[\"Parade #114\",\"64\",\"Horizontal\",\"Optimism\",\"64\"],[\"Parade #113\",\"16\",\"Vertical\",\"Parade\",\"8\"],[\"Parade #112\",\"64\",\"Horizontal\",\"Entropy\",\"32\"],[\"Parade #111\",\"4\",\"Vertical\",\"Balance\",\"16\"],[\"Parade #110\",\"1\",\"Vertical\",\"Blue Radiation\",\"128\"],[\"Parade #109\",\"32\",\"Horizontal\",\"Moment\",\"64\"],[\"Parade #108\",\"32\",\"Vertical\",\"Parade\",\"16\"],[\"Parade #107\",\"8\",\"Horizontal\",\"Resolve\",\"32\"],[\"Parade #106\",\"1\",\"Vertical\",\"Radiate\",\"8\"],[\"Parade #105\",\"32\",\"Vertical\",\"Optimism\",\"128\"],[\"Parade #104\",\"128\",\"Horizontal\",\"Delve\",\"128\"],[\"Parade #103\",\"16\",\"Horizontal\",\"Interfere\",\"32\"],[\"Parade #102\",\"1\",\"Vertical\",\"Luminous\",\"32\"],[\"Parade #101\",\"128\",\"Horizontal\",\"Red Radiation\",\"16\"],[\"Parade #100\",\"16\",\"Vertical\",\"Luminous\",\"16\"],[\"Parade #139\",\"4\",\"Vertical\",\"Wonder\",\"16\"],[\"Parade #138\",\"1\",\"Vertical\",\"Green Radiation\",\"16\"],[\"Parade #137\",\"128\",\"Vertical\",\"Mono Radiation\",\"16\"],[\"Parade #135\",\"4\",\"Vertical\",\"Parade\",\"8\"],[\"Parade #134\",\"128\",\"Vertical\",\"Strive\",\"16\"],[\"Parade #133\",\"1\",\"Vertical\",\"Outlook\",\"128\"],[\"Parade #132\",\"128\",\"Vertical\",\"Expanse\",\"64\"],[\"Parade #130\",\"64\",\"Horizontal\",\"Interfere\",\"64\"],[\"Parade #129\",\"32\",\"Horizontal\",\"Nostalgia 0\",\"128\"],[\"Parade #128\",\"32\",\"Horizontal\",\"Wonder\",\"128\"],[\"Parade #127\",\"32\",\"Horizontal\",\"Nostalgia 0\",\"128\"],[\"Parade #126\",\"128\",\"Vertical\",\"Interfere\",\"16\"],[\"Parade #125\",\"1\",\"Vertical\",\"Radiate\",\"128\"],[\"Parade #124\",\"1\",\"Vertical\",\"Parade\",\"16\"],[\"Parade #123\",\"64\",\"Vertical\",\"Space\",\"64\"],[\"Parade #122\",\"4\",\"Vertical\",\"Entropy\",\"8\"],[\"Parade #121\",\"4\",\"Vertical\",\"Expanse\",\"16\"],[\"Parade #120\",\"32\",\"Vertical\",\"Magenta Radiation\",\"16\"],[\"Parade #159\",\"4\",\"Vertical\",\"Precision\",\"64\"],[\"Parade #158\",\"4\",\"Vertical\",\"Delve\",\"8\"],[\"Parade #157\",\"1\",\"Vertical\",\"Radiate\",\"64\"],[\"Parade #156\",\"4\",\"Vertical\",\"Concept\",\"16\"],[\"Parade #154\",\"64\",\"Vertical\",\"Balance\",\"32\"],[\"Parade #153\",\"32\",\"Horizontal\",\"Delve\",\"32\"],[\"Parade #152\",\"16\",\"Vertical\",\"Radiate\",\"32\"],[\"Parade #151\",\"8\",\"Horizontal\",\"Balance\",\"64\"],[\"Parade #150\",\"8\",\"Horizontal\",\"Royalty\",\"128\"],[\"Parade #149\",\"128\",\"Vertical\",\"Distortion\",\"16\"],[\"Parade #148\",\"1\",\"Vertical\",\"Traverse\",\"64\"],[\"Parade #147\",\"16\",\"Horizontal\",\"Nostalgia 0\",\"32\"],[\"Parade #146\",\"1\",\"Vertical\",\"Outlook\",\"16\"],[\"Parade #145\",\"8\",\"Horizontal\",\"Balance\",\"32\"],[\"Parade #144\",\"8\",\"Horizontal\",\"Delve\",\"16\"],[\"Parade #143\",\"64\",\"Horizontal\",\"Moment\",\"64\"],[\"Parade #142\",\"8\",\"Horizontal\",\"Traverse\",\"16\"],[\"Parade #141\",\"4\",\"Vertical\",\"Delve\",\"64\"],[\"Parade #140\",\"16\",\"Horizontal\",\"Journey\",\"32\"],[\"Parade #179\",\"32\",\"Horizontal\",\"Delve\",\"16\"],[\"Parade #178\",\"1\",\"Vertical\",\"Optimism\",\"16\"],[\"Parade #177\",\"8\",\"Horizontal\",\"Expanse\",\"64\"],[\"Parade #176\",\"16\",\"Vertical\",\"Wonder\",\"64\"],[\"Parade #175\",\"8\",\"Horizontal\",\"Moment\",\"64\"],[\"Parade #174\",\"4\",\"Vertical\",\"Strive\",\"64\"],[\"Parade #173\",\"1\",\"Vertical\",\"Delve\",\"64\"],[\"Parade #172\",\"16\",\"Vertical\",\"Appeal\",\"128\"],[\"Parade #171\",\"1\",\"Vertical\",\"Radiate\",\"8\"],[\"Parade #170\",\"64\",\"Horizontal\",\"Luminous\",\"16\"],[\"Parade #169\",\"128\",\"Horizontal\",\"Strive\",\"32\"],[\"Parade #168\",\"128\",\"Horizontal\",\"Concept\",\"128\"],[\"Parade #167\",\"1\",\"Vertical\",\"Radiate\",\"128\"],[\"Parade #166\",\"32\",\"Vertical\",\"Entropy\",\"8\"],[\"Parade #165\",\"128\",\"Horizontal\",\"Appeal\",\"32\"],[\"Parade #164\",\"4\",\"Vertical\",\"Nostalgia 1\",\"16\"],[\"Parade #163\",\"64\",\"Horizontal\",\"Nostalgia 1\",\"32\"],[\"Parade #162\",\"1\",\"Vertical\",\"Syncronize\",\"128\"],[\"Parade #161\",\"1\",\"Vertical\",\"Royalty\",\"8\"],[\"Parade #160\",\"32\",\"Vertical\",\"Delve\",\"32\"],[\"Parade #199\",\"64\",\"Vertical\",\"Delve\",\"8\"],[\"Parade #198\",\"1\",\"Vertical\",\"Concept\",\"8\"],[\"Parade #197\",\"64\",\"Vertical\",\"Delve\",\"32\"],[\"Parade #196\",\"1\",\"Vertical\",\"Wonder\",\"32\"],[\"Parade #194\",\"16\",\"Vertical\",\"Traverse\",\"32\"],[\"Parade #193\",\"1\",\"Vertical\",\"Strive\",\"8\"],[\"Parade #192\",\"1\",\"Vertical\",\"Distortion\",\"64\"],[\"Parade #191\",\"64\",\"Vertical\",\"Outlook\",\"32\"],[\"Parade #190\",\"64\",\"Vertical\",\"Moment\",\"32\"],[\"Parade #189\",\"4\",\"Vertical\",\"Journey\",\"128\"],[\"Parade #188\",\"32\",\"Horizontal\",\"Journey\",\"128\"],[\"Parade #187\",\"4\",\"Vertical\",\"Balance\",\"8\"],[\"Parade #186\",\"16\",\"Vertical\",\"Mono Radiation\",\"32\"],[\"Parade #185\",\"4\",\"Vertical\",\"Luminous\",\"16\"],[\"Parade #184\",\"4\",\"Vertical\",\"Syncronize\",\"8\"],[\"Parade #183\",\"4\",\"Vertical\",\"Outlook\",\"128\"],[\"Parade #182\",\"16\",\"Vertical\",\"Appeal\",\"8\"],[\"Parade #181\",\"32\",\"Vertical\",\"Nostalgia 1\",\"32\"],[\"Parade #180\",\"1\",\"Vertical\",\"Syncronize\",\"8\"],[\"Parade #219\",\"64\",\"Vertical\",\"Delve\",\"8\"],[\"Parade #218\",\"16\",\"Vertical\",\"Optimism\",\"32\"],[\"Parade #217\",\"128\",\"Vertical\",\"Royalty\",\"64\"],[\"Parade #216\",\"4\",\"Vertical\",\"Moment\",\"64\"],[\"Parade #215\",\"16\",\"Horizontal\",\"Balance\",\"128\"],[\"Parade #214\",\"8\",\"Horizontal\",\"Strive\",\"64\"],[\"Parade #213\",\"64\",\"Vertical\",\"Concept\",\"64\"],[\"Parade #212\",\"128\",\"Horizontal\",\"Balance\",\"64\"],[\"Parade #211\",\"32\",\"Vertical\",\"Appeal\",\"16\"],[\"Parade #210\",\"8\",\"Horizontal\",\"Radiate\",\"128\"],[\"Parade #209\",\"1\",\"Vertical\",\"Parade\",\"128\"],[\"Parade #208\",\"128\",\"Horizontal\",\"Royalty\",\"16\"],[\"Parade #207\",\"128\",\"Vertical\",\"Syncronize\",\"128\"],[\"Parade #206\",\"4\",\"Vertical\",\"Nostalgia 0\",\"64\"],[\"Parade #205\",\"1\",\"Vertical\",\"Red Radiation\",\"16\"],[\"Parade #204\",\"1\",\"Vertical\",\"Journey\",\"16\"],[\"Parade #203\",\"4\",\"Vertical\",\"Royalty\",\"64\"],[\"Parade #202\",\"128\",\"Horizontal\",\"Space\",\"16\"],[\"Parade #201\",\"4\",\"Vertical\",\"Radiate\",\"32\"],[\"Parade #200\",\"16\",\"Vertical\",\"Traverse\",\"16\"],[\"Parade #239\",\"128\",\"Horizontal\",\"Distortion\",\"128\"],[\"Parade #238\",\"128\",\"Vertical\",\"Syncronize\",\"32\"],[\"Parade #237\",\"4\",\"Vertical\",\"Delve\",\"128\"],[\"Parade #236\",\"64\",\"Vertical\",\"Wonder\",\"8\"],[\"Parade #235\",\"4\",\"Vertical\",\"Journey\",\"64\"],[\"Parade #234\",\"8\",\"Horizontal\",\"Radiate\",\"16\"],[\"Parade #233\",\"128\",\"Horizontal\",\"Delve\",\"16\"],[\"Parade #232\",\"32\",\"Vertical\",\"Outlook\",\"32\"],[\"Parade #231\",\"128\",\"Horizontal\",\"Cyan Radiation\",\"32\"],[\"Parade #230\",\"16\",\"Vertical\",\"Wonder\",\"8\"],[\"Parade #229\",\"128\",\"Horizontal\",\"Interfere\",\"128\"],[\"Parade #228\",\"4\",\"Vertical\",\"Concept\",\"16\"],[\"Parade #227\",\"1\",\"Vertical\",\"Resolve\",\"128\"],[\"Parade #226\",\"32\",\"Vertical\",\"Luminous\",\"16\"],[\"Parade #225\",\"1\",\"Vertical\",\"Concept\",\"8\"],[\"Parade #224\",\"4\",\"Vertical\",\"Delve\",\"32\"],[\"Parade #223\",\"128\",\"Horizontal\",\"Expanse\",\"64\"],[\"Parade #222\",\"4\",\"Vertical\",\"Nostalgia 0\",\"16\"],[\"Parade #221\",\"16\",\"Horizontal\",\"Luminous\",\"128\"],[\"Parade #220\",\"32\",\"Vertical\",\"Interfere\",\"64\"],[\"Parade #249\",\"4\",\"Vertical\",\"Nostalgia 1\",\"16\"],[\"Parade #248\",\"32\",\"Horizontal\",\"Concept\",\"32\"],[\"Parade #247\",\"16\",\"Horizontal\",\"Luminous\",\"32\"],[\"Parade #246\",\"64\",\"Vertical\",\"Royalty\",\"64\"],[\"Parade #245\",\"64\",\"Horizontal\",\"Traverse\",\"32\"],[\"Parade #244\",\"4\",\"Vertical\",\"Entropy\",\"32\"],[\"Parade #243\",\"64\",\"Vertical\",\"Resolve\",\"8\"],[\"Parade #242\",\"4\",\"Vertical\",\"Mono Radiation\",\"32\"],[\"Parade #241\",\"64\",\"Vertical\",\"Appeal\",\"128\"],[\"Parade #240\",\"1\",\"Vertical\",\"Nostalgia 1\",\"128\"]],\"hovertemplate\":\"Probscore=%{x}<br>Lastprice=%{y}<br>Name=%{customdata[0]}<br>Bar Count=%{customdata[1]}<br>Orientation=%{customdata[2]}<br>Palette=%{customdata[3]}<br>Segment Count=%{customdata[4]}<extra></extra>\",\"legendgroup\":\"\",\"marker\":{\"color\":\"#636efa\",\"symbol\":\"circle\"},\"mode\":\"markers\",\"name\":\"\",\"orientation\":\"v\",\"showlegend\":false,\"type\":\"scatter\",\"x\":[0.00023316000000000002,0.0005628000000000001,0.00116928,0.0015551999999999996,0.00205632,0.001728,0.00054432,0.0017418239999999999,0.0023327999999999995,0.0020736,0.00037305600000000003,6.753600000000001e-05,0.0018143999999999999,0.0013708799999999999,0.0022031999999999998,0.00139968,0.00186624,0.0024192000000000003,0.001044,0.002088,0.00084672,0.0017279999999999997,0.0009331200000000001,0.001354752,0.0009792000000000002,0.00186624,0.00067536,0.0008393760000000001,0.00290304,0.0002814,0.0025919999999999997,0.002585088,0.000786915,0.0029159999999999993,0.0006303360000000002,0.000822528,0.0010552500000000002,0.0012096000000000001,0.0024480000000000005,0.0029159999999999993,0.0011055000000000001,0.000405216,0.0028187999999999998,0.00047275200000000017,0.0012096,0.0013608,0.0011658,0.002088,0.003887999999999999,0.0005832,0.0017418239999999999,0.0011658,0.002115072,0.00199584,0.00036288000000000005,0.0028200960000000002,0.0029376000000000003,0.0002814,0.0015033599999999998,0.001052352,0.001161216,0.0004502400000000001,0.0010854,0.001944,0.0018143999999999999,0.00046632000000000005,0.0022031999999999998,0.00028140000000000006,0.002115072,0.00193536,0.00070752,0.0007035000000000001,0.00022032,0.0005065200000000001,0.0004924500000000002,0.000677376,0.0005698350000000001,0.00217728,0.0015422399999999998,0.004859999999999999,0.0003216,0.001206,0.0018040320000000001,0.0007035000000000001,0.0029159999999999993,0.0004824,0.0019007999999999996,0.00052461,0.0028511999999999995,0.0018143999999999999,0.0035639999999999995,0.00373248,0.002592,0.0018143999999999999,0.0009648000000000002,0.000972,0.00124416,0.0009380000000000001,0.00041472,0.001944,0.0024480000000000005,0.0009045,0.00096768,0.0012096,0.0006964650000000001,0.00124416,0.0006753600000000001,0.003887999999999999,0.0018791999999999997,0.00048575000000000007,0.000677376,0.00027979200000000006,0.0015422399999999998,0.0002592,0.0005628000000000001,0.00127008,0.000405216,0.0027215999999999994,0.0008064,0.001206,0.0008490240000000001,0.00217728,0.00036179999999999996,0.00108864,0.0022032,0.0002916,0.0005832,0.0009596160000000002,0.0013608,0.0015551999999999999,0.0019439999999999995,0.0010686500000000002,0.0007504000000000001,0.0007504000000000001,0.0007504000000000001,0.0021383999999999995,0.003887999999999999,0.0020412,0.0025056,0.00041126400000000005,0.00198288,0.00018144,0.0004896000000000001,0.0020563200000000004,0.004859999999999999,0.0011015999999999999,0.001403136,0.0013507200000000001,0.0024883199999999996,0.0004924500000000002,0.0005065200000000001,0.0017495999999999998,0.0022679999999999996,0.0007718400000000001,0.0017496,0.00047275200000000017,0.000949725,0.0005829000000000001,0.00044320499999999996,0.003672000000000001,0.00038592000000000005,0.0012663000000000002,0.0014579999999999997,0.0006331500000000002,0.001728,0.00042210000000000007,0.0017136000000000005,0.00486,0.0006912,0.0027215999999999994,0.000612045,0.00067536,0.000402,0.003887999999999999,0.000338688,0.0004824,0.0013219199999999999,0.0005595840000000001,0.002592,0.00163296,0.00290304,0.00175392,0.0009071999999999999,0.00300672,0.0031103999999999997,0.001161216,0.00127008,0.0029159999999999993,0.001202688,0.001202688,0.0009792000000000002,0.0003752,0.0009596160000000002,0.000497664,0.0015422399999999998,0.0013708799999999999,0.00117504,0.00048384,0.001161216,0.0018143999999999999,1.4195999999999998e-07,5.0700000000000004e-08,1.4601599999999998e-07,8.213399999999997e-08,4.056e-08,9.125999999999998e-09,2.5552799999999996e-07,7.300799999999999e-08,7.098e-08,0.0008442000000000001,0.0018143999999999999,0.00081405,0.0017279999999999997,0.0024480000000000005,0.0011664,0.0014579999999999997,0.0022032,0.0010854,0.0035251199999999996,0.00108864,3.244800000000001e-08,8.112e-08,2.9203199999999995e-07,7.097999999999999e-08,8.213399999999997e-08,7.098000000000002e-09,1.1356800000000003e-07,5.0700000000000004e-08,4.056e-08,5.0700000000000004e-08,6.489600000000001e-08,2.55528e-07,4.8672e-08,1.0647000000000001e-07,6.084000000000001e-08,3.6503999999999994e-07,3.6503999999999994e-08,6.388199999999999e-08,6.084000000000001e-08,9.126e-08,1.27764e-07,1.0140000000000001e-07,7.605e-08,1.2776399999999998e-07,3.5489999999999996e-08,9.125999999999998e-08,7.097999999999999e-08,9.125999999999998e-08,1.1356799999999999e-07,4.8672e-08],\"xaxis\":\"x\",\"y\":[3.5,1.12,1.1,1.0,1.0,1.0,1.0,0.7,0.575,0.5,0.5,0.5,0.4,0.24,0.2,null,null,null,null,null,null,null,null,null,null,null,null,null,null,null,null,null,null,null,null,null,null,null,null,null,null,null,null,null,null,null,null,null,null,null,null,null,null,null,null,null,null,null,null,null,null,null,null,null,null,null,null,null,null,null,null,null,null,null,null,null,null,null,null,null,null,null,null,null,null,null,null,null,null,null,null,null,null,null,null,null,null,null,null,null,null,null,null,null,null,null,null,null,null,null,null,null,null,null,null,null,null,null,null,null,null,null,null,null,null,null,null,null,null,null,null,null,null,null,null,null,null,null,null,null,null,null,null,null,null,null,null,null,null,null,null,null,null,null,null,null,null,null,null,null,null,null,null,null,null,null,null,null,null,null,null,null,null,null,null,null,null,null,null,null,null,null,null,null,null,null,null,null,null,null,null,null,null,null,null,null,null,null,null,null,null,null,null,null,null,null,null,null,null,null,null,null,null,null,null,null,null,null,null,null,null,null,null,null,null,null,null,null,null,null,null,null,null,null,null,null,null,null,null,null,null,null,null,null,null,null,null,null,null,null],\"yaxis\":\"y\"}],                        {\"legend\":{\"tracegroupgap\":0},\"margin\":{\"t\":60},\"template\":{\"data\":{\"bar\":[{\"error_x\":{\"color\":\"#2a3f5f\"},\"error_y\":{\"color\":\"#2a3f5f\"},\"marker\":{\"line\":{\"color\":\"#E5ECF6\",\"width\":0.5},\"pattern\":{\"fillmode\":\"overlay\",\"size\":10,\"solidity\":0.2}},\"type\":\"bar\"}],\"barpolar\":[{\"marker\":{\"line\":{\"color\":\"#E5ECF6\",\"width\":0.5},\"pattern\":{\"fillmode\":\"overlay\",\"size\":10,\"solidity\":0.2}},\"type\":\"barpolar\"}],\"carpet\":[{\"aaxis\":{\"endlinecolor\":\"#2a3f5f\",\"gridcolor\":\"white\",\"linecolor\":\"white\",\"minorgridcolor\":\"white\",\"startlinecolor\":\"#2a3f5f\"},\"baxis\":{\"endlinecolor\":\"#2a3f5f\",\"gridcolor\":\"white\",\"linecolor\":\"white\",\"minorgridcolor\":\"white\",\"startlinecolor\":\"#2a3f5f\"},\"type\":\"carpet\"}],\"choropleth\":[{\"colorbar\":{\"outlinewidth\":0,\"ticks\":\"\"},\"type\":\"choropleth\"}],\"contour\":[{\"colorbar\":{\"outlinewidth\":0,\"ticks\":\"\"},\"colorscale\":[[0.0,\"#0d0887\"],[0.1111111111111111,\"#46039f\"],[0.2222222222222222,\"#7201a8\"],[0.3333333333333333,\"#9c179e\"],[0.4444444444444444,\"#bd3786\"],[0.5555555555555556,\"#d8576b\"],[0.6666666666666666,\"#ed7953\"],[0.7777777777777778,\"#fb9f3a\"],[0.8888888888888888,\"#fdca26\"],[1.0,\"#f0f921\"]],\"type\":\"contour\"}],\"contourcarpet\":[{\"colorbar\":{\"outlinewidth\":0,\"ticks\":\"\"},\"type\":\"contourcarpet\"}],\"heatmap\":[{\"colorbar\":{\"outlinewidth\":0,\"ticks\":\"\"},\"colorscale\":[[0.0,\"#0d0887\"],[0.1111111111111111,\"#46039f\"],[0.2222222222222222,\"#7201a8\"],[0.3333333333333333,\"#9c179e\"],[0.4444444444444444,\"#bd3786\"],[0.5555555555555556,\"#d8576b\"],[0.6666666666666666,\"#ed7953\"],[0.7777777777777778,\"#fb9f3a\"],[0.8888888888888888,\"#fdca26\"],[1.0,\"#f0f921\"]],\"type\":\"heatmap\"}],\"heatmapgl\":[{\"colorbar\":{\"outlinewidth\":0,\"ticks\":\"\"},\"colorscale\":[[0.0,\"#0d0887\"],[0.1111111111111111,\"#46039f\"],[0.2222222222222222,\"#7201a8\"],[0.3333333333333333,\"#9c179e\"],[0.4444444444444444,\"#bd3786\"],[0.5555555555555556,\"#d8576b\"],[0.6666666666666666,\"#ed7953\"],[0.7777777777777778,\"#fb9f3a\"],[0.8888888888888888,\"#fdca26\"],[1.0,\"#f0f921\"]],\"type\":\"heatmapgl\"}],\"histogram\":[{\"marker\":{\"pattern\":{\"fillmode\":\"overlay\",\"size\":10,\"solidity\":0.2}},\"type\":\"histogram\"}],\"histogram2d\":[{\"colorbar\":{\"outlinewidth\":0,\"ticks\":\"\"},\"colorscale\":[[0.0,\"#0d0887\"],[0.1111111111111111,\"#46039f\"],[0.2222222222222222,\"#7201a8\"],[0.3333333333333333,\"#9c179e\"],[0.4444444444444444,\"#bd3786\"],[0.5555555555555556,\"#d8576b\"],[0.6666666666666666,\"#ed7953\"],[0.7777777777777778,\"#fb9f3a\"],[0.8888888888888888,\"#fdca26\"],[1.0,\"#f0f921\"]],\"type\":\"histogram2d\"}],\"histogram2dcontour\":[{\"colorbar\":{\"outlinewidth\":0,\"ticks\":\"\"},\"colorscale\":[[0.0,\"#0d0887\"],[0.1111111111111111,\"#46039f\"],[0.2222222222222222,\"#7201a8\"],[0.3333333333333333,\"#9c179e\"],[0.4444444444444444,\"#bd3786\"],[0.5555555555555556,\"#d8576b\"],[0.6666666666666666,\"#ed7953\"],[0.7777777777777778,\"#fb9f3a\"],[0.8888888888888888,\"#fdca26\"],[1.0,\"#f0f921\"]],\"type\":\"histogram2dcontour\"}],\"mesh3d\":[{\"colorbar\":{\"outlinewidth\":0,\"ticks\":\"\"},\"type\":\"mesh3d\"}],\"parcoords\":[{\"line\":{\"colorbar\":{\"outlinewidth\":0,\"ticks\":\"\"}},\"type\":\"parcoords\"}],\"pie\":[{\"automargin\":true,\"type\":\"pie\"}],\"scatter\":[{\"marker\":{\"colorbar\":{\"outlinewidth\":0,\"ticks\":\"\"}},\"type\":\"scatter\"}],\"scatter3d\":[{\"line\":{\"colorbar\":{\"outlinewidth\":0,\"ticks\":\"\"}},\"marker\":{\"colorbar\":{\"outlinewidth\":0,\"ticks\":\"\"}},\"type\":\"scatter3d\"}],\"scattercarpet\":[{\"marker\":{\"colorbar\":{\"outlinewidth\":0,\"ticks\":\"\"}},\"type\":\"scattercarpet\"}],\"scattergeo\":[{\"marker\":{\"colorbar\":{\"outlinewidth\":0,\"ticks\":\"\"}},\"type\":\"scattergeo\"}],\"scattergl\":[{\"marker\":{\"colorbar\":{\"outlinewidth\":0,\"ticks\":\"\"}},\"type\":\"scattergl\"}],\"scattermapbox\":[{\"marker\":{\"colorbar\":{\"outlinewidth\":0,\"ticks\":\"\"}},\"type\":\"scattermapbox\"}],\"scatterpolar\":[{\"marker\":{\"colorbar\":{\"outlinewidth\":0,\"ticks\":\"\"}},\"type\":\"scatterpolar\"}],\"scatterpolargl\":[{\"marker\":{\"colorbar\":{\"outlinewidth\":0,\"ticks\":\"\"}},\"type\":\"scatterpolargl\"}],\"scatterternary\":[{\"marker\":{\"colorbar\":{\"outlinewidth\":0,\"ticks\":\"\"}},\"type\":\"scatterternary\"}],\"surface\":[{\"colorbar\":{\"outlinewidth\":0,\"ticks\":\"\"},\"colorscale\":[[0.0,\"#0d0887\"],[0.1111111111111111,\"#46039f\"],[0.2222222222222222,\"#7201a8\"],[0.3333333333333333,\"#9c179e\"],[0.4444444444444444,\"#bd3786\"],[0.5555555555555556,\"#d8576b\"],[0.6666666666666666,\"#ed7953\"],[0.7777777777777778,\"#fb9f3a\"],[0.8888888888888888,\"#fdca26\"],[1.0,\"#f0f921\"]],\"type\":\"surface\"}],\"table\":[{\"cells\":{\"fill\":{\"color\":\"#EBF0F8\"},\"line\":{\"color\":\"white\"}},\"header\":{\"fill\":{\"color\":\"#C8D4E3\"},\"line\":{\"color\":\"white\"}},\"type\":\"table\"}]},\"layout\":{\"annotationdefaults\":{\"arrowcolor\":\"#2a3f5f\",\"arrowhead\":0,\"arrowwidth\":1},\"autotypenumbers\":\"strict\",\"coloraxis\":{\"colorbar\":{\"outlinewidth\":0,\"ticks\":\"\"}},\"colorscale\":{\"diverging\":[[0,\"#8e0152\"],[0.1,\"#c51b7d\"],[0.2,\"#de77ae\"],[0.3,\"#f1b6da\"],[0.4,\"#fde0ef\"],[0.5,\"#f7f7f7\"],[0.6,\"#e6f5d0\"],[0.7,\"#b8e186\"],[0.8,\"#7fbc41\"],[0.9,\"#4d9221\"],[1,\"#276419\"]],\"sequential\":[[0.0,\"#0d0887\"],[0.1111111111111111,\"#46039f\"],[0.2222222222222222,\"#7201a8\"],[0.3333333333333333,\"#9c179e\"],[0.4444444444444444,\"#bd3786\"],[0.5555555555555556,\"#d8576b\"],[0.6666666666666666,\"#ed7953\"],[0.7777777777777778,\"#fb9f3a\"],[0.8888888888888888,\"#fdca26\"],[1.0,\"#f0f921\"]],\"sequentialminus\":[[0.0,\"#0d0887\"],[0.1111111111111111,\"#46039f\"],[0.2222222222222222,\"#7201a8\"],[0.3333333333333333,\"#9c179e\"],[0.4444444444444444,\"#bd3786\"],[0.5555555555555556,\"#d8576b\"],[0.6666666666666666,\"#ed7953\"],[0.7777777777777778,\"#fb9f3a\"],[0.8888888888888888,\"#fdca26\"],[1.0,\"#f0f921\"]]},\"colorway\":[\"#636efa\",\"#EF553B\",\"#00cc96\",\"#ab63fa\",\"#FFA15A\",\"#19d3f3\",\"#FF6692\",\"#B6E880\",\"#FF97FF\",\"#FECB52\"],\"font\":{\"color\":\"#2a3f5f\"},\"geo\":{\"bgcolor\":\"white\",\"lakecolor\":\"white\",\"landcolor\":\"#E5ECF6\",\"showlakes\":true,\"showland\":true,\"subunitcolor\":\"white\"},\"hoverlabel\":{\"align\":\"left\"},\"hovermode\":\"closest\",\"mapbox\":{\"style\":\"light\"},\"paper_bgcolor\":\"white\",\"plot_bgcolor\":\"#E5ECF6\",\"polar\":{\"angularaxis\":{\"gridcolor\":\"white\",\"linecolor\":\"white\",\"ticks\":\"\"},\"bgcolor\":\"#E5ECF6\",\"radialaxis\":{\"gridcolor\":\"white\",\"linecolor\":\"white\",\"ticks\":\"\"}},\"scene\":{\"xaxis\":{\"backgroundcolor\":\"#E5ECF6\",\"gridcolor\":\"white\",\"gridwidth\":2,\"linecolor\":\"white\",\"showbackground\":true,\"ticks\":\"\",\"zerolinecolor\":\"white\"},\"yaxis\":{\"backgroundcolor\":\"#E5ECF6\",\"gridcolor\":\"white\",\"gridwidth\":2,\"linecolor\":\"white\",\"showbackground\":true,\"ticks\":\"\",\"zerolinecolor\":\"white\"},\"zaxis\":{\"backgroundcolor\":\"#E5ECF6\",\"gridcolor\":\"white\",\"gridwidth\":2,\"linecolor\":\"white\",\"showbackground\":true,\"ticks\":\"\",\"zerolinecolor\":\"white\"}},\"shapedefaults\":{\"line\":{\"color\":\"#2a3f5f\"}},\"ternary\":{\"aaxis\":{\"gridcolor\":\"white\",\"linecolor\":\"white\",\"ticks\":\"\"},\"baxis\":{\"gridcolor\":\"white\",\"linecolor\":\"white\",\"ticks\":\"\"},\"bgcolor\":\"#E5ECF6\",\"caxis\":{\"gridcolor\":\"white\",\"linecolor\":\"white\",\"ticks\":\"\"}},\"title\":{\"x\":0.05},\"xaxis\":{\"automargin\":true,\"gridcolor\":\"white\",\"linecolor\":\"white\",\"ticks\":\"\",\"title\":{\"standoff\":15},\"zerolinecolor\":\"white\",\"zerolinewidth\":2},\"yaxis\":{\"automargin\":true,\"gridcolor\":\"white\",\"linecolor\":\"white\",\"ticks\":\"\",\"title\":{\"standoff\":15},\"zerolinecolor\":\"white\",\"zerolinewidth\":2}}},\"xaxis\":{\"anchor\":\"y\",\"domain\":[0.0,1.0],\"title\":{\"text\":\"Probscore\"}},\"yaxis\":{\"anchor\":\"x\",\"domain\":[0.0,1.0],\"title\":{\"text\":\"Lastprice\"}}},                        {\"responsive\": true}                    ).then(function(){\n",
       "                            \n",
       "var gd = document.getElementById('2bf221b6-79ab-481e-93f6-1ba2ee2d9f1d');\n",
       "var x = new MutationObserver(function (mutations, observer) {{\n",
       "        var display = window.getComputedStyle(gd).display;\n",
       "        if (!display || display === 'none') {{\n",
       "            console.log([gd, 'removed!']);\n",
       "            Plotly.purge(gd);\n",
       "            observer.disconnect();\n",
       "        }}\n",
       "}});\n",
       "\n",
       "// Listen for the removal of the full notebook cells\n",
       "var notebookContainer = gd.closest('#notebook-container');\n",
       "if (notebookContainer) {{\n",
       "    x.observe(notebookContainer, {childList: true});\n",
       "}}\n",
       "\n",
       "// Listen for the clearing of the current output cell\n",
       "var outputEl = gd.closest('.output');\n",
       "if (outputEl) {{\n",
       "    x.observe(outputEl, {childList: true});\n",
       "}}\n",
       "\n",
       "                        })                };                });            </script>        </div>"
      ]
     },
     "metadata": {},
     "output_type": "display_data"
    },
    {
     "data": {
      "text/html": [
       "<div>\n",
       "<style scoped>\n",
       "    .dataframe tbody tr th:only-of-type {\n",
       "        vertical-align: middle;\n",
       "    }\n",
       "\n",
       "    .dataframe tbody tr th {\n",
       "        vertical-align: top;\n",
       "    }\n",
       "\n",
       "    .dataframe thead th {\n",
       "        text-align: right;\n",
       "    }\n",
       "</style>\n",
       "<table border=\"1\" class=\"dataframe\">\n",
       "  <thead>\n",
       "    <tr style=\"text-align: right;\">\n",
       "      <th></th>\n",
       "      <th>Probscore</th>\n",
       "      <th>Lastprice</th>\n",
       "    </tr>\n",
       "  </thead>\n",
       "  <tbody>\n",
       "    <tr>\n",
       "      <th>Probscore</th>\n",
       "      <td>1.000000</td>\n",
       "      <td>-0.432479</td>\n",
       "    </tr>\n",
       "    <tr>\n",
       "      <th>Lastprice</th>\n",
       "      <td>-0.432479</td>\n",
       "      <td>1.000000</td>\n",
       "    </tr>\n",
       "  </tbody>\n",
       "</table>\n",
       "</div>"
      ],
      "text/plain": [
       "           Probscore  Lastprice\n",
       "Probscore   1.000000  -0.432479\n",
       "Lastprice  -0.432479   1.000000"
      ]
     },
     "execution_count": 18,
     "metadata": {},
     "output_type": "execute_result"
    }
   ],
   "source": [
    "fig = px.scatter(df, x=\"Probscore\", y=\"Lastprice\", hover_data=hoverdata)\n",
    "fig.show()\n",
    "df[[\"Probscore\", \"Lastprice\"]].corr()"
   ]
  }
 ],
 "metadata": {
  "interpreter": {
   "hash": "ecc1cdd381081291c74e43d73499c34c10ab56462f7013288c0708efdc0ea46c"
  },
  "kernelspec": {
   "display_name": "Python 3.7.9 64-bit ('venv': venv)",
   "name": "python3"
  },
  "language_info": {
   "codemirror_mode": {
    "name": "ipython",
    "version": 3
   },
   "file_extension": ".py",
   "mimetype": "text/x-python",
   "name": "python",
   "nbconvert_exporter": "python",
   "pygments_lexer": "ipython3",
   "version": "3.7.9"
  },
  "orig_nbformat": 4
 },
 "nbformat": 4,
 "nbformat_minor": 2
}
