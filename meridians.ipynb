{
 "cells": [
  {
   "cell_type": "markdown",
   "source": [
    "# Analyzing Meridians Artblocks"
   ],
   "metadata": {}
  },
  {
   "cell_type": "markdown",
   "source": [
    "## Get the meridians"
   ],
   "metadata": {}
  },
  {
   "cell_type": "code",
   "execution_count": 1,
   "source": [
    "import requests\r\n",
    "from helpers import *\r\n",
    "from IPython.display import display\r\n",
    "\r\n",
    "OPENSEA_URL = \"https://api.opensea.io/api/v1/assets\"\r\n",
    "MERIDIAN_IDS = list(range(163000000, 163001000))\r\n",
    "\r\n",
    "\r\n",
    "def get_meridians():\r\n",
    "    querystring = {\r\n",
    "        \"asset_contract_address\": \"0xa7d8d9ef8d8ce8992df33d8b8cf4aebabd5bd270\",\r\n",
    "    }\r\n",
    "    assets = []\r\n",
    "    for token_ids in chunks(MERIDIAN_IDS, 20):\r\n",
    "        print(\".\", end=\"\")\r\n",
    "        querystring[\"token_ids\"] = token_ids\r\n",
    "        response = requests.request(\"GET\", OPENSEA_URL, params=querystring)\r\n",
    "        response.raise_for_status()\r\n",
    "        assets.extend(response.json()[\"assets\"])\r\n",
    "    print(f\" -- All {len(assets)} assets retrieved.\")\r\n",
    "    return assets\r\n",
    "\r\n",
    "# FIXME Turn into a generator?\r\n",
    "\r\n",
    "meridians = get_meridians()"
   ],
   "outputs": [
    {
     "output_type": "stream",
     "name": "stdout",
     "text": [
      ".................................................. -- All 1000 assets retrieved.\n"
     ]
    }
   ],
   "metadata": {}
  },
  {
   "cell_type": "markdown",
   "source": [
    "## Build a dataframe"
   ],
   "metadata": {}
  },
  {
   "cell_type": "code",
   "execution_count": 53,
   "source": [
    "import pandas as pd\r\n",
    "import numpy as np\r\n",
    "from functools import reduce\r\n",
    "import operator\r\n",
    "\r\n",
    "pd.set_option(\"display.max_rows\", None)\r\n",
    "\r\n",
    "traits = [\r\n",
    "    \"Chromaticity\",\r\n",
    "    \"Frequency\",\r\n",
    "    \"Palette\",\r\n",
    "    \"Structure\",\r\n",
    "    \"Style\",\r\n",
    "    \"Zoom\",\r\n",
    "]\r\n",
    "\r\n",
    "_tt = []\r\n",
    "for m in meridians:\r\n",
    "    prob_score = (\r\n",
    "        reduce(operator.mul, [t[\"trait_count\"] / 1000 for t in m[\"traits\"]], 1) * 1000\r\n",
    "    )\r\n",
    "    price = np.nan\r\n",
    "    if m[\"sell_orders\"] is not None:\r\n",
    "        so = m[\"sell_orders\"][0]\r\n",
    "        price = float(so[\"current_price\"]) / 10 ** int(\r\n",
    "            so[\"payment_token_contract\"][\"decimals\"]\r\n",
    "        )\r\n",
    "        # FIXME Also get the currency's name\r\n",
    "    last_price = np.nan\r\n",
    "    if m[\"last_sale\"] is not None:\r\n",
    "        ls = m[\"last_sale\"]\r\n",
    "        last_price = float(ls[\"total_price\"]) / 10 ** int(\r\n",
    "            ls[\"payment_token\"][\"decimals\"]\r\n",
    "        )\r\n",
    "\r\n",
    "    _tt.append(\r\n",
    "        [\r\n",
    "            m[\"name\"].split(\"#\")[1],\r\n",
    "            m[\"name\"],\r\n",
    "            price,\r\n",
    "            last_price,\r\n",
    "            prob_score,\r\n",
    "            *[  # All the traits:\r\n",
    "                t[\"value\"].split(\":\")[1]\r\n",
    "                for t in sorted(m[\"traits\"], key=lambda x: x[\"value\"])\r\n",
    "                if \":\" in t[\"value\"]\r\n",
    "            ],\r\n",
    "            m[\"permalink\"],\r\n",
    "        ]\r\n",
    "    )\r\n",
    "\r\n",
    "\r\n",
    "df = pd.DataFrame(_tt)\r\n",
    "df.columns = [\r\n",
    "    \"ID\",\r\n",
    "    \"Name\",\r\n",
    "    \"Price\",\r\n",
    "    \"Lastprice\",\r\n",
    "    \"Probscore\",\r\n",
    "    *traits,\r\n",
    "    \"Link\",\r\n",
    "]\r\n",
    "df = df.set_index(\"ID\").sort_values(\"Lastprice\", ascending=False)\r\n"
   ],
   "outputs": [],
   "metadata": {}
  },
  {
   "cell_type": "markdown",
   "source": [
    "## How many pieces have a last price on OpenSea?"
   ],
   "metadata": {}
  },
  {
   "cell_type": "code",
   "execution_count": 117,
   "source": [
    "print(f\"{df[~df.Lastprice.isna()].shape[0] / df.shape[0]:.0%}\")\r\n"
   ],
   "outputs": [
    {
     "output_type": "stream",
     "name": "stdout",
     "text": [
      "78%\n"
     ]
    }
   ],
   "metadata": {}
  },
  {
   "cell_type": "markdown",
   "source": [
    "## How frequent are the different traits?"
   ],
   "metadata": {}
  },
  {
   "cell_type": "code",
   "execution_count": 89,
   "source": [
    "for trait in traits:\r\n",
    "    display(\r\n",
    "        pd.DataFrame(df[trait].value_counts(normalize=False, sort=True, ascending=True)).transpose()\r\n",
    "    )\r\n"
   ],
   "outputs": [
    {
     "output_type": "display_data",
     "data": {
      "text/html": [
       "<div>\n",
       "<style scoped>\n",
       "    .dataframe tbody tr th:only-of-type {\n",
       "        vertical-align: middle;\n",
       "    }\n",
       "\n",
       "    .dataframe tbody tr th {\n",
       "        vertical-align: top;\n",
       "    }\n",
       "\n",
       "    .dataframe thead th {\n",
       "        text-align: right;\n",
       "    }\n",
       "</style>\n",
       "<table border=\"1\" class=\"dataframe\">\n",
       "  <thead>\n",
       "    <tr style=\"text-align: right;\">\n",
       "      <th></th>\n",
       "      <th>Monochrome</th>\n",
       "      <th>Trichrome</th>\n",
       "      <th>Polychrome</th>\n",
       "      <th>Duochrome</th>\n",
       "    </tr>\n",
       "  </thead>\n",
       "  <tbody>\n",
       "    <tr>\n",
       "      <th>Chromaticity</th>\n",
       "      <td>127</td>\n",
       "      <td>226</td>\n",
       "      <td>295</td>\n",
       "      <td>352</td>\n",
       "    </tr>\n",
       "  </tbody>\n",
       "</table>\n",
       "</div>"
      ],
      "text/plain": [
       "               Monochrome   Trichrome   Polychrome   Duochrome\n",
       "Chromaticity          127         226          295         352"
      ]
     },
     "metadata": {}
    },
    {
     "output_type": "display_data",
     "data": {
      "text/html": [
       "<div>\n",
       "<style scoped>\n",
       "    .dataframe tbody tr th:only-of-type {\n",
       "        vertical-align: middle;\n",
       "    }\n",
       "\n",
       "    .dataframe tbody tr th {\n",
       "        vertical-align: top;\n",
       "    }\n",
       "\n",
       "    .dataframe thead th {\n",
       "        text-align: right;\n",
       "    }\n",
       "</style>\n",
       "<table border=\"1\" class=\"dataframe\">\n",
       "  <thead>\n",
       "    <tr style=\"text-align: right;\">\n",
       "      <th></th>\n",
       "      <th>High</th>\n",
       "      <th>Gradual</th>\n",
       "      <th>Low</th>\n",
       "      <th>Standard</th>\n",
       "    </tr>\n",
       "  </thead>\n",
       "  <tbody>\n",
       "    <tr>\n",
       "      <th>Frequency</th>\n",
       "      <td>57</td>\n",
       "      <td>213</td>\n",
       "      <td>239</td>\n",
       "      <td>491</td>\n",
       "    </tr>\n",
       "  </tbody>\n",
       "</table>\n",
       "</div>"
      ],
      "text/plain": [
       "            High   Gradual   Low   Standard\n",
       "Frequency     57       213   239        491"
      ]
     },
     "metadata": {}
    },
    {
     "output_type": "display_data",
     "data": {
      "text/html": [
       "<div>\n",
       "<style scoped>\n",
       "    .dataframe tbody tr th:only-of-type {\n",
       "        vertical-align: middle;\n",
       "    }\n",
       "\n",
       "    .dataframe tbody tr th {\n",
       "        vertical-align: top;\n",
       "    }\n",
       "\n",
       "    .dataframe thead th {\n",
       "        text-align: right;\n",
       "    }\n",
       "</style>\n",
       "<table border=\"1\" class=\"dataframe\">\n",
       "  <thead>\n",
       "    <tr style=\"text-align: right;\">\n",
       "      <th></th>\n",
       "      <th>Glacier</th>\n",
       "      <th>Cave</th>\n",
       "      <th>Mesa</th>\n",
       "      <th>Shore</th>\n",
       "      <th>Prairie</th>\n",
       "      <th>Marsh</th>\n",
       "      <th>Ridge</th>\n",
       "      <th>Delta</th>\n",
       "      <th>Atoll</th>\n",
       "      <th>Volcano</th>\n",
       "      <th>Esker</th>\n",
       "      <th>Gulf</th>\n",
       "      <th>Canyon</th>\n",
       "      <th>Archipelago</th>\n",
       "      <th>Peninsula</th>\n",
       "      <th>Reef</th>\n",
       "      <th>Dune</th>\n",
       "      <th>Cove</th>\n",
       "      <th>Fjord</th>\n",
       "      <th>Moraine</th>\n",
       "      <th>Oasis</th>\n",
       "      <th>Other</th>\n",
       "    </tr>\n",
       "  </thead>\n",
       "  <tbody>\n",
       "    <tr>\n",
       "      <th>Palette</th>\n",
       "      <td>14</td>\n",
       "      <td>15</td>\n",
       "      <td>15</td>\n",
       "      <td>17</td>\n",
       "      <td>17</td>\n",
       "      <td>17</td>\n",
       "      <td>18</td>\n",
       "      <td>18</td>\n",
       "      <td>19</td>\n",
       "      <td>19</td>\n",
       "      <td>19</td>\n",
       "      <td>19</td>\n",
       "      <td>21</td>\n",
       "      <td>21</td>\n",
       "      <td>21</td>\n",
       "      <td>22</td>\n",
       "      <td>22</td>\n",
       "      <td>23</td>\n",
       "      <td>25</td>\n",
       "      <td>26</td>\n",
       "      <td>27</td>\n",
       "      <td>585</td>\n",
       "    </tr>\n",
       "  </tbody>\n",
       "</table>\n",
       "</div>"
      ],
      "text/plain": [
       "          Glacier   Cave   Mesa   Shore   Prairie   Marsh   Ridge   Delta  \\\n",
       "Palette        14     15     15      17        17      17      18      18   \n",
       "\n",
       "          Atoll   Volcano   Esker   Gulf   Canyon   Archipelago   Peninsula  \\\n",
       "Palette      19        19      19     19       21            21          21   \n",
       "\n",
       "          Reef   Dune   Cove   Fjord   Moraine   Oasis   Other  \n",
       "Palette     22     22     23      25        26      27     585  "
      ]
     },
     "metadata": {}
    },
    {
     "output_type": "display_data",
     "data": {
      "text/html": [
       "<div>\n",
       "<style scoped>\n",
       "    .dataframe tbody tr th:only-of-type {\n",
       "        vertical-align: middle;\n",
       "    }\n",
       "\n",
       "    .dataframe tbody tr th {\n",
       "        vertical-align: top;\n",
       "    }\n",
       "\n",
       "    .dataframe thead th {\n",
       "        text-align: right;\n",
       "    }\n",
       "</style>\n",
       "<table border=\"1\" class=\"dataframe\">\n",
       "  <thead>\n",
       "    <tr style=\"text-align: right;\">\n",
       "      <th></th>\n",
       "      <th>Variable</th>\n",
       "      <th>Uniform</th>\n",
       "    </tr>\n",
       "  </thead>\n",
       "  <tbody>\n",
       "    <tr>\n",
       "      <th>Structure</th>\n",
       "      <td>192</td>\n",
       "      <td>808</td>\n",
       "    </tr>\n",
       "  </tbody>\n",
       "</table>\n",
       "</div>"
      ],
      "text/plain": [
       "            Variable   Uniform\n",
       "Structure        192       808"
      ]
     },
     "metadata": {}
    },
    {
     "output_type": "display_data",
     "data": {
      "text/html": [
       "<div>\n",
       "<style scoped>\n",
       "    .dataframe tbody tr th:only-of-type {\n",
       "        vertical-align: middle;\n",
       "    }\n",
       "\n",
       "    .dataframe tbody tr th {\n",
       "        vertical-align: top;\n",
       "    }\n",
       "\n",
       "    .dataframe thead th {\n",
       "        text-align: right;\n",
       "    }\n",
       "</style>\n",
       "<table border=\"1\" class=\"dataframe\">\n",
       "  <thead>\n",
       "    <tr style=\"text-align: right;\">\n",
       "      <th></th>\n",
       "      <th>Prime</th>\n",
       "      <th>Topographic</th>\n",
       "      <th>Charcoal</th>\n",
       "      <th>Newsprint</th>\n",
       "      <th>Invert</th>\n",
       "      <th>Lino</th>\n",
       "      <th>Screenprint</th>\n",
       "      <th>Watercolour</th>\n",
       "      <th>Gilded</th>\n",
       "      <th>Polarized</th>\n",
       "      <th>Procedural</th>\n",
       "      <th>Gouache</th>\n",
       "      <th>Prismatic</th>\n",
       "      <th>Paletted</th>\n",
       "    </tr>\n",
       "  </thead>\n",
       "  <tbody>\n",
       "    <tr>\n",
       "      <th>Style</th>\n",
       "      <td>8</td>\n",
       "      <td>8</td>\n",
       "      <td>9</td>\n",
       "      <td>12</td>\n",
       "      <td>13</td>\n",
       "      <td>20</td>\n",
       "      <td>21</td>\n",
       "      <td>22</td>\n",
       "      <td>27</td>\n",
       "      <td>32</td>\n",
       "      <td>60</td>\n",
       "      <td>99</td>\n",
       "      <td>262</td>\n",
       "      <td>407</td>\n",
       "    </tr>\n",
       "  </tbody>\n",
       "</table>\n",
       "</div>"
      ],
      "text/plain": [
       "        Prime   Topographic   Charcoal   Newsprint   Invert   Lino  \\\n",
       "Style       8             8          9          12       13     20   \n",
       "\n",
       "        Screenprint   Watercolour   Gilded   Polarized   Procedural   Gouache  \\\n",
       "Style            21            22       27          32           60        99   \n",
       "\n",
       "        Prismatic   Paletted  \n",
       "Style         262        407  "
      ]
     },
     "metadata": {}
    },
    {
     "output_type": "display_data",
     "data": {
      "text/html": [
       "<div>\n",
       "<style scoped>\n",
       "    .dataframe tbody tr th:only-of-type {\n",
       "        vertical-align: middle;\n",
       "    }\n",
       "\n",
       "    .dataframe tbody tr th {\n",
       "        vertical-align: top;\n",
       "    }\n",
       "\n",
       "    .dataframe thead th {\n",
       "        text-align: right;\n",
       "    }\n",
       "</style>\n",
       "<table border=\"1\" class=\"dataframe\">\n",
       "  <thead>\n",
       "    <tr style=\"text-align: right;\">\n",
       "      <th></th>\n",
       "      <th>Far</th>\n",
       "      <th>Medium</th>\n",
       "      <th>Close</th>\n",
       "    </tr>\n",
       "  </thead>\n",
       "  <tbody>\n",
       "    <tr>\n",
       "      <th>Zoom</th>\n",
       "      <td>326</td>\n",
       "      <td>327</td>\n",
       "      <td>347</td>\n",
       "    </tr>\n",
       "  </tbody>\n",
       "</table>\n",
       "</div>"
      ],
      "text/plain": [
       "       Far   Medium   Close\n",
       "Zoom   326      327     347"
      ]
     },
     "metadata": {}
    }
   ],
   "metadata": {}
  },
  {
   "cell_type": "markdown",
   "source": [
    "## How much do people pay for the different traits?"
   ],
   "metadata": {}
  },
  {
   "cell_type": "markdown",
   "source": [
    "Note that the charts are interactive. You can zoom, hover, pan, etc."
   ],
   "metadata": {}
  },
  {
   "cell_type": "code",
   "execution_count": 166,
   "source": [
    "import plotly.express as px\r\n",
    "import plotly.graph_objects as go\r\n",
    "\r\n",
    "# import matplotlib.pyplot as plt\r\n",
    "import seaborn as sns\r\n",
    "\r\n",
    "# plt.rcParams[\"figure.figsize\"] = (20, 10)\r\n",
    "pd.set_option(\"display.max_columns\", None)\r\n",
    "pd.plotting.register_matplotlib_converters()\r\n",
    "\r\n",
    "# sns.boxplot(x=df.Style, y=df.Lastprice, hue=df.Chromaticity)\r\n",
    "for trait in traits:\r\n",
    "    # sns.boxplot(x=df[trait], y=df.Lastprice).set_title(trait)\r\n",
    "    # fig = px.box(df, x=trait, y=\"Lastprice\", title=trait, points=\"all\")\r\n",
    "    # fig.show()\r\n",
    "\r\n",
    "    fig = go.Figure()\r\n",
    "    for traitvariant in df.groupby(trait).median().sort_values(\"Lastprice\", ascending=False).index:\r\n",
    "        fig.add_trace(\r\n",
    "            go.Box(\r\n",
    "                y=df[df[trait] == traitvariant].Lastprice.values,\r\n",
    "                name=traitvariant,\r\n",
    "                boxpoints=\"all\",\r\n",
    "                jitter=0.2,\r\n",
    "                whiskerwidth=0.2,\r\n",
    "                marker_size=2,\r\n",
    "                line_width=1,\r\n",
    "            )\r\n",
    "        )\r\n",
    "    fig.update_layout(title=trait)\r\n",
    "    fig.show()\r\n"
   ],
   "outputs": [
    {
     "output_type": "display_data",
     "data": {
      "application/vnd.plotly.v1+json": {
       "config": {
        "plotlyServerURL": "https://plot.ly"
       },
       "data": [
        {
         "boxpoints": "all",
         "jitter": 0.2,
         "line": {
          "width": 1
         },
         "marker": {
          "size": 2
         },
         "name": " Monochrome",
         "type": "box",
         "whiskerwidth": 0.2,
         "y": [
          200,
          200,
          175,
          145,
          80,
          60,
          60,
          50,
          50,
          48.888,
          48.88,
          48.57,
          42.69,
          40,
          39,
          35,
          35,
          35,
          32,
          30,
          30,
          30,
          26,
          25,
          24.69,
          24.5,
          24.069,
          24,
          24,
          22,
          22,
          22,
          21,
          20,
          20,
          19.5,
          19.2,
          18.9,
          18.88,
          18,
          18,
          16.5,
          15.9,
          15.59,
          15,
          15,
          15,
          14.9999,
          14.99,
          14,
          13.99,
          13.9,
          13.6969,
          13.5,
          13,
          13,
          12.88,
          11.99,
          11.99,
          11.82130112544606,
          10.49,
          10,
          10,
          9.8,
          9.5,
          8.99,
          8.98,
          8.89,
          8.85,
          8.6,
          8.5,
          8.49,
          8.4,
          8.2,
          7.85,
          7.8,
          7.5,
          7.5,
          7.4,
          7.39,
          7.24,
          7.1,
          7,
          6.9,
          6.9,
          6.75,
          6.64,
          6.3,
          6.25,
          5.93,
          5.8,
          5.6,
          null,
          null,
          null,
          null,
          null,
          null,
          null,
          null,
          null,
          null,
          null,
          null,
          null,
          null,
          null,
          null,
          null,
          null,
          null,
          null,
          null,
          null,
          null,
          null,
          null,
          null,
          null,
          null,
          null,
          null,
          null,
          null,
          null,
          null,
          null
         ]
        },
        {
         "boxpoints": "all",
         "jitter": 0.2,
         "line": {
          "width": 1
         },
         "marker": {
          "size": 2
         },
         "name": " Duochrome",
         "type": "box",
         "whiskerwidth": 0.2,
         "y": [
          35,
          35,
          30,
          30,
          30,
          29.91,
          28.94,
          28.88,
          28,
          28,
          27.5,
          27,
          26.9,
          25,
          25,
          25,
          25,
          24.9999,
          24,
          24,
          24,
          24,
          23.888,
          23.69,
          23.5,
          23.5,
          23.337,
          23,
          23,
          23,
          22.99,
          22.5,
          22.22,
          22.2,
          22,
          22,
          22,
          22,
          21.99,
          21.99,
          21.5,
          21.5,
          21,
          21,
          20,
          20,
          20,
          20,
          19.99992336795338,
          19.99,
          19.3,
          18.95,
          18.75,
          18.5,
          18.5,
          18.5,
          18,
          18,
          18,
          18,
          18,
          18,
          18,
          18,
          17.99,
          17.98,
          17.5,
          17.5,
          17.167257721296323,
          17,
          17,
          16.99,
          16,
          15.99,
          15.9,
          15.9,
          15,
          15,
          15,
          15,
          15,
          15,
          15,
          15,
          15,
          14.95,
          14.9,
          14.69,
          14,
          14,
          14,
          13.99,
          13.9,
          13.8,
          13.75,
          13.5,
          13.33,
          13.3,
          13.2,
          13,
          13,
          13,
          12.888,
          12.8,
          12.69,
          12.65,
          12.5,
          12.5,
          12.45,
          12.4,
          12.4,
          12.4,
          12.35,
          12.29,
          12,
          12,
          12,
          12,
          12,
          12,
          12,
          12,
          12,
          12,
          11.99,
          11.99,
          11.96,
          11.95,
          11.9,
          11.9,
          11.88,
          11.8,
          11.8,
          11.75,
          11.75,
          11.75,
          11.5,
          11.45,
          11.4,
          11.3,
          11.11,
          11.11,
          11.11,
          11,
          11,
          11,
          11,
          11,
          11,
          10.99,
          10.98,
          10.97,
          10.96,
          10.9,
          10.9,
          10.88,
          10.88,
          10.69,
          10.5,
          10.5,
          10.5,
          10.25,
          10,
          10,
          10,
          10,
          10,
          10,
          10,
          10,
          9.9999,
          9.99,
          9.99,
          9.88,
          9.8,
          9.69,
          9.5,
          9.4,
          9.1,
          9,
          9,
          9,
          8.99,
          8.99,
          8.88,
          8.85,
          8.8,
          8.79,
          8.7654,
          8.75,
          8.6,
          8.5,
          8.5,
          8.49,
          8.469,
          8.44,
          8.432,
          8.2,
          8.1,
          8,
          8,
          8,
          8,
          8,
          7.99,
          7.99,
          7.8,
          7.77,
          7.7,
          7.66,
          7.536953642384106,
          7.5,
          7.5,
          7.5,
          7.5,
          7.5,
          7.49,
          7.4888,
          7.4,
          7.4,
          7.35,
          7.3,
          7.25,
          7.25,
          7.25,
          7.1499,
          7.1,
          7.1,
          7.1,
          7,
          7,
          7,
          7,
          6.99,
          6.99,
          6.99,
          6.99,
          6.99,
          6.98,
          6.969,
          6.9,
          6.9,
          6.9,
          6.89,
          6.8,
          6.8,
          6.75,
          6.75,
          6.7,
          6.68,
          6.6,
          6.5,
          6.5,
          6.5,
          6.49,
          6.49,
          6.477,
          6.4,
          6.4,
          6.4,
          6.35,
          6.3,
          6.29,
          6.29,
          6.21,
          6.19,
          6,
          5.99,
          5.97,
          5.8888,
          5.85,
          5.85,
          5.8,
          5.8,
          5.75,
          5.7,
          5.7,
          5.7,
          5.6,
          5.6,
          5.555,
          5.5,
          5.5,
          null,
          null,
          null,
          null,
          null,
          null,
          null,
          null,
          null,
          null,
          null,
          null,
          null,
          null,
          null,
          null,
          null,
          null,
          null,
          null,
          null,
          null,
          null,
          null,
          null,
          null,
          null,
          null,
          null,
          null,
          null,
          null,
          null,
          null,
          null,
          null,
          null,
          null,
          null,
          null,
          null,
          null,
          null,
          null,
          null,
          null,
          null,
          null,
          null,
          null,
          null,
          null,
          null,
          null,
          null,
          null,
          null,
          null,
          null,
          null,
          null,
          null,
          null,
          null,
          null,
          null,
          null,
          null,
          null
         ]
        },
        {
         "boxpoints": "all",
         "jitter": 0.2,
         "line": {
          "width": 1
         },
         "marker": {
          "size": 2
         },
         "name": " Trichrome",
         "type": "box",
         "whiskerwidth": 0.2,
         "y": [
          66.666,
          45,
          32,
          29.8,
          27.77,
          27.5,
          26.5,
          25,
          24,
          24,
          24,
          22.5,
          22,
          22,
          21.99,
          21.5,
          21,
          20.69,
          20,
          20,
          20,
          20,
          20,
          19.99,
          19.969,
          19.69,
          19,
          19,
          18.95,
          18.88,
          18.5,
          18.1337,
          18,
          18,
          17.95,
          17,
          17,
          16.69,
          16.5,
          16,
          16,
          15.9,
          15.9,
          15.8,
          15,
          15,
          15,
          15,
          15,
          15,
          15,
          14.99,
          14.99,
          14.5,
          14,
          14,
          14,
          14,
          14,
          14,
          14,
          13.5,
          13.5,
          13.5,
          13.49,
          13,
          13,
          12.95,
          12.8,
          12.8,
          12.69,
          12.69,
          12.5,
          12.43,
          12,
          12,
          12,
          11.99,
          11.99,
          11.98,
          11.77,
          11.5,
          11.5,
          11.1111,
          11.11,
          11,
          11,
          11,
          11,
          11,
          11,
          11,
          10.99,
          10.795243773951906,
          9.999,
          9.99,
          9.99,
          9.9,
          9.9,
          9.888,
          9.8,
          9.8,
          9.8,
          9.8,
          9.69,
          9.69,
          9.69,
          9.6,
          9.5,
          9.5,
          9.5,
          9.25,
          9,
          9,
          8.8,
          8.69,
          8.6,
          8.5,
          8.25,
          8.1,
          8,
          8,
          8,
          8,
          8,
          7.99,
          7.98,
          7.9,
          7.9,
          7.9,
          7.7777,
          7.75,
          7.7,
          7.5,
          7.5,
          7.5,
          7.49,
          7.49,
          7.49,
          7.48,
          7.3,
          7.25,
          7.22,
          7.2,
          7.123,
          7.1,
          7,
          6.9,
          6.85,
          6.79,
          6.777,
          6.68,
          6.6,
          6.5,
          6.5,
          6.5,
          6.49,
          6.49,
          6.4,
          6.4,
          6.1,
          6,
          5.99,
          5.95,
          5.9,
          5.77,
          5.75,
          5.55,
          0.01,
          null,
          null,
          null,
          null,
          null,
          null,
          null,
          null,
          null,
          null,
          null,
          null,
          null,
          null,
          null,
          null,
          null,
          null,
          null,
          null,
          null,
          null,
          null,
          null,
          null,
          null,
          null,
          null,
          null,
          null,
          null,
          null,
          null,
          null,
          null,
          null,
          null,
          null,
          null,
          null,
          null,
          null,
          null,
          null,
          null,
          null,
          null,
          null,
          null,
          null,
          null,
          null,
          null,
          null,
          null,
          null,
          null
         ]
        },
        {
         "boxpoints": "all",
         "jitter": 0.2,
         "line": {
          "width": 1
         },
         "marker": {
          "size": 2
         },
         "name": " Polychrome",
         "type": "box",
         "whiskerwidth": 0.2,
         "y": [
          33,
          26,
          25.4,
          25,
          23.99,
          23.69,
          23,
          23,
          22.99,
          22.5,
          22.22,
          22.22,
          22,
          21.9,
          21.5,
          21,
          20.9,
          20.75,
          20.69,
          20,
          20,
          20,
          19.99,
          19.5,
          19.5,
          19,
          18.5,
          18.5,
          18,
          18,
          18,
          17.9,
          17.5,
          17.5,
          17.43,
          17,
          16.942,
          16.5,
          16.5,
          16.25,
          16,
          15.89,
          15.5,
          15,
          15,
          15,
          14.8869,
          14.88,
          14.6969,
          14.6969,
          14.6,
          14.5,
          14.216,
          14.2069,
          13.888,
          13.85,
          13.69,
          13.69,
          13,
          13,
          12.99,
          12.95,
          12.94,
          12.75,
          12.5,
          12.5,
          12.5,
          12.5,
          12,
          12,
          12,
          12,
          12,
          12,
          12,
          12,
          12,
          12,
          11.99,
          11.98,
          11.95,
          11.9,
          11.88,
          11.85,
          11.5,
          11.5,
          11.5,
          11.5,
          11.5,
          11.25,
          11.11,
          11.11,
          11,
          11,
          11,
          10.97,
          10.7,
          10.5,
          10.4,
          10.4,
          10,
          10,
          10,
          10,
          9.99,
          9.98,
          9.9,
          9.9,
          9.9,
          9.9,
          9.9,
          9.88,
          9.8,
          9.8,
          9.8,
          9.7,
          9.5,
          9.5,
          9.3,
          9.1,
          9,
          9,
          9,
          9,
          8.98,
          8.88,
          8.88,
          8.88,
          8.8,
          8.8,
          8.8,
          8.79,
          8.75,
          8.75,
          8.7,
          8.5,
          8.5,
          8.5,
          8.4,
          8.35,
          8.2,
          8,
          8,
          8,
          8,
          8,
          8,
          8,
          8,
          8,
          7.9999,
          7.99,
          7.99,
          7.99,
          7.99,
          7.9,
          7.9,
          7.85,
          7.8,
          7.77,
          7.75,
          7.7,
          7.7,
          7.7,
          7.5,
          7.5,
          7.5,
          7.5,
          7.5,
          7.5,
          7.4999,
          7.49,
          7.49,
          7.49,
          7.47,
          7.45,
          7.45,
          7.44,
          7.35,
          7.3,
          7.25,
          7.25,
          7.2,
          7.2,
          7.2,
          7.1111,
          7.1,
          7.095,
          7.069,
          7,
          6.99,
          6.99,
          6.99,
          6.99,
          6.97,
          6.95,
          6.9,
          6.89,
          6.89,
          6.88,
          6.88,
          6.8,
          6.78,
          6.72,
          6.69,
          6.66,
          6.66,
          6.6,
          6.5,
          6.5,
          6.5,
          6.469,
          6.4,
          6.4,
          6.39,
          6.39,
          6.33,
          6.29,
          6.23,
          6.1,
          6,
          6,
          6,
          6,
          5.99,
          5.97,
          5.9,
          5.9,
          5.869,
          5.85,
          5.8469,
          5.8,
          5.8,
          5.8,
          5.75,
          5.69,
          null,
          null,
          null,
          null,
          null,
          null,
          null,
          null,
          null,
          null,
          null,
          null,
          null,
          null,
          null,
          null,
          null,
          null,
          null,
          null,
          null,
          null,
          null,
          null,
          null,
          null,
          null,
          null,
          null,
          null,
          null,
          null,
          null,
          null,
          null,
          null,
          null,
          null,
          null,
          null,
          null,
          null,
          null,
          null,
          null,
          null,
          null,
          null,
          null,
          null,
          null,
          null,
          null,
          null,
          null,
          null,
          null,
          null,
          null
         ]
        }
       ],
       "layout": {
        "template": {
         "data": {
          "bar": [
           {
            "error_x": {
             "color": "#2a3f5f"
            },
            "error_y": {
             "color": "#2a3f5f"
            },
            "marker": {
             "line": {
              "color": "#E5ECF6",
              "width": 0.5
             },
             "pattern": {
              "fillmode": "overlay",
              "size": 10,
              "solidity": 0.2
             }
            },
            "type": "bar"
           }
          ],
          "barpolar": [
           {
            "marker": {
             "line": {
              "color": "#E5ECF6",
              "width": 0.5
             },
             "pattern": {
              "fillmode": "overlay",
              "size": 10,
              "solidity": 0.2
             }
            },
            "type": "barpolar"
           }
          ],
          "carpet": [
           {
            "aaxis": {
             "endlinecolor": "#2a3f5f",
             "gridcolor": "white",
             "linecolor": "white",
             "minorgridcolor": "white",
             "startlinecolor": "#2a3f5f"
            },
            "baxis": {
             "endlinecolor": "#2a3f5f",
             "gridcolor": "white",
             "linecolor": "white",
             "minorgridcolor": "white",
             "startlinecolor": "#2a3f5f"
            },
            "type": "carpet"
           }
          ],
          "choropleth": [
           {
            "colorbar": {
             "outlinewidth": 0,
             "ticks": ""
            },
            "type": "choropleth"
           }
          ],
          "contour": [
           {
            "colorbar": {
             "outlinewidth": 0,
             "ticks": ""
            },
            "colorscale": [
             [
              0,
              "#0d0887"
             ],
             [
              0.1111111111111111,
              "#46039f"
             ],
             [
              0.2222222222222222,
              "#7201a8"
             ],
             [
              0.3333333333333333,
              "#9c179e"
             ],
             [
              0.4444444444444444,
              "#bd3786"
             ],
             [
              0.5555555555555556,
              "#d8576b"
             ],
             [
              0.6666666666666666,
              "#ed7953"
             ],
             [
              0.7777777777777778,
              "#fb9f3a"
             ],
             [
              0.8888888888888888,
              "#fdca26"
             ],
             [
              1,
              "#f0f921"
             ]
            ],
            "type": "contour"
           }
          ],
          "contourcarpet": [
           {
            "colorbar": {
             "outlinewidth": 0,
             "ticks": ""
            },
            "type": "contourcarpet"
           }
          ],
          "heatmap": [
           {
            "colorbar": {
             "outlinewidth": 0,
             "ticks": ""
            },
            "colorscale": [
             [
              0,
              "#0d0887"
             ],
             [
              0.1111111111111111,
              "#46039f"
             ],
             [
              0.2222222222222222,
              "#7201a8"
             ],
             [
              0.3333333333333333,
              "#9c179e"
             ],
             [
              0.4444444444444444,
              "#bd3786"
             ],
             [
              0.5555555555555556,
              "#d8576b"
             ],
             [
              0.6666666666666666,
              "#ed7953"
             ],
             [
              0.7777777777777778,
              "#fb9f3a"
             ],
             [
              0.8888888888888888,
              "#fdca26"
             ],
             [
              1,
              "#f0f921"
             ]
            ],
            "type": "heatmap"
           }
          ],
          "heatmapgl": [
           {
            "colorbar": {
             "outlinewidth": 0,
             "ticks": ""
            },
            "colorscale": [
             [
              0,
              "#0d0887"
             ],
             [
              0.1111111111111111,
              "#46039f"
             ],
             [
              0.2222222222222222,
              "#7201a8"
             ],
             [
              0.3333333333333333,
              "#9c179e"
             ],
             [
              0.4444444444444444,
              "#bd3786"
             ],
             [
              0.5555555555555556,
              "#d8576b"
             ],
             [
              0.6666666666666666,
              "#ed7953"
             ],
             [
              0.7777777777777778,
              "#fb9f3a"
             ],
             [
              0.8888888888888888,
              "#fdca26"
             ],
             [
              1,
              "#f0f921"
             ]
            ],
            "type": "heatmapgl"
           }
          ],
          "histogram": [
           {
            "marker": {
             "pattern": {
              "fillmode": "overlay",
              "size": 10,
              "solidity": 0.2
             }
            },
            "type": "histogram"
           }
          ],
          "histogram2d": [
           {
            "colorbar": {
             "outlinewidth": 0,
             "ticks": ""
            },
            "colorscale": [
             [
              0,
              "#0d0887"
             ],
             [
              0.1111111111111111,
              "#46039f"
             ],
             [
              0.2222222222222222,
              "#7201a8"
             ],
             [
              0.3333333333333333,
              "#9c179e"
             ],
             [
              0.4444444444444444,
              "#bd3786"
             ],
             [
              0.5555555555555556,
              "#d8576b"
             ],
             [
              0.6666666666666666,
              "#ed7953"
             ],
             [
              0.7777777777777778,
              "#fb9f3a"
             ],
             [
              0.8888888888888888,
              "#fdca26"
             ],
             [
              1,
              "#f0f921"
             ]
            ],
            "type": "histogram2d"
           }
          ],
          "histogram2dcontour": [
           {
            "colorbar": {
             "outlinewidth": 0,
             "ticks": ""
            },
            "colorscale": [
             [
              0,
              "#0d0887"
             ],
             [
              0.1111111111111111,
              "#46039f"
             ],
             [
              0.2222222222222222,
              "#7201a8"
             ],
             [
              0.3333333333333333,
              "#9c179e"
             ],
             [
              0.4444444444444444,
              "#bd3786"
             ],
             [
              0.5555555555555556,
              "#d8576b"
             ],
             [
              0.6666666666666666,
              "#ed7953"
             ],
             [
              0.7777777777777778,
              "#fb9f3a"
             ],
             [
              0.8888888888888888,
              "#fdca26"
             ],
             [
              1,
              "#f0f921"
             ]
            ],
            "type": "histogram2dcontour"
           }
          ],
          "mesh3d": [
           {
            "colorbar": {
             "outlinewidth": 0,
             "ticks": ""
            },
            "type": "mesh3d"
           }
          ],
          "parcoords": [
           {
            "line": {
             "colorbar": {
              "outlinewidth": 0,
              "ticks": ""
             }
            },
            "type": "parcoords"
           }
          ],
          "pie": [
           {
            "automargin": true,
            "type": "pie"
           }
          ],
          "scatter": [
           {
            "marker": {
             "colorbar": {
              "outlinewidth": 0,
              "ticks": ""
             }
            },
            "type": "scatter"
           }
          ],
          "scatter3d": [
           {
            "line": {
             "colorbar": {
              "outlinewidth": 0,
              "ticks": ""
             }
            },
            "marker": {
             "colorbar": {
              "outlinewidth": 0,
              "ticks": ""
             }
            },
            "type": "scatter3d"
           }
          ],
          "scattercarpet": [
           {
            "marker": {
             "colorbar": {
              "outlinewidth": 0,
              "ticks": ""
             }
            },
            "type": "scattercarpet"
           }
          ],
          "scattergeo": [
           {
            "marker": {
             "colorbar": {
              "outlinewidth": 0,
              "ticks": ""
             }
            },
            "type": "scattergeo"
           }
          ],
          "scattergl": [
           {
            "marker": {
             "colorbar": {
              "outlinewidth": 0,
              "ticks": ""
             }
            },
            "type": "scattergl"
           }
          ],
          "scattermapbox": [
           {
            "marker": {
             "colorbar": {
              "outlinewidth": 0,
              "ticks": ""
             }
            },
            "type": "scattermapbox"
           }
          ],
          "scatterpolar": [
           {
            "marker": {
             "colorbar": {
              "outlinewidth": 0,
              "ticks": ""
             }
            },
            "type": "scatterpolar"
           }
          ],
          "scatterpolargl": [
           {
            "marker": {
             "colorbar": {
              "outlinewidth": 0,
              "ticks": ""
             }
            },
            "type": "scatterpolargl"
           }
          ],
          "scatterternary": [
           {
            "marker": {
             "colorbar": {
              "outlinewidth": 0,
              "ticks": ""
             }
            },
            "type": "scatterternary"
           }
          ],
          "surface": [
           {
            "colorbar": {
             "outlinewidth": 0,
             "ticks": ""
            },
            "colorscale": [
             [
              0,
              "#0d0887"
             ],
             [
              0.1111111111111111,
              "#46039f"
             ],
             [
              0.2222222222222222,
              "#7201a8"
             ],
             [
              0.3333333333333333,
              "#9c179e"
             ],
             [
              0.4444444444444444,
              "#bd3786"
             ],
             [
              0.5555555555555556,
              "#d8576b"
             ],
             [
              0.6666666666666666,
              "#ed7953"
             ],
             [
              0.7777777777777778,
              "#fb9f3a"
             ],
             [
              0.8888888888888888,
              "#fdca26"
             ],
             [
              1,
              "#f0f921"
             ]
            ],
            "type": "surface"
           }
          ],
          "table": [
           {
            "cells": {
             "fill": {
              "color": "#EBF0F8"
             },
             "line": {
              "color": "white"
             }
            },
            "header": {
             "fill": {
              "color": "#C8D4E3"
             },
             "line": {
              "color": "white"
             }
            },
            "type": "table"
           }
          ]
         },
         "layout": {
          "annotationdefaults": {
           "arrowcolor": "#2a3f5f",
           "arrowhead": 0,
           "arrowwidth": 1
          },
          "autotypenumbers": "strict",
          "coloraxis": {
           "colorbar": {
            "outlinewidth": 0,
            "ticks": ""
           }
          },
          "colorscale": {
           "diverging": [
            [
             0,
             "#8e0152"
            ],
            [
             0.1,
             "#c51b7d"
            ],
            [
             0.2,
             "#de77ae"
            ],
            [
             0.3,
             "#f1b6da"
            ],
            [
             0.4,
             "#fde0ef"
            ],
            [
             0.5,
             "#f7f7f7"
            ],
            [
             0.6,
             "#e6f5d0"
            ],
            [
             0.7,
             "#b8e186"
            ],
            [
             0.8,
             "#7fbc41"
            ],
            [
             0.9,
             "#4d9221"
            ],
            [
             1,
             "#276419"
            ]
           ],
           "sequential": [
            [
             0,
             "#0d0887"
            ],
            [
             0.1111111111111111,
             "#46039f"
            ],
            [
             0.2222222222222222,
             "#7201a8"
            ],
            [
             0.3333333333333333,
             "#9c179e"
            ],
            [
             0.4444444444444444,
             "#bd3786"
            ],
            [
             0.5555555555555556,
             "#d8576b"
            ],
            [
             0.6666666666666666,
             "#ed7953"
            ],
            [
             0.7777777777777778,
             "#fb9f3a"
            ],
            [
             0.8888888888888888,
             "#fdca26"
            ],
            [
             1,
             "#f0f921"
            ]
           ],
           "sequentialminus": [
            [
             0,
             "#0d0887"
            ],
            [
             0.1111111111111111,
             "#46039f"
            ],
            [
             0.2222222222222222,
             "#7201a8"
            ],
            [
             0.3333333333333333,
             "#9c179e"
            ],
            [
             0.4444444444444444,
             "#bd3786"
            ],
            [
             0.5555555555555556,
             "#d8576b"
            ],
            [
             0.6666666666666666,
             "#ed7953"
            ],
            [
             0.7777777777777778,
             "#fb9f3a"
            ],
            [
             0.8888888888888888,
             "#fdca26"
            ],
            [
             1,
             "#f0f921"
            ]
           ]
          },
          "colorway": [
           "#636efa",
           "#EF553B",
           "#00cc96",
           "#ab63fa",
           "#FFA15A",
           "#19d3f3",
           "#FF6692",
           "#B6E880",
           "#FF97FF",
           "#FECB52"
          ],
          "font": {
           "color": "#2a3f5f"
          },
          "geo": {
           "bgcolor": "white",
           "lakecolor": "white",
           "landcolor": "#E5ECF6",
           "showlakes": true,
           "showland": true,
           "subunitcolor": "white"
          },
          "hoverlabel": {
           "align": "left"
          },
          "hovermode": "closest",
          "mapbox": {
           "style": "light"
          },
          "paper_bgcolor": "white",
          "plot_bgcolor": "#E5ECF6",
          "polar": {
           "angularaxis": {
            "gridcolor": "white",
            "linecolor": "white",
            "ticks": ""
           },
           "bgcolor": "#E5ECF6",
           "radialaxis": {
            "gridcolor": "white",
            "linecolor": "white",
            "ticks": ""
           }
          },
          "scene": {
           "xaxis": {
            "backgroundcolor": "#E5ECF6",
            "gridcolor": "white",
            "gridwidth": 2,
            "linecolor": "white",
            "showbackground": true,
            "ticks": "",
            "zerolinecolor": "white"
           },
           "yaxis": {
            "backgroundcolor": "#E5ECF6",
            "gridcolor": "white",
            "gridwidth": 2,
            "linecolor": "white",
            "showbackground": true,
            "ticks": "",
            "zerolinecolor": "white"
           },
           "zaxis": {
            "backgroundcolor": "#E5ECF6",
            "gridcolor": "white",
            "gridwidth": 2,
            "linecolor": "white",
            "showbackground": true,
            "ticks": "",
            "zerolinecolor": "white"
           }
          },
          "shapedefaults": {
           "line": {
            "color": "#2a3f5f"
           }
          },
          "ternary": {
           "aaxis": {
            "gridcolor": "white",
            "linecolor": "white",
            "ticks": ""
           },
           "baxis": {
            "gridcolor": "white",
            "linecolor": "white",
            "ticks": ""
           },
           "bgcolor": "#E5ECF6",
           "caxis": {
            "gridcolor": "white",
            "linecolor": "white",
            "ticks": ""
           }
          },
          "title": {
           "x": 0.05
          },
          "xaxis": {
           "automargin": true,
           "gridcolor": "white",
           "linecolor": "white",
           "ticks": "",
           "title": {
            "standoff": 15
           },
           "zerolinecolor": "white",
           "zerolinewidth": 2
          },
          "yaxis": {
           "automargin": true,
           "gridcolor": "white",
           "linecolor": "white",
           "ticks": "",
           "title": {
            "standoff": 15
           },
           "zerolinecolor": "white",
           "zerolinewidth": 2
          }
         }
        },
        "title": {
         "text": "Chromaticity"
        }
       }
      }
     },
     "metadata": {}
    },
    {
     "output_type": "display_data",
     "data": {
      "application/vnd.plotly.v1+json": {
       "config": {
        "plotlyServerURL": "https://plot.ly"
       },
       "data": [
        {
         "boxpoints": "all",
         "jitter": 0.2,
         "line": {
          "width": 1
         },
         "marker": {
          "size": 2
         },
         "name": " Standard",
         "type": "box",
         "whiskerwidth": 0.2,
         "y": [
          200,
          175,
          145,
          66.666,
          60,
          50,
          50,
          48.888,
          48.88,
          42.69,
          40,
          39,
          35,
          35,
          35,
          35,
          32,
          32,
          30,
          30,
          30,
          28.88,
          27.77,
          27.5,
          26.9,
          26,
          26,
          25,
          25,
          25,
          25,
          24.69,
          24.5,
          24,
          24,
          24,
          24,
          24,
          24,
          24,
          24,
          23.99,
          23.888,
          23.69,
          23.5,
          23.5,
          23.337,
          23,
          23,
          23,
          22.5,
          22.5,
          22.5,
          22.22,
          22.22,
          22.2,
          22,
          22,
          22,
          21.99,
          21.99,
          21.9,
          21.5,
          21.5,
          21.5,
          21.5,
          21,
          21,
          21,
          20.69,
          20,
          20,
          20,
          20,
          19.99,
          19.99,
          19.969,
          19.69,
          19.5,
          19.2,
          19,
          19,
          18.95,
          18.95,
          18.9,
          18.88,
          18.75,
          18.5,
          18.5,
          18.1337,
          18,
          18,
          18,
          18,
          17.99,
          17.95,
          17.9,
          17.5,
          17.5,
          17,
          17,
          17,
          16.942,
          16.5,
          16,
          16,
          16,
          15.9,
          15.9,
          15.9,
          15.9,
          15.89,
          15.59,
          15,
          15,
          15,
          15,
          15,
          15,
          15,
          15,
          15,
          14.99,
          14.99,
          14.99,
          14.9,
          14.8869,
          14,
          14,
          14,
          14,
          14,
          14,
          14,
          14,
          14,
          13.99,
          13.9,
          13.69,
          13.5,
          13.5,
          13.49,
          13.33,
          13,
          13,
          13,
          13,
          13,
          13,
          12.94,
          12.888,
          12.88,
          12.8,
          12.69,
          12.69,
          12.65,
          12.5,
          12.5,
          12.5,
          12.45,
          12.43,
          12.35,
          12.29,
          12,
          12,
          12,
          12,
          12,
          12,
          12,
          12,
          12,
          12,
          12,
          11.99,
          11.99,
          11.99,
          11.99,
          11.99,
          11.99,
          11.99,
          11.88,
          11.88,
          11.8,
          11.77,
          11.75,
          11.75,
          11.5,
          11.5,
          11.5,
          11.5,
          11.5,
          11.5,
          11.45,
          11.4,
          11.1111,
          11.11,
          11.11,
          11.11,
          11.11,
          11,
          11,
          11,
          11,
          11,
          11,
          11,
          11,
          11,
          11,
          10.99,
          10.99,
          10.98,
          10.97,
          10.96,
          10.9,
          10.9,
          10.88,
          10.88,
          10.795243773951906,
          10.7,
          10.69,
          10.5,
          10.5,
          10.5,
          10.49,
          10.25,
          10,
          10,
          10,
          10,
          10,
          10,
          10,
          9.9999,
          9.99,
          9.99,
          9.99,
          9.98,
          9.9,
          9.9,
          9.9,
          9.9,
          9.9,
          9.9,
          9.88,
          9.8,
          9.8,
          9.8,
          9.8,
          9.8,
          9.8,
          9.69,
          9.69,
          9.5,
          9.25,
          9.1,
          9.1,
          9,
          9,
          9,
          9,
          9,
          8.98,
          8.88,
          8.85,
          8.85,
          8.8,
          8.8,
          8.8,
          8.8,
          8.79,
          8.79,
          8.7654,
          8.7,
          8.69,
          8.6,
          8.6,
          8.5,
          8.49,
          8.469,
          8.2,
          8.2,
          8.1,
          8.1,
          8,
          8,
          8,
          8,
          8,
          8,
          8,
          8,
          7.9999,
          7.99,
          7.99,
          7.9,
          7.9,
          7.85,
          7.8,
          7.8,
          7.7777,
          7.75,
          7.7,
          7.7,
          7.7,
          7.7,
          7.66,
          7.5,
          7.5,
          7.5,
          7.5,
          7.5,
          7.5,
          7.5,
          7.49,
          7.49,
          7.48,
          7.47,
          7.45,
          7.4,
          7.25,
          7.25,
          7.25,
          7.22,
          7.2,
          7.2,
          7.1499,
          7.1,
          7.1,
          7,
          7,
          7,
          7,
          7,
          6.99,
          6.99,
          6.95,
          6.9,
          6.9,
          6.88,
          6.88,
          6.85,
          6.8,
          6.777,
          6.75,
          6.75,
          6.68,
          6.68,
          6.66,
          6.6,
          6.6,
          6.5,
          6.5,
          6.5,
          6.5,
          6.5,
          6.49,
          6.49,
          6.469,
          6.4,
          6.4,
          6.39,
          6.35,
          6.3,
          6.29,
          6.1,
          6,
          5.99,
          5.99,
          5.97,
          5.9,
          5.8888,
          5.85,
          5.8,
          5.8,
          5.8,
          5.77,
          5.75,
          5.7,
          5.6,
          5.6,
          5.5,
          0.01,
          null,
          null,
          null,
          null,
          null,
          null,
          null,
          null,
          null,
          null,
          null,
          null,
          null,
          null,
          null,
          null,
          null,
          null,
          null,
          null,
          null,
          null,
          null,
          null,
          null,
          null,
          null,
          null,
          null,
          null,
          null,
          null,
          null,
          null,
          null,
          null,
          null,
          null,
          null,
          null,
          null,
          null,
          null,
          null,
          null,
          null,
          null,
          null,
          null,
          null,
          null,
          null,
          null,
          null,
          null,
          null,
          null,
          null,
          null,
          null,
          null,
          null,
          null,
          null,
          null,
          null,
          null,
          null,
          null,
          null,
          null,
          null,
          null,
          null,
          null,
          null,
          null,
          null,
          null,
          null,
          null,
          null,
          null,
          null,
          null,
          null,
          null,
          null,
          null,
          null,
          null,
          null,
          null,
          null,
          null,
          null,
          null,
          null,
          null,
          null,
          null,
          null,
          null,
          null,
          null,
          null,
          null
         ]
        },
        {
         "boxpoints": "all",
         "jitter": 0.2,
         "line": {
          "width": 1
         },
         "marker": {
          "size": 2
         },
         "name": " Gradual",
         "type": "box",
         "whiskerwidth": 0.2,
         "y": [
          80,
          30,
          29.8,
          28,
          27.5,
          26.5,
          24.9999,
          23,
          22.99,
          22.99,
          22.22,
          22,
          22,
          21.99,
          21,
          20.9,
          20.69,
          20,
          20,
          19.99992336795338,
          19,
          18,
          18,
          18,
          18,
          18,
          18,
          17.5,
          17.43,
          17,
          16.5,
          16.5,
          15.9,
          15.8,
          15.5,
          15,
          15,
          15,
          15,
          15,
          15,
          14.95,
          14.88,
          14.69,
          14.6,
          14.5,
          14.216,
          14,
          14,
          13.99,
          13.888,
          13.85,
          13.8,
          13.5,
          13.2,
          12.95,
          12.95,
          12.8,
          12.75,
          12.69,
          12.5,
          12.4,
          12.4,
          12,
          12,
          12,
          12,
          12,
          12,
          12,
          11.98,
          11.95,
          11.85,
          11.8,
          11.75,
          11.5,
          11.3,
          11.11,
          11,
          11,
          11,
          11,
          10.97,
          10.4,
          10,
          10,
          10,
          10,
          9.999,
          9.99,
          9.99,
          9.888,
          9.88,
          9.7,
          9.69,
          9.6,
          9.5,
          9.5,
          9.5,
          9.5,
          9.3,
          9,
          9,
          8.99,
          8.99,
          8.99,
          8.88,
          8.88,
          8.8,
          8.5,
          8.5,
          8.49,
          8.432,
          8.2,
          8,
          8,
          8,
          8,
          7.99,
          7.77,
          7.77,
          7.75,
          7.7,
          7.5,
          7.5,
          7.4999,
          7.49,
          7.49,
          7.35,
          7.3,
          7.25,
          7.25,
          7.123,
          7.1,
          7.1,
          7.069,
          7,
          6.99,
          6.97,
          6.969,
          6.9,
          6.9,
          6.9,
          6.89,
          6.8,
          6.78,
          6.66,
          6.64,
          6.6,
          6.5,
          6.5,
          6.49,
          6.4,
          6.4,
          6.33,
          6.29,
          6,
          6,
          5.99,
          5.97,
          5.9,
          5.8,
          5.69,
          5.6,
          null,
          null,
          null,
          null,
          null,
          null,
          null,
          null,
          null,
          null,
          null,
          null,
          null,
          null,
          null,
          null,
          null,
          null,
          null,
          null,
          null,
          null,
          null,
          null,
          null,
          null,
          null,
          null,
          null,
          null,
          null,
          null,
          null,
          null,
          null,
          null,
          null,
          null,
          null,
          null,
          null,
          null,
          null,
          null,
          null,
          null,
          null,
          null,
          null
         ]
        },
        {
         "boxpoints": "all",
         "jitter": 0.2,
         "line": {
          "width": 1
         },
         "marker": {
          "size": 2
         },
         "name": " High",
         "type": "box",
         "whiskerwidth": 0.2,
         "y": [
          45,
          35,
          28,
          27,
          22,
          20,
          20,
          19.3,
          18,
          18,
          17.98,
          16.69,
          15,
          14.5,
          12,
          11.96,
          11.9,
          11.9,
          11,
          9.8,
          9.69,
          9.5,
          9,
          8,
          8,
          7.536953642384106,
          7.5,
          7.49,
          7.4,
          6.99,
          6.7,
          6.49,
          6.4,
          6.4,
          6.29,
          6.19,
          5.555,
          5.5,
          null,
          null,
          null,
          null,
          null,
          null,
          null,
          null,
          null,
          null,
          null,
          null,
          null,
          null,
          null,
          null,
          null,
          null,
          null
         ]
        },
        {
         "boxpoints": "all",
         "jitter": 0.2,
         "line": {
          "width": 1
         },
         "marker": {
          "size": 2
         },
         "name": " Low",
         "type": "box",
         "whiskerwidth": 0.2,
         "y": [
          200,
          60,
          48.57,
          33,
          30,
          30,
          29.91,
          28.94,
          25.4,
          25,
          25,
          25,
          24.069,
          24,
          23.69,
          23,
          22,
          22,
          22,
          22,
          21,
          20.75,
          20,
          20,
          20,
          20,
          20,
          20,
          19.99,
          19.5,
          19.5,
          18.88,
          18.5,
          18.5,
          18.5,
          18.5,
          18,
          18,
          18,
          17.5,
          17.167257721296323,
          17,
          16.99,
          16.5,
          16.25,
          16,
          15.99,
          15,
          15,
          15,
          15,
          15,
          15,
          14.9999,
          14.6969,
          14.6969,
          14.2069,
          13.9,
          13.75,
          13.6969,
          13.69,
          13.5,
          13.5,
          13.3,
          13,
          13,
          13,
          12.99,
          12.8,
          12.5,
          12.5,
          12.5,
          12.4,
          12,
          12,
          12,
          12,
          11.98,
          11.95,
          11.9,
          11.82130112544606,
          11.5,
          11.25,
          11.11,
          11,
          10.5,
          10.4,
          10,
          10,
          10,
          9.9,
          9.8,
          9.8,
          9.5,
          9.4,
          9,
          8.98,
          8.89,
          8.88,
          8.75,
          8.75,
          8.75,
          8.6,
          8.5,
          8.5,
          8.5,
          8.5,
          8.44,
          8.4,
          8.4,
          8.35,
          8.25,
          8,
          8,
          8,
          8,
          8,
          7.99,
          7.99,
          7.99,
          7.99,
          7.98,
          7.9,
          7.9,
          7.9,
          7.85,
          7.8,
          7.5,
          7.5,
          7.5,
          7.5,
          7.5,
          7.5,
          7.49,
          7.49,
          7.4888,
          7.45,
          7.44,
          7.4,
          7.39,
          7.35,
          7.3,
          7.3,
          7.25,
          7.24,
          7.2,
          7.2,
          7.1111,
          7.1,
          7.1,
          7.095,
          7,
          6.99,
          6.99,
          6.99,
          6.99,
          6.99,
          6.98,
          6.9,
          6.9,
          6.89,
          6.89,
          6.8,
          6.79,
          6.75,
          6.72,
          6.69,
          6.5,
          6.5,
          6.477,
          6.4,
          6.39,
          6.3,
          6.25,
          6.23,
          6.21,
          6.1,
          6,
          6,
          6,
          5.95,
          5.93,
          5.9,
          5.869,
          5.85,
          5.85,
          5.8469,
          5.8,
          5.8,
          5.75,
          5.75,
          5.7,
          5.7,
          5.55,
          null,
          null,
          null,
          null,
          null,
          null,
          null,
          null,
          null,
          null,
          null,
          null,
          null,
          null,
          null,
          null,
          null,
          null,
          null,
          null,
          null,
          null,
          null,
          null,
          null,
          null,
          null,
          null,
          null,
          null,
          null,
          null,
          null,
          null,
          null,
          null,
          null,
          null,
          null,
          null,
          null,
          null,
          null,
          null,
          null
         ]
        }
       ],
       "layout": {
        "template": {
         "data": {
          "bar": [
           {
            "error_x": {
             "color": "#2a3f5f"
            },
            "error_y": {
             "color": "#2a3f5f"
            },
            "marker": {
             "line": {
              "color": "#E5ECF6",
              "width": 0.5
             },
             "pattern": {
              "fillmode": "overlay",
              "size": 10,
              "solidity": 0.2
             }
            },
            "type": "bar"
           }
          ],
          "barpolar": [
           {
            "marker": {
             "line": {
              "color": "#E5ECF6",
              "width": 0.5
             },
             "pattern": {
              "fillmode": "overlay",
              "size": 10,
              "solidity": 0.2
             }
            },
            "type": "barpolar"
           }
          ],
          "carpet": [
           {
            "aaxis": {
             "endlinecolor": "#2a3f5f",
             "gridcolor": "white",
             "linecolor": "white",
             "minorgridcolor": "white",
             "startlinecolor": "#2a3f5f"
            },
            "baxis": {
             "endlinecolor": "#2a3f5f",
             "gridcolor": "white",
             "linecolor": "white",
             "minorgridcolor": "white",
             "startlinecolor": "#2a3f5f"
            },
            "type": "carpet"
           }
          ],
          "choropleth": [
           {
            "colorbar": {
             "outlinewidth": 0,
             "ticks": ""
            },
            "type": "choropleth"
           }
          ],
          "contour": [
           {
            "colorbar": {
             "outlinewidth": 0,
             "ticks": ""
            },
            "colorscale": [
             [
              0,
              "#0d0887"
             ],
             [
              0.1111111111111111,
              "#46039f"
             ],
             [
              0.2222222222222222,
              "#7201a8"
             ],
             [
              0.3333333333333333,
              "#9c179e"
             ],
             [
              0.4444444444444444,
              "#bd3786"
             ],
             [
              0.5555555555555556,
              "#d8576b"
             ],
             [
              0.6666666666666666,
              "#ed7953"
             ],
             [
              0.7777777777777778,
              "#fb9f3a"
             ],
             [
              0.8888888888888888,
              "#fdca26"
             ],
             [
              1,
              "#f0f921"
             ]
            ],
            "type": "contour"
           }
          ],
          "contourcarpet": [
           {
            "colorbar": {
             "outlinewidth": 0,
             "ticks": ""
            },
            "type": "contourcarpet"
           }
          ],
          "heatmap": [
           {
            "colorbar": {
             "outlinewidth": 0,
             "ticks": ""
            },
            "colorscale": [
             [
              0,
              "#0d0887"
             ],
             [
              0.1111111111111111,
              "#46039f"
             ],
             [
              0.2222222222222222,
              "#7201a8"
             ],
             [
              0.3333333333333333,
              "#9c179e"
             ],
             [
              0.4444444444444444,
              "#bd3786"
             ],
             [
              0.5555555555555556,
              "#d8576b"
             ],
             [
              0.6666666666666666,
              "#ed7953"
             ],
             [
              0.7777777777777778,
              "#fb9f3a"
             ],
             [
              0.8888888888888888,
              "#fdca26"
             ],
             [
              1,
              "#f0f921"
             ]
            ],
            "type": "heatmap"
           }
          ],
          "heatmapgl": [
           {
            "colorbar": {
             "outlinewidth": 0,
             "ticks": ""
            },
            "colorscale": [
             [
              0,
              "#0d0887"
             ],
             [
              0.1111111111111111,
              "#46039f"
             ],
             [
              0.2222222222222222,
              "#7201a8"
             ],
             [
              0.3333333333333333,
              "#9c179e"
             ],
             [
              0.4444444444444444,
              "#bd3786"
             ],
             [
              0.5555555555555556,
              "#d8576b"
             ],
             [
              0.6666666666666666,
              "#ed7953"
             ],
             [
              0.7777777777777778,
              "#fb9f3a"
             ],
             [
              0.8888888888888888,
              "#fdca26"
             ],
             [
              1,
              "#f0f921"
             ]
            ],
            "type": "heatmapgl"
           }
          ],
          "histogram": [
           {
            "marker": {
             "pattern": {
              "fillmode": "overlay",
              "size": 10,
              "solidity": 0.2
             }
            },
            "type": "histogram"
           }
          ],
          "histogram2d": [
           {
            "colorbar": {
             "outlinewidth": 0,
             "ticks": ""
            },
            "colorscale": [
             [
              0,
              "#0d0887"
             ],
             [
              0.1111111111111111,
              "#46039f"
             ],
             [
              0.2222222222222222,
              "#7201a8"
             ],
             [
              0.3333333333333333,
              "#9c179e"
             ],
             [
              0.4444444444444444,
              "#bd3786"
             ],
             [
              0.5555555555555556,
              "#d8576b"
             ],
             [
              0.6666666666666666,
              "#ed7953"
             ],
             [
              0.7777777777777778,
              "#fb9f3a"
             ],
             [
              0.8888888888888888,
              "#fdca26"
             ],
             [
              1,
              "#f0f921"
             ]
            ],
            "type": "histogram2d"
           }
          ],
          "histogram2dcontour": [
           {
            "colorbar": {
             "outlinewidth": 0,
             "ticks": ""
            },
            "colorscale": [
             [
              0,
              "#0d0887"
             ],
             [
              0.1111111111111111,
              "#46039f"
             ],
             [
              0.2222222222222222,
              "#7201a8"
             ],
             [
              0.3333333333333333,
              "#9c179e"
             ],
             [
              0.4444444444444444,
              "#bd3786"
             ],
             [
              0.5555555555555556,
              "#d8576b"
             ],
             [
              0.6666666666666666,
              "#ed7953"
             ],
             [
              0.7777777777777778,
              "#fb9f3a"
             ],
             [
              0.8888888888888888,
              "#fdca26"
             ],
             [
              1,
              "#f0f921"
             ]
            ],
            "type": "histogram2dcontour"
           }
          ],
          "mesh3d": [
           {
            "colorbar": {
             "outlinewidth": 0,
             "ticks": ""
            },
            "type": "mesh3d"
           }
          ],
          "parcoords": [
           {
            "line": {
             "colorbar": {
              "outlinewidth": 0,
              "ticks": ""
             }
            },
            "type": "parcoords"
           }
          ],
          "pie": [
           {
            "automargin": true,
            "type": "pie"
           }
          ],
          "scatter": [
           {
            "marker": {
             "colorbar": {
              "outlinewidth": 0,
              "ticks": ""
             }
            },
            "type": "scatter"
           }
          ],
          "scatter3d": [
           {
            "line": {
             "colorbar": {
              "outlinewidth": 0,
              "ticks": ""
             }
            },
            "marker": {
             "colorbar": {
              "outlinewidth": 0,
              "ticks": ""
             }
            },
            "type": "scatter3d"
           }
          ],
          "scattercarpet": [
           {
            "marker": {
             "colorbar": {
              "outlinewidth": 0,
              "ticks": ""
             }
            },
            "type": "scattercarpet"
           }
          ],
          "scattergeo": [
           {
            "marker": {
             "colorbar": {
              "outlinewidth": 0,
              "ticks": ""
             }
            },
            "type": "scattergeo"
           }
          ],
          "scattergl": [
           {
            "marker": {
             "colorbar": {
              "outlinewidth": 0,
              "ticks": ""
             }
            },
            "type": "scattergl"
           }
          ],
          "scattermapbox": [
           {
            "marker": {
             "colorbar": {
              "outlinewidth": 0,
              "ticks": ""
             }
            },
            "type": "scattermapbox"
           }
          ],
          "scatterpolar": [
           {
            "marker": {
             "colorbar": {
              "outlinewidth": 0,
              "ticks": ""
             }
            },
            "type": "scatterpolar"
           }
          ],
          "scatterpolargl": [
           {
            "marker": {
             "colorbar": {
              "outlinewidth": 0,
              "ticks": ""
             }
            },
            "type": "scatterpolargl"
           }
          ],
          "scatterternary": [
           {
            "marker": {
             "colorbar": {
              "outlinewidth": 0,
              "ticks": ""
             }
            },
            "type": "scatterternary"
           }
          ],
          "surface": [
           {
            "colorbar": {
             "outlinewidth": 0,
             "ticks": ""
            },
            "colorscale": [
             [
              0,
              "#0d0887"
             ],
             [
              0.1111111111111111,
              "#46039f"
             ],
             [
              0.2222222222222222,
              "#7201a8"
             ],
             [
              0.3333333333333333,
              "#9c179e"
             ],
             [
              0.4444444444444444,
              "#bd3786"
             ],
             [
              0.5555555555555556,
              "#d8576b"
             ],
             [
              0.6666666666666666,
              "#ed7953"
             ],
             [
              0.7777777777777778,
              "#fb9f3a"
             ],
             [
              0.8888888888888888,
              "#fdca26"
             ],
             [
              1,
              "#f0f921"
             ]
            ],
            "type": "surface"
           }
          ],
          "table": [
           {
            "cells": {
             "fill": {
              "color": "#EBF0F8"
             },
             "line": {
              "color": "white"
             }
            },
            "header": {
             "fill": {
              "color": "#C8D4E3"
             },
             "line": {
              "color": "white"
             }
            },
            "type": "table"
           }
          ]
         },
         "layout": {
          "annotationdefaults": {
           "arrowcolor": "#2a3f5f",
           "arrowhead": 0,
           "arrowwidth": 1
          },
          "autotypenumbers": "strict",
          "coloraxis": {
           "colorbar": {
            "outlinewidth": 0,
            "ticks": ""
           }
          },
          "colorscale": {
           "diverging": [
            [
             0,
             "#8e0152"
            ],
            [
             0.1,
             "#c51b7d"
            ],
            [
             0.2,
             "#de77ae"
            ],
            [
             0.3,
             "#f1b6da"
            ],
            [
             0.4,
             "#fde0ef"
            ],
            [
             0.5,
             "#f7f7f7"
            ],
            [
             0.6,
             "#e6f5d0"
            ],
            [
             0.7,
             "#b8e186"
            ],
            [
             0.8,
             "#7fbc41"
            ],
            [
             0.9,
             "#4d9221"
            ],
            [
             1,
             "#276419"
            ]
           ],
           "sequential": [
            [
             0,
             "#0d0887"
            ],
            [
             0.1111111111111111,
             "#46039f"
            ],
            [
             0.2222222222222222,
             "#7201a8"
            ],
            [
             0.3333333333333333,
             "#9c179e"
            ],
            [
             0.4444444444444444,
             "#bd3786"
            ],
            [
             0.5555555555555556,
             "#d8576b"
            ],
            [
             0.6666666666666666,
             "#ed7953"
            ],
            [
             0.7777777777777778,
             "#fb9f3a"
            ],
            [
             0.8888888888888888,
             "#fdca26"
            ],
            [
             1,
             "#f0f921"
            ]
           ],
           "sequentialminus": [
            [
             0,
             "#0d0887"
            ],
            [
             0.1111111111111111,
             "#46039f"
            ],
            [
             0.2222222222222222,
             "#7201a8"
            ],
            [
             0.3333333333333333,
             "#9c179e"
            ],
            [
             0.4444444444444444,
             "#bd3786"
            ],
            [
             0.5555555555555556,
             "#d8576b"
            ],
            [
             0.6666666666666666,
             "#ed7953"
            ],
            [
             0.7777777777777778,
             "#fb9f3a"
            ],
            [
             0.8888888888888888,
             "#fdca26"
            ],
            [
             1,
             "#f0f921"
            ]
           ]
          },
          "colorway": [
           "#636efa",
           "#EF553B",
           "#00cc96",
           "#ab63fa",
           "#FFA15A",
           "#19d3f3",
           "#FF6692",
           "#B6E880",
           "#FF97FF",
           "#FECB52"
          ],
          "font": {
           "color": "#2a3f5f"
          },
          "geo": {
           "bgcolor": "white",
           "lakecolor": "white",
           "landcolor": "#E5ECF6",
           "showlakes": true,
           "showland": true,
           "subunitcolor": "white"
          },
          "hoverlabel": {
           "align": "left"
          },
          "hovermode": "closest",
          "mapbox": {
           "style": "light"
          },
          "paper_bgcolor": "white",
          "plot_bgcolor": "#E5ECF6",
          "polar": {
           "angularaxis": {
            "gridcolor": "white",
            "linecolor": "white",
            "ticks": ""
           },
           "bgcolor": "#E5ECF6",
           "radialaxis": {
            "gridcolor": "white",
            "linecolor": "white",
            "ticks": ""
           }
          },
          "scene": {
           "xaxis": {
            "backgroundcolor": "#E5ECF6",
            "gridcolor": "white",
            "gridwidth": 2,
            "linecolor": "white",
            "showbackground": true,
            "ticks": "",
            "zerolinecolor": "white"
           },
           "yaxis": {
            "backgroundcolor": "#E5ECF6",
            "gridcolor": "white",
            "gridwidth": 2,
            "linecolor": "white",
            "showbackground": true,
            "ticks": "",
            "zerolinecolor": "white"
           },
           "zaxis": {
            "backgroundcolor": "#E5ECF6",
            "gridcolor": "white",
            "gridwidth": 2,
            "linecolor": "white",
            "showbackground": true,
            "ticks": "",
            "zerolinecolor": "white"
           }
          },
          "shapedefaults": {
           "line": {
            "color": "#2a3f5f"
           }
          },
          "ternary": {
           "aaxis": {
            "gridcolor": "white",
            "linecolor": "white",
            "ticks": ""
           },
           "baxis": {
            "gridcolor": "white",
            "linecolor": "white",
            "ticks": ""
           },
           "bgcolor": "#E5ECF6",
           "caxis": {
            "gridcolor": "white",
            "linecolor": "white",
            "ticks": ""
           }
          },
          "title": {
           "x": 0.05
          },
          "xaxis": {
           "automargin": true,
           "gridcolor": "white",
           "linecolor": "white",
           "ticks": "",
           "title": {
            "standoff": 15
           },
           "zerolinecolor": "white",
           "zerolinewidth": 2
          },
          "yaxis": {
           "automargin": true,
           "gridcolor": "white",
           "linecolor": "white",
           "ticks": "",
           "title": {
            "standoff": 15
           },
           "zerolinecolor": "white",
           "zerolinewidth": 2
          }
         }
        },
        "title": {
         "text": "Frequency"
        }
       }
      }
     },
     "metadata": {}
    },
    {
     "output_type": "display_data",
     "data": {
      "application/vnd.plotly.v1+json": {
       "config": {
        "plotlyServerURL": "https://plot.ly"
       },
       "data": [
        {
         "boxpoints": "all",
         "jitter": 0.2,
         "line": {
          "width": 1
         },
         "marker": {
          "size": 2
         },
         "name": " Fjord",
         "type": "box",
         "whiskerwidth": 0.2,
         "y": [
          30,
          24,
          24,
          22.5,
          21.99,
          21.5,
          19.969,
          18.5,
          16.99,
          14,
          13.8,
          13,
          12,
          11.98,
          9.69,
          8.6,
          8,
          7.1,
          6.9,
          6.79,
          6.5,
          6.5,
          5.55,
          null,
          null
         ]
        },
        {
         "boxpoints": "all",
         "jitter": 0.2,
         "line": {
          "width": 1
         },
         "marker": {
          "size": 2
         },
         "name": " Glacier",
         "type": "box",
         "whiskerwidth": 0.2,
         "y": [
          27.5,
          18.1337,
          18,
          15.99,
          15,
          13.5,
          12.29,
          10,
          8.99,
          8.469,
          6.99,
          6.9,
          null,
          null
         ]
        },
        {
         "boxpoints": "all",
         "jitter": 0.2,
         "line": {
          "width": 1
         },
         "marker": {
          "size": 2
         },
         "name": " Atoll",
         "type": "box",
         "whiskerwidth": 0.2,
         "y": [
          45,
          18.95,
          17,
          16,
          14,
          14,
          13.75,
          12.8,
          11.5,
          11,
          10.99,
          8,
          7.77,
          7.2,
          6.99,
          null,
          null,
          null,
          null
         ]
        },
        {
         "boxpoints": "all",
         "jitter": 0.2,
         "line": {
          "width": 1
         },
         "marker": {
          "size": 2
         },
         "name": " Volcano",
         "type": "box",
         "whiskerwidth": 0.2,
         "y": [
          24,
          22,
          21.99,
          21,
          19.99,
          18,
          18,
          15,
          12.4,
          12.35,
          11.96,
          11.8,
          8.2,
          7.536953642384106,
          7.1,
          6.99,
          6.49,
          null,
          null
         ]
        },
        {
         "boxpoints": "all",
         "jitter": 0.2,
         "line": {
          "width": 1
         },
         "marker": {
          "size": 2
         },
         "name": " Cove",
         "type": "box",
         "whiskerwidth": 0.2,
         "y": [
          35,
          28.94,
          22,
          18.5,
          17.95,
          14.99,
          14.95,
          12.5,
          12,
          12,
          9.8,
          9.25,
          8.85,
          8,
          7.7,
          7.5,
          null,
          null,
          null,
          null,
          null,
          null,
          null
         ]
        },
        {
         "boxpoints": "all",
         "jitter": 0.2,
         "line": {
          "width": 1
         },
         "marker": {
          "size": 2
         },
         "name": " Oasis",
         "type": "box",
         "whiskerwidth": 0.2,
         "y": [
          22.5,
          20.69,
          20,
          19,
          15.8,
          15,
          13.9,
          13.2,
          12.65,
          12.4,
          11.99,
          9.99,
          9.8,
          8,
          7.99,
          7.5,
          7.3,
          7,
          6.4,
          5.5,
          null,
          null,
          null,
          null,
          null,
          null,
          null
         ]
        },
        {
         "boxpoints": "all",
         "jitter": 0.2,
         "line": {
          "width": 1
         },
         "marker": {
          "size": 2
         },
         "name": " Reef",
         "type": "box",
         "whiskerwidth": 0.2,
         "y": [
          50,
          25,
          24.9999,
          22.2,
          21.5,
          18,
          13.5,
          13.33,
          12.5,
          12.45,
          11.75,
          11.11,
          10.9,
          10,
          8.8,
          8.75,
          8.6,
          7,
          5.97,
          5.7,
          null,
          null
         ]
        },
        {
         "boxpoints": "all",
         "jitter": 0.2,
         "line": {
          "width": 1
         },
         "marker": {
          "size": 2
         },
         "name": " Peninsula",
         "type": "box",
         "whiskerwidth": 0.2,
         "y": [
          22,
          18,
          18,
          18,
          16,
          15,
          14,
          12,
          12,
          12,
          11.5,
          11,
          10.88,
          10.5,
          9.69,
          8,
          7.5,
          7.5,
          5.99,
          null,
          null
         ]
        },
        {
         "boxpoints": "all",
         "jitter": 0.2,
         "line": {
          "width": 1
         },
         "marker": {
          "size": 2
         },
         "name": " Moraine",
         "type": "box",
         "whiskerwidth": 0.2,
         "y": [
          30,
          19.69,
          18,
          17.98,
          17.5,
          14,
          13,
          12.8,
          12.69,
          12,
          11.99,
          11,
          10.98,
          10.69,
          9.99,
          7.49,
          7.4,
          7.25,
          7.123,
          7,
          6.29,
          5.5,
          null,
          null,
          null,
          null
         ]
        },
        {
         "boxpoints": "all",
         "jitter": 0.2,
         "line": {
          "width": 1
         },
         "marker": {
          "size": 2
         },
         "name": " Other",
         "type": "box",
         "whiskerwidth": 0.2,
         "y": [
          200,
          175,
          80,
          66.666,
          60,
          60,
          50,
          48.888,
          48.88,
          48.57,
          42.69,
          40,
          39,
          35,
          35,
          35,
          33,
          32,
          32,
          30,
          30,
          30,
          30,
          29.8,
          28.88,
          28,
          27.77,
          27.5,
          26.9,
          26.5,
          26,
          26,
          25.4,
          25,
          25,
          25,
          25,
          24.69,
          24.5,
          24.069,
          24,
          24,
          24,
          23.99,
          23.69,
          23.337,
          23,
          23,
          23,
          23,
          23,
          22.99,
          22.99,
          22.5,
          22.22,
          22.22,
          22,
          22,
          22,
          22,
          22,
          22,
          21.99,
          21.9,
          21.5,
          21.5,
          21,
          21,
          21,
          20.9,
          20.75,
          20.69,
          20,
          20,
          20,
          20,
          20,
          20,
          20,
          20,
          20,
          19.99992336795338,
          19.99,
          19.99,
          19.5,
          19.5,
          19.5,
          19.2,
          19,
          18.95,
          18.9,
          18.88,
          18.88,
          18.75,
          18.5,
          18.5,
          18.5,
          18.5,
          18,
          18,
          18,
          18,
          18,
          18,
          17.9,
          17.5,
          17.5,
          17.5,
          17.43,
          17,
          17,
          16.942,
          16.5,
          16.5,
          16.5,
          16.5,
          16.25,
          16,
          16,
          15.9,
          15.9,
          15.89,
          15.59,
          15.5,
          15,
          15,
          15,
          15,
          15,
          15,
          15,
          15,
          15,
          15,
          15,
          15,
          15,
          15,
          15,
          14.9999,
          14.99,
          14.99,
          14.8869,
          14.88,
          14.6969,
          14.6969,
          14.6,
          14.5,
          14.216,
          14.2069,
          14,
          14,
          14,
          14,
          14,
          13.99,
          13.99,
          13.9,
          13.888,
          13.85,
          13.6969,
          13.69,
          13.69,
          13.5,
          13.5,
          13.49,
          13,
          13,
          13,
          13,
          13,
          12.99,
          12.95,
          12.95,
          12.94,
          12.88,
          12.75,
          12.69,
          12.5,
          12.5,
          12.5,
          12.5,
          12.5,
          12.43,
          12.4,
          12,
          12,
          12,
          12,
          12,
          12,
          12,
          12,
          12,
          12,
          12,
          11.99,
          11.99,
          11.99,
          11.99,
          11.99,
          11.98,
          11.95,
          11.95,
          11.9,
          11.88,
          11.85,
          11.82130112544606,
          11.77,
          11.75,
          11.5,
          11.5,
          11.5,
          11.5,
          11.5,
          11.25,
          11.1111,
          11.11,
          11.11,
          11.11,
          11,
          11,
          11,
          11,
          11,
          11,
          11,
          11,
          11,
          10.99,
          10.97,
          10.97,
          10.795243773951906,
          10.7,
          10.5,
          10.5,
          10.5,
          10.49,
          10.4,
          10.4,
          10,
          10,
          10,
          10,
          10,
          10,
          10,
          10,
          10,
          9.999,
          9.99,
          9.99,
          9.98,
          9.9,
          9.9,
          9.9,
          9.9,
          9.9,
          9.9,
          9.888,
          9.88,
          9.8,
          9.8,
          9.8,
          9.8,
          9.7,
          9.69,
          9.6,
          9.5,
          9.5,
          9.5,
          9.3,
          9.1,
          9,
          9,
          9,
          9,
          9,
          8.99,
          8.99,
          8.98,
          8.98,
          8.89,
          8.88,
          8.88,
          8.88,
          8.88,
          8.85,
          8.8,
          8.8,
          8.8,
          8.79,
          8.79,
          8.75,
          8.75,
          8.7,
          8.6,
          8.5,
          8.5,
          8.5,
          8.5,
          8.5,
          8.49,
          8.44,
          8.432,
          8.4,
          8.4,
          8.35,
          8.25,
          8.2,
          8,
          8,
          8,
          8,
          8,
          8,
          8,
          8,
          8,
          8,
          7.9999,
          7.99,
          7.99,
          7.99,
          7.99,
          7.99,
          7.99,
          7.98,
          7.9,
          7.9,
          7.9,
          7.9,
          7.85,
          7.85,
          7.8,
          7.8,
          7.8,
          7.7777,
          7.77,
          7.75,
          7.75,
          7.7,
          7.7,
          7.7,
          7.5,
          7.5,
          7.5,
          7.5,
          7.5,
          7.5,
          7.5,
          7.5,
          7.5,
          7.5,
          7.4999,
          7.49,
          7.49,
          7.49,
          7.49,
          7.48,
          7.47,
          7.45,
          7.45,
          7.44,
          7.4,
          7.4,
          7.39,
          7.35,
          7.3,
          7.3,
          7.25,
          7.25,
          7.25,
          7.25,
          7.25,
          7.24,
          7.2,
          7.2,
          7.2,
          7.1111,
          7.1,
          7.1,
          7.1,
          7.095,
          7.069,
          7,
          7,
          6.99,
          6.99,
          6.99,
          6.99,
          6.99,
          6.99,
          6.98,
          6.97,
          6.969,
          6.95,
          6.9,
          6.9,
          6.9,
          6.89,
          6.89,
          6.88,
          6.88,
          6.85,
          6.8,
          6.8,
          6.78,
          6.75,
          6.75,
          6.72,
          6.69,
          6.66,
          6.66,
          6.64,
          6.6,
          6.5,
          6.5,
          6.5,
          6.5,
          6.49,
          6.477,
          6.469,
          6.4,
          6.4,
          6.4,
          6.4,
          6.39,
          6.39,
          6.33,
          6.3,
          6.29,
          6.25,
          6.23,
          6.1,
          6,
          6,
          6,
          6,
          5.99,
          5.97,
          5.93,
          5.9,
          5.9,
          5.869,
          5.85,
          5.8469,
          5.8,
          5.8,
          5.8,
          5.8,
          5.75,
          5.7,
          5.69,
          5.6,
          5.6,
          0.01,
          null,
          null,
          null,
          null,
          null,
          null,
          null,
          null,
          null,
          null,
          null,
          null,
          null,
          null,
          null,
          null,
          null,
          null,
          null,
          null,
          null,
          null,
          null,
          null,
          null,
          null,
          null,
          null,
          null,
          null,
          null,
          null,
          null,
          null,
          null,
          null,
          null,
          null,
          null,
          null,
          null,
          null,
          null,
          null,
          null,
          null,
          null,
          null,
          null,
          null,
          null,
          null,
          null,
          null,
          null,
          null,
          null,
          null,
          null,
          null,
          null,
          null,
          null,
          null,
          null,
          null,
          null,
          null,
          null,
          null,
          null,
          null,
          null,
          null,
          null,
          null,
          null,
          null,
          null,
          null,
          null,
          null,
          null,
          null,
          null,
          null,
          null,
          null,
          null,
          null,
          null,
          null,
          null,
          null,
          null,
          null,
          null,
          null,
          null,
          null,
          null,
          null,
          null,
          null,
          null,
          null,
          null,
          null,
          null,
          null,
          null,
          null,
          null,
          null,
          null,
          null,
          null,
          null,
          null,
          null,
          null,
          null,
          null,
          null,
          null,
          null,
          null,
          null
         ]
        },
        {
         "boxpoints": "all",
         "jitter": 0.2,
         "line": {
          "width": 1
         },
         "marker": {
          "size": 2
         },
         "name": " Marsh",
         "type": "box",
         "whiskerwidth": 0.2,
         "y": [
          35,
          15.9,
          11.9,
          11.8,
          11.4,
          11,
          11,
          6.9,
          6.6,
          6.49,
          6.1,
          5.8888,
          null,
          null,
          null,
          null,
          null
         ]
        },
        {
         "boxpoints": "all",
         "jitter": 0.2,
         "line": {
          "width": 1
         },
         "marker": {
          "size": 2
         },
         "name": " Delta",
         "type": "box",
         "whiskerwidth": 0.2,
         "y": [
          28,
          23.5,
          21,
          20,
          14,
          11.3,
          10.9,
          9.9,
          8.69,
          8.1,
          6.35,
          5.85,
          5.8,
          null,
          null,
          null,
          null,
          null
         ]
        },
        {
         "boxpoints": "all",
         "jitter": 0.2,
         "line": {
          "width": 1
         },
         "marker": {
          "size": 2
         },
         "name": " Gulf",
         "type": "box",
         "whiskerwidth": 0.2,
         "y": [
          200,
          23.888,
          22.22,
          16.69,
          13,
          11.75,
          11.11,
          10,
          9.9999,
          9.99,
          6.5,
          6.21,
          5.75,
          5.555,
          null,
          null,
          null,
          null,
          null
         ]
        },
        {
         "boxpoints": "all",
         "jitter": 0.2,
         "line": {
          "width": 1
         },
         "marker": {
          "size": 2
         },
         "name": " Canyon",
         "type": "box",
         "whiskerwidth": 0.2,
         "y": [
          20,
          20,
          19.3,
          14.5,
          13,
          12.8,
          12,
          12,
          11,
          9.5,
          9.5,
          8.5,
          7.49,
          7.22,
          7,
          6.777,
          5.85,
          5.77,
          null,
          null,
          null
         ]
        },
        {
         "boxpoints": "all",
         "jitter": 0.2,
         "line": {
          "width": 1
         },
         "marker": {
          "size": 2
         },
         "name": " Shore",
         "type": "box",
         "whiskerwidth": 0.2,
         "y": [
          17.99,
          17,
          15,
          15,
          12,
          11.88,
          8.2,
          7.49,
          6.6,
          6.5,
          5.95,
          5.6,
          null,
          null,
          null,
          null,
          null
         ]
        },
        {
         "boxpoints": "all",
         "jitter": 0.2,
         "line": {
          "width": 1
         },
         "marker": {
          "size": 2
         },
         "name": " Prairie",
         "type": "box",
         "whiskerwidth": 0.2,
         "y": [
          23.5,
          17.167257721296323,
          12.888,
          11.11,
          10.88,
          9,
          9,
          8.1,
          7.4888,
          6.3,
          null,
          null,
          null,
          null,
          null,
          null,
          null
         ]
        },
        {
         "boxpoints": "all",
         "jitter": 0.2,
         "line": {
          "width": 1
         },
         "marker": {
          "size": 2
         },
         "name": " Dune",
         "type": "box",
         "whiskerwidth": 0.2,
         "y": [
          24,
          23.69,
          14.69,
          12,
          11.9,
          11.5,
          10.96,
          9.8,
          8.5,
          8.49,
          8,
          7.35,
          7,
          6.4,
          5.7,
          null,
          null,
          null,
          null,
          null,
          null,
          null
         ]
        },
        {
         "boxpoints": "all",
         "jitter": 0.2,
         "line": {
          "width": 1
         },
         "marker": {
          "size": 2
         },
         "name": " Esker",
         "type": "box",
         "whiskerwidth": 0.2,
         "y": [
          145,
          17,
          13.5,
          10.25,
          10,
          10,
          9.1,
          8.8,
          8,
          6.68,
          6.5,
          6,
          null,
          null,
          null,
          null,
          null,
          null,
          null
         ]
        },
        {
         "boxpoints": "all",
         "jitter": 0.2,
         "line": {
          "width": 1
         },
         "marker": {
          "size": 2
         },
         "name": " Mesa",
         "type": "box",
         "whiskerwidth": 0.2,
         "y": [
          29.91,
          20,
          18,
          9.88,
          9.5,
          9.4,
          7.7,
          7.5,
          6.9,
          null,
          null,
          null,
          null,
          null,
          null
         ]
        },
        {
         "boxpoints": "all",
         "jitter": 0.2,
         "line": {
          "width": 1
         },
         "marker": {
          "size": 2
         },
         "name": " Archipelago",
         "type": "box",
         "whiskerwidth": 0.2,
         "y": [
          24,
          19,
          15.9,
          14.9,
          12,
          11.45,
          9.8,
          9.8,
          9.69,
          9.5,
          8.7654,
          8,
          8,
          6.68,
          6.49,
          6.29,
          5.9,
          5.8,
          5.75,
          null,
          null
         ]
        },
        {
         "boxpoints": "all",
         "jitter": 0.2,
         "line": {
          "width": 1
         },
         "marker": {
          "size": 2
         },
         "name": " Cave",
         "type": "box",
         "whiskerwidth": 0.2,
         "y": [
          27,
          25,
          25,
          11,
          9,
          9,
          7.9,
          7.66,
          7.5,
          5.99,
          null,
          null,
          null,
          null,
          null
         ]
        },
        {
         "boxpoints": "all",
         "jitter": 0.2,
         "line": {
          "width": 1
         },
         "marker": {
          "size": 2
         },
         "name": " Ridge",
         "type": "box",
         "whiskerwidth": 0.2,
         "y": [
          24,
          22,
          15.9,
          15,
          13.3,
          12.69,
          7.1499,
          7.1,
          6.89,
          6.8,
          6.75,
          6.7,
          6.4,
          6.19,
          6,
          null,
          null,
          null
         ]
        }
       ],
       "layout": {
        "template": {
         "data": {
          "bar": [
           {
            "error_x": {
             "color": "#2a3f5f"
            },
            "error_y": {
             "color": "#2a3f5f"
            },
            "marker": {
             "line": {
              "color": "#E5ECF6",
              "width": 0.5
             },
             "pattern": {
              "fillmode": "overlay",
              "size": 10,
              "solidity": 0.2
             }
            },
            "type": "bar"
           }
          ],
          "barpolar": [
           {
            "marker": {
             "line": {
              "color": "#E5ECF6",
              "width": 0.5
             },
             "pattern": {
              "fillmode": "overlay",
              "size": 10,
              "solidity": 0.2
             }
            },
            "type": "barpolar"
           }
          ],
          "carpet": [
           {
            "aaxis": {
             "endlinecolor": "#2a3f5f",
             "gridcolor": "white",
             "linecolor": "white",
             "minorgridcolor": "white",
             "startlinecolor": "#2a3f5f"
            },
            "baxis": {
             "endlinecolor": "#2a3f5f",
             "gridcolor": "white",
             "linecolor": "white",
             "minorgridcolor": "white",
             "startlinecolor": "#2a3f5f"
            },
            "type": "carpet"
           }
          ],
          "choropleth": [
           {
            "colorbar": {
             "outlinewidth": 0,
             "ticks": ""
            },
            "type": "choropleth"
           }
          ],
          "contour": [
           {
            "colorbar": {
             "outlinewidth": 0,
             "ticks": ""
            },
            "colorscale": [
             [
              0,
              "#0d0887"
             ],
             [
              0.1111111111111111,
              "#46039f"
             ],
             [
              0.2222222222222222,
              "#7201a8"
             ],
             [
              0.3333333333333333,
              "#9c179e"
             ],
             [
              0.4444444444444444,
              "#bd3786"
             ],
             [
              0.5555555555555556,
              "#d8576b"
             ],
             [
              0.6666666666666666,
              "#ed7953"
             ],
             [
              0.7777777777777778,
              "#fb9f3a"
             ],
             [
              0.8888888888888888,
              "#fdca26"
             ],
             [
              1,
              "#f0f921"
             ]
            ],
            "type": "contour"
           }
          ],
          "contourcarpet": [
           {
            "colorbar": {
             "outlinewidth": 0,
             "ticks": ""
            },
            "type": "contourcarpet"
           }
          ],
          "heatmap": [
           {
            "colorbar": {
             "outlinewidth": 0,
             "ticks": ""
            },
            "colorscale": [
             [
              0,
              "#0d0887"
             ],
             [
              0.1111111111111111,
              "#46039f"
             ],
             [
              0.2222222222222222,
              "#7201a8"
             ],
             [
              0.3333333333333333,
              "#9c179e"
             ],
             [
              0.4444444444444444,
              "#bd3786"
             ],
             [
              0.5555555555555556,
              "#d8576b"
             ],
             [
              0.6666666666666666,
              "#ed7953"
             ],
             [
              0.7777777777777778,
              "#fb9f3a"
             ],
             [
              0.8888888888888888,
              "#fdca26"
             ],
             [
              1,
              "#f0f921"
             ]
            ],
            "type": "heatmap"
           }
          ],
          "heatmapgl": [
           {
            "colorbar": {
             "outlinewidth": 0,
             "ticks": ""
            },
            "colorscale": [
             [
              0,
              "#0d0887"
             ],
             [
              0.1111111111111111,
              "#46039f"
             ],
             [
              0.2222222222222222,
              "#7201a8"
             ],
             [
              0.3333333333333333,
              "#9c179e"
             ],
             [
              0.4444444444444444,
              "#bd3786"
             ],
             [
              0.5555555555555556,
              "#d8576b"
             ],
             [
              0.6666666666666666,
              "#ed7953"
             ],
             [
              0.7777777777777778,
              "#fb9f3a"
             ],
             [
              0.8888888888888888,
              "#fdca26"
             ],
             [
              1,
              "#f0f921"
             ]
            ],
            "type": "heatmapgl"
           }
          ],
          "histogram": [
           {
            "marker": {
             "pattern": {
              "fillmode": "overlay",
              "size": 10,
              "solidity": 0.2
             }
            },
            "type": "histogram"
           }
          ],
          "histogram2d": [
           {
            "colorbar": {
             "outlinewidth": 0,
             "ticks": ""
            },
            "colorscale": [
             [
              0,
              "#0d0887"
             ],
             [
              0.1111111111111111,
              "#46039f"
             ],
             [
              0.2222222222222222,
              "#7201a8"
             ],
             [
              0.3333333333333333,
              "#9c179e"
             ],
             [
              0.4444444444444444,
              "#bd3786"
             ],
             [
              0.5555555555555556,
              "#d8576b"
             ],
             [
              0.6666666666666666,
              "#ed7953"
             ],
             [
              0.7777777777777778,
              "#fb9f3a"
             ],
             [
              0.8888888888888888,
              "#fdca26"
             ],
             [
              1,
              "#f0f921"
             ]
            ],
            "type": "histogram2d"
           }
          ],
          "histogram2dcontour": [
           {
            "colorbar": {
             "outlinewidth": 0,
             "ticks": ""
            },
            "colorscale": [
             [
              0,
              "#0d0887"
             ],
             [
              0.1111111111111111,
              "#46039f"
             ],
             [
              0.2222222222222222,
              "#7201a8"
             ],
             [
              0.3333333333333333,
              "#9c179e"
             ],
             [
              0.4444444444444444,
              "#bd3786"
             ],
             [
              0.5555555555555556,
              "#d8576b"
             ],
             [
              0.6666666666666666,
              "#ed7953"
             ],
             [
              0.7777777777777778,
              "#fb9f3a"
             ],
             [
              0.8888888888888888,
              "#fdca26"
             ],
             [
              1,
              "#f0f921"
             ]
            ],
            "type": "histogram2dcontour"
           }
          ],
          "mesh3d": [
           {
            "colorbar": {
             "outlinewidth": 0,
             "ticks": ""
            },
            "type": "mesh3d"
           }
          ],
          "parcoords": [
           {
            "line": {
             "colorbar": {
              "outlinewidth": 0,
              "ticks": ""
             }
            },
            "type": "parcoords"
           }
          ],
          "pie": [
           {
            "automargin": true,
            "type": "pie"
           }
          ],
          "scatter": [
           {
            "marker": {
             "colorbar": {
              "outlinewidth": 0,
              "ticks": ""
             }
            },
            "type": "scatter"
           }
          ],
          "scatter3d": [
           {
            "line": {
             "colorbar": {
              "outlinewidth": 0,
              "ticks": ""
             }
            },
            "marker": {
             "colorbar": {
              "outlinewidth": 0,
              "ticks": ""
             }
            },
            "type": "scatter3d"
           }
          ],
          "scattercarpet": [
           {
            "marker": {
             "colorbar": {
              "outlinewidth": 0,
              "ticks": ""
             }
            },
            "type": "scattercarpet"
           }
          ],
          "scattergeo": [
           {
            "marker": {
             "colorbar": {
              "outlinewidth": 0,
              "ticks": ""
             }
            },
            "type": "scattergeo"
           }
          ],
          "scattergl": [
           {
            "marker": {
             "colorbar": {
              "outlinewidth": 0,
              "ticks": ""
             }
            },
            "type": "scattergl"
           }
          ],
          "scattermapbox": [
           {
            "marker": {
             "colorbar": {
              "outlinewidth": 0,
              "ticks": ""
             }
            },
            "type": "scattermapbox"
           }
          ],
          "scatterpolar": [
           {
            "marker": {
             "colorbar": {
              "outlinewidth": 0,
              "ticks": ""
             }
            },
            "type": "scatterpolar"
           }
          ],
          "scatterpolargl": [
           {
            "marker": {
             "colorbar": {
              "outlinewidth": 0,
              "ticks": ""
             }
            },
            "type": "scatterpolargl"
           }
          ],
          "scatterternary": [
           {
            "marker": {
             "colorbar": {
              "outlinewidth": 0,
              "ticks": ""
             }
            },
            "type": "scatterternary"
           }
          ],
          "surface": [
           {
            "colorbar": {
             "outlinewidth": 0,
             "ticks": ""
            },
            "colorscale": [
             [
              0,
              "#0d0887"
             ],
             [
              0.1111111111111111,
              "#46039f"
             ],
             [
              0.2222222222222222,
              "#7201a8"
             ],
             [
              0.3333333333333333,
              "#9c179e"
             ],
             [
              0.4444444444444444,
              "#bd3786"
             ],
             [
              0.5555555555555556,
              "#d8576b"
             ],
             [
              0.6666666666666666,
              "#ed7953"
             ],
             [
              0.7777777777777778,
              "#fb9f3a"
             ],
             [
              0.8888888888888888,
              "#fdca26"
             ],
             [
              1,
              "#f0f921"
             ]
            ],
            "type": "surface"
           }
          ],
          "table": [
           {
            "cells": {
             "fill": {
              "color": "#EBF0F8"
             },
             "line": {
              "color": "white"
             }
            },
            "header": {
             "fill": {
              "color": "#C8D4E3"
             },
             "line": {
              "color": "white"
             }
            },
            "type": "table"
           }
          ]
         },
         "layout": {
          "annotationdefaults": {
           "arrowcolor": "#2a3f5f",
           "arrowhead": 0,
           "arrowwidth": 1
          },
          "autotypenumbers": "strict",
          "coloraxis": {
           "colorbar": {
            "outlinewidth": 0,
            "ticks": ""
           }
          },
          "colorscale": {
           "diverging": [
            [
             0,
             "#8e0152"
            ],
            [
             0.1,
             "#c51b7d"
            ],
            [
             0.2,
             "#de77ae"
            ],
            [
             0.3,
             "#f1b6da"
            ],
            [
             0.4,
             "#fde0ef"
            ],
            [
             0.5,
             "#f7f7f7"
            ],
            [
             0.6,
             "#e6f5d0"
            ],
            [
             0.7,
             "#b8e186"
            ],
            [
             0.8,
             "#7fbc41"
            ],
            [
             0.9,
             "#4d9221"
            ],
            [
             1,
             "#276419"
            ]
           ],
           "sequential": [
            [
             0,
             "#0d0887"
            ],
            [
             0.1111111111111111,
             "#46039f"
            ],
            [
             0.2222222222222222,
             "#7201a8"
            ],
            [
             0.3333333333333333,
             "#9c179e"
            ],
            [
             0.4444444444444444,
             "#bd3786"
            ],
            [
             0.5555555555555556,
             "#d8576b"
            ],
            [
             0.6666666666666666,
             "#ed7953"
            ],
            [
             0.7777777777777778,
             "#fb9f3a"
            ],
            [
             0.8888888888888888,
             "#fdca26"
            ],
            [
             1,
             "#f0f921"
            ]
           ],
           "sequentialminus": [
            [
             0,
             "#0d0887"
            ],
            [
             0.1111111111111111,
             "#46039f"
            ],
            [
             0.2222222222222222,
             "#7201a8"
            ],
            [
             0.3333333333333333,
             "#9c179e"
            ],
            [
             0.4444444444444444,
             "#bd3786"
            ],
            [
             0.5555555555555556,
             "#d8576b"
            ],
            [
             0.6666666666666666,
             "#ed7953"
            ],
            [
             0.7777777777777778,
             "#fb9f3a"
            ],
            [
             0.8888888888888888,
             "#fdca26"
            ],
            [
             1,
             "#f0f921"
            ]
           ]
          },
          "colorway": [
           "#636efa",
           "#EF553B",
           "#00cc96",
           "#ab63fa",
           "#FFA15A",
           "#19d3f3",
           "#FF6692",
           "#B6E880",
           "#FF97FF",
           "#FECB52"
          ],
          "font": {
           "color": "#2a3f5f"
          },
          "geo": {
           "bgcolor": "white",
           "lakecolor": "white",
           "landcolor": "#E5ECF6",
           "showlakes": true,
           "showland": true,
           "subunitcolor": "white"
          },
          "hoverlabel": {
           "align": "left"
          },
          "hovermode": "closest",
          "mapbox": {
           "style": "light"
          },
          "paper_bgcolor": "white",
          "plot_bgcolor": "#E5ECF6",
          "polar": {
           "angularaxis": {
            "gridcolor": "white",
            "linecolor": "white",
            "ticks": ""
           },
           "bgcolor": "#E5ECF6",
           "radialaxis": {
            "gridcolor": "white",
            "linecolor": "white",
            "ticks": ""
           }
          },
          "scene": {
           "xaxis": {
            "backgroundcolor": "#E5ECF6",
            "gridcolor": "white",
            "gridwidth": 2,
            "linecolor": "white",
            "showbackground": true,
            "ticks": "",
            "zerolinecolor": "white"
           },
           "yaxis": {
            "backgroundcolor": "#E5ECF6",
            "gridcolor": "white",
            "gridwidth": 2,
            "linecolor": "white",
            "showbackground": true,
            "ticks": "",
            "zerolinecolor": "white"
           },
           "zaxis": {
            "backgroundcolor": "#E5ECF6",
            "gridcolor": "white",
            "gridwidth": 2,
            "linecolor": "white",
            "showbackground": true,
            "ticks": "",
            "zerolinecolor": "white"
           }
          },
          "shapedefaults": {
           "line": {
            "color": "#2a3f5f"
           }
          },
          "ternary": {
           "aaxis": {
            "gridcolor": "white",
            "linecolor": "white",
            "ticks": ""
           },
           "baxis": {
            "gridcolor": "white",
            "linecolor": "white",
            "ticks": ""
           },
           "bgcolor": "#E5ECF6",
           "caxis": {
            "gridcolor": "white",
            "linecolor": "white",
            "ticks": ""
           }
          },
          "title": {
           "x": 0.05
          },
          "xaxis": {
           "automargin": true,
           "gridcolor": "white",
           "linecolor": "white",
           "ticks": "",
           "title": {
            "standoff": 15
           },
           "zerolinecolor": "white",
           "zerolinewidth": 2
          },
          "yaxis": {
           "automargin": true,
           "gridcolor": "white",
           "linecolor": "white",
           "ticks": "",
           "title": {
            "standoff": 15
           },
           "zerolinecolor": "white",
           "zerolinewidth": 2
          }
         }
        },
        "title": {
         "text": "Palette"
        }
       }
      }
     },
     "metadata": {}
    },
    {
     "output_type": "display_data",
     "data": {
      "application/vnd.plotly.v1+json": {
       "config": {
        "plotlyServerURL": "https://plot.ly"
       },
       "data": [
        {
         "boxpoints": "all",
         "jitter": 0.2,
         "line": {
          "width": 1
         },
         "marker": {
          "size": 2
         },
         "name": " Variable",
         "type": "box",
         "whiskerwidth": 0.2,
         "y": [
          48.888,
          48.88,
          39,
          35,
          32,
          30,
          30,
          28.88,
          26.9,
          26,
          25,
          25,
          25,
          24,
          24,
          24,
          24,
          24,
          24,
          23.888,
          23.337,
          23,
          22.5,
          22.22,
          22,
          22,
          22,
          21,
          20.69,
          20,
          20,
          19.969,
          19.69,
          19,
          18.95,
          18.95,
          18.75,
          18.5,
          18.5,
          18.1337,
          18,
          18,
          17.95,
          17.5,
          17,
          17,
          16,
          16,
          15.59,
          15,
          15,
          15,
          15,
          15,
          14.99,
          14.99,
          14,
          13.33,
          13,
          13,
          13,
          13,
          12.65,
          12.29,
          12,
          12,
          12,
          11.8,
          11.77,
          11.75,
          11.4,
          11.11,
          11.11,
          11.11,
          11.11,
          11,
          11,
          11,
          11,
          11,
          11,
          10.98,
          10.88,
          10.5,
          10.49,
          10.25,
          10,
          10,
          10,
          9.99,
          9.99,
          9.9,
          9.8,
          9.8,
          9.69,
          9.5,
          9.25,
          9,
          9,
          8.88,
          8.85,
          8.8,
          8.7654,
          8.5,
          8.49,
          8.1,
          8,
          8,
          8,
          7.99,
          7.9,
          7.8,
          7.5,
          7.5,
          7.5,
          7.49,
          7.49,
          7.48,
          7.25,
          7.25,
          7.22,
          7.1499,
          7.1,
          7.1,
          7,
          7,
          6.99,
          6.8,
          6.777,
          6.75,
          6.68,
          6.68,
          6.6,
          6.6,
          6.5,
          6.5,
          6.5,
          6.49,
          6.4,
          6.3,
          5.99,
          5.77,
          5.75,
          5.6,
          5.5,
          0.01,
          null,
          null,
          null,
          null,
          null,
          null,
          null,
          null,
          null,
          null,
          null,
          null,
          null,
          null,
          null,
          null,
          null,
          null,
          null,
          null,
          null,
          null,
          null,
          null,
          null,
          null,
          null,
          null,
          null,
          null,
          null,
          null,
          null,
          null,
          null,
          null,
          null,
          null,
          null,
          null,
          null,
          null,
          null,
          null,
          null,
          null
         ]
        },
        {
         "boxpoints": "all",
         "jitter": 0.2,
         "line": {
          "width": 1
         },
         "marker": {
          "size": 2
         },
         "name": " Uniform",
         "type": "box",
         "whiskerwidth": 0.2,
         "y": [
          200,
          200,
          175,
          145,
          80,
          66.666,
          60,
          60,
          50,
          50,
          48.57,
          45,
          42.69,
          40,
          35,
          35,
          35,
          35,
          33,
          32,
          30,
          30,
          30,
          30,
          29.91,
          29.8,
          28.94,
          28,
          28,
          27.77,
          27.5,
          27.5,
          27,
          26.5,
          26,
          25.4,
          25,
          25,
          25,
          25,
          24.9999,
          24.69,
          24.5,
          24.069,
          24,
          24,
          24,
          23.99,
          23.69,
          23.69,
          23.5,
          23.5,
          23,
          23,
          23,
          23,
          22.99,
          22.99,
          22.5,
          22.5,
          22.22,
          22.22,
          22.2,
          22,
          22,
          22,
          22,
          22,
          22,
          22,
          21.99,
          21.99,
          21.99,
          21.9,
          21.5,
          21.5,
          21.5,
          21.5,
          21,
          21,
          21,
          21,
          20.9,
          20.75,
          20.69,
          20,
          20,
          20,
          20,
          20,
          20,
          20,
          20,
          20,
          20,
          20,
          20,
          19.99992336795338,
          19.99,
          19.99,
          19.99,
          19.5,
          19.5,
          19.5,
          19.3,
          19.2,
          19,
          19,
          18.9,
          18.88,
          18.88,
          18.5,
          18.5,
          18.5,
          18.5,
          18,
          18,
          18,
          18,
          18,
          18,
          18,
          18,
          18,
          18,
          18,
          18,
          18,
          17.99,
          17.98,
          17.9,
          17.5,
          17.5,
          17.5,
          17.43,
          17.167257721296323,
          17,
          17,
          17,
          16.99,
          16.942,
          16.69,
          16.5,
          16.5,
          16.5,
          16.5,
          16.25,
          16,
          16,
          15.99,
          15.9,
          15.9,
          15.9,
          15.9,
          15.9,
          15.89,
          15.8,
          15.5,
          15,
          15,
          15,
          15,
          15,
          15,
          15,
          15,
          15,
          15,
          15,
          15,
          15,
          15,
          15,
          15,
          15,
          14.9999,
          14.99,
          14.95,
          14.9,
          14.8869,
          14.88,
          14.6969,
          14.6969,
          14.69,
          14.6,
          14.5,
          14.5,
          14.216,
          14.2069,
          14,
          14,
          14,
          14,
          14,
          14,
          14,
          14,
          14,
          14,
          13.99,
          13.99,
          13.9,
          13.9,
          13.888,
          13.85,
          13.8,
          13.75,
          13.6969,
          13.69,
          13.69,
          13.5,
          13.5,
          13.5,
          13.5,
          13.5,
          13.49,
          13.3,
          13.2,
          13,
          13,
          13,
          13,
          13,
          12.99,
          12.95,
          12.95,
          12.94,
          12.888,
          12.88,
          12.8,
          12.8,
          12.8,
          12.75,
          12.69,
          12.69,
          12.69,
          12.5,
          12.5,
          12.5,
          12.5,
          12.5,
          12.5,
          12.5,
          12.45,
          12.43,
          12.4,
          12.4,
          12.4,
          12.35,
          12,
          12,
          12,
          12,
          12,
          12,
          12,
          12,
          12,
          12,
          12,
          12,
          12,
          12,
          12,
          12,
          12,
          12,
          12,
          12,
          11.99,
          11.99,
          11.99,
          11.99,
          11.99,
          11.99,
          11.99,
          11.98,
          11.98,
          11.96,
          11.95,
          11.95,
          11.9,
          11.9,
          11.9,
          11.88,
          11.88,
          11.85,
          11.82130112544606,
          11.8,
          11.75,
          11.75,
          11.5,
          11.5,
          11.5,
          11.5,
          11.5,
          11.5,
          11.5,
          11.5,
          11.45,
          11.3,
          11.25,
          11.1111,
          11.11,
          11.11,
          11,
          11,
          11,
          11,
          11,
          11,
          11,
          11,
          11,
          11,
          10.99,
          10.99,
          10.97,
          10.97,
          10.96,
          10.9,
          10.9,
          10.88,
          10.795243773951906,
          10.7,
          10.69,
          10.5,
          10.5,
          10.5,
          10.4,
          10.4,
          10,
          10,
          10,
          10,
          10,
          10,
          10,
          10,
          10,
          10,
          10,
          9.9999,
          9.999,
          9.99,
          9.99,
          9.99,
          9.98,
          9.9,
          9.9,
          9.9,
          9.9,
          9.9,
          9.9,
          9.888,
          9.88,
          9.88,
          9.8,
          9.8,
          9.8,
          9.8,
          9.8,
          9.8,
          9.8,
          9.7,
          9.69,
          9.69,
          9.69,
          9.6,
          9.5,
          9.5,
          9.5,
          9.5,
          9.5,
          9.5,
          9.4,
          9.3,
          9.1,
          9.1,
          9,
          9,
          9,
          9,
          9,
          9,
          9,
          8.99,
          8.99,
          8.99,
          8.98,
          8.98,
          8.89,
          8.88,
          8.88,
          8.88,
          8.85,
          8.8,
          8.8,
          8.8,
          8.8,
          8.79,
          8.79,
          8.75,
          8.75,
          8.75,
          8.7,
          8.69,
          8.6,
          8.6,
          8.6,
          8.5,
          8.5,
          8.5,
          8.5,
          8.5,
          8.5,
          8.49,
          8.469,
          8.44,
          8.432,
          8.4,
          8.4,
          8.35,
          8.25,
          8.2,
          8.2,
          8.2,
          8.1,
          8,
          8,
          8,
          8,
          8,
          8,
          8,
          8,
          8,
          8,
          8,
          8,
          8,
          8,
          8,
          8,
          7.9999,
          7.99,
          7.99,
          7.99,
          7.99,
          7.99,
          7.99,
          7.98,
          7.9,
          7.9,
          7.9,
          7.9,
          7.85,
          7.85,
          7.8,
          7.8,
          7.7777,
          7.77,
          7.77,
          7.75,
          7.75,
          7.7,
          7.7,
          7.7,
          7.7,
          7.7,
          7.66,
          7.536953642384106,
          7.5,
          7.5,
          7.5,
          7.5,
          7.5,
          7.5,
          7.5,
          7.5,
          7.5,
          7.5,
          7.5,
          7.5,
          7.5,
          7.4999,
          7.49,
          7.49,
          7.49,
          7.49,
          7.49,
          7.4888,
          7.47,
          7.45,
          7.45,
          7.44,
          7.4,
          7.4,
          7.4,
          7.39,
          7.35,
          7.35,
          7.3,
          7.3,
          7.3,
          7.25,
          7.25,
          7.25,
          7.25,
          7.24,
          7.2,
          7.2,
          7.2,
          7.2,
          7.123,
          7.1111,
          7.1,
          7.1,
          7.1,
          7.1,
          7.095,
          7.069,
          7,
          7,
          7,
          7,
          7,
          6.99,
          6.99,
          6.99,
          6.99,
          6.99,
          6.99,
          6.99,
          6.99,
          6.98,
          6.97,
          6.969,
          6.95,
          6.9,
          6.9,
          6.9,
          6.9,
          6.9,
          6.9,
          6.9,
          6.89,
          6.89,
          6.89,
          6.88,
          6.88,
          6.85,
          6.8,
          6.8,
          6.79,
          6.78,
          6.75,
          6.75,
          6.72,
          6.7,
          6.69,
          6.66,
          6.66,
          6.64,
          6.6,
          6.5,
          6.5,
          6.5,
          6.5,
          6.5,
          6.5,
          6.49,
          6.49,
          6.49,
          6.477,
          6.469,
          6.4,
          6.4,
          6.4,
          6.4,
          6.4,
          6.4,
          6.39,
          6.39,
          6.35,
          6.33,
          6.3,
          6.29,
          6.29,
          6.29,
          6.25,
          6.23,
          6.21,
          6.19,
          6.1,
          6.1,
          6,
          6,
          6,
          6,
          6,
          6,
          5.99,
          5.99,
          5.97,
          5.97,
          5.95,
          5.93,
          5.9,
          5.9,
          5.9,
          5.8888,
          5.869,
          5.85,
          5.85,
          5.85,
          5.8469,
          5.8,
          5.8,
          5.8,
          5.8,
          5.8,
          5.8,
          5.75,
          5.75,
          5.7,
          5.7,
          5.7,
          5.69,
          5.6,
          5.6,
          5.555,
          5.55,
          5.5,
          null,
          null,
          null,
          null,
          null,
          null,
          null,
          null,
          null,
          null,
          null,
          null,
          null,
          null,
          null,
          null,
          null,
          null,
          null,
          null,
          null,
          null,
          null,
          null,
          null,
          null,
          null,
          null,
          null,
          null,
          null,
          null,
          null,
          null,
          null,
          null,
          null,
          null,
          null,
          null,
          null,
          null,
          null,
          null,
          null,
          null,
          null,
          null,
          null,
          null,
          null,
          null,
          null,
          null,
          null,
          null,
          null,
          null,
          null,
          null,
          null,
          null,
          null,
          null,
          null,
          null,
          null,
          null,
          null,
          null,
          null,
          null,
          null,
          null,
          null,
          null,
          null,
          null,
          null,
          null,
          null,
          null,
          null,
          null,
          null,
          null,
          null,
          null,
          null,
          null,
          null,
          null,
          null,
          null,
          null,
          null,
          null,
          null,
          null,
          null,
          null,
          null,
          null,
          null,
          null,
          null,
          null,
          null,
          null,
          null,
          null,
          null,
          null,
          null,
          null,
          null,
          null,
          null,
          null,
          null,
          null,
          null,
          null,
          null,
          null,
          null,
          null,
          null,
          null,
          null,
          null,
          null,
          null,
          null,
          null,
          null,
          null,
          null,
          null,
          null,
          null,
          null,
          null,
          null,
          null,
          null,
          null,
          null,
          null,
          null,
          null,
          null,
          null,
          null,
          null,
          null,
          null,
          null,
          null,
          null,
          null,
          null,
          null,
          null,
          null,
          null,
          null,
          null,
          null,
          null,
          null,
          null,
          null,
          null
         ]
        }
       ],
       "layout": {
        "template": {
         "data": {
          "bar": [
           {
            "error_x": {
             "color": "#2a3f5f"
            },
            "error_y": {
             "color": "#2a3f5f"
            },
            "marker": {
             "line": {
              "color": "#E5ECF6",
              "width": 0.5
             },
             "pattern": {
              "fillmode": "overlay",
              "size": 10,
              "solidity": 0.2
             }
            },
            "type": "bar"
           }
          ],
          "barpolar": [
           {
            "marker": {
             "line": {
              "color": "#E5ECF6",
              "width": 0.5
             },
             "pattern": {
              "fillmode": "overlay",
              "size": 10,
              "solidity": 0.2
             }
            },
            "type": "barpolar"
           }
          ],
          "carpet": [
           {
            "aaxis": {
             "endlinecolor": "#2a3f5f",
             "gridcolor": "white",
             "linecolor": "white",
             "minorgridcolor": "white",
             "startlinecolor": "#2a3f5f"
            },
            "baxis": {
             "endlinecolor": "#2a3f5f",
             "gridcolor": "white",
             "linecolor": "white",
             "minorgridcolor": "white",
             "startlinecolor": "#2a3f5f"
            },
            "type": "carpet"
           }
          ],
          "choropleth": [
           {
            "colorbar": {
             "outlinewidth": 0,
             "ticks": ""
            },
            "type": "choropleth"
           }
          ],
          "contour": [
           {
            "colorbar": {
             "outlinewidth": 0,
             "ticks": ""
            },
            "colorscale": [
             [
              0,
              "#0d0887"
             ],
             [
              0.1111111111111111,
              "#46039f"
             ],
             [
              0.2222222222222222,
              "#7201a8"
             ],
             [
              0.3333333333333333,
              "#9c179e"
             ],
             [
              0.4444444444444444,
              "#bd3786"
             ],
             [
              0.5555555555555556,
              "#d8576b"
             ],
             [
              0.6666666666666666,
              "#ed7953"
             ],
             [
              0.7777777777777778,
              "#fb9f3a"
             ],
             [
              0.8888888888888888,
              "#fdca26"
             ],
             [
              1,
              "#f0f921"
             ]
            ],
            "type": "contour"
           }
          ],
          "contourcarpet": [
           {
            "colorbar": {
             "outlinewidth": 0,
             "ticks": ""
            },
            "type": "contourcarpet"
           }
          ],
          "heatmap": [
           {
            "colorbar": {
             "outlinewidth": 0,
             "ticks": ""
            },
            "colorscale": [
             [
              0,
              "#0d0887"
             ],
             [
              0.1111111111111111,
              "#46039f"
             ],
             [
              0.2222222222222222,
              "#7201a8"
             ],
             [
              0.3333333333333333,
              "#9c179e"
             ],
             [
              0.4444444444444444,
              "#bd3786"
             ],
             [
              0.5555555555555556,
              "#d8576b"
             ],
             [
              0.6666666666666666,
              "#ed7953"
             ],
             [
              0.7777777777777778,
              "#fb9f3a"
             ],
             [
              0.8888888888888888,
              "#fdca26"
             ],
             [
              1,
              "#f0f921"
             ]
            ],
            "type": "heatmap"
           }
          ],
          "heatmapgl": [
           {
            "colorbar": {
             "outlinewidth": 0,
             "ticks": ""
            },
            "colorscale": [
             [
              0,
              "#0d0887"
             ],
             [
              0.1111111111111111,
              "#46039f"
             ],
             [
              0.2222222222222222,
              "#7201a8"
             ],
             [
              0.3333333333333333,
              "#9c179e"
             ],
             [
              0.4444444444444444,
              "#bd3786"
             ],
             [
              0.5555555555555556,
              "#d8576b"
             ],
             [
              0.6666666666666666,
              "#ed7953"
             ],
             [
              0.7777777777777778,
              "#fb9f3a"
             ],
             [
              0.8888888888888888,
              "#fdca26"
             ],
             [
              1,
              "#f0f921"
             ]
            ],
            "type": "heatmapgl"
           }
          ],
          "histogram": [
           {
            "marker": {
             "pattern": {
              "fillmode": "overlay",
              "size": 10,
              "solidity": 0.2
             }
            },
            "type": "histogram"
           }
          ],
          "histogram2d": [
           {
            "colorbar": {
             "outlinewidth": 0,
             "ticks": ""
            },
            "colorscale": [
             [
              0,
              "#0d0887"
             ],
             [
              0.1111111111111111,
              "#46039f"
             ],
             [
              0.2222222222222222,
              "#7201a8"
             ],
             [
              0.3333333333333333,
              "#9c179e"
             ],
             [
              0.4444444444444444,
              "#bd3786"
             ],
             [
              0.5555555555555556,
              "#d8576b"
             ],
             [
              0.6666666666666666,
              "#ed7953"
             ],
             [
              0.7777777777777778,
              "#fb9f3a"
             ],
             [
              0.8888888888888888,
              "#fdca26"
             ],
             [
              1,
              "#f0f921"
             ]
            ],
            "type": "histogram2d"
           }
          ],
          "histogram2dcontour": [
           {
            "colorbar": {
             "outlinewidth": 0,
             "ticks": ""
            },
            "colorscale": [
             [
              0,
              "#0d0887"
             ],
             [
              0.1111111111111111,
              "#46039f"
             ],
             [
              0.2222222222222222,
              "#7201a8"
             ],
             [
              0.3333333333333333,
              "#9c179e"
             ],
             [
              0.4444444444444444,
              "#bd3786"
             ],
             [
              0.5555555555555556,
              "#d8576b"
             ],
             [
              0.6666666666666666,
              "#ed7953"
             ],
             [
              0.7777777777777778,
              "#fb9f3a"
             ],
             [
              0.8888888888888888,
              "#fdca26"
             ],
             [
              1,
              "#f0f921"
             ]
            ],
            "type": "histogram2dcontour"
           }
          ],
          "mesh3d": [
           {
            "colorbar": {
             "outlinewidth": 0,
             "ticks": ""
            },
            "type": "mesh3d"
           }
          ],
          "parcoords": [
           {
            "line": {
             "colorbar": {
              "outlinewidth": 0,
              "ticks": ""
             }
            },
            "type": "parcoords"
           }
          ],
          "pie": [
           {
            "automargin": true,
            "type": "pie"
           }
          ],
          "scatter": [
           {
            "marker": {
             "colorbar": {
              "outlinewidth": 0,
              "ticks": ""
             }
            },
            "type": "scatter"
           }
          ],
          "scatter3d": [
           {
            "line": {
             "colorbar": {
              "outlinewidth": 0,
              "ticks": ""
             }
            },
            "marker": {
             "colorbar": {
              "outlinewidth": 0,
              "ticks": ""
             }
            },
            "type": "scatter3d"
           }
          ],
          "scattercarpet": [
           {
            "marker": {
             "colorbar": {
              "outlinewidth": 0,
              "ticks": ""
             }
            },
            "type": "scattercarpet"
           }
          ],
          "scattergeo": [
           {
            "marker": {
             "colorbar": {
              "outlinewidth": 0,
              "ticks": ""
             }
            },
            "type": "scattergeo"
           }
          ],
          "scattergl": [
           {
            "marker": {
             "colorbar": {
              "outlinewidth": 0,
              "ticks": ""
             }
            },
            "type": "scattergl"
           }
          ],
          "scattermapbox": [
           {
            "marker": {
             "colorbar": {
              "outlinewidth": 0,
              "ticks": ""
             }
            },
            "type": "scattermapbox"
           }
          ],
          "scatterpolar": [
           {
            "marker": {
             "colorbar": {
              "outlinewidth": 0,
              "ticks": ""
             }
            },
            "type": "scatterpolar"
           }
          ],
          "scatterpolargl": [
           {
            "marker": {
             "colorbar": {
              "outlinewidth": 0,
              "ticks": ""
             }
            },
            "type": "scatterpolargl"
           }
          ],
          "scatterternary": [
           {
            "marker": {
             "colorbar": {
              "outlinewidth": 0,
              "ticks": ""
             }
            },
            "type": "scatterternary"
           }
          ],
          "surface": [
           {
            "colorbar": {
             "outlinewidth": 0,
             "ticks": ""
            },
            "colorscale": [
             [
              0,
              "#0d0887"
             ],
             [
              0.1111111111111111,
              "#46039f"
             ],
             [
              0.2222222222222222,
              "#7201a8"
             ],
             [
              0.3333333333333333,
              "#9c179e"
             ],
             [
              0.4444444444444444,
              "#bd3786"
             ],
             [
              0.5555555555555556,
              "#d8576b"
             ],
             [
              0.6666666666666666,
              "#ed7953"
             ],
             [
              0.7777777777777778,
              "#fb9f3a"
             ],
             [
              0.8888888888888888,
              "#fdca26"
             ],
             [
              1,
              "#f0f921"
             ]
            ],
            "type": "surface"
           }
          ],
          "table": [
           {
            "cells": {
             "fill": {
              "color": "#EBF0F8"
             },
             "line": {
              "color": "white"
             }
            },
            "header": {
             "fill": {
              "color": "#C8D4E3"
             },
             "line": {
              "color": "white"
             }
            },
            "type": "table"
           }
          ]
         },
         "layout": {
          "annotationdefaults": {
           "arrowcolor": "#2a3f5f",
           "arrowhead": 0,
           "arrowwidth": 1
          },
          "autotypenumbers": "strict",
          "coloraxis": {
           "colorbar": {
            "outlinewidth": 0,
            "ticks": ""
           }
          },
          "colorscale": {
           "diverging": [
            [
             0,
             "#8e0152"
            ],
            [
             0.1,
             "#c51b7d"
            ],
            [
             0.2,
             "#de77ae"
            ],
            [
             0.3,
             "#f1b6da"
            ],
            [
             0.4,
             "#fde0ef"
            ],
            [
             0.5,
             "#f7f7f7"
            ],
            [
             0.6,
             "#e6f5d0"
            ],
            [
             0.7,
             "#b8e186"
            ],
            [
             0.8,
             "#7fbc41"
            ],
            [
             0.9,
             "#4d9221"
            ],
            [
             1,
             "#276419"
            ]
           ],
           "sequential": [
            [
             0,
             "#0d0887"
            ],
            [
             0.1111111111111111,
             "#46039f"
            ],
            [
             0.2222222222222222,
             "#7201a8"
            ],
            [
             0.3333333333333333,
             "#9c179e"
            ],
            [
             0.4444444444444444,
             "#bd3786"
            ],
            [
             0.5555555555555556,
             "#d8576b"
            ],
            [
             0.6666666666666666,
             "#ed7953"
            ],
            [
             0.7777777777777778,
             "#fb9f3a"
            ],
            [
             0.8888888888888888,
             "#fdca26"
            ],
            [
             1,
             "#f0f921"
            ]
           ],
           "sequentialminus": [
            [
             0,
             "#0d0887"
            ],
            [
             0.1111111111111111,
             "#46039f"
            ],
            [
             0.2222222222222222,
             "#7201a8"
            ],
            [
             0.3333333333333333,
             "#9c179e"
            ],
            [
             0.4444444444444444,
             "#bd3786"
            ],
            [
             0.5555555555555556,
             "#d8576b"
            ],
            [
             0.6666666666666666,
             "#ed7953"
            ],
            [
             0.7777777777777778,
             "#fb9f3a"
            ],
            [
             0.8888888888888888,
             "#fdca26"
            ],
            [
             1,
             "#f0f921"
            ]
           ]
          },
          "colorway": [
           "#636efa",
           "#EF553B",
           "#00cc96",
           "#ab63fa",
           "#FFA15A",
           "#19d3f3",
           "#FF6692",
           "#B6E880",
           "#FF97FF",
           "#FECB52"
          ],
          "font": {
           "color": "#2a3f5f"
          },
          "geo": {
           "bgcolor": "white",
           "lakecolor": "white",
           "landcolor": "#E5ECF6",
           "showlakes": true,
           "showland": true,
           "subunitcolor": "white"
          },
          "hoverlabel": {
           "align": "left"
          },
          "hovermode": "closest",
          "mapbox": {
           "style": "light"
          },
          "paper_bgcolor": "white",
          "plot_bgcolor": "#E5ECF6",
          "polar": {
           "angularaxis": {
            "gridcolor": "white",
            "linecolor": "white",
            "ticks": ""
           },
           "bgcolor": "#E5ECF6",
           "radialaxis": {
            "gridcolor": "white",
            "linecolor": "white",
            "ticks": ""
           }
          },
          "scene": {
           "xaxis": {
            "backgroundcolor": "#E5ECF6",
            "gridcolor": "white",
            "gridwidth": 2,
            "linecolor": "white",
            "showbackground": true,
            "ticks": "",
            "zerolinecolor": "white"
           },
           "yaxis": {
            "backgroundcolor": "#E5ECF6",
            "gridcolor": "white",
            "gridwidth": 2,
            "linecolor": "white",
            "showbackground": true,
            "ticks": "",
            "zerolinecolor": "white"
           },
           "zaxis": {
            "backgroundcolor": "#E5ECF6",
            "gridcolor": "white",
            "gridwidth": 2,
            "linecolor": "white",
            "showbackground": true,
            "ticks": "",
            "zerolinecolor": "white"
           }
          },
          "shapedefaults": {
           "line": {
            "color": "#2a3f5f"
           }
          },
          "ternary": {
           "aaxis": {
            "gridcolor": "white",
            "linecolor": "white",
            "ticks": ""
           },
           "baxis": {
            "gridcolor": "white",
            "linecolor": "white",
            "ticks": ""
           },
           "bgcolor": "#E5ECF6",
           "caxis": {
            "gridcolor": "white",
            "linecolor": "white",
            "ticks": ""
           }
          },
          "title": {
           "x": 0.05
          },
          "xaxis": {
           "automargin": true,
           "gridcolor": "white",
           "linecolor": "white",
           "ticks": "",
           "title": {
            "standoff": 15
           },
           "zerolinecolor": "white",
           "zerolinewidth": 2
          },
          "yaxis": {
           "automargin": true,
           "gridcolor": "white",
           "linecolor": "white",
           "ticks": "",
           "title": {
            "standoff": 15
           },
           "zerolinecolor": "white",
           "zerolinewidth": 2
          }
         }
        },
        "title": {
         "text": "Structure"
        }
       }
      }
     },
     "metadata": {}
    },
    {
     "output_type": "display_data",
     "data": {
      "application/vnd.plotly.v1+json": {
       "config": {
        "plotlyServerURL": "https://plot.ly"
       },
       "data": [
        {
         "boxpoints": "all",
         "jitter": 0.2,
         "line": {
          "width": 1
         },
         "marker": {
          "size": 2
         },
         "name": " Charcoal",
         "type": "box",
         "whiskerwidth": 0.2,
         "y": [
          200,
          175,
          80,
          60,
          60,
          35,
          11.82130112544606,
          10,
          9.8
         ]
        },
        {
         "boxpoints": "all",
         "jitter": 0.2,
         "line": {
          "width": 1
         },
         "marker": {
          "size": 2
         },
         "name": " Prime",
         "type": "box",
         "whiskerwidth": 0.2,
         "y": [
          200,
          145,
          50,
          11.99,
          8.2,
          null,
          null,
          null
         ]
        },
        {
         "boxpoints": "all",
         "jitter": 0.2,
         "line": {
          "width": 1
         },
         "marker": {
          "size": 2
         },
         "name": " Topographic",
         "type": "box",
         "whiskerwidth": 0.2,
         "y": [
          66.666,
          32,
          25,
          19.99,
          16,
          null,
          null,
          null
         ]
        },
        {
         "boxpoints": "all",
         "jitter": 0.2,
         "line": {
          "width": 1
         },
         "marker": {
          "size": 2
         },
         "name": " Newsprint",
         "type": "box",
         "whiskerwidth": 0.2,
         "y": [
          50,
          48.88,
          42.69,
          40,
          25,
          24,
          18.9,
          15,
          15,
          15,
          null,
          null
         ]
        },
        {
         "boxpoints": "all",
         "jitter": 0.2,
         "line": {
          "width": 1
         },
         "marker": {
          "size": 2
         },
         "name": " Invert",
         "type": "box",
         "whiskerwidth": 0.2,
         "y": [
          48.888,
          39,
          24,
          22,
          15.59,
          14.99,
          13,
          null,
          null,
          null,
          null,
          null,
          null
         ]
        },
        {
         "boxpoints": "all",
         "jitter": 0.2,
         "line": {
          "width": 1
         },
         "marker": {
          "size": 2
         },
         "name": " Watercolour",
         "type": "box",
         "whiskerwidth": 0.2,
         "y": [
          48.57,
          25,
          23.337,
          23,
          22,
          16.5,
          15.9,
          15,
          14,
          13.6969,
          11,
          9.5,
          8.6,
          6.9,
          6.64,
          5.6,
          5.6,
          null,
          null,
          null,
          null,
          null
         ]
        },
        {
         "boxpoints": "all",
         "jitter": 0.2,
         "line": {
          "width": 1
         },
         "marker": {
          "size": 2
         },
         "name": " Polarized",
         "type": "box",
         "whiskerwidth": 0.2,
         "y": [
          30,
          28.88,
          26.9,
          20,
          20,
          18.95,
          18.75,
          18.5,
          17.5,
          17,
          15,
          15,
          14,
          11.77,
          11.11,
          11,
          11,
          10.5,
          8.88,
          7.9,
          7.8,
          7.48,
          7.25,
          7.1,
          6.99,
          0.01,
          null,
          null,
          null,
          null,
          null,
          null
         ]
        },
        {
         "boxpoints": "all",
         "jitter": 0.2,
         "line": {
          "width": 1
         },
         "marker": {
          "size": 2
         },
         "name": " Gouache",
         "type": "box",
         "whiskerwidth": 0.2,
         "y": [
          28,
          26.5,
          24,
          23.69,
          23,
          23,
          22.99,
          22.99,
          22.5,
          22,
          22,
          21.5,
          21,
          20,
          19.99992336795338,
          18.88,
          18.5,
          18,
          17.5,
          17,
          16.5,
          16.5,
          16.5,
          15.9,
          15.89,
          15,
          15,
          15,
          15,
          15,
          15,
          14,
          13.5,
          13,
          12.95,
          12.95,
          12.69,
          12.5,
          12.5,
          12.43,
          12.4,
          12,
          11.99,
          11.99,
          11.5,
          11.5,
          11.11,
          11,
          11,
          10.97,
          10.5,
          10,
          10,
          10,
          10,
          9.999,
          9.8,
          9.69,
          9.5,
          9,
          8.8,
          8.7,
          8.5,
          8.25,
          8,
          7.99,
          7.98,
          7.9,
          7.7777,
          7.75,
          7.5,
          7.25,
          6.99,
          6.969,
          6.88,
          6.75,
          6.5,
          6.5,
          6.49,
          6.477,
          5.99,
          5.8,
          5.69,
          null,
          null,
          null,
          null,
          null,
          null,
          null,
          null,
          null,
          null,
          null,
          null,
          null,
          null,
          null,
          null
         ]
        },
        {
         "boxpoints": "all",
         "jitter": 0.2,
         "line": {
          "width": 1
         },
         "marker": {
          "size": 2
         },
         "name": " Gilded",
         "type": "box",
         "whiskerwidth": 0.2,
         "y": [
          29.8,
          27.77,
          27.5,
          21.99,
          21,
          20,
          15,
          14.99,
          14,
          13.49,
          11.99,
          11.1111,
          11,
          10.99,
          10.795243773951906,
          9.9,
          9.888,
          9.6,
          7.49,
          7.25,
          6.85,
          6.4,
          null,
          null,
          null,
          null,
          null
         ]
        },
        {
         "boxpoints": "all",
         "jitter": 0.2,
         "line": {
          "width": 1
         },
         "marker": {
          "size": 2
         },
         "name": " Screenprint",
         "type": "box",
         "whiskerwidth": 0.2,
         "y": [
          35,
          32,
          30,
          30,
          26,
          24.069,
          20,
          11.99,
          10.49,
          10,
          8.5,
          7.85,
          7.8,
          7.5,
          7.39,
          6.75,
          null,
          null,
          null,
          null,
          null
         ]
        },
        {
         "boxpoints": "all",
         "jitter": 0.2,
         "line": {
          "width": 1
         },
         "marker": {
          "size": 2
         },
         "name": " Paletted",
         "type": "box",
         "whiskerwidth": 0.2,
         "y": [
          45,
          35,
          35,
          30,
          30,
          29.91,
          28.94,
          28,
          27.5,
          27,
          25,
          25,
          25,
          24.9999,
          24,
          24,
          24,
          24,
          24,
          24,
          23.888,
          23.69,
          23.5,
          23.5,
          22.5,
          22.5,
          22.22,
          22.2,
          22,
          22,
          22,
          22,
          21.99,
          21.99,
          21.5,
          21.5,
          21,
          21,
          20.69,
          20,
          20,
          20,
          20,
          20,
          19.99,
          19.969,
          19.69,
          19.3,
          19,
          19,
          18.95,
          18.5,
          18.5,
          18.1337,
          18,
          18,
          18,
          18,
          18,
          18,
          18,
          18,
          18,
          17.99,
          17.98,
          17.95,
          17.5,
          17.167257721296323,
          17,
          17,
          17,
          16.99,
          16.69,
          16,
          16,
          15.99,
          15.9,
          15.9,
          15.9,
          15.8,
          15,
          15,
          15,
          15,
          15,
          15,
          15,
          14.99,
          14.95,
          14.9,
          14.69,
          14.5,
          14,
          14,
          14,
          14,
          14,
          14,
          13.9,
          13.8,
          13.75,
          13.5,
          13.5,
          13.5,
          13.33,
          13.3,
          13.2,
          13,
          13,
          13,
          13,
          12.888,
          12.8,
          12.8,
          12.8,
          12.69,
          12.69,
          12.65,
          12.5,
          12.5,
          12.45,
          12.4,
          12.4,
          12.35,
          12.29,
          12,
          12,
          12,
          12,
          12,
          12,
          12,
          12,
          12,
          12,
          12,
          12,
          11.99,
          11.98,
          11.96,
          11.9,
          11.9,
          11.88,
          11.8,
          11.8,
          11.75,
          11.75,
          11.5,
          11.5,
          11.5,
          11.45,
          11.4,
          11.3,
          11.11,
          11.11,
          11.11,
          11,
          11,
          11,
          11,
          11,
          11,
          11,
          10.99,
          10.98,
          10.96,
          10.9,
          10.9,
          10.88,
          10.88,
          10.69,
          10.5,
          10.25,
          10,
          10,
          10,
          10,
          10,
          9.9999,
          9.99,
          9.99,
          9.99,
          9.9,
          9.88,
          9.8,
          9.8,
          9.8,
          9.8,
          9.8,
          9.69,
          9.69,
          9.69,
          9.5,
          9.5,
          9.5,
          9.5,
          9.4,
          9.25,
          9.1,
          9,
          9,
          9,
          9,
          8.99,
          8.85,
          8.8,
          8.8,
          8.7654,
          8.75,
          8.69,
          8.6,
          8.6,
          8.5,
          8.5,
          8.49,
          8.469,
          8.2,
          8.1,
          8.1,
          8,
          8,
          8,
          8,
          8,
          8,
          8,
          8,
          8,
          7.99,
          7.9,
          7.77,
          7.7,
          7.7,
          7.66,
          7.536953642384106,
          7.5,
          7.5,
          7.5,
          7.5,
          7.5,
          7.5,
          7.49,
          7.49,
          7.49,
          7.4888,
          7.4,
          7.35,
          7.3,
          7.25,
          7.22,
          7.2,
          7.1499,
          7.123,
          7.1,
          7.1,
          7.1,
          7,
          7,
          7,
          7,
          7,
          6.99,
          6.99,
          6.99,
          6.9,
          6.9,
          6.9,
          6.9,
          6.89,
          6.8,
          6.79,
          6.777,
          6.75,
          6.7,
          6.68,
          6.68,
          6.6,
          6.6,
          6.5,
          6.5,
          6.5,
          6.5,
          6.5,
          6.49,
          6.49,
          6.49,
          6.4,
          6.4,
          6.4,
          6.35,
          6.3,
          6.29,
          6.29,
          6.21,
          6.19,
          6.1,
          6,
          6,
          5.99,
          5.99,
          5.97,
          5.95,
          5.9,
          5.8888,
          5.85,
          5.85,
          5.8,
          5.8,
          5.77,
          5.75,
          5.75,
          5.7,
          5.7,
          5.6,
          5.555,
          5.55,
          5.5,
          5.5,
          null,
          null,
          null,
          null,
          null,
          null,
          null,
          null,
          null,
          null,
          null,
          null,
          null,
          null,
          null,
          null,
          null,
          null,
          null,
          null,
          null,
          null,
          null,
          null,
          null,
          null,
          null,
          null,
          null,
          null,
          null,
          null,
          null,
          null,
          null,
          null,
          null,
          null,
          null,
          null,
          null,
          null,
          null,
          null,
          null,
          null,
          null,
          null,
          null,
          null,
          null,
          null,
          null,
          null,
          null,
          null,
          null,
          null,
          null,
          null,
          null,
          null,
          null,
          null,
          null,
          null,
          null,
          null,
          null,
          null,
          null,
          null,
          null,
          null,
          null,
          null,
          null,
          null,
          null,
          null,
          null,
          null,
          null,
          null,
          null,
          null,
          null,
          null,
          null
         ]
        },
        {
         "boxpoints": "all",
         "jitter": 0.2,
         "line": {
          "width": 1
         },
         "marker": {
          "size": 2
         },
         "name": " Procedural",
         "type": "box",
         "whiskerwidth": 0.2,
         "y": [
          24.69,
          24.5,
          21,
          19.5,
          19.2,
          18.88,
          18,
          18,
          18,
          15,
          15,
          14,
          13.99,
          13.9,
          13.5,
          13,
          12.88,
          12.5,
          12,
          11.95,
          11.75,
          10.97,
          9.99,
          8.99,
          8.98,
          8.89,
          8.85,
          8.79,
          8.44,
          8.432,
          7.99,
          7.5,
          7.4,
          7.3,
          7.24,
          7.1,
          6.98,
          6.9,
          6.8,
          6.4,
          6.25,
          5.93,
          5.8,
          5.7,
          null,
          null,
          null,
          null,
          null,
          null,
          null,
          null,
          null,
          null,
          null,
          null,
          null,
          null,
          null,
          null
         ]
        },
        {
         "boxpoints": "all",
         "jitter": 0.2,
         "line": {
          "width": 1
         },
         "marker": {
          "size": 2
         },
         "name": " Lino",
         "type": "box",
         "whiskerwidth": 0.2,
         "y": [
          35,
          30,
          22,
          20,
          14.9999,
          13.99,
          8.99,
          8.49,
          8.4,
          7.5,
          7.4,
          7,
          6.3,
          null,
          null,
          null,
          null,
          null,
          null,
          null
         ]
        },
        {
         "boxpoints": "all",
         "jitter": 0.2,
         "line": {
          "width": 1
         },
         "marker": {
          "size": 2
         },
         "name": " Prismatic",
         "type": "box",
         "whiskerwidth": 0.2,
         "y": [
          33,
          26,
          25.4,
          25,
          23.99,
          23,
          23,
          22.22,
          22.22,
          22,
          21.9,
          21.5,
          20.9,
          20.75,
          20.69,
          20,
          20,
          20,
          19.99,
          19.5,
          19.5,
          19,
          18.5,
          18.5,
          18,
          18,
          17.9,
          17.5,
          17.43,
          16.942,
          16.25,
          16,
          15.5,
          14.8869,
          14.88,
          14.6969,
          14.6969,
          14.6,
          14.5,
          14.216,
          14.2069,
          13.888,
          13.85,
          13.69,
          13.69,
          13,
          13,
          12.99,
          12.94,
          12.75,
          12.5,
          12.5,
          12,
          12,
          12,
          12,
          12,
          12,
          12,
          12,
          12,
          11.99,
          11.98,
          11.95,
          11.9,
          11.88,
          11.85,
          11.5,
          11.5,
          11.5,
          11.25,
          11.11,
          11,
          11,
          11,
          10.7,
          10.5,
          10.4,
          10.4,
          10,
          10,
          10,
          9.99,
          9.98,
          9.9,
          9.9,
          9.9,
          9.9,
          9.9,
          9.88,
          9.8,
          9.8,
          9.7,
          9.5,
          9.3,
          9.1,
          9,
          9,
          9,
          9,
          8.98,
          8.88,
          8.88,
          8.88,
          8.8,
          8.8,
          8.79,
          8.75,
          8.75,
          8.5,
          8.5,
          8.5,
          8.4,
          8.35,
          8.2,
          8,
          8,
          8,
          8,
          8,
          8,
          8,
          8,
          8,
          7.9999,
          7.99,
          7.99,
          7.99,
          7.99,
          7.9,
          7.9,
          7.85,
          7.8,
          7.77,
          7.75,
          7.7,
          7.7,
          7.7,
          7.5,
          7.5,
          7.5,
          7.5,
          7.5,
          7.5,
          7.4999,
          7.49,
          7.49,
          7.49,
          7.47,
          7.45,
          7.45,
          7.44,
          7.35,
          7.3,
          7.25,
          7.25,
          7.2,
          7.2,
          7.2,
          7.1111,
          7.1,
          7.095,
          7.069,
          7,
          6.99,
          6.99,
          6.99,
          6.99,
          6.97,
          6.95,
          6.9,
          6.89,
          6.89,
          6.88,
          6.8,
          6.78,
          6.72,
          6.69,
          6.66,
          6.66,
          6.6,
          6.5,
          6.5,
          6.469,
          6.4,
          6.4,
          6.39,
          6.39,
          6.33,
          6.29,
          6.23,
          6.1,
          6,
          6,
          6,
          6,
          5.97,
          5.9,
          5.9,
          5.869,
          5.85,
          5.8469,
          5.8,
          5.8,
          5.75,
          null,
          null,
          null,
          null,
          null,
          null,
          null,
          null,
          null,
          null,
          null,
          null,
          null,
          null,
          null,
          null,
          null,
          null,
          null,
          null,
          null,
          null,
          null,
          null,
          null,
          null,
          null,
          null,
          null,
          null,
          null,
          null,
          null,
          null,
          null,
          null,
          null,
          null,
          null,
          null,
          null,
          null,
          null,
          null,
          null,
          null,
          null,
          null,
          null,
          null,
          null,
          null,
          null,
          null,
          null,
          null,
          null
         ]
        }
       ],
       "layout": {
        "template": {
         "data": {
          "bar": [
           {
            "error_x": {
             "color": "#2a3f5f"
            },
            "error_y": {
             "color": "#2a3f5f"
            },
            "marker": {
             "line": {
              "color": "#E5ECF6",
              "width": 0.5
             },
             "pattern": {
              "fillmode": "overlay",
              "size": 10,
              "solidity": 0.2
             }
            },
            "type": "bar"
           }
          ],
          "barpolar": [
           {
            "marker": {
             "line": {
              "color": "#E5ECF6",
              "width": 0.5
             },
             "pattern": {
              "fillmode": "overlay",
              "size": 10,
              "solidity": 0.2
             }
            },
            "type": "barpolar"
           }
          ],
          "carpet": [
           {
            "aaxis": {
             "endlinecolor": "#2a3f5f",
             "gridcolor": "white",
             "linecolor": "white",
             "minorgridcolor": "white",
             "startlinecolor": "#2a3f5f"
            },
            "baxis": {
             "endlinecolor": "#2a3f5f",
             "gridcolor": "white",
             "linecolor": "white",
             "minorgridcolor": "white",
             "startlinecolor": "#2a3f5f"
            },
            "type": "carpet"
           }
          ],
          "choropleth": [
           {
            "colorbar": {
             "outlinewidth": 0,
             "ticks": ""
            },
            "type": "choropleth"
           }
          ],
          "contour": [
           {
            "colorbar": {
             "outlinewidth": 0,
             "ticks": ""
            },
            "colorscale": [
             [
              0,
              "#0d0887"
             ],
             [
              0.1111111111111111,
              "#46039f"
             ],
             [
              0.2222222222222222,
              "#7201a8"
             ],
             [
              0.3333333333333333,
              "#9c179e"
             ],
             [
              0.4444444444444444,
              "#bd3786"
             ],
             [
              0.5555555555555556,
              "#d8576b"
             ],
             [
              0.6666666666666666,
              "#ed7953"
             ],
             [
              0.7777777777777778,
              "#fb9f3a"
             ],
             [
              0.8888888888888888,
              "#fdca26"
             ],
             [
              1,
              "#f0f921"
             ]
            ],
            "type": "contour"
           }
          ],
          "contourcarpet": [
           {
            "colorbar": {
             "outlinewidth": 0,
             "ticks": ""
            },
            "type": "contourcarpet"
           }
          ],
          "heatmap": [
           {
            "colorbar": {
             "outlinewidth": 0,
             "ticks": ""
            },
            "colorscale": [
             [
              0,
              "#0d0887"
             ],
             [
              0.1111111111111111,
              "#46039f"
             ],
             [
              0.2222222222222222,
              "#7201a8"
             ],
             [
              0.3333333333333333,
              "#9c179e"
             ],
             [
              0.4444444444444444,
              "#bd3786"
             ],
             [
              0.5555555555555556,
              "#d8576b"
             ],
             [
              0.6666666666666666,
              "#ed7953"
             ],
             [
              0.7777777777777778,
              "#fb9f3a"
             ],
             [
              0.8888888888888888,
              "#fdca26"
             ],
             [
              1,
              "#f0f921"
             ]
            ],
            "type": "heatmap"
           }
          ],
          "heatmapgl": [
           {
            "colorbar": {
             "outlinewidth": 0,
             "ticks": ""
            },
            "colorscale": [
             [
              0,
              "#0d0887"
             ],
             [
              0.1111111111111111,
              "#46039f"
             ],
             [
              0.2222222222222222,
              "#7201a8"
             ],
             [
              0.3333333333333333,
              "#9c179e"
             ],
             [
              0.4444444444444444,
              "#bd3786"
             ],
             [
              0.5555555555555556,
              "#d8576b"
             ],
             [
              0.6666666666666666,
              "#ed7953"
             ],
             [
              0.7777777777777778,
              "#fb9f3a"
             ],
             [
              0.8888888888888888,
              "#fdca26"
             ],
             [
              1,
              "#f0f921"
             ]
            ],
            "type": "heatmapgl"
           }
          ],
          "histogram": [
           {
            "marker": {
             "pattern": {
              "fillmode": "overlay",
              "size": 10,
              "solidity": 0.2
             }
            },
            "type": "histogram"
           }
          ],
          "histogram2d": [
           {
            "colorbar": {
             "outlinewidth": 0,
             "ticks": ""
            },
            "colorscale": [
             [
              0,
              "#0d0887"
             ],
             [
              0.1111111111111111,
              "#46039f"
             ],
             [
              0.2222222222222222,
              "#7201a8"
             ],
             [
              0.3333333333333333,
              "#9c179e"
             ],
             [
              0.4444444444444444,
              "#bd3786"
             ],
             [
              0.5555555555555556,
              "#d8576b"
             ],
             [
              0.6666666666666666,
              "#ed7953"
             ],
             [
              0.7777777777777778,
              "#fb9f3a"
             ],
             [
              0.8888888888888888,
              "#fdca26"
             ],
             [
              1,
              "#f0f921"
             ]
            ],
            "type": "histogram2d"
           }
          ],
          "histogram2dcontour": [
           {
            "colorbar": {
             "outlinewidth": 0,
             "ticks": ""
            },
            "colorscale": [
             [
              0,
              "#0d0887"
             ],
             [
              0.1111111111111111,
              "#46039f"
             ],
             [
              0.2222222222222222,
              "#7201a8"
             ],
             [
              0.3333333333333333,
              "#9c179e"
             ],
             [
              0.4444444444444444,
              "#bd3786"
             ],
             [
              0.5555555555555556,
              "#d8576b"
             ],
             [
              0.6666666666666666,
              "#ed7953"
             ],
             [
              0.7777777777777778,
              "#fb9f3a"
             ],
             [
              0.8888888888888888,
              "#fdca26"
             ],
             [
              1,
              "#f0f921"
             ]
            ],
            "type": "histogram2dcontour"
           }
          ],
          "mesh3d": [
           {
            "colorbar": {
             "outlinewidth": 0,
             "ticks": ""
            },
            "type": "mesh3d"
           }
          ],
          "parcoords": [
           {
            "line": {
             "colorbar": {
              "outlinewidth": 0,
              "ticks": ""
             }
            },
            "type": "parcoords"
           }
          ],
          "pie": [
           {
            "automargin": true,
            "type": "pie"
           }
          ],
          "scatter": [
           {
            "marker": {
             "colorbar": {
              "outlinewidth": 0,
              "ticks": ""
             }
            },
            "type": "scatter"
           }
          ],
          "scatter3d": [
           {
            "line": {
             "colorbar": {
              "outlinewidth": 0,
              "ticks": ""
             }
            },
            "marker": {
             "colorbar": {
              "outlinewidth": 0,
              "ticks": ""
             }
            },
            "type": "scatter3d"
           }
          ],
          "scattercarpet": [
           {
            "marker": {
             "colorbar": {
              "outlinewidth": 0,
              "ticks": ""
             }
            },
            "type": "scattercarpet"
           }
          ],
          "scattergeo": [
           {
            "marker": {
             "colorbar": {
              "outlinewidth": 0,
              "ticks": ""
             }
            },
            "type": "scattergeo"
           }
          ],
          "scattergl": [
           {
            "marker": {
             "colorbar": {
              "outlinewidth": 0,
              "ticks": ""
             }
            },
            "type": "scattergl"
           }
          ],
          "scattermapbox": [
           {
            "marker": {
             "colorbar": {
              "outlinewidth": 0,
              "ticks": ""
             }
            },
            "type": "scattermapbox"
           }
          ],
          "scatterpolar": [
           {
            "marker": {
             "colorbar": {
              "outlinewidth": 0,
              "ticks": ""
             }
            },
            "type": "scatterpolar"
           }
          ],
          "scatterpolargl": [
           {
            "marker": {
             "colorbar": {
              "outlinewidth": 0,
              "ticks": ""
             }
            },
            "type": "scatterpolargl"
           }
          ],
          "scatterternary": [
           {
            "marker": {
             "colorbar": {
              "outlinewidth": 0,
              "ticks": ""
             }
            },
            "type": "scatterternary"
           }
          ],
          "surface": [
           {
            "colorbar": {
             "outlinewidth": 0,
             "ticks": ""
            },
            "colorscale": [
             [
              0,
              "#0d0887"
             ],
             [
              0.1111111111111111,
              "#46039f"
             ],
             [
              0.2222222222222222,
              "#7201a8"
             ],
             [
              0.3333333333333333,
              "#9c179e"
             ],
             [
              0.4444444444444444,
              "#bd3786"
             ],
             [
              0.5555555555555556,
              "#d8576b"
             ],
             [
              0.6666666666666666,
              "#ed7953"
             ],
             [
              0.7777777777777778,
              "#fb9f3a"
             ],
             [
              0.8888888888888888,
              "#fdca26"
             ],
             [
              1,
              "#f0f921"
             ]
            ],
            "type": "surface"
           }
          ],
          "table": [
           {
            "cells": {
             "fill": {
              "color": "#EBF0F8"
             },
             "line": {
              "color": "white"
             }
            },
            "header": {
             "fill": {
              "color": "#C8D4E3"
             },
             "line": {
              "color": "white"
             }
            },
            "type": "table"
           }
          ]
         },
         "layout": {
          "annotationdefaults": {
           "arrowcolor": "#2a3f5f",
           "arrowhead": 0,
           "arrowwidth": 1
          },
          "autotypenumbers": "strict",
          "coloraxis": {
           "colorbar": {
            "outlinewidth": 0,
            "ticks": ""
           }
          },
          "colorscale": {
           "diverging": [
            [
             0,
             "#8e0152"
            ],
            [
             0.1,
             "#c51b7d"
            ],
            [
             0.2,
             "#de77ae"
            ],
            [
             0.3,
             "#f1b6da"
            ],
            [
             0.4,
             "#fde0ef"
            ],
            [
             0.5,
             "#f7f7f7"
            ],
            [
             0.6,
             "#e6f5d0"
            ],
            [
             0.7,
             "#b8e186"
            ],
            [
             0.8,
             "#7fbc41"
            ],
            [
             0.9,
             "#4d9221"
            ],
            [
             1,
             "#276419"
            ]
           ],
           "sequential": [
            [
             0,
             "#0d0887"
            ],
            [
             0.1111111111111111,
             "#46039f"
            ],
            [
             0.2222222222222222,
             "#7201a8"
            ],
            [
             0.3333333333333333,
             "#9c179e"
            ],
            [
             0.4444444444444444,
             "#bd3786"
            ],
            [
             0.5555555555555556,
             "#d8576b"
            ],
            [
             0.6666666666666666,
             "#ed7953"
            ],
            [
             0.7777777777777778,
             "#fb9f3a"
            ],
            [
             0.8888888888888888,
             "#fdca26"
            ],
            [
             1,
             "#f0f921"
            ]
           ],
           "sequentialminus": [
            [
             0,
             "#0d0887"
            ],
            [
             0.1111111111111111,
             "#46039f"
            ],
            [
             0.2222222222222222,
             "#7201a8"
            ],
            [
             0.3333333333333333,
             "#9c179e"
            ],
            [
             0.4444444444444444,
             "#bd3786"
            ],
            [
             0.5555555555555556,
             "#d8576b"
            ],
            [
             0.6666666666666666,
             "#ed7953"
            ],
            [
             0.7777777777777778,
             "#fb9f3a"
            ],
            [
             0.8888888888888888,
             "#fdca26"
            ],
            [
             1,
             "#f0f921"
            ]
           ]
          },
          "colorway": [
           "#636efa",
           "#EF553B",
           "#00cc96",
           "#ab63fa",
           "#FFA15A",
           "#19d3f3",
           "#FF6692",
           "#B6E880",
           "#FF97FF",
           "#FECB52"
          ],
          "font": {
           "color": "#2a3f5f"
          },
          "geo": {
           "bgcolor": "white",
           "lakecolor": "white",
           "landcolor": "#E5ECF6",
           "showlakes": true,
           "showland": true,
           "subunitcolor": "white"
          },
          "hoverlabel": {
           "align": "left"
          },
          "hovermode": "closest",
          "mapbox": {
           "style": "light"
          },
          "paper_bgcolor": "white",
          "plot_bgcolor": "#E5ECF6",
          "polar": {
           "angularaxis": {
            "gridcolor": "white",
            "linecolor": "white",
            "ticks": ""
           },
           "bgcolor": "#E5ECF6",
           "radialaxis": {
            "gridcolor": "white",
            "linecolor": "white",
            "ticks": ""
           }
          },
          "scene": {
           "xaxis": {
            "backgroundcolor": "#E5ECF6",
            "gridcolor": "white",
            "gridwidth": 2,
            "linecolor": "white",
            "showbackground": true,
            "ticks": "",
            "zerolinecolor": "white"
           },
           "yaxis": {
            "backgroundcolor": "#E5ECF6",
            "gridcolor": "white",
            "gridwidth": 2,
            "linecolor": "white",
            "showbackground": true,
            "ticks": "",
            "zerolinecolor": "white"
           },
           "zaxis": {
            "backgroundcolor": "#E5ECF6",
            "gridcolor": "white",
            "gridwidth": 2,
            "linecolor": "white",
            "showbackground": true,
            "ticks": "",
            "zerolinecolor": "white"
           }
          },
          "shapedefaults": {
           "line": {
            "color": "#2a3f5f"
           }
          },
          "ternary": {
           "aaxis": {
            "gridcolor": "white",
            "linecolor": "white",
            "ticks": ""
           },
           "baxis": {
            "gridcolor": "white",
            "linecolor": "white",
            "ticks": ""
           },
           "bgcolor": "#E5ECF6",
           "caxis": {
            "gridcolor": "white",
            "linecolor": "white",
            "ticks": ""
           }
          },
          "title": {
           "x": 0.05
          },
          "xaxis": {
           "automargin": true,
           "gridcolor": "white",
           "linecolor": "white",
           "ticks": "",
           "title": {
            "standoff": 15
           },
           "zerolinecolor": "white",
           "zerolinewidth": 2
          },
          "yaxis": {
           "automargin": true,
           "gridcolor": "white",
           "linecolor": "white",
           "ticks": "",
           "title": {
            "standoff": 15
           },
           "zerolinecolor": "white",
           "zerolinewidth": 2
          }
         }
        },
        "title": {
         "text": "Style"
        }
       }
      }
     },
     "metadata": {}
    },
    {
     "output_type": "display_data",
     "data": {
      "application/vnd.plotly.v1+json": {
       "config": {
        "plotlyServerURL": "https://plot.ly"
       },
       "data": [
        {
         "boxpoints": "all",
         "jitter": 0.2,
         "line": {
          "width": 1
         },
         "marker": {
          "size": 2
         },
         "name": " Medium",
         "type": "box",
         "whiskerwidth": 0.2,
         "y": [
          200,
          50,
          48.888,
          48.88,
          40,
          35,
          35,
          33,
          30,
          30,
          30,
          30,
          28.94,
          28,
          28,
          26,
          26,
          24.9999,
          24.5,
          24,
          24,
          23.99,
          23.5,
          23.5,
          23.337,
          23,
          23,
          22.99,
          22.5,
          22.22,
          22,
          22,
          22,
          21.99,
          21.5,
          21,
          20,
          20,
          20,
          20,
          20,
          19.99992336795338,
          19.969,
          19.5,
          19.5,
          19,
          19,
          19,
          18.95,
          18.88,
          18.75,
          18.5,
          18.5,
          18.1337,
          18,
          18,
          18,
          18,
          18,
          17.99,
          17.98,
          17.9,
          17.5,
          17.5,
          17.43,
          17,
          17,
          17,
          16.942,
          16.5,
          15.59,
          15.5,
          15,
          15,
          15,
          15,
          15,
          15,
          15,
          14.99,
          14.99,
          14.9,
          14.8869,
          14.6969,
          14.69,
          14.6,
          14.216,
          14.2069,
          14,
          14,
          14,
          13.99,
          13.85,
          13.8,
          13.75,
          13.69,
          13.33,
          13.3,
          13.2,
          13,
          13,
          13,
          13,
          13,
          12.99,
          12.94,
          12.88,
          12.8,
          12.65,
          12.4,
          12,
          12,
          12,
          12,
          12,
          12,
          12,
          12,
          12,
          11.98,
          11.9,
          11.8,
          11.8,
          11.75,
          11.75,
          11.5,
          11.5,
          11.5,
          11.5,
          11.5,
          11.11,
          11,
          11,
          11,
          11,
          10.99,
          10.97,
          10.9,
          10.69,
          10.5,
          10,
          10,
          10,
          10,
          9.9,
          9.9,
          9.88,
          9.88,
          9.8,
          9.8,
          9.8,
          9.5,
          9.5,
          9.5,
          9.4,
          9.25,
          9.1,
          9,
          9,
          9,
          8.99,
          8.99,
          8.98,
          8.88,
          8.88,
          8.8,
          8.79,
          8.79,
          8.69,
          8.5,
          8.5,
          8.5,
          8.49,
          8.469,
          8.432,
          8.4,
          8.35,
          8.1,
          8,
          8,
          8,
          8,
          7.9999,
          7.9,
          7.9,
          7.8,
          7.8,
          7.8,
          7.7,
          7.66,
          7.5,
          7.5,
          7.5,
          7.5,
          7.5,
          7.5,
          7.5,
          7.49,
          7.49,
          7.47,
          7.4,
          7.4,
          7.4,
          7.39,
          7.3,
          7.3,
          7.25,
          7.25,
          7.25,
          7.1499,
          7.1111,
          7.1,
          7.095,
          7,
          6.99,
          6.99,
          6.99,
          6.99,
          6.99,
          6.9,
          6.9,
          6.9,
          6.89,
          6.79,
          6.78,
          6.777,
          6.69,
          6.6,
          6.5,
          6.5,
          6.5,
          6.49,
          6.477,
          6.4,
          6.4,
          6.29,
          6.25,
          6,
          6,
          6,
          6,
          5.99,
          5.97,
          5.97,
          5.95,
          5.9,
          5.85,
          5.85,
          5.8,
          5.77,
          5.75,
          5.75,
          5.75,
          5.7,
          5.6,
          5.55,
          0.01,
          null,
          null,
          null,
          null,
          null,
          null,
          null,
          null,
          null,
          null,
          null,
          null,
          null,
          null,
          null,
          null,
          null,
          null,
          null,
          null,
          null,
          null,
          null,
          null,
          null,
          null,
          null,
          null,
          null,
          null,
          null,
          null,
          null,
          null,
          null,
          null,
          null,
          null,
          null,
          null,
          null,
          null,
          null,
          null,
          null,
          null,
          null,
          null,
          null,
          null,
          null,
          null,
          null,
          null,
          null,
          null,
          null,
          null,
          null,
          null,
          null,
          null,
          null,
          null,
          null,
          null,
          null,
          null,
          null,
          null
         ]
        },
        {
         "boxpoints": "all",
         "jitter": 0.2,
         "line": {
          "width": 1
         },
         "marker": {
          "size": 2
         },
         "name": " Close",
         "type": "box",
         "whiskerwidth": 0.2,
         "y": [
          50,
          48.57,
          45,
          42.69,
          35,
          35,
          32,
          30,
          30,
          29.8,
          27.77,
          27.5,
          27,
          26.9,
          25.4,
          25,
          25,
          25,
          24.69,
          24.069,
          24,
          24,
          24,
          24,
          23,
          22.99,
          22,
          22,
          22,
          21.99,
          21.5,
          21,
          21,
          21,
          21,
          20.9,
          20.69,
          20.69,
          20,
          20,
          20,
          20,
          20,
          20,
          20,
          19.99,
          19.69,
          19.3,
          19.2,
          18.9,
          18.88,
          18.5,
          18.5,
          18,
          18,
          18,
          18,
          18,
          17.95,
          17.5,
          17,
          17,
          16.99,
          16.5,
          16.5,
          16.25,
          16,
          16,
          15.99,
          15.9,
          15.9,
          15.9,
          15.9,
          15.89,
          15,
          15,
          15,
          15,
          15,
          15,
          15,
          15,
          14.9999,
          14.99,
          14.88,
          14.6969,
          14.5,
          14.5,
          14,
          14,
          14,
          14,
          13.9,
          13.6969,
          13.5,
          13.5,
          13.5,
          13.49,
          13,
          12.95,
          12.95,
          12.75,
          12.69,
          12.69,
          12.5,
          12.5,
          12.5,
          12.5,
          12.5,
          12.45,
          12.43,
          12.35,
          12.29,
          12,
          12,
          12,
          12,
          12,
          12,
          11.99,
          11.99,
          11.99,
          11.98,
          11.96,
          11.95,
          11.95,
          11.88,
          11.75,
          11.5,
          11.5,
          11.5,
          11.45,
          11.4,
          11.1111,
          11.11,
          11.11,
          11,
          11,
          11,
          11,
          11,
          10.99,
          10.97,
          10.96,
          10.795243773951906,
          10.7,
          10.5,
          10.5,
          10.49,
          10.4,
          10,
          10,
          10,
          10,
          9.999,
          9.99,
          9.99,
          9.99,
          9.99,
          9.98,
          9.9,
          9.888,
          9.8,
          9.8,
          9.8,
          9.69,
          9.69,
          9.6,
          9.5,
          9.5,
          9.1,
          9,
          9,
          8.88,
          8.85,
          8.85,
          8.8,
          8.75,
          8.75,
          8.6,
          8.5,
          8.5,
          8.49,
          8.2,
          8,
          8,
          8,
          8,
          8,
          8,
          8,
          8,
          8,
          7.99,
          7.99,
          7.99,
          7.99,
          7.99,
          7.99,
          7.99,
          7.98,
          7.9,
          7.9,
          7.85,
          7.75,
          7.75,
          7.7,
          7.7,
          7.536953642384106,
          7.5,
          7.5,
          7.4999,
          7.49,
          7.49,
          7.49,
          7.35,
          7.35,
          7.25,
          7.25,
          7.24,
          7.2,
          7.2,
          7.123,
          7.1,
          7.1,
          7.1,
          7.069,
          7,
          7,
          7,
          6.99,
          6.99,
          6.98,
          6.97,
          6.9,
          6.9,
          6.9,
          6.88,
          6.85,
          6.8,
          6.8,
          6.75,
          6.75,
          6.72,
          6.68,
          6.68,
          6.66,
          6.5,
          6.5,
          6.5,
          6.49,
          6.469,
          6.4,
          6.4,
          6.4,
          6.39,
          6.35,
          6.21,
          6.19,
          6.1,
          6.1,
          6,
          5.99,
          5.99,
          5.93,
          5.8888,
          5.869,
          5.8469,
          5.8,
          5.8,
          5.69,
          5.6,
          5.5,
          null,
          null,
          null,
          null,
          null,
          null,
          null,
          null,
          null,
          null,
          null,
          null,
          null,
          null,
          null,
          null,
          null,
          null,
          null,
          null,
          null,
          null,
          null,
          null,
          null,
          null,
          null,
          null,
          null,
          null,
          null,
          null,
          null,
          null,
          null,
          null,
          null,
          null,
          null,
          null,
          null,
          null,
          null,
          null,
          null,
          null,
          null,
          null,
          null,
          null,
          null,
          null,
          null,
          null,
          null,
          null,
          null,
          null,
          null,
          null,
          null,
          null,
          null,
          null,
          null,
          null,
          null,
          null,
          null,
          null,
          null,
          null,
          null,
          null
         ]
        },
        {
         "boxpoints": "all",
         "jitter": 0.2,
         "line": {
          "width": 1
         },
         "marker": {
          "size": 2
         },
         "name": " Far",
         "type": "box",
         "whiskerwidth": 0.2,
         "y": [
          200,
          175,
          145,
          80,
          66.666,
          60,
          60,
          39,
          35,
          32,
          29.91,
          28.88,
          27.5,
          26.5,
          25,
          25,
          25,
          25,
          24,
          24,
          24,
          23.888,
          23.69,
          23.69,
          23,
          23,
          22.5,
          22.5,
          22.22,
          22.22,
          22.2,
          22,
          22,
          22,
          22,
          21.99,
          21.9,
          21.5,
          21.5,
          20.75,
          20,
          20,
          19.99,
          19.99,
          19.5,
          18.95,
          18.5,
          18.5,
          18,
          18,
          18,
          18,
          18,
          17.5,
          17.167257721296323,
          16.69,
          16.5,
          16,
          16,
          15.9,
          15.8,
          15,
          15,
          15,
          15,
          15,
          15,
          15,
          14.95,
          14,
          14,
          14,
          14,
          13.99,
          13.9,
          13.888,
          13.69,
          13.5,
          13.5,
          13,
          13,
          13,
          12.888,
          12.8,
          12.8,
          12.69,
          12.5,
          12.5,
          12.4,
          12.4,
          12,
          12,
          12,
          12,
          12,
          12,
          12,
          12,
          11.99,
          11.99,
          11.99,
          11.99,
          11.9,
          11.9,
          11.88,
          11.85,
          11.82130112544606,
          11.77,
          11.3,
          11.25,
          11.11,
          11.11,
          11.11,
          11,
          11,
          11,
          11,
          11,
          11,
          11,
          10.98,
          10.9,
          10.88,
          10.88,
          10.5,
          10.4,
          10.25,
          10,
          10,
          10,
          10,
          10,
          10,
          9.9999,
          9.99,
          9.9,
          9.9,
          9.9,
          9.9,
          9.8,
          9.8,
          9.8,
          9.7,
          9.69,
          9.69,
          9.5,
          9.5,
          9.3,
          9,
          9,
          9,
          9,
          8.99,
          8.98,
          8.89,
          8.88,
          8.8,
          8.8,
          8.8,
          8.7654,
          8.75,
          8.7,
          8.6,
          8.6,
          8.5,
          8.5,
          8.44,
          8.4,
          8.25,
          8.2,
          8.2,
          8.1,
          8,
          8,
          8,
          8,
          8,
          8,
          7.9,
          7.85,
          7.7777,
          7.77,
          7.77,
          7.7,
          7.7,
          7.5,
          7.5,
          7.5,
          7.5,
          7.5,
          7.5,
          7.5,
          7.49,
          7.49,
          7.4888,
          7.48,
          7.45,
          7.45,
          7.44,
          7.3,
          7.25,
          7.22,
          7.2,
          7.2,
          7.1,
          7.1,
          7,
          7,
          7,
          6.99,
          6.99,
          6.969,
          6.95,
          6.9,
          6.89,
          6.89,
          6.88,
          6.8,
          6.75,
          6.7,
          6.66,
          6.64,
          6.6,
          6.6,
          6.5,
          6.5,
          6.5,
          6.49,
          6.49,
          6.4,
          6.4,
          6.39,
          6.33,
          6.3,
          6.3,
          6.29,
          6.29,
          6.23,
          6,
          5.9,
          5.9,
          5.85,
          5.8,
          5.8,
          5.8,
          5.7,
          5.7,
          5.6,
          5.555,
          5.5,
          null,
          null,
          null,
          null,
          null,
          null,
          null,
          null,
          null,
          null,
          null,
          null,
          null,
          null,
          null,
          null,
          null,
          null,
          null,
          null,
          null,
          null,
          null,
          null,
          null,
          null,
          null,
          null,
          null,
          null,
          null,
          null,
          null,
          null,
          null,
          null,
          null,
          null,
          null,
          null,
          null,
          null,
          null,
          null,
          null,
          null,
          null,
          null,
          null,
          null,
          null,
          null,
          null,
          null,
          null,
          null,
          null,
          null,
          null,
          null,
          null,
          null,
          null,
          null,
          null,
          null,
          null,
          null,
          null,
          null,
          null,
          null,
          null,
          null,
          null,
          null
         ]
        }
       ],
       "layout": {
        "template": {
         "data": {
          "bar": [
           {
            "error_x": {
             "color": "#2a3f5f"
            },
            "error_y": {
             "color": "#2a3f5f"
            },
            "marker": {
             "line": {
              "color": "#E5ECF6",
              "width": 0.5
             },
             "pattern": {
              "fillmode": "overlay",
              "size": 10,
              "solidity": 0.2
             }
            },
            "type": "bar"
           }
          ],
          "barpolar": [
           {
            "marker": {
             "line": {
              "color": "#E5ECF6",
              "width": 0.5
             },
             "pattern": {
              "fillmode": "overlay",
              "size": 10,
              "solidity": 0.2
             }
            },
            "type": "barpolar"
           }
          ],
          "carpet": [
           {
            "aaxis": {
             "endlinecolor": "#2a3f5f",
             "gridcolor": "white",
             "linecolor": "white",
             "minorgridcolor": "white",
             "startlinecolor": "#2a3f5f"
            },
            "baxis": {
             "endlinecolor": "#2a3f5f",
             "gridcolor": "white",
             "linecolor": "white",
             "minorgridcolor": "white",
             "startlinecolor": "#2a3f5f"
            },
            "type": "carpet"
           }
          ],
          "choropleth": [
           {
            "colorbar": {
             "outlinewidth": 0,
             "ticks": ""
            },
            "type": "choropleth"
           }
          ],
          "contour": [
           {
            "colorbar": {
             "outlinewidth": 0,
             "ticks": ""
            },
            "colorscale": [
             [
              0,
              "#0d0887"
             ],
             [
              0.1111111111111111,
              "#46039f"
             ],
             [
              0.2222222222222222,
              "#7201a8"
             ],
             [
              0.3333333333333333,
              "#9c179e"
             ],
             [
              0.4444444444444444,
              "#bd3786"
             ],
             [
              0.5555555555555556,
              "#d8576b"
             ],
             [
              0.6666666666666666,
              "#ed7953"
             ],
             [
              0.7777777777777778,
              "#fb9f3a"
             ],
             [
              0.8888888888888888,
              "#fdca26"
             ],
             [
              1,
              "#f0f921"
             ]
            ],
            "type": "contour"
           }
          ],
          "contourcarpet": [
           {
            "colorbar": {
             "outlinewidth": 0,
             "ticks": ""
            },
            "type": "contourcarpet"
           }
          ],
          "heatmap": [
           {
            "colorbar": {
             "outlinewidth": 0,
             "ticks": ""
            },
            "colorscale": [
             [
              0,
              "#0d0887"
             ],
             [
              0.1111111111111111,
              "#46039f"
             ],
             [
              0.2222222222222222,
              "#7201a8"
             ],
             [
              0.3333333333333333,
              "#9c179e"
             ],
             [
              0.4444444444444444,
              "#bd3786"
             ],
             [
              0.5555555555555556,
              "#d8576b"
             ],
             [
              0.6666666666666666,
              "#ed7953"
             ],
             [
              0.7777777777777778,
              "#fb9f3a"
             ],
             [
              0.8888888888888888,
              "#fdca26"
             ],
             [
              1,
              "#f0f921"
             ]
            ],
            "type": "heatmap"
           }
          ],
          "heatmapgl": [
           {
            "colorbar": {
             "outlinewidth": 0,
             "ticks": ""
            },
            "colorscale": [
             [
              0,
              "#0d0887"
             ],
             [
              0.1111111111111111,
              "#46039f"
             ],
             [
              0.2222222222222222,
              "#7201a8"
             ],
             [
              0.3333333333333333,
              "#9c179e"
             ],
             [
              0.4444444444444444,
              "#bd3786"
             ],
             [
              0.5555555555555556,
              "#d8576b"
             ],
             [
              0.6666666666666666,
              "#ed7953"
             ],
             [
              0.7777777777777778,
              "#fb9f3a"
             ],
             [
              0.8888888888888888,
              "#fdca26"
             ],
             [
              1,
              "#f0f921"
             ]
            ],
            "type": "heatmapgl"
           }
          ],
          "histogram": [
           {
            "marker": {
             "pattern": {
              "fillmode": "overlay",
              "size": 10,
              "solidity": 0.2
             }
            },
            "type": "histogram"
           }
          ],
          "histogram2d": [
           {
            "colorbar": {
             "outlinewidth": 0,
             "ticks": ""
            },
            "colorscale": [
             [
              0,
              "#0d0887"
             ],
             [
              0.1111111111111111,
              "#46039f"
             ],
             [
              0.2222222222222222,
              "#7201a8"
             ],
             [
              0.3333333333333333,
              "#9c179e"
             ],
             [
              0.4444444444444444,
              "#bd3786"
             ],
             [
              0.5555555555555556,
              "#d8576b"
             ],
             [
              0.6666666666666666,
              "#ed7953"
             ],
             [
              0.7777777777777778,
              "#fb9f3a"
             ],
             [
              0.8888888888888888,
              "#fdca26"
             ],
             [
              1,
              "#f0f921"
             ]
            ],
            "type": "histogram2d"
           }
          ],
          "histogram2dcontour": [
           {
            "colorbar": {
             "outlinewidth": 0,
             "ticks": ""
            },
            "colorscale": [
             [
              0,
              "#0d0887"
             ],
             [
              0.1111111111111111,
              "#46039f"
             ],
             [
              0.2222222222222222,
              "#7201a8"
             ],
             [
              0.3333333333333333,
              "#9c179e"
             ],
             [
              0.4444444444444444,
              "#bd3786"
             ],
             [
              0.5555555555555556,
              "#d8576b"
             ],
             [
              0.6666666666666666,
              "#ed7953"
             ],
             [
              0.7777777777777778,
              "#fb9f3a"
             ],
             [
              0.8888888888888888,
              "#fdca26"
             ],
             [
              1,
              "#f0f921"
             ]
            ],
            "type": "histogram2dcontour"
           }
          ],
          "mesh3d": [
           {
            "colorbar": {
             "outlinewidth": 0,
             "ticks": ""
            },
            "type": "mesh3d"
           }
          ],
          "parcoords": [
           {
            "line": {
             "colorbar": {
              "outlinewidth": 0,
              "ticks": ""
             }
            },
            "type": "parcoords"
           }
          ],
          "pie": [
           {
            "automargin": true,
            "type": "pie"
           }
          ],
          "scatter": [
           {
            "marker": {
             "colorbar": {
              "outlinewidth": 0,
              "ticks": ""
             }
            },
            "type": "scatter"
           }
          ],
          "scatter3d": [
           {
            "line": {
             "colorbar": {
              "outlinewidth": 0,
              "ticks": ""
             }
            },
            "marker": {
             "colorbar": {
              "outlinewidth": 0,
              "ticks": ""
             }
            },
            "type": "scatter3d"
           }
          ],
          "scattercarpet": [
           {
            "marker": {
             "colorbar": {
              "outlinewidth": 0,
              "ticks": ""
             }
            },
            "type": "scattercarpet"
           }
          ],
          "scattergeo": [
           {
            "marker": {
             "colorbar": {
              "outlinewidth": 0,
              "ticks": ""
             }
            },
            "type": "scattergeo"
           }
          ],
          "scattergl": [
           {
            "marker": {
             "colorbar": {
              "outlinewidth": 0,
              "ticks": ""
             }
            },
            "type": "scattergl"
           }
          ],
          "scattermapbox": [
           {
            "marker": {
             "colorbar": {
              "outlinewidth": 0,
              "ticks": ""
             }
            },
            "type": "scattermapbox"
           }
          ],
          "scatterpolar": [
           {
            "marker": {
             "colorbar": {
              "outlinewidth": 0,
              "ticks": ""
             }
            },
            "type": "scatterpolar"
           }
          ],
          "scatterpolargl": [
           {
            "marker": {
             "colorbar": {
              "outlinewidth": 0,
              "ticks": ""
             }
            },
            "type": "scatterpolargl"
           }
          ],
          "scatterternary": [
           {
            "marker": {
             "colorbar": {
              "outlinewidth": 0,
              "ticks": ""
             }
            },
            "type": "scatterternary"
           }
          ],
          "surface": [
           {
            "colorbar": {
             "outlinewidth": 0,
             "ticks": ""
            },
            "colorscale": [
             [
              0,
              "#0d0887"
             ],
             [
              0.1111111111111111,
              "#46039f"
             ],
             [
              0.2222222222222222,
              "#7201a8"
             ],
             [
              0.3333333333333333,
              "#9c179e"
             ],
             [
              0.4444444444444444,
              "#bd3786"
             ],
             [
              0.5555555555555556,
              "#d8576b"
             ],
             [
              0.6666666666666666,
              "#ed7953"
             ],
             [
              0.7777777777777778,
              "#fb9f3a"
             ],
             [
              0.8888888888888888,
              "#fdca26"
             ],
             [
              1,
              "#f0f921"
             ]
            ],
            "type": "surface"
           }
          ],
          "table": [
           {
            "cells": {
             "fill": {
              "color": "#EBF0F8"
             },
             "line": {
              "color": "white"
             }
            },
            "header": {
             "fill": {
              "color": "#C8D4E3"
             },
             "line": {
              "color": "white"
             }
            },
            "type": "table"
           }
          ]
         },
         "layout": {
          "annotationdefaults": {
           "arrowcolor": "#2a3f5f",
           "arrowhead": 0,
           "arrowwidth": 1
          },
          "autotypenumbers": "strict",
          "coloraxis": {
           "colorbar": {
            "outlinewidth": 0,
            "ticks": ""
           }
          },
          "colorscale": {
           "diverging": [
            [
             0,
             "#8e0152"
            ],
            [
             0.1,
             "#c51b7d"
            ],
            [
             0.2,
             "#de77ae"
            ],
            [
             0.3,
             "#f1b6da"
            ],
            [
             0.4,
             "#fde0ef"
            ],
            [
             0.5,
             "#f7f7f7"
            ],
            [
             0.6,
             "#e6f5d0"
            ],
            [
             0.7,
             "#b8e186"
            ],
            [
             0.8,
             "#7fbc41"
            ],
            [
             0.9,
             "#4d9221"
            ],
            [
             1,
             "#276419"
            ]
           ],
           "sequential": [
            [
             0,
             "#0d0887"
            ],
            [
             0.1111111111111111,
             "#46039f"
            ],
            [
             0.2222222222222222,
             "#7201a8"
            ],
            [
             0.3333333333333333,
             "#9c179e"
            ],
            [
             0.4444444444444444,
             "#bd3786"
            ],
            [
             0.5555555555555556,
             "#d8576b"
            ],
            [
             0.6666666666666666,
             "#ed7953"
            ],
            [
             0.7777777777777778,
             "#fb9f3a"
            ],
            [
             0.8888888888888888,
             "#fdca26"
            ],
            [
             1,
             "#f0f921"
            ]
           ],
           "sequentialminus": [
            [
             0,
             "#0d0887"
            ],
            [
             0.1111111111111111,
             "#46039f"
            ],
            [
             0.2222222222222222,
             "#7201a8"
            ],
            [
             0.3333333333333333,
             "#9c179e"
            ],
            [
             0.4444444444444444,
             "#bd3786"
            ],
            [
             0.5555555555555556,
             "#d8576b"
            ],
            [
             0.6666666666666666,
             "#ed7953"
            ],
            [
             0.7777777777777778,
             "#fb9f3a"
            ],
            [
             0.8888888888888888,
             "#fdca26"
            ],
            [
             1,
             "#f0f921"
            ]
           ]
          },
          "colorway": [
           "#636efa",
           "#EF553B",
           "#00cc96",
           "#ab63fa",
           "#FFA15A",
           "#19d3f3",
           "#FF6692",
           "#B6E880",
           "#FF97FF",
           "#FECB52"
          ],
          "font": {
           "color": "#2a3f5f"
          },
          "geo": {
           "bgcolor": "white",
           "lakecolor": "white",
           "landcolor": "#E5ECF6",
           "showlakes": true,
           "showland": true,
           "subunitcolor": "white"
          },
          "hoverlabel": {
           "align": "left"
          },
          "hovermode": "closest",
          "mapbox": {
           "style": "light"
          },
          "paper_bgcolor": "white",
          "plot_bgcolor": "#E5ECF6",
          "polar": {
           "angularaxis": {
            "gridcolor": "white",
            "linecolor": "white",
            "ticks": ""
           },
           "bgcolor": "#E5ECF6",
           "radialaxis": {
            "gridcolor": "white",
            "linecolor": "white",
            "ticks": ""
           }
          },
          "scene": {
           "xaxis": {
            "backgroundcolor": "#E5ECF6",
            "gridcolor": "white",
            "gridwidth": 2,
            "linecolor": "white",
            "showbackground": true,
            "ticks": "",
            "zerolinecolor": "white"
           },
           "yaxis": {
            "backgroundcolor": "#E5ECF6",
            "gridcolor": "white",
            "gridwidth": 2,
            "linecolor": "white",
            "showbackground": true,
            "ticks": "",
            "zerolinecolor": "white"
           },
           "zaxis": {
            "backgroundcolor": "#E5ECF6",
            "gridcolor": "white",
            "gridwidth": 2,
            "linecolor": "white",
            "showbackground": true,
            "ticks": "",
            "zerolinecolor": "white"
           }
          },
          "shapedefaults": {
           "line": {
            "color": "#2a3f5f"
           }
          },
          "ternary": {
           "aaxis": {
            "gridcolor": "white",
            "linecolor": "white",
            "ticks": ""
           },
           "baxis": {
            "gridcolor": "white",
            "linecolor": "white",
            "ticks": ""
           },
           "bgcolor": "#E5ECF6",
           "caxis": {
            "gridcolor": "white",
            "linecolor": "white",
            "ticks": ""
           }
          },
          "title": {
           "x": 0.05
          },
          "xaxis": {
           "automargin": true,
           "gridcolor": "white",
           "linecolor": "white",
           "ticks": "",
           "title": {
            "standoff": 15
           },
           "zerolinecolor": "white",
           "zerolinewidth": 2
          },
          "yaxis": {
           "automargin": true,
           "gridcolor": "white",
           "linecolor": "white",
           "ticks": "",
           "title": {
            "standoff": 15
           },
           "zerolinecolor": "white",
           "zerolinewidth": 2
          }
         }
        },
        "title": {
         "text": "Zoom"
        }
       }
      }
     },
     "metadata": {}
    }
   ],
   "metadata": {}
  },
  {
   "cell_type": "markdown",
   "source": [
    "**Some observations:**\r\n",
    "\r\n",
    "* Chromaticity: Highest prices for monochrome, approx. same level for duochrome and trichrome, lowest prices for polychrome.\r\n",
    "* Frequency: No clear tendencies. Low seems to be clearly performing worst in terms of price; the other three are similar, on a slightly higher level.\r\n",
    "* Palette: High variance and low sample size, therefore no clear tendencies. Peninsula seems to be performing somewhat consistently better than for example Esker or Dune.\r\n",
    "* Structure: Irrelevant wrt to price level.\r\n",
    "* Style: The most seldom styles obviously have the largest variance, and they also command the highest prices. Huge variance and outliers for Charcoal and Prime. Prismatic the style with consistently lowest prices.\r\n",
    "* Zoom: Not much differentiation.\r\n",
    "\r\n",
    "Overall, **Style** has the biggest impact on price, with additional impact added by **Chromaticity** and **Palette**. The other traits (Frequency, Structure, Zoom) don't make a lot of a difference.\r\n"
   ],
   "metadata": {}
  },
  {
   "cell_type": "markdown",
   "source": [
    "## Digging deeper into Palette and Chromaticity traits\r\n",
    "\r\n",
    "Digging deeper into Palette, we find that the only traits that use the different palettes are Paletted and Prime. Thus, for most Styles, the Palette is irrelevant because there is only one:"
   ],
   "metadata": {}
  },
  {
   "cell_type": "code",
   "execution_count": 174,
   "source": [
    "_ = pd.crosstab(df.Style, df.Palette).plot(kind=\"bar\", stacked=True)"
   ],
   "outputs": [
    {
     "output_type": "display_data",
     "data": {
      "image/png": "[encoded data removed]",
      "text/plain": [
       "<Figure size 1440x720 with 1 Axes>"
      ]
     },
     "metadata": {
      "needs_background": "light"
     }
    }
   ],
   "metadata": {}
  },
  {
   "cell_type": "markdown",
   "source": [
    "The situation is similar, albeit a bit more nuanced with the Chromaticity trait. Many styles, espcially the seldom onces, only have one type of Chromaticity, Monochrome:"
   ],
   "metadata": {}
  },
  {
   "cell_type": "code",
   "execution_count": 175,
   "source": [
    "_ = pd.crosstab(df.Style, df.Chromaticity).plot(kind=\"bar\", stacked=True)"
   ],
   "outputs": [
    {
     "output_type": "display_data",
     "data": {
      "image/png": "[encoded data removed]",
      "text/plain": [
       "<Figure size 1440x720 with 1 Axes>"
      ]
     },
     "metadata": {
      "needs_background": "light"
     }
    }
   ],
   "metadata": {}
  },
  {
   "cell_type": "code",
   "execution_count": 176,
   "source": [
    "import plotly.express as px\r\n",
    "fig = px.box(df, x=\"Style\", y=\"Lastprice\", color=\"Chromaticity\")\r\n",
    "fig.show()\r\n"
   ],
   "outputs": [
    {
     "output_type": "display_data",
     "data": {
      "application/vnd.plotly.v1+json": {
       "config": {
        "plotlyServerURL": "https://plot.ly"
       },
       "data": [
        {
         "alignmentgroup": "True",
         "hovertemplate": "Chromaticity= Monochrome<br>Style=%{x}<br>Lastprice=%{y}<extra></extra>",
         "legendgroup": " Monochrome",
         "marker": {
          "color": "#636efa"
         },
         "name": " Monochrome",
         "notched": false,
         "offsetgroup": " Monochrome",
         "orientation": "v",
         "showlegend": true,
         "type": "box",
         "x": [
          " Charcoal",
          " Prime",
          " Charcoal",
          " Prime",
          " Charcoal",
          " Charcoal",
          " Charcoal",
          " Newsprint",
          " Prime",
          " Invert",
          " Newsprint",
          " Watercolour",
          " Newsprint",
          " Newsprint",
          " Invert",
          " Charcoal",
          " Screenprint",
          " Lino",
          " Screenprint",
          " Screenprint",
          " Screenprint",
          " Lino",
          " Screenprint",
          " Newsprint",
          " Procedural",
          " Procedural",
          " Screenprint",
          " Newsprint",
          " Invert",
          " Lino",
          " Watercolour",
          " Invert",
          " Procedural",
          " Screenprint",
          " Lino",
          " Procedural",
          " Procedural",
          " Newsprint",
          " Procedural",
          " Procedural",
          " Procedural",
          " Watercolour",
          " Watercolour",
          " Invert",
          " Newsprint",
          " Newsprint",
          " Newsprint",
          " Lino",
          " Invert",
          " Watercolour",
          " Lino",
          " Procedural",
          " Watercolour",
          " Procedural",
          " Invert",
          " Procedural",
          " Procedural",
          " Screenprint",
          " Prime",
          " Charcoal",
          " Screenprint",
          " Screenprint",
          " Charcoal",
          " Charcoal",
          " Watercolour",
          " Lino",
          " Procedural",
          " Procedural",
          " Procedural",
          " Watercolour",
          " Screenprint",
          " Lino",
          " Lino",
          " Prime",
          " Screenprint",
          " Screenprint",
          " Lino",
          " Screenprint",
          " Lino",
          " Screenprint",
          " Procedural",
          " Procedural",
          " Lino",
          " Procedural",
          " Watercolour",
          " Screenprint",
          " Watercolour",
          " Lino",
          " Procedural",
          " Procedural",
          " Procedural",
          " Watercolour",
          " Screenprint",
          " Lino",
          " Watercolour",
          " Invert",
          " Procedural",
          " Watercolour",
          " Watercolour",
          " Newsprint",
          " Prime",
          " Procedural",
          " Procedural",
          " Lino",
          " Lino",
          " Watercolour",
          " Lino",
          " Procedural",
          " Lino",
          " Invert",
          " Procedural",
          " Lino",
          " Screenprint",
          " Screenprint",
          " Screenprint",
          " Invert",
          " Prime",
          " Screenprint",
          " Newsprint",
          " Invert",
          " Procedural",
          " Invert",
          " Procedural",
          " Procedural",
          " Prime",
          " Invert",
          " Lino"
         ],
         "x0": " ",
         "xaxis": "x",
         "y": [
          200,
          200,
          175,
          145,
          80,
          60,
          60,
          50,
          50,
          48.888,
          48.88,
          48.57,
          42.69,
          40,
          39,
          35,
          35,
          35,
          32,
          30,
          30,
          30,
          26,
          25,
          24.69,
          24.5,
          24.069,
          24,
          24,
          22,
          22,
          22,
          21,
          20,
          20,
          19.5,
          19.2,
          18.9,
          18.88,
          18,
          18,
          16.5,
          15.9,
          15.59,
          15,
          15,
          15,
          14.9999,
          14.99,
          14,
          13.99,
          13.9,
          13.6969,
          13.5,
          13,
          13,
          12.88,
          11.99,
          11.99,
          11.82130112544606,
          10.49,
          10,
          10,
          9.8,
          9.5,
          8.99,
          8.98,
          8.89,
          8.85,
          8.6,
          8.5,
          8.49,
          8.4,
          8.2,
          7.85,
          7.8,
          7.5,
          7.5,
          7.4,
          7.39,
          7.24,
          7.1,
          7,
          6.9,
          6.9,
          6.75,
          6.64,
          6.3,
          6.25,
          5.93,
          5.8,
          5.6,
          null,
          null,
          null,
          null,
          null,
          null,
          null,
          null,
          null,
          null,
          null,
          null,
          null,
          null,
          null,
          null,
          null,
          null,
          null,
          null,
          null,
          null,
          null,
          null,
          null,
          null,
          null,
          null,
          null,
          null,
          null,
          null,
          null,
          null,
          null
         ],
         "y0": " ",
         "yaxis": "y"
        },
        {
         "alignmentgroup": "True",
         "hovertemplate": "Chromaticity= Trichrome<br>Style=%{x}<br>Lastprice=%{y}<extra></extra>",
         "legendgroup": " Trichrome",
         "marker": {
          "color": "#EF553B"
         },
         "name": " Trichrome",
         "notched": false,
         "offsetgroup": " Trichrome",
         "orientation": "v",
         "showlegend": true,
         "type": "box",
         "x": [
          " Topographic",
          " Paletted",
          " Topographic",
          " Gilded",
          " Gilded",
          " Gilded",
          " Gouache",
          " Topographic",
          " Paletted",
          " Gouache",
          " Paletted",
          " Paletted",
          " Gouache",
          " Paletted",
          " Gilded",
          " Gouache",
          " Gilded",
          " Paletted",
          " Paletted",
          " Gilded",
          " Paletted",
          " Paletted",
          " Polarized",
          " Topographic",
          " Paletted",
          " Paletted",
          " Paletted",
          " Paletted",
          " Paletted",
          " Gouache",
          " Paletted",
          " Paletted",
          " Paletted",
          " Paletted",
          " Paletted",
          " Paletted",
          " Paletted",
          " Paletted",
          " Gouache",
          " Paletted",
          " Topographic",
          " Paletted",
          " Gouache",
          " Paletted",
          " Gouache",
          " Gouache",
          " Paletted",
          " Paletted",
          " Paletted",
          " Polarized",
          " Gilded",
          " Paletted",
          " Gilded",
          " Paletted",
          " Paletted",
          " Gouache",
          " Paletted",
          " Gilded",
          " Paletted",
          " Polarized",
          " Paletted",
          " Paletted",
          " Gouache",
          " Paletted",
          " Gilded",
          " Paletted",
          " Gouache",
          " Gouache",
          " Paletted",
          " Paletted",
          " Gouache",
          " Paletted",
          " Paletted",
          " Gouache",
          " Paletted",
          " Paletted",
          " Paletted",
          " Gilded",
          " Gouache",
          " Paletted",
          " Polarized",
          " Paletted",
          " Paletted",
          " Gilded",
          " Paletted",
          " Paletted",
          " Gouache",
          " Paletted",
          " Gilded",
          " Paletted",
          " Paletted",
          " Gouache",
          " Gilded",
          " Gilded",
          " Gouache",
          " Paletted",
          " Paletted",
          " Paletted",
          " Gilded",
          " Gilded",
          " Paletted",
          " Paletted",
          " Paletted",
          " Paletted",
          " Paletted",
          " Paletted",
          " Gouache",
          " Gilded",
          " Paletted",
          " Paletted",
          " Paletted",
          " Paletted",
          " Paletted",
          " Gouache",
          " Paletted",
          " Paletted",
          " Paletted",
          " Paletted",
          " Gouache",
          " Paletted",
          " Paletted",
          " Gouache",
          " Paletted",
          " Paletted",
          " Paletted",
          " Paletted",
          " Gouache",
          " Paletted",
          " Gouache",
          " Polarized",
          " Gouache",
          " Gouache",
          " Paletted",
          " Gouache",
          " Paletted",
          " Paletted",
          " Paletted",
          " Paletted",
          " Gilded",
          " Polarized",
          " Paletted",
          " Gilded",
          " Paletted",
          " Paletted",
          " Paletted",
          " Polarized",
          " Paletted",
          " Paletted",
          " Gilded",
          " Paletted",
          " Paletted",
          " Paletted",
          " Paletted",
          " Gouache",
          " Paletted",
          " Paletted",
          " Paletted",
          " Paletted",
          " Paletted",
          " Gilded",
          " Paletted",
          " Paletted",
          " Paletted",
          " Paletted",
          " Paletted",
          " Paletted",
          " Paletted",
          " Paletted",
          " Polarized",
          " Gilded",
          " Paletted",
          " Paletted",
          " Paletted",
          " Paletted",
          " Paletted",
          " Paletted",
          " Gouache",
          " Paletted",
          " Paletted",
          " Paletted",
          " Gilded",
          " Paletted",
          " Paletted",
          " Paletted",
          " Topographic",
          " Paletted",
          " Paletted",
          " Paletted",
          " Gouache",
          " Paletted",
          " Polarized",
          " Paletted",
          " Paletted",
          " Paletted",
          " Gilded",
          " Paletted",
          " Paletted",
          " Gouache",
          " Paletted",
          " Paletted",
          " Paletted",
          " Gilded",
          " Gouache",
          " Paletted",
          " Paletted",
          " Paletted",
          " Paletted",
          " Gouache",
          " Paletted",
          " Paletted",
          " Paletted",
          " Paletted",
          " Polarized",
          " Gilded",
          " Topographic",
          " Paletted",
          " Gouache",
          " Paletted",
          " Gouache",
          " Gouache",
          " Paletted",
          " Paletted",
          " Paletted",
          " Polarized",
          " Topographic",
          " Paletted"
         ],
         "x0": " ",
         "xaxis": "x",
         "y": [
          66.666,
          45,
          32,
          29.8,
          27.77,
          27.5,
          26.5,
          25,
          24,
          24,
          24,
          22.5,
          22,
          22,
          21.99,
          21.5,
          21,
          20.69,
          20,
          20,
          20,
          20,
          20,
          19.99,
          19.969,
          19.69,
          19,
          19,
          18.95,
          18.88,
          18.5,
          18.1337,
          18,
          18,
          17.95,
          17,
          17,
          16.69,
          16.5,
          16,
          16,
          15.9,
          15.9,
          15.8,
          15,
          15,
          15,
          15,
          15,
          15,
          15,
          14.99,
          14.99,
          14.5,
          14,
          14,
          14,
          14,
          14,
          14,
          14,
          13.5,
          13.5,
          13.5,
          13.49,
          13,
          13,
          12.95,
          12.8,
          12.8,
          12.69,
          12.69,
          12.5,
          12.43,
          12,
          12,
          12,
          11.99,
          11.99,
          11.98,
          11.77,
          11.5,
          11.5,
          11.1111,
          11.11,
          11,
          11,
          11,
          11,
          11,
          11,
          11,
          10.99,
          10.795243773951906,
          9.999,
          9.99,
          9.99,
          9.9,
          9.9,
          9.888,
          9.8,
          9.8,
          9.8,
          9.8,
          9.69,
          9.69,
          9.69,
          9.6,
          9.5,
          9.5,
          9.5,
          9.25,
          9,
          9,
          8.8,
          8.69,
          8.6,
          8.5,
          8.25,
          8.1,
          8,
          8,
          8,
          8,
          8,
          7.99,
          7.98,
          7.9,
          7.9,
          7.9,
          7.7777,
          7.75,
          7.7,
          7.5,
          7.5,
          7.5,
          7.49,
          7.49,
          7.49,
          7.48,
          7.3,
          7.25,
          7.22,
          7.2,
          7.123,
          7.1,
          7,
          6.9,
          6.85,
          6.79,
          6.777,
          6.68,
          6.6,
          6.5,
          6.5,
          6.5,
          6.49,
          6.49,
          6.4,
          6.4,
          6.1,
          6,
          5.99,
          5.95,
          5.9,
          5.77,
          5.75,
          5.55,
          0.01,
          null,
          null,
          null,
          null,
          null,
          null,
          null,
          null,
          null,
          null,
          null,
          null,
          null,
          null,
          null,
          null,
          null,
          null,
          null,
          null,
          null,
          null,
          null,
          null,
          null,
          null,
          null,
          null,
          null,
          null,
          null,
          null,
          null,
          null,
          null,
          null,
          null,
          null,
          null,
          null,
          null,
          null,
          null,
          null,
          null,
          null,
          null,
          null,
          null,
          null,
          null,
          null,
          null,
          null,
          null,
          null,
          null
         ],
         "y0": " ",
         "yaxis": "y"
        },
        {
         "alignmentgroup": "True",
         "hovertemplate": "Chromaticity= Duochrome<br>Style=%{x}<br>Lastprice=%{y}<extra></extra>",
         "legendgroup": " Duochrome",
         "marker": {
          "color": "#00cc96"
         },
         "name": " Duochrome",
         "notched": false,
         "offsetgroup": " Duochrome",
         "orientation": "v",
         "showlegend": true,
         "type": "box",
         "x": [
          " Paletted",
          " Paletted",
          " Paletted",
          " Paletted",
          " Polarized",
          " Paletted",
          " Paletted",
          " Polarized",
          " Paletted",
          " Gouache",
          " Paletted",
          " Paletted",
          " Polarized",
          " Watercolour",
          " Paletted",
          " Paletted",
          " Paletted",
          " Paletted",
          " Paletted",
          " Paletted",
          " Paletted",
          " Paletted",
          " Paletted",
          " Paletted",
          " Paletted",
          " Paletted",
          " Watercolour",
          " Gouache",
          " Gouache",
          " Watercolour",
          " Gouache",
          " Paletted",
          " Paletted",
          " Paletted",
          " Paletted",
          " Paletted",
          " Gouache",
          " Paletted",
          " Paletted",
          " Paletted",
          " Paletted",
          " Paletted",
          " Paletted",
          " Paletted",
          " Gouache",
          " Polarized",
          " Paletted",
          " Paletted",
          " Gouache",
          " Paletted",
          " Paletted",
          " Polarized",
          " Polarized",
          " Paletted",
          " Gouache",
          " Polarized",
          " Paletted",
          " Paletted",
          " Paletted",
          " Paletted",
          " Paletted",
          " Paletted",
          " Paletted",
          " Procedural",
          " Paletted",
          " Paletted",
          " Paletted",
          " Polarized",
          " Paletted",
          " Polarized",
          " Paletted",
          " Paletted",
          " Paletted",
          " Paletted",
          " Paletted",
          " Paletted",
          " Paletted",
          " Procedural",
          " Paletted",
          " Paletted",
          " Paletted",
          " Gouache",
          " Procedural",
          " Polarized",
          " Watercolour",
          " Paletted",
          " Paletted",
          " Paletted",
          " Procedural",
          " Paletted",
          " Paletted",
          " Procedural",
          " Paletted",
          " Paletted",
          " Paletted",
          " Paletted",
          " Paletted",
          " Paletted",
          " Paletted",
          " Paletted",
          " Paletted",
          " Paletted",
          " Paletted",
          " Paletted",
          " Paletted",
          " Paletted",
          " Procedural",
          " Paletted",
          " Paletted",
          " Paletted",
          " Gouache",
          " Paletted",
          " Paletted",
          " Paletted",
          " Paletted",
          " Paletted",
          " Procedural",
          " Paletted",
          " Paletted",
          " Paletted",
          " Paletted",
          " Paletted",
          " Paletted",
          " Paletted",
          " Gouache",
          " Paletted",
          " Paletted",
          " Procedural",
          " Paletted",
          " Paletted",
          " Paletted",
          " Paletted",
          " Paletted",
          " Paletted",
          " Paletted",
          " Procedural",
          " Paletted",
          " Paletted",
          " Paletted",
          " Paletted",
          " Polarized",
          " Paletted",
          " Paletted",
          " Polarized",
          " Watercolour",
          " Polarized",
          " Paletted",
          " Paletted",
          " Paletted",
          " Paletted",
          " Paletted",
          " Procedural",
          " Paletted",
          " Paletted",
          " Paletted",
          " Paletted",
          " Paletted",
          " Paletted",
          " Polarized",
          " Gouache",
          " Paletted",
          " Paletted",
          " Paletted",
          " Paletted",
          " Gouache",
          " Paletted",
          " Gouache",
          " Gouache",
          " Paletted",
          " Paletted",
          " Paletted",
          " Procedural",
          " Paletted",
          " Paletted",
          " Paletted",
          " Paletted",
          " Paletted",
          " Paletted",
          " Paletted",
          " Paletted",
          " Paletted",
          " Paletted",
          " Paletted",
          " Procedural",
          " Polarized",
          " Paletted",
          " Paletted",
          " Procedural",
          " Paletted",
          " Paletted",
          " Paletted",
          " Paletted",
          " Gouache",
          " Paletted",
          " Paletted",
          " Procedural",
          " Procedural",
          " Paletted",
          " Paletted",
          " Paletted",
          " Paletted",
          " Paletted",
          " Paletted",
          " Paletted",
          " Gouache",
          " Procedural",
          " Polarized",
          " Paletted",
          " Paletted",
          " Paletted",
          " Paletted",
          " Paletted",
          " Procedural",
          " Paletted",
          " Paletted",
          " Paletted",
          " Paletted",
          " Paletted",
          " Procedural",
          " Paletted",
          " Paletted",
          " Procedural",
          " Polarized",
          " Gouache",
          " Paletted",
          " Paletted",
          " Paletted",
          " Paletted",
          " Paletted",
          " Paletted",
          " Paletted",
          " Paletted",
          " Paletted",
          " Paletted",
          " Polarized",
          " Paletted",
          " Gouache",
          " Paletted",
          " Procedural",
          " Gouache",
          " Paletted",
          " Paletted",
          " Paletted",
          " Paletted",
          " Procedural",
          " Paletted",
          " Gouache",
          " Paletted",
          " Paletted",
          " Paletted",
          " Paletted",
          " Paletted",
          " Paletted",
          " Paletted",
          " Gouache",
          " Paletted",
          " Gouache",
          " Paletted",
          " Procedural",
          " Paletted",
          " Paletted",
          " Paletted",
          " Paletted",
          " Paletted",
          " Paletted",
          " Paletted",
          " Paletted",
          " Paletted",
          " Paletted",
          " Paletted",
          " Paletted",
          " Paletted",
          " Paletted",
          " Paletted",
          " Paletted",
          " Procedural",
          " Paletted",
          " Paletted",
          " Paletted",
          " Watercolour",
          " Paletted",
          " Paletted",
          " Paletted",
          " Paletted",
          " Paletted",
          " Paletted",
          " Paletted",
          " Paletted",
          " Polarized",
          " Paletted",
          " Paletted",
          " Gouache",
          " Paletted",
          " Gouache",
          " Paletted",
          " Gouache",
          " Polarized",
          " Paletted",
          " Paletted",
          " Paletted",
          " Polarized",
          " Paletted",
          " Procedural",
          " Paletted",
          " Procedural",
          " Paletted",
          " Paletted",
          " Paletted",
          " Paletted",
          " Procedural",
          " Procedural",
          " Procedural",
          " Gouache",
          " Procedural",
          " Paletted",
          " Paletted",
          " Procedural",
          " Paletted",
          " Paletted",
          " Paletted",
          " Paletted",
          " Paletted",
          " Paletted",
          " Paletted",
          " Paletted",
          " Paletted",
          " Procedural",
          " Paletted",
          " Paletted",
          " Watercolour",
          " Paletted",
          " Paletted",
          " Paletted",
          " Paletted",
          " Paletted",
          " Paletted",
          " Paletted",
          " Paletted",
          " Gouache",
          " Paletted",
          " Paletted",
          " Paletted",
          " Paletted",
          " Paletted",
          " Paletted",
          " Gouache",
          " Paletted",
          " Paletted",
          " Paletted",
          " Paletted",
          " Paletted",
          " Paletted"
         ],
         "x0": " ",
         "xaxis": "x",
         "y": [
          35,
          35,
          30,
          30,
          30,
          29.91,
          28.94,
          28.88,
          28,
          28,
          27.5,
          27,
          26.9,
          25,
          25,
          25,
          25,
          24.9999,
          24,
          24,
          24,
          24,
          23.888,
          23.69,
          23.5,
          23.5,
          23.337,
          23,
          23,
          23,
          22.99,
          22.5,
          22.22,
          22.2,
          22,
          22,
          22,
          22,
          21.99,
          21.99,
          21.5,
          21.5,
          21,
          21,
          20,
          20,
          20,
          20,
          19.99992336795338,
          19.99,
          19.3,
          18.95,
          18.75,
          18.5,
          18.5,
          18.5,
          18,
          18,
          18,
          18,
          18,
          18,
          18,
          18,
          17.99,
          17.98,
          17.5,
          17.5,
          17.167257721296323,
          17,
          17,
          16.99,
          16,
          15.99,
          15.9,
          15.9,
          15,
          15,
          15,
          15,
          15,
          15,
          15,
          15,
          15,
          14.95,
          14.9,
          14.69,
          14,
          14,
          14,
          13.99,
          13.9,
          13.8,
          13.75,
          13.5,
          13.33,
          13.3,
          13.2,
          13,
          13,
          13,
          12.888,
          12.8,
          12.69,
          12.65,
          12.5,
          12.5,
          12.45,
          12.4,
          12.4,
          12.4,
          12.35,
          12.29,
          12,
          12,
          12,
          12,
          12,
          12,
          12,
          12,
          12,
          12,
          11.99,
          11.99,
          11.96,
          11.95,
          11.9,
          11.9,
          11.88,
          11.8,
          11.8,
          11.75,
          11.75,
          11.75,
          11.5,
          11.45,
          11.4,
          11.3,
          11.11,
          11.11,
          11.11,
          11,
          11,
          11,
          11,
          11,
          11,
          10.99,
          10.98,
          10.97,
          10.96,
          10.9,
          10.9,
          10.88,
          10.88,
          10.69,
          10.5,
          10.5,
          10.5,
          10.25,
          10,
          10,
          10,
          10,
          10,
          10,
          10,
          10,
          9.9999,
          9.99,
          9.99,
          9.88,
          9.8,
          9.69,
          9.5,
          9.4,
          9.1,
          9,
          9,
          9,
          8.99,
          8.99,
          8.88,
          8.85,
          8.8,
          8.79,
          8.7654,
          8.75,
          8.6,
          8.5,
          8.5,
          8.49,
          8.469,
          8.44,
          8.432,
          8.2,
          8.1,
          8,
          8,
          8,
          8,
          8,
          7.99,
          7.99,
          7.8,
          7.77,
          7.7,
          7.66,
          7.536953642384106,
          7.5,
          7.5,
          7.5,
          7.5,
          7.5,
          7.49,
          7.4888,
          7.4,
          7.4,
          7.35,
          7.3,
          7.25,
          7.25,
          7.25,
          7.1499,
          7.1,
          7.1,
          7.1,
          7,
          7,
          7,
          7,
          6.99,
          6.99,
          6.99,
          6.99,
          6.99,
          6.98,
          6.969,
          6.9,
          6.9,
          6.9,
          6.89,
          6.8,
          6.8,
          6.75,
          6.75,
          6.7,
          6.68,
          6.6,
          6.5,
          6.5,
          6.5,
          6.49,
          6.49,
          6.477,
          6.4,
          6.4,
          6.4,
          6.35,
          6.3,
          6.29,
          6.29,
          6.21,
          6.19,
          6,
          5.99,
          5.97,
          5.8888,
          5.85,
          5.85,
          5.8,
          5.8,
          5.75,
          5.7,
          5.7,
          5.7,
          5.6,
          5.6,
          5.555,
          5.5,
          5.5,
          null,
          null,
          null,
          null,
          null,
          null,
          null,
          null,
          null,
          null,
          null,
          null,
          null,
          null,
          null,
          null,
          null,
          null,
          null,
          null,
          null,
          null,
          null,
          null,
          null,
          null,
          null,
          null,
          null,
          null,
          null,
          null,
          null,
          null,
          null,
          null,
          null,
          null,
          null,
          null,
          null,
          null,
          null,
          null,
          null,
          null,
          null,
          null,
          null,
          null,
          null,
          null,
          null,
          null,
          null,
          null,
          null,
          null,
          null,
          null,
          null,
          null,
          null,
          null,
          null,
          null,
          null,
          null,
          null
         ],
         "y0": " ",
         "yaxis": "y"
        },
        {
         "alignmentgroup": "True",
         "hovertemplate": "Chromaticity= Polychrome<br>Style=%{x}<br>Lastprice=%{y}<extra></extra>",
         "legendgroup": " Polychrome",
         "marker": {
          "color": "#ab63fa"
         },
         "name": " Polychrome",
         "notched": false,
         "offsetgroup": " Polychrome",
         "orientation": "v",
         "showlegend": true,
         "type": "box",
         "x": [
          " Prismatic",
          " Prismatic",
          " Prismatic",
          " Prismatic",
          " Prismatic",
          " Gouache",
          " Prismatic",
          " Prismatic",
          " Gouache",
          " Gouache",
          " Prismatic",
          " Prismatic",
          " Prismatic",
          " Prismatic",
          " Prismatic",
          " Gouache",
          " Prismatic",
          " Prismatic",
          " Prismatic",
          " Prismatic",
          " Prismatic",
          " Prismatic",
          " Prismatic",
          " Prismatic",
          " Prismatic",
          " Prismatic",
          " Prismatic",
          " Prismatic",
          " Gouache",
          " Prismatic",
          " Prismatic",
          " Prismatic",
          " Prismatic",
          " Gouache",
          " Prismatic",
          " Gouache",
          " Prismatic",
          " Gouache",
          " Gouache",
          " Prismatic",
          " Prismatic",
          " Gouache",
          " Prismatic",
          " Gouache",
          " Gouache",
          " Gouache",
          " Prismatic",
          " Prismatic",
          " Prismatic",
          " Prismatic",
          " Prismatic",
          " Prismatic",
          " Prismatic",
          " Prismatic",
          " Prismatic",
          " Prismatic",
          " Prismatic",
          " Prismatic",
          " Prismatic",
          " Prismatic",
          " Prismatic",
          " Gouache",
          " Prismatic",
          " Prismatic",
          " Prismatic",
          " Gouache",
          " Gouache",
          " Prismatic",
          " Prismatic",
          " Prismatic",
          " Prismatic",
          " Prismatic",
          " Prismatic",
          " Prismatic",
          " Prismatic",
          " Gouache",
          " Prismatic",
          " Prismatic",
          " Prismatic",
          " Prismatic",
          " Prismatic",
          " Prismatic",
          " Prismatic",
          " Prismatic",
          " Prismatic",
          " Gouache",
          " Prismatic",
          " Gouache",
          " Prismatic",
          " Prismatic",
          " Prismatic",
          " Gouache",
          " Prismatic",
          " Prismatic",
          " Prismatic",
          " Gouache",
          " Prismatic",
          " Prismatic",
          " Prismatic",
          " Prismatic",
          " Prismatic",
          " Prismatic",
          " Gouache",
          " Prismatic",
          " Prismatic",
          " Prismatic",
          " Prismatic",
          " Prismatic",
          " Prismatic",
          " Prismatic",
          " Prismatic",
          " Prismatic",
          " Prismatic",
          " Prismatic",
          " Gouache",
          " Prismatic",
          " Prismatic",
          " Gouache",
          " Prismatic",
          " Prismatic",
          " Prismatic",
          " Prismatic",
          " Prismatic",
          " Prismatic",
          " Prismatic",
          " Prismatic",
          " Prismatic",
          " Prismatic",
          " Prismatic",
          " Prismatic",
          " Gouache",
          " Prismatic",
          " Prismatic",
          " Prismatic",
          " Gouache",
          " Prismatic",
          " Prismatic",
          " Prismatic",
          " Prismatic",
          " Prismatic",
          " Prismatic",
          " Prismatic",
          " Prismatic",
          " Prismatic",
          " Prismatic",
          " Prismatic",
          " Prismatic",
          " Prismatic",
          " Prismatic",
          " Prismatic",
          " Prismatic",
          " Prismatic",
          " Prismatic",
          " Prismatic",
          " Prismatic",
          " Prismatic",
          " Prismatic",
          " Prismatic",
          " Prismatic",
          " Prismatic",
          " Prismatic",
          " Prismatic",
          " Prismatic",
          " Prismatic",
          " Prismatic",
          " Prismatic",
          " Prismatic",
          " Prismatic",
          " Prismatic",
          " Prismatic",
          " Prismatic",
          " Prismatic",
          " Prismatic",
          " Prismatic",
          " Prismatic",
          " Prismatic",
          " Prismatic",
          " Prismatic",
          " Prismatic",
          " Prismatic",
          " Prismatic",
          " Prismatic",
          " Prismatic",
          " Prismatic",
          " Prismatic",
          " Prismatic",
          " Prismatic",
          " Prismatic",
          " Prismatic",
          " Prismatic",
          " Prismatic",
          " Prismatic",
          " Prismatic",
          " Prismatic",
          " Prismatic",
          " Prismatic",
          " Prismatic",
          " Prismatic",
          " Prismatic",
          " Prismatic",
          " Gouache",
          " Prismatic",
          " Prismatic",
          " Prismatic",
          " Prismatic",
          " Prismatic",
          " Prismatic",
          " Prismatic",
          " Gouache",
          " Prismatic",
          " Prismatic",
          " Prismatic",
          " Prismatic",
          " Prismatic",
          " Prismatic",
          " Prismatic",
          " Prismatic",
          " Prismatic",
          " Prismatic",
          " Prismatic",
          " Prismatic",
          " Prismatic",
          " Prismatic",
          " Prismatic",
          " Gouache",
          " Prismatic",
          " Prismatic",
          " Prismatic",
          " Prismatic",
          " Prismatic",
          " Prismatic",
          " Prismatic",
          " Gouache",
          " Prismatic",
          " Prismatic",
          " Gouache",
          " Prismatic",
          " Prismatic",
          " Prismatic",
          " Prismatic",
          " Prismatic",
          " Prismatic",
          " Prismatic",
          " Prismatic",
          " Prismatic",
          " Prismatic",
          " Prismatic",
          " Prismatic",
          " Prismatic",
          " Prismatic",
          " Prismatic",
          " Prismatic",
          " Prismatic",
          " Prismatic",
          " Prismatic",
          " Prismatic",
          " Prismatic",
          " Prismatic",
          " Prismatic",
          " Prismatic",
          " Prismatic",
          " Prismatic",
          " Prismatic",
          " Prismatic",
          " Prismatic",
          " Prismatic",
          " Prismatic",
          " Prismatic",
          " Prismatic",
          " Prismatic",
          " Prismatic",
          " Prismatic",
          " Prismatic",
          " Prismatic",
          " Prismatic",
          " Prismatic",
          " Prismatic",
          " Prismatic",
          " Prismatic",
          " Gouache",
          " Prismatic",
          " Prismatic",
          " Prismatic",
          " Gouache",
          " Prismatic",
          " Prismatic",
          " Prismatic",
          " Prismatic",
          " Prismatic",
          " Prismatic",
          " Prismatic",
          " Prismatic",
          " Prismatic",
          " Prismatic",
          " Prismatic"
         ],
         "x0": " ",
         "xaxis": "x",
         "y": [
          33,
          26,
          25.4,
          25,
          23.99,
          23.69,
          23,
          23,
          22.99,
          22.5,
          22.22,
          22.22,
          22,
          21.9,
          21.5,
          21,
          20.9,
          20.75,
          20.69,
          20,
          20,
          20,
          19.99,
          19.5,
          19.5,
          19,
          18.5,
          18.5,
          18,
          18,
          18,
          17.9,
          17.5,
          17.5,
          17.43,
          17,
          16.942,
          16.5,
          16.5,
          16.25,
          16,
          15.89,
          15.5,
          15,
          15,
          15,
          14.8869,
          14.88,
          14.6969,
          14.6969,
          14.6,
          14.5,
          14.216,
          14.2069,
          13.888,
          13.85,
          13.69,
          13.69,
          13,
          13,
          12.99,
          12.95,
          12.94,
          12.75,
          12.5,
          12.5,
          12.5,
          12.5,
          12,
          12,
          12,
          12,
          12,
          12,
          12,
          12,
          12,
          12,
          11.99,
          11.98,
          11.95,
          11.9,
          11.88,
          11.85,
          11.5,
          11.5,
          11.5,
          11.5,
          11.5,
          11.25,
          11.11,
          11.11,
          11,
          11,
          11,
          10.97,
          10.7,
          10.5,
          10.4,
          10.4,
          10,
          10,
          10,
          10,
          9.99,
          9.98,
          9.9,
          9.9,
          9.9,
          9.9,
          9.9,
          9.88,
          9.8,
          9.8,
          9.8,
          9.7,
          9.5,
          9.5,
          9.3,
          9.1,
          9,
          9,
          9,
          9,
          8.98,
          8.88,
          8.88,
          8.88,
          8.8,
          8.8,
          8.8,
          8.79,
          8.75,
          8.75,
          8.7,
          8.5,
          8.5,
          8.5,
          8.4,
          8.35,
          8.2,
          8,
          8,
          8,
          8,
          8,
          8,
          8,
          8,
          8,
          7.9999,
          7.99,
          7.99,
          7.99,
          7.99,
          7.9,
          7.9,
          7.85,
          7.8,
          7.77,
          7.75,
          7.7,
          7.7,
          7.7,
          7.5,
          7.5,
          7.5,
          7.5,
          7.5,
          7.5,
          7.4999,
          7.49,
          7.49,
          7.49,
          7.47,
          7.45,
          7.45,
          7.44,
          7.35,
          7.3,
          7.25,
          7.25,
          7.2,
          7.2,
          7.2,
          7.1111,
          7.1,
          7.095,
          7.069,
          7,
          6.99,
          6.99,
          6.99,
          6.99,
          6.97,
          6.95,
          6.9,
          6.89,
          6.89,
          6.88,
          6.88,
          6.8,
          6.78,
          6.72,
          6.69,
          6.66,
          6.66,
          6.6,
          6.5,
          6.5,
          6.5,
          6.469,
          6.4,
          6.4,
          6.39,
          6.39,
          6.33,
          6.29,
          6.23,
          6.1,
          6,
          6,
          6,
          6,
          5.99,
          5.97,
          5.9,
          5.9,
          5.869,
          5.85,
          5.8469,
          5.8,
          5.8,
          5.8,
          5.75,
          5.69,
          null,
          null,
          null,
          null,
          null,
          null,
          null,
          null,
          null,
          null,
          null,
          null,
          null,
          null,
          null,
          null,
          null,
          null,
          null,
          null,
          null,
          null,
          null,
          null,
          null,
          null,
          null,
          null,
          null,
          null,
          null,
          null,
          null,
          null,
          null,
          null,
          null,
          null,
          null,
          null,
          null,
          null,
          null,
          null,
          null,
          null,
          null,
          null,
          null,
          null,
          null,
          null,
          null,
          null,
          null,
          null,
          null,
          null,
          null
         ],
         "y0": " ",
         "yaxis": "y"
        }
       ],
       "layout": {
        "boxmode": "group",
        "legend": {
         "title": {
          "text": "Chromaticity"
         },
         "tracegroupgap": 0
        },
        "margin": {
         "t": 60
        },
        "template": {
         "data": {
          "bar": [
           {
            "error_x": {
             "color": "#2a3f5f"
            },
            "error_y": {
             "color": "#2a3f5f"
            },
            "marker": {
             "line": {
              "color": "#E5ECF6",
              "width": 0.5
             },
             "pattern": {
              "fillmode": "overlay",
              "size": 10,
              "solidity": 0.2
             }
            },
            "type": "bar"
           }
          ],
          "barpolar": [
           {
            "marker": {
             "line": {
              "color": "#E5ECF6",
              "width": 0.5
             },
             "pattern": {
              "fillmode": "overlay",
              "size": 10,
              "solidity": 0.2
             }
            },
            "type": "barpolar"
           }
          ],
          "carpet": [
           {
            "aaxis": {
             "endlinecolor": "#2a3f5f",
             "gridcolor": "white",
             "linecolor": "white",
             "minorgridcolor": "white",
             "startlinecolor": "#2a3f5f"
            },
            "baxis": {
             "endlinecolor": "#2a3f5f",
             "gridcolor": "white",
             "linecolor": "white",
             "minorgridcolor": "white",
             "startlinecolor": "#2a3f5f"
            },
            "type": "carpet"
           }
          ],
          "choropleth": [
           {
            "colorbar": {
             "outlinewidth": 0,
             "ticks": ""
            },
            "type": "choropleth"
           }
          ],
          "contour": [
           {
            "colorbar": {
             "outlinewidth": 0,
             "ticks": ""
            },
            "colorscale": [
             [
              0,
              "#0d0887"
             ],
             [
              0.1111111111111111,
              "#46039f"
             ],
             [
              0.2222222222222222,
              "#7201a8"
             ],
             [
              0.3333333333333333,
              "#9c179e"
             ],
             [
              0.4444444444444444,
              "#bd3786"
             ],
             [
              0.5555555555555556,
              "#d8576b"
             ],
             [
              0.6666666666666666,
              "#ed7953"
             ],
             [
              0.7777777777777778,
              "#fb9f3a"
             ],
             [
              0.8888888888888888,
              "#fdca26"
             ],
             [
              1,
              "#f0f921"
             ]
            ],
            "type": "contour"
           }
          ],
          "contourcarpet": [
           {
            "colorbar": {
             "outlinewidth": 0,
             "ticks": ""
            },
            "type": "contourcarpet"
           }
          ],
          "heatmap": [
           {
            "colorbar": {
             "outlinewidth": 0,
             "ticks": ""
            },
            "colorscale": [
             [
              0,
              "#0d0887"
             ],
             [
              0.1111111111111111,
              "#46039f"
             ],
             [
              0.2222222222222222,
              "#7201a8"
             ],
             [
              0.3333333333333333,
              "#9c179e"
             ],
             [
              0.4444444444444444,
              "#bd3786"
             ],
             [
              0.5555555555555556,
              "#d8576b"
             ],
             [
              0.6666666666666666,
              "#ed7953"
             ],
             [
              0.7777777777777778,
              "#fb9f3a"
             ],
             [
              0.8888888888888888,
              "#fdca26"
             ],
             [
              1,
              "#f0f921"
             ]
            ],
            "type": "heatmap"
           }
          ],
          "heatmapgl": [
           {
            "colorbar": {
             "outlinewidth": 0,
             "ticks": ""
            },
            "colorscale": [
             [
              0,
              "#0d0887"
             ],
             [
              0.1111111111111111,
              "#46039f"
             ],
             [
              0.2222222222222222,
              "#7201a8"
             ],
             [
              0.3333333333333333,
              "#9c179e"
             ],
             [
              0.4444444444444444,
              "#bd3786"
             ],
             [
              0.5555555555555556,
              "#d8576b"
             ],
             [
              0.6666666666666666,
              "#ed7953"
             ],
             [
              0.7777777777777778,
              "#fb9f3a"
             ],
             [
              0.8888888888888888,
              "#fdca26"
             ],
             [
              1,
              "#f0f921"
             ]
            ],
            "type": "heatmapgl"
           }
          ],
          "histogram": [
           {
            "marker": {
             "pattern": {
              "fillmode": "overlay",
              "size": 10,
              "solidity": 0.2
             }
            },
            "type": "histogram"
           }
          ],
          "histogram2d": [
           {
            "colorbar": {
             "outlinewidth": 0,
             "ticks": ""
            },
            "colorscale": [
             [
              0,
              "#0d0887"
             ],
             [
              0.1111111111111111,
              "#46039f"
             ],
             [
              0.2222222222222222,
              "#7201a8"
             ],
             [
              0.3333333333333333,
              "#9c179e"
             ],
             [
              0.4444444444444444,
              "#bd3786"
             ],
             [
              0.5555555555555556,
              "#d8576b"
             ],
             [
              0.6666666666666666,
              "#ed7953"
             ],
             [
              0.7777777777777778,
              "#fb9f3a"
             ],
             [
              0.8888888888888888,
              "#fdca26"
             ],
             [
              1,
              "#f0f921"
             ]
            ],
            "type": "histogram2d"
           }
          ],
          "histogram2dcontour": [
           {
            "colorbar": {
             "outlinewidth": 0,
             "ticks": ""
            },
            "colorscale": [
             [
              0,
              "#0d0887"
             ],
             [
              0.1111111111111111,
              "#46039f"
             ],
             [
              0.2222222222222222,
              "#7201a8"
             ],
             [
              0.3333333333333333,
              "#9c179e"
             ],
             [
              0.4444444444444444,
              "#bd3786"
             ],
             [
              0.5555555555555556,
              "#d8576b"
             ],
             [
              0.6666666666666666,
              "#ed7953"
             ],
             [
              0.7777777777777778,
              "#fb9f3a"
             ],
             [
              0.8888888888888888,
              "#fdca26"
             ],
             [
              1,
              "#f0f921"
             ]
            ],
            "type": "histogram2dcontour"
           }
          ],
          "mesh3d": [
           {
            "colorbar": {
             "outlinewidth": 0,
             "ticks": ""
            },
            "type": "mesh3d"
           }
          ],
          "parcoords": [
           {
            "line": {
             "colorbar": {
              "outlinewidth": 0,
              "ticks": ""
             }
            },
            "type": "parcoords"
           }
          ],
          "pie": [
           {
            "automargin": true,
            "type": "pie"
           }
          ],
          "scatter": [
           {
            "marker": {
             "colorbar": {
              "outlinewidth": 0,
              "ticks": ""
             }
            },
            "type": "scatter"
           }
          ],
          "scatter3d": [
           {
            "line": {
             "colorbar": {
              "outlinewidth": 0,
              "ticks": ""
             }
            },
            "marker": {
             "colorbar": {
              "outlinewidth": 0,
              "ticks": ""
             }
            },
            "type": "scatter3d"
           }
          ],
          "scattercarpet": [
           {
            "marker": {
             "colorbar": {
              "outlinewidth": 0,
              "ticks": ""
             }
            },
            "type": "scattercarpet"
           }
          ],
          "scattergeo": [
           {
            "marker": {
             "colorbar": {
              "outlinewidth": 0,
              "ticks": ""
             }
            },
            "type": "scattergeo"
           }
          ],
          "scattergl": [
           {
            "marker": {
             "colorbar": {
              "outlinewidth": 0,
              "ticks": ""
             }
            },
            "type": "scattergl"
           }
          ],
          "scattermapbox": [
           {
            "marker": {
             "colorbar": {
              "outlinewidth": 0,
              "ticks": ""
             }
            },
            "type": "scattermapbox"
           }
          ],
          "scatterpolar": [
           {
            "marker": {
             "colorbar": {
              "outlinewidth": 0,
              "ticks": ""
             }
            },
            "type": "scatterpolar"
           }
          ],
          "scatterpolargl": [
           {
            "marker": {
             "colorbar": {
              "outlinewidth": 0,
              "ticks": ""
             }
            },
            "type": "scatterpolargl"
           }
          ],
          "scatterternary": [
           {
            "marker": {
             "colorbar": {
              "outlinewidth": 0,
              "ticks": ""
             }
            },
            "type": "scatterternary"
           }
          ],
          "surface": [
           {
            "colorbar": {
             "outlinewidth": 0,
             "ticks": ""
            },
            "colorscale": [
             [
              0,
              "#0d0887"
             ],
             [
              0.1111111111111111,
              "#46039f"
             ],
             [
              0.2222222222222222,
              "#7201a8"
             ],
             [
              0.3333333333333333,
              "#9c179e"
             ],
             [
              0.4444444444444444,
              "#bd3786"
             ],
             [
              0.5555555555555556,
              "#d8576b"
             ],
             [
              0.6666666666666666,
              "#ed7953"
             ],
             [
              0.7777777777777778,
              "#fb9f3a"
             ],
             [
              0.8888888888888888,
              "#fdca26"
             ],
             [
              1,
              "#f0f921"
             ]
            ],
            "type": "surface"
           }
          ],
          "table": [
           {
            "cells": {
             "fill": {
              "color": "#EBF0F8"
             },
             "line": {
              "color": "white"
             }
            },
            "header": {
             "fill": {
              "color": "#C8D4E3"
             },
             "line": {
              "color": "white"
             }
            },
            "type": "table"
           }
          ]
         },
         "layout": {
          "annotationdefaults": {
           "arrowcolor": "#2a3f5f",
           "arrowhead": 0,
           "arrowwidth": 1
          },
          "autotypenumbers": "strict",
          "coloraxis": {
           "colorbar": {
            "outlinewidth": 0,
            "ticks": ""
           }
          },
          "colorscale": {
           "diverging": [
            [
             0,
             "#8e0152"
            ],
            [
             0.1,
             "#c51b7d"
            ],
            [
             0.2,
             "#de77ae"
            ],
            [
             0.3,
             "#f1b6da"
            ],
            [
             0.4,
             "#fde0ef"
            ],
            [
             0.5,
             "#f7f7f7"
            ],
            [
             0.6,
             "#e6f5d0"
            ],
            [
             0.7,
             "#b8e186"
            ],
            [
             0.8,
             "#7fbc41"
            ],
            [
             0.9,
             "#4d9221"
            ],
            [
             1,
             "#276419"
            ]
           ],
           "sequential": [
            [
             0,
             "#0d0887"
            ],
            [
             0.1111111111111111,
             "#46039f"
            ],
            [
             0.2222222222222222,
             "#7201a8"
            ],
            [
             0.3333333333333333,
             "#9c179e"
            ],
            [
             0.4444444444444444,
             "#bd3786"
            ],
            [
             0.5555555555555556,
             "#d8576b"
            ],
            [
             0.6666666666666666,
             "#ed7953"
            ],
            [
             0.7777777777777778,
             "#fb9f3a"
            ],
            [
             0.8888888888888888,
             "#fdca26"
            ],
            [
             1,
             "#f0f921"
            ]
           ],
           "sequentialminus": [
            [
             0,
             "#0d0887"
            ],
            [
             0.1111111111111111,
             "#46039f"
            ],
            [
             0.2222222222222222,
             "#7201a8"
            ],
            [
             0.3333333333333333,
             "#9c179e"
            ],
            [
             0.4444444444444444,
             "#bd3786"
            ],
            [
             0.5555555555555556,
             "#d8576b"
            ],
            [
             0.6666666666666666,
             "#ed7953"
            ],
            [
             0.7777777777777778,
             "#fb9f3a"
            ],
            [
             0.8888888888888888,
             "#fdca26"
            ],
            [
             1,
             "#f0f921"
            ]
           ]
          },
          "colorway": [
           "#636efa",
           "#EF553B",
           "#00cc96",
           "#ab63fa",
           "#FFA15A",
           "#19d3f3",
           "#FF6692",
           "#B6E880",
           "#FF97FF",
           "#FECB52"
          ],
          "font": {
           "color": "#2a3f5f"
          },
          "geo": {
           "bgcolor": "white",
           "lakecolor": "white",
           "landcolor": "#E5ECF6",
           "showlakes": true,
           "showland": true,
           "subunitcolor": "white"
          },
          "hoverlabel": {
           "align": "left"
          },
          "hovermode": "closest",
          "mapbox": {
           "style": "light"
          },
          "paper_bgcolor": "white",
          "plot_bgcolor": "#E5ECF6",
          "polar": {
           "angularaxis": {
            "gridcolor": "white",
            "linecolor": "white",
            "ticks": ""
           },
           "bgcolor": "#E5ECF6",
           "radialaxis": {
            "gridcolor": "white",
            "linecolor": "white",
            "ticks": ""
           }
          },
          "scene": {
           "xaxis": {
            "backgroundcolor": "#E5ECF6",
            "gridcolor": "white",
            "gridwidth": 2,
            "linecolor": "white",
            "showbackground": true,
            "ticks": "",
            "zerolinecolor": "white"
           },
           "yaxis": {
            "backgroundcolor": "#E5ECF6",
            "gridcolor": "white",
            "gridwidth": 2,
            "linecolor": "white",
            "showbackground": true,
            "ticks": "",
            "zerolinecolor": "white"
           },
           "zaxis": {
            "backgroundcolor": "#E5ECF6",
            "gridcolor": "white",
            "gridwidth": 2,
            "linecolor": "white",
            "showbackground": true,
            "ticks": "",
            "zerolinecolor": "white"
           }
          },
          "shapedefaults": {
           "line": {
            "color": "#2a3f5f"
           }
          },
          "ternary": {
           "aaxis": {
            "gridcolor": "white",
            "linecolor": "white",
            "ticks": ""
           },
           "baxis": {
            "gridcolor": "white",
            "linecolor": "white",
            "ticks": ""
           },
           "bgcolor": "#E5ECF6",
           "caxis": {
            "gridcolor": "white",
            "linecolor": "white",
            "ticks": ""
           }
          },
          "title": {
           "x": 0.05
          },
          "xaxis": {
           "automargin": true,
           "gridcolor": "white",
           "linecolor": "white",
           "ticks": "",
           "title": {
            "standoff": 15
           },
           "zerolinecolor": "white",
           "zerolinewidth": 2
          },
          "yaxis": {
           "automargin": true,
           "gridcolor": "white",
           "linecolor": "white",
           "ticks": "",
           "title": {
            "standoff": 15
           },
           "zerolinecolor": "white",
           "zerolinewidth": 2
          }
         }
        },
        "xaxis": {
         "anchor": "y",
         "domain": [
          0,
          1
         ],
         "title": {
          "text": "Style"
         }
        },
        "yaxis": {
         "anchor": "x",
         "domain": [
          0,
          1
         ],
         "title": {
          "text": "Lastprice"
         }
        }
       }
      }
     },
     "metadata": {}
    }
   ],
   "metadata": {}
  },
  {
   "cell_type": "code",
   "execution_count": 155,
   "source": [
    "import plotly.graph_objects as go\r\n",
    "\r\n",
    "fig = go.Figure()\r\n",
    "for style in df[\"Style\"].unique():\r\n",
    "    fig.add_trace(\r\n",
    "        go.Box(\r\n",
    "            y=df[df.Style == style].Lastprice.values,\r\n",
    "            name=style,\r\n",
    "            boxpoints=\"all\",\r\n",
    "            jitter=0.2,\r\n",
    "            whiskerwidth=0.2,\r\n",
    "            marker_size=2,\r\n",
    "            line_width=1,\r\n",
    "        )\r\n",
    "    )\r\n",
    "fig.show()\r\n"
   ],
   "outputs": [
    {
     "output_type": "display_data",
     "data": {
      "application/vnd.plotly.v1+json": {
       "config": {
        "plotlyServerURL": "https://plot.ly"
       },
       "data": [
        {
         "boxpoints": "all",
         "jitter": 0.2,
         "line": {
          "width": 1
         },
         "marker": {
          "size": 2
         },
         "name": " Charcoal",
         "type": "box",
         "whiskerwidth": 0.2,
         "y": [
          200,
          175,
          80,
          60,
          60,
          35,
          11.82130112544606,
          10,
          9.8
         ]
        },
        {
         "boxpoints": "all",
         "jitter": 0.2,
         "line": {
          "width": 1
         },
         "marker": {
          "size": 2
         },
         "name": " Prime",
         "type": "box",
         "whiskerwidth": 0.2,
         "y": [
          200,
          145,
          50,
          11.99,
          8.2,
          null,
          null,
          null
         ]
        },
        {
         "boxpoints": "all",
         "jitter": 0.2,
         "line": {
          "width": 1
         },
         "marker": {
          "size": 2
         },
         "name": " Topographic",
         "type": "box",
         "whiskerwidth": 0.2,
         "y": [
          66.666,
          32,
          25,
          19.99,
          16,
          null,
          null,
          null
         ]
        },
        {
         "boxpoints": "all",
         "jitter": 0.2,
         "line": {
          "width": 1
         },
         "marker": {
          "size": 2
         },
         "name": " Newsprint",
         "type": "box",
         "whiskerwidth": 0.2,
         "y": [
          50,
          48.88,
          42.69,
          40,
          25,
          24,
          18.9,
          15,
          15,
          15,
          null,
          null
         ]
        },
        {
         "boxpoints": "all",
         "jitter": 0.2,
         "line": {
          "width": 1
         },
         "marker": {
          "size": 2
         },
         "name": " Invert",
         "type": "box",
         "whiskerwidth": 0.2,
         "y": [
          48.888,
          39,
          24,
          22,
          15.59,
          14.99,
          13,
          null,
          null,
          null,
          null,
          null,
          null
         ]
        },
        {
         "boxpoints": "all",
         "jitter": 0.2,
         "line": {
          "width": 1
         },
         "marker": {
          "size": 2
         },
         "name": " Watercolour",
         "type": "box",
         "whiskerwidth": 0.2,
         "y": [
          48.57,
          25,
          23.337,
          23,
          22,
          16.5,
          15.9,
          15,
          14,
          13.6969,
          11,
          9.5,
          8.6,
          6.9,
          6.64,
          5.6,
          5.6,
          null,
          null,
          null,
          null,
          null
         ]
        },
        {
         "boxpoints": "all",
         "jitter": 0.2,
         "line": {
          "width": 1
         },
         "marker": {
          "size": 2
         },
         "name": " Paletted",
         "type": "box",
         "whiskerwidth": 0.2,
         "y": [
          45,
          35,
          35,
          30,
          30,
          29.91,
          28.94,
          28,
          27.5,
          27,
          25,
          25,
          25,
          24.9999,
          24,
          24,
          24,
          24,
          24,
          24,
          23.888,
          23.69,
          23.5,
          23.5,
          22.5,
          22.5,
          22.22,
          22.2,
          22,
          22,
          22,
          22,
          21.99,
          21.99,
          21.5,
          21.5,
          21,
          21,
          20.69,
          20,
          20,
          20,
          20,
          20,
          19.99,
          19.969,
          19.69,
          19.3,
          19,
          19,
          18.95,
          18.5,
          18.5,
          18.1337,
          18,
          18,
          18,
          18,
          18,
          18,
          18,
          18,
          18,
          17.99,
          17.98,
          17.95,
          17.5,
          17.167257721296323,
          17,
          17,
          17,
          16.99,
          16.69,
          16,
          16,
          15.99,
          15.9,
          15.9,
          15.9,
          15.8,
          15,
          15,
          15,
          15,
          15,
          15,
          15,
          14.99,
          14.95,
          14.9,
          14.69,
          14.5,
          14,
          14,
          14,
          14,
          14,
          14,
          13.9,
          13.8,
          13.75,
          13.5,
          13.5,
          13.5,
          13.33,
          13.3,
          13.2,
          13,
          13,
          13,
          13,
          12.888,
          12.8,
          12.8,
          12.8,
          12.69,
          12.69,
          12.65,
          12.5,
          12.5,
          12.45,
          12.4,
          12.4,
          12.35,
          12.29,
          12,
          12,
          12,
          12,
          12,
          12,
          12,
          12,
          12,
          12,
          12,
          12,
          11.99,
          11.98,
          11.96,
          11.9,
          11.9,
          11.88,
          11.8,
          11.8,
          11.75,
          11.75,
          11.5,
          11.5,
          11.5,
          11.45,
          11.4,
          11.3,
          11.11,
          11.11,
          11.11,
          11,
          11,
          11,
          11,
          11,
          11,
          11,
          10.99,
          10.98,
          10.96,
          10.9,
          10.9,
          10.88,
          10.88,
          10.69,
          10.5,
          10.25,
          10,
          10,
          10,
          10,
          10,
          9.9999,
          9.99,
          9.99,
          9.99,
          9.9,
          9.88,
          9.8,
          9.8,
          9.8,
          9.8,
          9.8,
          9.69,
          9.69,
          9.69,
          9.5,
          9.5,
          9.5,
          9.5,
          9.4,
          9.25,
          9.1,
          9,
          9,
          9,
          9,
          8.99,
          8.85,
          8.8,
          8.8,
          8.7654,
          8.75,
          8.69,
          8.6,
          8.6,
          8.5,
          8.5,
          8.49,
          8.469,
          8.2,
          8.1,
          8.1,
          8,
          8,
          8,
          8,
          8,
          8,
          8,
          8,
          8,
          7.99,
          7.9,
          7.77,
          7.7,
          7.7,
          7.66,
          7.536953642384106,
          7.5,
          7.5,
          7.5,
          7.5,
          7.5,
          7.5,
          7.49,
          7.49,
          7.49,
          7.4888,
          7.4,
          7.35,
          7.3,
          7.25,
          7.22,
          7.2,
          7.1499,
          7.123,
          7.1,
          7.1,
          7.1,
          7,
          7,
          7,
          7,
          7,
          6.99,
          6.99,
          6.99,
          6.9,
          6.9,
          6.9,
          6.9,
          6.89,
          6.8,
          6.79,
          6.777,
          6.75,
          6.7,
          6.68,
          6.68,
          6.6,
          6.6,
          6.5,
          6.5,
          6.5,
          6.5,
          6.5,
          6.49,
          6.49,
          6.49,
          6.4,
          6.4,
          6.4,
          6.35,
          6.3,
          6.29,
          6.29,
          6.21,
          6.19,
          6.1,
          6,
          6,
          5.99,
          5.99,
          5.97,
          5.95,
          5.9,
          5.8888,
          5.85,
          5.85,
          5.8,
          5.8,
          5.77,
          5.75,
          5.75,
          5.7,
          5.7,
          5.6,
          5.555,
          5.55,
          5.5,
          5.5,
          null,
          null,
          null,
          null,
          null,
          null,
          null,
          null,
          null,
          null,
          null,
          null,
          null,
          null,
          null,
          null,
          null,
          null,
          null,
          null,
          null,
          null,
          null,
          null,
          null,
          null,
          null,
          null,
          null,
          null,
          null,
          null,
          null,
          null,
          null,
          null,
          null,
          null,
          null,
          null,
          null,
          null,
          null,
          null,
          null,
          null,
          null,
          null,
          null,
          null,
          null,
          null,
          null,
          null,
          null,
          null,
          null,
          null,
          null,
          null,
          null,
          null,
          null,
          null,
          null,
          null,
          null,
          null,
          null,
          null,
          null,
          null,
          null,
          null,
          null,
          null,
          null,
          null,
          null,
          null,
          null,
          null,
          null,
          null,
          null,
          null,
          null,
          null,
          null
         ]
        },
        {
         "boxpoints": "all",
         "jitter": 0.2,
         "line": {
          "width": 1
         },
         "marker": {
          "size": 2
         },
         "name": " Screenprint",
         "type": "box",
         "whiskerwidth": 0.2,
         "y": [
          35,
          32,
          30,
          30,
          26,
          24.069,
          20,
          11.99,
          10.49,
          10,
          8.5,
          7.85,
          7.8,
          7.5,
          7.39,
          6.75,
          null,
          null,
          null,
          null,
          null
         ]
        },
        {
         "boxpoints": "all",
         "jitter": 0.2,
         "line": {
          "width": 1
         },
         "marker": {
          "size": 2
         },
         "name": " Lino",
         "type": "box",
         "whiskerwidth": 0.2,
         "y": [
          35,
          30,
          22,
          20,
          14.9999,
          13.99,
          8.99,
          8.49,
          8.4,
          7.5,
          7.4,
          7,
          6.3,
          null,
          null,
          null,
          null,
          null,
          null,
          null
         ]
        },
        {
         "boxpoints": "all",
         "jitter": 0.2,
         "line": {
          "width": 1
         },
         "marker": {
          "size": 2
         },
         "name": " Prismatic",
         "type": "box",
         "whiskerwidth": 0.2,
         "y": [
          33,
          26,
          25.4,
          25,
          23.99,
          23,
          23,
          22.22,
          22.22,
          22,
          21.9,
          21.5,
          20.9,
          20.75,
          20.69,
          20,
          20,
          20,
          19.99,
          19.5,
          19.5,
          19,
          18.5,
          18.5,
          18,
          18,
          17.9,
          17.5,
          17.43,
          16.942,
          16.25,
          16,
          15.5,
          14.8869,
          14.88,
          14.6969,
          14.6969,
          14.6,
          14.5,
          14.216,
          14.2069,
          13.888,
          13.85,
          13.69,
          13.69,
          13,
          13,
          12.99,
          12.94,
          12.75,
          12.5,
          12.5,
          12,
          12,
          12,
          12,
          12,
          12,
          12,
          12,
          12,
          11.99,
          11.98,
          11.95,
          11.9,
          11.88,
          11.85,
          11.5,
          11.5,
          11.5,
          11.25,
          11.11,
          11,
          11,
          11,
          10.7,
          10.5,
          10.4,
          10.4,
          10,
          10,
          10,
          9.99,
          9.98,
          9.9,
          9.9,
          9.9,
          9.9,
          9.9,
          9.88,
          9.8,
          9.8,
          9.7,
          9.5,
          9.3,
          9.1,
          9,
          9,
          9,
          9,
          8.98,
          8.88,
          8.88,
          8.88,
          8.8,
          8.8,
          8.79,
          8.75,
          8.75,
          8.5,
          8.5,
          8.5,
          8.4,
          8.35,
          8.2,
          8,
          8,
          8,
          8,
          8,
          8,
          8,
          8,
          8,
          7.9999,
          7.99,
          7.99,
          7.99,
          7.99,
          7.9,
          7.9,
          7.85,
          7.8,
          7.77,
          7.75,
          7.7,
          7.7,
          7.7,
          7.5,
          7.5,
          7.5,
          7.5,
          7.5,
          7.5,
          7.4999,
          7.49,
          7.49,
          7.49,
          7.47,
          7.45,
          7.45,
          7.44,
          7.35,
          7.3,
          7.25,
          7.25,
          7.2,
          7.2,
          7.2,
          7.1111,
          7.1,
          7.095,
          7.069,
          7,
          6.99,
          6.99,
          6.99,
          6.99,
          6.97,
          6.95,
          6.9,
          6.89,
          6.89,
          6.88,
          6.8,
          6.78,
          6.72,
          6.69,
          6.66,
          6.66,
          6.6,
          6.5,
          6.5,
          6.469,
          6.4,
          6.4,
          6.39,
          6.39,
          6.33,
          6.29,
          6.23,
          6.1,
          6,
          6,
          6,
          6,
          5.97,
          5.9,
          5.9,
          5.869,
          5.85,
          5.8469,
          5.8,
          5.8,
          5.75,
          null,
          null,
          null,
          null,
          null,
          null,
          null,
          null,
          null,
          null,
          null,
          null,
          null,
          null,
          null,
          null,
          null,
          null,
          null,
          null,
          null,
          null,
          null,
          null,
          null,
          null,
          null,
          null,
          null,
          null,
          null,
          null,
          null,
          null,
          null,
          null,
          null,
          null,
          null,
          null,
          null,
          null,
          null,
          null,
          null,
          null,
          null,
          null,
          null,
          null,
          null,
          null,
          null,
          null,
          null,
          null,
          null
         ]
        },
        {
         "boxpoints": "all",
         "jitter": 0.2,
         "line": {
          "width": 1
         },
         "marker": {
          "size": 2
         },
         "name": " Polarized",
         "type": "box",
         "whiskerwidth": 0.2,
         "y": [
          30,
          28.88,
          26.9,
          20,
          20,
          18.95,
          18.75,
          18.5,
          17.5,
          17,
          15,
          15,
          14,
          11.77,
          11.11,
          11,
          11,
          10.5,
          8.88,
          7.9,
          7.8,
          7.48,
          7.25,
          7.1,
          6.99,
          0.01,
          null,
          null,
          null,
          null,
          null,
          null
         ]
        },
        {
         "boxpoints": "all",
         "jitter": 0.2,
         "line": {
          "width": 1
         },
         "marker": {
          "size": 2
         },
         "name": " Gilded",
         "type": "box",
         "whiskerwidth": 0.2,
         "y": [
          29.8,
          27.77,
          27.5,
          21.99,
          21,
          20,
          15,
          14.99,
          14,
          13.49,
          11.99,
          11.1111,
          11,
          10.99,
          10.795243773951906,
          9.9,
          9.888,
          9.6,
          7.49,
          7.25,
          6.85,
          6.4,
          null,
          null,
          null,
          null,
          null
         ]
        },
        {
         "boxpoints": "all",
         "jitter": 0.2,
         "line": {
          "width": 1
         },
         "marker": {
          "size": 2
         },
         "name": " Gouache",
         "type": "box",
         "whiskerwidth": 0.2,
         "y": [
          28,
          26.5,
          24,
          23.69,
          23,
          23,
          22.99,
          22.99,
          22.5,
          22,
          22,
          21.5,
          21,
          20,
          19.99992336795338,
          18.88,
          18.5,
          18,
          17.5,
          17,
          16.5,
          16.5,
          16.5,
          15.9,
          15.89,
          15,
          15,
          15,
          15,
          15,
          15,
          14,
          13.5,
          13,
          12.95,
          12.95,
          12.69,
          12.5,
          12.5,
          12.43,
          12.4,
          12,
          11.99,
          11.99,
          11.5,
          11.5,
          11.11,
          11,
          11,
          10.97,
          10.5,
          10,
          10,
          10,
          10,
          9.999,
          9.8,
          9.69,
          9.5,
          9,
          8.8,
          8.7,
          8.5,
          8.25,
          8,
          7.99,
          7.98,
          7.9,
          7.7777,
          7.75,
          7.5,
          7.25,
          6.99,
          6.969,
          6.88,
          6.75,
          6.5,
          6.5,
          6.49,
          6.477,
          5.99,
          5.8,
          5.69,
          null,
          null,
          null,
          null,
          null,
          null,
          null,
          null,
          null,
          null,
          null,
          null,
          null,
          null,
          null,
          null
         ]
        },
        {
         "boxpoints": "all",
         "jitter": 0.2,
         "line": {
          "width": 1
         },
         "marker": {
          "size": 2
         },
         "name": " Procedural",
         "type": "box",
         "whiskerwidth": 0.2,
         "y": [
          24.69,
          24.5,
          21,
          19.5,
          19.2,
          18.88,
          18,
          18,
          18,
          15,
          15,
          14,
          13.99,
          13.9,
          13.5,
          13,
          12.88,
          12.5,
          12,
          11.95,
          11.75,
          10.97,
          9.99,
          8.99,
          8.98,
          8.89,
          8.85,
          8.79,
          8.44,
          8.432,
          7.99,
          7.5,
          7.4,
          7.3,
          7.24,
          7.1,
          6.98,
          6.9,
          6.8,
          6.4,
          6.25,
          5.93,
          5.8,
          5.7,
          null,
          null,
          null,
          null,
          null,
          null,
          null,
          null,
          null,
          null,
          null,
          null,
          null,
          null,
          null,
          null
         ]
        }
       ],
       "layout": {
        "template": {
         "data": {
          "bar": [
           {
            "error_x": {
             "color": "#2a3f5f"
            },
            "error_y": {
             "color": "#2a3f5f"
            },
            "marker": {
             "line": {
              "color": "#E5ECF6",
              "width": 0.5
             },
             "pattern": {
              "fillmode": "overlay",
              "size": 10,
              "solidity": 0.2
             }
            },
            "type": "bar"
           }
          ],
          "barpolar": [
           {
            "marker": {
             "line": {
              "color": "#E5ECF6",
              "width": 0.5
             },
             "pattern": {
              "fillmode": "overlay",
              "size": 10,
              "solidity": 0.2
             }
            },
            "type": "barpolar"
           }
          ],
          "carpet": [
           {
            "aaxis": {
             "endlinecolor": "#2a3f5f",
             "gridcolor": "white",
             "linecolor": "white",
             "minorgridcolor": "white",
             "startlinecolor": "#2a3f5f"
            },
            "baxis": {
             "endlinecolor": "#2a3f5f",
             "gridcolor": "white",
             "linecolor": "white",
             "minorgridcolor": "white",
             "startlinecolor": "#2a3f5f"
            },
            "type": "carpet"
           }
          ],
          "choropleth": [
           {
            "colorbar": {
             "outlinewidth": 0,
             "ticks": ""
            },
            "type": "choropleth"
           }
          ],
          "contour": [
           {
            "colorbar": {
             "outlinewidth": 0,
             "ticks": ""
            },
            "colorscale": [
             [
              0,
              "#0d0887"
             ],
             [
              0.1111111111111111,
              "#46039f"
             ],
             [
              0.2222222222222222,
              "#7201a8"
             ],
             [
              0.3333333333333333,
              "#9c179e"
             ],
             [
              0.4444444444444444,
              "#bd3786"
             ],
             [
              0.5555555555555556,
              "#d8576b"
             ],
             [
              0.6666666666666666,
              "#ed7953"
             ],
             [
              0.7777777777777778,
              "#fb9f3a"
             ],
             [
              0.8888888888888888,
              "#fdca26"
             ],
             [
              1,
              "#f0f921"
             ]
            ],
            "type": "contour"
           }
          ],
          "contourcarpet": [
           {
            "colorbar": {
             "outlinewidth": 0,
             "ticks": ""
            },
            "type": "contourcarpet"
           }
          ],
          "heatmap": [
           {
            "colorbar": {
             "outlinewidth": 0,
             "ticks": ""
            },
            "colorscale": [
             [
              0,
              "#0d0887"
             ],
             [
              0.1111111111111111,
              "#46039f"
             ],
             [
              0.2222222222222222,
              "#7201a8"
             ],
             [
              0.3333333333333333,
              "#9c179e"
             ],
             [
              0.4444444444444444,
              "#bd3786"
             ],
             [
              0.5555555555555556,
              "#d8576b"
             ],
             [
              0.6666666666666666,
              "#ed7953"
             ],
             [
              0.7777777777777778,
              "#fb9f3a"
             ],
             [
              0.8888888888888888,
              "#fdca26"
             ],
             [
              1,
              "#f0f921"
             ]
            ],
            "type": "heatmap"
           }
          ],
          "heatmapgl": [
           {
            "colorbar": {
             "outlinewidth": 0,
             "ticks": ""
            },
            "colorscale": [
             [
              0,
              "#0d0887"
             ],
             [
              0.1111111111111111,
              "#46039f"
             ],
             [
              0.2222222222222222,
              "#7201a8"
             ],
             [
              0.3333333333333333,
              "#9c179e"
             ],
             [
              0.4444444444444444,
              "#bd3786"
             ],
             [
              0.5555555555555556,
              "#d8576b"
             ],
             [
              0.6666666666666666,
              "#ed7953"
             ],
             [
              0.7777777777777778,
              "#fb9f3a"
             ],
             [
              0.8888888888888888,
              "#fdca26"
             ],
             [
              1,
              "#f0f921"
             ]
            ],
            "type": "heatmapgl"
           }
          ],
          "histogram": [
           {
            "marker": {
             "pattern": {
              "fillmode": "overlay",
              "size": 10,
              "solidity": 0.2
             }
            },
            "type": "histogram"
           }
          ],
          "histogram2d": [
           {
            "colorbar": {
             "outlinewidth": 0,
             "ticks": ""
            },
            "colorscale": [
             [
              0,
              "#0d0887"
             ],
             [
              0.1111111111111111,
              "#46039f"
             ],
             [
              0.2222222222222222,
              "#7201a8"
             ],
             [
              0.3333333333333333,
              "#9c179e"
             ],
             [
              0.4444444444444444,
              "#bd3786"
             ],
             [
              0.5555555555555556,
              "#d8576b"
             ],
             [
              0.6666666666666666,
              "#ed7953"
             ],
             [
              0.7777777777777778,
              "#fb9f3a"
             ],
             [
              0.8888888888888888,
              "#fdca26"
             ],
             [
              1,
              "#f0f921"
             ]
            ],
            "type": "histogram2d"
           }
          ],
          "histogram2dcontour": [
           {
            "colorbar": {
             "outlinewidth": 0,
             "ticks": ""
            },
            "colorscale": [
             [
              0,
              "#0d0887"
             ],
             [
              0.1111111111111111,
              "#46039f"
             ],
             [
              0.2222222222222222,
              "#7201a8"
             ],
             [
              0.3333333333333333,
              "#9c179e"
             ],
             [
              0.4444444444444444,
              "#bd3786"
             ],
             [
              0.5555555555555556,
              "#d8576b"
             ],
             [
              0.6666666666666666,
              "#ed7953"
             ],
             [
              0.7777777777777778,
              "#fb9f3a"
             ],
             [
              0.8888888888888888,
              "#fdca26"
             ],
             [
              1,
              "#f0f921"
             ]
            ],
            "type": "histogram2dcontour"
           }
          ],
          "mesh3d": [
           {
            "colorbar": {
             "outlinewidth": 0,
             "ticks": ""
            },
            "type": "mesh3d"
           }
          ],
          "parcoords": [
           {
            "line": {
             "colorbar": {
              "outlinewidth": 0,
              "ticks": ""
             }
            },
            "type": "parcoords"
           }
          ],
          "pie": [
           {
            "automargin": true,
            "type": "pie"
           }
          ],
          "scatter": [
           {
            "marker": {
             "colorbar": {
              "outlinewidth": 0,
              "ticks": ""
             }
            },
            "type": "scatter"
           }
          ],
          "scatter3d": [
           {
            "line": {
             "colorbar": {
              "outlinewidth": 0,
              "ticks": ""
             }
            },
            "marker": {
             "colorbar": {
              "outlinewidth": 0,
              "ticks": ""
             }
            },
            "type": "scatter3d"
           }
          ],
          "scattercarpet": [
           {
            "marker": {
             "colorbar": {
              "outlinewidth": 0,
              "ticks": ""
             }
            },
            "type": "scattercarpet"
           }
          ],
          "scattergeo": [
           {
            "marker": {
             "colorbar": {
              "outlinewidth": 0,
              "ticks": ""
             }
            },
            "type": "scattergeo"
           }
          ],
          "scattergl": [
           {
            "marker": {
             "colorbar": {
              "outlinewidth": 0,
              "ticks": ""
             }
            },
            "type": "scattergl"
           }
          ],
          "scattermapbox": [
           {
            "marker": {
             "colorbar": {
              "outlinewidth": 0,
              "ticks": ""
             }
            },
            "type": "scattermapbox"
           }
          ],
          "scatterpolar": [
           {
            "marker": {
             "colorbar": {
              "outlinewidth": 0,
              "ticks": ""
             }
            },
            "type": "scatterpolar"
           }
          ],
          "scatterpolargl": [
           {
            "marker": {
             "colorbar": {
              "outlinewidth": 0,
              "ticks": ""
             }
            },
            "type": "scatterpolargl"
           }
          ],
          "scatterternary": [
           {
            "marker": {
             "colorbar": {
              "outlinewidth": 0,
              "ticks": ""
             }
            },
            "type": "scatterternary"
           }
          ],
          "surface": [
           {
            "colorbar": {
             "outlinewidth": 0,
             "ticks": ""
            },
            "colorscale": [
             [
              0,
              "#0d0887"
             ],
             [
              0.1111111111111111,
              "#46039f"
             ],
             [
              0.2222222222222222,
              "#7201a8"
             ],
             [
              0.3333333333333333,
              "#9c179e"
             ],
             [
              0.4444444444444444,
              "#bd3786"
             ],
             [
              0.5555555555555556,
              "#d8576b"
             ],
             [
              0.6666666666666666,
              "#ed7953"
             ],
             [
              0.7777777777777778,
              "#fb9f3a"
             ],
             [
              0.8888888888888888,
              "#fdca26"
             ],
             [
              1,
              "#f0f921"
             ]
            ],
            "type": "surface"
           }
          ],
          "table": [
           {
            "cells": {
             "fill": {
              "color": "#EBF0F8"
             },
             "line": {
              "color": "white"
             }
            },
            "header": {
             "fill": {
              "color": "#C8D4E3"
             },
             "line": {
              "color": "white"
             }
            },
            "type": "table"
           }
          ]
         },
         "layout": {
          "annotationdefaults": {
           "arrowcolor": "#2a3f5f",
           "arrowhead": 0,
           "arrowwidth": 1
          },
          "autotypenumbers": "strict",
          "coloraxis": {
           "colorbar": {
            "outlinewidth": 0,
            "ticks": ""
           }
          },
          "colorscale": {
           "diverging": [
            [
             0,
             "#8e0152"
            ],
            [
             0.1,
             "#c51b7d"
            ],
            [
             0.2,
             "#de77ae"
            ],
            [
             0.3,
             "#f1b6da"
            ],
            [
             0.4,
             "#fde0ef"
            ],
            [
             0.5,
             "#f7f7f7"
            ],
            [
             0.6,
             "#e6f5d0"
            ],
            [
             0.7,
             "#b8e186"
            ],
            [
             0.8,
             "#7fbc41"
            ],
            [
             0.9,
             "#4d9221"
            ],
            [
             1,
             "#276419"
            ]
           ],
           "sequential": [
            [
             0,
             "#0d0887"
            ],
            [
             0.1111111111111111,
             "#46039f"
            ],
            [
             0.2222222222222222,
             "#7201a8"
            ],
            [
             0.3333333333333333,
             "#9c179e"
            ],
            [
             0.4444444444444444,
             "#bd3786"
            ],
            [
             0.5555555555555556,
             "#d8576b"
            ],
            [
             0.6666666666666666,
             "#ed7953"
            ],
            [
             0.7777777777777778,
             "#fb9f3a"
            ],
            [
             0.8888888888888888,
             "#fdca26"
            ],
            [
             1,
             "#f0f921"
            ]
           ],
           "sequentialminus": [
            [
             0,
             "#0d0887"
            ],
            [
             0.1111111111111111,
             "#46039f"
            ],
            [
             0.2222222222222222,
             "#7201a8"
            ],
            [
             0.3333333333333333,
             "#9c179e"
            ],
            [
             0.4444444444444444,
             "#bd3786"
            ],
            [
             0.5555555555555556,
             "#d8576b"
            ],
            [
             0.6666666666666666,
             "#ed7953"
            ],
            [
             0.7777777777777778,
             "#fb9f3a"
            ],
            [
             0.8888888888888888,
             "#fdca26"
            ],
            [
             1,
             "#f0f921"
            ]
           ]
          },
          "colorway": [
           "#636efa",
           "#EF553B",
           "#00cc96",
           "#ab63fa",
           "#FFA15A",
           "#19d3f3",
           "#FF6692",
           "#B6E880",
           "#FF97FF",
           "#FECB52"
          ],
          "font": {
           "color": "#2a3f5f"
          },
          "geo": {
           "bgcolor": "white",
           "lakecolor": "white",
           "landcolor": "#E5ECF6",
           "showlakes": true,
           "showland": true,
           "subunitcolor": "white"
          },
          "hoverlabel": {
           "align": "left"
          },
          "hovermode": "closest",
          "mapbox": {
           "style": "light"
          },
          "paper_bgcolor": "white",
          "plot_bgcolor": "#E5ECF6",
          "polar": {
           "angularaxis": {
            "gridcolor": "white",
            "linecolor": "white",
            "ticks": ""
           },
           "bgcolor": "#E5ECF6",
           "radialaxis": {
            "gridcolor": "white",
            "linecolor": "white",
            "ticks": ""
           }
          },
          "scene": {
           "xaxis": {
            "backgroundcolor": "#E5ECF6",
            "gridcolor": "white",
            "gridwidth": 2,
            "linecolor": "white",
            "showbackground": true,
            "ticks": "",
            "zerolinecolor": "white"
           },
           "yaxis": {
            "backgroundcolor": "#E5ECF6",
            "gridcolor": "white",
            "gridwidth": 2,
            "linecolor": "white",
            "showbackground": true,
            "ticks": "",
            "zerolinecolor": "white"
           },
           "zaxis": {
            "backgroundcolor": "#E5ECF6",
            "gridcolor": "white",
            "gridwidth": 2,
            "linecolor": "white",
            "showbackground": true,
            "ticks": "",
            "zerolinecolor": "white"
           }
          },
          "shapedefaults": {
           "line": {
            "color": "#2a3f5f"
           }
          },
          "ternary": {
           "aaxis": {
            "gridcolor": "white",
            "linecolor": "white",
            "ticks": ""
           },
           "baxis": {
            "gridcolor": "white",
            "linecolor": "white",
            "ticks": ""
           },
           "bgcolor": "#E5ECF6",
           "caxis": {
            "gridcolor": "white",
            "linecolor": "white",
            "ticks": ""
           }
          },
          "title": {
           "x": 0.05
          },
          "xaxis": {
           "automargin": true,
           "gridcolor": "white",
           "linecolor": "white",
           "ticks": "",
           "title": {
            "standoff": 15
           },
           "zerolinecolor": "white",
           "zerolinewidth": 2
          },
          "yaxis": {
           "automargin": true,
           "gridcolor": "white",
           "linecolor": "white",
           "ticks": "",
           "title": {
            "standoff": 15
           },
           "zerolinecolor": "white",
           "zerolinewidth": 2
          }
         }
        }
       }
      }
     },
     "metadata": {}
    }
   ],
   "metadata": {}
  },
  {
   "cell_type": "code",
   "execution_count": null,
   "source": [],
   "outputs": [],
   "metadata": {}
  }
 ],
 "metadata": {
  "orig_nbformat": 4,
  "language_info": {
   "name": "python",
   "version": "3.7.9",
   "mimetype": "text/x-python",
   "codemirror_mode": {
    "name": "ipython",
    "version": 3
   },
   "pygments_lexer": "ipython3",
   "nbconvert_exporter": "python",
   "file_extension": ".py"
  },
  "kernelspec": {
   "name": "python3",
   "display_name": "Python 3.7.9 64-bit ('venv': venv)"
  },
  "interpreter": {
   "hash": "0a6dc87dfae80f3db58cc7c505abc01f8b602781e7d38792441ee143cc505ce9"
  }
 },
 "nbformat": 4,
 "nbformat_minor": 2
}