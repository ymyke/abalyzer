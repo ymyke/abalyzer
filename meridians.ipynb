{
 "cells": [
  {
   "cell_type": "markdown",
   "source": [
    "# Analyzing Meridians Artblocks"
   ],
   "metadata": {}
  },
  {
   "cell_type": "markdown",
   "source": [
    "## Get the meridians"
   ],
   "metadata": {}
  },
  {
   "cell_type": "code",
   "execution_count": 1,
   "source": [
    "import requests\r\n",
    "from helpers import *\r\n",
    "from IPython.display import display\r\n",
    "\r\n",
    "OPENSEA_URL = \"https://api.opensea.io/api/v1/assets\"\r\n",
    "MERIDIAN_IDS = list(range(163000000, 163001000))\r\n",
    "\r\n",
    "\r\n",
    "def get_meridians() -> list:\r\n",
    "    \"\"\"Get all meridian assets from OpenSea and return them as a list.\"\"\"\r\n",
    "    # (Could be implemented as a generator. However, returning the full list makes\r\n",
    "    # debugging / rerunning w/o hitting the API easier.)\r\n",
    "    querystring = {\r\n",
    "        \"asset_contract_address\": \"0xa7d8d9ef8d8ce8992df33d8b8cf4aebabd5bd270\",\r\n",
    "    }\r\n",
    "    assets = []\r\n",
    "    for token_ids in chunks(MERIDIAN_IDS, 20):\r\n",
    "        print(\".\", end=\"\")\r\n",
    "        querystring[\"token_ids\"] = token_ids\r\n",
    "        response = requests.request(\"GET\", OPENSEA_URL, params=querystring)\r\n",
    "        response.raise_for_status()\r\n",
    "        assets.extend(response.json()[\"assets\"])\r\n",
    "    print(f\" -- All {len(assets)} assets retrieved.\")\r\n",
    "    return assets\r\n",
    "\r\n",
    "\r\n",
    "meridians = get_meridians()\r\n"
   ],
   "outputs": [
    {
     "output_type": "stream",
     "name": "stdout",
     "text": [
      ".................................................. -- All 1000 assets retrieved.\n"
     ]
    }
   ],
   "metadata": {}
  },
  {
   "cell_type": "markdown",
   "source": [
    "## Build a dataframe"
   ],
   "metadata": {}
  },
  {
   "cell_type": "code",
   "execution_count": 60,
   "source": [
    "import pandas as pd\r\n",
    "import numpy as np\r\n",
    "from functools import reduce\r\n",
    "import operator\r\n",
    "\r\n",
    "pd.set_option(\"display.max_rows\", None)\r\n",
    "\r\n",
    "traits = [\r\n",
    "    \"Chromaticity\",\r\n",
    "    \"Frequency\",\r\n",
    "    \"Palette\",\r\n",
    "    \"Structure\",\r\n",
    "    \"Style\",\r\n",
    "    \"Zoom\",\r\n",
    "]\r\n",
    "\r\n",
    "_tt = []\r\n",
    "for m in meridians:\r\n",
    "    prob_score = (\r\n",
    "        reduce(operator.mul, [t[\"trait_count\"] / 1000 for t in m[\"traits\"]], 1) * 1000\r\n",
    "    )\r\n",
    "    price = price_symbol = np.nan\r\n",
    "    if m[\"sell_orders\"] is not None:\r\n",
    "        so = m[\"sell_orders\"][0]\r\n",
    "        price = float(so[\"current_price\"]) / 10 ** int(\r\n",
    "            so[\"payment_token_contract\"][\"decimals\"]\r\n",
    "        )\r\n",
    "        price_symbol = so[\"payment_token_contract\"][\"symbol\"]\r\n",
    "    last_price = last_price_symbol = last_sale_date = np.nan\r\n",
    "    if m[\"last_sale\"] is not None:\r\n",
    "        ls = m[\"last_sale\"]\r\n",
    "        last_price = float(ls[\"total_price\"]) / 10 ** int(\r\n",
    "            ls[\"payment_token\"][\"decimals\"]\r\n",
    "        )\r\n",
    "        last_price_symbol = ls[\"payment_token\"][\"symbol\"]\r\n",
    "        last_sale_date = ls[\"event_timestamp\"]\r\n",
    "\r\n",
    "    _tt.append(\r\n",
    "        [\r\n",
    "            m[\"name\"].split(\"#\")[1],\r\n",
    "            m[\"name\"],\r\n",
    "            price,\r\n",
    "            price_symbol,\r\n",
    "            last_price,\r\n",
    "            last_price_symbol,\r\n",
    "            last_sale_date,\r\n",
    "            prob_score,\r\n",
    "            *[  # All the traits:\r\n",
    "                t[\"value\"].split(\":\")[1].strip()\r\n",
    "                for t in sorted(m[\"traits\"], key=lambda x: x[\"value\"])\r\n",
    "                if \":\" in t[\"value\"]\r\n",
    "            ],\r\n",
    "            m[\"permalink\"],\r\n",
    "        ]\r\n",
    "    )\r\n",
    "\r\n",
    "\r\n",
    "df = pd.DataFrame(_tt)\r\n",
    "df.columns = [\r\n",
    "    \"ID\",\r\n",
    "    \"Name\",\r\n",
    "    \"Price\",\r\n",
    "    \"Psymbol\",\r\n",
    "    \"Lastprice\",\r\n",
    "    \"LPsymbol\",\r\n",
    "    \"LPdate\",\r\n",
    "    \"Probscore\",\r\n",
    "    *traits,\r\n",
    "    \"Link\",\r\n",
    "]\r\n",
    "df[\"LPdate\"] = pd.to_datetime(df.LPdate)\r\n",
    "df = df.set_index(\"ID\").sort_values(\"Lastprice\", ascending=False)\r\n"
   ],
   "outputs": [],
   "metadata": {}
  },
  {
   "cell_type": "code",
   "execution_count": 55,
   "source": [
    "assert set(df.LPsymbol.unique()) == set([\"ETH\", \"WETH\", np.nan]), \"\"\"\r\n",
    "This sheet does not do currency conversion at the moment and therefore \r\n",
    "assumes all prices are in (W)ETH. But there are more symbols in the input \r\n",
    "data which would lead to apples being compared to ranges below. Aborting.\r\n",
    "\"\"\""
   ],
   "outputs": [],
   "metadata": {}
  },
  {
   "cell_type": "markdown",
   "source": [
    "## How many pieces have a last price on OpenSea?"
   ],
   "metadata": {}
  },
  {
   "cell_type": "code",
   "execution_count": 47,
   "source": [
    "print(f\"{df[~df.Lastprice.isna()].shape[0] / df.shape[0]:.0%}\")\r\n"
   ],
   "outputs": [
    {
     "output_type": "stream",
     "name": "stdout",
     "text": [
      "78%\n"
     ]
    }
   ],
   "metadata": {}
  },
  {
   "cell_type": "markdown",
   "source": [
    "## How are prices evolving over time?"
   ],
   "metadata": {}
  },
  {
   "cell_type": "markdown",
   "source": [
    "Note that this only takes into account the last sale of each piece. (Is there a way to access all past sales of an asset via the OpenSea API?)"
   ],
   "metadata": {}
  },
  {
   "cell_type": "code",
   "execution_count": 74,
   "source": [
    "fig = px.scatter(df, x=\"LPdate\", y=\"Lastprice\", trendline=\"ols\", hover_data=[\"Name\", \"Style\", \"Chromaticity\", \"Palette\"])\r\n",
    "fig.show()"
   ],
   "outputs": [
    {
     "output_type": "display_data",
     "data": {
      "application/vnd.plotly.v1+json": {
       "config": {
        "plotlyServerURL": "https://plot.ly"
       },
       "data": [
        {
         "customdata": [
          [
           "Meridian #738",
           "Charcoal",
           "Monochrome",
           "Other"
          ],
          [
           "Meridian #287",
           "Prime",
           "Monochrome",
           "Gulf"
          ],
          [
           "Meridian #70",
           "Charcoal",
           "Monochrome",
           "Other"
          ],
          [
           "Meridian #624",
           "Prime",
           "Monochrome",
           "Esker"
          ],
          [
           "Meridian #809",
           "Charcoal",
           "Monochrome",
           "Other"
          ],
          [
           "Meridian #230",
           "Topographic",
           "Trichrome",
           "Other"
          ],
          [
           "Meridian #792",
           "Charcoal",
           "Monochrome",
           "Other"
          ],
          [
           "Meridian #266",
           "Charcoal",
           "Monochrome",
           "Other"
          ],
          [
           "Meridian #317",
           "Prime",
           "Monochrome",
           "Reef"
          ],
          [
           "Meridian #16",
           "Newsprint",
           "Monochrome",
           "Other"
          ],
          [
           "Meridian #936",
           "Invert",
           "Monochrome",
           "Other"
          ],
          [
           "Meridian #251",
           "Newsprint",
           "Monochrome",
           "Other"
          ],
          [
           "Meridian #980",
           "Watercolour",
           "Monochrome",
           "Other"
          ],
          [
           "Meridian #665",
           "Paletted",
           "Trichrome",
           "Atoll"
          ],
          [
           "Meridian #486",
           "Newsprint",
           "Monochrome",
           "Other"
          ],
          [
           "Meridian #135",
           "Newsprint",
           "Monochrome",
           "Other"
          ],
          [
           "Meridian #802",
           "Invert",
           "Monochrome",
           "Other"
          ],
          [
           "Meridian #379",
           "Charcoal",
           "Monochrome",
           "Other"
          ],
          [
           "Meridian #129",
           "Paletted",
           "Duochrome",
           "Marsh"
          ],
          [
           "Meridian #800",
           "Paletted",
           "Duochrome",
           "Cove"
          ],
          [
           "Meridian #246",
           "Screenprint",
           "Monochrome",
           "Other"
          ],
          [
           "Meridian #209",
           "Lino",
           "Monochrome",
           "Other"
          ],
          [
           "Meridian #493",
           "Prismatic",
           "Polychrome",
           "Other"
          ],
          [
           "Meridian #327",
           "Topographic",
           "Trichrome",
           "Other"
          ],
          [
           "Meridian #295",
           "Screenprint",
           "Monochrome",
           "Other"
          ],
          [
           "Meridian #305",
           "Lino",
           "Monochrome",
           "Other"
          ],
          [
           "Meridian #28",
           "Screenprint",
           "Monochrome",
           "Other"
          ],
          [
           "Meridian #303",
           "Polarized",
           "Duochrome",
           "Other"
          ],
          [
           "Meridian #139",
           "Screenprint",
           "Monochrome",
           "Other"
          ],
          [
           "Meridian #850",
           "Paletted",
           "Duochrome",
           "Fjord"
          ],
          [
           "Meridian #459",
           "Paletted",
           "Duochrome",
           "Moraine"
          ],
          [
           "Meridian #221",
           "Paletted",
           "Duochrome",
           "Mesa"
          ],
          [
           "Meridian #584",
           "Gilded",
           "Trichrome",
           "Other"
          ],
          [
           "Meridian #181",
           "Paletted",
           "Duochrome",
           "Cove"
          ],
          [
           "Meridian #948",
           "Polarized",
           "Duochrome",
           "Other"
          ],
          [
           "Meridian #183",
           "Gouache",
           "Duochrome",
           "Other"
          ],
          [
           "Meridian #186",
           "Paletted",
           "Duochrome",
           "Delta"
          ],
          [
           "Meridian #522",
           "Gilded",
           "Trichrome",
           "Other"
          ],
          [
           "Meridian #296",
           "Paletted",
           "Duochrome",
           "Glacier"
          ],
          [
           "Meridian #723",
           "Gilded",
           "Trichrome",
           "Other"
          ],
          [
           "Meridian #619",
           "Paletted",
           "Duochrome",
           "Cave"
          ],
          [
           "Meridian #710",
           "Gouache",
           "Trichrome",
           "Other"
          ],
          [
           "Meridian #1",
           "Screenprint",
           "Monochrome",
           "Other"
          ],
          [
           "Meridian #636",
           "Prismatic",
           "Polychrome",
           "Other"
          ],
          [
           "Meridian #954",
           "Prismatic",
           "Polychrome",
           "Other"
          ],
          [
           "Meridian #970",
           "Paletted",
           "Duochrome",
           "Reef"
          ],
          [
           "Meridian #812",
           "Newsprint",
           "Monochrome",
           "Other"
          ],
          [
           "Meridian #939",
           "Paletted",
           "Duochrome",
           "Cave"
          ],
          [
           "Meridian #801",
           "Paletted",
           "Duochrome",
           "Cave"
          ],
          [
           "Meridian #634",
           "Prismatic",
           "Polychrome",
           "Other"
          ],
          [
           "Meridian #759",
           "Topographic",
           "Trichrome",
           "Other"
          ],
          [
           "Meridian #557",
           "Watercolour",
           "Duochrome",
           "Other"
          ],
          [
           "Meridian #446",
           "Paletted",
           "Duochrome",
           "Reef"
          ],
          [
           "Meridian #151",
           "Procedural",
           "Monochrome",
           "Other"
          ],
          [
           "Meridian #118",
           "Procedural",
           "Monochrome",
           "Other"
          ],
          [
           "Meridian #750",
           "Screenprint",
           "Monochrome",
           "Other"
          ],
          [
           "Meridian #632",
           "Gouache",
           "Trichrome",
           "Other"
          ],
          [
           "Meridian #138",
           "Paletted",
           "Duochrome",
           "Ridge"
          ],
          [
           "Meridian #452",
           "Paletted",
           "Duochrome",
           "Dune"
          ],
          [
           "Meridian #610",
           "Paletted",
           "Duochrome",
           "Volcano"
          ],
          [
           "Meridian #223",
           "Invert",
           "Monochrome",
           "Other"
          ],
          [
           "Meridian #885",
           "Paletted",
           "Trichrome",
           "Fjord"
          ],
          [
           "Meridian #789",
           "Paletted",
           "Trichrome",
           "Archipelago"
          ],
          [
           "Meridian #752",
           "Paletted",
           "Duochrome",
           "Fjord"
          ],
          [
           "Meridian #58",
           "Newsprint",
           "Monochrome",
           "Other"
          ],
          [
           "Meridian #89",
           "Prismatic",
           "Polychrome",
           "Other"
          ],
          [
           "Meridian #693",
           "Paletted",
           "Duochrome",
           "Gulf"
          ],
          [
           "Meridian #694",
           "Gouache",
           "Polychrome",
           "Other"
          ],
          [
           "Meridian #323",
           "Paletted",
           "Duochrome",
           "Dune"
          ],
          [
           "Meridian #143",
           "Paletted",
           "Duochrome",
           "Prairie"
          ],
          [
           "Meridian #427",
           "Paletted",
           "Duochrome",
           "Delta"
          ],
          [
           "Meridian #510",
           "Watercolour",
           "Duochrome",
           "Other"
          ],
          [
           "Meridian #859",
           "Prismatic",
           "Polychrome",
           "Other"
          ],
          [
           "Meridian #778",
           "Gouache",
           "Duochrome",
           "Other"
          ],
          [
           "Meridian #359",
           "Gouache",
           "Duochrome",
           "Other"
          ],
          [
           "Meridian #518",
           "Prismatic",
           "Polychrome",
           "Other"
          ],
          [
           "Meridian #846",
           "Watercolour",
           "Duochrome",
           "Other"
          ],
          [
           "Meridian #205",
           "Gouache",
           "Polychrome",
           "Other"
          ],
          [
           "Meridian #336",
           "Gouache",
           "Duochrome",
           "Other"
          ],
          [
           "Meridian #756",
           "Paletted",
           "Duochrome",
           "Oasis"
          ],
          [
           "Meridian #371",
           "Gouache",
           "Polychrome",
           "Other"
          ],
          [
           "Meridian #987",
           "Paletted",
           "Trichrome",
           "Fjord"
          ],
          [
           "Meridian #560",
           "Prismatic",
           "Polychrome",
           "Other"
          ],
          [
           "Meridian #467",
           "Paletted",
           "Duochrome",
           "Gulf"
          ],
          [
           "Meridian #658",
           "Prismatic",
           "Polychrome",
           "Other"
          ],
          [
           "Meridian #600",
           "Paletted",
           "Duochrome",
           "Reef"
          ],
          [
           "Meridian #52",
           "Paletted",
           "Duochrome",
           "Peninsula"
          ],
          [
           "Meridian #654",
           "Invert",
           "Monochrome",
           "Other"
          ],
          [
           "Meridian #43",
           "Watercolour",
           "Monochrome",
           "Other"
          ],
          [
           "Meridian #855",
           "Prismatic",
           "Polychrome",
           "Other"
          ],
          [
           "Meridian #449",
           "Gouache",
           "Duochrome",
           "Other"
          ],
          [
           "Meridian #764",
           "Paletted",
           "Duochrome",
           "Ridge"
          ],
          [
           "Meridian #35",
           "Lino",
           "Monochrome",
           "Other"
          ],
          [
           "Meridian #642",
           "Paletted",
           "Trichrome",
           "Cove"
          ],
          [
           "Meridian #984",
           "Gouache",
           "Trichrome",
           "Other"
          ],
          [
           "Meridian #353",
           "Paletted",
           "Duochrome",
           "Volcano"
          ],
          [
           "Meridian #378",
           "Paletted",
           "Duochrome",
           "Volcano"
          ],
          [
           "Meridian #326",
           "Paletted",
           "Duochrome",
           "Fjord"
          ],
          [
           "Meridian #748",
           "Gilded",
           "Trichrome",
           "Other"
          ],
          [
           "Meridian #590",
           "Prismatic",
           "Polychrome",
           "Other"
          ],
          [
           "Meridian #180",
           "Prismatic",
           "Polychrome",
           "Other"
          ],
          [
           "Meridian #966",
           "Paletted",
           "Duochrome",
           "Fjord"
          ],
          [
           "Meridian #907",
           "Paletted",
           "Duochrome",
           "Reef"
          ],
          [
           "Meridian #382",
           "Gouache",
           "Trichrome",
           "Other"
          ],
          [
           "Meridian #252",
           "Paletted",
           "Duochrome",
           "Volcano"
          ],
          [
           "Meridian #917",
           "Paletted",
           "Duochrome",
           "Delta"
          ],
          [
           "Meridian #316",
           "Paletted",
           "Duochrome",
           "Ridge"
          ],
          [
           "Meridian #124",
           "Gouache",
           "Polychrome",
           "Other"
          ],
          [
           "Meridian #502",
           "Procedural",
           "Monochrome",
           "Other"
          ],
          [
           "Meridian #473",
           "Gilded",
           "Trichrome",
           "Other"
          ],
          [
           "Meridian #309",
           "Prismatic",
           "Polychrome",
           "Other"
          ],
          [
           "Meridian #148",
           "Prismatic",
           "Polychrome",
           "Other"
          ],
          [
           "Meridian #618",
           "Prismatic",
           "Polychrome",
           "Other"
          ],
          [
           "Meridian #940",
           "Paletted",
           "Trichrome",
           "Oasis"
          ],
          [
           "Meridian #768",
           "Paletted",
           "Trichrome",
           "Canyon"
          ],
          [
           "Meridian #456",
           "Gilded",
           "Trichrome",
           "Other"
          ],
          [
           "Meridian #182",
           "Paletted",
           "Trichrome",
           "Oasis"
          ],
          [
           "Meridian #992",
           "Paletted",
           "Trichrome",
           "Mesa"
          ],
          [
           "Meridian #541",
           "Prismatic",
           "Polychrome",
           "Other"
          ],
          [
           "Meridian #561",
           "Prismatic",
           "Polychrome",
           "Other"
          ],
          [
           "Meridian #96",
           "Prismatic",
           "Polychrome",
           "Other"
          ],
          [
           "Meridian #780",
           "Lino",
           "Monochrome",
           "Other"
          ],
          [
           "Meridian #482",
           "Paletted",
           "Duochrome",
           "Canyon"
          ],
          [
           "Meridian #61",
           "Polarized",
           "Duochrome",
           "Other"
          ],
          [
           "Meridian #711",
           "Paletted",
           "Duochrome",
           "Delta"
          ],
          [
           "Meridian #620",
           "Screenprint",
           "Monochrome",
           "Other"
          ],
          [
           "Meridian #3",
           "Gouache",
           "Duochrome",
           "Other"
          ],
          [
           "Meridian #372",
           "Polarized",
           "Trichrome",
           "Other"
          ],
          [
           "Meridian #568",
           "Gouache",
           "Duochrome",
           "Other"
          ],
          [
           "Meridian #240",
           "Paletted",
           "Duochrome",
           "Volcano"
          ],
          [
           "Meridian #660",
           "Topographic",
           "Trichrome",
           "Other"
          ],
          [
           "Meridian #899",
           "Prismatic",
           "Polychrome",
           "Other"
          ],
          [
           "Meridian #84",
           "Paletted",
           "Trichrome",
           "Fjord"
          ],
          [
           "Meridian #807",
           "Paletted",
           "Trichrome",
           "Moraine"
          ],
          [
           "Meridian #994",
           "Procedural",
           "Monochrome",
           "Other"
          ],
          [
           "Meridian #719",
           "Prismatic",
           "Polychrome",
           "Other"
          ],
          [
           "Meridian #465",
           "Prismatic",
           "Polychrome",
           "Other"
          ],
          [
           "Meridian #535",
           "Paletted",
           "Duochrome",
           "Canyon"
          ],
          [
           "Meridian #511",
           "Procedural",
           "Monochrome",
           "Other"
          ],
          [
           "Meridian #55",
           "Prismatic",
           "Polychrome",
           "Other"
          ],
          [
           "Meridian #307",
           "Prismatic",
           "Polychrome",
           "Other"
          ],
          [
           "Meridian #575",
           "Paletted",
           "Trichrome",
           "Archipelago"
          ],
          [
           "Meridian #405",
           "Paletted",
           "Trichrome",
           "Oasis"
          ],
          [
           "Meridian #281",
           "Paletted",
           "Trichrome",
           "Atoll"
          ],
          [
           "Meridian #18",
           "Polarized",
           "Duochrome",
           "Other"
          ],
          [
           "Meridian #220",
           "Newsprint",
           "Monochrome",
           "Other"
          ],
          [
           "Meridian #357",
           "Procedural",
           "Monochrome",
           "Other"
          ],
          [
           "Meridian #593",
           "Gouache",
           "Trichrome",
           "Other"
          ],
          [
           "Meridian #889",
           "Polarized",
           "Duochrome",
           "Other"
          ],
          [
           "Meridian #860",
           "Paletted",
           "Trichrome",
           "Fjord"
          ],
          [
           "Meridian #120",
           "Polarized",
           "Duochrome",
           "Other"
          ],
          [
           "Meridian #340",
           "Paletted",
           "Duochrome",
           "Glacier"
          ],
          [
           "Meridian #641",
           "Prismatic",
           "Polychrome",
           "Other"
          ],
          [
           "Meridian #928",
           "Paletted",
           "Duochrome",
           "Cove"
          ],
          [
           "Meridian #328",
           "Prismatic",
           "Polychrome",
           "Other"
          ],
          [
           "Meridian #989",
           "Gouache",
           "Duochrome",
           "Other"
          ],
          [
           "Meridian #817",
           "Paletted",
           "Trichrome",
           "Glacier"
          ],
          [
           "Meridian #729",
           "Procedural",
           "Duochrome",
           "Other"
          ],
          [
           "Meridian #706",
           "Paletted",
           "Duochrome",
           "Volcano"
          ],
          [
           "Meridian #779",
           "Paletted",
           "Duochrome",
           "Peninsula"
          ],
          [
           "Meridian #718",
           "Procedural",
           "Monochrome",
           "Other"
          ],
          [
           "Meridian #331",
           "Prismatic",
           "Polychrome",
           "Other"
          ],
          [
           "Meridian #845",
           "Procedural",
           "Monochrome",
           "Other"
          ],
          [
           "Meridian #373",
           "Paletted",
           "Duochrome",
           "Moraine"
          ],
          [
           "Meridian #934",
           "Paletted",
           "Trichrome",
           "Mesa"
          ],
          [
           "Meridian #808",
           "Prismatic",
           "Polychrome",
           "Other"
          ],
          [
           "Meridian #161",
           "Gouache",
           "Polychrome",
           "Other"
          ],
          [
           "Meridian #443",
           "Paletted",
           "Trichrome",
           "Peninsula"
          ],
          [
           "Meridian #472",
           "Paletted",
           "Duochrome",
           "Volcano"
          ],
          [
           "Meridian #169",
           "Paletted",
           "Duochrome",
           "Reef"
          ],
          [
           "Meridian #32",
           "Paletted",
           "Duochrome",
           "Peninsula"
          ],
          [
           "Meridian #551",
           "Paletted",
           "Duochrome",
           "Glacier"
          ],
          [
           "Meridian #633",
           "Paletted",
           "Trichrome",
           "Cove"
          ],
          [
           "Meridian #487",
           "Paletted",
           "Duochrome",
           "Shore"
          ],
          [
           "Meridian #754",
           "Paletted",
           "Duochrome",
           "Moraine"
          ],
          [
           "Meridian #56",
           "Paletted",
           "Trichrome",
           "Cove"
          ],
          [
           "Meridian #760",
           "Prismatic",
           "Polychrome",
           "Other"
          ],
          [
           "Meridian #770",
           "Gouache",
           "Polychrome",
           "Other"
          ],
          [
           "Meridian #450",
           "Polarized",
           "Duochrome",
           "Other"
          ],
          [
           "Meridian #477",
           "Prismatic",
           "Polychrome",
           "Other"
          ],
          [
           "Meridian #697",
           "Paletted",
           "Duochrome",
           "Moraine"
          ],
          [
           "Meridian #919",
           "Prismatic",
           "Polychrome",
           "Other"
          ],
          [
           "Meridian #679",
           "Paletted",
           "Duochrome",
           "Prairie"
          ],
          [
           "Meridian #956",
           "Paletted",
           "Trichrome",
           "Esker"
          ],
          [
           "Meridian #579",
           "Paletted",
           "Duochrome",
           "Atoll"
          ],
          [
           "Meridian #263",
           "Polarized",
           "Duochrome",
           "Other"
          ],
          [
           "Meridian #335",
           "Paletted",
           "Trichrome",
           "Shore"
          ],
          [
           "Meridian #306",
           "Gouache",
           "Polychrome",
           "Other"
          ],
          [
           "Meridian #141",
           "Polarized",
           "Duochrome",
           "Other"
          ],
          [
           "Meridian #418",
           "Paletted",
           "Duochrome",
           "Fjord"
          ],
          [
           "Meridian #854",
           "Prismatic",
           "Polychrome",
           "Other"
          ],
          [
           "Meridian #974",
           "Paletted",
           "Trichrome",
           "Gulf"
          ],
          [
           "Meridian #386",
           "Gouache",
           "Polychrome",
           "Other"
          ],
          [
           "Meridian #583",
           "Gouache",
           "Polychrome",
           "Other"
          ],
          [
           "Meridian #993",
           "Gouache",
           "Trichrome",
           "Other"
          ],
          [
           "Meridian #951",
           "Watercolour",
           "Monochrome",
           "Other"
          ],
          [
           "Meridian #637",
           "Prismatic",
           "Polychrome",
           "Other"
          ],
          [
           "Meridian #840",
           "Prismatic",
           "Polychrome",
           "Other"
          ],
          [
           "Meridian #891",
           "Paletted",
           "Trichrome",
           "Atoll"
          ],
          [
           "Meridian #666",
           "Paletted",
           "Duochrome",
           "Peninsula"
          ],
          [
           "Meridian #258",
           "Topographic",
           "Trichrome",
           "Other"
          ],
          [
           "Meridian #655",
           "Paletted",
           "Duochrome",
           "Glacier"
          ],
          [
           "Meridian #672",
           "Paletted",
           "Duochrome",
           "Ridge"
          ],
          [
           "Meridian #746",
           "Paletted",
           "Trichrome",
           "Archipelago"
          ],
          [
           "Meridian #972",
           "Watercolour",
           "Monochrome",
           "Other"
          ],
          [
           "Meridian #395",
           "Paletted",
           "Duochrome",
           "Marsh"
          ],
          [
           "Meridian #608",
           "Gouache",
           "Trichrome",
           "Other"
          ],
          [
           "Meridian #261",
           "Gouache",
           "Polychrome",
           "Other"
          ],
          [
           "Meridian #140",
           "Paletted",
           "Trichrome",
           "Oasis"
          ],
          [
           "Meridian #657",
           "Invert",
           "Monochrome",
           "Other"
          ],
          [
           "Meridian #777",
           "Prismatic",
           "Polychrome",
           "Other"
          ],
          [
           "Meridian #383",
           "Paletted",
           "Trichrome",
           "Canyon"
          ],
          [
           "Meridian #188",
           "Paletted",
           "Trichrome",
           "Shore"
          ],
          [
           "Meridian #982",
           "Procedural",
           "Duochrome",
           "Other"
          ],
          [
           "Meridian #534",
           "Polarized",
           "Trichrome",
           "Other"
          ],
          [
           "Meridian #90",
           "Paletted",
           "Duochrome",
           "Shore"
          ],
          [
           "Meridian #321",
           "Gouache",
           "Trichrome",
           "Other"
          ],
          [
           "Meridian #895",
           "Paletted",
           "Trichrome",
           "Oasis"
          ],
          [
           "Meridian #425",
           "Paletted",
           "Trichrome",
           "Glacier"
          ],
          [
           "Meridian #704",
           "Paletted",
           "Duochrome",
           "Ridge"
          ],
          [
           "Meridian #525",
           "Paletted",
           "Duochrome",
           "Volcano"
          ],
          [
           "Meridian #343",
           "Gouache",
           "Polychrome",
           "Other"
          ],
          [
           "Meridian #685",
           "Gouache",
           "Polychrome",
           "Other"
          ],
          [
           "Meridian #550",
           "Gilded",
           "Trichrome",
           "Other"
          ],
          [
           "Meridian #848",
           "Newsprint",
           "Monochrome",
           "Other"
          ],
          [
           "Meridian #652",
           "Paletted",
           "Duochrome",
           "Peninsula"
          ],
          [
           "Meridian #585",
           "Newsprint",
           "Monochrome",
           "Other"
          ],
          [
           "Meridian #629",
           "Gouache",
           "Trichrome",
           "Other"
          ],
          [
           "Meridian #128",
           "Procedural",
           "Duochrome",
           "Other"
          ],
          [
           "Meridian #292",
           "Gouache",
           "Polychrome",
           "Other"
          ],
          [
           "Meridian #216",
           "Polarized",
           "Duochrome",
           "Other"
          ],
          [
           "Meridian #811",
           "Newsprint",
           "Monochrome",
           "Other"
          ],
          [
           "Meridian #816",
           "Watercolour",
           "Duochrome",
           "Other"
          ],
          [
           "Meridian #217",
           "Gouache",
           "Duochrome",
           "Other"
          ],
          [
           "Meridian #976",
           "Lino",
           "Monochrome",
           "Other"
          ],
          [
           "Meridian #416",
           "Gilded",
           "Trichrome",
           "Other"
          ],
          [
           "Meridian #368",
           "Invert",
           "Monochrome",
           "Other"
          ],
          [
           "Meridian #893",
           "Paletted",
           "Trichrome",
           "Cove"
          ],
          [
           "Meridian #377",
           "Paletted",
           "Duochrome",
           "Cove"
          ],
          [
           "Meridian #40",
           "Polarized",
           "Duochrome",
           "Other"
          ],
          [
           "Meridian #504",
           "Paletted",
           "Duochrome",
           "Archipelago"
          ],
          [
           "Meridian #162",
           "Prismatic",
           "Polychrome",
           "Other"
          ],
          [
           "Meridian #911",
           "Prismatic",
           "Polychrome",
           "Other"
          ],
          [
           "Meridian #315",
           "Prismatic",
           "Polychrome",
           "Other"
          ],
          [
           "Meridian #441",
           "Prismatic",
           "Polychrome",
           "Other"
          ],
          [
           "Meridian #411",
           "Paletted",
           "Duochrome",
           "Dune"
          ],
          [
           "Meridian #877",
           "Prismatic",
           "Polychrome",
           "Other"
          ],
          [
           "Meridian #574",
           "Prismatic",
           "Polychrome",
           "Other"
          ],
          [
           "Meridian #345",
           "Prismatic",
           "Polychrome",
           "Other"
          ],
          [
           "Meridian #841",
           "Paletted",
           "Trichrome",
           "Canyon"
          ],
          [
           "Meridian #60",
           "Prismatic",
           "Polychrome",
           "Other"
          ],
          [
           "Meridian #797",
           "Prismatic",
           "Polychrome",
           "Other"
          ],
          [
           "Meridian #346",
           "Paletted",
           "Trichrome",
           "Delta"
          ],
          [
           "Meridian #589",
           "Paletted",
           "Duochrome",
           "Cove"
          ],
          [
           "Meridian #496",
           "Procedural",
           "Duochrome",
           "Other"
          ],
          [
           "Meridian #878",
           "Prismatic",
           "Polychrome",
           "Other"
          ],
          [
           "Meridian #163",
           "Paletted",
           "Duochrome",
           "Marsh"
          ],
          [
           "Meridian #662",
           "Paletted",
           "Trichrome",
           "Atoll"
          ],
          [
           "Meridian #421",
           "Gouache",
           "Trichrome",
           "Other"
          ],
          [
           "Meridian #805",
           "Polarized",
           "Trichrome",
           "Other"
          ],
          [
           "Meridian #273",
           "Gilded",
           "Trichrome",
           "Other"
          ],
          [
           "Meridian #65",
           "Paletted",
           "Trichrome",
           "Peninsula"
          ],
          [
           "Meridian #119",
           "Watercolour",
           "Monochrome",
           "Other"
          ],
          [
           "Meridian #597",
           "Paletted",
           "Duochrome",
           "Moraine"
          ],
          [
           "Meridian #945",
           "Paletted",
           "Duochrome",
           "Fjord"
          ],
          [
           "Meridian #813",
           "Paletted",
           "Trichrome",
           "Atoll"
          ],
          [
           "Meridian #581",
           "Lino",
           "Monochrome",
           "Other"
          ],
          [
           "Meridian #625",
           "Procedural",
           "Duochrome",
           "Other"
          ],
          [
           "Meridian #955",
           "Procedural",
           "Monochrome",
           "Other"
          ],
          [
           "Meridian #733",
           "Paletted",
           "Duochrome",
           "Oasis"
          ],
          [
           "Meridian #732",
           "Prismatic",
           "Polychrome",
           "Other"
          ],
          [
           "Meridian #964",
           "Prismatic",
           "Polychrome",
           "Other"
          ],
          [
           "Meridian #407",
           "Paletted",
           "Duochrome",
           "Fjord"
          ],
          [
           "Meridian #650",
           "Paletted",
           "Duochrome",
           "Atoll"
          ],
          [
           "Meridian #644",
           "Watercolour",
           "Monochrome",
           "Other"
          ],
          [
           "Meridian #865",
           "Prismatic",
           "Polychrome",
           "Other"
          ],
          [
           "Meridian #308",
           "Prismatic",
           "Polychrome",
           "Other"
          ],
          [
           "Meridian #229",
           "Paletted",
           "Trichrome",
           "Esker"
          ],
          [
           "Meridian #858",
           "Gouache",
           "Trichrome",
           "Other"
          ],
          [
           "Meridian #75",
           "Paletted",
           "Trichrome",
           "Glacier"
          ],
          [
           "Meridian #67",
           "Procedural",
           "Monochrome",
           "Other"
          ],
          [
           "Meridian #210",
           "Paletted",
           "Duochrome",
           "Reef"
          ],
          [
           "Meridian #643",
           "Gilded",
           "Trichrome",
           "Other"
          ],
          [
           "Meridian #286",
           "Paletted",
           "Duochrome",
           "Reef"
          ],
          [
           "Meridian #461",
           "Paletted",
           "Duochrome",
           "Ridge"
          ],
          [
           "Meridian #795",
           "Paletted",
           "Duochrome",
           "Oasis"
          ],
          [
           "Meridian #71",
           "Paletted",
           "Duochrome",
           "Gulf"
          ],
          [
           "Meridian #546",
           "Procedural",
           "Monochrome",
           "Other"
          ],
          [
           "Meridian #463",
           "Paletted",
           "Trichrome",
           "Canyon"
          ],
          [
           "Meridian #762",
           "Invert",
           "Monochrome",
           "Other"
          ],
          [
           "Meridian #82",
           "Prismatic",
           "Polychrome",
           "Other"
          ],
          [
           "Meridian #862",
           "Paletted",
           "Duochrome",
           "Fjord"
          ],
          [
           "Meridian #925",
           "Paletted",
           "Duochrome",
           "Moraine"
          ],
          [
           "Meridian #97",
           "Gouache",
           "Trichrome",
           "Other"
          ],
          [
           "Meridian #614",
           "Prismatic",
           "Polychrome",
           "Other"
          ],
          [
           "Meridian #823",
           "Prismatic",
           "Polychrome",
           "Other"
          ],
          [
           "Meridian #364",
           "Gouache",
           "Trichrome",
           "Other"
          ],
          [
           "Meridian #646",
           "Gouache",
           "Polychrome",
           "Other"
          ],
          [
           "Meridian #898",
           "Paletted",
           "Duochrome",
           "Prairie"
          ],
          [
           "Meridian #628",
           "Procedural",
           "Monochrome",
           "Other"
          ],
          [
           "Meridian #611",
           "Paletted",
           "Trichrome",
           "Moraine"
          ],
          [
           "Meridian #506",
           "Paletted",
           "Duochrome",
           "Atoll"
          ],
          [
           "Meridian #519",
           "Paletted",
           "Trichrome",
           "Canyon"
          ],
          [
           "Meridian #149",
           "Prismatic",
           "Polychrome",
           "Other"
          ],
          [
           "Meridian #621",
           "Paletted",
           "Trichrome",
           "Moraine"
          ],
          [
           "Meridian #247",
           "Paletted",
           "Duochrome",
           "Ridge"
          ],
          [
           "Meridian #212",
           "Gouache",
           "Trichrome",
           "Other"
          ],
          [
           "Meridian #283",
           "Paletted",
           "Duochrome",
           "Oasis"
          ],
          [
           "Meridian #457",
           "Prismatic",
           "Polychrome",
           "Other"
          ],
          [
           "Meridian #727",
           "Gouache",
           "Polychrome",
           "Other"
          ],
          [
           "Meridian #523",
           "Paletted",
           "Trichrome",
           "Cove"
          ],
          [
           "Meridian #193",
           "Prismatic",
           "Polychrome",
           "Other"
          ],
          [
           "Meridian #635",
           "Gouache",
           "Polychrome",
           "Other"
          ],
          [
           "Meridian #302",
           "Paletted",
           "Duochrome",
           "Reef"
          ],
          [
           "Meridian #798",
           "Procedural",
           "Duochrome",
           "Other"
          ],
          [
           "Meridian #259",
           "Paletted",
           "Duochrome",
           "Reef"
          ],
          [
           "Meridian #794",
           "Gouache",
           "Trichrome",
           "Other"
          ],
          [
           "Meridian #375",
           "Paletted",
           "Duochrome",
           "Volcano"
          ],
          [
           "Meridian #393",
           "Paletted",
           "Duochrome",
           "Oasis"
          ],
          [
           "Meridian #422",
           "Gouache",
           "Duochrome",
           "Other"
          ],
          [
           "Meridian #198",
           "Paletted",
           "Duochrome",
           "Volcano"
          ],
          [
           "Meridian #122",
           "Paletted",
           "Duochrome",
           "Glacier"
          ],
          [
           "Meridian #767",
           "Paletted",
           "Duochrome",
           "Peninsula"
          ],
          [
           "Meridian #34",
           "Prismatic",
           "Polychrome",
           "Other"
          ],
          [
           "Meridian #494",
           "Prismatic",
           "Polychrome",
           "Other"
          ],
          [
           "Meridian #498",
           "Prismatic",
           "Polychrome",
           "Other"
          ],
          [
           "Meridian #23",
           "Paletted",
           "Duochrome",
           "Canyon"
          ],
          [
           "Meridian #734",
           "Procedural",
           "Duochrome",
           "Other"
          ],
          [
           "Meridian #505",
           "Prismatic",
           "Polychrome",
           "Other"
          ],
          [
           "Meridian #559",
           "Paletted",
           "Duochrome",
           "Canyon"
          ],
          [
           "Meridian #552",
           "Paletted",
           "Trichrome",
           "Cove"
          ],
          [
           "Meridian #714",
           "Paletted",
           "Trichrome",
           "Peninsula"
          ],
          [
           "Meridian #686",
           "Prismatic",
           "Polychrome",
           "Other"
          ],
          [
           "Meridian #691",
           "Paletted",
           "Duochrome",
           "Moraine"
          ],
          [
           "Meridian #104",
           "Paletted",
           "Trichrome",
           "Peninsula"
          ],
          [
           "Meridian #901",
           "Paletted",
           "Duochrome",
           "Fjord"
          ],
          [
           "Meridian #53",
           "Paletted",
           "Duochrome",
           "Dune"
          ],
          [
           "Meridian #661",
           "Prismatic",
           "Polychrome",
           "Other"
          ],
          [
           "Meridian #743",
           "Paletted",
           "Duochrome",
           "Archipelago"
          ],
          [
           "Meridian #783",
           "Paletted",
           "Duochrome",
           "Cove"
          ],
          [
           "Meridian #623",
           "Paletted",
           "Duochrome",
           "Shore"
          ],
          [
           "Meridian #507",
           "Prismatic",
           "Polychrome",
           "Other"
          ],
          [
           "Meridian #429",
           "Prismatic",
           "Polychrome",
           "Other"
          ],
          [
           "Meridian #310",
           "Prismatic",
           "Polychrome",
           "Other"
          ],
          [
           "Meridian #222",
           "Gouache",
           "Polychrome",
           "Other"
          ],
          [
           "Meridian #202",
           "Prismatic",
           "Polychrome",
           "Other"
          ],
          [
           "Meridian #171",
           "Prime",
           "Monochrome",
           "Moraine"
          ],
          [
           "Meridian #959",
           "Paletted",
           "Duochrome",
           "Oasis"
          ],
          [
           "Meridian #969",
           "Screenprint",
           "Monochrome",
           "Other"
          ],
          [
           "Meridian #243",
           "Gouache",
           "Duochrome",
           "Other"
          ],
          [
           "Meridian #565",
           "Gouache",
           "Trichrome",
           "Other"
          ],
          [
           "Meridian #622",
           "Gilded",
           "Trichrome",
           "Other"
          ],
          [
           "Meridian #603",
           "Paletted",
           "Trichrome",
           "Fjord"
          ],
          [
           "Meridian #853",
           "Prismatic",
           "Polychrome",
           "Other"
          ],
          [
           "Meridian #947",
           "Paletted",
           "Duochrome",
           "Volcano"
          ],
          [
           "Meridian #257",
           "Procedural",
           "Duochrome",
           "Other"
          ],
          [
           "Meridian #92",
           "Prismatic",
           "Polychrome",
           "Other"
          ],
          [
           "Meridian #192",
           "Paletted",
           "Duochrome",
           "Marsh"
          ],
          [
           "Meridian #458",
           "Prismatic",
           "Polychrome",
           "Other"
          ],
          [
           "Meridian #396",
           "Paletted",
           "Duochrome",
           "Dune"
          ],
          [
           "Meridian #300",
           "Prismatic",
           "Polychrome",
           "Other"
          ],
          [
           "Meridian #156",
           "Paletted",
           "Duochrome",
           "Shore"
          ],
          [
           "Meridian #88",
           "Prismatic",
           "Polychrome",
           "Other"
          ],
          [
           "Meridian #638",
           "Charcoal",
           "Monochrome",
           "Other"
          ],
          [
           "Meridian #468",
           "Paletted",
           "Duochrome",
           "Volcano"
          ],
          [
           "Meridian #106",
           "Paletted",
           "Duochrome",
           "Marsh"
          ],
          [
           "Meridian #512",
           "Polarized",
           "Trichrome",
           "Other"
          ],
          [
           "Meridian #352",
           "Paletted",
           "Duochrome",
           "Reef"
          ],
          [
           "Meridian #312",
           "Paletted",
           "Duochrome",
           "Gulf"
          ],
          [
           "Meridian #601",
           "Procedural",
           "Duochrome",
           "Other"
          ],
          [
           "Meridian #489",
           "Paletted",
           "Duochrome",
           "Dune"
          ],
          [
           "Meridian #524",
           "Prismatic",
           "Polychrome",
           "Other"
          ],
          [
           "Meridian #869",
           "Gouache",
           "Polychrome",
           "Other"
          ],
          [
           "Meridian #540",
           "Paletted",
           "Trichrome",
           "Peninsula"
          ],
          [
           "Meridian #615",
           "Gouache",
           "Polychrome",
           "Other"
          ],
          [
           "Meridian #42",
           "Prismatic",
           "Polychrome",
           "Other"
          ],
          [
           "Meridian #564",
           "Paletted",
           "Trichrome",
           "Atoll"
          ],
          [
           "Meridian #69",
           "Prismatic",
           "Polychrome",
           "Other"
          ],
          [
           "Meridian #676",
           "Paletted",
           "Duochrome",
           "Archipelago"
          ],
          [
           "Meridian #745",
           "Paletted",
           "Duochrome",
           "Marsh"
          ],
          [
           "Meridian #76",
           "Paletted",
           "Duochrome",
           "Delta"
          ],
          [
           "Meridian #91",
           "Prismatic",
           "Polychrome",
           "Other"
          ],
          [
           "Meridian #189",
           "Gilded",
           "Trichrome",
           "Other"
          ],
          [
           "Meridian #130",
           "Gouache",
           "Polychrome",
           "Other"
          ],
          [
           "Meridian #787",
           "Paletted",
           "Duochrome",
           "Prairie"
          ],
          [
           "Meridian #433",
           "Polarized",
           "Duochrome",
           "Other"
          ],
          [
           "Meridian #478",
           "Paletted",
           "Trichrome",
           "Gulf"
          ],
          [
           "Meridian #175",
           "Prismatic",
           "Polychrome",
           "Other"
          ],
          [
           "Meridian #267",
           "Paletted",
           "Duochrome",
           "Reef"
          ],
          [
           "Meridian #235",
           "Gilded",
           "Trichrome",
           "Other"
          ],
          [
           "Meridian #464",
           "Paletted",
           "Trichrome",
           "Atoll"
          ],
          [
           "Meridian #645",
           "Gouache",
           "Trichrome",
           "Other"
          ],
          [
           "Meridian #829",
           "Gouache",
           "Trichrome",
           "Other"
          ],
          [
           "Meridian #136",
           "Watercolour",
           "Duochrome",
           "Other"
          ],
          [
           "Meridian #471",
           "Prismatic",
           "Polychrome",
           "Other"
          ],
          [
           "Meridian #594",
           "Paletted",
           "Trichrome",
           "Marsh"
          ],
          [
           "Meridian #721",
           "Polarized",
           "Duochrome",
           "Other"
          ],
          [
           "Meridian #165",
           "Paletted",
           "Duochrome",
           "Canyon"
          ],
          [
           "Meridian #432",
           "Paletted",
           "Duochrome",
           "Moraine"
          ],
          [
           "Meridian #203",
           "Prismatic",
           "Polychrome",
           "Other"
          ],
          [
           "Meridian #842",
           "Paletted",
           "Trichrome",
           "Peninsula"
          ],
          [
           "Meridian #74",
           "Prismatic",
           "Polychrome",
           "Other"
          ],
          [
           "Meridian #648",
           "Paletted",
           "Trichrome",
           "Cave"
          ],
          [
           "Meridian #409",
           "Polarized",
           "Duochrome",
           "Other"
          ],
          [
           "Meridian #299",
           "Gilded",
           "Trichrome",
           "Other"
          ],
          [
           "Meridian #705",
           "Paletted",
           "Duochrome",
           "Atoll"
          ],
          [
           "Meridian #606",
           "Paletted",
           "Duochrome",
           "Moraine"
          ],
          [
           "Meridian #289",
           "Procedural",
           "Duochrome",
           "Other"
          ],
          [
           "Meridian #268",
           "Gouache",
           "Polychrome",
           "Other"
          ],
          [
           "Meridian #66",
           "Paletted",
           "Duochrome",
           "Dune"
          ],
          [
           "Meridian #293",
           "Paletted",
           "Duochrome",
           "Reef"
          ],
          [
           "Meridian #330",
           "Paletted",
           "Duochrome",
           "Delta"
          ],
          [
           "Meridian #265",
           "Paletted",
           "Duochrome",
           "Prairie"
          ],
          [
           "Meridian #447",
           "Paletted",
           "Duochrome",
           "Peninsula"
          ],
          [
           "Meridian #313",
           "Gilded",
           "Trichrome",
           "Other"
          ],
          [
           "Meridian #586",
           "Prismatic",
           "Polychrome",
           "Other"
          ],
          [
           "Meridian #931",
           "Paletted",
           "Duochrome",
           "Moraine"
          ],
          [
           "Meridian #837",
           "Gouache",
           "Duochrome",
           "Other"
          ],
          [
           "Meridian #851",
           "Paletted",
           "Duochrome",
           "Peninsula"
          ],
          [
           "Meridian #517",
           "Prismatic",
           "Polychrome",
           "Other"
          ],
          [
           "Meridian #133",
           "Screenprint",
           "Monochrome",
           "Other"
          ],
          [
           "Meridian #555",
           "Prismatic",
           "Polychrome",
           "Other"
          ],
          [
           "Meridian #533",
           "Prismatic",
           "Polychrome",
           "Other"
          ],
          [
           "Meridian #828",
           "Paletted",
           "Duochrome",
           "Esker"
          ],
          [
           "Meridian #790",
           "Paletted",
           "Duochrome",
           "Gulf"
          ],
          [
           "Meridian #398",
           "Screenprint",
           "Monochrome",
           "Other"
          ],
          [
           "Meridian #337",
           "Prismatic",
           "Polychrome",
           "Other"
          ],
          [
           "Meridian #403",
           "Paletted",
           "Duochrome",
           "Esker"
          ],
          [
           "Meridian #360",
           "Paletted",
           "Duochrome",
           "Esker"
          ],
          [
           "Meridian #150",
           "Charcoal",
           "Monochrome",
           "Other"
          ],
          [
           "Meridian #834",
           "Gouache",
           "Duochrome",
           "Other"
          ],
          [
           "Meridian #688",
           "Gouache",
           "Polychrome",
           "Other"
          ],
          [
           "Meridian #275",
           "Prismatic",
           "Polychrome",
           "Other"
          ],
          [
           "Meridian #978",
           "Gouache",
           "Duochrome",
           "Other"
          ],
          [
           "Meridian #695",
           "Gouache",
           "Duochrome",
           "Other"
          ],
          [
           "Meridian #680",
           "Paletted",
           "Duochrome",
           "Reef"
          ],
          [
           "Meridian #54",
           "Prismatic",
           "Polychrome",
           "Other"
          ],
          [
           "Meridian #674",
           "Paletted",
           "Duochrome",
           "Gulf"
          ],
          [
           "Meridian #835",
           "Gouache",
           "Trichrome",
           "Other"
          ],
          [
           "Meridian #799",
           "Paletted",
           "Trichrome",
           "Oasis"
          ],
          [
           "Meridian #527",
           "Procedural",
           "Duochrome",
           "Other"
          ],
          [
           "Meridian #320",
           "Paletted",
           "Trichrome",
           "Moraine"
          ],
          [
           "Meridian #206",
           "Paletted",
           "Duochrome",
           "Gulf"
          ],
          [
           "Meridian #324",
           "Prismatic",
           "Polychrome",
           "Other"
          ],
          [
           "Meridian #501",
           "Prismatic",
           "Polychrome",
           "Other"
          ],
          [
           "Meridian #755",
           "Prismatic",
           "Polychrome",
           "Other"
          ],
          [
           "Meridian #881",
           "Prismatic",
           "Polychrome",
           "Other"
          ],
          [
           "Meridian #404",
           "Prismatic",
           "Polychrome",
           "Other"
          ],
          [
           "Meridian #747",
           "Gilded",
           "Trichrome",
           "Other"
          ],
          [
           "Meridian #211",
           "Prismatic",
           "Polychrome",
           "Other"
          ],
          [
           "Meridian #630",
           "Paletted",
           "Trichrome",
           "Delta"
          ],
          [
           "Meridian #515",
           "Gilded",
           "Trichrome",
           "Other"
          ],
          [
           "Meridian #736",
           "Prismatic",
           "Polychrome",
           "Other"
          ],
          [
           "Meridian #566",
           "Paletted",
           "Duochrome",
           "Mesa"
          ],
          [
           "Meridian #297",
           "Paletted",
           "Trichrome",
           "Archipelago"
          ],
          [
           "Meridian #445",
           "Prismatic",
           "Polychrome",
           "Other"
          ],
          [
           "Meridian #991",
           "Paletted",
           "Duochrome",
           "Dune"
          ],
          [
           "Meridian #943",
           "Paletted",
           "Trichrome",
           "Oasis"
          ],
          [
           "Meridian #788",
           "Paletted",
           "Trichrome",
           "Archipelago"
          ],
          [
           "Meridian #483",
           "Prismatic",
           "Polychrome",
           "Other"
          ],
          [
           "Meridian #172",
           "Charcoal",
           "Monochrome",
           "Other"
          ],
          [
           "Meridian #785",
           "Paletted",
           "Trichrome",
           "Cove"
          ],
          [
           "Meridian #784",
           "Gouache",
           "Polychrome",
           "Other"
          ],
          [
           "Meridian #521",
           "Prismatic",
           "Polychrome",
           "Other"
          ],
          [
           "Meridian #981",
           "Paletted",
           "Trichrome",
           "Archipelago"
          ],
          [
           "Meridian #399",
           "Paletted",
           "Duochrome",
           "Peninsula"
          ],
          [
           "Meridian #476",
           "Paletted",
           "Trichrome",
           "Fjord"
          ],
          [
           "Meridian #239",
           "Gouache",
           "Trichrome",
           "Other"
          ],
          [
           "Meridian #887",
           "Gilded",
           "Trichrome",
           "Other"
          ],
          [
           "Meridian #852",
           "Paletted",
           "Duochrome",
           "Archipelago"
          ],
          [
           "Meridian #864",
           "Watercolour",
           "Monochrome",
           "Other"
          ],
          [
           "Meridian #325",
           "Gouache",
           "Polychrome",
           "Other"
          ],
          [
           "Meridian #417",
           "Paletted",
           "Trichrome",
           "Mesa"
          ],
          [
           "Meridian #288",
           "Paletted",
           "Trichrome",
           "Canyon"
          ],
          [
           "Meridian #532",
           "Paletted",
           "Trichrome",
           "Canyon"
          ],
          [
           "Meridian #488",
           "Prismatic",
           "Polychrome",
           "Other"
          ],
          [
           "Meridian #101",
           "Paletted",
           "Duochrome",
           "Mesa"
          ],
          [
           "Meridian #617",
           "Prismatic",
           "Polychrome",
           "Other"
          ],
          [
           "Meridian #311",
           "Paletted",
           "Trichrome",
           "Cove"
          ],
          [
           "Meridian #490",
           "Paletted",
           "Duochrome",
           "Esker"
          ],
          [
           "Meridian #558",
           "Prismatic",
           "Polychrome",
           "Other"
          ],
          [
           "Meridian #843",
           "Paletted",
           "Duochrome",
           "Prairie"
          ],
          [
           "Meridian #819",
           "Prismatic",
           "Polychrome",
           "Other"
          ],
          [
           "Meridian #500",
           "Paletted",
           "Duochrome",
           "Prairie"
          ],
          [
           "Meridian #68",
           "Gouache",
           "Trichrome",
           "Other"
          ],
          [
           "Meridian #744",
           "Prismatic",
           "Polychrome",
           "Other"
          ],
          [
           "Meridian #294",
           "Paletted",
           "Duochrome",
           "Cave"
          ],
          [
           "Meridian #876",
           "Prismatic",
           "Polychrome",
           "Other"
          ],
          [
           "Meridian #726",
           "Paletted",
           "Trichrome",
           "Cave"
          ],
          [
           "Meridian #547",
           "Prismatic",
           "Polychrome",
           "Other"
          ],
          [
           "Meridian #773",
           "Lino",
           "Monochrome",
           "Other"
          ],
          [
           "Meridian #653",
           "Procedural",
           "Duochrome",
           "Other"
          ],
          [
           "Meridian #112",
           "Paletted",
           "Duochrome",
           "Glacier"
          ],
          [
           "Meridian #952",
           "Prismatic",
           "Polychrome",
           "Other"
          ],
          [
           "Meridian #612",
           "Procedural",
           "Monochrome",
           "Other"
          ],
          [
           "Meridian #414",
           "Procedural",
           "Monochrome",
           "Other"
          ],
          [
           "Meridian #448",
           "Prismatic",
           "Polychrome",
           "Other"
          ],
          [
           "Meridian #164",
           "Polarized",
           "Duochrome",
           "Other"
          ],
          [
           "Meridian #702",
           "Prismatic",
           "Polychrome",
           "Other"
          ],
          [
           "Meridian #319",
           "Prismatic",
           "Polychrome",
           "Other"
          ],
          [
           "Meridian #470",
           "Procedural",
           "Monochrome",
           "Other"
          ],
          [
           "Meridian #531",
           "Paletted",
           "Duochrome",
           "Cove"
          ],
          [
           "Meridian #908",
           "Gouache",
           "Polychrome",
           "Other"
          ],
          [
           "Meridian #803",
           "Paletted",
           "Trichrome",
           "Esker"
          ],
          [
           "Meridian #669",
           "Paletted",
           "Duochrome",
           "Reef"
          ],
          [
           "Meridian #942",
           "Prismatic",
           "Polychrome",
           "Other"
          ],
          [
           "Meridian #199",
           "Prismatic",
           "Polychrome",
           "Other"
          ],
          [
           "Meridian #569",
           "Prismatic",
           "Polychrome",
           "Other"
          ],
          [
           "Meridian #716",
           "Procedural",
           "Duochrome",
           "Other"
          ],
          [
           "Meridian #254",
           "Paletted",
           "Duochrome",
           "Archipelago"
          ],
          [
           "Meridian #503",
           "Paletted",
           "Duochrome",
           "Reef"
          ],
          [
           "Meridian #735",
           "Prismatic",
           "Polychrome",
           "Other"
          ],
          [
           "Meridian #772",
           "Prismatic",
           "Polychrome",
           "Other"
          ],
          [
           "Meridian #804",
           "Gouache",
           "Polychrome",
           "Other"
          ],
          [
           "Meridian #485",
           "Paletted",
           "Trichrome",
           "Delta"
          ],
          [
           "Meridian #334",
           "Paletted",
           "Trichrome",
           "Fjord"
          ],
          [
           "Meridian #231",
           "Watercolour",
           "Monochrome",
           "Other"
          ],
          [
           "Meridian #142",
           "Paletted",
           "Duochrome",
           "Reef"
          ],
          [
           "Meridian #439",
           "Paletted",
           "Trichrome",
           "Canyon"
          ],
          [
           "Meridian #442",
           "Gouache",
           "Duochrome",
           "Other"
          ],
          [
           "Meridian #160",
           "Prismatic",
           "Polychrome",
           "Other"
          ],
          [
           "Meridian #742",
           "Screenprint",
           "Monochrome",
           "Other"
          ],
          [
           "Meridian #98",
           "Prismatic",
           "Polychrome",
           "Other"
          ],
          [
           "Meridian #722",
           "Paletted",
           "Duochrome",
           "Dune"
          ],
          [
           "Meridian #724",
           "Prismatic",
           "Polychrome",
           "Other"
          ],
          [
           "Meridian #314",
           "Paletted",
           "Duochrome",
           "Dune"
          ],
          [
           "Meridian #134",
           "Lino",
           "Monochrome",
           "Other"
          ],
          [
           "Meridian #402",
           "Paletted",
           "Duochrome",
           "Glacier"
          ],
          [
           "Meridian #602",
           "Procedural",
           "Duochrome",
           "Other"
          ],
          [
           "Meridian #687",
           "Procedural",
           "Duochrome",
           "Other"
          ],
          [
           "Meridian #720",
           "Prismatic",
           "Polychrome",
           "Other"
          ],
          [
           "Meridian #270",
           "Lino",
           "Monochrome",
           "Other"
          ],
          [
           "Meridian #173",
           "Prismatic",
           "Polychrome",
           "Other"
          ],
          [
           "Meridian #827",
           "Gouache",
           "Trichrome",
           "Other"
          ],
          [
           "Meridian #127",
           "Prime",
           "Monochrome",
           "Volcano"
          ],
          [
           "Meridian #979",
           "Prismatic",
           "Polychrome",
           "Other"
          ],
          [
           "Meridian #690",
           "Paletted",
           "Duochrome",
           "Shore"
          ],
          [
           "Meridian #453",
           "Paletted",
           "Duochrome",
           "Prairie"
          ],
          [
           "Meridian #513",
           "Paletted",
           "Trichrome",
           "Delta"
          ],
          [
           "Meridian #290",
           "Paletted",
           "Duochrome",
           "Dune"
          ],
          [
           "Meridian #626",
           "Paletted",
           "Duochrome",
           "Fjord"
          ],
          [
           "Meridian #730",
           "Paletted",
           "Trichrome",
           "Oasis"
          ],
          [
           "Meridian #475",
           "Prismatic",
           "Polychrome",
           "Other"
          ],
          [
           "Meridian #108",
           "Gouache",
           "Trichrome",
           "Other"
          ],
          [
           "Meridian #998",
           "Prismatic",
           "Polychrome",
           "Other"
          ],
          [
           "Meridian #700",
           "Paletted",
           "Trichrome",
           "Atoll"
          ],
          [
           "Meridian #627",
           "Prismatic",
           "Polychrome",
           "Other"
          ],
          [
           "Meridian #354",
           "Paletted",
           "Duochrome",
           "Peninsula"
          ],
          [
           "Meridian #159",
           "Paletted",
           "Trichrome",
           "Archipelago"
          ],
          [
           "Meridian #740",
           "Paletted",
           "Duochrome",
           "Esker"
          ],
          [
           "Meridian #48",
           "Prismatic",
           "Polychrome",
           "Other"
          ],
          [
           "Meridian #158",
           "Paletted",
           "Duochrome",
           "Archipelago"
          ],
          [
           "Meridian #49",
           "Prismatic",
           "Polychrome",
           "Other"
          ],
          [
           "Meridian #361",
           "Paletted",
           "Trichrome",
           "Cove"
          ],
          [
           "Meridian #553",
           "Prismatic",
           "Polychrome",
           "Other"
          ],
          [
           "Meridian #51",
           "Prismatic",
           "Polychrome",
           "Other"
          ],
          [
           "Meridian #279",
           "Prismatic",
           "Polychrome",
           "Other"
          ],
          [
           "Meridian #176",
           "Prismatic",
           "Polychrome",
           "Other"
          ],
          [
           "Meridian #367",
           "Prismatic",
           "Polychrome",
           "Other"
          ],
          [
           "Meridian #207",
           "Procedural",
           "Duochrome",
           "Other"
          ],
          [
           "Meridian #701",
           "Prismatic",
           "Polychrome",
           "Other"
          ],
          [
           "Meridian #495",
           "Paletted",
           "Trichrome",
           "Oasis"
          ],
          [
           "Meridian #791",
           "Prismatic",
           "Polychrome",
           "Other"
          ],
          [
           "Meridian #997",
           "Gouache",
           "Duochrome",
           "Other"
          ],
          [
           "Meridian #228",
           "Prismatic",
           "Polychrome",
           "Other"
          ],
          [
           "Meridian #737",
           "Gouache",
           "Trichrome",
           "Other"
          ],
          [
           "Meridian #187",
           "Polarized",
           "Trichrome",
           "Other"
          ],
          [
           "Meridian #260",
           "Paletted",
           "Trichrome",
           "Cave"
          ],
          [
           "Meridian #774",
           "Gouache",
           "Trichrome",
           "Other"
          ],
          [
           "Meridian #933",
           "Prismatic",
           "Polychrome",
           "Other"
          ],
          [
           "Meridian #444",
           "Prismatic",
           "Polychrome",
           "Other"
          ],
          [
           "Meridian #707",
           "Prismatic",
           "Polychrome",
           "Other"
          ],
          [
           "Meridian #499",
           "Screenprint",
           "Monochrome",
           "Other"
          ],
          [
           "Meridian #910",
           "Screenprint",
           "Monochrome",
           "Other"
          ],
          [
           "Meridian #715",
           "Polarized",
           "Duochrome",
           "Other"
          ],
          [
           "Meridian #793",
           "Prismatic",
           "Polychrome",
           "Other"
          ],
          [
           "Meridian #664",
           "Gouache",
           "Trichrome",
           "Other"
          ],
          [
           "Meridian #39",
           "Prismatic",
           "Polychrome",
           "Other"
          ],
          [
           "Meridian #132",
           "Paletted",
           "Duochrome",
           "Atoll"
          ],
          [
           "Meridian #278",
           "Prismatic",
           "Polychrome",
           "Other"
          ],
          [
           "Meridian #973",
           "Gouache",
           "Trichrome",
           "Other"
          ],
          [
           "Meridian #349",
           "Paletted",
           "Trichrome",
           "Mesa"
          ],
          [
           "Meridian #782",
           "Prismatic",
           "Polychrome",
           "Other"
          ],
          [
           "Meridian #508",
           "Prismatic",
           "Polychrome",
           "Other"
          ],
          [
           "Meridian #381",
           "Paletted",
           "Duochrome",
           "Cove"
          ],
          [
           "Meridian #454",
           "Prismatic",
           "Polychrome",
           "Other"
          ],
          [
           "Meridian #389",
           "Paletted",
           "Duochrome",
           "Cave"
          ],
          [
           "Meridian #573",
           "Paletted",
           "Duochrome",
           "Volcano"
          ],
          [
           "Meridian #708",
           "Screenprint",
           "Monochrome",
           "Other"
          ],
          [
           "Meridian #408",
           "Prismatic",
           "Polychrome",
           "Other"
          ],
          [
           "Meridian #588",
           "Paletted",
           "Trichrome",
           "Oasis"
          ],
          [
           "Meridian #185",
           "Prismatic",
           "Polychrome",
           "Other"
          ],
          [
           "Meridian #426",
           "Paletted",
           "Trichrome",
           "Cave"
          ],
          [
           "Meridian #423",
           "Prismatic",
           "Polychrome",
           "Other"
          ],
          [
           "Meridian #190",
           "Paletted",
           "Duochrome",
           "Peninsula"
          ],
          [
           "Meridian #975",
           "Prismatic",
           "Polychrome",
           "Other"
          ],
          [
           "Meridian #868",
           "Paletted",
           "Duochrome",
           "Peninsula"
          ],
          [
           "Meridian #870",
           "Prismatic",
           "Polychrome",
           "Other"
          ],
          [
           "Meridian #822",
           "Prismatic",
           "Polychrome",
           "Other"
          ],
          [
           "Meridian #673",
           "Procedural",
           "Duochrome",
           "Other"
          ],
          [
           "Meridian #766",
           "Gouache",
           "Trichrome",
           "Other"
          ],
          [
           "Meridian #451",
           "Lino",
           "Monochrome",
           "Other"
          ],
          [
           "Meridian #537",
           "Paletted",
           "Duochrome",
           "Mesa"
          ],
          [
           "Meridian #577",
           "Prismatic",
           "Polychrome",
           "Other"
          ],
          [
           "Meridian #274",
           "Paletted",
           "Trichrome",
           "Moraine"
          ],
          [
           "Meridian #786",
           "Prismatic",
           "Polychrome",
           "Other"
          ],
          [
           "Meridian #338",
           "Paletted",
           "Trichrome",
           "Canyon"
          ],
          [
           "Meridian #285",
           "Paletted",
           "Duochrome",
           "Shore"
          ],
          [
           "Meridian #440",
           "Prismatic",
           "Polychrome",
           "Other"
          ],
          [
           "Meridian #514",
           "Prismatic",
           "Polychrome",
           "Other"
          ],
          [
           "Meridian #571",
           "Gilded",
           "Trichrome",
           "Other"
          ],
          [
           "Meridian #757",
           "Paletted",
           "Duochrome",
           "Prairie"
          ],
          [
           "Meridian #400",
           "Polarized",
           "Trichrome",
           "Other"
          ],
          [
           "Meridian #562",
           "Prismatic",
           "Polychrome",
           "Other"
          ],
          [
           "Meridian #455",
           "Prismatic",
           "Polychrome",
           "Other"
          ],
          [
           "Meridian #370",
           "Prismatic",
           "Polychrome",
           "Other"
          ],
          [
           "Meridian #401",
           "Prismatic",
           "Polychrome",
           "Other"
          ],
          [
           "Meridian #322",
           "Procedural",
           "Duochrome",
           "Other"
          ],
          [
           "Meridian #366",
           "Paletted",
           "Duochrome",
           "Moraine"
          ],
          [
           "Meridian #224",
           "Lino",
           "Monochrome",
           "Other"
          ],
          [
           "Meridian #554",
           "Screenprint",
           "Monochrome",
           "Other"
          ],
          [
           "Meridian #301",
           "Paletted",
           "Duochrome",
           "Dune"
          ],
          [
           "Meridian #682",
           "Prismatic",
           "Polychrome",
           "Other"
          ],
          [
           "Meridian #87",
           "Paletted",
           "Trichrome",
           "Oasis"
          ],
          [
           "Meridian #861",
           "Prismatic",
           "Polychrome",
           "Other"
          ],
          [
           "Meridian #355",
           "Procedural",
           "Duochrome",
           "Other"
          ],
          [
           "Meridian #781",
           "Prismatic",
           "Polychrome",
           "Other"
          ],
          [
           "Meridian #598",
           "Polarized",
           "Duochrome",
           "Other"
          ],
          [
           "Meridian #85",
           "Gilded",
           "Trichrome",
           "Other"
          ],
          [
           "Meridian #796",
           "Prismatic",
           "Polychrome",
           "Other"
          ],
          [
           "Meridian #753",
           "Paletted",
           "Duochrome",
           "Moraine"
          ],
          [
           "Meridian #967",
           "Gouache",
           "Duochrome",
           "Other"
          ],
          [
           "Meridian #350",
           "Procedural",
           "Monochrome",
           "Other"
          ],
          [
           "Meridian #613",
           "Paletted",
           "Trichrome",
           "Canyon"
          ],
          [
           "Meridian #460",
           "Prismatic",
           "Polychrome",
           "Other"
          ],
          [
           "Meridian #678",
           "Prismatic",
           "Polychrome",
           "Other"
          ],
          [
           "Meridian #709",
           "Paletted",
           "Trichrome",
           "Atoll"
          ],
          [
           "Meridian #215",
           "Prismatic",
           "Polychrome",
           "Other"
          ],
          [
           "Meridian #703",
           "Paletted",
           "Duochrome",
           "Ridge"
          ],
          [
           "Meridian #526",
           "Paletted",
           "Trichrome",
           "Moraine"
          ],
          [
           "Meridian #218",
           "Prismatic",
           "Polychrome",
           "Other"
          ],
          [
           "Meridian #480",
           "Paletted",
           "Duochrome",
           "Volcano"
          ],
          [
           "Meridian #177",
           "Prismatic",
           "Polychrome",
           "Other"
          ],
          [
           "Meridian #677",
           "Paletted",
           "Duochrome",
           "Fjord"
          ],
          [
           "Meridian #599",
           "Paletted",
           "Duochrome",
           "Ridge"
          ],
          [
           "Meridian #126",
           "Procedural",
           "Monochrome",
           "Other"
          ],
          [
           "Meridian #234",
           "Polarized",
           "Trichrome",
           "Other"
          ],
          [
           "Meridian #872",
           "Prismatic",
           "Polychrome",
           "Other"
          ],
          [
           "Meridian #304",
           "Prismatic",
           "Polychrome",
           "Other"
          ],
          [
           "Meridian #204",
           "Paletted",
           "Duochrome",
           "Oasis"
          ],
          [
           "Meridian #915",
           "Paletted",
           "Duochrome",
           "Dune"
          ],
          [
           "Meridian #761",
           "Paletted",
           "Duochrome",
           "Moraine"
          ],
          [
           "Meridian #509",
           "Paletted",
           "Trichrome",
           "Canyon"
          ],
          [
           "Meridian #763",
           "Lino",
           "Monochrome",
           "Other"
          ],
          [
           "Meridian #121",
           "Prismatic",
           "Polychrome",
           "Other"
          ],
          [
           "Meridian #342",
           "Paletted",
           "Duochrome",
           "Reef"
          ],
          [
           "Meridian #194",
           "Prismatic",
           "Polychrome",
           "Other"
          ],
          [
           "Meridian #412",
           "Prismatic",
           "Polychrome",
           "Other"
          ],
          [
           "Meridian #195",
           "Paletted",
           "Duochrome",
           "Atoll"
          ],
          [
           "Meridian #208",
           "Paletted",
           "Duochrome",
           "Volcano"
          ],
          [
           "Meridian #950",
           "Polarized",
           "Duochrome",
           "Other"
          ],
          [
           "Meridian #225",
           "Prismatic",
           "Polychrome",
           "Other"
          ],
          [
           "Meridian #179",
           "Paletted",
           "Duochrome",
           "Glacier"
          ],
          [
           "Meridian #692",
           "Prismatic",
           "Polychrome",
           "Other"
          ],
          [
           "Meridian #62",
           "Gouache",
           "Duochrome",
           "Other"
          ],
          [
           "Meridian #651",
           "Procedural",
           "Duochrome",
           "Other"
          ],
          [
           "Meridian #604",
           "Prismatic",
           "Polychrome",
           "Other"
          ],
          [
           "Meridian #144",
           "Gouache",
           "Duochrome",
           "Other"
          ],
          [
           "Meridian #184",
           "Prismatic",
           "Polychrome",
           "Other"
          ],
          [
           "Meridian #806",
           "Prismatic",
           "Polychrome",
           "Other"
          ],
          [
           "Meridian #545",
           "Paletted",
           "Duochrome",
           "Fjord"
          ],
          [
           "Meridian #689",
           "Procedural",
           "Monochrome",
           "Other"
          ],
          [
           "Meridian #863",
           "Watercolour",
           "Monochrome",
           "Other"
          ],
          [
           "Meridian #949",
           "Paletted",
           "Duochrome",
           "Glacier"
          ],
          [
           "Meridian #530",
           "Paletted",
           "Trichrome",
           "Mesa"
          ],
          [
           "Meridian #713",
           "Paletted",
           "Duochrome",
           "Marsh"
          ],
          [
           "Meridian #282",
           "Prismatic",
           "Polychrome",
           "Other"
          ],
          [
           "Meridian #277",
           "Paletted",
           "Duochrome",
           "Ridge"
          ],
          [
           "Meridian #670",
           "Prismatic",
           "Polychrome",
           "Other"
          ],
          [
           "Meridian #329",
           "Gouache",
           "Polychrome",
           "Other"
          ],
          [
           "Meridian #769",
           "Prismatic",
           "Polychrome",
           "Other"
          ],
          [
           "Meridian #920",
           "Gilded",
           "Trichrome",
           "Other"
          ],
          [
           "Meridian #963",
           "Prismatic",
           "Polychrome",
           "Other"
          ],
          [
           "Meridian #363",
           "Procedural",
           "Duochrome",
           "Other"
          ],
          [
           "Meridian #64",
           "Paletted",
           "Trichrome",
           "Fjord"
          ],
          [
           "Meridian #191",
           "Prismatic",
           "Polychrome",
           "Other"
          ],
          [
           "Meridian #875",
           "Screenprint",
           "Monochrome",
           "Other"
          ],
          [
           "Meridian #170",
           "Gouache",
           "Duochrome",
           "Other"
          ],
          [
           "Meridian #671",
           "Paletted",
           "Duochrome",
           "Ridge"
          ],
          [
           "Meridian #592",
           "Prismatic",
           "Polychrome",
           "Other"
          ],
          [
           "Meridian #424",
           "Paletted",
           "Duochrome",
           "Ridge"
          ],
          [
           "Meridian #912",
           "Prismatic",
           "Polychrome",
           "Other"
          ],
          [
           "Meridian #415",
           "Paletted",
           "Duochrome",
           "Archipelago"
          ],
          [
           "Meridian #913",
           "Paletted",
           "Trichrome",
           "Esker"
          ],
          [
           "Meridian #380",
           "Prismatic",
           "Polychrome",
           "Other"
          ],
          [
           "Meridian #818",
           "Prismatic",
           "Polychrome",
           "Other"
          ],
          [
           "Meridian #520",
           "Watercolour",
           "Monochrome",
           "Other"
          ],
          [
           "Meridian #469",
           "Prismatic",
           "Polychrome",
           "Other"
          ],
          [
           "Meridian #539",
           "Paletted",
           "Trichrome",
           "Marsh"
          ],
          [
           "Meridian #385",
           "Paletted",
           "Duochrome",
           "Shore"
          ],
          [
           "Meridian #481",
           "Paletted",
           "Duochrome",
           "Fjord"
          ],
          [
           "Meridian #167",
           "Prismatic",
           "Polychrome",
           "Other"
          ],
          [
           "Meridian #607",
           "Paletted",
           "Trichrome",
           "Fjord"
          ],
          [
           "Meridian #775",
           "Gouache",
           "Trichrome",
           "Other"
          ],
          [
           "Meridian #374",
           "Paletted",
           "Trichrome",
           "Gulf"
          ],
          [
           "Meridian #147",
           "Prismatic",
           "Polychrome",
           "Other"
          ],
          [
           "Meridian #462",
           "Paletted",
           "Duochrome",
           "Esker"
          ],
          [
           "Meridian #728",
           "Paletted",
           "Duochrome",
           "Shore"
          ],
          [
           "Meridian #387",
           "Gouache",
           "Polychrome",
           "Other"
          ],
          [
           "Meridian #699",
           "Paletted",
           "Trichrome",
           "Marsh"
          ],
          [
           "Meridian #971",
           "Paletted",
           "Trichrome",
           "Archipelago"
          ],
          [
           "Meridian #516",
           "Paletted",
           "Duochrome",
           "Volcano"
          ],
          [
           "Meridian #255",
           "Gouache",
           "Duochrome",
           "Other"
          ],
          [
           "Meridian #276",
           "Gouache",
           "Duochrome",
           "Other"
          ],
          [
           "Meridian #825",
           "Prismatic",
           "Polychrome",
           "Other"
          ],
          [
           "Meridian #466",
           "Prismatic",
           "Polychrome",
           "Other"
          ],
          [
           "Meridian #57",
           "Paletted",
           "Trichrome",
           "Oasis"
          ],
          [
           "Meridian #214",
           "Paletted",
           "Duochrome",
           "Dune"
          ],
          [
           "Meridian #824",
           "Gilded",
           "Trichrome",
           "Other"
          ],
          [
           "Meridian #591",
           "Procedural",
           "Duochrome",
           "Other"
          ],
          [
           "Meridian #351",
           "Prismatic",
           "Polychrome",
           "Other"
          ],
          [
           "Meridian #609",
           "Paletted",
           "Duochrome",
           "Ridge"
          ],
          [
           "Meridian #741",
           "Prismatic",
           "Polychrome",
           "Other"
          ],
          [
           "Meridian #698",
           "Prismatic",
           "Polychrome",
           "Other"
          ],
          [
           "Meridian #605",
           "Paletted",
           "Duochrome",
           "Delta"
          ],
          [
           "Meridian #683",
           "Prismatic",
           "Polychrome",
           "Other"
          ],
          [
           "Meridian #958",
           "Paletted",
           "Duochrome",
           "Prairie"
          ],
          [
           "Meridian #95",
           "Lino",
           "Monochrome",
           "Other"
          ],
          [
           "Meridian #232",
           "Paletted",
           "Duochrome",
           "Moraine"
          ],
          [
           "Meridian #983",
           "Paletted",
           "Duochrome",
           "Archipelago"
          ],
          [
           "Meridian #659",
           "Prismatic",
           "Polychrome",
           "Other"
          ],
          [
           "Meridian #77",
           "Procedural",
           "Monochrome",
           "Other"
          ],
          [
           "Meridian #918",
           "Prismatic",
           "Polychrome",
           "Other"
          ],
          [
           "Meridian #957",
           "Paletted",
           "Duochrome",
           "Gulf"
          ],
          [
           "Meridian #291",
           "Paletted",
           "Duochrome",
           "Ridge"
          ],
          [
           "Meridian #420",
           "Prismatic",
           "Polychrome",
           "Other"
          ],
          [
           "Meridian #758",
           "Paletted",
           "Trichrome",
           "Marsh"
          ],
          [
           "Meridian #362",
           "Prismatic",
           "Polychrome",
           "Other"
          ],
          [
           "Meridian #826",
           "Paletted",
           "Duochrome",
           "Ridge"
          ],
          [
           "Meridian #99",
           "Prismatic",
           "Polychrome",
           "Other"
          ],
          [
           "Meridian #916",
           "Prismatic",
           "Polychrome",
           "Other"
          ],
          [
           "Meridian #241",
           "Paletted",
           "Trichrome",
           "Esker"
          ],
          [
           "Meridian #157",
           "Prismatic",
           "Polychrome",
           "Other"
          ],
          [
           "Meridian #497",
           "Paletted",
           "Trichrome",
           "Cave"
          ],
          [
           "Meridian #647",
           "Gouache",
           "Polychrome",
           "Other"
          ],
          [
           "Meridian #233",
           "Paletted",
           "Duochrome",
           "Peninsula"
          ],
          [
           "Meridian #419",
           "Paletted",
           "Duochrome",
           "Reef"
          ],
          [
           "Meridian #376",
           "Prismatic",
           "Polychrome",
           "Other"
          ],
          [
           "Meridian #814",
           "Paletted",
           "Trichrome",
           "Shore"
          ],
          [
           "Meridian #528",
           "Procedural",
           "Monochrome",
           "Other"
          ],
          [
           "Meridian #830",
           "Paletted",
           "Trichrome",
           "Archipelago"
          ],
          [
           "Meridian #431",
           "Prismatic",
           "Polychrome",
           "Other"
          ],
          [
           "Meridian #437",
           "Prismatic",
           "Polychrome",
           "Other"
          ],
          [
           "Meridian #725",
           "Paletted",
           "Duochrome",
           "Marsh"
          ],
          [
           "Meridian #681",
           "Prismatic",
           "Polychrome",
           "Other"
          ],
          [
           "Meridian #436",
           "Paletted",
           "Duochrome",
           "Delta"
          ],
          [
           "Meridian #123",
           "Paletted",
           "Duochrome",
           "Canyon"
          ],
          [
           "Meridian #542",
           "Prismatic",
           "Polychrome",
           "Other"
          ],
          [
           "Meridian #435",
           "Prismatic",
           "Polychrome",
           "Other"
          ],
          [
           "Meridian #596",
           "Prismatic",
           "Polychrome",
           "Other"
          ],
          [
           "Meridian #544",
           "Paletted",
           "Duochrome",
           "Archipelago"
          ],
          [
           "Meridian #197",
           "Procedural",
           "Monochrome",
           "Other"
          ],
          [
           "Meridian #567",
           "Gouache",
           "Polychrome",
           "Other"
          ],
          [
           "Meridian #953",
           "Paletted",
           "Duochrome",
           "Delta"
          ],
          [
           "Meridian #549",
           "Paletted",
           "Trichrome",
           "Canyon"
          ],
          [
           "Meridian #392",
           "Prismatic",
           "Polychrome",
           "Other"
          ],
          [
           "Meridian #831",
           "Paletted",
           "Trichrome",
           "Archipelago"
          ],
          [
           "Meridian #125",
           "Paletted",
           "Duochrome",
           "Gulf"
          ],
          [
           "Meridian #168",
           "Procedural",
           "Duochrome",
           "Other"
          ],
          [
           "Meridian #995",
           "Paletted",
           "Duochrome",
           "Reef"
          ],
          [
           "Meridian #248",
           "Paletted",
           "Duochrome",
           "Dune"
          ],
          [
           "Meridian #272",
           "Gouache",
           "Polychrome",
           "Other"
          ],
          [
           "Meridian #430",
           "Watercolour",
           "Duochrome",
           "Other"
          ],
          [
           "Meridian #242",
           "Watercolour",
           "Monochrome",
           "Other"
          ],
          [
           "Meridian #616",
           "Paletted",
           "Duochrome",
           "Shore"
          ],
          [
           "Meridian #548",
           "Paletted",
           "Duochrome",
           "Gulf"
          ],
          [
           "Meridian #434",
           "Paletted",
           "Trichrome",
           "Fjord"
          ],
          [
           "Meridian #839",
           "Paletted",
           "Duochrome",
           "Oasis"
          ],
          [
           "Meridian #410",
           "Paletted",
           "Duochrome",
           "Moraine"
          ],
          [
           "Meridian #580",
           "Polarized",
           "Trichrome",
           "Other"
          ],
          [
           "Meridian #19",
           "Gilded",
           "Trichrome",
           "Other"
          ],
          [
           "Meridian #17",
           "Prismatic",
           "Polychrome",
           "Other"
          ],
          [
           "Meridian #15",
           "Paletted",
           "Duochrome",
           "Prairie"
          ],
          [
           "Meridian #14",
           "Paletted",
           "Duochrome",
           "Mesa"
          ],
          [
           "Meridian #13",
           "Paletted",
           "Duochrome",
           "Glacier"
          ],
          [
           "Meridian #12",
           "Screenprint",
           "Monochrome",
           "Other"
          ],
          [
           "Meridian #11",
           "Paletted",
           "Trichrome",
           "Cave"
          ],
          [
           "Meridian #10",
           "Paletted",
           "Trichrome",
           "Mesa"
          ],
          [
           "Meridian #9",
           "Paletted",
           "Duochrome",
           "Dune"
          ],
          [
           "Meridian #8",
           "Paletted",
           "Duochrome",
           "Gulf"
          ],
          [
           "Meridian #7",
           "Lino",
           "Monochrome",
           "Other"
          ],
          [
           "Meridian #6",
           "Prismatic",
           "Polychrome",
           "Other"
          ],
          [
           "Meridian #5",
           "Polarized",
           "Duochrome",
           "Other"
          ],
          [
           "Meridian #4",
           "Prismatic",
           "Polychrome",
           "Other"
          ],
          [
           "Meridian #2",
           "Paletted",
           "Duochrome",
           "Prairie"
          ],
          [
           "Meridian #0",
           "Paletted",
           "Trichrome",
           "Shore"
          ],
          [
           "Meridian #38",
           "Paletted",
           "Trichrome",
           "Marsh"
          ],
          [
           "Meridian #37",
           "Prismatic",
           "Polychrome",
           "Other"
          ],
          [
           "Meridian #36",
           "Watercolour",
           "Monochrome",
           "Other"
          ],
          [
           "Meridian #33",
           "Paletted",
           "Trichrome",
           "Shore"
          ],
          [
           "Meridian #31",
           "Prismatic",
           "Polychrome",
           "Other"
          ],
          [
           "Meridian #30",
           "Prismatic",
           "Polychrome",
           "Other"
          ],
          [
           "Meridian #29",
           "Paletted",
           "Duochrome",
           "Prairie"
          ],
          [
           "Meridian #27",
           "Gouache",
           "Duochrome",
           "Other"
          ],
          [
           "Meridian #26",
           "Paletted",
           "Duochrome",
           "Prairie"
          ],
          [
           "Meridian #25",
           "Gouache",
           "Duochrome",
           "Other"
          ],
          [
           "Meridian #24",
           "Paletted",
           "Trichrome",
           "Oasis"
          ],
          [
           "Meridian #22",
           "Paletted",
           "Duochrome",
           "Dune"
          ],
          [
           "Meridian #21",
           "Gouache",
           "Trichrome",
           "Other"
          ],
          [
           "Meridian #20",
           "Paletted",
           "Trichrome",
           "Oasis"
          ],
          [
           "Meridian #59",
           "Prismatic",
           "Polychrome",
           "Other"
          ],
          [
           "Meridian #50",
           "Paletted",
           "Trichrome",
           "Delta"
          ],
          [
           "Meridian #47",
           "Invert",
           "Monochrome",
           "Other"
          ],
          [
           "Meridian #46",
           "Paletted",
           "Trichrome",
           "Marsh"
          ],
          [
           "Meridian #45",
           "Prismatic",
           "Polychrome",
           "Other"
          ],
          [
           "Meridian #44",
           "Gouache",
           "Duochrome",
           "Other"
          ],
          [
           "Meridian #41",
           "Procedural",
           "Monochrome",
           "Other"
          ],
          [
           "Meridian #79",
           "Prismatic",
           "Polychrome",
           "Other"
          ],
          [
           "Meridian #78",
           "Polarized",
           "Duochrome",
           "Other"
          ],
          [
           "Meridian #73",
           "Paletted",
           "Duochrome",
           "Moraine"
          ],
          [
           "Meridian #72",
           "Prismatic",
           "Polychrome",
           "Other"
          ],
          [
           "Meridian #63",
           "Gilded",
           "Trichrome",
           "Other"
          ],
          [
           "Meridian #94",
           "Prismatic",
           "Polychrome",
           "Other"
          ],
          [
           "Meridian #93",
           "Paletted",
           "Duochrome",
           "Moraine"
          ],
          [
           "Meridian #86",
           "Prismatic",
           "Polychrome",
           "Other"
          ],
          [
           "Meridian #83",
           "Paletted",
           "Trichrome",
           "Delta"
          ],
          [
           "Meridian #81",
           "Watercolour",
           "Monochrome",
           "Other"
          ],
          [
           "Meridian #80",
           "Paletted",
           "Duochrome",
           "Marsh"
          ],
          [
           "Meridian #117",
           "Polarized",
           "Duochrome",
           "Other"
          ],
          [
           "Meridian #116",
           "Prismatic",
           "Polychrome",
           "Other"
          ],
          [
           "Meridian #115",
           "Watercolour",
           "Monochrome",
           "Other"
          ],
          [
           "Meridian #114",
           "Paletted",
           "Duochrome",
           "Prairie"
          ],
          [
           "Meridian #113",
           "Procedural",
           "Duochrome",
           "Other"
          ],
          [
           "Meridian #111",
           "Paletted",
           "Duochrome",
           "Oasis"
          ],
          [
           "Meridian #110",
           "Newsprint",
           "Monochrome",
           "Other"
          ],
          [
           "Meridian #109",
           "Prismatic",
           "Polychrome",
           "Other"
          ],
          [
           "Meridian #107",
           "Procedural",
           "Duochrome",
           "Other"
          ],
          [
           "Meridian #105",
           "Paletted",
           "Duochrome",
           "Oasis"
          ],
          [
           "Meridian #103",
           "Prime",
           "Monochrome",
           "Canyon"
          ],
          [
           "Meridian #102",
           "Paletted",
           "Trichrome",
           "Oasis"
          ],
          [
           "Meridian #100",
           "Paletted",
           "Duochrome",
           "Reef"
          ],
          [
           "Meridian #137",
           "Paletted",
           "Duochrome",
           "Volcano"
          ],
          [
           "Meridian #131",
           "Procedural",
           "Monochrome",
           "Other"
          ],
          [
           "Meridian #155",
           "Procedural",
           "Monochrome",
           "Other"
          ],
          [
           "Meridian #154",
           "Paletted",
           "Duochrome",
           "Dune"
          ],
          [
           "Meridian #153",
           "Paletted",
           "Trichrome",
           "Gulf"
          ],
          [
           "Meridian #152",
           "Topographic",
           "Trichrome",
           "Other"
          ],
          [
           "Meridian #146",
           "Lino",
           "Monochrome",
           "Other"
          ],
          [
           "Meridian #145",
           "Lino",
           "Monochrome",
           "Other"
          ],
          [
           "Meridian #178",
           "Procedural",
           "Duochrome",
           "Other"
          ],
          [
           "Meridian #174",
           "Procedural",
           "Duochrome",
           "Other"
          ],
          [
           "Meridian #166",
           "Procedural",
           "Duochrome",
           "Other"
          ],
          [
           "Meridian #196",
           "Gouache",
           "Duochrome",
           "Other"
          ],
          [
           "Meridian #219",
           "Procedural",
           "Duochrome",
           "Other"
          ],
          [
           "Meridian #213",
           "Paletted",
           "Trichrome",
           "Oasis"
          ],
          [
           "Meridian #201",
           "Watercolour",
           "Monochrome",
           "Other"
          ],
          [
           "Meridian #200",
           "Lino",
           "Monochrome",
           "Other"
          ],
          [
           "Meridian #238",
           "Prismatic",
           "Polychrome",
           "Other"
          ],
          [
           "Meridian #237",
           "Procedural",
           "Monochrome",
           "Other"
          ],
          [
           "Meridian #236",
           "Prismatic",
           "Polychrome",
           "Other"
          ],
          [
           "Meridian #227",
           "Paletted",
           "Duochrome",
           "Atoll"
          ],
          [
           "Meridian #226",
           "Paletted",
           "Trichrome",
           "Canyon"
          ],
          [
           "Meridian #256",
           "Paletted",
           "Duochrome",
           "Reef"
          ],
          [
           "Meridian #253",
           "Procedural",
           "Duochrome",
           "Other"
          ],
          [
           "Meridian #250",
           "Paletted",
           "Duochrome",
           "Esker"
          ],
          [
           "Meridian #249",
           "Paletted",
           "Trichrome",
           "Archipelago"
          ],
          [
           "Meridian #245",
           "Paletted",
           "Duochrome",
           "Dune"
          ],
          [
           "Meridian #244",
           "Gouache",
           "Trichrome",
           "Other"
          ],
          [
           "Meridian #271",
           "Prismatic",
           "Polychrome",
           "Other"
          ],
          [
           "Meridian #269",
           "Paletted",
           "Duochrome",
           "Moraine"
          ],
          [
           "Meridian #264",
           "Prismatic",
           "Polychrome",
           "Other"
          ],
          [
           "Meridian #262",
           "Paletted",
           "Duochrome",
           "Mesa"
          ],
          [
           "Meridian #298",
           "Paletted",
           "Trichrome",
           "Fjord"
          ],
          [
           "Meridian #284",
           "Polarized",
           "Trichrome",
           "Other"
          ],
          [
           "Meridian #280",
           "Paletted",
           "Trichrome",
           "Peninsula"
          ],
          [
           "Meridian #318",
           "Prismatic",
           "Polychrome",
           "Other"
          ],
          [
           "Meridian #339",
           "Paletted",
           "Duochrome",
           "Cove"
          ],
          [
           "Meridian #333",
           "Paletted",
           "Duochrome",
           "Delta"
          ],
          [
           "Meridian #332",
           "Lino",
           "Monochrome",
           "Other"
          ],
          [
           "Meridian #358",
           "Paletted",
           "Duochrome",
           "Canyon"
          ],
          [
           "Meridian #356",
           "Invert",
           "Monochrome",
           "Other"
          ],
          [
           "Meridian #348",
           "Paletted",
           "Trichrome",
           "Cave"
          ],
          [
           "Meridian #347",
           "Prismatic",
           "Polychrome",
           "Other"
          ],
          [
           "Meridian #344",
           "Prismatic",
           "Polychrome",
           "Other"
          ],
          [
           "Meridian #341",
           "Paletted",
           "Duochrome",
           "Prairie"
          ],
          [
           "Meridian #369",
           "Procedural",
           "Monochrome",
           "Other"
          ],
          [
           "Meridian #365",
           "Prismatic",
           "Polychrome",
           "Other"
          ],
          [
           "Meridian #397",
           "Lino",
           "Monochrome",
           "Other"
          ],
          [
           "Meridian #394",
           "Paletted",
           "Trichrome",
           "Esker"
          ],
          [
           "Meridian #391",
           "Paletted",
           "Duochrome",
           "Ridge"
          ],
          [
           "Meridian #390",
           "Prismatic",
           "Polychrome",
           "Other"
          ],
          [
           "Meridian #388",
           "Procedural",
           "Duochrome",
           "Other"
          ],
          [
           "Meridian #384",
           "Paletted",
           "Duochrome",
           "Oasis"
          ],
          [
           "Meridian #413",
           "Prismatic",
           "Polychrome",
           "Other"
          ],
          [
           "Meridian #406",
           "Prismatic",
           "Polychrome",
           "Other"
          ],
          [
           "Meridian #438",
           "Gilded",
           "Trichrome",
           "Other"
          ],
          [
           "Meridian #428",
           "Prismatic",
           "Polychrome",
           "Other"
          ],
          [
           "Meridian #479",
           "Paletted",
           "Duochrome",
           "Dune"
          ],
          [
           "Meridian #474",
           "Paletted",
           "Trichrome",
           "Cove"
          ],
          [
           "Meridian #492",
           "Prismatic",
           "Polychrome",
           "Other"
          ],
          [
           "Meridian #491",
           "Prismatic",
           "Polychrome",
           "Other"
          ],
          [
           "Meridian #484",
           "Paletted",
           "Trichrome",
           "Peninsula"
          ],
          [
           "Meridian #538",
           "Gouache",
           "Trichrome",
           "Other"
          ],
          [
           "Meridian #536",
           "Prismatic",
           "Polychrome",
           "Other"
          ],
          [
           "Meridian #529",
           "Prismatic",
           "Polychrome",
           "Other"
          ],
          [
           "Meridian #556",
           "Prismatic",
           "Polychrome",
           "Other"
          ],
          [
           "Meridian #543",
           "Screenprint",
           "Monochrome",
           "Other"
          ],
          [
           "Meridian #578",
           "Prismatic",
           "Polychrome",
           "Other"
          ],
          [
           "Meridian #576",
           "Paletted",
           "Trichrome",
           "Mesa"
          ],
          [
           "Meridian #572",
           "Prismatic",
           "Polychrome",
           "Other"
          ],
          [
           "Meridian #570",
           "Paletted",
           "Trichrome",
           "Cove"
          ],
          [
           "Meridian #563",
           "Prismatic",
           "Polychrome",
           "Other"
          ],
          [
           "Meridian #595",
           "Paletted",
           "Trichrome",
           "Marsh"
          ],
          [
           "Meridian #587",
           "Gilded",
           "Trichrome",
           "Other"
          ],
          [
           "Meridian #582",
           "Gouache",
           "Trichrome",
           "Other"
          ],
          [
           "Meridian #639",
           "Prismatic",
           "Polychrome",
           "Other"
          ],
          [
           "Meridian #631",
           "Watercolour",
           "Duochrome",
           "Other"
          ],
          [
           "Meridian #656",
           "Paletted",
           "Trichrome",
           "Delta"
          ],
          [
           "Meridian #649",
           "Screenprint",
           "Monochrome",
           "Other"
          ],
          [
           "Meridian #640",
           "Prismatic",
           "Polychrome",
           "Other"
          ],
          [
           "Meridian #675",
           "Paletted",
           "Duochrome",
           "Ridge"
          ],
          [
           "Meridian #668",
           "Paletted",
           "Trichrome",
           "Archipelago"
          ],
          [
           "Meridian #667",
           "Screenprint",
           "Monochrome",
           "Other"
          ],
          [
           "Meridian #663",
           "Invert",
           "Monochrome",
           "Other"
          ],
          [
           "Meridian #696",
           "Paletted",
           "Trichrome",
           "Cove"
          ],
          [
           "Meridian #684",
           "Prime",
           "Monochrome",
           "Dune"
          ],
          [
           "Meridian #717",
           "Screenprint",
           "Monochrome",
           "Other"
          ],
          [
           "Meridian #712",
           "Prismatic",
           "Polychrome",
           "Other"
          ],
          [
           "Meridian #739",
           "Gouache",
           "Trichrome",
           "Other"
          ],
          [
           "Meridian #731",
           "Paletted",
           "Trichrome",
           "Atoll"
          ],
          [
           "Meridian #751",
           "Paletted",
           "Trichrome",
           "Shore"
          ],
          [
           "Meridian #749",
           "Paletted",
           "Duochrome",
           "Esker"
          ],
          [
           "Meridian #776",
           "Newsprint",
           "Monochrome",
           "Other"
          ],
          [
           "Meridian #771",
           "Prismatic",
           "Polychrome",
           "Other"
          ],
          [
           "Meridian #765",
           "Paletted",
           "Duochrome",
           "Ridge"
          ],
          [
           "Meridian #815",
           "Paletted",
           "Duochrome",
           "Cove"
          ],
          [
           "Meridian #810",
           "Paletted",
           "Duochrome",
           "Shore"
          ],
          [
           "Meridian #838",
           "Paletted",
           "Trichrome",
           "Esker"
          ],
          [
           "Meridian #836",
           "Paletted",
           "Trichrome",
           "Atoll"
          ],
          [
           "Meridian #833",
           "Prismatic",
           "Polychrome",
           "Other"
          ],
          [
           "Meridian #832",
           "Polarized",
           "Trichrome",
           "Other"
          ],
          [
           "Meridian #821",
           "Gilded",
           "Trichrome",
           "Other"
          ],
          [
           "Meridian #820",
           "Prismatic",
           "Polychrome",
           "Other"
          ],
          [
           "Meridian #857",
           "Topographic",
           "Trichrome",
           "Other"
          ],
          [
           "Meridian #856",
           "Paletted",
           "Trichrome",
           "Glacier"
          ],
          [
           "Meridian #849",
           "Prismatic",
           "Polychrome",
           "Other"
          ],
          [
           "Meridian #847",
           "Prismatic",
           "Polychrome",
           "Other"
          ],
          [
           "Meridian #844",
           "Paletted",
           "Duochrome",
           "Dune"
          ],
          [
           "Meridian #879",
           "Prismatic",
           "Polychrome",
           "Other"
          ],
          [
           "Meridian #874",
           "Invert",
           "Monochrome",
           "Other"
          ],
          [
           "Meridian #873",
           "Prismatic",
           "Polychrome",
           "Other"
          ],
          [
           "Meridian #871",
           "Paletted",
           "Duochrome",
           "Cove"
          ],
          [
           "Meridian #867",
           "Paletted",
           "Duochrome",
           "Gulf"
          ],
          [
           "Meridian #866",
           "Procedural",
           "Monochrome",
           "Other"
          ],
          [
           "Meridian #897",
           "Gouache",
           "Duochrome",
           "Other"
          ],
          [
           "Meridian #896",
           "Paletted",
           "Duochrome",
           "Mesa"
          ],
          [
           "Meridian #894",
           "Gouache",
           "Polychrome",
           "Other"
          ],
          [
           "Meridian #892",
           "Invert",
           "Monochrome",
           "Other"
          ],
          [
           "Meridian #890",
           "Paletted",
           "Duochrome",
           "Cave"
          ],
          [
           "Meridian #888",
           "Prismatic",
           "Polychrome",
           "Other"
          ],
          [
           "Meridian #886",
           "Procedural",
           "Monochrome",
           "Other"
          ],
          [
           "Meridian #884",
           "Paletted",
           "Duochrome",
           "Cave"
          ],
          [
           "Meridian #883",
           "Procedural",
           "Monochrome",
           "Other"
          ],
          [
           "Meridian #882",
           "Paletted",
           "Duochrome",
           "Atoll"
          ],
          [
           "Meridian #880",
           "Prismatic",
           "Polychrome",
           "Other"
          ],
          [
           "Meridian #914",
           "Gouache",
           "Trichrome",
           "Other"
          ],
          [
           "Meridian #909",
           "Paletted",
           "Duochrome",
           "Esker"
          ],
          [
           "Meridian #906",
           "Prismatic",
           "Polychrome",
           "Other"
          ],
          [
           "Meridian #905",
           "Gouache",
           "Polychrome",
           "Other"
          ],
          [
           "Meridian #904",
           "Paletted",
           "Duochrome",
           "Shore"
          ],
          [
           "Meridian #903",
           "Prime",
           "Monochrome",
           "Marsh"
          ],
          [
           "Meridian #902",
           "Prismatic",
           "Polychrome",
           "Other"
          ],
          [
           "Meridian #900",
           "Prismatic",
           "Polychrome",
           "Other"
          ],
          [
           "Meridian #938",
           "Prismatic",
           "Polychrome",
           "Other"
          ],
          [
           "Meridian #937",
           "Gouache",
           "Duochrome",
           "Other"
          ],
          [
           "Meridian #935",
           "Paletted",
           "Trichrome",
           "Mesa"
          ],
          [
           "Meridian #932",
           "Prismatic",
           "Polychrome",
           "Other"
          ],
          [
           "Meridian #930",
           "Paletted",
           "Duochrome",
           "Moraine"
          ],
          [
           "Meridian #929",
           "Gouache",
           "Trichrome",
           "Other"
          ],
          [
           "Meridian #927",
           "Paletted",
           "Duochrome",
           "Gulf"
          ],
          [
           "Meridian #926",
           "Paletted",
           "Duochrome",
           "Prairie"
          ],
          [
           "Meridian #924",
           "Prismatic",
           "Polychrome",
           "Other"
          ],
          [
           "Meridian #923",
           "Prismatic",
           "Polychrome",
           "Other"
          ],
          [
           "Meridian #922",
           "Prismatic",
           "Polychrome",
           "Other"
          ],
          [
           "Meridian #921",
           "Gouache",
           "Trichrome",
           "Other"
          ],
          [
           "Meridian #946",
           "Prismatic",
           "Polychrome",
           "Other"
          ],
          [
           "Meridian #944",
           "Prismatic",
           "Polychrome",
           "Other"
          ],
          [
           "Meridian #941",
           "Paletted",
           "Duochrome",
           "Volcano"
          ],
          [
           "Meridian #977",
           "Paletted",
           "Trichrome",
           "Delta"
          ],
          [
           "Meridian #968",
           "Invert",
           "Monochrome",
           "Other"
          ],
          [
           "Meridian #965",
           "Paletted",
           "Trichrome",
           "Esker"
          ],
          [
           "Meridian #962",
           "Prismatic",
           "Polychrome",
           "Other"
          ],
          [
           "Meridian #961",
           "Paletted",
           "Duochrome",
           "Fjord"
          ],
          [
           "Meridian #960",
           "Paletted",
           "Duochrome",
           "Gulf"
          ],
          [
           "Meridian #999",
           "Paletted",
           "Trichrome",
           "Esker"
          ],
          [
           "Meridian #996",
           "Polarized",
           "Trichrome",
           "Other"
          ],
          [
           "Meridian #990",
           "Prismatic",
           "Polychrome",
           "Other"
          ],
          [
           "Meridian #988",
           "Topographic",
           "Trichrome",
           "Other"
          ],
          [
           "Meridian #986",
           "Paletted",
           "Trichrome",
           "Cave"
          ],
          [
           "Meridian #985",
           "Lino",
           "Monochrome",
           "Other"
          ]
         ],
         "hovertemplate": "LPdate=%{x}<br>Lastprice=%{y}<br>Name=%{customdata[0]}<br>Style=%{customdata[1]}<br>Chromaticity=%{customdata[2]}<br>Palette=%{customdata[3]}<extra></extra>",
         "legendgroup": "",
         "marker": {
          "color": "#636efa",
          "symbol": "circle"
         },
         "mode": "markers",
         "name": "",
         "orientation": "v",
         "showlegend": false,
         "type": "scatter",
         "x": [
          "2021-09-30T22:49:47",
          "2021-10-02T12:35:53",
          "2021-09-30T07:24:47",
          "2021-10-02T12:20:58",
          "2021-09-30T01:40:20",
          "2021-10-01T02:11:00",
          "2021-09-29T00:06:39",
          "2021-09-28T23:53:03",
          "2021-09-30T07:20:09",
          "2021-09-30T19:43:16",
          "2021-10-01T08:56:42",
          "2021-10-01T00:56:30",
          "2021-10-06T23:13:34",
          "2021-10-02T01:58:53",
          "2021-09-29T00:32:22",
          "2021-09-28T23:00:37",
          "2021-09-28T19:22:07",
          "2021-09-28T18:11:43",
          "2021-10-02T13:13:57",
          "2021-10-04T11:52:00",
          "2021-10-01T05:40:17",
          "2021-10-03T07:47:27",
          "2021-10-06T02:13:40",
          "2021-09-28T22:55:36",
          "2021-10-01T08:05:43",
          "2021-10-01T05:22:19",
          "2021-10-02T13:17:31",
          "2021-10-02T03:12:28",
          "2021-09-29T18:31:08",
          "2021-10-04T04:24:14",
          "2021-10-04T04:19:17",
          "2021-10-01T09:03:21",
          "2021-10-01T07:59:41",
          "2021-10-04T00:22:43",
          "2021-10-01T03:48:29",
          "2021-10-06T02:14:33",
          "2021-10-01T09:50:46",
          "2021-10-04T03:29:17",
          "2021-10-01T07:47:22",
          "2021-10-02T15:33:08",
          "2021-10-04T21:32:18",
          "2021-10-03T11:36:42",
          "2021-09-29T13:04:30",
          "2021-10-03T03:19:03",
          "2021-10-03T11:32:09",
          "2021-10-04T11:44:02",
          "2021-09-28T17:09:48",
          "2021-09-28T19:26:56",
          "2021-09-28T17:42:11",
          "2021-10-06T02:14:05",
          "2021-09-28T18:41:15",
          "2021-10-01T06:40:10",
          "2021-10-01T10:47:41",
          "2021-09-28T23:43:06",
          "2021-10-06T02:31:25",
          "2021-10-01T03:30:36",
          "2021-10-05T01:25:46",
          "2021-10-01T11:14:40",
          "2021-10-04T07:52:03",
          "2021-10-01T08:31:02",
          "2021-09-30T03:39:43",
          "2021-10-01T08:52:55",
          "2021-10-02T14:48:17",
          "2021-10-01T12:13:13",
          "2021-09-28T17:47:02",
          "2021-10-01T08:12:03",
          "2021-10-01T08:11:09",
          "2021-10-01T12:14:42",
          "2021-10-03T08:06:51",
          "2021-10-01T12:55:54",
          "2021-10-02T19:45:52",
          "2021-10-01T06:14:22",
          "2021-10-01T14:09:03",
          "2021-10-01T14:11:36",
          "2021-10-01T07:10:45",
          "2021-10-04T21:22:10",
          "2021-10-01T05:15:42",
          "2021-10-01T13:21:27",
          "2021-10-04T13:36:33",
          "2021-10-02T16:29:17",
          "2021-10-03T11:30:53",
          "2021-10-01T07:20:30",
          "2021-10-03T11:30:32",
          "2021-10-01T14:17:09",
          "2021-10-01T08:20:56",
          "2021-10-02T15:33:30",
          "2021-10-02T22:48:19",
          "2021-09-28T17:42:58",
          "2021-10-01T03:26:37",
          "2021-10-01T15:30:09",
          "2021-10-01T08:08:19",
          "2021-10-03T02:00:10",
          "2021-10-05T21:40:37",
          "2021-10-01T07:57:54",
          "2021-10-01T03:44:54",
          "2021-10-01T13:49:09",
          "2021-10-05T03:23:22",
          "2021-10-02T16:02:02",
          "2021-10-02T13:19:57",
          "2021-10-03T08:09:01",
          "2021-10-03T11:28:08",
          "2021-10-01T09:23:01",
          "2021-10-01T14:07:27",
          "2021-10-04T20:11:22",
          "2021-10-04T21:12:26",
          "2021-10-01T03:15:00",
          "2021-10-08T23:11:15",
          "2021-10-04T02:05:27",
          "2021-10-07T16:43:56",
          "2021-10-01T01:30:04",
          "2021-10-03T07:13:00",
          "2021-10-02T13:05:32",
          "2021-10-02T14:23:41",
          "2021-10-04T14:46:04",
          "2021-10-01T04:46:19",
          "2021-10-01T16:18:25",
          "2021-10-01T21:18:13",
          "2021-10-01T04:15:29",
          "2021-10-01T08:07:59",
          "2021-10-01T06:08:40",
          "2021-10-01T06:41:31",
          "2021-09-28T21:03:32",
          "2021-10-01T05:37:02",
          "2021-10-01T03:43:12",
          "2021-10-01T19:07:38",
          "2021-09-28T19:29:46",
          "2021-10-01T08:11:09",
          "2021-10-01T01:16:36",
          "2021-10-01T19:50:41",
          "2021-10-01T07:52:37",
          "2021-09-28T18:01:01",
          "2021-10-01T19:55:54",
          "2021-10-01T06:11:09",
          "2021-10-04T04:32:20",
          "2021-09-28T20:33:51",
          "2021-10-02T12:39:49",
          "2021-10-03T21:00:26",
          "2021-10-01T02:32:50",
          "2021-10-01T06:17:58",
          "2021-10-08T23:14:46",
          "2021-10-04T18:59:00",
          "2021-10-06T14:52:45",
          "2021-09-30T16:40:22",
          "2021-10-01T05:38:07",
          "2021-09-30T13:26:07",
          "2021-09-28T16:35:50",
          "2021-10-01T06:14:22",
          "2021-10-02T13:39:40",
          "2021-10-01T01:28:02",
          "2021-10-01T06:21:14",
          "2021-09-30T13:19:45",
          "2021-10-08T19:05:43",
          "2021-10-01T05:34:11",
          "2021-10-02T01:57:01",
          "2021-10-01T14:10:06",
          "2021-10-04T03:03:59",
          "2021-10-07T13:39:38",
          "2021-10-05T17:44:50",
          "2021-10-02T14:22:09",
          "2021-10-01T05:47:37",
          "2021-09-29T10:33:29",
          "2021-10-01T18:06:13",
          "2021-09-30T17:38:08",
          "2021-10-01T15:32:12",
          "2021-10-01T01:00:34",
          "2021-10-07T01:57:06",
          "2021-10-01T03:03:32",
          "2021-10-01T05:19:56",
          "2021-10-01T18:15:38",
          "2021-10-01T06:09:13",
          "2021-10-01T02:08:21",
          "2021-09-29T16:30:03",
          "2021-10-11T05:37:25",
          "2021-10-02T12:46:53",
          "2021-09-30T20:10:22",
          "2021-10-01T04:43:03",
          "2021-10-01T19:15:29",
          "2021-10-01T01:34:11",
          "2021-09-29T14:49:34",
          "2021-10-02T12:37:35",
          "2021-10-02T00:44:43",
          "2021-10-01T03:19:00",
          "2021-10-01T03:25:21",
          "2021-10-01T03:27:53",
          "2021-10-01T01:16:27",
          "2021-09-28T22:53:29",
          "2021-10-01T06:24:35",
          "2021-10-01T06:34:19",
          "2021-10-10T16:30:30",
          "2021-09-29T03:33:46",
          "2021-10-02T12:37:12",
          "2021-09-28T18:02:17",
          "2021-10-06T21:13:57",
          "2021-09-30T21:59:22",
          "2021-10-01T18:11:12",
          "2021-09-29T02:58:08",
          "2021-10-02T12:36:50",
          "2021-10-01T05:51:25",
          "2021-10-07T01:02:31",
          "2021-10-07T09:08:35",
          "2021-09-28T17:37:48",
          "2021-09-29T20:35:06",
          "2021-10-01T05:11:54",
          "2021-10-01T05:05:30",
          "2021-09-30T13:22:13",
          "2021-10-01T00:20:16",
          "2021-10-02T12:25:23",
          "2021-09-29T10:54:35",
          "2021-10-02T12:35:53",
          "2021-09-28T17:39:07",
          "2021-10-07T07:36:41",
          "2021-10-08T22:15:25",
          "2021-10-01T02:25:04",
          "2021-09-30T15:00:16",
          "2021-09-28T19:17:57",
          "2021-10-01T01:10:50",
          "2021-09-29T01:00:09",
          "2021-09-30T17:30:14",
          "2021-09-28T21:20:57",
          "2021-10-01T02:59:47",
          "2021-10-01T02:02:17",
          "2021-10-01T17:03:04",
          "2021-09-29T06:17:29",
          "2021-09-29T08:44:42",
          "2021-09-28T17:30:47",
          "2021-10-01T02:41:20",
          "2021-09-28T16:45:36",
          "2021-09-30T13:34:39",
          "2021-09-28T21:29:00",
          "2021-09-28T18:54:02",
          "2021-10-07T23:24:31",
          "2021-09-28T17:03:27",
          "2021-09-28T23:59:13",
          "2021-10-07T21:44:28",
          "2021-09-28T18:21:38",
          "2021-09-29T18:03:36",
          "2021-09-28T17:26:59",
          "2021-10-01T02:19:43",
          "2021-10-01T00:46:06",
          "2021-10-10T02:53:23",
          "2021-10-01T04:44:52",
          "2021-10-01T04:31:17",
          "2021-10-01T04:53:02",
          "2021-10-01T04:48:25",
          "2021-09-29T00:14:13",
          "2021-10-01T00:33:44",
          "2021-10-01T04:33:26",
          "2021-10-10T09:34:24",
          "2021-10-01T01:59:07",
          "2021-09-28T18:35:59",
          "2021-10-01T01:11:05",
          "2021-09-28T23:52:00",
          "2021-10-01T01:22:47",
          "2021-10-08T18:53:52",
          "2021-09-29T12:02:18",
          "2021-10-10T05:25:25",
          "2021-10-08T22:42:16",
          "2021-09-30T05:53:28",
          "2021-09-29T11:55:03",
          "2021-09-28T19:16:05",
          "2021-09-29T05:34:34",
          "2021-09-30T18:10:03",
          "2021-09-30T07:49:52",
          "2021-10-07T23:30:27",
          "2021-10-01T00:12:13",
          "2021-09-30T18:42:29",
          "2021-09-28T16:34:41",
          "2021-09-30T18:24:24",
          "2021-09-28T18:25:15",
          "2021-10-01T01:56:57",
          "2021-09-29T09:10:31",
          "2021-09-29T00:35:48",
          "2021-09-29T04:23:52",
          "2021-09-29T00:30:35",
          "2021-09-29T00:07:53",
          "2021-10-07T16:17:06",
          "2021-10-01T01:37:21",
          "2021-09-29T00:07:22",
          "2021-09-28T21:22:42",
          "2021-09-28T19:32:44",
          "2021-09-30T09:18:03",
          "2021-09-30T17:47:00",
          "2021-09-28T23:31:34",
          "2021-09-28T23:53:43",
          "2021-09-30T01:18:57",
          "2021-10-01T01:15:31",
          "2021-09-29T15:20:39",
          "2021-09-28T19:32:44",
          "2021-09-30T14:09:31",
          "2021-09-28T17:17:18",
          "2021-10-07T02:29:21",
          "2021-10-08T04:12:05",
          "2021-09-30T17:41:33",
          "2021-09-29T15:34:39",
          "2021-09-28T23:37:12",
          "2021-10-01T00:08:04",
          "2021-09-28T23:37:55",
          "2021-09-29T00:47:24",
          "2021-09-29T01:01:00",
          "2021-09-28T19:31:25",
          "2021-09-30T18:06:00",
          "2021-09-29T02:26:26",
          "2021-09-29T06:44:32",
          "2021-09-30T18:00:29",
          "2021-09-28T23:51:16",
          "2021-09-28T23:44:01",
          "2021-09-30T03:18:55",
          "2021-09-29T04:48:51",
          "2021-09-28T18:54:02",
          "2021-09-28T16:54:12",
          "2021-09-29T02:59:58",
          "2021-09-30T17:37:27",
          "2021-09-28T23:33:33",
          "2021-09-29T00:04:33",
          "2021-09-29T10:47:55",
          "2021-09-29T09:20:03",
          "2021-09-28T18:19:12",
          "2021-09-29T22:21:56",
          "2021-09-29T06:05:09",
          "2021-09-28T19:32:57",
          "2021-09-30T17:15:14",
          "2021-09-28T19:10:38",
          "2021-09-30T10:46:33",
          "2021-09-29T00:52:33",
          "2021-09-28T19:03:41",
          "2021-09-28T16:41:07",
          "2021-09-28T22:43:44",
          "2021-09-30T12:02:35",
          "2021-09-29T19:56:08",
          "2021-09-28T22:47:42",
          "2021-09-29T01:44:08",
          "2021-09-28T23:53:12",
          "2021-09-28T22:47:20",
          "2021-09-28T18:59:50",
          "2021-09-30T15:43:21",
          "2021-09-28T19:50:39",
          "2021-09-30T15:20:50",
          "2021-09-28T18:43:43",
          "2021-09-30T15:35:18",
          "2021-09-29T13:53:36",
          "2021-09-29T19:08:17",
          "2021-09-30T15:15:09",
          "2021-09-29T00:57:07",
          "2021-09-29T13:37:08",
          "2021-09-28T22:32:09",
          "2021-09-29T04:04:30",
          "2021-09-28T16:28:27",
          "2021-09-29T15:43:18",
          "2021-09-28T17:26:16",
          "2021-09-29T00:55:12",
          "2021-09-30T12:47:47",
          "2021-09-28T19:34:29",
          "2021-09-29T10:53:45",
          "2021-09-29T00:51:46",
          "2021-09-28T19:41:20",
          "2021-09-29T13:56:21",
          "2021-09-30T17:36:26",
          "2021-09-28T17:44:03",
          "2021-09-29T00:32:08",
          "2021-09-30T15:17:10",
          "2021-09-29T05:27:40",
          "2021-09-30T11:40:09",
          "2021-09-30T15:27:45",
          "2021-09-28T16:42:57",
          "2021-09-29T05:33:16",
          "2021-09-30T00:46:49",
          "2021-09-28T18:39:28",
          "2021-09-29T02:48:19",
          "2021-09-28T23:37:55",
          "2021-09-29T15:45:55",
          "2021-09-28T23:59:50",
          "2021-09-29T19:06:32",
          "2021-09-29T23:48:47",
          "2021-09-29T12:16:08",
          "2021-09-28T18:53:07",
          "2021-09-29T01:49:41",
          "2021-09-28T18:49:13",
          "2021-10-08T01:25:00",
          "2021-09-30T16:57:58",
          "2021-09-28T19:20:18",
          "2021-09-29T20:07:14",
          "2021-09-28T19:11:58",
          "2021-09-28T23:23:53",
          "2021-09-28T22:35:23",
          "2021-09-28T19:03:01",
          "2021-09-28T18:37:13",
          "2021-09-30T07:45:03",
          "2021-09-30T14:40:28",
          "2021-09-30T11:11:19",
          "2021-09-28T18:42:43",
          "2021-09-29T11:17:13",
          "2021-09-28T18:38:21",
          "2021-09-28T18:29:18",
          "2021-09-28T18:05:13",
          "2021-09-30T11:51:57",
          "2021-09-28T19:22:07",
          "2021-09-28T17:43:24",
          "2021-09-28T22:43:05",
          "2021-09-28T22:57:29",
          "2021-10-07T01:27:56",
          "2021-09-28T17:37:16",
          "2021-09-28T22:49:28",
          "2021-09-29T17:12:38",
          "2021-09-28T17:49:46",
          "2021-09-28T19:15:43",
          "2021-09-29T11:45:10",
          "2021-09-28T22:32:09",
          "2021-09-30T09:03:11",
          "2021-09-28T18:57:29",
          "2021-09-30T01:09:56",
          "2021-09-28T23:26:06",
          "2021-09-28T23:26:16",
          "2021-09-28T19:05:01",
          "2021-09-29T11:23:45",
          "2021-09-28T18:42:26",
          "2021-09-30T14:18:24",
          "2021-09-28T22:47:23",
          "2021-09-28T19:34:57",
          "2021-09-30T13:15:18",
          "2021-09-28T23:27:58",
          "2021-09-28T16:37:36",
          "2021-09-29T11:30:57",
          "2021-09-29T12:07:58",
          "2021-09-29T21:32:20",
          "2021-09-28T18:50:25",
          "2021-09-28T16:40:01",
          "2021-09-28T22:46:22",
          "2021-09-28T18:46:42",
          "2021-09-28T20:41:42",
          "2021-09-28T16:31:54",
          "2021-09-28T18:19:37",
          "2021-09-28T17:22:59",
          "2021-09-28T18:47:57",
          "2021-09-28T22:46:22",
          "2021-09-28T20:00:30",
          "2021-09-28T18:13:40",
          "2021-09-28T18:13:24",
          "2021-09-29T20:42:33",
          "2021-09-28T18:30:51",
          "2021-09-28T18:38:21",
          "2021-09-28T17:29:42",
          "2021-09-28T17:15:05",
          "2021-09-28T21:02:21",
          "2021-09-28T18:17:25",
          "2021-09-28T22:44:13",
          "2021-09-28T19:00:29",
          "2021-09-28T18:52:25",
          "2021-09-28T18:46:42",
          "2021-09-28T17:53:58",
          "2021-09-28T23:21:58",
          "2021-09-28T17:48:44",
          "2021-09-28T17:58:50",
          "2021-09-28T17:01:29",
          "2021-09-28T17:52:00",
          "2021-09-28T16:41:07",
          "2021-09-28T17:39:43",
          "2021-09-28T18:14:04",
          "2021-09-28T23:15:08",
          "2021-09-28T18:17:57",
          "2021-09-28T17:25:17",
          "2021-09-28T16:54:40",
          "2021-09-28T18:38:38",
          "2021-09-28T18:08:33",
          "2021-09-28T18:55:33",
          "2021-09-28T19:41:53",
          "2021-09-28T16:43:42",
          "2021-09-28T19:48:11",
          "2021-09-28T22:39:44",
          "2021-09-28T18:27:03",
          "2021-09-28T22:44:13",
          "2021-09-28T17:30:36",
          "2021-09-28T18:52:33",
          "2021-09-28T16:50:13",
          "2021-09-28T20:39:21",
          "2021-09-28T17:55:00",
          "2021-09-28T23:10:02",
          "2021-09-28T20:06:41",
          "2021-09-30T04:30:28",
          "2021-09-28T18:37:35",
          "2021-09-28T18:38:21",
          "2021-09-28T22:47:20",
          "2021-09-28T18:09:25",
          "2021-09-28T22:22:54",
          "2021-09-28T18:44:45",
          "2021-09-28T17:50:06",
          "2021-09-28T18:33:04",
          "2021-09-28T17:10:16",
          "2021-09-28T17:09:34",
          "2021-09-28T16:54:12",
          "2021-09-28T18:02:17",
          "2021-09-28T17:24:20",
          "2021-09-28T18:37:13",
          "2021-09-28T18:08:49",
          "2021-09-28T22:28:40",
          "2021-09-28T18:01:01",
          "2021-09-28T18:13:24",
          "2021-09-28T18:25:15",
          "2021-09-28T16:31:41",
          "2021-09-28T17:53:35",
          "2021-09-28T22:28:27",
          "2021-09-28T18:07:35",
          "2021-09-28T20:00:14",
          "2021-09-28T20:02:49",
          "2021-09-28T18:20:45",
          "2021-09-28T20:18:10",
          "2021-09-28T18:37:13",
          "2021-09-28T17:50:50",
          "2021-09-28T17:52:00",
          "2021-09-28T18:25:07",
          "2021-09-28T18:27:54",
          "2021-09-28T17:50:30",
          "2021-09-28T18:33:45",
          "2021-09-28T22:35:43",
          "2021-09-28T18:27:46",
          "2021-09-28T18:25:34",
          "2021-09-28T16:38:08",
          "2021-09-28T16:31:41",
          "2021-09-28T16:34:41",
          "2021-09-28T18:16:11",
          "2021-09-28T18:03:02",
          "2021-09-28T16:29:13",
          "2021-09-28T17:29:01",
          "2021-09-28T18:19:12",
          "2021-09-28T16:55:11",
          "2021-09-28T20:03:54",
          "2021-09-28T17:41:38",
          "2021-09-28T16:58:05",
          "2021-09-28T18:09:25",
          "2021-09-28T16:32:56",
          "2021-09-28T17:40:31",
          "2021-09-28T18:05:34",
          "2021-09-28T16:59:20",
          "2021-09-28T21:48:50",
          "2021-09-28T19:10:13",
          "2021-09-28T16:31:29",
          "2021-09-28T17:37:16",
          "2021-09-28T16:34:17",
          "2021-09-28T18:11:43",
          "2021-09-28T17:31:06",
          "2021-09-28T16:53:25",
          "2021-09-28T17:51:12",
          "2021-09-28T20:10:41",
          "2021-09-28T16:33:20",
          "2021-09-28T16:29:13",
          "2021-09-28T16:41:36",
          "2021-09-28T16:36:50",
          "2021-09-28T17:20:01",
          "2021-09-28T17:35:29",
          "2021-09-28T17:26:46",
          "2021-09-28T17:56:04",
          "2021-09-28T22:00:46",
          "2021-09-28T22:10:50",
          "2021-09-28T22:07:28",
          "2021-09-28T17:06:11",
          "2021-09-28T19:59:44",
          "2021-09-28T20:59:40",
          "2021-09-28T17:51:53",
          "2021-09-28T22:03:39",
          "2021-09-28T17:20:29",
          "2021-09-28T17:27:32",
          "2021-09-28T16:37:50",
          "2021-09-28T17:26:46",
          "2021-09-28T18:09:25",
          "2021-09-28T17:50:46",
          "2021-09-28T19:55:24",
          "2021-09-28T18:12:29",
          "2021-09-28T17:06:11",
          "2021-09-28T17:57:42",
          "2021-09-28T17:15:36",
          "2021-09-28T18:11:05",
          "2021-09-28T18:27:46",
          "2021-09-28T16:42:57",
          "2021-09-28T16:41:07",
          "2021-09-28T16:35:22",
          "2021-09-28T16:47:14",
          "2021-09-28T16:36:52",
          "2021-09-28T17:39:01",
          "2021-09-28T21:44:03",
          "2021-09-28T18:05:23",
          "2021-09-28T17:06:11",
          "2021-09-28T16:32:56",
          "2021-09-28T17:43:45",
          "2021-09-28T17:49:12",
          "2021-09-28T16:33:04",
          "2021-09-28T20:33:51",
          "2021-09-28T17:49:12",
          "2021-09-28T17:50:06",
          "2021-09-28T17:30:58",
          "2021-09-28T17:03:13",
          "2021-09-28T17:36:07",
          "2021-09-28T17:44:03",
          "2021-09-28T17:15:05",
          "2021-09-28T16:29:13",
          "2021-09-28T18:09:25",
          "2021-09-28T17:41:38",
          "2021-09-28T17:00:05",
          "2021-09-28T18:01:16",
          "2021-09-28T17:21:19",
          "2021-09-28T17:57:42",
          "2021-09-28T17:43:34",
          "2021-09-28T17:31:48",
          "2021-09-28T16:33:20",
          "2021-09-28T16:31:41",
          "2021-09-28T17:49:46",
          "2021-09-28T17:34:13",
          "2021-09-28T17:45:45",
          "2021-09-28T17:33:43",
          "2021-09-28T16:48:26",
          "2021-09-28T16:33:20",
          "2021-09-28T17:47:39",
          "2021-09-28T17:35:34",
          "2021-09-28T18:01:01",
          "2021-09-28T16:30:30",
          "2021-09-28T17:39:43",
          "2021-09-28T17:47:39",
          "2021-09-28T17:16:37",
          "2021-09-28T16:37:19",
          "2021-09-28T16:30:06",
          "2021-09-28T16:32:56",
          "2021-09-28T16:31:54",
          "2021-09-28T16:45:09",
          "2021-09-28T18:01:42",
          "2021-09-28T16:55:32",
          "2021-09-28T17:51:53",
          "2021-09-28T17:26:59",
          "2021-09-28T17:25:17",
          "2021-09-28T17:34:13",
          "2021-09-28T16:34:17",
          "2021-09-28T16:33:43",
          "2021-09-28T17:36:01",
          "2021-09-28T16:30:28",
          "2021-09-28T16:46:57",
          "2021-09-28T16:35:36",
          "2021-09-28T16:36:52",
          "2021-09-28T16:37:23",
          "2021-09-28T17:41:38",
          "2021-09-28T16:45:36",
          "2021-09-28T16:38:19",
          "2021-09-28T16:40:48",
          "2021-09-28T16:56:06",
          "2021-09-28T17:43:34",
          "2021-09-28T16:49:49",
          "2021-09-28T17:33:43",
          "2021-09-28T17:08:49",
          "2021-09-28T17:29:53",
          "2021-09-28T16:37:29",
          "2021-09-28T16:47:14",
          "2021-09-28T17:41:38",
          "2021-09-28T16:37:50",
          "2021-09-28T17:32:24",
          "2021-09-28T16:36:50",
          "2021-09-28T17:29:01",
          "2021-09-28T16:37:29",
          "2021-09-28T16:42:15",
          "2021-09-28T16:43:15",
          "2021-09-28T16:47:14",
          "2021-09-28T17:46:11",
          "2021-09-28T17:23:21",
          "2021-09-28T17:33:43",
          "2021-09-28T16:41:07",
          "2021-09-28T16:41:36",
          "2021-09-28T17:11:35",
          "2021-09-28T16:58:27",
          "2021-09-28T16:41:36",
          "2021-09-28T17:20:17",
          "2021-09-28T16:43:50",
          "2021-09-28T16:40:48",
          "2021-09-28T16:44:02",
          "2021-09-28T16:35:43",
          "2021-09-28T16:44:17",
          "2021-09-28T16:40:48",
          "2021-09-28T17:12:49",
          "2021-09-28T16:51:05",
          "2021-09-28T16:57:39",
          "2021-09-28T16:58:05",
          "2021-09-28T16:46:23",
          "2021-09-28T17:27:49",
          "2021-09-28T17:44:03",
          "2021-09-28T16:48:16",
          "2021-09-28T16:42:57",
          "2021-09-28T17:26:16",
          "2021-09-28T17:28:21",
          "2021-09-28T16:38:50",
          "2021-09-28T16:41:14",
          "2021-09-28T17:04:04",
          "2021-09-28T17:28:38",
          "2021-09-28T16:46:52",
          "2021-09-28T16:44:44",
          "2021-09-28T17:10:03",
          "2021-09-28T17:29:53",
          "2021-09-28T16:46:23",
          "2021-09-28T17:24:29",
          "2021-09-28T16:43:50",
          "2021-09-28T17:27:51",
          "2021-09-28T17:20:17",
          "2021-09-28T17:18:56",
          "2021-09-28T16:53:25",
          "2021-09-28T16:45:36",
          "2021-09-28T16:44:44",
          "2021-09-28T17:22:59",
          "2021-09-28T17:09:48",
          "2021-09-28T17:09:44",
          "2021-09-28T17:16:20",
          "2021-09-28T16:51:05",
          "2021-09-28T16:46:29",
          "2021-09-28T17:12:49",
          "2021-09-28T16:50:57",
          "2021-09-28T16:54:12",
          "2021-09-28T17:24:20",
          "2021-09-28T17:20:01",
          "2021-09-28T16:46:23",
          "2021-09-28T16:45:09",
          "2021-09-28T17:22:59",
          "2021-09-28T16:45:36",
          "2021-09-28T17:09:37",
          "2021-09-28T16:51:57",
          "2021-09-28T16:52:23",
          "2021-09-28T17:22:07",
          "2021-09-28T16:46:29",
          "2021-09-28T17:15:14",
          "2021-09-28T17:13:33",
          "2021-09-28T16:48:16",
          "2021-09-28T17:15:05",
          "2021-09-28T16:46:41",
          "2021-09-28T16:48:31",
          "2021-09-28T17:02:29",
          "2021-09-28T17:02:29",
          "2021-09-28T17:08:49",
          "2021-09-28T17:15:05",
          "2021-09-28T16:48:01",
          "2021-09-28T16:48:35",
          "2021-09-28T17:20:31",
          "2021-09-28T17:17:18",
          "2021-09-28T16:51:05",
          "2021-09-28T16:51:05",
          "2021-09-28T16:48:47",
          "2021-09-28T17:06:38",
          "2021-09-28T17:10:45",
          "2021-09-28T16:50:13",
          "2021-09-28T17:00:54",
          "2021-09-28T17:10:45",
          "2021-09-28T17:10:16",
          "2021-09-28T17:05:52",
          "2021-09-28T16:53:25",
          "2021-09-28T16:51:02",
          "2021-09-28T17:10:03",
          "2021-09-28T16:53:18",
          "2021-09-28T17:17:18",
          "2021-09-28T17:19:30",
          "2021-09-28T16:53:25",
          "2021-09-28T17:18:48",
          "2021-09-28T16:55:32",
          "2021-09-28T16:54:54",
          "2021-09-28T16:55:11",
          "2021-09-28T17:14:17",
          "2021-09-28T17:03:27",
          "2021-09-28T17:05:46",
          "2021-09-28T16:58:05",
          "2021-09-28T16:57:28",
          "2021-09-28T17:08:34",
          "2021-09-28T17:08:34",
          "2021-09-28T16:59:06",
          "2021-09-28T16:52:23",
          "2021-09-28T17:06:44",
          "2021-09-28T17:05:16",
          "2021-09-28T17:05:16",
          "2021-09-28T17:02:29",
          "2021-09-28T17:06:38",
          "2021-09-28T16:59:29",
          "2021-09-28T17:03:25",
          "2021-09-28T17:00:54",
          "2021-09-28T16:55:32",
          "2021-09-28T17:10:45",
          "2021-09-28T17:00:28",
          "2021-09-28T17:01:43",
          "2021-09-28T17:10:03",
          "2021-09-28T17:11:35",
          "2021-09-28T17:04:04",
          "2021-09-28T17:01:29",
          "2021-09-28T21:42:34",
          null,
          null,
          null,
          null,
          null,
          null,
          null,
          null,
          null,
          null,
          null,
          null,
          null,
          null,
          null,
          null,
          null,
          null,
          null,
          null,
          null,
          null,
          null,
          null,
          null,
          null,
          null,
          null,
          null,
          null,
          null,
          null,
          null,
          null,
          null,
          null,
          null,
          null,
          null,
          null,
          null,
          null,
          null,
          null,
          null,
          null,
          null,
          null,
          null,
          null,
          null,
          null,
          null,
          null,
          null,
          null,
          null,
          null,
          null,
          null,
          null,
          null,
          null,
          null,
          null,
          null,
          null,
          null,
          null,
          null,
          null,
          null,
          null,
          null,
          null,
          null,
          null,
          null,
          null,
          null,
          null,
          null,
          null,
          null,
          null,
          null,
          null,
          null,
          null,
          null,
          null,
          null,
          null,
          null,
          null,
          null,
          null,
          null,
          null,
          null,
          null,
          null,
          null,
          null,
          null,
          null,
          null,
          null,
          null,
          null,
          null,
          null,
          null,
          null,
          null,
          null,
          null,
          null,
          null,
          null,
          null,
          null,
          null,
          null,
          null,
          null,
          null,
          null,
          null,
          null,
          null,
          null,
          null,
          null,
          null,
          null,
          null,
          null,
          null,
          null,
          null,
          null,
          null,
          null,
          null,
          null,
          null,
          null,
          null,
          null,
          null,
          null,
          null,
          null,
          null,
          null,
          null,
          null,
          null,
          null,
          null,
          null,
          null,
          null,
          null,
          null,
          null,
          null,
          null,
          null,
          null,
          null,
          null,
          null,
          null,
          null,
          null,
          null,
          null,
          null,
          null,
          null,
          null,
          null,
          null,
          null,
          null,
          null,
          null,
          null,
          null,
          null,
          null,
          null,
          null,
          null,
          null,
          null,
          null,
          null,
          null,
          null,
          null,
          null,
          null,
          null,
          null,
          null,
          null,
          null,
          null,
          null,
          null,
          null,
          null,
          null,
          null,
          null,
          null,
          null
         ],
         "xaxis": "x",
         "y": [
          200,
          200,
          175,
          145,
          80,
          66.666,
          60,
          60,
          50,
          50,
          48.888,
          48.88,
          48.57,
          45,
          42.69,
          40,
          39,
          35,
          35,
          35,
          35,
          35,
          33,
          32,
          32,
          30,
          30,
          30,
          30,
          30,
          30,
          29.91,
          29.8,
          28.94,
          28.88,
          28,
          28,
          27.77,
          27.5,
          27.5,
          27,
          26.5,
          26,
          26,
          25.4,
          25,
          25,
          25,
          25,
          25,
          25,
          25,
          24.9999,
          24.69,
          24.5,
          24.069,
          24,
          24,
          24,
          24,
          24,
          24,
          24,
          24,
          24,
          23.99,
          23.888,
          23.69,
          23.69,
          23.5,
          23.5,
          23.337,
          23,
          23,
          23,
          23,
          23,
          22.99,
          22.99,
          22.5,
          22.5,
          22.5,
          22.22,
          22.22,
          22.22,
          22.2,
          22,
          22,
          22,
          22,
          22,
          22,
          22,
          22,
          22,
          22,
          21.99,
          21.99,
          21.99,
          21.9,
          21.5,
          21.5,
          21.5,
          21.5,
          21,
          21,
          21,
          21,
          21,
          21,
          20.9,
          20.75,
          20.69,
          20.69,
          20,
          20,
          20,
          20,
          20,
          20,
          20,
          20,
          20,
          20,
          20,
          20,
          20,
          20,
          19.99992336795338,
          19.99,
          19.99,
          19.99,
          19.969,
          19.69,
          19.5,
          19.5,
          19.5,
          19.3,
          19.2,
          19,
          19,
          19,
          19,
          18.95,
          18.95,
          18.9,
          18.88,
          18.88,
          18.75,
          18.5,
          18.5,
          18.5,
          18.5,
          18.5,
          18.5,
          18.5,
          18.1337,
          18,
          18,
          18,
          18,
          18,
          18,
          18,
          18,
          18,
          18,
          18,
          18,
          18,
          18,
          18,
          17.99,
          17.99,
          17.98,
          17.95,
          17.9,
          17.5,
          17.5,
          17.5,
          17.5,
          17.43,
          17.167257721296323,
          17,
          17,
          17,
          17,
          17,
          16.99,
          16.99,
          16.942,
          16.69,
          16.5,
          16.5,
          16.5,
          16.5,
          16.25,
          16,
          16,
          16,
          16,
          15.99,
          15.9,
          15.9,
          15.9,
          15.9,
          15.9,
          15.89,
          15.8,
          15.59,
          15.5,
          15.241146984315206,
          15,
          15,
          15,
          15,
          15,
          15,
          15,
          15,
          15,
          15,
          15,
          15,
          15,
          15,
          15,
          15,
          15,
          15,
          15,
          15,
          15,
          15,
          14.9999,
          14.99,
          14.99,
          14.99,
          14.95,
          14.9,
          14.9,
          14.8869,
          14.88,
          14.6969,
          14.6969,
          14.69,
          14.6,
          14.5,
          14.5,
          14.5,
          14.216,
          14.2069,
          14,
          14,
          14,
          14,
          14,
          14,
          14,
          14,
          14,
          14,
          14,
          14,
          14,
          14,
          13.99,
          13.99,
          13.9,
          13.9,
          13.888,
          13.85,
          13.8,
          13.75,
          13.6969,
          13.69,
          13.69,
          13.5,
          13.5,
          13.5,
          13.5,
          13.5,
          13.49,
          13.33,
          13.3,
          13.2,
          13,
          13,
          13,
          13,
          13,
          13,
          13,
          13,
          13,
          12.99,
          12.95,
          12.95,
          12.888,
          12.88,
          12.8,
          12.8,
          12.8,
          12.75,
          12.69,
          12.69,
          12.69,
          12.65,
          12.5,
          12.5,
          12.5,
          12.5,
          12.5,
          12.5,
          12.5,
          12.45,
          12.43,
          12.4,
          12.4,
          12.4,
          12.35,
          12.29,
          12,
          12,
          12,
          12,
          12,
          12,
          12,
          12,
          12,
          12,
          12,
          12,
          12,
          12,
          12,
          12,
          12,
          12,
          12,
          12,
          12,
          12,
          12,
          11.99,
          11.99,
          11.99,
          11.99,
          11.99,
          11.99,
          11.99,
          11.98,
          11.98,
          11.96,
          11.95,
          11.95,
          11.9,
          11.9,
          11.9,
          11.88,
          11.88,
          11.85,
          11.82130112544606,
          11.8,
          11.8,
          11.77,
          11.75,
          11.75,
          11.75,
          11.5,
          11.5,
          11.5,
          11.5,
          11.5,
          11.5,
          11.5,
          11.5,
          11.45,
          11.4,
          11.3,
          11.25,
          11.1111,
          11.11,
          11.11,
          11.11,
          11.11,
          11.11,
          11.11,
          11,
          11,
          11,
          11,
          11,
          11,
          11,
          11,
          11,
          11,
          11,
          11,
          11,
          11,
          11,
          10.99,
          10.99,
          10.98,
          10.97,
          10.97,
          10.96,
          10.9,
          10.9,
          10.88,
          10.88,
          10.795243773951906,
          10.7,
          10.69,
          10.5,
          10.5,
          10.5,
          10.49,
          10.4,
          10.4,
          10.25,
          10,
          10,
          10,
          10,
          10,
          10,
          10,
          10,
          10,
          10,
          10,
          10,
          10,
          9.9999,
          9.999,
          9.99,
          9.99,
          9.99,
          9.99,
          9.98,
          9.9,
          9.9,
          9.9,
          9.9,
          9.9,
          9.9,
          9.9,
          9.888,
          9.88,
          9.88,
          9.8,
          9.8,
          9.8,
          9.8,
          9.8,
          9.8,
          9.8,
          9.8,
          9.8,
          9.7,
          9.69,
          9.69,
          9.69,
          9.69,
          9.6,
          9.5,
          9.5,
          9.5,
          9.5,
          9.5,
          9.5,
          9.5,
          9.4,
          9.3,
          9.25,
          9.1,
          9.1,
          9,
          9,
          9,
          9,
          9,
          9,
          9,
          9,
          9,
          8.99,
          8.99,
          8.99,
          8.98,
          8.98,
          8.89,
          8.88,
          8.88,
          8.88,
          8.88,
          8.85,
          8.85,
          8.8,
          8.8,
          8.8,
          8.8,
          8.8,
          8.79,
          8.79,
          8.7654,
          8.75,
          8.75,
          8.75,
          8.7,
          8.69,
          8.6,
          8.6,
          8.6,
          8.5,
          8.5,
          8.5,
          8.5,
          8.5,
          8.5,
          8.5,
          8.49,
          8.49,
          8.469,
          8.44,
          8.432,
          8.4,
          8.4,
          8.35,
          8.25,
          8.2,
          8.2,
          8.2,
          8.1,
          8.1,
          8,
          8,
          8,
          8,
          8,
          8,
          8,
          8,
          8,
          8,
          8,
          8,
          8,
          8,
          8,
          8,
          8,
          8,
          7.9999,
          7.99,
          7.99,
          7.99,
          7.99,
          7.99,
          7.99,
          7.99,
          7.98,
          7.9,
          7.9,
          7.9,
          7.9,
          7.9,
          7.85,
          7.85,
          7.8,
          7.8,
          7.8,
          7.7777,
          7.77,
          7.77,
          7.75,
          7.75,
          7.7,
          7.7,
          7.7,
          7.7,
          7.7,
          7.66,
          7.536953642384106,
          7.5,
          7.5,
          7.5,
          7.5,
          7.5,
          7.5,
          7.5,
          7.5,
          7.5,
          7.5,
          7.5,
          7.5,
          7.5,
          7.5,
          7.5,
          7.4999,
          7.49,
          7.49,
          7.49,
          7.49,
          7.49,
          7.49,
          7.49,
          7.4888,
          7.48,
          7.47,
          7.45,
          7.45,
          7.44,
          7.4,
          7.4,
          7.4,
          7.39,
          7.35,
          7.35,
          7.3,
          7.3,
          7.3,
          7.25,
          7.25,
          7.25,
          7.25,
          7.25,
          7.25,
          7.24,
          7.22,
          7.2,
          7.2,
          7.2,
          7.2,
          7.1499,
          7.123,
          7.1111,
          7.1,
          7.1,
          7.1,
          7.1,
          7.1,
          7.1,
          7.095,
          7.069,
          7,
          7,
          7,
          7,
          7,
          7,
          7,
          6.99,
          6.99,
          6.99,
          6.99,
          6.99,
          6.99,
          6.99,
          6.99,
          6.99,
          6.98,
          6.97,
          6.969,
          6.95,
          6.9,
          6.9,
          6.9,
          6.9,
          6.9,
          6.9,
          6.9,
          6.89,
          6.89,
          6.89,
          6.88,
          6.88,
          6.85,
          6.8,
          6.8,
          6.79,
          6.78,
          6.75,
          6.75,
          6.75,
          6.72,
          6.7,
          6.69,
          6.68,
          6.68,
          6.66,
          6.66,
          6.64,
          6.6,
          6.6,
          6.6,
          6.5,
          6.5,
          6.5,
          6.5,
          6.5,
          6.5,
          6.5,
          6.5,
          6.5,
          6.49,
          6.49,
          6.49,
          6.49,
          6.477,
          6.469,
          6.4,
          6.4,
          6.4,
          6.4,
          6.4,
          6.4,
          6.4,
          6.39,
          6.39,
          6.35,
          6.33,
          6.3,
          6.3,
          6.29,
          6.29,
          6.29,
          6.25,
          6.23,
          6.21,
          6.19,
          6.1,
          6.1,
          6,
          6,
          6,
          6,
          6,
          6,
          5.99,
          5.99,
          5.99,
          5.97,
          5.97,
          5.95,
          5.93,
          5.9,
          5.9,
          5.9,
          5.8888,
          5.869,
          5.85,
          5.85,
          5.85,
          5.8,
          5.8,
          5.8,
          5.8,
          5.8,
          5.8,
          5.77,
          5.75,
          5.75,
          5.75,
          5.7,
          5.7,
          5.7,
          5.69,
          5.6,
          5.6,
          5.6,
          5.555,
          5.55,
          5.5,
          5.5,
          0.01,
          null,
          null,
          null,
          null,
          null,
          null,
          null,
          null,
          null,
          null,
          null,
          null,
          null,
          null,
          null,
          null,
          null,
          null,
          null,
          null,
          null,
          null,
          null,
          null,
          null,
          null,
          null,
          null,
          null,
          null,
          null,
          null,
          null,
          null,
          null,
          null,
          null,
          null,
          null,
          null,
          null,
          null,
          null,
          null,
          null,
          null,
          null,
          null,
          null,
          null,
          null,
          null,
          null,
          null,
          null,
          null,
          null,
          null,
          null,
          null,
          null,
          null,
          null,
          null,
          null,
          null,
          null,
          null,
          null,
          null,
          null,
          null,
          null,
          null,
          null,
          null,
          null,
          null,
          null,
          null,
          null,
          null,
          null,
          null,
          null,
          null,
          null,
          null,
          null,
          null,
          null,
          null,
          null,
          null,
          null,
          null,
          null,
          null,
          null,
          null,
          null,
          null,
          null,
          null,
          null,
          null,
          null,
          null,
          null,
          null,
          null,
          null,
          null,
          null,
          null,
          null,
          null,
          null,
          null,
          null,
          null,
          null,
          null,
          null,
          null,
          null,
          null,
          null,
          null,
          null,
          null,
          null,
          null,
          null,
          null,
          null,
          null,
          null,
          null,
          null,
          null,
          null,
          null,
          null,
          null,
          null,
          null,
          null,
          null,
          null,
          null,
          null,
          null,
          null,
          null,
          null,
          null,
          null,
          null,
          null,
          null,
          null,
          null,
          null,
          null,
          null,
          null,
          null,
          null,
          null,
          null,
          null,
          null,
          null,
          null,
          null,
          null,
          null,
          null,
          null,
          null,
          null,
          null,
          null,
          null,
          null,
          null,
          null,
          null,
          null,
          null,
          null,
          null,
          null,
          null,
          null,
          null,
          null,
          null,
          null,
          null,
          null,
          null,
          null,
          null,
          null,
          null,
          null,
          null,
          null,
          null,
          null,
          null,
          null,
          null,
          null,
          null,
          null,
          null,
          null
         ],
         "yaxis": "y"
        },
        {
         "hovertemplate": "<b>OLS trendline</b><br>Lastprice = -0.053007 * LPdate + 14.1022<br>R<sup>2</sup>=0.000021<br><br>LPdate=%{x}<br>Lastprice=%{y} <b>(trend)</b><extra></extra>",
         "legendgroup": "",
         "marker": {
          "color": "#636efa",
          "symbol": "circle"
         },
         "mode": "lines",
         "name": "",
         "showlegend": false,
         "type": "scatter",
         "x": [
          "2021-09-28T16:28:27",
          "2021-09-28T16:29:13",
          "2021-09-28T16:29:13",
          "2021-09-28T16:29:13",
          "2021-09-28T16:30:06",
          "2021-09-28T16:30:28",
          "2021-09-28T16:30:30",
          "2021-09-28T16:31:29",
          "2021-09-28T16:31:41",
          "2021-09-28T16:31:41",
          "2021-09-28T16:31:41",
          "2021-09-28T16:31:54",
          "2021-09-28T16:31:54",
          "2021-09-28T16:32:56",
          "2021-09-28T16:32:56",
          "2021-09-28T16:32:56",
          "2021-09-28T16:33:04",
          "2021-09-28T16:33:20",
          "2021-09-28T16:33:20",
          "2021-09-28T16:33:20",
          "2021-09-28T16:33:43",
          "2021-09-28T16:34:17",
          "2021-09-28T16:34:17",
          "2021-09-28T16:34:41",
          "2021-09-28T16:34:41",
          "2021-09-28T16:35:22",
          "2021-09-28T16:35:36",
          "2021-09-28T16:35:43",
          "2021-09-28T16:35:50",
          "2021-09-28T16:36:50",
          "2021-09-28T16:36:50",
          "2021-09-28T16:36:52",
          "2021-09-28T16:36:52",
          "2021-09-28T16:37:19",
          "2021-09-28T16:37:23",
          "2021-09-28T16:37:29",
          "2021-09-28T16:37:29",
          "2021-09-28T16:37:36",
          "2021-09-28T16:37:50",
          "2021-09-28T16:37:50",
          "2021-09-28T16:38:08",
          "2021-09-28T16:38:19",
          "2021-09-28T16:38:50",
          "2021-09-28T16:40:01",
          "2021-09-28T16:40:48",
          "2021-09-28T16:40:48",
          "2021-09-28T16:40:48",
          "2021-09-28T16:41:07",
          "2021-09-28T16:41:07",
          "2021-09-28T16:41:07",
          "2021-09-28T16:41:07",
          "2021-09-28T16:41:14",
          "2021-09-28T16:41:36",
          "2021-09-28T16:41:36",
          "2021-09-28T16:41:36",
          "2021-09-28T16:42:15",
          "2021-09-28T16:42:57",
          "2021-09-28T16:42:57",
          "2021-09-28T16:42:57",
          "2021-09-28T16:43:15",
          "2021-09-28T16:43:42",
          "2021-09-28T16:43:50",
          "2021-09-28T16:43:50",
          "2021-09-28T16:44:02",
          "2021-09-28T16:44:17",
          "2021-09-28T16:44:44",
          "2021-09-28T16:44:44",
          "2021-09-28T16:45:09",
          "2021-09-28T16:45:09",
          "2021-09-28T16:45:36",
          "2021-09-28T16:45:36",
          "2021-09-28T16:45:36",
          "2021-09-28T16:45:36",
          "2021-09-28T16:46:23",
          "2021-09-28T16:46:23",
          "2021-09-28T16:46:23",
          "2021-09-28T16:46:29",
          "2021-09-28T16:46:29",
          "2021-09-28T16:46:41",
          "2021-09-28T16:46:52",
          "2021-09-28T16:46:57",
          "2021-09-28T16:47:14",
          "2021-09-28T16:47:14",
          "2021-09-28T16:47:14",
          "2021-09-28T16:48:01",
          "2021-09-28T16:48:16",
          "2021-09-28T16:48:16",
          "2021-09-28T16:48:26",
          "2021-09-28T16:48:31",
          "2021-09-28T16:48:35",
          "2021-09-28T16:48:47",
          "2021-09-28T16:49:49",
          "2021-09-28T16:50:13",
          "2021-09-28T16:50:13",
          "2021-09-28T16:50:57",
          "2021-09-28T16:51:02",
          "2021-09-28T16:51:05",
          "2021-09-28T16:51:05",
          "2021-09-28T16:51:05",
          "2021-09-28T16:51:05",
          "2021-09-28T16:51:57",
          "2021-09-28T16:52:23",
          "2021-09-28T16:52:23",
          "2021-09-28T16:53:18",
          "2021-09-28T16:53:25",
          "2021-09-28T16:53:25",
          "2021-09-28T16:53:25",
          "2021-09-28T16:53:25",
          "2021-09-28T16:54:12",
          "2021-09-28T16:54:12",
          "2021-09-28T16:54:12",
          "2021-09-28T16:54:40",
          "2021-09-28T16:54:54",
          "2021-09-28T16:55:11",
          "2021-09-28T16:55:11",
          "2021-09-28T16:55:32",
          "2021-09-28T16:55:32",
          "2021-09-28T16:55:32",
          "2021-09-28T16:56:06",
          "2021-09-28T16:57:28",
          "2021-09-28T16:57:39",
          "2021-09-28T16:58:05",
          "2021-09-28T16:58:05",
          "2021-09-28T16:58:05",
          "2021-09-28T16:58:27",
          "2021-09-28T16:59:06",
          "2021-09-28T16:59:20",
          "2021-09-28T16:59:29",
          "2021-09-28T17:00:05",
          "2021-09-28T17:00:28",
          "2021-09-28T17:00:54",
          "2021-09-28T17:00:54",
          "2021-09-28T17:01:29",
          "2021-09-28T17:01:29",
          "2021-09-28T17:01:43",
          "2021-09-28T17:02:29",
          "2021-09-28T17:02:29",
          "2021-09-28T17:02:29",
          "2021-09-28T17:03:13",
          "2021-09-28T17:03:25",
          "2021-09-28T17:03:27",
          "2021-09-28T17:03:27",
          "2021-09-28T17:04:04",
          "2021-09-28T17:04:04",
          "2021-09-28T17:05:16",
          "2021-09-28T17:05:16",
          "2021-09-28T17:05:46",
          "2021-09-28T17:05:52",
          "2021-09-28T17:06:11",
          "2021-09-28T17:06:11",
          "2021-09-28T17:06:11",
          "2021-09-28T17:06:38",
          "2021-09-28T17:06:38",
          "2021-09-28T17:06:44",
          "2021-09-28T17:08:34",
          "2021-09-28T17:08:34",
          "2021-09-28T17:08:49",
          "2021-09-28T17:08:49",
          "2021-09-28T17:09:34",
          "2021-09-28T17:09:37",
          "2021-09-28T17:09:44",
          "2021-09-28T17:09:48",
          "2021-09-28T17:09:48",
          "2021-09-28T17:10:03",
          "2021-09-28T17:10:03",
          "2021-09-28T17:10:03",
          "2021-09-28T17:10:16",
          "2021-09-28T17:10:16",
          "2021-09-28T17:10:45",
          "2021-09-28T17:10:45",
          "2021-09-28T17:10:45",
          "2021-09-28T17:11:35",
          "2021-09-28T17:11:35",
          "2021-09-28T17:12:49",
          "2021-09-28T17:12:49",
          "2021-09-28T17:13:33",
          "2021-09-28T17:14:17",
          "2021-09-28T17:15:05",
          "2021-09-28T17:15:05",
          "2021-09-28T17:15:05",
          "2021-09-28T17:15:05",
          "2021-09-28T17:15:14",
          "2021-09-28T17:15:36",
          "2021-09-28T17:16:20",
          "2021-09-28T17:16:37",
          "2021-09-28T17:17:18",
          "2021-09-28T17:17:18",
          "2021-09-28T17:17:18",
          "2021-09-28T17:18:48",
          "2021-09-28T17:18:56",
          "2021-09-28T17:19:30",
          "2021-09-28T17:20:01",
          "2021-09-28T17:20:01",
          "2021-09-28T17:20:17",
          "2021-09-28T17:20:17",
          "2021-09-28T17:20:29",
          "2021-09-28T17:20:31",
          "2021-09-28T17:21:19",
          "2021-09-28T17:22:07",
          "2021-09-28T17:22:59",
          "2021-09-28T17:22:59",
          "2021-09-28T17:22:59",
          "2021-09-28T17:23:21",
          "2021-09-28T17:24:20",
          "2021-09-28T17:24:20",
          "2021-09-28T17:24:29",
          "2021-09-28T17:25:17",
          "2021-09-28T17:25:17",
          "2021-09-28T17:26:16",
          "2021-09-28T17:26:16",
          "2021-09-28T17:26:46",
          "2021-09-28T17:26:46",
          "2021-09-28T17:26:59",
          "2021-09-28T17:26:59",
          "2021-09-28T17:27:32",
          "2021-09-28T17:27:49",
          "2021-09-28T17:27:51",
          "2021-09-28T17:28:21",
          "2021-09-28T17:28:38",
          "2021-09-28T17:29:01",
          "2021-09-28T17:29:01",
          "2021-09-28T17:29:42",
          "2021-09-28T17:29:53",
          "2021-09-28T17:29:53",
          "2021-09-28T17:30:36",
          "2021-09-28T17:30:47",
          "2021-09-28T17:30:58",
          "2021-09-28T17:31:06",
          "2021-09-28T17:31:48",
          "2021-09-28T17:32:24",
          "2021-09-28T17:33:43",
          "2021-09-28T17:33:43",
          "2021-09-28T17:33:43",
          "2021-09-28T17:34:13",
          "2021-09-28T17:34:13",
          "2021-09-28T17:35:29",
          "2021-09-28T17:35:34",
          "2021-09-28T17:36:01",
          "2021-09-28T17:36:07",
          "2021-09-28T17:37:16",
          "2021-09-28T17:37:16",
          "2021-09-28T17:37:48",
          "2021-09-28T17:39:01",
          "2021-09-28T17:39:07",
          "2021-09-28T17:39:43",
          "2021-09-28T17:39:43",
          "2021-09-28T17:40:31",
          "2021-09-28T17:41:38",
          "2021-09-28T17:41:38",
          "2021-09-28T17:41:38",
          "2021-09-28T17:41:38",
          "2021-09-28T17:42:11",
          "2021-09-28T17:42:58",
          "2021-09-28T17:43:24",
          "2021-09-28T17:43:34",
          "2021-09-28T17:43:34",
          "2021-09-28T17:43:45",
          "2021-09-28T17:44:03",
          "2021-09-28T17:44:03",
          "2021-09-28T17:44:03",
          "2021-09-28T17:45:45",
          "2021-09-28T17:46:11",
          "2021-09-28T17:47:02",
          "2021-09-28T17:47:39",
          "2021-09-28T17:47:39",
          "2021-09-28T17:48:44",
          "2021-09-28T17:49:12",
          "2021-09-28T17:49:12",
          "2021-09-28T17:49:46",
          "2021-09-28T17:49:46",
          "2021-09-28T17:50:06",
          "2021-09-28T17:50:06",
          "2021-09-28T17:50:30",
          "2021-09-28T17:50:46",
          "2021-09-28T17:50:50",
          "2021-09-28T17:51:12",
          "2021-09-28T17:51:53",
          "2021-09-28T17:51:53",
          "2021-09-28T17:52:00",
          "2021-09-28T17:52:00",
          "2021-09-28T17:53:35",
          "2021-09-28T17:53:58",
          "2021-09-28T17:55:00",
          "2021-09-28T17:56:04",
          "2021-09-28T17:57:42",
          "2021-09-28T17:57:42",
          "2021-09-28T17:58:50",
          "2021-09-28T18:01:01",
          "2021-09-28T18:01:01",
          "2021-09-28T18:01:01",
          "2021-09-28T18:01:16",
          "2021-09-28T18:01:42",
          "2021-09-28T18:02:17",
          "2021-09-28T18:02:17",
          "2021-09-28T18:03:02",
          "2021-09-28T18:05:13",
          "2021-09-28T18:05:23",
          "2021-09-28T18:05:34",
          "2021-09-28T18:07:35",
          "2021-09-28T18:08:33",
          "2021-09-28T18:08:49",
          "2021-09-28T18:09:25",
          "2021-09-28T18:09:25",
          "2021-09-28T18:09:25",
          "2021-09-28T18:09:25",
          "2021-09-28T18:11:05",
          "2021-09-28T18:11:43",
          "2021-09-28T18:11:43",
          "2021-09-28T18:12:29",
          "2021-09-28T18:13:24",
          "2021-09-28T18:13:24",
          "2021-09-28T18:13:40",
          "2021-09-28T18:14:04",
          "2021-09-28T18:16:11",
          "2021-09-28T18:17:25",
          "2021-09-28T18:17:57",
          "2021-09-28T18:19:12",
          "2021-09-28T18:19:12",
          "2021-09-28T18:19:37",
          "2021-09-28T18:20:45",
          "2021-09-28T18:21:38",
          "2021-09-28T18:25:07",
          "2021-09-28T18:25:15",
          "2021-09-28T18:25:15",
          "2021-09-28T18:25:34",
          "2021-09-28T18:27:03",
          "2021-09-28T18:27:46",
          "2021-09-28T18:27:46",
          "2021-09-28T18:27:54",
          "2021-09-28T18:29:18",
          "2021-09-28T18:30:51",
          "2021-09-28T18:33:04",
          "2021-09-28T18:33:45",
          "2021-09-28T18:35:59",
          "2021-09-28T18:37:13",
          "2021-09-28T18:37:13",
          "2021-09-28T18:37:13",
          "2021-09-28T18:37:35",
          "2021-09-28T18:38:21",
          "2021-09-28T18:38:21",
          "2021-09-28T18:38:21",
          "2021-09-28T18:38:38",
          "2021-09-28T18:39:28",
          "2021-09-28T18:41:15",
          "2021-09-28T18:42:26",
          "2021-09-28T18:42:43",
          "2021-09-28T18:43:43",
          "2021-09-28T18:44:45",
          "2021-09-28T18:46:42",
          "2021-09-28T18:46:42",
          "2021-09-28T18:47:57",
          "2021-09-28T18:49:13",
          "2021-09-28T18:50:25",
          "2021-09-28T18:52:25",
          "2021-09-28T18:52:33",
          "2021-09-28T18:53:07",
          "2021-09-28T18:54:02",
          "2021-09-28T18:54:02",
          "2021-09-28T18:55:33",
          "2021-09-28T18:57:29",
          "2021-09-28T18:59:50",
          "2021-09-28T19:00:29",
          "2021-09-28T19:03:01",
          "2021-09-28T19:03:41",
          "2021-09-28T19:05:01",
          "2021-09-28T19:10:13",
          "2021-09-28T19:10:38",
          "2021-09-28T19:11:58",
          "2021-09-28T19:15:43",
          "2021-09-28T19:16:05",
          "2021-09-28T19:17:57",
          "2021-09-28T19:20:18",
          "2021-09-28T19:22:07",
          "2021-09-28T19:22:07",
          "2021-09-28T19:26:56",
          "2021-09-28T19:29:46",
          "2021-09-28T19:31:25",
          "2021-09-28T19:32:44",
          "2021-09-28T19:32:44",
          "2021-09-28T19:32:57",
          "2021-09-28T19:34:29",
          "2021-09-28T19:34:57",
          "2021-09-28T19:41:20",
          "2021-09-28T19:41:53",
          "2021-09-28T19:48:11",
          "2021-09-28T19:50:39",
          "2021-09-28T19:55:24",
          "2021-09-28T19:59:44",
          "2021-09-28T20:00:14",
          "2021-09-28T20:00:30",
          "2021-09-28T20:02:49",
          "2021-09-28T20:03:54",
          "2021-09-28T20:06:41",
          "2021-09-28T20:10:41",
          "2021-09-28T20:18:10",
          "2021-09-28T20:33:51",
          "2021-09-28T20:33:51",
          "2021-09-28T20:39:21",
          "2021-09-28T20:41:42",
          "2021-09-28T20:59:40",
          "2021-09-28T21:02:21",
          "2021-09-28T21:03:32",
          "2021-09-28T21:20:57",
          "2021-09-28T21:22:42",
          "2021-09-28T21:29:00",
          "2021-09-28T21:42:34",
          "2021-09-28T21:44:03",
          "2021-09-28T21:48:50",
          "2021-09-28T22:00:46",
          "2021-09-28T22:03:39",
          "2021-09-28T22:07:28",
          "2021-09-28T22:10:50",
          "2021-09-28T22:22:54",
          "2021-09-28T22:28:27",
          "2021-09-28T22:28:40",
          "2021-09-28T22:32:09",
          "2021-09-28T22:32:09",
          "2021-09-28T22:35:23",
          "2021-09-28T22:35:43",
          "2021-09-28T22:39:44",
          "2021-09-28T22:43:05",
          "2021-09-28T22:43:44",
          "2021-09-28T22:44:13",
          "2021-09-28T22:44:13",
          "2021-09-28T22:46:22",
          "2021-09-28T22:46:22",
          "2021-09-28T22:47:20",
          "2021-09-28T22:47:20",
          "2021-09-28T22:47:23",
          "2021-09-28T22:47:42",
          "2021-09-28T22:49:28",
          "2021-09-28T22:53:29",
          "2021-09-28T22:55:36",
          "2021-09-28T22:57:29",
          "2021-09-28T23:00:37",
          "2021-09-28T23:10:02",
          "2021-09-28T23:15:08",
          "2021-09-28T23:21:58",
          "2021-09-28T23:23:53",
          "2021-09-28T23:26:06",
          "2021-09-28T23:26:16",
          "2021-09-28T23:27:58",
          "2021-09-28T23:31:34",
          "2021-09-28T23:33:33",
          "2021-09-28T23:37:12",
          "2021-09-28T23:37:55",
          "2021-09-28T23:37:55",
          "2021-09-28T23:43:06",
          "2021-09-28T23:44:01",
          "2021-09-28T23:51:16",
          "2021-09-28T23:52:00",
          "2021-09-28T23:53:03",
          "2021-09-28T23:53:12",
          "2021-09-28T23:53:43",
          "2021-09-28T23:59:13",
          "2021-09-28T23:59:50",
          "2021-09-29T00:04:33",
          "2021-09-29T00:06:39",
          "2021-09-29T00:07:22",
          "2021-09-29T00:07:53",
          "2021-09-29T00:14:13",
          "2021-09-29T00:30:35",
          "2021-09-29T00:32:08",
          "2021-09-29T00:32:22",
          "2021-09-29T00:35:48",
          "2021-09-29T00:47:24",
          "2021-09-29T00:51:46",
          "2021-09-29T00:52:33",
          "2021-09-29T00:55:12",
          "2021-09-29T00:57:07",
          "2021-09-29T01:00:09",
          "2021-09-29T01:01:00",
          "2021-09-29T01:44:08",
          "2021-09-29T01:49:41",
          "2021-09-29T02:26:26",
          "2021-09-29T02:48:19",
          "2021-09-29T02:58:08",
          "2021-09-29T02:59:58",
          "2021-09-29T03:33:46",
          "2021-09-29T04:04:30",
          "2021-09-29T04:23:52",
          "2021-09-29T04:48:51",
          "2021-09-29T05:27:40",
          "2021-09-29T05:33:16",
          "2021-09-29T05:34:34",
          "2021-09-29T06:05:09",
          "2021-09-29T06:17:29",
          "2021-09-29T06:44:32",
          "2021-09-29T08:44:42",
          "2021-09-29T09:10:31",
          "2021-09-29T09:20:03",
          "2021-09-29T10:33:29",
          "2021-09-29T10:47:55",
          "2021-09-29T10:53:45",
          "2021-09-29T10:54:35",
          "2021-09-29T11:17:13",
          "2021-09-29T11:23:45",
          "2021-09-29T11:30:57",
          "2021-09-29T11:45:10",
          "2021-09-29T11:55:03",
          "2021-09-29T12:02:18",
          "2021-09-29T12:07:58",
          "2021-09-29T12:16:08",
          "2021-09-29T13:04:30",
          "2021-09-29T13:37:08",
          "2021-09-29T13:53:36",
          "2021-09-29T13:56:21",
          "2021-09-29T14:49:34",
          "2021-09-29T15:20:39",
          "2021-09-29T15:34:39",
          "2021-09-29T15:43:18",
          "2021-09-29T15:45:55",
          "2021-09-29T16:30:03",
          "2021-09-29T17:12:38",
          "2021-09-29T18:03:36",
          "2021-09-29T18:31:08",
          "2021-09-29T19:06:32",
          "2021-09-29T19:08:17",
          "2021-09-29T19:56:08",
          "2021-09-29T20:07:14",
          "2021-09-29T20:35:06",
          "2021-09-29T20:42:33",
          "2021-09-29T21:32:20",
          "2021-09-29T22:21:56",
          "2021-09-29T23:48:47",
          "2021-09-30T00:46:49",
          "2021-09-30T01:09:56",
          "2021-09-30T01:18:57",
          "2021-09-30T01:40:20",
          "2021-09-30T03:18:55",
          "2021-09-30T03:39:43",
          "2021-09-30T04:30:28",
          "2021-09-30T05:53:28",
          "2021-09-30T07:20:09",
          "2021-09-30T07:24:47",
          "2021-09-30T07:45:03",
          "2021-09-30T07:49:52",
          "2021-09-30T09:03:11",
          "2021-09-30T09:18:03",
          "2021-09-30T10:46:33",
          "2021-09-30T11:11:19",
          "2021-09-30T11:40:09",
          "2021-09-30T11:51:57",
          "2021-09-30T12:02:35",
          "2021-09-30T12:47:47",
          "2021-09-30T13:15:18",
          "2021-09-30T13:19:45",
          "2021-09-30T13:22:13",
          "2021-09-30T13:26:07",
          "2021-09-30T13:34:39",
          "2021-09-30T14:09:31",
          "2021-09-30T14:18:24",
          "2021-09-30T14:40:28",
          "2021-09-30T15:00:16",
          "2021-09-30T15:15:09",
          "2021-09-30T15:17:10",
          "2021-09-30T15:20:50",
          "2021-09-30T15:27:45",
          "2021-09-30T15:35:18",
          "2021-09-30T15:43:21",
          "2021-09-30T16:40:22",
          "2021-09-30T16:57:58",
          "2021-09-30T17:15:14",
          "2021-09-30T17:30:14",
          "2021-09-30T17:36:26",
          "2021-09-30T17:37:27",
          "2021-09-30T17:38:08",
          "2021-09-30T17:41:33",
          "2021-09-30T17:47:00",
          "2021-09-30T18:00:29",
          "2021-09-30T18:06:00",
          "2021-09-30T18:10:03",
          "2021-09-30T18:24:24",
          "2021-09-30T18:42:29",
          "2021-09-30T19:43:16",
          "2021-09-30T20:10:22",
          "2021-09-30T21:59:22",
          "2021-09-30T22:49:47",
          "2021-10-01T00:08:04",
          "2021-10-01T00:12:13",
          "2021-10-01T00:20:16",
          "2021-10-01T00:33:44",
          "2021-10-01T00:46:06",
          "2021-10-01T00:56:30",
          "2021-10-01T01:00:34",
          "2021-10-01T01:10:50",
          "2021-10-01T01:11:05",
          "2021-10-01T01:15:31",
          "2021-10-01T01:16:27",
          "2021-10-01T01:16:36",
          "2021-10-01T01:22:47",
          "2021-10-01T01:28:02",
          "2021-10-01T01:30:04",
          "2021-10-01T01:34:11",
          "2021-10-01T01:37:21",
          "2021-10-01T01:56:57",
          "2021-10-01T01:59:07",
          "2021-10-01T02:02:17",
          "2021-10-01T02:08:21",
          "2021-10-01T02:11:00",
          "2021-10-01T02:19:43",
          "2021-10-01T02:25:04",
          "2021-10-01T02:32:50",
          "2021-10-01T02:41:20",
          "2021-10-01T02:59:47",
          "2021-10-01T03:03:32",
          "2021-10-01T03:15:00",
          "2021-10-01T03:19:00",
          "2021-10-01T03:25:21",
          "2021-10-01T03:26:37",
          "2021-10-01T03:27:53",
          "2021-10-01T03:30:36",
          "2021-10-01T03:43:12",
          "2021-10-01T03:44:54",
          "2021-10-01T03:48:29",
          "2021-10-01T04:15:29",
          "2021-10-01T04:31:17",
          "2021-10-01T04:33:26",
          "2021-10-01T04:43:03",
          "2021-10-01T04:44:52",
          "2021-10-01T04:46:19",
          "2021-10-01T04:48:25",
          "2021-10-01T04:53:02",
          "2021-10-01T05:05:30",
          "2021-10-01T05:11:54",
          "2021-10-01T05:15:42",
          "2021-10-01T05:19:56",
          "2021-10-01T05:22:19",
          "2021-10-01T05:34:11",
          "2021-10-01T05:37:02",
          "2021-10-01T05:38:07",
          "2021-10-01T05:40:17",
          "2021-10-01T05:47:37",
          "2021-10-01T05:51:25",
          "2021-10-01T06:08:40",
          "2021-10-01T06:09:13",
          "2021-10-01T06:11:09",
          "2021-10-01T06:14:22",
          "2021-10-01T06:14:22",
          "2021-10-01T06:17:58",
          "2021-10-01T06:21:14",
          "2021-10-01T06:24:35",
          "2021-10-01T06:34:19",
          "2021-10-01T06:40:10",
          "2021-10-01T06:41:31",
          "2021-10-01T07:10:45",
          "2021-10-01T07:20:30",
          "2021-10-01T07:47:22",
          "2021-10-01T07:52:37",
          "2021-10-01T07:57:54",
          "2021-10-01T07:59:41",
          "2021-10-01T08:05:43",
          "2021-10-01T08:07:59",
          "2021-10-01T08:08:19",
          "2021-10-01T08:11:09",
          "2021-10-01T08:11:09",
          "2021-10-01T08:12:03",
          "2021-10-01T08:20:56",
          "2021-10-01T08:31:02",
          "2021-10-01T08:52:55",
          "2021-10-01T08:56:42",
          "2021-10-01T09:03:21",
          "2021-10-01T09:23:01",
          "2021-10-01T09:50:46",
          "2021-10-01T10:47:41",
          "2021-10-01T11:14:40",
          "2021-10-01T12:13:13",
          "2021-10-01T12:14:42",
          "2021-10-01T12:55:54",
          "2021-10-01T13:21:27",
          "2021-10-01T13:49:09",
          "2021-10-01T14:07:27",
          "2021-10-01T14:09:03",
          "2021-10-01T14:10:06",
          "2021-10-01T14:11:36",
          "2021-10-01T14:17:09",
          "2021-10-01T15:30:09",
          "2021-10-01T15:32:12",
          "2021-10-01T16:18:25",
          "2021-10-01T17:03:04",
          "2021-10-01T18:06:13",
          "2021-10-01T18:11:12",
          "2021-10-01T18:15:38",
          "2021-10-01T19:07:38",
          "2021-10-01T19:15:29",
          "2021-10-01T19:50:41",
          "2021-10-01T19:55:54",
          "2021-10-01T21:18:13",
          "2021-10-02T00:44:43",
          "2021-10-02T01:57:01",
          "2021-10-02T01:58:53",
          "2021-10-02T03:12:28",
          "2021-10-02T12:20:58",
          "2021-10-02T12:25:23",
          "2021-10-02T12:35:53",
          "2021-10-02T12:35:53",
          "2021-10-02T12:36:50",
          "2021-10-02T12:37:12",
          "2021-10-02T12:37:35",
          "2021-10-02T12:39:49",
          "2021-10-02T12:46:53",
          "2021-10-02T13:05:32",
          "2021-10-02T13:13:57",
          "2021-10-02T13:17:31",
          "2021-10-02T13:19:57",
          "2021-10-02T13:39:40",
          "2021-10-02T14:22:09",
          "2021-10-02T14:23:41",
          "2021-10-02T14:48:17",
          "2021-10-02T15:33:08",
          "2021-10-02T15:33:30",
          "2021-10-02T16:02:02",
          "2021-10-02T16:29:17",
          "2021-10-02T19:45:52",
          "2021-10-02T22:48:19",
          "2021-10-03T02:00:10",
          "2021-10-03T03:19:03",
          "2021-10-03T07:13:00",
          "2021-10-03T07:47:27",
          "2021-10-03T08:06:51",
          "2021-10-03T08:09:01",
          "2021-10-03T11:28:08",
          "2021-10-03T11:30:32",
          "2021-10-03T11:30:53",
          "2021-10-03T11:32:09",
          "2021-10-03T11:36:42",
          "2021-10-03T21:00:26",
          "2021-10-04T00:22:43",
          "2021-10-04T02:05:27",
          "2021-10-04T03:03:59",
          "2021-10-04T03:29:17",
          "2021-10-04T04:19:17",
          "2021-10-04T04:24:14",
          "2021-10-04T04:32:20",
          "2021-10-04T07:52:03",
          "2021-10-04T11:44:02",
          "2021-10-04T11:52:00",
          "2021-10-04T13:36:33",
          "2021-10-04T14:46:04",
          "2021-10-04T18:59:00",
          "2021-10-04T20:11:22",
          "2021-10-04T21:12:26",
          "2021-10-04T21:22:10",
          "2021-10-04T21:32:18",
          "2021-10-05T01:25:46",
          "2021-10-05T03:23:22",
          "2021-10-05T17:44:50",
          "2021-10-05T21:40:37",
          "2021-10-06T02:13:40",
          "2021-10-06T02:14:05",
          "2021-10-06T02:14:33",
          "2021-10-06T02:31:25",
          "2021-10-06T14:52:45",
          "2021-10-06T21:13:57",
          "2021-10-06T23:13:34",
          "2021-10-07T01:02:31",
          "2021-10-07T01:27:56",
          "2021-10-07T01:57:06",
          "2021-10-07T02:29:21",
          "2021-10-07T07:36:41",
          "2021-10-07T09:08:35",
          "2021-10-07T13:39:38",
          "2021-10-07T16:17:06",
          "2021-10-07T16:43:56",
          "2021-10-07T21:44:28",
          "2021-10-07T23:24:31",
          "2021-10-07T23:30:27",
          "2021-10-08T01:25:00",
          "2021-10-08T04:12:05",
          "2021-10-08T18:53:52",
          "2021-10-08T19:05:43",
          "2021-10-08T22:15:25",
          "2021-10-08T22:42:16",
          "2021-10-08T23:11:15",
          "2021-10-08T23:14:46",
          "2021-10-10T02:53:23",
          "2021-10-10T05:25:25",
          "2021-10-10T09:34:24",
          "2021-10-10T16:30:30",
          "2021-10-11T05:37:25"
         ],
         "xaxis": "x",
         "y": [
          14.05373520810093,
          14.119709861842724,
          14.119709861842724,
          14.119709861842724,
          14.042298830326214,
          14.01446148437601,
          14.136110830018213,
          14.195984477425906,
          14.0152271192695,
          14.0152271192695,
          14.0152271192695,
          14.009126112935398,
          14.009126112935398,
          14.137642099805193,
          14.137642099805193,
          14.137642099805193,
          14.168912766369193,
          14.003790741494786,
          14.003790741494786,
          14.003790741494786,
          14.150609747366886,
          14.169678401262681,
          14.169678401262681,
          14.035827042952276,
          14.035827042952276,
          14.139173369592172,
          14.080065357077968,
          14.164343029822069,
          14.020957344563765,
          14.027823985791356,
          14.027823985791356,
          14.149473331433558,
          14.149473331433558,
          14.084264312585253,
          14.099899645867254,
          14.00952096678905,
          14.00952096678905,
          14.093798639533151,
          14.034690627018948,
          14.034690627018948,
          13.991217947786744,
          14.091130953812845,
          14.041557268246539,
          14.148336915500233,
          14.161304563061925,
          14.161304563061925,
          14.161304563061925,
          14.06482487764962,
          14.06482487764962,
          14.06482487764962,
          14.06482487764962,
          14.149102550393721,
          14.121265204443517,
          14.121265204443517,
          14.121265204443517,
          14.102962185441212,
          14.153301505901007,
          14.153301505901007,
          14.153301505901007,
          14.109828826668803,
          14.044619807820498,
          14.075890474384497,
          14.075890474384497,
          14.122796474230498,
          14.010681455536192,
          14.173135794690292,
          14.173135794690292,
          14.21394078820219,
          14.21394078820219,
          14.148731769353883,
          14.148731769353883,
          14.148731769353883,
          14.148731769353883,
          14.161699416915578,
          14.161699416915578,
          14.161699416915578,
          14.071320737837375,
          14.071320737837375,
          14.118226737683374,
          13.990476385707069,
          14.180768070811373,
          14.190302397759272,
          14.190302397759272,
          14.190302397759272,
          14.203270045320965,
          14.09115502662666,
          14.09115502662666,
          14.016411680830457,
          14.20670336593476,
          13.994675341214355,
          14.041581341060354,
          14.170097327930149,
          14.036245969619742,
          14.036245969619742,
          14.20823463572174,
          14.170862962823639,
          14.011841944283335,
          14.011841944283335,
          14.011841944283335,
          14.011841944283335,
          14.215101276949332,
          14.202899264281127,
          14.202899264281127,
          14.019474220404415,
          14.103751893148516,
          14.103751893148516,
          14.103751893148516,
          14.103751893148516,
          14.11671954071021,
          14.11671954071021,
          14.11671954071021,
          13.998503515681803,
          14.167058861170005,
          14.176593188117902,
          14.176593188117902,
          14.2017628483478,
          14.2017628483478,
          14.2017628483478,
          13.99316814424119,
          14.199860797520984,
          14.072110445544679,
          14.059908432876474,
          14.059908432876474,
          14.059908432876474,
          14.03207108692627,
          14.013768067923966,
          14.182323413412167,
          14.160587073796066,
          14.073641715331659,
          13.992797363201353,
          14.208258708535555,
          14.208258708535555,
          14.174320356251249,
          14.174320356251249,
          14.115212343737046,
          14.181186997478841,
          14.181186997478841,
          14.181186997478841,
          14.125512305578432,
          14.172418305424433,
          14.06640429306423,
          14.06640429306423,
          14.154115286422126,
          14.154115286422126,
          14.207887927495717,
          14.207887927495717,
          14.211321248109513,
          14.12094256903131,
          14.024462883619005,
          14.024462883619005,
          14.024462883619005,
          14.186917222773104,
          14.186917222773104,
          14.096538543694901,
          14.185015171946288,
          14.185015171946288,
          14.072900153251982,
          14.072900153251982,
          14.19188181317388,
          14.032860794633576,
          14.117138467377677,
          14.132773800659676,
          14.132773800659676,
          14.020658781965372,
          14.020658781965372,
          14.020658781965372,
          14.01455777563127,
          14.01455777563127,
          14.070998102425166,
          14.070998102425166,
          14.070998102425166,
          14.152608089448961,
          14.152608089448961,
          14.10036671816235,
          14.10036671816235,
          14.044692026261941,
          13.989017334361534,
          14.176641333745533,
          14.176641333745533,
          14.176641333745533,
          14.176641333745533,
          14.15490499412943,
          14.127067648179226,
          14.07139295627882,
          14.080927283226716,
          14.184273609866613,
          14.184273609866613,
          14.184273609866613,
          14.194573571708,
          13.998180880269596,
          14.01724953416539,
          14.19533920660149,
          14.19533920660149,
          14.030217181727084,
          14.030217181727084,
          14.077123181573084,
          14.198772527215286,
          14.158733168596878,
          14.11869380997847,
          14.094289784642063,
          14.094289784642063,
          14.094289784642063,
          14.066452438691858,
          14.126326086099551,
          14.126326086099551,
          14.10458974648345,
          14.064550387865042,
          14.064550387865042,
          14.124424035272735,
          14.124424035272735,
          14.127857355886531,
          14.127857355886531,
          14.12175634955243,
          14.12175634955243,
          14.193832009628325,
          14.203366336576224,
          14.09735232421602,
          14.100785644829816,
          14.110319971777715,
          14.029475619647409,
          14.029475619647409,
          14.132821946287306,
          14.005071594311001,
          14.005071594311001,
          14.002403908590695,
          14.102316914616795,
          14.202229920642896,
          14.00583722920449,
          14.056176549664286,
          14.196894549202284,
          14.107281505017571,
          14.107281505017571,
          14.107281505017571,
          14.110714825631366,
          14.110714825631366,
          14.180122799986957,
          14.142751127088856,
          14.07754210824055,
          14.214826787164753,
          14.199957088776243,
          14.199957088776243,
          14.097376397029835,
          14.098142031923325,
          14.007763352845123,
          14.14848135238312,
          14.14848135238312,
          14.108441993764712,
          14.199586307736405,
          14.199586307736405,
          14.199586307736405,
          14.199586307736405,
          14.043998609809897,
          14.05696625737159,
          14.044764244703385,
          14.197684256909588,
          14.197684256909588,
          14.069933904933283,
          14.02646122570108,
          14.02646122570108,
          14.02646122570108,
          14.083667187388468,
          14.071465174720263,
          14.100068155563957,
          14.187779148921853,
          14.187779148921853,
          14.157274117251344,
          14.039058092222936,
          14.039058092222936,
          14.058126746118731,
          14.058126746118731,
          14.136303412528731,
          14.136303412528731,
          14.002452054218324,
          14.064993387346323,
          14.080628720628322,
          14.052791374678119,
          14.156137701318016,
          14.156137701318016,
          14.01275201605971,
          14.01275201605971,
          14.213343663005404,
          14.132499310875097,
          14.033351939742486,
          14.055853914252078,
          14.097424542657464,
          14.097424542657464,
          14.135561850449056,
          14.021544780927934,
          14.021544780927934,
          14.021544780927934,
          14.137093120236035,
          14.124891107567832,
          14.090952755283524,
          14.090952755283524,
          14.20993441520542,
          14.0959173456843,
          14.021173999888097,
          14.121087005914198,
          14.08181328218928,
          14.194693935777075,
          14.029571910902668,
          14.170289910440665,
          14.170289910440665,
          14.170289910440665,
          14.170289910440665,
          14.10584652648585,
          14.140550513663646,
          14.140550513663646,
          14.20652516740544,
          14.023100123528728,
          14.023100123528728,
          14.085641456656727,
          14.179453456348726,
          14.049801053545606,
          13.997559682258993,
          14.122642348514992,
          14.017393971048278,
          14.017393971048278,
          14.058198964560175,
          14.096336272351767,
          14.018925240835257,
          14.09596549131193,
          14.12723615787593,
          14.12723615787593,
          14.030756472463624,
          14.094063440485114,
          14.091395754764807,
          14.091395754764807,
          14.122666421328805,
          13.99568170424599,
          14.07462400554948,
          14.082256281670562,
          14.185602608310457,
          14.140227878251437,
          14.087986506964825,
          14.087986506964825,
          14.087986506964825,
          14.060149161014621,
          14.126123814756417,
          14.126123814756417,
          14.126123814756417,
          14.135658141704315,
          13.989604770725704,
          14.009439059514989,
          14.11621870676868,
          14.12575303371658,
          14.13261967494417,
          14.033472303811559,
          14.206226604807046,
          14.206226604807046,
          14.100978227340333,
          14.170386201695925,
          13.99649548476711,
          14.010228767222292,
          14.041499433786292,
          14.060568087682089,
          14.104806401807782,
          14.104806401807782,
          14.062099357469068,
          14.060197306642252,
          14.099100249327332,
          14.080797230325025,
          13.991949821033801,
          14.1483031538538,
          14.005683103488986,
          14.086922309472943,
          14.12772730298484,
          14.21277061062243,
          14.124688836224696,
          14.096851490274492,
          14.079314106165675,
          14.118217048850756,
          14.03203732527984,
          14.03203732527984,
          14.1941208833941,
          14.061800794870674,
          14.05036441709596,
          14.188414730913651,
          14.188414730913651,
          14.182313724579549,
          14.086599674060734,
          14.196047007034734,
          14.156402502269977,
          14.000814804343468,
          13.998541972476815,
          14.121722587905996,
          14.040507454735854,
          14.146150686056219,
          14.149584006670015,
          14.212125339798014,
          14.129378936840892,
          14.098873905170382,
          14.125574835187258,
          14.153041400097626,
          14.029884857482259,
          14.008567444533623,
          14.008567444533623,
          14.046333971285376,
          14.085236913970457,
          14.087187110424903,
          14.204266719519984,
          14.08338300877127,
          14.01325754514982,
          14.139105846299307,
          14.136833014432653,
          14.017504646284733,
          14.080811614306223,
          14.121245826778283,
          14.188010188227382,
          14.124332439166055,
          14.051885998050322,
          14.044648575782892,
          14.14268360379599,
          14.021429112007441,
          14.015328105673339,
          14.092368356150011,
          14.092368356150011,
          14.053860267318582,
          14.13203693372858,
          14.106496492458845,
          14.152266076371518,
          14.133963057369211,
          14.19040338416311,
          14.19040338416311,
          14.18240032700219,
          14.18240032700219,
          14.06761762258758,
          14.06761762258758,
          14.136259962049682,
          14.039780276637376,
          14.112621571606763,
          14.087081130337028,
          14.185092085536311,
          14.114547695247394,
          14.166418285494169,
          14.041359692051984,
          14.212977577114145,
          14.108124053501083,
          14.159229008854368,
          14.16686128497545,
          14.092117939179246,
          14.149323900866634,
          14.082978466085,
          14.149718754720285,
          14.152015659400753,
          14.149347973680447,
          14.149347973680447,
          14.0559308278421,
          14.100169141967795,
          14.03612061186663,
          14.208109277968628,
          14.055954900655916,
          14.034218561039813,
          14.212308233475914,
          14.022411402225261,
          14.11012239558316,
          14.13492127477322,
          14.0582758781502,
          14.055608192429894,
          14.006034506863587,
          14.125411020639136,
          14.207439934330397,
          14.058718877631481,
          13.999610865117276,
          14.008008776131847,
          13.996596471170948,
          13.99622569013111,
          14.009193337692803,
          14.004623601145681,
          14.055728556498966,
          14.197977825823944,
          13.998917448665232,
          14.097790330013265,
          14.204199196227119,
          14.115053224337501,
          14.181841658600415,
          14.150595064850231,
          14.011408335099212,
          14.197968136991326,
          14.12062932391626,
          13.995594803287892,
          13.992604482155377,
          14.160490484005349,
          14.107878331678899,
          14.071272293674287,
          14.015669820215322,
          14.17624618135642,
          14.20262447596109,
          14.041224645466254,
          14.119844311357536,
          14.079063390659453,
          14.112799471600624,
          14.196730436118703,
          14.08501027127805,
          14.166620258301844,
          14.124726994484249,
          14.063346150103392,
          14.158318638542532,
          14.020687251392307,
          14.005075990924121,
          14.168690818825363,
          14.131713999780914,
          14.111903783805444,
          14.18600185877723,
          14.212775007235551,
          14.20442524184861,
          14.109476826223284,
          14.011981088946724,
          14.187475294103962,
          14.055944913287838,
          14.092575024106266,
          14.194019299919345,
          14.072095464492564,
          14.0988926857647,
          14.099778684727262,
          14.182597306125828,
          14.061415032778722,
          14.18726333392821,
          14.083271736463898,
          14.0684261108892,
          14.00175804069536,
          14.212278868442603,
          14.106385220151472,
          14.128241923836647,
          14.064385976246001,
          14.128973797083704,
          14.143520860060008,
          14.15231362492823,
          14.215668738577348,
          14.171671152589802,
          14.04130126052082,
          14.048288265817485,
          14.162892771702776,
          14.173780169908332,
          14.00828736399409,
          14.208161521673919,
          14.142581721785776,
          14.092040129982847,
          14.16376908183272,
          14.08847675646736,
          14.091587441668947,
          14.137800025062901,
          14.173293719948001,
          14.049000761399306,
          14.177242258484522,
          14.085404528060783,
          14.047662074122846,
          14.170842689552027,
          14.061024575538191,
          14.013377013612516,
          13.994775432011817,
          14.199960888318445,
          14.138998970605055,
          14.001762437308482,
          14.020484382978255,
          14.208874017255742,
          14.15816391575611,
          14.015938719244946,
          14.136080867913984,
          14.031992979194413,
          14.142721164984627,
          14.172508707389277,
          14.124119583383926,
          13.999455843795396,
          14.087561691006943,
          14.041421326054435,
          14.14476765269433,
          14.206172569889002,
          14.175296757178655,
          14.093340061928838,
          14.07809958250049,
          14.174208486872958,
          14.067847766286732,
          14.15407563548528,
          14.123715040697657,
          13.991072316762022,
          14.056546136562288,
          14.213019833451359,
          14.075162102144185,
          14.080892327438448,
          14.204467796721284,
          14.175518107651566,
          14.002417098430056,
          14.16489551039797,
          14.207997408590337,
          14.111541795991847,
          13.999426777297542,
          14.014691329539705,
          14.005922637485297,
          14.2118496558716,
          14.125299151260846,
          14.047517338704498,
          14.182899966801884,
          14.066980846453946,
          14.012837424340518,
          14.05635824920035,
          13.99534818585933,
          14.168868121748307,
          13.998039944393451,
          13.993470207846329,
          14.045735651946755,
          14.10523851831461,
          13.991616302647142,
          14.04998275308167,
          14.108373276330013,
          14.020291501932277,
          14.205271888409785,
          14.005075095317745,
          14.071444602913193,
          14.140852577268783,
          14.210260551624375,
          13.993662790356845,
          13.989117126623537,
          14.046323088310924,
          14.032984659709394,
          13.990720614851961,
          14.053680874647426,
          14.045677817486508,
          14.19518858189273,
          14.109008858321811,
          14.050666480701098,
          14.201684442080483,
          14.089198642346341,
          14.053382312049033,
          14.188394159106581,
          14.168954724170948,
          14.137313276567111,
          14.07020220689199,
          14.121331235059088,
          14.163667498357965,
          14.133162466687455,
          14.072152403346434,
          14.198395558349576,
          14.178956123413942,
          14.183574005588694,
          14.027986307662186,
          14.02608425683537,
          14.040583174184041,
          14.040583174184041,
          14.201901097404814,
          14.057378996213183,
          14.103148580125856,
          14.109273659273772,
          14.172209846255424,
          14.204246147712913,
          14.11660737279646,
          14.069725445764275,
          13.996190734342843,
          14.146072279788902,
          14.189939812874757,
          14.209774101664042,
          14.14495993666939,
          13.993571194250165,
          14.071747860660166,
          14.167091130139143,
          14.167091130139143,
          14.036673092442532,
          14.014195190746756,
          13.992482923944468,
          14.059271358207383,
          14.092838929451851,
          14.115735757815095,
          14.174891915956927,
          14.023946173018984,
          13.997389679884996,
          14.008132641207665,
          14.023146776479063,
          14.086453744500552,
          14.187228676675401,
          14.203307009438683,
          14.211382285041045,
          14.063845789903084,
          14.211430430668674,
          14.059276053355962,
          14.069576015197349,
          14.175984881411203,
          13.994259617018173,
          14.076635238935458,
          14.158736371068164,
          14.214902208077483,
          14.170437549794839,
          14.030114404110494,
          14.045378956352655,
          14.174780942185013,
          14.023787053619442,
          14.083362138428742,
          14.111594338232598,
          14.122852517477991,
          14.17483378296122,
          14.170432556110802,
          14.152895172001985,
          14.164894913327053,
          14.060970540620147,
          14.12924209904241,
          14.201341831932123,
          14.201341831932123,
          14.139566133697612,
          14.111728787747408,
          14.030884435617104,
          14.213173063560488,
          14.049211527433224,
          14.154508050527566,
          14.022582815857792,
          14.06225139343636,
          14.063782663223341,
          14.191581160827274,
          14.081093703175208,
          14.213043010658797,
          14.063233683654182,
          14.166305520509502,
          14.138468174559296,
          14.000490079183049,
          14.073774373633716,
          14.019717553942929,
          14.065920448504265,
          14.040071755803519,
          14.042932024034343,
          14.21510358381424,
          14.155697008701644,
          14.152311833715476,
          14.091301770374457,
          14.176060899394852,
          14.055942823539628,
          14.081112483769525,
          14.150520458125117,
          14.022399325108974,
          14.190029916304143,
          13.992982265208703,
          14.182378262517826,
          14.022736045966921,
          14.150929397424507,
          14.038934742799274,
          14.00462560947513,
          14.196843418220066,
          14.194657188776054,
          14.019418095738159,
          14.180365237919094,
          14.055918153654895,
          14.024815996787598,
          14.152797388069432,
          14.164031494501012,
          14.143205226661287,
          14.149330305809205,
          14.021604026646713,
          14.137335259632714,
          14.170796850789307,
          14.045511614654714,
          14.078496444683593,
          14.200424975258953,
          14.013566610768445,
          14.123013943742444,
          14.208476178047501,
          14.138576760047542,
          14.06971277157707,
          14.063900639008743,
          14.060732119346909,
          14.04553978554619,
          14.169929035350144,
          14.049883177936364,
          14.187148479195331,
          13.998604719202339,
          14.106799967322516,
          14.155993183016367,
          14.188472483955136,
          14.096913938464557,
          14.169230326678601,
          14.194794840762151,
          14.139014168773867,
          14.110054790871533,
          14.025622693876468,
          14.129758728223669,
          14.11191309268384,
          14.091385387442509,
          14.115861631220362,
          14.086887869336831,
          14.176322117921307,
          14.203384140145403,
          14.144877947976566,
          14.179061723547598,
          14.156559450502547
         ],
         "yaxis": "y"
        }
       ],
       "layout": {
        "legend": {
         "tracegroupgap": 0
        },
        "margin": {
         "t": 60
        },
        "template": {
         "data": {
          "bar": [
           {
            "error_x": {
             "color": "#2a3f5f"
            },
            "error_y": {
             "color": "#2a3f5f"
            },
            "marker": {
             "line": {
              "color": "#E5ECF6",
              "width": 0.5
             },
             "pattern": {
              "fillmode": "overlay",
              "size": 10,
              "solidity": 0.2
             }
            },
            "type": "bar"
           }
          ],
          "barpolar": [
           {
            "marker": {
             "line": {
              "color": "#E5ECF6",
              "width": 0.5
             },
             "pattern": {
              "fillmode": "overlay",
              "size": 10,
              "solidity": 0.2
             }
            },
            "type": "barpolar"
           }
          ],
          "carpet": [
           {
            "aaxis": {
             "endlinecolor": "#2a3f5f",
             "gridcolor": "white",
             "linecolor": "white",
             "minorgridcolor": "white",
             "startlinecolor": "#2a3f5f"
            },
            "baxis": {
             "endlinecolor": "#2a3f5f",
             "gridcolor": "white",
             "linecolor": "white",
             "minorgridcolor": "white",
             "startlinecolor": "#2a3f5f"
            },
            "type": "carpet"
           }
          ],
          "choropleth": [
           {
            "colorbar": {
             "outlinewidth": 0,
             "ticks": ""
            },
            "type": "choropleth"
           }
          ],
          "contour": [
           {
            "colorbar": {
             "outlinewidth": 0,
             "ticks": ""
            },
            "colorscale": [
             [
              0,
              "#0d0887"
             ],
             [
              0.1111111111111111,
              "#46039f"
             ],
             [
              0.2222222222222222,
              "#7201a8"
             ],
             [
              0.3333333333333333,
              "#9c179e"
             ],
             [
              0.4444444444444444,
              "#bd3786"
             ],
             [
              0.5555555555555556,
              "#d8576b"
             ],
             [
              0.6666666666666666,
              "#ed7953"
             ],
             [
              0.7777777777777778,
              "#fb9f3a"
             ],
             [
              0.8888888888888888,
              "#fdca26"
             ],
             [
              1,
              "#f0f921"
             ]
            ],
            "type": "contour"
           }
          ],
          "contourcarpet": [
           {
            "colorbar": {
             "outlinewidth": 0,
             "ticks": ""
            },
            "type": "contourcarpet"
           }
          ],
          "heatmap": [
           {
            "colorbar": {
             "outlinewidth": 0,
             "ticks": ""
            },
            "colorscale": [
             [
              0,
              "#0d0887"
             ],
             [
              0.1111111111111111,
              "#46039f"
             ],
             [
              0.2222222222222222,
              "#7201a8"
             ],
             [
              0.3333333333333333,
              "#9c179e"
             ],
             [
              0.4444444444444444,
              "#bd3786"
             ],
             [
              0.5555555555555556,
              "#d8576b"
             ],
             [
              0.6666666666666666,
              "#ed7953"
             ],
             [
              0.7777777777777778,
              "#fb9f3a"
             ],
             [
              0.8888888888888888,
              "#fdca26"
             ],
             [
              1,
              "#f0f921"
             ]
            ],
            "type": "heatmap"
           }
          ],
          "heatmapgl": [
           {
            "colorbar": {
             "outlinewidth": 0,
             "ticks": ""
            },
            "colorscale": [
             [
              0,
              "#0d0887"
             ],
             [
              0.1111111111111111,
              "#46039f"
             ],
             [
              0.2222222222222222,
              "#7201a8"
             ],
             [
              0.3333333333333333,
              "#9c179e"
             ],
             [
              0.4444444444444444,
              "#bd3786"
             ],
             [
              0.5555555555555556,
              "#d8576b"
             ],
             [
              0.6666666666666666,
              "#ed7953"
             ],
             [
              0.7777777777777778,
              "#fb9f3a"
             ],
             [
              0.8888888888888888,
              "#fdca26"
             ],
             [
              1,
              "#f0f921"
             ]
            ],
            "type": "heatmapgl"
           }
          ],
          "histogram": [
           {
            "marker": {
             "pattern": {
              "fillmode": "overlay",
              "size": 10,
              "solidity": 0.2
             }
            },
            "type": "histogram"
           }
          ],
          "histogram2d": [
           {
            "colorbar": {
             "outlinewidth": 0,
             "ticks": ""
            },
            "colorscale": [
             [
              0,
              "#0d0887"
             ],
             [
              0.1111111111111111,
              "#46039f"
             ],
             [
              0.2222222222222222,
              "#7201a8"
             ],
             [
              0.3333333333333333,
              "#9c179e"
             ],
             [
              0.4444444444444444,
              "#bd3786"
             ],
             [
              0.5555555555555556,
              "#d8576b"
             ],
             [
              0.6666666666666666,
              "#ed7953"
             ],
             [
              0.7777777777777778,
              "#fb9f3a"
             ],
             [
              0.8888888888888888,
              "#fdca26"
             ],
             [
              1,
              "#f0f921"
             ]
            ],
            "type": "histogram2d"
           }
          ],
          "histogram2dcontour": [
           {
            "colorbar": {
             "outlinewidth": 0,
             "ticks": ""
            },
            "colorscale": [
             [
              0,
              "#0d0887"
             ],
             [
              0.1111111111111111,
              "#46039f"
             ],
             [
              0.2222222222222222,
              "#7201a8"
             ],
             [
              0.3333333333333333,
              "#9c179e"
             ],
             [
              0.4444444444444444,
              "#bd3786"
             ],
             [
              0.5555555555555556,
              "#d8576b"
             ],
             [
              0.6666666666666666,
              "#ed7953"
             ],
             [
              0.7777777777777778,
              "#fb9f3a"
             ],
             [
              0.8888888888888888,
              "#fdca26"
             ],
             [
              1,
              "#f0f921"
             ]
            ],
            "type": "histogram2dcontour"
           }
          ],
          "mesh3d": [
           {
            "colorbar": {
             "outlinewidth": 0,
             "ticks": ""
            },
            "type": "mesh3d"
           }
          ],
          "parcoords": [
           {
            "line": {
             "colorbar": {
              "outlinewidth": 0,
              "ticks": ""
             }
            },
            "type": "parcoords"
           }
          ],
          "pie": [
           {
            "automargin": true,
            "type": "pie"
           }
          ],
          "scatter": [
           {
            "marker": {
             "colorbar": {
              "outlinewidth": 0,
              "ticks": ""
             }
            },
            "type": "scatter"
           }
          ],
          "scatter3d": [
           {
            "line": {
             "colorbar": {
              "outlinewidth": 0,
              "ticks": ""
             }
            },
            "marker": {
             "colorbar": {
              "outlinewidth": 0,
              "ticks": ""
             }
            },
            "type": "scatter3d"
           }
          ],
          "scattercarpet": [
           {
            "marker": {
             "colorbar": {
              "outlinewidth": 0,
              "ticks": ""
             }
            },
            "type": "scattercarpet"
           }
          ],
          "scattergeo": [
           {
            "marker": {
             "colorbar": {
              "outlinewidth": 0,
              "ticks": ""
             }
            },
            "type": "scattergeo"
           }
          ],
          "scattergl": [
           {
            "marker": {
             "colorbar": {
              "outlinewidth": 0,
              "ticks": ""
             }
            },
            "type": "scattergl"
           }
          ],
          "scattermapbox": [
           {
            "marker": {
             "colorbar": {
              "outlinewidth": 0,
              "ticks": ""
             }
            },
            "type": "scattermapbox"
           }
          ],
          "scatterpolar": [
           {
            "marker": {
             "colorbar": {
              "outlinewidth": 0,
              "ticks": ""
             }
            },
            "type": "scatterpolar"
           }
          ],
          "scatterpolargl": [
           {
            "marker": {
             "colorbar": {
              "outlinewidth": 0,
              "ticks": ""
             }
            },
            "type": "scatterpolargl"
           }
          ],
          "scatterternary": [
           {
            "marker": {
             "colorbar": {
              "outlinewidth": 0,
              "ticks": ""
             }
            },
            "type": "scatterternary"
           }
          ],
          "surface": [
           {
            "colorbar": {
             "outlinewidth": 0,
             "ticks": ""
            },
            "colorscale": [
             [
              0,
              "#0d0887"
             ],
             [
              0.1111111111111111,
              "#46039f"
             ],
             [
              0.2222222222222222,
              "#7201a8"
             ],
             [
              0.3333333333333333,
              "#9c179e"
             ],
             [
              0.4444444444444444,
              "#bd3786"
             ],
             [
              0.5555555555555556,
              "#d8576b"
             ],
             [
              0.6666666666666666,
              "#ed7953"
             ],
             [
              0.7777777777777778,
              "#fb9f3a"
             ],
             [
              0.8888888888888888,
              "#fdca26"
             ],
             [
              1,
              "#f0f921"
             ]
            ],
            "type": "surface"
           }
          ],
          "table": [
           {
            "cells": {
             "fill": {
              "color": "#EBF0F8"
             },
             "line": {
              "color": "white"
             }
            },
            "header": {
             "fill": {
              "color": "#C8D4E3"
             },
             "line": {
              "color": "white"
             }
            },
            "type": "table"
           }
          ]
         },
         "layout": {
          "annotationdefaults": {
           "arrowcolor": "#2a3f5f",
           "arrowhead": 0,
           "arrowwidth": 1
          },
          "autotypenumbers": "strict",
          "coloraxis": {
           "colorbar": {
            "outlinewidth": 0,
            "ticks": ""
           }
          },
          "colorscale": {
           "diverging": [
            [
             0,
             "#8e0152"
            ],
            [
             0.1,
             "#c51b7d"
            ],
            [
             0.2,
             "#de77ae"
            ],
            [
             0.3,
             "#f1b6da"
            ],
            [
             0.4,
             "#fde0ef"
            ],
            [
             0.5,
             "#f7f7f7"
            ],
            [
             0.6,
             "#e6f5d0"
            ],
            [
             0.7,
             "#b8e186"
            ],
            [
             0.8,
             "#7fbc41"
            ],
            [
             0.9,
             "#4d9221"
            ],
            [
             1,
             "#276419"
            ]
           ],
           "sequential": [
            [
             0,
             "#0d0887"
            ],
            [
             0.1111111111111111,
             "#46039f"
            ],
            [
             0.2222222222222222,
             "#7201a8"
            ],
            [
             0.3333333333333333,
             "#9c179e"
            ],
            [
             0.4444444444444444,
             "#bd3786"
            ],
            [
             0.5555555555555556,
             "#d8576b"
            ],
            [
             0.6666666666666666,
             "#ed7953"
            ],
            [
             0.7777777777777778,
             "#fb9f3a"
            ],
            [
             0.8888888888888888,
             "#fdca26"
            ],
            [
             1,
             "#f0f921"
            ]
           ],
           "sequentialminus": [
            [
             0,
             "#0d0887"
            ],
            [
             0.1111111111111111,
             "#46039f"
            ],
            [
             0.2222222222222222,
             "#7201a8"
            ],
            [
             0.3333333333333333,
             "#9c179e"
            ],
            [
             0.4444444444444444,
             "#bd3786"
            ],
            [
             0.5555555555555556,
             "#d8576b"
            ],
            [
             0.6666666666666666,
             "#ed7953"
            ],
            [
             0.7777777777777778,
             "#fb9f3a"
            ],
            [
             0.8888888888888888,
             "#fdca26"
            ],
            [
             1,
             "#f0f921"
            ]
           ]
          },
          "colorway": [
           "#636efa",
           "#EF553B",
           "#00cc96",
           "#ab63fa",
           "#FFA15A",
           "#19d3f3",
           "#FF6692",
           "#B6E880",
           "#FF97FF",
           "#FECB52"
          ],
          "font": {
           "color": "#2a3f5f"
          },
          "geo": {
           "bgcolor": "white",
           "lakecolor": "white",
           "landcolor": "#E5ECF6",
           "showlakes": true,
           "showland": true,
           "subunitcolor": "white"
          },
          "hoverlabel": {
           "align": "left"
          },
          "hovermode": "closest",
          "mapbox": {
           "style": "light"
          },
          "paper_bgcolor": "white",
          "plot_bgcolor": "#E5ECF6",
          "polar": {
           "angularaxis": {
            "gridcolor": "white",
            "linecolor": "white",
            "ticks": ""
           },
           "bgcolor": "#E5ECF6",
           "radialaxis": {
            "gridcolor": "white",
            "linecolor": "white",
            "ticks": ""
           }
          },
          "scene": {
           "xaxis": {
            "backgroundcolor": "#E5ECF6",
            "gridcolor": "white",
            "gridwidth": 2,
            "linecolor": "white",
            "showbackground": true,
            "ticks": "",
            "zerolinecolor": "white"
           },
           "yaxis": {
            "backgroundcolor": "#E5ECF6",
            "gridcolor": "white",
            "gridwidth": 2,
            "linecolor": "white",
            "showbackground": true,
            "ticks": "",
            "zerolinecolor": "white"
           },
           "zaxis": {
            "backgroundcolor": "#E5ECF6",
            "gridcolor": "white",
            "gridwidth": 2,
            "linecolor": "white",
            "showbackground": true,
            "ticks": "",
            "zerolinecolor": "white"
           }
          },
          "shapedefaults": {
           "line": {
            "color": "#2a3f5f"
           }
          },
          "ternary": {
           "aaxis": {
            "gridcolor": "white",
            "linecolor": "white",
            "ticks": ""
           },
           "baxis": {
            "gridcolor": "white",
            "linecolor": "white",
            "ticks": ""
           },
           "bgcolor": "#E5ECF6",
           "caxis": {
            "gridcolor": "white",
            "linecolor": "white",
            "ticks": ""
           }
          },
          "title": {
           "x": 0.05
          },
          "xaxis": {
           "automargin": true,
           "gridcolor": "white",
           "linecolor": "white",
           "ticks": "",
           "title": {
            "standoff": 15
           },
           "zerolinecolor": "white",
           "zerolinewidth": 2
          },
          "yaxis": {
           "automargin": true,
           "gridcolor": "white",
           "linecolor": "white",
           "ticks": "",
           "title": {
            "standoff": 15
           },
           "zerolinecolor": "white",
           "zerolinewidth": 2
          }
         }
        },
        "xaxis": {
         "anchor": "y",
         "domain": [
          0,
          1
         ],
         "title": {
          "text": "LPdate"
         }
        },
        "yaxis": {
         "anchor": "x",
         "domain": [
          0,
          1
         ],
         "title": {
          "text": "Lastprice"
         }
        }
       }
      }
     },
     "metadata": {}
    }
   ],
   "metadata": {}
  },
  {
   "cell_type": "markdown",
   "source": [
    "## How frequent are the different traits?"
   ],
   "metadata": {}
  },
  {
   "cell_type": "code",
   "execution_count": 48,
   "source": [
    "for trait in traits:\r\n",
    "    display(\r\n",
    "        pd.DataFrame(df[trait].value_counts(normalize=False, sort=True, ascending=True)).transpose()\r\n",
    "    )\r\n"
   ],
   "outputs": [
    {
     "output_type": "display_data",
     "data": {
      "text/html": [
       "<div>\n",
       "<style scoped>\n",
       "    .dataframe tbody tr th:only-of-type {\n",
       "        vertical-align: middle;\n",
       "    }\n",
       "\n",
       "    .dataframe tbody tr th {\n",
       "        vertical-align: top;\n",
       "    }\n",
       "\n",
       "    .dataframe thead th {\n",
       "        text-align: right;\n",
       "    }\n",
       "</style>\n",
       "<table border=\"1\" class=\"dataframe\">\n",
       "  <thead>\n",
       "    <tr style=\"text-align: right;\">\n",
       "      <th></th>\n",
       "      <th>Monochrome</th>\n",
       "      <th>Trichrome</th>\n",
       "      <th>Polychrome</th>\n",
       "      <th>Duochrome</th>\n",
       "    </tr>\n",
       "  </thead>\n",
       "  <tbody>\n",
       "    <tr>\n",
       "      <th>Chromaticity</th>\n",
       "      <td>127</td>\n",
       "      <td>226</td>\n",
       "      <td>295</td>\n",
       "      <td>352</td>\n",
       "    </tr>\n",
       "  </tbody>\n",
       "</table>\n",
       "</div>"
      ],
      "text/plain": [
       "              Monochrome  Trichrome  Polychrome  Duochrome\n",
       "Chromaticity         127        226         295        352"
      ]
     },
     "metadata": {}
    },
    {
     "output_type": "display_data",
     "data": {
      "text/html": [
       "<div>\n",
       "<style scoped>\n",
       "    .dataframe tbody tr th:only-of-type {\n",
       "        vertical-align: middle;\n",
       "    }\n",
       "\n",
       "    .dataframe tbody tr th {\n",
       "        vertical-align: top;\n",
       "    }\n",
       "\n",
       "    .dataframe thead th {\n",
       "        text-align: right;\n",
       "    }\n",
       "</style>\n",
       "<table border=\"1\" class=\"dataframe\">\n",
       "  <thead>\n",
       "    <tr style=\"text-align: right;\">\n",
       "      <th></th>\n",
       "      <th>High</th>\n",
       "      <th>Gradual</th>\n",
       "      <th>Low</th>\n",
       "      <th>Standard</th>\n",
       "    </tr>\n",
       "  </thead>\n",
       "  <tbody>\n",
       "    <tr>\n",
       "      <th>Frequency</th>\n",
       "      <td>57</td>\n",
       "      <td>213</td>\n",
       "      <td>239</td>\n",
       "      <td>491</td>\n",
       "    </tr>\n",
       "  </tbody>\n",
       "</table>\n",
       "</div>"
      ],
      "text/plain": [
       "           High  Gradual  Low  Standard\n",
       "Frequency    57      213  239       491"
      ]
     },
     "metadata": {}
    },
    {
     "output_type": "display_data",
     "data": {
      "text/html": [
       "<div>\n",
       "<style scoped>\n",
       "    .dataframe tbody tr th:only-of-type {\n",
       "        vertical-align: middle;\n",
       "    }\n",
       "\n",
       "    .dataframe tbody tr th {\n",
       "        vertical-align: top;\n",
       "    }\n",
       "\n",
       "    .dataframe thead th {\n",
       "        text-align: right;\n",
       "    }\n",
       "</style>\n",
       "<table border=\"1\" class=\"dataframe\">\n",
       "  <thead>\n",
       "    <tr style=\"text-align: right;\">\n",
       "      <th></th>\n",
       "      <th>Glacier</th>\n",
       "      <th>Cave</th>\n",
       "      <th>Mesa</th>\n",
       "      <th>Shore</th>\n",
       "      <th>Prairie</th>\n",
       "      <th>Marsh</th>\n",
       "      <th>Ridge</th>\n",
       "      <th>Delta</th>\n",
       "      <th>Atoll</th>\n",
       "      <th>Esker</th>\n",
       "      <th>Volcano</th>\n",
       "      <th>Gulf</th>\n",
       "      <th>Canyon</th>\n",
       "      <th>Archipelago</th>\n",
       "      <th>Peninsula</th>\n",
       "      <th>Reef</th>\n",
       "      <th>Dune</th>\n",
       "      <th>Cove</th>\n",
       "      <th>Fjord</th>\n",
       "      <th>Moraine</th>\n",
       "      <th>Oasis</th>\n",
       "      <th>Other</th>\n",
       "    </tr>\n",
       "  </thead>\n",
       "  <tbody>\n",
       "    <tr>\n",
       "      <th>Palette</th>\n",
       "      <td>14</td>\n",
       "      <td>15</td>\n",
       "      <td>15</td>\n",
       "      <td>17</td>\n",
       "      <td>17</td>\n",
       "      <td>17</td>\n",
       "      <td>18</td>\n",
       "      <td>18</td>\n",
       "      <td>19</td>\n",
       "      <td>19</td>\n",
       "      <td>19</td>\n",
       "      <td>19</td>\n",
       "      <td>21</td>\n",
       "      <td>21</td>\n",
       "      <td>21</td>\n",
       "      <td>22</td>\n",
       "      <td>22</td>\n",
       "      <td>23</td>\n",
       "      <td>25</td>\n",
       "      <td>26</td>\n",
       "      <td>27</td>\n",
       "      <td>585</td>\n",
       "    </tr>\n",
       "  </tbody>\n",
       "</table>\n",
       "</div>"
      ],
      "text/plain": [
       "         Glacier  Cave  Mesa  Shore  Prairie  Marsh  Ridge  Delta  Atoll  \\\n",
       "Palette       14    15    15     17       17     17     18     18     19   \n",
       "\n",
       "         Esker  Volcano  Gulf  Canyon  Archipelago  Peninsula  Reef  Dune  \\\n",
       "Palette     19       19    19      21           21         21    22    22   \n",
       "\n",
       "         Cove  Fjord  Moraine  Oasis  Other  \n",
       "Palette    23     25       26     27    585  "
      ]
     },
     "metadata": {}
    },
    {
     "output_type": "display_data",
     "data": {
      "text/html": [
       "<div>\n",
       "<style scoped>\n",
       "    .dataframe tbody tr th:only-of-type {\n",
       "        vertical-align: middle;\n",
       "    }\n",
       "\n",
       "    .dataframe tbody tr th {\n",
       "        vertical-align: top;\n",
       "    }\n",
       "\n",
       "    .dataframe thead th {\n",
       "        text-align: right;\n",
       "    }\n",
       "</style>\n",
       "<table border=\"1\" class=\"dataframe\">\n",
       "  <thead>\n",
       "    <tr style=\"text-align: right;\">\n",
       "      <th></th>\n",
       "      <th>Variable</th>\n",
       "      <th>Uniform</th>\n",
       "    </tr>\n",
       "  </thead>\n",
       "  <tbody>\n",
       "    <tr>\n",
       "      <th>Structure</th>\n",
       "      <td>192</td>\n",
       "      <td>808</td>\n",
       "    </tr>\n",
       "  </tbody>\n",
       "</table>\n",
       "</div>"
      ],
      "text/plain": [
       "           Variable  Uniform\n",
       "Structure       192      808"
      ]
     },
     "metadata": {}
    },
    {
     "output_type": "display_data",
     "data": {
      "text/html": [
       "<div>\n",
       "<style scoped>\n",
       "    .dataframe tbody tr th:only-of-type {\n",
       "        vertical-align: middle;\n",
       "    }\n",
       "\n",
       "    .dataframe tbody tr th {\n",
       "        vertical-align: top;\n",
       "    }\n",
       "\n",
       "    .dataframe thead th {\n",
       "        text-align: right;\n",
       "    }\n",
       "</style>\n",
       "<table border=\"1\" class=\"dataframe\">\n",
       "  <thead>\n",
       "    <tr style=\"text-align: right;\">\n",
       "      <th></th>\n",
       "      <th>Prime</th>\n",
       "      <th>Topographic</th>\n",
       "      <th>Charcoal</th>\n",
       "      <th>Newsprint</th>\n",
       "      <th>Invert</th>\n",
       "      <th>Lino</th>\n",
       "      <th>Screenprint</th>\n",
       "      <th>Watercolour</th>\n",
       "      <th>Gilded</th>\n",
       "      <th>Polarized</th>\n",
       "      <th>Procedural</th>\n",
       "      <th>Gouache</th>\n",
       "      <th>Prismatic</th>\n",
       "      <th>Paletted</th>\n",
       "    </tr>\n",
       "  </thead>\n",
       "  <tbody>\n",
       "    <tr>\n",
       "      <th>Style</th>\n",
       "      <td>8</td>\n",
       "      <td>8</td>\n",
       "      <td>9</td>\n",
       "      <td>12</td>\n",
       "      <td>13</td>\n",
       "      <td>20</td>\n",
       "      <td>21</td>\n",
       "      <td>22</td>\n",
       "      <td>27</td>\n",
       "      <td>32</td>\n",
       "      <td>60</td>\n",
       "      <td>99</td>\n",
       "      <td>262</td>\n",
       "      <td>407</td>\n",
       "    </tr>\n",
       "  </tbody>\n",
       "</table>\n",
       "</div>"
      ],
      "text/plain": [
       "       Prime  Topographic  Charcoal  Newsprint  Invert  Lino  Screenprint  \\\n",
       "Style      8            8         9         12      13    20           21   \n",
       "\n",
       "       Watercolour  Gilded  Polarized  Procedural  Gouache  Prismatic  \\\n",
       "Style           22      27         32          60       99        262   \n",
       "\n",
       "       Paletted  \n",
       "Style       407  "
      ]
     },
     "metadata": {}
    },
    {
     "output_type": "display_data",
     "data": {
      "text/html": [
       "<div>\n",
       "<style scoped>\n",
       "    .dataframe tbody tr th:only-of-type {\n",
       "        vertical-align: middle;\n",
       "    }\n",
       "\n",
       "    .dataframe tbody tr th {\n",
       "        vertical-align: top;\n",
       "    }\n",
       "\n",
       "    .dataframe thead th {\n",
       "        text-align: right;\n",
       "    }\n",
       "</style>\n",
       "<table border=\"1\" class=\"dataframe\">\n",
       "  <thead>\n",
       "    <tr style=\"text-align: right;\">\n",
       "      <th></th>\n",
       "      <th>Far</th>\n",
       "      <th>Medium</th>\n",
       "      <th>Close</th>\n",
       "    </tr>\n",
       "  </thead>\n",
       "  <tbody>\n",
       "    <tr>\n",
       "      <th>Zoom</th>\n",
       "      <td>326</td>\n",
       "      <td>327</td>\n",
       "      <td>347</td>\n",
       "    </tr>\n",
       "  </tbody>\n",
       "</table>\n",
       "</div>"
      ],
      "text/plain": [
       "      Far  Medium  Close\n",
       "Zoom  326     327    347"
      ]
     },
     "metadata": {}
    }
   ],
   "metadata": {}
  },
  {
   "cell_type": "markdown",
   "source": [
    "## How much do people pay for the different traits?"
   ],
   "metadata": {}
  },
  {
   "cell_type": "markdown",
   "source": [
    "Note that the charts are interactive. You can zoom, hover, pan, etc. Zooming is especially important due to the outliers in the data so you can zoom in on the interesting parts."
   ],
   "metadata": {}
  },
  {
   "cell_type": "code",
   "execution_count": 49,
   "source": [
    "import plotly.express as px\r\n",
    "import plotly.graph_objects as go\r\n",
    "import matplotlib.pyplot as plt\r\n",
    "\r\n",
    "plt.rcParams[\"figure.figsize\"] = (20, 8)\r\n",
    "pd.plotting.register_matplotlib_converters()\r\n",
    "\r\n",
    "for trait in traits:\r\n",
    "\r\n",
    "    fig = go.Figure()\r\n",
    "    for traitvariant in (\r\n",
    "        df.groupby(trait).median().sort_values(\"Lastprice\", ascending=False).index\r\n",
    "    ):\r\n",
    "        fig.add_trace(\r\n",
    "            go.Box(\r\n",
    "                y=df[df[trait] == traitvariant].Lastprice.values,\r\n",
    "                name=traitvariant,\r\n",
    "                boxpoints=\"all\",\r\n",
    "                jitter=0.2,\r\n",
    "                whiskerwidth=0.2,\r\n",
    "                marker_size=2,\r\n",
    "                line_width=1,\r\n",
    "            )\r\n",
    "        )\r\n",
    "    fig.update_layout(title=trait)\r\n",
    "    fig.show()\r\n"
   ],
   "outputs": [
    {
     "output_type": "display_data",
     "data": {
      "application/vnd.plotly.v1+json": {
       "config": {
        "plotlyServerURL": "https://plot.ly"
       },
       "data": [
        {
         "boxpoints": "all",
         "jitter": 0.2,
         "line": {
          "width": 1
         },
         "marker": {
          "size": 2
         },
         "name": "Monochrome",
         "type": "box",
         "whiskerwidth": 0.2,
         "y": [
          200,
          200,
          175,
          145,
          80,
          60,
          60,
          50,
          50,
          48.888,
          48.88,
          48.57,
          42.69,
          40,
          39,
          35,
          35,
          35,
          32,
          30,
          30,
          30,
          26,
          25,
          24.69,
          24.5,
          24.069,
          24,
          24,
          22,
          22,
          22,
          21,
          20,
          20,
          19.5,
          19.2,
          18.9,
          18.88,
          18,
          18,
          16.5,
          15.9,
          15.59,
          15,
          15,
          15,
          14.9999,
          14.99,
          14,
          13.99,
          13.9,
          13.6969,
          13.5,
          13,
          13,
          12.88,
          11.99,
          11.99,
          11.82130112544606,
          10.49,
          10,
          10,
          9.8,
          9.5,
          8.99,
          8.98,
          8.89,
          8.85,
          8.6,
          8.5,
          8.49,
          8.4,
          8.2,
          7.85,
          7.8,
          7.5,
          7.5,
          7.4,
          7.39,
          7.24,
          7.1,
          7,
          6.9,
          6.9,
          6.75,
          6.64,
          6.3,
          6.25,
          5.93,
          5.8,
          5.6,
          null,
          null,
          null,
          null,
          null,
          null,
          null,
          null,
          null,
          null,
          null,
          null,
          null,
          null,
          null,
          null,
          null,
          null,
          null,
          null,
          null,
          null,
          null,
          null,
          null,
          null,
          null,
          null,
          null,
          null,
          null,
          null,
          null,
          null,
          null
         ]
        },
        {
         "boxpoints": "all",
         "jitter": 0.2,
         "line": {
          "width": 1
         },
         "marker": {
          "size": 2
         },
         "name": "Duochrome",
         "type": "box",
         "whiskerwidth": 0.2,
         "y": [
          35,
          35,
          30,
          30,
          30,
          29.91,
          28.94,
          28.88,
          28,
          28,
          27.5,
          27,
          25,
          25,
          25,
          25,
          24.9999,
          24,
          24,
          24,
          24,
          23.888,
          23.69,
          23.5,
          23.5,
          23.337,
          23,
          23,
          23,
          22.99,
          22.5,
          22.22,
          22.2,
          22,
          22,
          22,
          22,
          21.99,
          21.99,
          21.5,
          21.5,
          21,
          21,
          21,
          20,
          20,
          20,
          20,
          19.99992336795338,
          19.99,
          19.3,
          18.95,
          18.75,
          18.5,
          18.5,
          18.5,
          18.5,
          18,
          18,
          18,
          18,
          18,
          18,
          18,
          18,
          17.99,
          17.98,
          17.5,
          17.5,
          17.167257721296323,
          17,
          17,
          16.99,
          16.99,
          16,
          15.99,
          15.9,
          15.9,
          15,
          15,
          15,
          15,
          15,
          15,
          15,
          15,
          15,
          14.95,
          14.9,
          14.9,
          14.69,
          14,
          14,
          14,
          14,
          14,
          13.99,
          13.9,
          13.8,
          13.75,
          13.5,
          13.33,
          13.3,
          13.2,
          13,
          13,
          13,
          12.888,
          12.8,
          12.69,
          12.65,
          12.5,
          12.5,
          12.45,
          12.4,
          12.4,
          12.4,
          12.35,
          12.29,
          12,
          12,
          12,
          12,
          12,
          12,
          12,
          12,
          12,
          12,
          11.99,
          11.99,
          11.96,
          11.95,
          11.9,
          11.9,
          11.88,
          11.8,
          11.8,
          11.75,
          11.75,
          11.75,
          11.5,
          11.45,
          11.4,
          11.3,
          11.11,
          11.11,
          11.11,
          11,
          11,
          11,
          11,
          11,
          10.99,
          10.98,
          10.97,
          10.96,
          10.9,
          10.9,
          10.88,
          10.88,
          10.69,
          10.5,
          10.5,
          10.25,
          10,
          10,
          10,
          10,
          10,
          10,
          10,
          9.9999,
          9.99,
          9.99,
          9.88,
          9.8,
          9.69,
          9.5,
          9.4,
          9.1,
          9,
          9,
          9,
          8.99,
          8.99,
          8.88,
          8.85,
          8.8,
          8.79,
          8.7654,
          8.75,
          8.6,
          8.5,
          8.5,
          8.49,
          8.469,
          8.44,
          8.432,
          8.2,
          8.1,
          8,
          8,
          8,
          8,
          8,
          7.99,
          7.99,
          7.8,
          7.77,
          7.7,
          7.66,
          7.536953642384106,
          7.5,
          7.5,
          7.5,
          7.5,
          7.49,
          7.4888,
          7.4,
          7.4,
          7.35,
          7.3,
          7.25,
          7.25,
          7.25,
          7.1499,
          7.1,
          7.1,
          7.1,
          7,
          7,
          7,
          7,
          6.99,
          6.99,
          6.99,
          6.99,
          6.99,
          6.98,
          6.969,
          6.9,
          6.9,
          6.9,
          6.89,
          6.8,
          6.75,
          6.75,
          6.7,
          6.68,
          6.6,
          6.5,
          6.5,
          6.5,
          6.49,
          6.49,
          6.477,
          6.4,
          6.4,
          6.4,
          6.35,
          6.3,
          6.29,
          6.29,
          6.21,
          6.19,
          6,
          5.99,
          5.97,
          5.8888,
          5.85,
          5.85,
          5.8,
          5.8,
          5.75,
          5.7,
          5.7,
          5.7,
          5.6,
          5.6,
          5.555,
          5.5,
          5.5,
          null,
          null,
          null,
          null,
          null,
          null,
          null,
          null,
          null,
          null,
          null,
          null,
          null,
          null,
          null,
          null,
          null,
          null,
          null,
          null,
          null,
          null,
          null,
          null,
          null,
          null,
          null,
          null,
          null,
          null,
          null,
          null,
          null,
          null,
          null,
          null,
          null,
          null,
          null,
          null,
          null,
          null,
          null,
          null,
          null,
          null,
          null,
          null,
          null,
          null,
          null,
          null,
          null,
          null,
          null,
          null,
          null,
          null,
          null,
          null,
          null,
          null,
          null,
          null,
          null,
          null,
          null,
          null,
          null
         ]
        },
        {
         "boxpoints": "all",
         "jitter": 0.2,
         "line": {
          "width": 1
         },
         "marker": {
          "size": 2
         },
         "name": "Trichrome",
         "type": "box",
         "whiskerwidth": 0.2,
         "y": [
          66.666,
          45,
          32,
          29.8,
          27.77,
          27.5,
          26.5,
          25,
          24,
          24,
          24,
          22.5,
          22,
          22,
          21.99,
          21.5,
          21,
          20.69,
          20,
          20,
          20,
          20,
          20,
          19.99,
          19.969,
          19.69,
          19,
          19,
          18.95,
          18.88,
          18.5,
          18.1337,
          18,
          18,
          17.99,
          17.95,
          17,
          17,
          16.69,
          16.5,
          16,
          16,
          15.9,
          15.9,
          15.8,
          15.241146984315206,
          15,
          15,
          15,
          15,
          15,
          15,
          15,
          14.99,
          14.99,
          14.5,
          14,
          14,
          14,
          14,
          14,
          14,
          14,
          13.5,
          13.5,
          13.5,
          13.49,
          13,
          13,
          12.95,
          12.8,
          12.8,
          12.69,
          12.69,
          12.5,
          12.43,
          12,
          12,
          12,
          11.99,
          11.99,
          11.98,
          11.77,
          11.5,
          11.5,
          11.1111,
          11.11,
          11,
          11,
          11,
          11,
          11,
          11,
          11,
          10.99,
          10.795243773951906,
          9.999,
          9.99,
          9.99,
          9.9,
          9.9,
          9.888,
          9.8,
          9.8,
          9.8,
          9.8,
          9.69,
          9.69,
          9.69,
          9.6,
          9.5,
          9.5,
          9.5,
          9.25,
          9,
          9,
          8.8,
          8.69,
          8.6,
          8.5,
          8.25,
          8.1,
          8,
          8,
          8,
          8,
          8,
          7.99,
          7.98,
          7.9,
          7.9,
          7.9,
          7.7777,
          7.75,
          7.7,
          7.5,
          7.5,
          7.5,
          7.49,
          7.49,
          7.49,
          7.48,
          7.3,
          7.25,
          7.22,
          7.2,
          7.123,
          7.1,
          7,
          6.9,
          6.85,
          6.79,
          6.68,
          6.6,
          6.5,
          6.5,
          6.5,
          6.49,
          6.49,
          6.4,
          6.4,
          6.1,
          6,
          5.99,
          5.95,
          5.9,
          5.77,
          5.75,
          5.55,
          0.01,
          null,
          null,
          null,
          null,
          null,
          null,
          null,
          null,
          null,
          null,
          null,
          null,
          null,
          null,
          null,
          null,
          null,
          null,
          null,
          null,
          null,
          null,
          null,
          null,
          null,
          null,
          null,
          null,
          null,
          null,
          null,
          null,
          null,
          null,
          null,
          null,
          null,
          null,
          null,
          null,
          null,
          null,
          null,
          null,
          null,
          null,
          null,
          null,
          null,
          null,
          null,
          null,
          null,
          null,
          null,
          null
         ]
        },
        {
         "boxpoints": "all",
         "jitter": 0.2,
         "line": {
          "width": 1
         },
         "marker": {
          "size": 2
         },
         "name": "Polychrome",
         "type": "box",
         "whiskerwidth": 0.2,
         "y": [
          33,
          26,
          25.4,
          25,
          23.99,
          23.69,
          23,
          23,
          22.99,
          22.5,
          22.22,
          22.22,
          22,
          21.9,
          21.5,
          21,
          20.9,
          20.75,
          20.69,
          20,
          20,
          20,
          19.99,
          19.5,
          19.5,
          19,
          19,
          18.5,
          18.5,
          18,
          18,
          18,
          17.9,
          17.5,
          17.5,
          17.43,
          17,
          16.942,
          16.5,
          16.5,
          16.25,
          16,
          15.89,
          15.5,
          15,
          15,
          15,
          14.8869,
          14.88,
          14.6969,
          14.6969,
          14.6,
          14.5,
          14.5,
          14.216,
          14.2069,
          14,
          13.888,
          13.85,
          13.69,
          13.69,
          13,
          13,
          12.99,
          12.95,
          12.75,
          12.5,
          12.5,
          12.5,
          12.5,
          12,
          12,
          12,
          12,
          12,
          12,
          12,
          12,
          12,
          12,
          11.99,
          11.98,
          11.95,
          11.9,
          11.88,
          11.85,
          11.5,
          11.5,
          11.5,
          11.5,
          11.5,
          11.25,
          11.11,
          11.11,
          11,
          11,
          11,
          10.97,
          10.7,
          10.5,
          10.4,
          10.4,
          10,
          10,
          10,
          10,
          9.98,
          9.9,
          9.9,
          9.9,
          9.9,
          9.9,
          9.88,
          9.8,
          9.8,
          9.8,
          9.7,
          9.5,
          9.5,
          9.3,
          9.1,
          9,
          9,
          9,
          9,
          8.98,
          8.88,
          8.88,
          8.88,
          8.8,
          8.8,
          8.8,
          8.79,
          8.75,
          8.75,
          8.7,
          8.5,
          8.5,
          8.5,
          8.4,
          8.35,
          8.2,
          8,
          8,
          8,
          8,
          8,
          8,
          8,
          8,
          7.9999,
          7.99,
          7.99,
          7.99,
          7.99,
          7.9,
          7.9,
          7.85,
          7.8,
          7.77,
          7.75,
          7.7,
          7.7,
          7.7,
          7.5,
          7.5,
          7.5,
          7.5,
          7.5,
          7.5,
          7.4999,
          7.49,
          7.49,
          7.49,
          7.47,
          7.45,
          7.45,
          7.44,
          7.35,
          7.3,
          7.25,
          7.25,
          7.2,
          7.2,
          7.2,
          7.1111,
          7.1,
          7.095,
          7.069,
          7,
          6.99,
          6.99,
          6.99,
          6.99,
          6.97,
          6.95,
          6.9,
          6.89,
          6.89,
          6.88,
          6.88,
          6.8,
          6.78,
          6.72,
          6.69,
          6.66,
          6.66,
          6.6,
          6.5,
          6.5,
          6.5,
          6.469,
          6.4,
          6.4,
          6.39,
          6.39,
          6.33,
          6.29,
          6.23,
          6.1,
          6,
          6,
          6,
          6,
          5.99,
          5.97,
          5.9,
          5.9,
          5.869,
          5.85,
          5.8,
          5.8,
          5.8,
          5.75,
          5.69,
          null,
          null,
          null,
          null,
          null,
          null,
          null,
          null,
          null,
          null,
          null,
          null,
          null,
          null,
          null,
          null,
          null,
          null,
          null,
          null,
          null,
          null,
          null,
          null,
          null,
          null,
          null,
          null,
          null,
          null,
          null,
          null,
          null,
          null,
          null,
          null,
          null,
          null,
          null,
          null,
          null,
          null,
          null,
          null,
          null,
          null,
          null,
          null,
          null,
          null,
          null,
          null,
          null,
          null,
          null,
          null,
          null,
          null,
          null,
          null
         ]
        }
       ],
       "layout": {
        "template": {
         "data": {
          "bar": [
           {
            "error_x": {
             "color": "#2a3f5f"
            },
            "error_y": {
             "color": "#2a3f5f"
            },
            "marker": {
             "line": {
              "color": "#E5ECF6",
              "width": 0.5
             },
             "pattern": {
              "fillmode": "overlay",
              "size": 10,
              "solidity": 0.2
             }
            },
            "type": "bar"
           }
          ],
          "barpolar": [
           {
            "marker": {
             "line": {
              "color": "#E5ECF6",
              "width": 0.5
             },
             "pattern": {
              "fillmode": "overlay",
              "size": 10,
              "solidity": 0.2
             }
            },
            "type": "barpolar"
           }
          ],
          "carpet": [
           {
            "aaxis": {
             "endlinecolor": "#2a3f5f",
             "gridcolor": "white",
             "linecolor": "white",
             "minorgridcolor": "white",
             "startlinecolor": "#2a3f5f"
            },
            "baxis": {
             "endlinecolor": "#2a3f5f",
             "gridcolor": "white",
             "linecolor": "white",
             "minorgridcolor": "white",
             "startlinecolor": "#2a3f5f"
            },
            "type": "carpet"
           }
          ],
          "choropleth": [
           {
            "colorbar": {
             "outlinewidth": 0,
             "ticks": ""
            },
            "type": "choropleth"
           }
          ],
          "contour": [
           {
            "colorbar": {
             "outlinewidth": 0,
             "ticks": ""
            },
            "colorscale": [
             [
              0,
              "#0d0887"
             ],
             [
              0.1111111111111111,
              "#46039f"
             ],
             [
              0.2222222222222222,
              "#7201a8"
             ],
             [
              0.3333333333333333,
              "#9c179e"
             ],
             [
              0.4444444444444444,
              "#bd3786"
             ],
             [
              0.5555555555555556,
              "#d8576b"
             ],
             [
              0.6666666666666666,
              "#ed7953"
             ],
             [
              0.7777777777777778,
              "#fb9f3a"
             ],
             [
              0.8888888888888888,
              "#fdca26"
             ],
             [
              1,
              "#f0f921"
             ]
            ],
            "type": "contour"
           }
          ],
          "contourcarpet": [
           {
            "colorbar": {
             "outlinewidth": 0,
             "ticks": ""
            },
            "type": "contourcarpet"
           }
          ],
          "heatmap": [
           {
            "colorbar": {
             "outlinewidth": 0,
             "ticks": ""
            },
            "colorscale": [
             [
              0,
              "#0d0887"
             ],
             [
              0.1111111111111111,
              "#46039f"
             ],
             [
              0.2222222222222222,
              "#7201a8"
             ],
             [
              0.3333333333333333,
              "#9c179e"
             ],
             [
              0.4444444444444444,
              "#bd3786"
             ],
             [
              0.5555555555555556,
              "#d8576b"
             ],
             [
              0.6666666666666666,
              "#ed7953"
             ],
             [
              0.7777777777777778,
              "#fb9f3a"
             ],
             [
              0.8888888888888888,
              "#fdca26"
             ],
             [
              1,
              "#f0f921"
             ]
            ],
            "type": "heatmap"
           }
          ],
          "heatmapgl": [
           {
            "colorbar": {
             "outlinewidth": 0,
             "ticks": ""
            },
            "colorscale": [
             [
              0,
              "#0d0887"
             ],
             [
              0.1111111111111111,
              "#46039f"
             ],
             [
              0.2222222222222222,
              "#7201a8"
             ],
             [
              0.3333333333333333,
              "#9c179e"
             ],
             [
              0.4444444444444444,
              "#bd3786"
             ],
             [
              0.5555555555555556,
              "#d8576b"
             ],
             [
              0.6666666666666666,
              "#ed7953"
             ],
             [
              0.7777777777777778,
              "#fb9f3a"
             ],
             [
              0.8888888888888888,
              "#fdca26"
             ],
             [
              1,
              "#f0f921"
             ]
            ],
            "type": "heatmapgl"
           }
          ],
          "histogram": [
           {
            "marker": {
             "pattern": {
              "fillmode": "overlay",
              "size": 10,
              "solidity": 0.2
             }
            },
            "type": "histogram"
           }
          ],
          "histogram2d": [
           {
            "colorbar": {
             "outlinewidth": 0,
             "ticks": ""
            },
            "colorscale": [
             [
              0,
              "#0d0887"
             ],
             [
              0.1111111111111111,
              "#46039f"
             ],
             [
              0.2222222222222222,
              "#7201a8"
             ],
             [
              0.3333333333333333,
              "#9c179e"
             ],
             [
              0.4444444444444444,
              "#bd3786"
             ],
             [
              0.5555555555555556,
              "#d8576b"
             ],
             [
              0.6666666666666666,
              "#ed7953"
             ],
             [
              0.7777777777777778,
              "#fb9f3a"
             ],
             [
              0.8888888888888888,
              "#fdca26"
             ],
             [
              1,
              "#f0f921"
             ]
            ],
            "type": "histogram2d"
           }
          ],
          "histogram2dcontour": [
           {
            "colorbar": {
             "outlinewidth": 0,
             "ticks": ""
            },
            "colorscale": [
             [
              0,
              "#0d0887"
             ],
             [
              0.1111111111111111,
              "#46039f"
             ],
             [
              0.2222222222222222,
              "#7201a8"
             ],
             [
              0.3333333333333333,
              "#9c179e"
             ],
             [
              0.4444444444444444,
              "#bd3786"
             ],
             [
              0.5555555555555556,
              "#d8576b"
             ],
             [
              0.6666666666666666,
              "#ed7953"
             ],
             [
              0.7777777777777778,
              "#fb9f3a"
             ],
             [
              0.8888888888888888,
              "#fdca26"
             ],
             [
              1,
              "#f0f921"
             ]
            ],
            "type": "histogram2dcontour"
           }
          ],
          "mesh3d": [
           {
            "colorbar": {
             "outlinewidth": 0,
             "ticks": ""
            },
            "type": "mesh3d"
           }
          ],
          "parcoords": [
           {
            "line": {
             "colorbar": {
              "outlinewidth": 0,
              "ticks": ""
             }
            },
            "type": "parcoords"
           }
          ],
          "pie": [
           {
            "automargin": true,
            "type": "pie"
           }
          ],
          "scatter": [
           {
            "marker": {
             "colorbar": {
              "outlinewidth": 0,
              "ticks": ""
             }
            },
            "type": "scatter"
           }
          ],
          "scatter3d": [
           {
            "line": {
             "colorbar": {
              "outlinewidth": 0,
              "ticks": ""
             }
            },
            "marker": {
             "colorbar": {
              "outlinewidth": 0,
              "ticks": ""
             }
            },
            "type": "scatter3d"
           }
          ],
          "scattercarpet": [
           {
            "marker": {
             "colorbar": {
              "outlinewidth": 0,
              "ticks": ""
             }
            },
            "type": "scattercarpet"
           }
          ],
          "scattergeo": [
           {
            "marker": {
             "colorbar": {
              "outlinewidth": 0,
              "ticks": ""
             }
            },
            "type": "scattergeo"
           }
          ],
          "scattergl": [
           {
            "marker": {
             "colorbar": {
              "outlinewidth": 0,
              "ticks": ""
             }
            },
            "type": "scattergl"
           }
          ],
          "scattermapbox": [
           {
            "marker": {
             "colorbar": {
              "outlinewidth": 0,
              "ticks": ""
             }
            },
            "type": "scattermapbox"
           }
          ],
          "scatterpolar": [
           {
            "marker": {
             "colorbar": {
              "outlinewidth": 0,
              "ticks": ""
             }
            },
            "type": "scatterpolar"
           }
          ],
          "scatterpolargl": [
           {
            "marker": {
             "colorbar": {
              "outlinewidth": 0,
              "ticks": ""
             }
            },
            "type": "scatterpolargl"
           }
          ],
          "scatterternary": [
           {
            "marker": {
             "colorbar": {
              "outlinewidth": 0,
              "ticks": ""
             }
            },
            "type": "scatterternary"
           }
          ],
          "surface": [
           {
            "colorbar": {
             "outlinewidth": 0,
             "ticks": ""
            },
            "colorscale": [
             [
              0,
              "#0d0887"
             ],
             [
              0.1111111111111111,
              "#46039f"
             ],
             [
              0.2222222222222222,
              "#7201a8"
             ],
             [
              0.3333333333333333,
              "#9c179e"
             ],
             [
              0.4444444444444444,
              "#bd3786"
             ],
             [
              0.5555555555555556,
              "#d8576b"
             ],
             [
              0.6666666666666666,
              "#ed7953"
             ],
             [
              0.7777777777777778,
              "#fb9f3a"
             ],
             [
              0.8888888888888888,
              "#fdca26"
             ],
             [
              1,
              "#f0f921"
             ]
            ],
            "type": "surface"
           }
          ],
          "table": [
           {
            "cells": {
             "fill": {
              "color": "#EBF0F8"
             },
             "line": {
              "color": "white"
             }
            },
            "header": {
             "fill": {
              "color": "#C8D4E3"
             },
             "line": {
              "color": "white"
             }
            },
            "type": "table"
           }
          ]
         },
         "layout": {
          "annotationdefaults": {
           "arrowcolor": "#2a3f5f",
           "arrowhead": 0,
           "arrowwidth": 1
          },
          "autotypenumbers": "strict",
          "coloraxis": {
           "colorbar": {
            "outlinewidth": 0,
            "ticks": ""
           }
          },
          "colorscale": {
           "diverging": [
            [
             0,
             "#8e0152"
            ],
            [
             0.1,
             "#c51b7d"
            ],
            [
             0.2,
             "#de77ae"
            ],
            [
             0.3,
             "#f1b6da"
            ],
            [
             0.4,
             "#fde0ef"
            ],
            [
             0.5,
             "#f7f7f7"
            ],
            [
             0.6,
             "#e6f5d0"
            ],
            [
             0.7,
             "#b8e186"
            ],
            [
             0.8,
             "#7fbc41"
            ],
            [
             0.9,
             "#4d9221"
            ],
            [
             1,
             "#276419"
            ]
           ],
           "sequential": [
            [
             0,
             "#0d0887"
            ],
            [
             0.1111111111111111,
             "#46039f"
            ],
            [
             0.2222222222222222,
             "#7201a8"
            ],
            [
             0.3333333333333333,
             "#9c179e"
            ],
            [
             0.4444444444444444,
             "#bd3786"
            ],
            [
             0.5555555555555556,
             "#d8576b"
            ],
            [
             0.6666666666666666,
             "#ed7953"
            ],
            [
             0.7777777777777778,
             "#fb9f3a"
            ],
            [
             0.8888888888888888,
             "#fdca26"
            ],
            [
             1,
             "#f0f921"
            ]
           ],
           "sequentialminus": [
            [
             0,
             "#0d0887"
            ],
            [
             0.1111111111111111,
             "#46039f"
            ],
            [
             0.2222222222222222,
             "#7201a8"
            ],
            [
             0.3333333333333333,
             "#9c179e"
            ],
            [
             0.4444444444444444,
             "#bd3786"
            ],
            [
             0.5555555555555556,
             "#d8576b"
            ],
            [
             0.6666666666666666,
             "#ed7953"
            ],
            [
             0.7777777777777778,
             "#fb9f3a"
            ],
            [
             0.8888888888888888,
             "#fdca26"
            ],
            [
             1,
             "#f0f921"
            ]
           ]
          },
          "colorway": [
           "#636efa",
           "#EF553B",
           "#00cc96",
           "#ab63fa",
           "#FFA15A",
           "#19d3f3",
           "#FF6692",
           "#B6E880",
           "#FF97FF",
           "#FECB52"
          ],
          "font": {
           "color": "#2a3f5f"
          },
          "geo": {
           "bgcolor": "white",
           "lakecolor": "white",
           "landcolor": "#E5ECF6",
           "showlakes": true,
           "showland": true,
           "subunitcolor": "white"
          },
          "hoverlabel": {
           "align": "left"
          },
          "hovermode": "closest",
          "mapbox": {
           "style": "light"
          },
          "paper_bgcolor": "white",
          "plot_bgcolor": "#E5ECF6",
          "polar": {
           "angularaxis": {
            "gridcolor": "white",
            "linecolor": "white",
            "ticks": ""
           },
           "bgcolor": "#E5ECF6",
           "radialaxis": {
            "gridcolor": "white",
            "linecolor": "white",
            "ticks": ""
           }
          },
          "scene": {
           "xaxis": {
            "backgroundcolor": "#E5ECF6",
            "gridcolor": "white",
            "gridwidth": 2,
            "linecolor": "white",
            "showbackground": true,
            "ticks": "",
            "zerolinecolor": "white"
           },
           "yaxis": {
            "backgroundcolor": "#E5ECF6",
            "gridcolor": "white",
            "gridwidth": 2,
            "linecolor": "white",
            "showbackground": true,
            "ticks": "",
            "zerolinecolor": "white"
           },
           "zaxis": {
            "backgroundcolor": "#E5ECF6",
            "gridcolor": "white",
            "gridwidth": 2,
            "linecolor": "white",
            "showbackground": true,
            "ticks": "",
            "zerolinecolor": "white"
           }
          },
          "shapedefaults": {
           "line": {
            "color": "#2a3f5f"
           }
          },
          "ternary": {
           "aaxis": {
            "gridcolor": "white",
            "linecolor": "white",
            "ticks": ""
           },
           "baxis": {
            "gridcolor": "white",
            "linecolor": "white",
            "ticks": ""
           },
           "bgcolor": "#E5ECF6",
           "caxis": {
            "gridcolor": "white",
            "linecolor": "white",
            "ticks": ""
           }
          },
          "title": {
           "x": 0.05
          },
          "xaxis": {
           "automargin": true,
           "gridcolor": "white",
           "linecolor": "white",
           "ticks": "",
           "title": {
            "standoff": 15
           },
           "zerolinecolor": "white",
           "zerolinewidth": 2
          },
          "yaxis": {
           "automargin": true,
           "gridcolor": "white",
           "linecolor": "white",
           "ticks": "",
           "title": {
            "standoff": 15
           },
           "zerolinecolor": "white",
           "zerolinewidth": 2
          }
         }
        },
        "title": {
         "text": "Chromaticity"
        }
       }
      }
     },
     "metadata": {}
    },
    {
     "output_type": "display_data",
     "data": {
      "application/vnd.plotly.v1+json": {
       "config": {
        "plotlyServerURL": "https://plot.ly"
       },
       "data": [
        {
         "boxpoints": "all",
         "jitter": 0.2,
         "line": {
          "width": 1
         },
         "marker": {
          "size": 2
         },
         "name": "Standard",
         "type": "box",
         "whiskerwidth": 0.2,
         "y": [
          200,
          175,
          145,
          66.666,
          60,
          50,
          50,
          48.888,
          48.88,
          42.69,
          40,
          39,
          35,
          35,
          35,
          35,
          32,
          32,
          30,
          30,
          30,
          28.88,
          27.77,
          27.5,
          26,
          26,
          25,
          25,
          25,
          25,
          24.69,
          24.5,
          24,
          24,
          24,
          24,
          24,
          24,
          24,
          24,
          23.99,
          23.888,
          23.69,
          23.5,
          23.5,
          23.337,
          23,
          23,
          23,
          22.5,
          22.5,
          22.5,
          22.22,
          22.22,
          22.2,
          22,
          22,
          22,
          21.99,
          21.99,
          21.9,
          21.5,
          21.5,
          21.5,
          21.5,
          21,
          21,
          21,
          21,
          20.69,
          20,
          20,
          20,
          20,
          19.99,
          19.99,
          19.969,
          19.69,
          19.5,
          19.2,
          19,
          19,
          19,
          18.95,
          18.95,
          18.9,
          18.88,
          18.75,
          18.5,
          18.5,
          18.1337,
          18,
          18,
          18,
          18,
          17.99,
          17.99,
          17.95,
          17.9,
          17.5,
          17.5,
          17,
          17,
          17,
          16.99,
          16.942,
          16.5,
          16,
          16,
          16,
          15.9,
          15.9,
          15.9,
          15.9,
          15.89,
          15.59,
          15.241146984315206,
          15,
          15,
          15,
          15,
          15,
          15,
          15,
          15,
          15,
          14.99,
          14.99,
          14.99,
          14.9,
          14.9,
          14.8869,
          14,
          14,
          14,
          14,
          14,
          14,
          14,
          14,
          14,
          14,
          14,
          13.99,
          13.9,
          13.69,
          13.5,
          13.5,
          13.49,
          13.33,
          13,
          13,
          13,
          13,
          13,
          13,
          12.888,
          12.88,
          12.8,
          12.69,
          12.69,
          12.65,
          12.5,
          12.5,
          12.5,
          12.45,
          12.43,
          12.35,
          12.29,
          12,
          12,
          12,
          12,
          12,
          12,
          12,
          12,
          12,
          12,
          12,
          11.99,
          11.99,
          11.99,
          11.99,
          11.99,
          11.99,
          11.99,
          11.88,
          11.88,
          11.8,
          11.77,
          11.75,
          11.75,
          11.5,
          11.5,
          11.5,
          11.5,
          11.5,
          11.5,
          11.45,
          11.4,
          11.1111,
          11.11,
          11.11,
          11.11,
          11.11,
          11,
          11,
          11,
          11,
          11,
          11,
          11,
          11,
          11,
          10.99,
          10.99,
          10.98,
          10.97,
          10.96,
          10.9,
          10.9,
          10.88,
          10.88,
          10.795243773951906,
          10.7,
          10.69,
          10.5,
          10.5,
          10.49,
          10.25,
          10,
          10,
          10,
          10,
          10,
          10,
          10,
          9.9999,
          9.99,
          9.99,
          9.99,
          9.98,
          9.9,
          9.9,
          9.9,
          9.9,
          9.9,
          9.9,
          9.88,
          9.8,
          9.8,
          9.8,
          9.8,
          9.8,
          9.8,
          9.69,
          9.69,
          9.5,
          9.25,
          9.1,
          9.1,
          9,
          9,
          9,
          9,
          9,
          8.98,
          8.88,
          8.85,
          8.85,
          8.8,
          8.8,
          8.8,
          8.8,
          8.79,
          8.79,
          8.7654,
          8.7,
          8.69,
          8.6,
          8.6,
          8.5,
          8.49,
          8.469,
          8.2,
          8.2,
          8.1,
          8.1,
          8,
          8,
          8,
          8,
          8,
          8,
          8,
          7.9999,
          7.99,
          7.99,
          7.9,
          7.9,
          7.85,
          7.8,
          7.8,
          7.7777,
          7.75,
          7.7,
          7.7,
          7.7,
          7.7,
          7.66,
          7.5,
          7.5,
          7.5,
          7.5,
          7.5,
          7.5,
          7.49,
          7.49,
          7.48,
          7.47,
          7.45,
          7.4,
          7.25,
          7.25,
          7.25,
          7.22,
          7.2,
          7.2,
          7.1499,
          7.1,
          7.1,
          7,
          7,
          7,
          7,
          7,
          6.99,
          6.99,
          6.95,
          6.9,
          6.9,
          6.88,
          6.88,
          6.85,
          6.75,
          6.75,
          6.68,
          6.68,
          6.66,
          6.6,
          6.6,
          6.5,
          6.5,
          6.5,
          6.5,
          6.5,
          6.49,
          6.49,
          6.469,
          6.4,
          6.4,
          6.39,
          6.35,
          6.3,
          6.29,
          6.1,
          6,
          5.99,
          5.99,
          5.97,
          5.9,
          5.8888,
          5.85,
          5.8,
          5.8,
          5.8,
          5.77,
          5.75,
          5.7,
          5.6,
          5.6,
          5.5,
          0.01,
          null,
          null,
          null,
          null,
          null,
          null,
          null,
          null,
          null,
          null,
          null,
          null,
          null,
          null,
          null,
          null,
          null,
          null,
          null,
          null,
          null,
          null,
          null,
          null,
          null,
          null,
          null,
          null,
          null,
          null,
          null,
          null,
          null,
          null,
          null,
          null,
          null,
          null,
          null,
          null,
          null,
          null,
          null,
          null,
          null,
          null,
          null,
          null,
          null,
          null,
          null,
          null,
          null,
          null,
          null,
          null,
          null,
          null,
          null,
          null,
          null,
          null,
          null,
          null,
          null,
          null,
          null,
          null,
          null,
          null,
          null,
          null,
          null,
          null,
          null,
          null,
          null,
          null,
          null,
          null,
          null,
          null,
          null,
          null,
          null,
          null,
          null,
          null,
          null,
          null,
          null,
          null,
          null,
          null,
          null,
          null,
          null,
          null,
          null,
          null,
          null,
          null,
          null,
          null,
          null,
          null,
          null
         ]
        },
        {
         "boxpoints": "all",
         "jitter": 0.2,
         "line": {
          "width": 1
         },
         "marker": {
          "size": 2
         },
         "name": "Gradual",
         "type": "box",
         "whiskerwidth": 0.2,
         "y": [
          80,
          30,
          29.8,
          28,
          27.5,
          26.5,
          24.9999,
          23,
          22.99,
          22.99,
          22.22,
          22,
          22,
          21.99,
          21,
          20.9,
          20.69,
          20,
          20,
          19.99992336795338,
          19,
          18.5,
          18,
          18,
          18,
          18,
          18,
          18,
          17.5,
          17.43,
          17,
          16.5,
          16.5,
          15.9,
          15.8,
          15.5,
          15,
          15,
          15,
          15,
          15,
          15,
          14.95,
          14.88,
          14.69,
          14.6,
          14.5,
          14.5,
          14.216,
          14,
          14,
          13.99,
          13.888,
          13.85,
          13.8,
          13.5,
          13.2,
          12.95,
          12.95,
          12.8,
          12.75,
          12.69,
          12.5,
          12.4,
          12.4,
          12,
          12,
          12,
          12,
          12,
          12,
          12,
          11.98,
          11.95,
          11.85,
          11.8,
          11.75,
          11.5,
          11.3,
          11.11,
          11,
          11,
          11,
          11,
          10.97,
          10.4,
          10,
          10,
          10,
          9.999,
          9.99,
          9.888,
          9.88,
          9.7,
          9.69,
          9.6,
          9.5,
          9.5,
          9.5,
          9.5,
          9.3,
          9,
          9,
          8.99,
          8.99,
          8.99,
          8.88,
          8.88,
          8.8,
          8.5,
          8.5,
          8.49,
          8.432,
          8.2,
          8,
          8,
          8,
          8,
          7.99,
          7.77,
          7.77,
          7.75,
          7.7,
          7.5,
          7.5,
          7.4999,
          7.49,
          7.49,
          7.35,
          7.3,
          7.25,
          7.25,
          7.123,
          7.1,
          7.1,
          7.069,
          7,
          6.99,
          6.97,
          6.969,
          6.9,
          6.9,
          6.9,
          6.89,
          6.8,
          6.78,
          6.66,
          6.64,
          6.6,
          6.5,
          6.5,
          6.49,
          6.4,
          6.4,
          6.33,
          6.29,
          6,
          6,
          5.99,
          5.97,
          5.9,
          5.8,
          5.69,
          5.6,
          null,
          null,
          null,
          null,
          null,
          null,
          null,
          null,
          null,
          null,
          null,
          null,
          null,
          null,
          null,
          null,
          null,
          null,
          null,
          null,
          null,
          null,
          null,
          null,
          null,
          null,
          null,
          null,
          null,
          null,
          null,
          null,
          null,
          null,
          null,
          null,
          null,
          null,
          null,
          null,
          null,
          null,
          null,
          null,
          null,
          null,
          null,
          null,
          null
         ]
        },
        {
         "boxpoints": "all",
         "jitter": 0.2,
         "line": {
          "width": 1
         },
         "marker": {
          "size": 2
         },
         "name": "High",
         "type": "box",
         "whiskerwidth": 0.2,
         "y": [
          45,
          35,
          28,
          27,
          22,
          20,
          20,
          19.3,
          18,
          18,
          17.98,
          16.69,
          15,
          14.5,
          12,
          11.96,
          11.9,
          11.9,
          11,
          9.8,
          9.69,
          9.5,
          9,
          8,
          8,
          7.536953642384106,
          7.5,
          7.49,
          7.4,
          6.99,
          6.7,
          6.49,
          6.4,
          6.4,
          6.29,
          6.19,
          5.555,
          5.5,
          null,
          null,
          null,
          null,
          null,
          null,
          null,
          null,
          null,
          null,
          null,
          null,
          null,
          null,
          null,
          null,
          null,
          null,
          null
         ]
        },
        {
         "boxpoints": "all",
         "jitter": 0.2,
         "line": {
          "width": 1
         },
         "marker": {
          "size": 2
         },
         "name": "Low",
         "type": "box",
         "whiskerwidth": 0.2,
         "y": [
          200,
          60,
          48.57,
          33,
          30,
          30,
          29.91,
          28.94,
          25.4,
          25,
          25,
          25,
          24.069,
          24,
          23.69,
          23,
          22,
          22,
          22,
          22,
          21,
          20.75,
          20,
          20,
          20,
          20,
          20,
          20,
          19.99,
          19.5,
          19.5,
          18.88,
          18.5,
          18.5,
          18.5,
          18.5,
          18,
          18,
          18,
          17.5,
          17.167257721296323,
          17,
          16.99,
          16.5,
          16.25,
          16,
          15.99,
          15,
          15,
          15,
          15,
          15,
          15,
          14.9999,
          14.6969,
          14.6969,
          14.2069,
          14,
          13.9,
          13.75,
          13.6969,
          13.69,
          13.5,
          13.5,
          13.3,
          13,
          13,
          13,
          12.99,
          12.8,
          12.5,
          12.5,
          12.5,
          12.4,
          12,
          12,
          12,
          12,
          11.98,
          11.95,
          11.9,
          11.82130112544606,
          11.5,
          11.25,
          11.11,
          11,
          10.5,
          10.4,
          10,
          10,
          10,
          9.9,
          9.8,
          9.8,
          9.5,
          9.4,
          9,
          8.98,
          8.89,
          8.88,
          8.75,
          8.75,
          8.75,
          8.6,
          8.5,
          8.5,
          8.5,
          8.5,
          8.44,
          8.4,
          8.4,
          8.35,
          8.25,
          8,
          8,
          8,
          8,
          8,
          7.99,
          7.99,
          7.99,
          7.99,
          7.98,
          7.9,
          7.9,
          7.9,
          7.85,
          7.8,
          7.5,
          7.5,
          7.5,
          7.5,
          7.5,
          7.5,
          7.49,
          7.49,
          7.4888,
          7.45,
          7.44,
          7.4,
          7.39,
          7.35,
          7.3,
          7.3,
          7.25,
          7.24,
          7.2,
          7.2,
          7.1111,
          7.1,
          7.1,
          7.095,
          7,
          6.99,
          6.99,
          6.99,
          6.99,
          6.99,
          6.98,
          6.9,
          6.9,
          6.89,
          6.89,
          6.8,
          6.79,
          6.75,
          6.72,
          6.69,
          6.5,
          6.5,
          6.477,
          6.4,
          6.39,
          6.3,
          6.25,
          6.23,
          6.21,
          6.1,
          6,
          6,
          6,
          5.95,
          5.93,
          5.9,
          5.869,
          5.85,
          5.85,
          5.8,
          5.8,
          5.75,
          5.75,
          5.7,
          5.7,
          5.55,
          null,
          null,
          null,
          null,
          null,
          null,
          null,
          null,
          null,
          null,
          null,
          null,
          null,
          null,
          null,
          null,
          null,
          null,
          null,
          null,
          null,
          null,
          null,
          null,
          null,
          null,
          null,
          null,
          null,
          null,
          null,
          null,
          null,
          null,
          null,
          null,
          null,
          null,
          null,
          null,
          null,
          null,
          null,
          null,
          null
         ]
        }
       ],
       "layout": {
        "template": {
         "data": {
          "bar": [
           {
            "error_x": {
             "color": "#2a3f5f"
            },
            "error_y": {
             "color": "#2a3f5f"
            },
            "marker": {
             "line": {
              "color": "#E5ECF6",
              "width": 0.5
             },
             "pattern": {
              "fillmode": "overlay",
              "size": 10,
              "solidity": 0.2
             }
            },
            "type": "bar"
           }
          ],
          "barpolar": [
           {
            "marker": {
             "line": {
              "color": "#E5ECF6",
              "width": 0.5
             },
             "pattern": {
              "fillmode": "overlay",
              "size": 10,
              "solidity": 0.2
             }
            },
            "type": "barpolar"
           }
          ],
          "carpet": [
           {
            "aaxis": {
             "endlinecolor": "#2a3f5f",
             "gridcolor": "white",
             "linecolor": "white",
             "minorgridcolor": "white",
             "startlinecolor": "#2a3f5f"
            },
            "baxis": {
             "endlinecolor": "#2a3f5f",
             "gridcolor": "white",
             "linecolor": "white",
             "minorgridcolor": "white",
             "startlinecolor": "#2a3f5f"
            },
            "type": "carpet"
           }
          ],
          "choropleth": [
           {
            "colorbar": {
             "outlinewidth": 0,
             "ticks": ""
            },
            "type": "choropleth"
           }
          ],
          "contour": [
           {
            "colorbar": {
             "outlinewidth": 0,
             "ticks": ""
            },
            "colorscale": [
             [
              0,
              "#0d0887"
             ],
             [
              0.1111111111111111,
              "#46039f"
             ],
             [
              0.2222222222222222,
              "#7201a8"
             ],
             [
              0.3333333333333333,
              "#9c179e"
             ],
             [
              0.4444444444444444,
              "#bd3786"
             ],
             [
              0.5555555555555556,
              "#d8576b"
             ],
             [
              0.6666666666666666,
              "#ed7953"
             ],
             [
              0.7777777777777778,
              "#fb9f3a"
             ],
             [
              0.8888888888888888,
              "#fdca26"
             ],
             [
              1,
              "#f0f921"
             ]
            ],
            "type": "contour"
           }
          ],
          "contourcarpet": [
           {
            "colorbar": {
             "outlinewidth": 0,
             "ticks": ""
            },
            "type": "contourcarpet"
           }
          ],
          "heatmap": [
           {
            "colorbar": {
             "outlinewidth": 0,
             "ticks": ""
            },
            "colorscale": [
             [
              0,
              "#0d0887"
             ],
             [
              0.1111111111111111,
              "#46039f"
             ],
             [
              0.2222222222222222,
              "#7201a8"
             ],
             [
              0.3333333333333333,
              "#9c179e"
             ],
             [
              0.4444444444444444,
              "#bd3786"
             ],
             [
              0.5555555555555556,
              "#d8576b"
             ],
             [
              0.6666666666666666,
              "#ed7953"
             ],
             [
              0.7777777777777778,
              "#fb9f3a"
             ],
             [
              0.8888888888888888,
              "#fdca26"
             ],
             [
              1,
              "#f0f921"
             ]
            ],
            "type": "heatmap"
           }
          ],
          "heatmapgl": [
           {
            "colorbar": {
             "outlinewidth": 0,
             "ticks": ""
            },
            "colorscale": [
             [
              0,
              "#0d0887"
             ],
             [
              0.1111111111111111,
              "#46039f"
             ],
             [
              0.2222222222222222,
              "#7201a8"
             ],
             [
              0.3333333333333333,
              "#9c179e"
             ],
             [
              0.4444444444444444,
              "#bd3786"
             ],
             [
              0.5555555555555556,
              "#d8576b"
             ],
             [
              0.6666666666666666,
              "#ed7953"
             ],
             [
              0.7777777777777778,
              "#fb9f3a"
             ],
             [
              0.8888888888888888,
              "#fdca26"
             ],
             [
              1,
              "#f0f921"
             ]
            ],
            "type": "heatmapgl"
           }
          ],
          "histogram": [
           {
            "marker": {
             "pattern": {
              "fillmode": "overlay",
              "size": 10,
              "solidity": 0.2
             }
            },
            "type": "histogram"
           }
          ],
          "histogram2d": [
           {
            "colorbar": {
             "outlinewidth": 0,
             "ticks": ""
            },
            "colorscale": [
             [
              0,
              "#0d0887"
             ],
             [
              0.1111111111111111,
              "#46039f"
             ],
             [
              0.2222222222222222,
              "#7201a8"
             ],
             [
              0.3333333333333333,
              "#9c179e"
             ],
             [
              0.4444444444444444,
              "#bd3786"
             ],
             [
              0.5555555555555556,
              "#d8576b"
             ],
             [
              0.6666666666666666,
              "#ed7953"
             ],
             [
              0.7777777777777778,
              "#fb9f3a"
             ],
             [
              0.8888888888888888,
              "#fdca26"
             ],
             [
              1,
              "#f0f921"
             ]
            ],
            "type": "histogram2d"
           }
          ],
          "histogram2dcontour": [
           {
            "colorbar": {
             "outlinewidth": 0,
             "ticks": ""
            },
            "colorscale": [
             [
              0,
              "#0d0887"
             ],
             [
              0.1111111111111111,
              "#46039f"
             ],
             [
              0.2222222222222222,
              "#7201a8"
             ],
             [
              0.3333333333333333,
              "#9c179e"
             ],
             [
              0.4444444444444444,
              "#bd3786"
             ],
             [
              0.5555555555555556,
              "#d8576b"
             ],
             [
              0.6666666666666666,
              "#ed7953"
             ],
             [
              0.7777777777777778,
              "#fb9f3a"
             ],
             [
              0.8888888888888888,
              "#fdca26"
             ],
             [
              1,
              "#f0f921"
             ]
            ],
            "type": "histogram2dcontour"
           }
          ],
          "mesh3d": [
           {
            "colorbar": {
             "outlinewidth": 0,
             "ticks": ""
            },
            "type": "mesh3d"
           }
          ],
          "parcoords": [
           {
            "line": {
             "colorbar": {
              "outlinewidth": 0,
              "ticks": ""
             }
            },
            "type": "parcoords"
           }
          ],
          "pie": [
           {
            "automargin": true,
            "type": "pie"
           }
          ],
          "scatter": [
           {
            "marker": {
             "colorbar": {
              "outlinewidth": 0,
              "ticks": ""
             }
            },
            "type": "scatter"
           }
          ],
          "scatter3d": [
           {
            "line": {
             "colorbar": {
              "outlinewidth": 0,
              "ticks": ""
             }
            },
            "marker": {
             "colorbar": {
              "outlinewidth": 0,
              "ticks": ""
             }
            },
            "type": "scatter3d"
           }
          ],
          "scattercarpet": [
           {
            "marker": {
             "colorbar": {
              "outlinewidth": 0,
              "ticks": ""
             }
            },
            "type": "scattercarpet"
           }
          ],
          "scattergeo": [
           {
            "marker": {
             "colorbar": {
              "outlinewidth": 0,
              "ticks": ""
             }
            },
            "type": "scattergeo"
           }
          ],
          "scattergl": [
           {
            "marker": {
             "colorbar": {
              "outlinewidth": 0,
              "ticks": ""
             }
            },
            "type": "scattergl"
           }
          ],
          "scattermapbox": [
           {
            "marker": {
             "colorbar": {
              "outlinewidth": 0,
              "ticks": ""
             }
            },
            "type": "scattermapbox"
           }
          ],
          "scatterpolar": [
           {
            "marker": {
             "colorbar": {
              "outlinewidth": 0,
              "ticks": ""
             }
            },
            "type": "scatterpolar"
           }
          ],
          "scatterpolargl": [
           {
            "marker": {
             "colorbar": {
              "outlinewidth": 0,
              "ticks": ""
             }
            },
            "type": "scatterpolargl"
           }
          ],
          "scatterternary": [
           {
            "marker": {
             "colorbar": {
              "outlinewidth": 0,
              "ticks": ""
             }
            },
            "type": "scatterternary"
           }
          ],
          "surface": [
           {
            "colorbar": {
             "outlinewidth": 0,
             "ticks": ""
            },
            "colorscale": [
             [
              0,
              "#0d0887"
             ],
             [
              0.1111111111111111,
              "#46039f"
             ],
             [
              0.2222222222222222,
              "#7201a8"
             ],
             [
              0.3333333333333333,
              "#9c179e"
             ],
             [
              0.4444444444444444,
              "#bd3786"
             ],
             [
              0.5555555555555556,
              "#d8576b"
             ],
             [
              0.6666666666666666,
              "#ed7953"
             ],
             [
              0.7777777777777778,
              "#fb9f3a"
             ],
             [
              0.8888888888888888,
              "#fdca26"
             ],
             [
              1,
              "#f0f921"
             ]
            ],
            "type": "surface"
           }
          ],
          "table": [
           {
            "cells": {
             "fill": {
              "color": "#EBF0F8"
             },
             "line": {
              "color": "white"
             }
            },
            "header": {
             "fill": {
              "color": "#C8D4E3"
             },
             "line": {
              "color": "white"
             }
            },
            "type": "table"
           }
          ]
         },
         "layout": {
          "annotationdefaults": {
           "arrowcolor": "#2a3f5f",
           "arrowhead": 0,
           "arrowwidth": 1
          },
          "autotypenumbers": "strict",
          "coloraxis": {
           "colorbar": {
            "outlinewidth": 0,
            "ticks": ""
           }
          },
          "colorscale": {
           "diverging": [
            [
             0,
             "#8e0152"
            ],
            [
             0.1,
             "#c51b7d"
            ],
            [
             0.2,
             "#de77ae"
            ],
            [
             0.3,
             "#f1b6da"
            ],
            [
             0.4,
             "#fde0ef"
            ],
            [
             0.5,
             "#f7f7f7"
            ],
            [
             0.6,
             "#e6f5d0"
            ],
            [
             0.7,
             "#b8e186"
            ],
            [
             0.8,
             "#7fbc41"
            ],
            [
             0.9,
             "#4d9221"
            ],
            [
             1,
             "#276419"
            ]
           ],
           "sequential": [
            [
             0,
             "#0d0887"
            ],
            [
             0.1111111111111111,
             "#46039f"
            ],
            [
             0.2222222222222222,
             "#7201a8"
            ],
            [
             0.3333333333333333,
             "#9c179e"
            ],
            [
             0.4444444444444444,
             "#bd3786"
            ],
            [
             0.5555555555555556,
             "#d8576b"
            ],
            [
             0.6666666666666666,
             "#ed7953"
            ],
            [
             0.7777777777777778,
             "#fb9f3a"
            ],
            [
             0.8888888888888888,
             "#fdca26"
            ],
            [
             1,
             "#f0f921"
            ]
           ],
           "sequentialminus": [
            [
             0,
             "#0d0887"
            ],
            [
             0.1111111111111111,
             "#46039f"
            ],
            [
             0.2222222222222222,
             "#7201a8"
            ],
            [
             0.3333333333333333,
             "#9c179e"
            ],
            [
             0.4444444444444444,
             "#bd3786"
            ],
            [
             0.5555555555555556,
             "#d8576b"
            ],
            [
             0.6666666666666666,
             "#ed7953"
            ],
            [
             0.7777777777777778,
             "#fb9f3a"
            ],
            [
             0.8888888888888888,
             "#fdca26"
            ],
            [
             1,
             "#f0f921"
            ]
           ]
          },
          "colorway": [
           "#636efa",
           "#EF553B",
           "#00cc96",
           "#ab63fa",
           "#FFA15A",
           "#19d3f3",
           "#FF6692",
           "#B6E880",
           "#FF97FF",
           "#FECB52"
          ],
          "font": {
           "color": "#2a3f5f"
          },
          "geo": {
           "bgcolor": "white",
           "lakecolor": "white",
           "landcolor": "#E5ECF6",
           "showlakes": true,
           "showland": true,
           "subunitcolor": "white"
          },
          "hoverlabel": {
           "align": "left"
          },
          "hovermode": "closest",
          "mapbox": {
           "style": "light"
          },
          "paper_bgcolor": "white",
          "plot_bgcolor": "#E5ECF6",
          "polar": {
           "angularaxis": {
            "gridcolor": "white",
            "linecolor": "white",
            "ticks": ""
           },
           "bgcolor": "#E5ECF6",
           "radialaxis": {
            "gridcolor": "white",
            "linecolor": "white",
            "ticks": ""
           }
          },
          "scene": {
           "xaxis": {
            "backgroundcolor": "#E5ECF6",
            "gridcolor": "white",
            "gridwidth": 2,
            "linecolor": "white",
            "showbackground": true,
            "ticks": "",
            "zerolinecolor": "white"
           },
           "yaxis": {
            "backgroundcolor": "#E5ECF6",
            "gridcolor": "white",
            "gridwidth": 2,
            "linecolor": "white",
            "showbackground": true,
            "ticks": "",
            "zerolinecolor": "white"
           },
           "zaxis": {
            "backgroundcolor": "#E5ECF6",
            "gridcolor": "white",
            "gridwidth": 2,
            "linecolor": "white",
            "showbackground": true,
            "ticks": "",
            "zerolinecolor": "white"
           }
          },
          "shapedefaults": {
           "line": {
            "color": "#2a3f5f"
           }
          },
          "ternary": {
           "aaxis": {
            "gridcolor": "white",
            "linecolor": "white",
            "ticks": ""
           },
           "baxis": {
            "gridcolor": "white",
            "linecolor": "white",
            "ticks": ""
           },
           "bgcolor": "#E5ECF6",
           "caxis": {
            "gridcolor": "white",
            "linecolor": "white",
            "ticks": ""
           }
          },
          "title": {
           "x": 0.05
          },
          "xaxis": {
           "automargin": true,
           "gridcolor": "white",
           "linecolor": "white",
           "ticks": "",
           "title": {
            "standoff": 15
           },
           "zerolinecolor": "white",
           "zerolinewidth": 2
          },
          "yaxis": {
           "automargin": true,
           "gridcolor": "white",
           "linecolor": "white",
           "ticks": "",
           "title": {
            "standoff": 15
           },
           "zerolinecolor": "white",
           "zerolinewidth": 2
          }
         }
        },
        "title": {
         "text": "Frequency"
        }
       }
      }
     },
     "metadata": {}
    },
    {
     "output_type": "display_data",
     "data": {
      "application/vnd.plotly.v1+json": {
       "config": {
        "plotlyServerURL": "https://plot.ly"
       },
       "data": [
        {
         "boxpoints": "all",
         "jitter": 0.2,
         "line": {
          "width": 1
         },
         "marker": {
          "size": 2
         },
         "name": "Glacier",
         "type": "box",
         "whiskerwidth": 0.2,
         "y": [
          27.5,
          18.5,
          18.1337,
          18,
          15.99,
          15,
          13.5,
          12.29,
          8.99,
          8.469,
          6.99,
          6.9,
          null,
          null
         ]
        },
        {
         "boxpoints": "all",
         "jitter": 0.2,
         "line": {
          "width": 1
         },
         "marker": {
          "size": 2
         },
         "name": "Cove",
         "type": "box",
         "whiskerwidth": 0.2,
         "y": [
          35,
          28.94,
          22,
          18.5,
          17.99,
          17.95,
          14.99,
          14.95,
          14,
          12.5,
          12,
          12,
          9.8,
          9.25,
          8.85,
          8,
          7.7,
          null,
          null,
          null,
          null,
          null,
          null
         ]
        },
        {
         "boxpoints": "all",
         "jitter": 0.2,
         "line": {
          "width": 1
         },
         "marker": {
          "size": 2
         },
         "name": "Fjord",
         "type": "box",
         "whiskerwidth": 0.2,
         "y": [
          30,
          24,
          24,
          22.5,
          21.99,
          21.5,
          19.969,
          18.5,
          16.99,
          14,
          13.8,
          13,
          12,
          11.98,
          9.69,
          8.6,
          8,
          7.1,
          6.9,
          6.79,
          6.5,
          6.5,
          5.55,
          null,
          null
         ]
        },
        {
         "boxpoints": "all",
         "jitter": 0.2,
         "line": {
          "width": 1
         },
         "marker": {
          "size": 2
         },
         "name": "Atoll",
         "type": "box",
         "whiskerwidth": 0.2,
         "y": [
          45,
          18.95,
          17,
          16,
          14,
          14,
          13.75,
          12.8,
          11.5,
          11,
          10.99,
          8,
          7.77,
          7.2,
          6.99,
          null,
          null,
          null,
          null
         ]
        },
        {
         "boxpoints": "all",
         "jitter": 0.2,
         "line": {
          "width": 1
         },
         "marker": {
          "size": 2
         },
         "name": "Volcano",
         "type": "box",
         "whiskerwidth": 0.2,
         "y": [
          24,
          22,
          21.99,
          21,
          19.99,
          18,
          18,
          15,
          12.4,
          12.35,
          11.96,
          11.8,
          8.2,
          7.536953642384106,
          7.1,
          6.99,
          6.49,
          null,
          null
         ]
        },
        {
         "boxpoints": "all",
         "jitter": 0.2,
         "line": {
          "width": 1
         },
         "marker": {
          "size": 2
         },
         "name": "Oasis",
         "type": "box",
         "whiskerwidth": 0.2,
         "y": [
          22.5,
          20.69,
          20,
          19,
          15.8,
          15,
          13.9,
          13.2,
          12.65,
          12.4,
          11.99,
          9.99,
          9.8,
          8,
          7.99,
          7.5,
          7.3,
          7,
          6.4,
          5.5,
          null,
          null,
          null,
          null,
          null,
          null,
          null
         ]
        },
        {
         "boxpoints": "all",
         "jitter": 0.2,
         "line": {
          "width": 1
         },
         "marker": {
          "size": 2
         },
         "name": "Reef",
         "type": "box",
         "whiskerwidth": 0.2,
         "y": [
          50,
          25,
          24.9999,
          22.2,
          21.5,
          18,
          13.5,
          13.33,
          12.5,
          12.45,
          11.75,
          11.11,
          10.9,
          10,
          8.8,
          8.75,
          8.6,
          7,
          5.97,
          5.7,
          null,
          null
         ]
        },
        {
         "boxpoints": "all",
         "jitter": 0.2,
         "line": {
          "width": 1
         },
         "marker": {
          "size": 2
         },
         "name": "Peninsula",
         "type": "box",
         "whiskerwidth": 0.2,
         "y": [
          22,
          18,
          18,
          18,
          16,
          15,
          14,
          12,
          12,
          12,
          11.5,
          11,
          10.88,
          10.5,
          9.69,
          8,
          7.5,
          7.5,
          5.99,
          null,
          null
         ]
        },
        {
         "boxpoints": "all",
         "jitter": 0.2,
         "line": {
          "width": 1
         },
         "marker": {
          "size": 2
         },
         "name": "Canyon",
         "type": "box",
         "whiskerwidth": 0.2,
         "y": [
          20,
          20,
          19.3,
          15.241146984315206,
          14.5,
          13,
          12.8,
          12,
          12,
          11,
          9.5,
          9.5,
          8.5,
          7.49,
          7.22,
          7,
          5.85,
          5.77,
          null,
          null,
          null
         ]
        },
        {
         "boxpoints": "all",
         "jitter": 0.2,
         "line": {
          "width": 1
         },
         "marker": {
          "size": 2
         },
         "name": "Moraine",
         "type": "box",
         "whiskerwidth": 0.2,
         "y": [
          30,
          19.69,
          18,
          17.98,
          17.5,
          14,
          13,
          12.8,
          12.69,
          12,
          11.99,
          11,
          10.98,
          10.69,
          9.99,
          7.49,
          7.4,
          7.25,
          7.123,
          7,
          6.29,
          5.5,
          null,
          null,
          null,
          null
         ]
        },
        {
         "boxpoints": "all",
         "jitter": 0.2,
         "line": {
          "width": 1
         },
         "marker": {
          "size": 2
         },
         "name": "Marsh",
         "type": "box",
         "whiskerwidth": 0.2,
         "y": [
          35,
          15.9,
          14,
          11.9,
          11.8,
          11.4,
          11,
          6.9,
          6.6,
          6.49,
          6.1,
          5.8888,
          null,
          null,
          null,
          null,
          null
         ]
        },
        {
         "boxpoints": "all",
         "jitter": 0.2,
         "line": {
          "width": 1
         },
         "marker": {
          "size": 2
         },
         "name": "Other",
         "type": "box",
         "whiskerwidth": 0.2,
         "y": [
          200,
          175,
          80,
          66.666,
          60,
          60,
          50,
          48.888,
          48.88,
          48.57,
          42.69,
          40,
          39,
          35,
          35,
          35,
          33,
          32,
          32,
          30,
          30,
          30,
          30,
          29.8,
          28.88,
          28,
          27.77,
          27.5,
          26.5,
          26,
          26,
          25.4,
          25,
          25,
          25,
          25,
          24.69,
          24.5,
          24.069,
          24,
          24,
          24,
          23.99,
          23.69,
          23.337,
          23,
          23,
          23,
          23,
          23,
          22.99,
          22.99,
          22.5,
          22.22,
          22.22,
          22,
          22,
          22,
          22,
          22,
          22,
          21.99,
          21.9,
          21.5,
          21.5,
          21,
          21,
          21,
          20.9,
          20.75,
          20.69,
          20,
          20,
          20,
          20,
          20,
          20,
          20,
          20,
          20,
          19.99992336795338,
          19.99,
          19.99,
          19.5,
          19.5,
          19.5,
          19.2,
          19,
          19,
          18.95,
          18.9,
          18.88,
          18.88,
          18.75,
          18.5,
          18.5,
          18.5,
          18.5,
          18,
          18,
          18,
          18,
          18,
          18,
          17.9,
          17.5,
          17.5,
          17.5,
          17.43,
          17,
          17,
          16.99,
          16.942,
          16.5,
          16.5,
          16.5,
          16.5,
          16.25,
          16,
          16,
          15.9,
          15.9,
          15.89,
          15.59,
          15.5,
          15,
          15,
          15,
          15,
          15,
          15,
          15,
          15,
          15,
          15,
          15,
          15,
          15,
          15,
          15,
          14.9999,
          14.99,
          14.99,
          14.9,
          14.8869,
          14.88,
          14.6969,
          14.6969,
          14.6,
          14.5,
          14.5,
          14.216,
          14.2069,
          14,
          14,
          14,
          14,
          14,
          14,
          13.99,
          13.99,
          13.9,
          13.888,
          13.85,
          13.6969,
          13.69,
          13.69,
          13.5,
          13.5,
          13.49,
          13,
          13,
          13,
          13,
          13,
          12.99,
          12.95,
          12.95,
          12.88,
          12.75,
          12.69,
          12.5,
          12.5,
          12.5,
          12.5,
          12.5,
          12.43,
          12.4,
          12,
          12,
          12,
          12,
          12,
          12,
          12,
          12,
          12,
          12,
          12,
          11.99,
          11.99,
          11.99,
          11.99,
          11.99,
          11.98,
          11.95,
          11.95,
          11.9,
          11.88,
          11.85,
          11.82130112544606,
          11.77,
          11.75,
          11.5,
          11.5,
          11.5,
          11.5,
          11.5,
          11.25,
          11.1111,
          11.11,
          11.11,
          11.11,
          11,
          11,
          11,
          11,
          11,
          11,
          11,
          11,
          11,
          10.99,
          10.97,
          10.97,
          10.795243773951906,
          10.7,
          10.5,
          10.5,
          10.49,
          10.4,
          10.4,
          10,
          10,
          10,
          10,
          10,
          10,
          10,
          10,
          10,
          9.999,
          9.99,
          9.98,
          9.9,
          9.9,
          9.9,
          9.9,
          9.9,
          9.9,
          9.888,
          9.88,
          9.8,
          9.8,
          9.8,
          9.8,
          9.7,
          9.69,
          9.6,
          9.5,
          9.5,
          9.5,
          9.3,
          9.1,
          9,
          9,
          9,
          9,
          9,
          8.99,
          8.99,
          8.98,
          8.98,
          8.89,
          8.88,
          8.88,
          8.88,
          8.88,
          8.85,
          8.8,
          8.8,
          8.8,
          8.79,
          8.79,
          8.75,
          8.75,
          8.7,
          8.6,
          8.5,
          8.5,
          8.5,
          8.5,
          8.5,
          8.49,
          8.44,
          8.432,
          8.4,
          8.4,
          8.35,
          8.25,
          8.2,
          8,
          8,
          8,
          8,
          8,
          8,
          8,
          8,
          8,
          7.9999,
          7.99,
          7.99,
          7.99,
          7.99,
          7.99,
          7.99,
          7.98,
          7.9,
          7.9,
          7.9,
          7.9,
          7.85,
          7.85,
          7.8,
          7.8,
          7.8,
          7.7777,
          7.77,
          7.75,
          7.75,
          7.7,
          7.7,
          7.7,
          7.5,
          7.5,
          7.5,
          7.5,
          7.5,
          7.5,
          7.5,
          7.5,
          7.5,
          7.5,
          7.4999,
          7.49,
          7.49,
          7.49,
          7.49,
          7.48,
          7.47,
          7.45,
          7.45,
          7.44,
          7.4,
          7.4,
          7.39,
          7.35,
          7.3,
          7.3,
          7.25,
          7.25,
          7.25,
          7.25,
          7.25,
          7.24,
          7.2,
          7.2,
          7.2,
          7.1111,
          7.1,
          7.1,
          7.1,
          7.095,
          7.069,
          7,
          7,
          6.99,
          6.99,
          6.99,
          6.99,
          6.99,
          6.99,
          6.98,
          6.97,
          6.969,
          6.95,
          6.9,
          6.9,
          6.9,
          6.89,
          6.89,
          6.88,
          6.88,
          6.85,
          6.8,
          6.8,
          6.78,
          6.75,
          6.75,
          6.72,
          6.69,
          6.66,
          6.66,
          6.64,
          6.6,
          6.5,
          6.5,
          6.5,
          6.5,
          6.49,
          6.477,
          6.469,
          6.4,
          6.4,
          6.4,
          6.4,
          6.39,
          6.39,
          6.33,
          6.3,
          6.29,
          6.25,
          6.23,
          6.1,
          6,
          6,
          6,
          6,
          5.99,
          5.97,
          5.93,
          5.9,
          5.9,
          5.869,
          5.85,
          5.8,
          5.8,
          5.8,
          5.8,
          5.75,
          5.7,
          5.69,
          5.6,
          5.6,
          0.01,
          null,
          null,
          null,
          null,
          null,
          null,
          null,
          null,
          null,
          null,
          null,
          null,
          null,
          null,
          null,
          null,
          null,
          null,
          null,
          null,
          null,
          null,
          null,
          null,
          null,
          null,
          null,
          null,
          null,
          null,
          null,
          null,
          null,
          null,
          null,
          null,
          null,
          null,
          null,
          null,
          null,
          null,
          null,
          null,
          null,
          null,
          null,
          null,
          null,
          null,
          null,
          null,
          null,
          null,
          null,
          null,
          null,
          null,
          null,
          null,
          null,
          null,
          null,
          null,
          null,
          null,
          null,
          null,
          null,
          null,
          null,
          null,
          null,
          null,
          null,
          null,
          null,
          null,
          null,
          null,
          null,
          null,
          null,
          null,
          null,
          null,
          null,
          null,
          null,
          null,
          null,
          null,
          null,
          null,
          null,
          null,
          null,
          null,
          null,
          null,
          null,
          null,
          null,
          null,
          null,
          null,
          null,
          null,
          null,
          null,
          null,
          null,
          null,
          null,
          null,
          null,
          null,
          null,
          null,
          null,
          null,
          null,
          null,
          null,
          null,
          null,
          null,
          null,
          null
         ]
        },
        {
         "boxpoints": "all",
         "jitter": 0.2,
         "line": {
          "width": 1
         },
         "marker": {
          "size": 2
         },
         "name": "Delta",
         "type": "box",
         "whiskerwidth": 0.2,
         "y": [
          28,
          23.5,
          21,
          20,
          14,
          11.3,
          10.9,
          9.9,
          8.69,
          8.1,
          6.35,
          5.85,
          5.8,
          null,
          null,
          null,
          null,
          null
         ]
        },
        {
         "boxpoints": "all",
         "jitter": 0.2,
         "line": {
          "width": 1
         },
         "marker": {
          "size": 2
         },
         "name": "Gulf",
         "type": "box",
         "whiskerwidth": 0.2,
         "y": [
          200,
          23.888,
          22.22,
          16.69,
          13,
          11.75,
          11.11,
          10,
          9.9999,
          9.99,
          6.5,
          6.21,
          5.75,
          5.555,
          null,
          null,
          null,
          null,
          null
         ]
        },
        {
         "boxpoints": "all",
         "jitter": 0.2,
         "line": {
          "width": 1
         },
         "marker": {
          "size": 2
         },
         "name": "Shore",
         "type": "box",
         "whiskerwidth": 0.2,
         "y": [
          17.99,
          17,
          15,
          15,
          12,
          11.88,
          8.2,
          7.49,
          6.6,
          6.5,
          5.95,
          5.6,
          null,
          null,
          null,
          null,
          null
         ]
        },
        {
         "boxpoints": "all",
         "jitter": 0.2,
         "line": {
          "width": 1
         },
         "marker": {
          "size": 2
         },
         "name": "Prairie",
         "type": "box",
         "whiskerwidth": 0.2,
         "y": [
          23.5,
          17.167257721296323,
          12.888,
          11.11,
          10.88,
          9,
          9,
          8.1,
          7.4888,
          6.3,
          null,
          null,
          null,
          null,
          null,
          null,
          null
         ]
        },
        {
         "boxpoints": "all",
         "jitter": 0.2,
         "line": {
          "width": 1
         },
         "marker": {
          "size": 2
         },
         "name": "Dune",
         "type": "box",
         "whiskerwidth": 0.2,
         "y": [
          24,
          23.69,
          14.69,
          12,
          11.9,
          11.5,
          10.96,
          9.8,
          8.5,
          8.49,
          8,
          7.35,
          7,
          6.4,
          5.7,
          null,
          null,
          null,
          null,
          null,
          null,
          null
         ]
        },
        {
         "boxpoints": "all",
         "jitter": 0.2,
         "line": {
          "width": 1
         },
         "marker": {
          "size": 2
         },
         "name": "Esker",
         "type": "box",
         "whiskerwidth": 0.2,
         "y": [
          145,
          17,
          13.5,
          10.25,
          10,
          10,
          9.1,
          8.8,
          8,
          6.68,
          6.5,
          6,
          null,
          null,
          null,
          null,
          null,
          null,
          null
         ]
        },
        {
         "boxpoints": "all",
         "jitter": 0.2,
         "line": {
          "width": 1
         },
         "marker": {
          "size": 2
         },
         "name": "Mesa",
         "type": "box",
         "whiskerwidth": 0.2,
         "y": [
          29.91,
          20,
          18,
          9.88,
          9.5,
          9.4,
          7.7,
          7.5,
          6.9,
          null,
          null,
          null,
          null,
          null,
          null
         ]
        },
        {
         "boxpoints": "all",
         "jitter": 0.2,
         "line": {
          "width": 1
         },
         "marker": {
          "size": 2
         },
         "name": "Archipelago",
         "type": "box",
         "whiskerwidth": 0.2,
         "y": [
          24,
          19,
          15.9,
          14.9,
          12,
          11.45,
          9.8,
          9.8,
          9.69,
          9.5,
          8.7654,
          8,
          8,
          6.68,
          6.49,
          6.29,
          5.9,
          5.8,
          5.75,
          null,
          null
         ]
        },
        {
         "boxpoints": "all",
         "jitter": 0.2,
         "line": {
          "width": 1
         },
         "marker": {
          "size": 2
         },
         "name": "Cave",
         "type": "box",
         "whiskerwidth": 0.2,
         "y": [
          27,
          25,
          25,
          11,
          9,
          9,
          7.9,
          7.66,
          7.5,
          5.99,
          null,
          null,
          null,
          null,
          null
         ]
        },
        {
         "boxpoints": "all",
         "jitter": 0.2,
         "line": {
          "width": 1
         },
         "marker": {
          "size": 2
         },
         "name": "Ridge",
         "type": "box",
         "whiskerwidth": 0.2,
         "y": [
          24,
          22,
          21,
          15.9,
          15,
          13.3,
          12.69,
          7.1499,
          7.1,
          6.89,
          6.75,
          6.7,
          6.4,
          6.19,
          6,
          null,
          null,
          null
         ]
        }
       ],
       "layout": {
        "template": {
         "data": {
          "bar": [
           {
            "error_x": {
             "color": "#2a3f5f"
            },
            "error_y": {
             "color": "#2a3f5f"
            },
            "marker": {
             "line": {
              "color": "#E5ECF6",
              "width": 0.5
             },
             "pattern": {
              "fillmode": "overlay",
              "size": 10,
              "solidity": 0.2
             }
            },
            "type": "bar"
           }
          ],
          "barpolar": [
           {
            "marker": {
             "line": {
              "color": "#E5ECF6",
              "width": 0.5
             },
             "pattern": {
              "fillmode": "overlay",
              "size": 10,
              "solidity": 0.2
             }
            },
            "type": "barpolar"
           }
          ],
          "carpet": [
           {
            "aaxis": {
             "endlinecolor": "#2a3f5f",
             "gridcolor": "white",
             "linecolor": "white",
             "minorgridcolor": "white",
             "startlinecolor": "#2a3f5f"
            },
            "baxis": {
             "endlinecolor": "#2a3f5f",
             "gridcolor": "white",
             "linecolor": "white",
             "minorgridcolor": "white",
             "startlinecolor": "#2a3f5f"
            },
            "type": "carpet"
           }
          ],
          "choropleth": [
           {
            "colorbar": {
             "outlinewidth": 0,
             "ticks": ""
            },
            "type": "choropleth"
           }
          ],
          "contour": [
           {
            "colorbar": {
             "outlinewidth": 0,
             "ticks": ""
            },
            "colorscale": [
             [
              0,
              "#0d0887"
             ],
             [
              0.1111111111111111,
              "#46039f"
             ],
             [
              0.2222222222222222,
              "#7201a8"
             ],
             [
              0.3333333333333333,
              "#9c179e"
             ],
             [
              0.4444444444444444,
              "#bd3786"
             ],
             [
              0.5555555555555556,
              "#d8576b"
             ],
             [
              0.6666666666666666,
              "#ed7953"
             ],
             [
              0.7777777777777778,
              "#fb9f3a"
             ],
             [
              0.8888888888888888,
              "#fdca26"
             ],
             [
              1,
              "#f0f921"
             ]
            ],
            "type": "contour"
           }
          ],
          "contourcarpet": [
           {
            "colorbar": {
             "outlinewidth": 0,
             "ticks": ""
            },
            "type": "contourcarpet"
           }
          ],
          "heatmap": [
           {
            "colorbar": {
             "outlinewidth": 0,
             "ticks": ""
            },
            "colorscale": [
             [
              0,
              "#0d0887"
             ],
             [
              0.1111111111111111,
              "#46039f"
             ],
             [
              0.2222222222222222,
              "#7201a8"
             ],
             [
              0.3333333333333333,
              "#9c179e"
             ],
             [
              0.4444444444444444,
              "#bd3786"
             ],
             [
              0.5555555555555556,
              "#d8576b"
             ],
             [
              0.6666666666666666,
              "#ed7953"
             ],
             [
              0.7777777777777778,
              "#fb9f3a"
             ],
             [
              0.8888888888888888,
              "#fdca26"
             ],
             [
              1,
              "#f0f921"
             ]
            ],
            "type": "heatmap"
           }
          ],
          "heatmapgl": [
           {
            "colorbar": {
             "outlinewidth": 0,
             "ticks": ""
            },
            "colorscale": [
             [
              0,
              "#0d0887"
             ],
             [
              0.1111111111111111,
              "#46039f"
             ],
             [
              0.2222222222222222,
              "#7201a8"
             ],
             [
              0.3333333333333333,
              "#9c179e"
             ],
             [
              0.4444444444444444,
              "#bd3786"
             ],
             [
              0.5555555555555556,
              "#d8576b"
             ],
             [
              0.6666666666666666,
              "#ed7953"
             ],
             [
              0.7777777777777778,
              "#fb9f3a"
             ],
             [
              0.8888888888888888,
              "#fdca26"
             ],
             [
              1,
              "#f0f921"
             ]
            ],
            "type": "heatmapgl"
           }
          ],
          "histogram": [
           {
            "marker": {
             "pattern": {
              "fillmode": "overlay",
              "size": 10,
              "solidity": 0.2
             }
            },
            "type": "histogram"
           }
          ],
          "histogram2d": [
           {
            "colorbar": {
             "outlinewidth": 0,
             "ticks": ""
            },
            "colorscale": [
             [
              0,
              "#0d0887"
             ],
             [
              0.1111111111111111,
              "#46039f"
             ],
             [
              0.2222222222222222,
              "#7201a8"
             ],
             [
              0.3333333333333333,
              "#9c179e"
             ],
             [
              0.4444444444444444,
              "#bd3786"
             ],
             [
              0.5555555555555556,
              "#d8576b"
             ],
             [
              0.6666666666666666,
              "#ed7953"
             ],
             [
              0.7777777777777778,
              "#fb9f3a"
             ],
             [
              0.8888888888888888,
              "#fdca26"
             ],
             [
              1,
              "#f0f921"
             ]
            ],
            "type": "histogram2d"
           }
          ],
          "histogram2dcontour": [
           {
            "colorbar": {
             "outlinewidth": 0,
             "ticks": ""
            },
            "colorscale": [
             [
              0,
              "#0d0887"
             ],
             [
              0.1111111111111111,
              "#46039f"
             ],
             [
              0.2222222222222222,
              "#7201a8"
             ],
             [
              0.3333333333333333,
              "#9c179e"
             ],
             [
              0.4444444444444444,
              "#bd3786"
             ],
             [
              0.5555555555555556,
              "#d8576b"
             ],
             [
              0.6666666666666666,
              "#ed7953"
             ],
             [
              0.7777777777777778,
              "#fb9f3a"
             ],
             [
              0.8888888888888888,
              "#fdca26"
             ],
             [
              1,
              "#f0f921"
             ]
            ],
            "type": "histogram2dcontour"
           }
          ],
          "mesh3d": [
           {
            "colorbar": {
             "outlinewidth": 0,
             "ticks": ""
            },
            "type": "mesh3d"
           }
          ],
          "parcoords": [
           {
            "line": {
             "colorbar": {
              "outlinewidth": 0,
              "ticks": ""
             }
            },
            "type": "parcoords"
           }
          ],
          "pie": [
           {
            "automargin": true,
            "type": "pie"
           }
          ],
          "scatter": [
           {
            "marker": {
             "colorbar": {
              "outlinewidth": 0,
              "ticks": ""
             }
            },
            "type": "scatter"
           }
          ],
          "scatter3d": [
           {
            "line": {
             "colorbar": {
              "outlinewidth": 0,
              "ticks": ""
             }
            },
            "marker": {
             "colorbar": {
              "outlinewidth": 0,
              "ticks": ""
             }
            },
            "type": "scatter3d"
           }
          ],
          "scattercarpet": [
           {
            "marker": {
             "colorbar": {
              "outlinewidth": 0,
              "ticks": ""
             }
            },
            "type": "scattercarpet"
           }
          ],
          "scattergeo": [
           {
            "marker": {
             "colorbar": {
              "outlinewidth": 0,
              "ticks": ""
             }
            },
            "type": "scattergeo"
           }
          ],
          "scattergl": [
           {
            "marker": {
             "colorbar": {
              "outlinewidth": 0,
              "ticks": ""
             }
            },
            "type": "scattergl"
           }
          ],
          "scattermapbox": [
           {
            "marker": {
             "colorbar": {
              "outlinewidth": 0,
              "ticks": ""
             }
            },
            "type": "scattermapbox"
           }
          ],
          "scatterpolar": [
           {
            "marker": {
             "colorbar": {
              "outlinewidth": 0,
              "ticks": ""
             }
            },
            "type": "scatterpolar"
           }
          ],
          "scatterpolargl": [
           {
            "marker": {
             "colorbar": {
              "outlinewidth": 0,
              "ticks": ""
             }
            },
            "type": "scatterpolargl"
           }
          ],
          "scatterternary": [
           {
            "marker": {
             "colorbar": {
              "outlinewidth": 0,
              "ticks": ""
             }
            },
            "type": "scatterternary"
           }
          ],
          "surface": [
           {
            "colorbar": {
             "outlinewidth": 0,
             "ticks": ""
            },
            "colorscale": [
             [
              0,
              "#0d0887"
             ],
             [
              0.1111111111111111,
              "#46039f"
             ],
             [
              0.2222222222222222,
              "#7201a8"
             ],
             [
              0.3333333333333333,
              "#9c179e"
             ],
             [
              0.4444444444444444,
              "#bd3786"
             ],
             [
              0.5555555555555556,
              "#d8576b"
             ],
             [
              0.6666666666666666,
              "#ed7953"
             ],
             [
              0.7777777777777778,
              "#fb9f3a"
             ],
             [
              0.8888888888888888,
              "#fdca26"
             ],
             [
              1,
              "#f0f921"
             ]
            ],
            "type": "surface"
           }
          ],
          "table": [
           {
            "cells": {
             "fill": {
              "color": "#EBF0F8"
             },
             "line": {
              "color": "white"
             }
            },
            "header": {
             "fill": {
              "color": "#C8D4E3"
             },
             "line": {
              "color": "white"
             }
            },
            "type": "table"
           }
          ]
         },
         "layout": {
          "annotationdefaults": {
           "arrowcolor": "#2a3f5f",
           "arrowhead": 0,
           "arrowwidth": 1
          },
          "autotypenumbers": "strict",
          "coloraxis": {
           "colorbar": {
            "outlinewidth": 0,
            "ticks": ""
           }
          },
          "colorscale": {
           "diverging": [
            [
             0,
             "#8e0152"
            ],
            [
             0.1,
             "#c51b7d"
            ],
            [
             0.2,
             "#de77ae"
            ],
            [
             0.3,
             "#f1b6da"
            ],
            [
             0.4,
             "#fde0ef"
            ],
            [
             0.5,
             "#f7f7f7"
            ],
            [
             0.6,
             "#e6f5d0"
            ],
            [
             0.7,
             "#b8e186"
            ],
            [
             0.8,
             "#7fbc41"
            ],
            [
             0.9,
             "#4d9221"
            ],
            [
             1,
             "#276419"
            ]
           ],
           "sequential": [
            [
             0,
             "#0d0887"
            ],
            [
             0.1111111111111111,
             "#46039f"
            ],
            [
             0.2222222222222222,
             "#7201a8"
            ],
            [
             0.3333333333333333,
             "#9c179e"
            ],
            [
             0.4444444444444444,
             "#bd3786"
            ],
            [
             0.5555555555555556,
             "#d8576b"
            ],
            [
             0.6666666666666666,
             "#ed7953"
            ],
            [
             0.7777777777777778,
             "#fb9f3a"
            ],
            [
             0.8888888888888888,
             "#fdca26"
            ],
            [
             1,
             "#f0f921"
            ]
           ],
           "sequentialminus": [
            [
             0,
             "#0d0887"
            ],
            [
             0.1111111111111111,
             "#46039f"
            ],
            [
             0.2222222222222222,
             "#7201a8"
            ],
            [
             0.3333333333333333,
             "#9c179e"
            ],
            [
             0.4444444444444444,
             "#bd3786"
            ],
            [
             0.5555555555555556,
             "#d8576b"
            ],
            [
             0.6666666666666666,
             "#ed7953"
            ],
            [
             0.7777777777777778,
             "#fb9f3a"
            ],
            [
             0.8888888888888888,
             "#fdca26"
            ],
            [
             1,
             "#f0f921"
            ]
           ]
          },
          "colorway": [
           "#636efa",
           "#EF553B",
           "#00cc96",
           "#ab63fa",
           "#FFA15A",
           "#19d3f3",
           "#FF6692",
           "#B6E880",
           "#FF97FF",
           "#FECB52"
          ],
          "font": {
           "color": "#2a3f5f"
          },
          "geo": {
           "bgcolor": "white",
           "lakecolor": "white",
           "landcolor": "#E5ECF6",
           "showlakes": true,
           "showland": true,
           "subunitcolor": "white"
          },
          "hoverlabel": {
           "align": "left"
          },
          "hovermode": "closest",
          "mapbox": {
           "style": "light"
          },
          "paper_bgcolor": "white",
          "plot_bgcolor": "#E5ECF6",
          "polar": {
           "angularaxis": {
            "gridcolor": "white",
            "linecolor": "white",
            "ticks": ""
           },
           "bgcolor": "#E5ECF6",
           "radialaxis": {
            "gridcolor": "white",
            "linecolor": "white",
            "ticks": ""
           }
          },
          "scene": {
           "xaxis": {
            "backgroundcolor": "#E5ECF6",
            "gridcolor": "white",
            "gridwidth": 2,
            "linecolor": "white",
            "showbackground": true,
            "ticks": "",
            "zerolinecolor": "white"
           },
           "yaxis": {
            "backgroundcolor": "#E5ECF6",
            "gridcolor": "white",
            "gridwidth": 2,
            "linecolor": "white",
            "showbackground": true,
            "ticks": "",
            "zerolinecolor": "white"
           },
           "zaxis": {
            "backgroundcolor": "#E5ECF6",
            "gridcolor": "white",
            "gridwidth": 2,
            "linecolor": "white",
            "showbackground": true,
            "ticks": "",
            "zerolinecolor": "white"
           }
          },
          "shapedefaults": {
           "line": {
            "color": "#2a3f5f"
           }
          },
          "ternary": {
           "aaxis": {
            "gridcolor": "white",
            "linecolor": "white",
            "ticks": ""
           },
           "baxis": {
            "gridcolor": "white",
            "linecolor": "white",
            "ticks": ""
           },
           "bgcolor": "#E5ECF6",
           "caxis": {
            "gridcolor": "white",
            "linecolor": "white",
            "ticks": ""
           }
          },
          "title": {
           "x": 0.05
          },
          "xaxis": {
           "automargin": true,
           "gridcolor": "white",
           "linecolor": "white",
           "ticks": "",
           "title": {
            "standoff": 15
           },
           "zerolinecolor": "white",
           "zerolinewidth": 2
          },
          "yaxis": {
           "automargin": true,
           "gridcolor": "white",
           "linecolor": "white",
           "ticks": "",
           "title": {
            "standoff": 15
           },
           "zerolinecolor": "white",
           "zerolinewidth": 2
          }
         }
        },
        "title": {
         "text": "Palette"
        }
       }
      }
     },
     "metadata": {}
    },
    {
     "output_type": "display_data",
     "data": {
      "application/vnd.plotly.v1+json": {
       "config": {
        "plotlyServerURL": "https://plot.ly"
       },
       "data": [
        {
         "boxpoints": "all",
         "jitter": 0.2,
         "line": {
          "width": 1
         },
         "marker": {
          "size": 2
         },
         "name": "Variable",
         "type": "box",
         "whiskerwidth": 0.2,
         "y": [
          48.888,
          48.88,
          39,
          35,
          32,
          30,
          30,
          28.88,
          26,
          25,
          25,
          25,
          24,
          24,
          24,
          24,
          24,
          24,
          23.888,
          23.337,
          23,
          22.5,
          22.22,
          22,
          22,
          22,
          21,
          21,
          20.69,
          20,
          20,
          19.969,
          19.69,
          19,
          18.95,
          18.95,
          18.75,
          18.5,
          18.5,
          18.1337,
          18,
          18,
          17.95,
          17.5,
          17,
          17,
          16.99,
          16,
          16,
          15.59,
          15.241146984315206,
          15,
          15,
          15,
          15,
          15,
          14.99,
          14.99,
          14.9,
          14,
          13.33,
          13,
          13,
          13,
          13,
          12.65,
          12.29,
          12,
          12,
          12,
          11.8,
          11.77,
          11.75,
          11.4,
          11.11,
          11.11,
          11.11,
          11.11,
          11,
          11,
          11,
          11,
          11,
          11,
          10.98,
          10.88,
          10.49,
          10.25,
          10,
          10,
          10,
          9.99,
          9.99,
          9.9,
          9.8,
          9.8,
          9.69,
          9.5,
          9.25,
          9,
          9,
          8.88,
          8.85,
          8.8,
          8.7654,
          8.5,
          8.49,
          8.1,
          8,
          8,
          8,
          7.99,
          7.9,
          7.8,
          7.5,
          7.5,
          7.5,
          7.49,
          7.49,
          7.48,
          7.25,
          7.25,
          7.22,
          7.1499,
          7.1,
          7.1,
          7,
          7,
          6.99,
          6.75,
          6.68,
          6.68,
          6.6,
          6.6,
          6.5,
          6.5,
          6.5,
          6.49,
          6.4,
          6.3,
          5.99,
          5.77,
          5.75,
          5.6,
          5.5,
          0.01,
          null,
          null,
          null,
          null,
          null,
          null,
          null,
          null,
          null,
          null,
          null,
          null,
          null,
          null,
          null,
          null,
          null,
          null,
          null,
          null,
          null,
          null,
          null,
          null,
          null,
          null,
          null,
          null,
          null,
          null,
          null,
          null,
          null,
          null,
          null,
          null,
          null,
          null,
          null,
          null,
          null,
          null,
          null,
          null,
          null,
          null
         ]
        },
        {
         "boxpoints": "all",
         "jitter": 0.2,
         "line": {
          "width": 1
         },
         "marker": {
          "size": 2
         },
         "name": "Uniform",
         "type": "box",
         "whiskerwidth": 0.2,
         "y": [
          200,
          200,
          175,
          145,
          80,
          66.666,
          60,
          60,
          50,
          50,
          48.57,
          45,
          42.69,
          40,
          35,
          35,
          35,
          35,
          33,
          32,
          30,
          30,
          30,
          30,
          29.91,
          29.8,
          28.94,
          28,
          28,
          27.77,
          27.5,
          27.5,
          27,
          26.5,
          26,
          25.4,
          25,
          25,
          25,
          25,
          24.9999,
          24.69,
          24.5,
          24.069,
          24,
          24,
          24,
          23.99,
          23.69,
          23.69,
          23.5,
          23.5,
          23,
          23,
          23,
          23,
          22.99,
          22.99,
          22.5,
          22.5,
          22.22,
          22.22,
          22.2,
          22,
          22,
          22,
          22,
          22,
          22,
          22,
          21.99,
          21.99,
          21.99,
          21.9,
          21.5,
          21.5,
          21.5,
          21.5,
          21,
          21,
          21,
          21,
          20.9,
          20.75,
          20.69,
          20,
          20,
          20,
          20,
          20,
          20,
          20,
          20,
          20,
          20,
          20,
          20,
          19.99992336795338,
          19.99,
          19.99,
          19.99,
          19.5,
          19.5,
          19.5,
          19.3,
          19.2,
          19,
          19,
          19,
          18.9,
          18.88,
          18.88,
          18.5,
          18.5,
          18.5,
          18.5,
          18.5,
          18,
          18,
          18,
          18,
          18,
          18,
          18,
          18,
          18,
          18,
          18,
          18,
          18,
          17.99,
          17.99,
          17.98,
          17.9,
          17.5,
          17.5,
          17.5,
          17.43,
          17.167257721296323,
          17,
          17,
          17,
          16.99,
          16.942,
          16.69,
          16.5,
          16.5,
          16.5,
          16.5,
          16.25,
          16,
          16,
          15.99,
          15.9,
          15.9,
          15.9,
          15.9,
          15.9,
          15.89,
          15.8,
          15.5,
          15,
          15,
          15,
          15,
          15,
          15,
          15,
          15,
          15,
          15,
          15,
          15,
          15,
          15,
          15,
          15,
          15,
          14.9999,
          14.99,
          14.95,
          14.9,
          14.8869,
          14.88,
          14.6969,
          14.6969,
          14.69,
          14.6,
          14.5,
          14.5,
          14.5,
          14.216,
          14.2069,
          14,
          14,
          14,
          14,
          14,
          14,
          14,
          14,
          14,
          14,
          14,
          14,
          14,
          13.99,
          13.99,
          13.9,
          13.9,
          13.888,
          13.85,
          13.8,
          13.75,
          13.6969,
          13.69,
          13.69,
          13.5,
          13.5,
          13.5,
          13.5,
          13.5,
          13.49,
          13.3,
          13.2,
          13,
          13,
          13,
          13,
          13,
          12.99,
          12.95,
          12.95,
          12.888,
          12.88,
          12.8,
          12.8,
          12.8,
          12.75,
          12.69,
          12.69,
          12.69,
          12.5,
          12.5,
          12.5,
          12.5,
          12.5,
          12.5,
          12.5,
          12.45,
          12.43,
          12.4,
          12.4,
          12.4,
          12.35,
          12,
          12,
          12,
          12,
          12,
          12,
          12,
          12,
          12,
          12,
          12,
          12,
          12,
          12,
          12,
          12,
          12,
          12,
          12,
          12,
          11.99,
          11.99,
          11.99,
          11.99,
          11.99,
          11.99,
          11.99,
          11.98,
          11.98,
          11.96,
          11.95,
          11.95,
          11.9,
          11.9,
          11.9,
          11.88,
          11.88,
          11.85,
          11.82130112544606,
          11.8,
          11.75,
          11.75,
          11.5,
          11.5,
          11.5,
          11.5,
          11.5,
          11.5,
          11.5,
          11.5,
          11.45,
          11.3,
          11.25,
          11.1111,
          11.11,
          11.11,
          11,
          11,
          11,
          11,
          11,
          11,
          11,
          11,
          11,
          10.99,
          10.99,
          10.97,
          10.97,
          10.96,
          10.9,
          10.9,
          10.88,
          10.795243773951906,
          10.7,
          10.69,
          10.5,
          10.5,
          10.5,
          10.4,
          10.4,
          10,
          10,
          10,
          10,
          10,
          10,
          10,
          10,
          10,
          10,
          9.9999,
          9.999,
          9.99,
          9.99,
          9.98,
          9.9,
          9.9,
          9.9,
          9.9,
          9.9,
          9.9,
          9.888,
          9.88,
          9.88,
          9.8,
          9.8,
          9.8,
          9.8,
          9.8,
          9.8,
          9.8,
          9.7,
          9.69,
          9.69,
          9.69,
          9.6,
          9.5,
          9.5,
          9.5,
          9.5,
          9.5,
          9.5,
          9.4,
          9.3,
          9.1,
          9.1,
          9,
          9,
          9,
          9,
          9,
          9,
          9,
          8.99,
          8.99,
          8.99,
          8.98,
          8.98,
          8.89,
          8.88,
          8.88,
          8.88,
          8.85,
          8.8,
          8.8,
          8.8,
          8.8,
          8.79,
          8.79,
          8.75,
          8.75,
          8.75,
          8.7,
          8.69,
          8.6,
          8.6,
          8.6,
          8.5,
          8.5,
          8.5,
          8.5,
          8.5,
          8.5,
          8.49,
          8.469,
          8.44,
          8.432,
          8.4,
          8.4,
          8.35,
          8.25,
          8.2,
          8.2,
          8.2,
          8.1,
          8,
          8,
          8,
          8,
          8,
          8,
          8,
          8,
          8,
          8,
          8,
          8,
          8,
          8,
          8,
          7.9999,
          7.99,
          7.99,
          7.99,
          7.99,
          7.99,
          7.99,
          7.98,
          7.9,
          7.9,
          7.9,
          7.9,
          7.85,
          7.85,
          7.8,
          7.8,
          7.7777,
          7.77,
          7.77,
          7.75,
          7.75,
          7.7,
          7.7,
          7.7,
          7.7,
          7.7,
          7.66,
          7.536953642384106,
          7.5,
          7.5,
          7.5,
          7.5,
          7.5,
          7.5,
          7.5,
          7.5,
          7.5,
          7.5,
          7.5,
          7.5,
          7.4999,
          7.49,
          7.49,
          7.49,
          7.49,
          7.49,
          7.4888,
          7.47,
          7.45,
          7.45,
          7.44,
          7.4,
          7.4,
          7.4,
          7.39,
          7.35,
          7.35,
          7.3,
          7.3,
          7.3,
          7.25,
          7.25,
          7.25,
          7.25,
          7.24,
          7.2,
          7.2,
          7.2,
          7.2,
          7.123,
          7.1111,
          7.1,
          7.1,
          7.1,
          7.1,
          7.095,
          7.069,
          7,
          7,
          7,
          7,
          7,
          6.99,
          6.99,
          6.99,
          6.99,
          6.99,
          6.99,
          6.99,
          6.99,
          6.98,
          6.97,
          6.969,
          6.95,
          6.9,
          6.9,
          6.9,
          6.9,
          6.9,
          6.9,
          6.9,
          6.89,
          6.89,
          6.89,
          6.88,
          6.88,
          6.85,
          6.8,
          6.8,
          6.79,
          6.78,
          6.75,
          6.75,
          6.72,
          6.7,
          6.69,
          6.66,
          6.66,
          6.64,
          6.6,
          6.5,
          6.5,
          6.5,
          6.5,
          6.5,
          6.5,
          6.49,
          6.49,
          6.49,
          6.477,
          6.469,
          6.4,
          6.4,
          6.4,
          6.4,
          6.4,
          6.4,
          6.39,
          6.39,
          6.35,
          6.33,
          6.3,
          6.29,
          6.29,
          6.29,
          6.25,
          6.23,
          6.21,
          6.19,
          6.1,
          6.1,
          6,
          6,
          6,
          6,
          6,
          6,
          5.99,
          5.99,
          5.97,
          5.97,
          5.95,
          5.93,
          5.9,
          5.9,
          5.9,
          5.8888,
          5.869,
          5.85,
          5.85,
          5.85,
          5.8,
          5.8,
          5.8,
          5.8,
          5.8,
          5.8,
          5.75,
          5.75,
          5.7,
          5.7,
          5.7,
          5.69,
          5.6,
          5.6,
          5.555,
          5.55,
          5.5,
          null,
          null,
          null,
          null,
          null,
          null,
          null,
          null,
          null,
          null,
          null,
          null,
          null,
          null,
          null,
          null,
          null,
          null,
          null,
          null,
          null,
          null,
          null,
          null,
          null,
          null,
          null,
          null,
          null,
          null,
          null,
          null,
          null,
          null,
          null,
          null,
          null,
          null,
          null,
          null,
          null,
          null,
          null,
          null,
          null,
          null,
          null,
          null,
          null,
          null,
          null,
          null,
          null,
          null,
          null,
          null,
          null,
          null,
          null,
          null,
          null,
          null,
          null,
          null,
          null,
          null,
          null,
          null,
          null,
          null,
          null,
          null,
          null,
          null,
          null,
          null,
          null,
          null,
          null,
          null,
          null,
          null,
          null,
          null,
          null,
          null,
          null,
          null,
          null,
          null,
          null,
          null,
          null,
          null,
          null,
          null,
          null,
          null,
          null,
          null,
          null,
          null,
          null,
          null,
          null,
          null,
          null,
          null,
          null,
          null,
          null,
          null,
          null,
          null,
          null,
          null,
          null,
          null,
          null,
          null,
          null,
          null,
          null,
          null,
          null,
          null,
          null,
          null,
          null,
          null,
          null,
          null,
          null,
          null,
          null,
          null,
          null,
          null,
          null,
          null,
          null,
          null,
          null,
          null,
          null,
          null,
          null,
          null,
          null,
          null,
          null,
          null,
          null,
          null,
          null,
          null,
          null,
          null,
          null,
          null,
          null,
          null,
          null,
          null,
          null,
          null,
          null,
          null,
          null,
          null,
          null,
          null,
          null,
          null
         ]
        }
       ],
       "layout": {
        "template": {
         "data": {
          "bar": [
           {
            "error_x": {
             "color": "#2a3f5f"
            },
            "error_y": {
             "color": "#2a3f5f"
            },
            "marker": {
             "line": {
              "color": "#E5ECF6",
              "width": 0.5
             },
             "pattern": {
              "fillmode": "overlay",
              "size": 10,
              "solidity": 0.2
             }
            },
            "type": "bar"
           }
          ],
          "barpolar": [
           {
            "marker": {
             "line": {
              "color": "#E5ECF6",
              "width": 0.5
             },
             "pattern": {
              "fillmode": "overlay",
              "size": 10,
              "solidity": 0.2
             }
            },
            "type": "barpolar"
           }
          ],
          "carpet": [
           {
            "aaxis": {
             "endlinecolor": "#2a3f5f",
             "gridcolor": "white",
             "linecolor": "white",
             "minorgridcolor": "white",
             "startlinecolor": "#2a3f5f"
            },
            "baxis": {
             "endlinecolor": "#2a3f5f",
             "gridcolor": "white",
             "linecolor": "white",
             "minorgridcolor": "white",
             "startlinecolor": "#2a3f5f"
            },
            "type": "carpet"
           }
          ],
          "choropleth": [
           {
            "colorbar": {
             "outlinewidth": 0,
             "ticks": ""
            },
            "type": "choropleth"
           }
          ],
          "contour": [
           {
            "colorbar": {
             "outlinewidth": 0,
             "ticks": ""
            },
            "colorscale": [
             [
              0,
              "#0d0887"
             ],
             [
              0.1111111111111111,
              "#46039f"
             ],
             [
              0.2222222222222222,
              "#7201a8"
             ],
             [
              0.3333333333333333,
              "#9c179e"
             ],
             [
              0.4444444444444444,
              "#bd3786"
             ],
             [
              0.5555555555555556,
              "#d8576b"
             ],
             [
              0.6666666666666666,
              "#ed7953"
             ],
             [
              0.7777777777777778,
              "#fb9f3a"
             ],
             [
              0.8888888888888888,
              "#fdca26"
             ],
             [
              1,
              "#f0f921"
             ]
            ],
            "type": "contour"
           }
          ],
          "contourcarpet": [
           {
            "colorbar": {
             "outlinewidth": 0,
             "ticks": ""
            },
            "type": "contourcarpet"
           }
          ],
          "heatmap": [
           {
            "colorbar": {
             "outlinewidth": 0,
             "ticks": ""
            },
            "colorscale": [
             [
              0,
              "#0d0887"
             ],
             [
              0.1111111111111111,
              "#46039f"
             ],
             [
              0.2222222222222222,
              "#7201a8"
             ],
             [
              0.3333333333333333,
              "#9c179e"
             ],
             [
              0.4444444444444444,
              "#bd3786"
             ],
             [
              0.5555555555555556,
              "#d8576b"
             ],
             [
              0.6666666666666666,
              "#ed7953"
             ],
             [
              0.7777777777777778,
              "#fb9f3a"
             ],
             [
              0.8888888888888888,
              "#fdca26"
             ],
             [
              1,
              "#f0f921"
             ]
            ],
            "type": "heatmap"
           }
          ],
          "heatmapgl": [
           {
            "colorbar": {
             "outlinewidth": 0,
             "ticks": ""
            },
            "colorscale": [
             [
              0,
              "#0d0887"
             ],
             [
              0.1111111111111111,
              "#46039f"
             ],
             [
              0.2222222222222222,
              "#7201a8"
             ],
             [
              0.3333333333333333,
              "#9c179e"
             ],
             [
              0.4444444444444444,
              "#bd3786"
             ],
             [
              0.5555555555555556,
              "#d8576b"
             ],
             [
              0.6666666666666666,
              "#ed7953"
             ],
             [
              0.7777777777777778,
              "#fb9f3a"
             ],
             [
              0.8888888888888888,
              "#fdca26"
             ],
             [
              1,
              "#f0f921"
             ]
            ],
            "type": "heatmapgl"
           }
          ],
          "histogram": [
           {
            "marker": {
             "pattern": {
              "fillmode": "overlay",
              "size": 10,
              "solidity": 0.2
             }
            },
            "type": "histogram"
           }
          ],
          "histogram2d": [
           {
            "colorbar": {
             "outlinewidth": 0,
             "ticks": ""
            },
            "colorscale": [
             [
              0,
              "#0d0887"
             ],
             [
              0.1111111111111111,
              "#46039f"
             ],
             [
              0.2222222222222222,
              "#7201a8"
             ],
             [
              0.3333333333333333,
              "#9c179e"
             ],
             [
              0.4444444444444444,
              "#bd3786"
             ],
             [
              0.5555555555555556,
              "#d8576b"
             ],
             [
              0.6666666666666666,
              "#ed7953"
             ],
             [
              0.7777777777777778,
              "#fb9f3a"
             ],
             [
              0.8888888888888888,
              "#fdca26"
             ],
             [
              1,
              "#f0f921"
             ]
            ],
            "type": "histogram2d"
           }
          ],
          "histogram2dcontour": [
           {
            "colorbar": {
             "outlinewidth": 0,
             "ticks": ""
            },
            "colorscale": [
             [
              0,
              "#0d0887"
             ],
             [
              0.1111111111111111,
              "#46039f"
             ],
             [
              0.2222222222222222,
              "#7201a8"
             ],
             [
              0.3333333333333333,
              "#9c179e"
             ],
             [
              0.4444444444444444,
              "#bd3786"
             ],
             [
              0.5555555555555556,
              "#d8576b"
             ],
             [
              0.6666666666666666,
              "#ed7953"
             ],
             [
              0.7777777777777778,
              "#fb9f3a"
             ],
             [
              0.8888888888888888,
              "#fdca26"
             ],
             [
              1,
              "#f0f921"
             ]
            ],
            "type": "histogram2dcontour"
           }
          ],
          "mesh3d": [
           {
            "colorbar": {
             "outlinewidth": 0,
             "ticks": ""
            },
            "type": "mesh3d"
           }
          ],
          "parcoords": [
           {
            "line": {
             "colorbar": {
              "outlinewidth": 0,
              "ticks": ""
             }
            },
            "type": "parcoords"
           }
          ],
          "pie": [
           {
            "automargin": true,
            "type": "pie"
           }
          ],
          "scatter": [
           {
            "marker": {
             "colorbar": {
              "outlinewidth": 0,
              "ticks": ""
             }
            },
            "type": "scatter"
           }
          ],
          "scatter3d": [
           {
            "line": {
             "colorbar": {
              "outlinewidth": 0,
              "ticks": ""
             }
            },
            "marker": {
             "colorbar": {
              "outlinewidth": 0,
              "ticks": ""
             }
            },
            "type": "scatter3d"
           }
          ],
          "scattercarpet": [
           {
            "marker": {
             "colorbar": {
              "outlinewidth": 0,
              "ticks": ""
             }
            },
            "type": "scattercarpet"
           }
          ],
          "scattergeo": [
           {
            "marker": {
             "colorbar": {
              "outlinewidth": 0,
              "ticks": ""
             }
            },
            "type": "scattergeo"
           }
          ],
          "scattergl": [
           {
            "marker": {
             "colorbar": {
              "outlinewidth": 0,
              "ticks": ""
             }
            },
            "type": "scattergl"
           }
          ],
          "scattermapbox": [
           {
            "marker": {
             "colorbar": {
              "outlinewidth": 0,
              "ticks": ""
             }
            },
            "type": "scattermapbox"
           }
          ],
          "scatterpolar": [
           {
            "marker": {
             "colorbar": {
              "outlinewidth": 0,
              "ticks": ""
             }
            },
            "type": "scatterpolar"
           }
          ],
          "scatterpolargl": [
           {
            "marker": {
             "colorbar": {
              "outlinewidth": 0,
              "ticks": ""
             }
            },
            "type": "scatterpolargl"
           }
          ],
          "scatterternary": [
           {
            "marker": {
             "colorbar": {
              "outlinewidth": 0,
              "ticks": ""
             }
            },
            "type": "scatterternary"
           }
          ],
          "surface": [
           {
            "colorbar": {
             "outlinewidth": 0,
             "ticks": ""
            },
            "colorscale": [
             [
              0,
              "#0d0887"
             ],
             [
              0.1111111111111111,
              "#46039f"
             ],
             [
              0.2222222222222222,
              "#7201a8"
             ],
             [
              0.3333333333333333,
              "#9c179e"
             ],
             [
              0.4444444444444444,
              "#bd3786"
             ],
             [
              0.5555555555555556,
              "#d8576b"
             ],
             [
              0.6666666666666666,
              "#ed7953"
             ],
             [
              0.7777777777777778,
              "#fb9f3a"
             ],
             [
              0.8888888888888888,
              "#fdca26"
             ],
             [
              1,
              "#f0f921"
             ]
            ],
            "type": "surface"
           }
          ],
          "table": [
           {
            "cells": {
             "fill": {
              "color": "#EBF0F8"
             },
             "line": {
              "color": "white"
             }
            },
            "header": {
             "fill": {
              "color": "#C8D4E3"
             },
             "line": {
              "color": "white"
             }
            },
            "type": "table"
           }
          ]
         },
         "layout": {
          "annotationdefaults": {
           "arrowcolor": "#2a3f5f",
           "arrowhead": 0,
           "arrowwidth": 1
          },
          "autotypenumbers": "strict",
          "coloraxis": {
           "colorbar": {
            "outlinewidth": 0,
            "ticks": ""
           }
          },
          "colorscale": {
           "diverging": [
            [
             0,
             "#8e0152"
            ],
            [
             0.1,
             "#c51b7d"
            ],
            [
             0.2,
             "#de77ae"
            ],
            [
             0.3,
             "#f1b6da"
            ],
            [
             0.4,
             "#fde0ef"
            ],
            [
             0.5,
             "#f7f7f7"
            ],
            [
             0.6,
             "#e6f5d0"
            ],
            [
             0.7,
             "#b8e186"
            ],
            [
             0.8,
             "#7fbc41"
            ],
            [
             0.9,
             "#4d9221"
            ],
            [
             1,
             "#276419"
            ]
           ],
           "sequential": [
            [
             0,
             "#0d0887"
            ],
            [
             0.1111111111111111,
             "#46039f"
            ],
            [
             0.2222222222222222,
             "#7201a8"
            ],
            [
             0.3333333333333333,
             "#9c179e"
            ],
            [
             0.4444444444444444,
             "#bd3786"
            ],
            [
             0.5555555555555556,
             "#d8576b"
            ],
            [
             0.6666666666666666,
             "#ed7953"
            ],
            [
             0.7777777777777778,
             "#fb9f3a"
            ],
            [
             0.8888888888888888,
             "#fdca26"
            ],
            [
             1,
             "#f0f921"
            ]
           ],
           "sequentialminus": [
            [
             0,
             "#0d0887"
            ],
            [
             0.1111111111111111,
             "#46039f"
            ],
            [
             0.2222222222222222,
             "#7201a8"
            ],
            [
             0.3333333333333333,
             "#9c179e"
            ],
            [
             0.4444444444444444,
             "#bd3786"
            ],
            [
             0.5555555555555556,
             "#d8576b"
            ],
            [
             0.6666666666666666,
             "#ed7953"
            ],
            [
             0.7777777777777778,
             "#fb9f3a"
            ],
            [
             0.8888888888888888,
             "#fdca26"
            ],
            [
             1,
             "#f0f921"
            ]
           ]
          },
          "colorway": [
           "#636efa",
           "#EF553B",
           "#00cc96",
           "#ab63fa",
           "#FFA15A",
           "#19d3f3",
           "#FF6692",
           "#B6E880",
           "#FF97FF",
           "#FECB52"
          ],
          "font": {
           "color": "#2a3f5f"
          },
          "geo": {
           "bgcolor": "white",
           "lakecolor": "white",
           "landcolor": "#E5ECF6",
           "showlakes": true,
           "showland": true,
           "subunitcolor": "white"
          },
          "hoverlabel": {
           "align": "left"
          },
          "hovermode": "closest",
          "mapbox": {
           "style": "light"
          },
          "paper_bgcolor": "white",
          "plot_bgcolor": "#E5ECF6",
          "polar": {
           "angularaxis": {
            "gridcolor": "white",
            "linecolor": "white",
            "ticks": ""
           },
           "bgcolor": "#E5ECF6",
           "radialaxis": {
            "gridcolor": "white",
            "linecolor": "white",
            "ticks": ""
           }
          },
          "scene": {
           "xaxis": {
            "backgroundcolor": "#E5ECF6",
            "gridcolor": "white",
            "gridwidth": 2,
            "linecolor": "white",
            "showbackground": true,
            "ticks": "",
            "zerolinecolor": "white"
           },
           "yaxis": {
            "backgroundcolor": "#E5ECF6",
            "gridcolor": "white",
            "gridwidth": 2,
            "linecolor": "white",
            "showbackground": true,
            "ticks": "",
            "zerolinecolor": "white"
           },
           "zaxis": {
            "backgroundcolor": "#E5ECF6",
            "gridcolor": "white",
            "gridwidth": 2,
            "linecolor": "white",
            "showbackground": true,
            "ticks": "",
            "zerolinecolor": "white"
           }
          },
          "shapedefaults": {
           "line": {
            "color": "#2a3f5f"
           }
          },
          "ternary": {
           "aaxis": {
            "gridcolor": "white",
            "linecolor": "white",
            "ticks": ""
           },
           "baxis": {
            "gridcolor": "white",
            "linecolor": "white",
            "ticks": ""
           },
           "bgcolor": "#E5ECF6",
           "caxis": {
            "gridcolor": "white",
            "linecolor": "white",
            "ticks": ""
           }
          },
          "title": {
           "x": 0.05
          },
          "xaxis": {
           "automargin": true,
           "gridcolor": "white",
           "linecolor": "white",
           "ticks": "",
           "title": {
            "standoff": 15
           },
           "zerolinecolor": "white",
           "zerolinewidth": 2
          },
          "yaxis": {
           "automargin": true,
           "gridcolor": "white",
           "linecolor": "white",
           "ticks": "",
           "title": {
            "standoff": 15
           },
           "zerolinecolor": "white",
           "zerolinewidth": 2
          }
         }
        },
        "title": {
         "text": "Structure"
        }
       }
      }
     },
     "metadata": {}
    },
    {
     "output_type": "display_data",
     "data": {
      "application/vnd.plotly.v1+json": {
       "config": {
        "plotlyServerURL": "https://plot.ly"
       },
       "data": [
        {
         "boxpoints": "all",
         "jitter": 0.2,
         "line": {
          "width": 1
         },
         "marker": {
          "size": 2
         },
         "name": "Charcoal",
         "type": "box",
         "whiskerwidth": 0.2,
         "y": [
          200,
          175,
          80,
          60,
          60,
          35,
          11.82130112544606,
          10,
          9.8
         ]
        },
        {
         "boxpoints": "all",
         "jitter": 0.2,
         "line": {
          "width": 1
         },
         "marker": {
          "size": 2
         },
         "name": "Prime",
         "type": "box",
         "whiskerwidth": 0.2,
         "y": [
          200,
          145,
          50,
          11.99,
          8.2,
          null,
          null,
          null
         ]
        },
        {
         "boxpoints": "all",
         "jitter": 0.2,
         "line": {
          "width": 1
         },
         "marker": {
          "size": 2
         },
         "name": "Topographic",
         "type": "box",
         "whiskerwidth": 0.2,
         "y": [
          66.666,
          32,
          25,
          19.99,
          16,
          null,
          null,
          null
         ]
        },
        {
         "boxpoints": "all",
         "jitter": 0.2,
         "line": {
          "width": 1
         },
         "marker": {
          "size": 2
         },
         "name": "Newsprint",
         "type": "box",
         "whiskerwidth": 0.2,
         "y": [
          50,
          48.88,
          42.69,
          40,
          25,
          24,
          18.9,
          15,
          15,
          15,
          null,
          null
         ]
        },
        {
         "boxpoints": "all",
         "jitter": 0.2,
         "line": {
          "width": 1
         },
         "marker": {
          "size": 2
         },
         "name": "Invert",
         "type": "box",
         "whiskerwidth": 0.2,
         "y": [
          48.888,
          39,
          24,
          22,
          15.59,
          14.99,
          13,
          null,
          null,
          null,
          null,
          null,
          null
         ]
        },
        {
         "boxpoints": "all",
         "jitter": 0.2,
         "line": {
          "width": 1
         },
         "marker": {
          "size": 2
         },
         "name": "Polarized",
         "type": "box",
         "whiskerwidth": 0.2,
         "y": [
          30,
          28.88,
          20,
          20,
          18.95,
          18.75,
          18.5,
          17.5,
          17,
          16.99,
          15,
          15,
          14.9,
          14,
          11.77,
          11.11,
          11,
          11,
          8.88,
          7.9,
          7.8,
          7.48,
          7.25,
          7.1,
          6.99,
          0.01,
          null,
          null,
          null,
          null,
          null,
          null
         ]
        },
        {
         "boxpoints": "all",
         "jitter": 0.2,
         "line": {
          "width": 1
         },
         "marker": {
          "size": 2
         },
         "name": "Watercolour",
         "type": "box",
         "whiskerwidth": 0.2,
         "y": [
          48.57,
          25,
          23.337,
          23,
          22,
          16.5,
          15.9,
          15,
          14,
          13.6969,
          11,
          9.5,
          8.6,
          6.9,
          6.64,
          5.6,
          5.6,
          null,
          null,
          null,
          null,
          null
         ]
        },
        {
         "boxpoints": "all",
         "jitter": 0.2,
         "line": {
          "width": 1
         },
         "marker": {
          "size": 2
         },
         "name": "Gouache",
         "type": "box",
         "whiskerwidth": 0.2,
         "y": [
          28,
          26.5,
          24,
          23.69,
          23,
          23,
          22.99,
          22.99,
          22.5,
          22,
          22,
          21.5,
          21,
          20,
          19.99992336795338,
          18.88,
          18.5,
          18,
          17.5,
          17,
          16.5,
          16.5,
          16.5,
          15.9,
          15.89,
          15,
          15,
          15,
          15,
          15,
          15,
          14,
          13.5,
          13,
          12.95,
          12.95,
          12.69,
          12.5,
          12.5,
          12.43,
          12.4,
          12,
          11.99,
          11.99,
          11.5,
          11.5,
          11.11,
          11,
          11,
          10.97,
          10.5,
          10,
          10,
          10,
          10,
          9.999,
          9.8,
          9.69,
          9.5,
          9,
          8.8,
          8.7,
          8.5,
          8.25,
          8,
          7.99,
          7.98,
          7.9,
          7.7777,
          7.75,
          7.5,
          7.25,
          6.99,
          6.969,
          6.88,
          6.75,
          6.5,
          6.5,
          6.49,
          6.477,
          5.99,
          5.8,
          5.69,
          null,
          null,
          null,
          null,
          null,
          null,
          null,
          null,
          null,
          null,
          null,
          null,
          null,
          null,
          null,
          null
         ]
        },
        {
         "boxpoints": "all",
         "jitter": 0.2,
         "line": {
          "width": 1
         },
         "marker": {
          "size": 2
         },
         "name": "Gilded",
         "type": "box",
         "whiskerwidth": 0.2,
         "y": [
          29.8,
          27.77,
          27.5,
          21.99,
          21,
          20,
          15,
          14.99,
          14,
          13.49,
          11.99,
          11.1111,
          11,
          10.99,
          10.795243773951906,
          9.9,
          9.888,
          9.6,
          7.49,
          7.25,
          6.85,
          6.4,
          null,
          null,
          null,
          null,
          null
         ]
        },
        {
         "boxpoints": "all",
         "jitter": 0.2,
         "line": {
          "width": 1
         },
         "marker": {
          "size": 2
         },
         "name": "Screenprint",
         "type": "box",
         "whiskerwidth": 0.2,
         "y": [
          35,
          32,
          30,
          30,
          26,
          24.069,
          20,
          11.99,
          10.49,
          10,
          8.5,
          7.85,
          7.8,
          7.5,
          7.39,
          6.75,
          null,
          null,
          null,
          null,
          null
         ]
        },
        {
         "boxpoints": "all",
         "jitter": 0.2,
         "line": {
          "width": 1
         },
         "marker": {
          "size": 2
         },
         "name": "Paletted",
         "type": "box",
         "whiskerwidth": 0.2,
         "y": [
          45,
          35,
          35,
          30,
          30,
          29.91,
          28.94,
          28,
          27.5,
          27,
          25,
          25,
          25,
          24.9999,
          24,
          24,
          24,
          24,
          24,
          24,
          23.888,
          23.69,
          23.5,
          23.5,
          22.5,
          22.5,
          22.22,
          22.2,
          22,
          22,
          22,
          22,
          21.99,
          21.99,
          21.5,
          21.5,
          21,
          21,
          21,
          20.69,
          20,
          20,
          20,
          20,
          20,
          19.99,
          19.969,
          19.69,
          19.3,
          19,
          19,
          18.95,
          18.5,
          18.5,
          18.5,
          18.1337,
          18,
          18,
          18,
          18,
          18,
          18,
          18,
          18,
          18,
          17.99,
          17.99,
          17.98,
          17.95,
          17.5,
          17.167257721296323,
          17,
          17,
          17,
          16.99,
          16.69,
          16,
          16,
          15.99,
          15.9,
          15.9,
          15.9,
          15.8,
          15.241146984315206,
          15,
          15,
          15,
          15,
          15,
          15,
          15,
          14.99,
          14.95,
          14.9,
          14.69,
          14.5,
          14,
          14,
          14,
          14,
          14,
          14,
          14,
          14,
          13.9,
          13.8,
          13.75,
          13.5,
          13.5,
          13.5,
          13.33,
          13.3,
          13.2,
          13,
          13,
          13,
          13,
          12.888,
          12.8,
          12.8,
          12.8,
          12.69,
          12.69,
          12.65,
          12.5,
          12.5,
          12.45,
          12.4,
          12.4,
          12.35,
          12.29,
          12,
          12,
          12,
          12,
          12,
          12,
          12,
          12,
          12,
          12,
          12,
          12,
          11.99,
          11.98,
          11.96,
          11.9,
          11.9,
          11.88,
          11.8,
          11.8,
          11.75,
          11.75,
          11.5,
          11.5,
          11.5,
          11.45,
          11.4,
          11.3,
          11.11,
          11.11,
          11.11,
          11,
          11,
          11,
          11,
          11,
          11,
          10.99,
          10.98,
          10.96,
          10.9,
          10.9,
          10.88,
          10.88,
          10.69,
          10.5,
          10.25,
          10,
          10,
          10,
          10,
          9.9999,
          9.99,
          9.99,
          9.99,
          9.9,
          9.88,
          9.8,
          9.8,
          9.8,
          9.8,
          9.8,
          9.69,
          9.69,
          9.69,
          9.5,
          9.5,
          9.5,
          9.5,
          9.4,
          9.25,
          9.1,
          9,
          9,
          9,
          9,
          8.99,
          8.85,
          8.8,
          8.8,
          8.7654,
          8.75,
          8.69,
          8.6,
          8.6,
          8.5,
          8.5,
          8.49,
          8.469,
          8.2,
          8.1,
          8.1,
          8,
          8,
          8,
          8,
          8,
          8,
          8,
          8,
          8,
          7.99,
          7.9,
          7.77,
          7.7,
          7.7,
          7.66,
          7.536953642384106,
          7.5,
          7.5,
          7.5,
          7.5,
          7.5,
          7.49,
          7.49,
          7.49,
          7.4888,
          7.4,
          7.35,
          7.3,
          7.25,
          7.22,
          7.2,
          7.1499,
          7.123,
          7.1,
          7.1,
          7.1,
          7,
          7,
          7,
          7,
          7,
          6.99,
          6.99,
          6.99,
          6.9,
          6.9,
          6.9,
          6.9,
          6.89,
          6.79,
          6.75,
          6.7,
          6.68,
          6.68,
          6.6,
          6.6,
          6.5,
          6.5,
          6.5,
          6.5,
          6.5,
          6.49,
          6.49,
          6.49,
          6.4,
          6.4,
          6.4,
          6.35,
          6.3,
          6.29,
          6.29,
          6.21,
          6.19,
          6.1,
          6,
          6,
          5.99,
          5.99,
          5.97,
          5.95,
          5.9,
          5.8888,
          5.85,
          5.85,
          5.8,
          5.8,
          5.77,
          5.75,
          5.75,
          5.7,
          5.7,
          5.6,
          5.555,
          5.55,
          5.5,
          5.5,
          null,
          null,
          null,
          null,
          null,
          null,
          null,
          null,
          null,
          null,
          null,
          null,
          null,
          null,
          null,
          null,
          null,
          null,
          null,
          null,
          null,
          null,
          null,
          null,
          null,
          null,
          null,
          null,
          null,
          null,
          null,
          null,
          null,
          null,
          null,
          null,
          null,
          null,
          null,
          null,
          null,
          null,
          null,
          null,
          null,
          null,
          null,
          null,
          null,
          null,
          null,
          null,
          null,
          null,
          null,
          null,
          null,
          null,
          null,
          null,
          null,
          null,
          null,
          null,
          null,
          null,
          null,
          null,
          null,
          null,
          null,
          null,
          null,
          null,
          null,
          null,
          null,
          null,
          null,
          null,
          null,
          null,
          null,
          null,
          null,
          null,
          null,
          null
         ]
        },
        {
         "boxpoints": "all",
         "jitter": 0.2,
         "line": {
          "width": 1
         },
         "marker": {
          "size": 2
         },
         "name": "Procedural",
         "type": "box",
         "whiskerwidth": 0.2,
         "y": [
          24.69,
          24.5,
          21,
          19.5,
          19.2,
          18.88,
          18,
          18,
          18,
          15,
          15,
          14,
          13.99,
          13.9,
          13.5,
          13,
          12.88,
          12.5,
          12,
          11.95,
          11.75,
          10.97,
          9.99,
          8.99,
          8.98,
          8.89,
          8.85,
          8.79,
          8.44,
          8.432,
          7.99,
          7.5,
          7.4,
          7.3,
          7.24,
          7.1,
          6.98,
          6.9,
          6.8,
          6.4,
          6.25,
          5.93,
          5.8,
          5.7,
          null,
          null,
          null,
          null,
          null,
          null,
          null,
          null,
          null,
          null,
          null,
          null,
          null,
          null,
          null,
          null
         ]
        },
        {
         "boxpoints": "all",
         "jitter": 0.2,
         "line": {
          "width": 1
         },
         "marker": {
          "size": 2
         },
         "name": "Lino",
         "type": "box",
         "whiskerwidth": 0.2,
         "y": [
          35,
          30,
          22,
          20,
          14.9999,
          13.99,
          8.99,
          8.49,
          8.4,
          7.5,
          7.4,
          7,
          6.3,
          null,
          null,
          null,
          null,
          null,
          null,
          null
         ]
        },
        {
         "boxpoints": "all",
         "jitter": 0.2,
         "line": {
          "width": 1
         },
         "marker": {
          "size": 2
         },
         "name": "Prismatic",
         "type": "box",
         "whiskerwidth": 0.2,
         "y": [
          33,
          26,
          25.4,
          25,
          23.99,
          23,
          23,
          22.22,
          22.22,
          22,
          21.9,
          21.5,
          20.9,
          20.75,
          20.69,
          20,
          20,
          20,
          19.99,
          19.5,
          19.5,
          19,
          19,
          18.5,
          18.5,
          18,
          18,
          17.9,
          17.5,
          17.43,
          16.942,
          16.25,
          16,
          15.5,
          14.8869,
          14.88,
          14.6969,
          14.6969,
          14.6,
          14.5,
          14.5,
          14.216,
          14.2069,
          14,
          13.888,
          13.85,
          13.69,
          13.69,
          13,
          13,
          12.99,
          12.75,
          12.5,
          12.5,
          12,
          12,
          12,
          12,
          12,
          12,
          12,
          12,
          12,
          11.99,
          11.98,
          11.95,
          11.9,
          11.88,
          11.85,
          11.5,
          11.5,
          11.5,
          11.25,
          11.11,
          11,
          11,
          11,
          10.7,
          10.5,
          10.4,
          10.4,
          10,
          10,
          10,
          9.98,
          9.9,
          9.9,
          9.9,
          9.9,
          9.9,
          9.88,
          9.8,
          9.8,
          9.7,
          9.5,
          9.3,
          9.1,
          9,
          9,
          9,
          9,
          8.98,
          8.88,
          8.88,
          8.88,
          8.8,
          8.8,
          8.79,
          8.75,
          8.75,
          8.5,
          8.5,
          8.5,
          8.4,
          8.35,
          8.2,
          8,
          8,
          8,
          8,
          8,
          8,
          8,
          8,
          7.9999,
          7.99,
          7.99,
          7.99,
          7.99,
          7.9,
          7.9,
          7.85,
          7.8,
          7.77,
          7.75,
          7.7,
          7.7,
          7.7,
          7.5,
          7.5,
          7.5,
          7.5,
          7.5,
          7.5,
          7.4999,
          7.49,
          7.49,
          7.49,
          7.47,
          7.45,
          7.45,
          7.44,
          7.35,
          7.3,
          7.25,
          7.25,
          7.2,
          7.2,
          7.2,
          7.1111,
          7.1,
          7.095,
          7.069,
          7,
          6.99,
          6.99,
          6.99,
          6.99,
          6.97,
          6.95,
          6.9,
          6.89,
          6.89,
          6.88,
          6.8,
          6.78,
          6.72,
          6.69,
          6.66,
          6.66,
          6.6,
          6.5,
          6.5,
          6.469,
          6.4,
          6.4,
          6.39,
          6.39,
          6.33,
          6.29,
          6.23,
          6.1,
          6,
          6,
          6,
          6,
          5.97,
          5.9,
          5.9,
          5.869,
          5.85,
          5.8,
          5.8,
          5.75,
          null,
          null,
          null,
          null,
          null,
          null,
          null,
          null,
          null,
          null,
          null,
          null,
          null,
          null,
          null,
          null,
          null,
          null,
          null,
          null,
          null,
          null,
          null,
          null,
          null,
          null,
          null,
          null,
          null,
          null,
          null,
          null,
          null,
          null,
          null,
          null,
          null,
          null,
          null,
          null,
          null,
          null,
          null,
          null,
          null,
          null,
          null,
          null,
          null,
          null,
          null,
          null,
          null,
          null,
          null,
          null,
          null,
          null
         ]
        }
       ],
       "layout": {
        "template": {
         "data": {
          "bar": [
           {
            "error_x": {
             "color": "#2a3f5f"
            },
            "error_y": {
             "color": "#2a3f5f"
            },
            "marker": {
             "line": {
              "color": "#E5ECF6",
              "width": 0.5
             },
             "pattern": {
              "fillmode": "overlay",
              "size": 10,
              "solidity": 0.2
             }
            },
            "type": "bar"
           }
          ],
          "barpolar": [
           {
            "marker": {
             "line": {
              "color": "#E5ECF6",
              "width": 0.5
             },
             "pattern": {
              "fillmode": "overlay",
              "size": 10,
              "solidity": 0.2
             }
            },
            "type": "barpolar"
           }
          ],
          "carpet": [
           {
            "aaxis": {
             "endlinecolor": "#2a3f5f",
             "gridcolor": "white",
             "linecolor": "white",
             "minorgridcolor": "white",
             "startlinecolor": "#2a3f5f"
            },
            "baxis": {
             "endlinecolor": "#2a3f5f",
             "gridcolor": "white",
             "linecolor": "white",
             "minorgridcolor": "white",
             "startlinecolor": "#2a3f5f"
            },
            "type": "carpet"
           }
          ],
          "choropleth": [
           {
            "colorbar": {
             "outlinewidth": 0,
             "ticks": ""
            },
            "type": "choropleth"
           }
          ],
          "contour": [
           {
            "colorbar": {
             "outlinewidth": 0,
             "ticks": ""
            },
            "colorscale": [
             [
              0,
              "#0d0887"
             ],
             [
              0.1111111111111111,
              "#46039f"
             ],
             [
              0.2222222222222222,
              "#7201a8"
             ],
             [
              0.3333333333333333,
              "#9c179e"
             ],
             [
              0.4444444444444444,
              "#bd3786"
             ],
             [
              0.5555555555555556,
              "#d8576b"
             ],
             [
              0.6666666666666666,
              "#ed7953"
             ],
             [
              0.7777777777777778,
              "#fb9f3a"
             ],
             [
              0.8888888888888888,
              "#fdca26"
             ],
             [
              1,
              "#f0f921"
             ]
            ],
            "type": "contour"
           }
          ],
          "contourcarpet": [
           {
            "colorbar": {
             "outlinewidth": 0,
             "ticks": ""
            },
            "type": "contourcarpet"
           }
          ],
          "heatmap": [
           {
            "colorbar": {
             "outlinewidth": 0,
             "ticks": ""
            },
            "colorscale": [
             [
              0,
              "#0d0887"
             ],
             [
              0.1111111111111111,
              "#46039f"
             ],
             [
              0.2222222222222222,
              "#7201a8"
             ],
             [
              0.3333333333333333,
              "#9c179e"
             ],
             [
              0.4444444444444444,
              "#bd3786"
             ],
             [
              0.5555555555555556,
              "#d8576b"
             ],
             [
              0.6666666666666666,
              "#ed7953"
             ],
             [
              0.7777777777777778,
              "#fb9f3a"
             ],
             [
              0.8888888888888888,
              "#fdca26"
             ],
             [
              1,
              "#f0f921"
             ]
            ],
            "type": "heatmap"
           }
          ],
          "heatmapgl": [
           {
            "colorbar": {
             "outlinewidth": 0,
             "ticks": ""
            },
            "colorscale": [
             [
              0,
              "#0d0887"
             ],
             [
              0.1111111111111111,
              "#46039f"
             ],
             [
              0.2222222222222222,
              "#7201a8"
             ],
             [
              0.3333333333333333,
              "#9c179e"
             ],
             [
              0.4444444444444444,
              "#bd3786"
             ],
             [
              0.5555555555555556,
              "#d8576b"
             ],
             [
              0.6666666666666666,
              "#ed7953"
             ],
             [
              0.7777777777777778,
              "#fb9f3a"
             ],
             [
              0.8888888888888888,
              "#fdca26"
             ],
             [
              1,
              "#f0f921"
             ]
            ],
            "type": "heatmapgl"
           }
          ],
          "histogram": [
           {
            "marker": {
             "pattern": {
              "fillmode": "overlay",
              "size": 10,
              "solidity": 0.2
             }
            },
            "type": "histogram"
           }
          ],
          "histogram2d": [
           {
            "colorbar": {
             "outlinewidth": 0,
             "ticks": ""
            },
            "colorscale": [
             [
              0,
              "#0d0887"
             ],
             [
              0.1111111111111111,
              "#46039f"
             ],
             [
              0.2222222222222222,
              "#7201a8"
             ],
             [
              0.3333333333333333,
              "#9c179e"
             ],
             [
              0.4444444444444444,
              "#bd3786"
             ],
             [
              0.5555555555555556,
              "#d8576b"
             ],
             [
              0.6666666666666666,
              "#ed7953"
             ],
             [
              0.7777777777777778,
              "#fb9f3a"
             ],
             [
              0.8888888888888888,
              "#fdca26"
             ],
             [
              1,
              "#f0f921"
             ]
            ],
            "type": "histogram2d"
           }
          ],
          "histogram2dcontour": [
           {
            "colorbar": {
             "outlinewidth": 0,
             "ticks": ""
            },
            "colorscale": [
             [
              0,
              "#0d0887"
             ],
             [
              0.1111111111111111,
              "#46039f"
             ],
             [
              0.2222222222222222,
              "#7201a8"
             ],
             [
              0.3333333333333333,
              "#9c179e"
             ],
             [
              0.4444444444444444,
              "#bd3786"
             ],
             [
              0.5555555555555556,
              "#d8576b"
             ],
             [
              0.6666666666666666,
              "#ed7953"
             ],
             [
              0.7777777777777778,
              "#fb9f3a"
             ],
             [
              0.8888888888888888,
              "#fdca26"
             ],
             [
              1,
              "#f0f921"
             ]
            ],
            "type": "histogram2dcontour"
           }
          ],
          "mesh3d": [
           {
            "colorbar": {
             "outlinewidth": 0,
             "ticks": ""
            },
            "type": "mesh3d"
           }
          ],
          "parcoords": [
           {
            "line": {
             "colorbar": {
              "outlinewidth": 0,
              "ticks": ""
             }
            },
            "type": "parcoords"
           }
          ],
          "pie": [
           {
            "automargin": true,
            "type": "pie"
           }
          ],
          "scatter": [
           {
            "marker": {
             "colorbar": {
              "outlinewidth": 0,
              "ticks": ""
             }
            },
            "type": "scatter"
           }
          ],
          "scatter3d": [
           {
            "line": {
             "colorbar": {
              "outlinewidth": 0,
              "ticks": ""
             }
            },
            "marker": {
             "colorbar": {
              "outlinewidth": 0,
              "ticks": ""
             }
            },
            "type": "scatter3d"
           }
          ],
          "scattercarpet": [
           {
            "marker": {
             "colorbar": {
              "outlinewidth": 0,
              "ticks": ""
             }
            },
            "type": "scattercarpet"
           }
          ],
          "scattergeo": [
           {
            "marker": {
             "colorbar": {
              "outlinewidth": 0,
              "ticks": ""
             }
            },
            "type": "scattergeo"
           }
          ],
          "scattergl": [
           {
            "marker": {
             "colorbar": {
              "outlinewidth": 0,
              "ticks": ""
             }
            },
            "type": "scattergl"
           }
          ],
          "scattermapbox": [
           {
            "marker": {
             "colorbar": {
              "outlinewidth": 0,
              "ticks": ""
             }
            },
            "type": "scattermapbox"
           }
          ],
          "scatterpolar": [
           {
            "marker": {
             "colorbar": {
              "outlinewidth": 0,
              "ticks": ""
             }
            },
            "type": "scatterpolar"
           }
          ],
          "scatterpolargl": [
           {
            "marker": {
             "colorbar": {
              "outlinewidth": 0,
              "ticks": ""
             }
            },
            "type": "scatterpolargl"
           }
          ],
          "scatterternary": [
           {
            "marker": {
             "colorbar": {
              "outlinewidth": 0,
              "ticks": ""
             }
            },
            "type": "scatterternary"
           }
          ],
          "surface": [
           {
            "colorbar": {
             "outlinewidth": 0,
             "ticks": ""
            },
            "colorscale": [
             [
              0,
              "#0d0887"
             ],
             [
              0.1111111111111111,
              "#46039f"
             ],
             [
              0.2222222222222222,
              "#7201a8"
             ],
             [
              0.3333333333333333,
              "#9c179e"
             ],
             [
              0.4444444444444444,
              "#bd3786"
             ],
             [
              0.5555555555555556,
              "#d8576b"
             ],
             [
              0.6666666666666666,
              "#ed7953"
             ],
             [
              0.7777777777777778,
              "#fb9f3a"
             ],
             [
              0.8888888888888888,
              "#fdca26"
             ],
             [
              1,
              "#f0f921"
             ]
            ],
            "type": "surface"
           }
          ],
          "table": [
           {
            "cells": {
             "fill": {
              "color": "#EBF0F8"
             },
             "line": {
              "color": "white"
             }
            },
            "header": {
             "fill": {
              "color": "#C8D4E3"
             },
             "line": {
              "color": "white"
             }
            },
            "type": "table"
           }
          ]
         },
         "layout": {
          "annotationdefaults": {
           "arrowcolor": "#2a3f5f",
           "arrowhead": 0,
           "arrowwidth": 1
          },
          "autotypenumbers": "strict",
          "coloraxis": {
           "colorbar": {
            "outlinewidth": 0,
            "ticks": ""
           }
          },
          "colorscale": {
           "diverging": [
            [
             0,
             "#8e0152"
            ],
            [
             0.1,
             "#c51b7d"
            ],
            [
             0.2,
             "#de77ae"
            ],
            [
             0.3,
             "#f1b6da"
            ],
            [
             0.4,
             "#fde0ef"
            ],
            [
             0.5,
             "#f7f7f7"
            ],
            [
             0.6,
             "#e6f5d0"
            ],
            [
             0.7,
             "#b8e186"
            ],
            [
             0.8,
             "#7fbc41"
            ],
            [
             0.9,
             "#4d9221"
            ],
            [
             1,
             "#276419"
            ]
           ],
           "sequential": [
            [
             0,
             "#0d0887"
            ],
            [
             0.1111111111111111,
             "#46039f"
            ],
            [
             0.2222222222222222,
             "#7201a8"
            ],
            [
             0.3333333333333333,
             "#9c179e"
            ],
            [
             0.4444444444444444,
             "#bd3786"
            ],
            [
             0.5555555555555556,
             "#d8576b"
            ],
            [
             0.6666666666666666,
             "#ed7953"
            ],
            [
             0.7777777777777778,
             "#fb9f3a"
            ],
            [
             0.8888888888888888,
             "#fdca26"
            ],
            [
             1,
             "#f0f921"
            ]
           ],
           "sequentialminus": [
            [
             0,
             "#0d0887"
            ],
            [
             0.1111111111111111,
             "#46039f"
            ],
            [
             0.2222222222222222,
             "#7201a8"
            ],
            [
             0.3333333333333333,
             "#9c179e"
            ],
            [
             0.4444444444444444,
             "#bd3786"
            ],
            [
             0.5555555555555556,
             "#d8576b"
            ],
            [
             0.6666666666666666,
             "#ed7953"
            ],
            [
             0.7777777777777778,
             "#fb9f3a"
            ],
            [
             0.8888888888888888,
             "#fdca26"
            ],
            [
             1,
             "#f0f921"
            ]
           ]
          },
          "colorway": [
           "#636efa",
           "#EF553B",
           "#00cc96",
           "#ab63fa",
           "#FFA15A",
           "#19d3f3",
           "#FF6692",
           "#B6E880",
           "#FF97FF",
           "#FECB52"
          ],
          "font": {
           "color": "#2a3f5f"
          },
          "geo": {
           "bgcolor": "white",
           "lakecolor": "white",
           "landcolor": "#E5ECF6",
           "showlakes": true,
           "showland": true,
           "subunitcolor": "white"
          },
          "hoverlabel": {
           "align": "left"
          },
          "hovermode": "closest",
          "mapbox": {
           "style": "light"
          },
          "paper_bgcolor": "white",
          "plot_bgcolor": "#E5ECF6",
          "polar": {
           "angularaxis": {
            "gridcolor": "white",
            "linecolor": "white",
            "ticks": ""
           },
           "bgcolor": "#E5ECF6",
           "radialaxis": {
            "gridcolor": "white",
            "linecolor": "white",
            "ticks": ""
           }
          },
          "scene": {
           "xaxis": {
            "backgroundcolor": "#E5ECF6",
            "gridcolor": "white",
            "gridwidth": 2,
            "linecolor": "white",
            "showbackground": true,
            "ticks": "",
            "zerolinecolor": "white"
           },
           "yaxis": {
            "backgroundcolor": "#E5ECF6",
            "gridcolor": "white",
            "gridwidth": 2,
            "linecolor": "white",
            "showbackground": true,
            "ticks": "",
            "zerolinecolor": "white"
           },
           "zaxis": {
            "backgroundcolor": "#E5ECF6",
            "gridcolor": "white",
            "gridwidth": 2,
            "linecolor": "white",
            "showbackground": true,
            "ticks": "",
            "zerolinecolor": "white"
           }
          },
          "shapedefaults": {
           "line": {
            "color": "#2a3f5f"
           }
          },
          "ternary": {
           "aaxis": {
            "gridcolor": "white",
            "linecolor": "white",
            "ticks": ""
           },
           "baxis": {
            "gridcolor": "white",
            "linecolor": "white",
            "ticks": ""
           },
           "bgcolor": "#E5ECF6",
           "caxis": {
            "gridcolor": "white",
            "linecolor": "white",
            "ticks": ""
           }
          },
          "title": {
           "x": 0.05
          },
          "xaxis": {
           "automargin": true,
           "gridcolor": "white",
           "linecolor": "white",
           "ticks": "",
           "title": {
            "standoff": 15
           },
           "zerolinecolor": "white",
           "zerolinewidth": 2
          },
          "yaxis": {
           "automargin": true,
           "gridcolor": "white",
           "linecolor": "white",
           "ticks": "",
           "title": {
            "standoff": 15
           },
           "zerolinecolor": "white",
           "zerolinewidth": 2
          }
         }
        },
        "title": {
         "text": "Style"
        }
       }
      }
     },
     "metadata": {}
    },
    {
     "output_type": "display_data",
     "data": {
      "application/vnd.plotly.v1+json": {
       "config": {
        "plotlyServerURL": "https://plot.ly"
       },
       "data": [
        {
         "boxpoints": "all",
         "jitter": 0.2,
         "line": {
          "width": 1
         },
         "marker": {
          "size": 2
         },
         "name": "Medium",
         "type": "box",
         "whiskerwidth": 0.2,
         "y": [
          200,
          50,
          48.888,
          48.88,
          40,
          35,
          35,
          33,
          30,
          30,
          30,
          30,
          28.94,
          28,
          28,
          26,
          26,
          24.9999,
          24.5,
          24,
          24,
          23.99,
          23.5,
          23.5,
          23.337,
          23,
          23,
          22.99,
          22.5,
          22.22,
          22,
          22,
          22,
          21.99,
          21.5,
          21,
          20,
          20,
          20,
          20,
          20,
          19.99992336795338,
          19.969,
          19.5,
          19.5,
          19,
          19,
          19,
          19,
          18.95,
          18.88,
          18.75,
          18.5,
          18.5,
          18.1337,
          18,
          18,
          18,
          18,
          18,
          17.99,
          17.98,
          17.9,
          17.5,
          17.5,
          17.43,
          17,
          17,
          17,
          16.942,
          16.5,
          15.59,
          15.5,
          15.241146984315206,
          15,
          15,
          15,
          15,
          15,
          15,
          15,
          14.99,
          14.99,
          14.9,
          14.8869,
          14.6969,
          14.69,
          14.6,
          14.216,
          14.2069,
          14,
          14,
          14,
          14,
          13.99,
          13.85,
          13.8,
          13.75,
          13.69,
          13.33,
          13.3,
          13.2,
          13,
          13,
          13,
          13,
          13,
          12.99,
          12.88,
          12.8,
          12.65,
          12.4,
          12,
          12,
          12,
          12,
          12,
          12,
          12,
          12,
          12,
          11.98,
          11.9,
          11.8,
          11.8,
          11.75,
          11.75,
          11.5,
          11.5,
          11.5,
          11.5,
          11.5,
          11.11,
          11,
          11,
          11,
          11,
          10.99,
          10.97,
          10.9,
          10.69,
          10.5,
          10,
          10,
          10,
          10,
          9.9,
          9.9,
          9.88,
          9.88,
          9.8,
          9.8,
          9.8,
          9.5,
          9.5,
          9.5,
          9.4,
          9.25,
          9.1,
          9,
          9,
          9,
          8.99,
          8.99,
          8.98,
          8.88,
          8.88,
          8.8,
          8.79,
          8.79,
          8.69,
          8.5,
          8.5,
          8.5,
          8.49,
          8.469,
          8.432,
          8.4,
          8.35,
          8.1,
          8,
          8,
          8,
          7.9999,
          7.9,
          7.9,
          7.8,
          7.8,
          7.8,
          7.7,
          7.66,
          7.5,
          7.5,
          7.5,
          7.5,
          7.5,
          7.5,
          7.49,
          7.49,
          7.47,
          7.4,
          7.4,
          7.4,
          7.39,
          7.3,
          7.3,
          7.25,
          7.25,
          7.25,
          7.1499,
          7.1111,
          7.1,
          7.095,
          7,
          6.99,
          6.99,
          6.99,
          6.99,
          6.99,
          6.9,
          6.9,
          6.9,
          6.89,
          6.79,
          6.78,
          6.69,
          6.6,
          6.5,
          6.5,
          6.5,
          6.49,
          6.477,
          6.4,
          6.4,
          6.29,
          6.25,
          6,
          6,
          6,
          6,
          5.99,
          5.97,
          5.97,
          5.95,
          5.9,
          5.85,
          5.85,
          5.8,
          5.77,
          5.75,
          5.75,
          5.75,
          5.7,
          5.6,
          5.55,
          0.01,
          null,
          null,
          null,
          null,
          null,
          null,
          null,
          null,
          null,
          null,
          null,
          null,
          null,
          null,
          null,
          null,
          null,
          null,
          null,
          null,
          null,
          null,
          null,
          null,
          null,
          null,
          null,
          null,
          null,
          null,
          null,
          null,
          null,
          null,
          null,
          null,
          null,
          null,
          null,
          null,
          null,
          null,
          null,
          null,
          null,
          null,
          null,
          null,
          null,
          null,
          null,
          null,
          null,
          null,
          null,
          null,
          null,
          null,
          null,
          null,
          null,
          null,
          null,
          null,
          null,
          null,
          null,
          null,
          null,
          null,
          null
         ]
        },
        {
         "boxpoints": "all",
         "jitter": 0.2,
         "line": {
          "width": 1
         },
         "marker": {
          "size": 2
         },
         "name": "Close",
         "type": "box",
         "whiskerwidth": 0.2,
         "y": [
          50,
          48.57,
          45,
          42.69,
          35,
          35,
          32,
          30,
          30,
          29.8,
          27.77,
          27.5,
          27,
          25.4,
          25,
          25,
          25,
          24.69,
          24.069,
          24,
          24,
          24,
          24,
          23,
          22.99,
          22,
          22,
          22,
          21.99,
          21.5,
          21,
          21,
          21,
          21,
          20.9,
          20.69,
          20.69,
          20,
          20,
          20,
          20,
          20,
          20,
          20,
          19.99,
          19.69,
          19.3,
          19.2,
          18.9,
          18.88,
          18.5,
          18.5,
          18,
          18,
          18,
          18,
          18,
          17.99,
          17.95,
          17.5,
          17,
          17,
          16.99,
          16.99,
          16.5,
          16.5,
          16.25,
          16,
          16,
          15.99,
          15.9,
          15.9,
          15.9,
          15.9,
          15.89,
          15,
          15,
          15,
          15,
          15,
          15,
          15,
          15,
          14.9999,
          14.99,
          14.9,
          14.88,
          14.6969,
          14.5,
          14.5,
          14.5,
          14,
          14,
          14,
          14,
          14,
          14,
          13.9,
          13.6969,
          13.5,
          13.5,
          13.5,
          13.49,
          13,
          12.95,
          12.95,
          12.75,
          12.69,
          12.69,
          12.5,
          12.5,
          12.5,
          12.5,
          12.5,
          12.45,
          12.43,
          12.35,
          12.29,
          12,
          12,
          12,
          12,
          12,
          12,
          11.99,
          11.99,
          11.99,
          11.98,
          11.96,
          11.95,
          11.95,
          11.88,
          11.75,
          11.5,
          11.5,
          11.5,
          11.45,
          11.4,
          11.1111,
          11.11,
          11.11,
          11,
          11,
          11,
          11,
          10.99,
          10.97,
          10.96,
          10.795243773951906,
          10.7,
          10.5,
          10.49,
          10.4,
          10,
          10,
          10,
          10,
          9.999,
          9.99,
          9.99,
          9.99,
          9.98,
          9.9,
          9.888,
          9.8,
          9.8,
          9.8,
          9.69,
          9.69,
          9.6,
          9.5,
          9.5,
          9.1,
          9,
          9,
          8.88,
          8.85,
          8.85,
          8.8,
          8.75,
          8.75,
          8.6,
          8.5,
          8.5,
          8.49,
          8.2,
          8,
          8,
          8,
          8,
          8,
          8,
          8,
          8,
          8,
          7.99,
          7.99,
          7.99,
          7.99,
          7.99,
          7.99,
          7.99,
          7.98,
          7.9,
          7.9,
          7.85,
          7.75,
          7.75,
          7.7,
          7.7,
          7.536953642384106,
          7.5,
          7.5,
          7.4999,
          7.49,
          7.49,
          7.49,
          7.35,
          7.35,
          7.25,
          7.25,
          7.24,
          7.2,
          7.2,
          7.123,
          7.1,
          7.1,
          7.1,
          7.069,
          7,
          7,
          7,
          6.99,
          6.99,
          6.98,
          6.97,
          6.9,
          6.9,
          6.9,
          6.88,
          6.85,
          6.8,
          6.8,
          6.75,
          6.75,
          6.72,
          6.68,
          6.68,
          6.66,
          6.5,
          6.5,
          6.5,
          6.49,
          6.469,
          6.4,
          6.4,
          6.4,
          6.39,
          6.35,
          6.21,
          6.19,
          6.1,
          6.1,
          6,
          5.99,
          5.99,
          5.93,
          5.8888,
          5.869,
          5.8,
          5.8,
          5.69,
          5.6,
          5.5,
          null,
          null,
          null,
          null,
          null,
          null,
          null,
          null,
          null,
          null,
          null,
          null,
          null,
          null,
          null,
          null,
          null,
          null,
          null,
          null,
          null,
          null,
          null,
          null,
          null,
          null,
          null,
          null,
          null,
          null,
          null,
          null,
          null,
          null,
          null,
          null,
          null,
          null,
          null,
          null,
          null,
          null,
          null,
          null,
          null,
          null,
          null,
          null,
          null,
          null,
          null,
          null,
          null,
          null,
          null,
          null,
          null,
          null,
          null,
          null,
          null,
          null,
          null,
          null,
          null,
          null,
          null,
          null,
          null,
          null,
          null,
          null,
          null
         ]
        },
        {
         "boxpoints": "all",
         "jitter": 0.2,
         "line": {
          "width": 1
         },
         "marker": {
          "size": 2
         },
         "name": "Far",
         "type": "box",
         "whiskerwidth": 0.2,
         "y": [
          200,
          175,
          145,
          80,
          66.666,
          60,
          60,
          39,
          35,
          32,
          29.91,
          28.88,
          27.5,
          26.5,
          25,
          25,
          25,
          25,
          24,
          24,
          24,
          23.888,
          23.69,
          23.69,
          23,
          23,
          22.5,
          22.5,
          22.22,
          22.22,
          22.2,
          22,
          22,
          22,
          22,
          21.99,
          21.9,
          21.5,
          21.5,
          21,
          20.75,
          20,
          20,
          19.99,
          19.99,
          19.5,
          18.95,
          18.5,
          18.5,
          18.5,
          18,
          18,
          18,
          18,
          18,
          17.5,
          17.167257721296323,
          16.69,
          16.5,
          16,
          16,
          15.9,
          15.8,
          15,
          15,
          15,
          15,
          15,
          15,
          15,
          14.95,
          14,
          14,
          14,
          14,
          13.99,
          13.9,
          13.888,
          13.69,
          13.5,
          13.5,
          13,
          13,
          13,
          12.888,
          12.8,
          12.8,
          12.69,
          12.5,
          12.5,
          12.4,
          12.4,
          12,
          12,
          12,
          12,
          12,
          12,
          12,
          12,
          11.99,
          11.99,
          11.99,
          11.99,
          11.9,
          11.9,
          11.88,
          11.85,
          11.82130112544606,
          11.77,
          11.3,
          11.25,
          11.11,
          11.11,
          11.11,
          11,
          11,
          11,
          11,
          11,
          11,
          11,
          10.98,
          10.9,
          10.88,
          10.88,
          10.5,
          10.4,
          10.25,
          10,
          10,
          10,
          10,
          10,
          9.9999,
          9.99,
          9.9,
          9.9,
          9.9,
          9.9,
          9.8,
          9.8,
          9.8,
          9.7,
          9.69,
          9.69,
          9.5,
          9.5,
          9.3,
          9,
          9,
          9,
          9,
          8.99,
          8.98,
          8.89,
          8.88,
          8.8,
          8.8,
          8.8,
          8.7654,
          8.75,
          8.7,
          8.6,
          8.6,
          8.5,
          8.5,
          8.44,
          8.4,
          8.25,
          8.2,
          8.2,
          8.1,
          8,
          8,
          8,
          8,
          8,
          8,
          7.9,
          7.85,
          7.7777,
          7.77,
          7.77,
          7.7,
          7.7,
          7.5,
          7.5,
          7.5,
          7.5,
          7.5,
          7.5,
          7.5,
          7.49,
          7.49,
          7.4888,
          7.48,
          7.45,
          7.45,
          7.44,
          7.3,
          7.25,
          7.22,
          7.2,
          7.2,
          7.1,
          7.1,
          7,
          7,
          7,
          6.99,
          6.99,
          6.969,
          6.95,
          6.9,
          6.89,
          6.89,
          6.88,
          6.75,
          6.7,
          6.66,
          6.64,
          6.6,
          6.6,
          6.5,
          6.5,
          6.5,
          6.49,
          6.49,
          6.4,
          6.4,
          6.39,
          6.33,
          6.3,
          6.3,
          6.29,
          6.29,
          6.23,
          6,
          5.9,
          5.9,
          5.85,
          5.8,
          5.8,
          5.8,
          5.7,
          5.7,
          5.6,
          5.555,
          5.5,
          null,
          null,
          null,
          null,
          null,
          null,
          null,
          null,
          null,
          null,
          null,
          null,
          null,
          null,
          null,
          null,
          null,
          null,
          null,
          null,
          null,
          null,
          null,
          null,
          null,
          null,
          null,
          null,
          null,
          null,
          null,
          null,
          null,
          null,
          null,
          null,
          null,
          null,
          null,
          null,
          null,
          null,
          null,
          null,
          null,
          null,
          null,
          null,
          null,
          null,
          null,
          null,
          null,
          null,
          null,
          null,
          null,
          null,
          null,
          null,
          null,
          null,
          null,
          null,
          null,
          null,
          null,
          null,
          null,
          null,
          null,
          null,
          null,
          null,
          null,
          null
         ]
        }
       ],
       "layout": {
        "template": {
         "data": {
          "bar": [
           {
            "error_x": {
             "color": "#2a3f5f"
            },
            "error_y": {
             "color": "#2a3f5f"
            },
            "marker": {
             "line": {
              "color": "#E5ECF6",
              "width": 0.5
             },
             "pattern": {
              "fillmode": "overlay",
              "size": 10,
              "solidity": 0.2
             }
            },
            "type": "bar"
           }
          ],
          "barpolar": [
           {
            "marker": {
             "line": {
              "color": "#E5ECF6",
              "width": 0.5
             },
             "pattern": {
              "fillmode": "overlay",
              "size": 10,
              "solidity": 0.2
             }
            },
            "type": "barpolar"
           }
          ],
          "carpet": [
           {
            "aaxis": {
             "endlinecolor": "#2a3f5f",
             "gridcolor": "white",
             "linecolor": "white",
             "minorgridcolor": "white",
             "startlinecolor": "#2a3f5f"
            },
            "baxis": {
             "endlinecolor": "#2a3f5f",
             "gridcolor": "white",
             "linecolor": "white",
             "minorgridcolor": "white",
             "startlinecolor": "#2a3f5f"
            },
            "type": "carpet"
           }
          ],
          "choropleth": [
           {
            "colorbar": {
             "outlinewidth": 0,
             "ticks": ""
            },
            "type": "choropleth"
           }
          ],
          "contour": [
           {
            "colorbar": {
             "outlinewidth": 0,
             "ticks": ""
            },
            "colorscale": [
             [
              0,
              "#0d0887"
             ],
             [
              0.1111111111111111,
              "#46039f"
             ],
             [
              0.2222222222222222,
              "#7201a8"
             ],
             [
              0.3333333333333333,
              "#9c179e"
             ],
             [
              0.4444444444444444,
              "#bd3786"
             ],
             [
              0.5555555555555556,
              "#d8576b"
             ],
             [
              0.6666666666666666,
              "#ed7953"
             ],
             [
              0.7777777777777778,
              "#fb9f3a"
             ],
             [
              0.8888888888888888,
              "#fdca26"
             ],
             [
              1,
              "#f0f921"
             ]
            ],
            "type": "contour"
           }
          ],
          "contourcarpet": [
           {
            "colorbar": {
             "outlinewidth": 0,
             "ticks": ""
            },
            "type": "contourcarpet"
           }
          ],
          "heatmap": [
           {
            "colorbar": {
             "outlinewidth": 0,
             "ticks": ""
            },
            "colorscale": [
             [
              0,
              "#0d0887"
             ],
             [
              0.1111111111111111,
              "#46039f"
             ],
             [
              0.2222222222222222,
              "#7201a8"
             ],
             [
              0.3333333333333333,
              "#9c179e"
             ],
             [
              0.4444444444444444,
              "#bd3786"
             ],
             [
              0.5555555555555556,
              "#d8576b"
             ],
             [
              0.6666666666666666,
              "#ed7953"
             ],
             [
              0.7777777777777778,
              "#fb9f3a"
             ],
             [
              0.8888888888888888,
              "#fdca26"
             ],
             [
              1,
              "#f0f921"
             ]
            ],
            "type": "heatmap"
           }
          ],
          "heatmapgl": [
           {
            "colorbar": {
             "outlinewidth": 0,
             "ticks": ""
            },
            "colorscale": [
             [
              0,
              "#0d0887"
             ],
             [
              0.1111111111111111,
              "#46039f"
             ],
             [
              0.2222222222222222,
              "#7201a8"
             ],
             [
              0.3333333333333333,
              "#9c179e"
             ],
             [
              0.4444444444444444,
              "#bd3786"
             ],
             [
              0.5555555555555556,
              "#d8576b"
             ],
             [
              0.6666666666666666,
              "#ed7953"
             ],
             [
              0.7777777777777778,
              "#fb9f3a"
             ],
             [
              0.8888888888888888,
              "#fdca26"
             ],
             [
              1,
              "#f0f921"
             ]
            ],
            "type": "heatmapgl"
           }
          ],
          "histogram": [
           {
            "marker": {
             "pattern": {
              "fillmode": "overlay",
              "size": 10,
              "solidity": 0.2
             }
            },
            "type": "histogram"
           }
          ],
          "histogram2d": [
           {
            "colorbar": {
             "outlinewidth": 0,
             "ticks": ""
            },
            "colorscale": [
             [
              0,
              "#0d0887"
             ],
             [
              0.1111111111111111,
              "#46039f"
             ],
             [
              0.2222222222222222,
              "#7201a8"
             ],
             [
              0.3333333333333333,
              "#9c179e"
             ],
             [
              0.4444444444444444,
              "#bd3786"
             ],
             [
              0.5555555555555556,
              "#d8576b"
             ],
             [
              0.6666666666666666,
              "#ed7953"
             ],
             [
              0.7777777777777778,
              "#fb9f3a"
             ],
             [
              0.8888888888888888,
              "#fdca26"
             ],
             [
              1,
              "#f0f921"
             ]
            ],
            "type": "histogram2d"
           }
          ],
          "histogram2dcontour": [
           {
            "colorbar": {
             "outlinewidth": 0,
             "ticks": ""
            },
            "colorscale": [
             [
              0,
              "#0d0887"
             ],
             [
              0.1111111111111111,
              "#46039f"
             ],
             [
              0.2222222222222222,
              "#7201a8"
             ],
             [
              0.3333333333333333,
              "#9c179e"
             ],
             [
              0.4444444444444444,
              "#bd3786"
             ],
             [
              0.5555555555555556,
              "#d8576b"
             ],
             [
              0.6666666666666666,
              "#ed7953"
             ],
             [
              0.7777777777777778,
              "#fb9f3a"
             ],
             [
              0.8888888888888888,
              "#fdca26"
             ],
             [
              1,
              "#f0f921"
             ]
            ],
            "type": "histogram2dcontour"
           }
          ],
          "mesh3d": [
           {
            "colorbar": {
             "outlinewidth": 0,
             "ticks": ""
            },
            "type": "mesh3d"
           }
          ],
          "parcoords": [
           {
            "line": {
             "colorbar": {
              "outlinewidth": 0,
              "ticks": ""
             }
            },
            "type": "parcoords"
           }
          ],
          "pie": [
           {
            "automargin": true,
            "type": "pie"
           }
          ],
          "scatter": [
           {
            "marker": {
             "colorbar": {
              "outlinewidth": 0,
              "ticks": ""
             }
            },
            "type": "scatter"
           }
          ],
          "scatter3d": [
           {
            "line": {
             "colorbar": {
              "outlinewidth": 0,
              "ticks": ""
             }
            },
            "marker": {
             "colorbar": {
              "outlinewidth": 0,
              "ticks": ""
             }
            },
            "type": "scatter3d"
           }
          ],
          "scattercarpet": [
           {
            "marker": {
             "colorbar": {
              "outlinewidth": 0,
              "ticks": ""
             }
            },
            "type": "scattercarpet"
           }
          ],
          "scattergeo": [
           {
            "marker": {
             "colorbar": {
              "outlinewidth": 0,
              "ticks": ""
             }
            },
            "type": "scattergeo"
           }
          ],
          "scattergl": [
           {
            "marker": {
             "colorbar": {
              "outlinewidth": 0,
              "ticks": ""
             }
            },
            "type": "scattergl"
           }
          ],
          "scattermapbox": [
           {
            "marker": {
             "colorbar": {
              "outlinewidth": 0,
              "ticks": ""
             }
            },
            "type": "scattermapbox"
           }
          ],
          "scatterpolar": [
           {
            "marker": {
             "colorbar": {
              "outlinewidth": 0,
              "ticks": ""
             }
            },
            "type": "scatterpolar"
           }
          ],
          "scatterpolargl": [
           {
            "marker": {
             "colorbar": {
              "outlinewidth": 0,
              "ticks": ""
             }
            },
            "type": "scatterpolargl"
           }
          ],
          "scatterternary": [
           {
            "marker": {
             "colorbar": {
              "outlinewidth": 0,
              "ticks": ""
             }
            },
            "type": "scatterternary"
           }
          ],
          "surface": [
           {
            "colorbar": {
             "outlinewidth": 0,
             "ticks": ""
            },
            "colorscale": [
             [
              0,
              "#0d0887"
             ],
             [
              0.1111111111111111,
              "#46039f"
             ],
             [
              0.2222222222222222,
              "#7201a8"
             ],
             [
              0.3333333333333333,
              "#9c179e"
             ],
             [
              0.4444444444444444,
              "#bd3786"
             ],
             [
              0.5555555555555556,
              "#d8576b"
             ],
             [
              0.6666666666666666,
              "#ed7953"
             ],
             [
              0.7777777777777778,
              "#fb9f3a"
             ],
             [
              0.8888888888888888,
              "#fdca26"
             ],
             [
              1,
              "#f0f921"
             ]
            ],
            "type": "surface"
           }
          ],
          "table": [
           {
            "cells": {
             "fill": {
              "color": "#EBF0F8"
             },
             "line": {
              "color": "white"
             }
            },
            "header": {
             "fill": {
              "color": "#C8D4E3"
             },
             "line": {
              "color": "white"
             }
            },
            "type": "table"
           }
          ]
         },
         "layout": {
          "annotationdefaults": {
           "arrowcolor": "#2a3f5f",
           "arrowhead": 0,
           "arrowwidth": 1
          },
          "autotypenumbers": "strict",
          "coloraxis": {
           "colorbar": {
            "outlinewidth": 0,
            "ticks": ""
           }
          },
          "colorscale": {
           "diverging": [
            [
             0,
             "#8e0152"
            ],
            [
             0.1,
             "#c51b7d"
            ],
            [
             0.2,
             "#de77ae"
            ],
            [
             0.3,
             "#f1b6da"
            ],
            [
             0.4,
             "#fde0ef"
            ],
            [
             0.5,
             "#f7f7f7"
            ],
            [
             0.6,
             "#e6f5d0"
            ],
            [
             0.7,
             "#b8e186"
            ],
            [
             0.8,
             "#7fbc41"
            ],
            [
             0.9,
             "#4d9221"
            ],
            [
             1,
             "#276419"
            ]
           ],
           "sequential": [
            [
             0,
             "#0d0887"
            ],
            [
             0.1111111111111111,
             "#46039f"
            ],
            [
             0.2222222222222222,
             "#7201a8"
            ],
            [
             0.3333333333333333,
             "#9c179e"
            ],
            [
             0.4444444444444444,
             "#bd3786"
            ],
            [
             0.5555555555555556,
             "#d8576b"
            ],
            [
             0.6666666666666666,
             "#ed7953"
            ],
            [
             0.7777777777777778,
             "#fb9f3a"
            ],
            [
             0.8888888888888888,
             "#fdca26"
            ],
            [
             1,
             "#f0f921"
            ]
           ],
           "sequentialminus": [
            [
             0,
             "#0d0887"
            ],
            [
             0.1111111111111111,
             "#46039f"
            ],
            [
             0.2222222222222222,
             "#7201a8"
            ],
            [
             0.3333333333333333,
             "#9c179e"
            ],
            [
             0.4444444444444444,
             "#bd3786"
            ],
            [
             0.5555555555555556,
             "#d8576b"
            ],
            [
             0.6666666666666666,
             "#ed7953"
            ],
            [
             0.7777777777777778,
             "#fb9f3a"
            ],
            [
             0.8888888888888888,
             "#fdca26"
            ],
            [
             1,
             "#f0f921"
            ]
           ]
          },
          "colorway": [
           "#636efa",
           "#EF553B",
           "#00cc96",
           "#ab63fa",
           "#FFA15A",
           "#19d3f3",
           "#FF6692",
           "#B6E880",
           "#FF97FF",
           "#FECB52"
          ],
          "font": {
           "color": "#2a3f5f"
          },
          "geo": {
           "bgcolor": "white",
           "lakecolor": "white",
           "landcolor": "#E5ECF6",
           "showlakes": true,
           "showland": true,
           "subunitcolor": "white"
          },
          "hoverlabel": {
           "align": "left"
          },
          "hovermode": "closest",
          "mapbox": {
           "style": "light"
          },
          "paper_bgcolor": "white",
          "plot_bgcolor": "#E5ECF6",
          "polar": {
           "angularaxis": {
            "gridcolor": "white",
            "linecolor": "white",
            "ticks": ""
           },
           "bgcolor": "#E5ECF6",
           "radialaxis": {
            "gridcolor": "white",
            "linecolor": "white",
            "ticks": ""
           }
          },
          "scene": {
           "xaxis": {
            "backgroundcolor": "#E5ECF6",
            "gridcolor": "white",
            "gridwidth": 2,
            "linecolor": "white",
            "showbackground": true,
            "ticks": "",
            "zerolinecolor": "white"
           },
           "yaxis": {
            "backgroundcolor": "#E5ECF6",
            "gridcolor": "white",
            "gridwidth": 2,
            "linecolor": "white",
            "showbackground": true,
            "ticks": "",
            "zerolinecolor": "white"
           },
           "zaxis": {
            "backgroundcolor": "#E5ECF6",
            "gridcolor": "white",
            "gridwidth": 2,
            "linecolor": "white",
            "showbackground": true,
            "ticks": "",
            "zerolinecolor": "white"
           }
          },
          "shapedefaults": {
           "line": {
            "color": "#2a3f5f"
           }
          },
          "ternary": {
           "aaxis": {
            "gridcolor": "white",
            "linecolor": "white",
            "ticks": ""
           },
           "baxis": {
            "gridcolor": "white",
            "linecolor": "white",
            "ticks": ""
           },
           "bgcolor": "#E5ECF6",
           "caxis": {
            "gridcolor": "white",
            "linecolor": "white",
            "ticks": ""
           }
          },
          "title": {
           "x": 0.05
          },
          "xaxis": {
           "automargin": true,
           "gridcolor": "white",
           "linecolor": "white",
           "ticks": "",
           "title": {
            "standoff": 15
           },
           "zerolinecolor": "white",
           "zerolinewidth": 2
          },
          "yaxis": {
           "automargin": true,
           "gridcolor": "white",
           "linecolor": "white",
           "ticks": "",
           "title": {
            "standoff": 15
           },
           "zerolinecolor": "white",
           "zerolinewidth": 2
          }
         }
        },
        "title": {
         "text": "Zoom"
        }
       }
      }
     },
     "metadata": {}
    }
   ],
   "metadata": {}
  },
  {
   "cell_type": "markdown",
   "source": [
    "**Some observations:**\r\n",
    "\r\n",
    "* Chromaticity: Highest prices for monochrome, approx. same level for duochrome and trichrome, lowest prices for polychrome.\r\n",
    "* Frequency: No clear tendencies. Low seems to be clearly performing worst in terms of price; the other three are similar, on a slightly higher level.\r\n",
    "* Palette: High variance and low sample size, therefore no clear tendencies. Peninsula seems to be performing somewhat consistently better than for example Esker or Dune.\r\n",
    "* Structure: Irrelevant wrt to price level.\r\n",
    "* Style: The most seldom styles obviously have the largest variance, and they also command the highest prices. Huge variance and outliers for Charcoal and Prime. Prismatic the style with consistently lowest prices.\r\n",
    "* Zoom: Not much differentiation.\r\n",
    "\r\n",
    "Overall, **Style** has the biggest impact on price, with additional impact added by **Chromaticity** and **Palette**. The other traits (Frequency, Structure, Zoom) don't make a lot of a difference.\r\n"
   ],
   "metadata": {}
  },
  {
   "cell_type": "markdown",
   "source": [
    "## Digging deeper into Palette and Chromaticity traits\r\n",
    "\r\n",
    "Digging deeper into Palette, we find that the only traits that use the different palettes are Paletted and Prime. Thus, for most Styles, the Palette is irrelevant because there is only one:"
   ],
   "metadata": {}
  },
  {
   "cell_type": "code",
   "execution_count": 50,
   "source": [
    "_ = pd.crosstab(df.Style, df.Palette).plot(kind=\"bar\", stacked=True)"
   ],
   "outputs": [
    {
     "output_type": "display_data",
     "data": {
      "image/png": "[encoded data removed]",
      "text/plain": [
       "<Figure size 1440x576 with 1 Axes>"
      ]
     },
     "metadata": {
      "needs_background": "light"
     }
    }
   ],
   "metadata": {}
  },
  {
   "cell_type": "markdown",
   "source": [
    "The situation is similar, albeit a bit more nuanced with the Chromaticity trait. Many styles, espcially the seldom onces, only have one type of Chromaticity, Monochrome:"
   ],
   "metadata": {}
  },
  {
   "cell_type": "code",
   "execution_count": 51,
   "source": [
    "_ = pd.crosstab(df.Style, df.Chromaticity).plot(kind=\"bar\", stacked=True)"
   ],
   "outputs": [
    {
     "output_type": "display_data",
     "data": {
      "image/png": "[encoded data removed]",
      "text/plain": [
       "<Figure size 1440x576 with 1 Axes>"
      ]
     },
     "metadata": {
      "needs_background": "light"
     }
    }
   ],
   "metadata": {}
  },
  {
   "cell_type": "markdown",
   "source": [
    "Looking at those Styles that have several variants of Chromaticity, we see that Chromaticity makes some difference in certain cases, e.g., Duochrome would be the preferred Chromaticity for both Watercolour and Polarized from a pure price perspective:"
   ],
   "metadata": {}
  },
  {
   "cell_type": "code",
   "execution_count": 52,
   "source": [
    "fig = px.box(df[df.Style.isin([\"Gouache\", \"Paletted\", \"Polarized\", \"Procedural\", \"Watercolour\"])], x=\"Style\", y=\"Lastprice\", color=\"Chromaticity\")\r\n",
    "fig.show()"
   ],
   "outputs": [
    {
     "output_type": "display_data",
     "data": {
      "application/vnd.plotly.v1+json": {
       "config": {
        "plotlyServerURL": "https://plot.ly"
       },
       "data": [
        {
         "alignmentgroup": "True",
         "hovertemplate": "Chromaticity=Monochrome<br>Style=%{x}<br>Lastprice=%{y}<extra></extra>",
         "legendgroup": "Monochrome",
         "marker": {
          "color": "#636efa"
         },
         "name": "Monochrome",
         "notched": false,
         "offsetgroup": "Monochrome",
         "orientation": "v",
         "showlegend": true,
         "type": "box",
         "x": [
          "Watercolour",
          "Procedural",
          "Procedural",
          "Watercolour",
          "Procedural",
          "Procedural",
          "Procedural",
          "Procedural",
          "Procedural",
          "Procedural",
          "Watercolour",
          "Watercolour",
          "Watercolour",
          "Procedural",
          "Watercolour",
          "Procedural",
          "Procedural",
          "Procedural",
          "Watercolour",
          "Procedural",
          "Procedural",
          "Procedural",
          "Watercolour",
          "Procedural",
          "Procedural",
          "Procedural",
          "Watercolour",
          "Watercolour",
          "Procedural",
          "Procedural",
          "Procedural",
          "Watercolour",
          "Watercolour",
          "Procedural",
          "Watercolour",
          "Watercolour",
          "Procedural",
          "Procedural",
          "Watercolour",
          "Procedural",
          "Procedural",
          "Procedural",
          "Procedural",
          "Procedural"
         ],
         "x0": " ",
         "xaxis": "x",
         "y": [
          48.57,
          24.69,
          24.5,
          22,
          21,
          19.5,
          19.2,
          18.88,
          18,
          18,
          16.5,
          15.9,
          14,
          13.9,
          13.6969,
          13.5,
          13,
          12.88,
          9.5,
          8.98,
          8.89,
          8.85,
          8.6,
          7.24,
          7.1,
          6.9,
          6.9,
          6.64,
          6.25,
          5.93,
          5.8,
          5.6,
          null,
          null,
          null,
          null,
          null,
          null,
          null,
          null,
          null,
          null,
          null,
          null
         ],
         "y0": " ",
         "yaxis": "y"
        },
        {
         "alignmentgroup": "True",
         "hovertemplate": "Chromaticity=Trichrome<br>Style=%{x}<br>Lastprice=%{y}<extra></extra>",
         "legendgroup": "Trichrome",
         "marker": {
          "color": "#EF553B"
         },
         "name": "Trichrome",
         "notched": false,
         "offsetgroup": "Trichrome",
         "orientation": "v",
         "showlegend": true,
         "type": "box",
         "x": [
          "Paletted",
          "Gouache",
          "Gouache",
          "Paletted",
          "Paletted",
          "Paletted",
          "Paletted",
          "Gouache",
          "Gouache",
          "Paletted",
          "Paletted",
          "Paletted",
          "Paletted",
          "Polarized",
          "Paletted",
          "Paletted",
          "Paletted",
          "Paletted",
          "Paletted",
          "Gouache",
          "Paletted",
          "Paletted",
          "Paletted",
          "Paletted",
          "Paletted",
          "Paletted",
          "Paletted",
          "Paletted",
          "Paletted",
          "Gouache",
          "Paletted",
          "Paletted",
          "Gouache",
          "Paletted",
          "Paletted",
          "Paletted",
          "Polarized",
          "Gouache",
          "Paletted",
          "Paletted",
          "Gouache",
          "Paletted",
          "Paletted",
          "Paletted",
          "Paletted",
          "Gouache",
          "Polarized",
          "Paletted",
          "Paletted",
          "Paletted",
          "Gouache",
          "Paletted",
          "Paletted",
          "Gouache",
          "Gouache",
          "Paletted",
          "Paletted",
          "Paletted",
          "Gouache",
          "Paletted",
          "Gouache",
          "Paletted",
          "Paletted",
          "Paletted",
          "Gouache",
          "Paletted",
          "Polarized",
          "Paletted",
          "Paletted",
          "Paletted",
          "Paletted",
          "Gouache",
          "Gouache",
          "Paletted",
          "Paletted",
          "Paletted",
          "Gouache",
          "Paletted",
          "Paletted",
          "Paletted",
          "Paletted",
          "Paletted",
          "Paletted",
          "Paletted",
          "Paletted",
          "Paletted",
          "Gouache",
          "Paletted",
          "Paletted",
          "Paletted",
          "Paletted",
          "Gouache",
          "Paletted",
          "Paletted",
          "Paletted",
          "Paletted",
          "Paletted",
          "Gouache",
          "Paletted",
          "Paletted",
          "Gouache",
          "Paletted",
          "Paletted",
          "Paletted",
          "Paletted",
          "Gouache",
          "Polarized",
          "Paletted",
          "Gouache",
          "Gouache",
          "Gouache",
          "Paletted",
          "Paletted",
          "Paletted",
          "Gouache",
          "Paletted",
          "Paletted",
          "Polarized",
          "Paletted",
          "Paletted",
          "Paletted",
          "Paletted",
          "Polarized",
          "Paletted",
          "Paletted",
          "Paletted",
          "Paletted",
          "Paletted",
          "Paletted",
          "Gouache",
          "Paletted",
          "Paletted",
          "Paletted",
          "Paletted",
          "Paletted",
          "Paletted",
          "Paletted",
          "Paletted",
          "Paletted",
          "Paletted",
          "Paletted",
          "Paletted",
          "Polarized",
          "Paletted",
          "Paletted",
          "Paletted",
          "Paletted",
          "Paletted",
          "Paletted",
          "Gouache",
          "Paletted",
          "Paletted",
          "Paletted",
          "Paletted",
          "Paletted",
          "Paletted",
          "Paletted",
          "Paletted",
          "Paletted",
          "Gouache",
          "Paletted",
          "Polarized",
          "Paletted",
          "Paletted",
          "Paletted",
          "Paletted",
          "Paletted",
          "Gouache",
          "Paletted",
          "Paletted",
          "Paletted",
          "Gouache",
          "Paletted",
          "Paletted",
          "Paletted",
          "Gouache",
          "Paletted",
          "Paletted",
          "Paletted",
          "Paletted",
          "Polarized",
          "Paletted",
          "Gouache",
          "Paletted",
          "Gouache",
          "Gouache",
          "Paletted",
          "Paletted",
          "Paletted",
          "Polarized",
          "Paletted"
         ],
         "x0": " ",
         "xaxis": "x",
         "y": [
          45,
          26.5,
          24,
          24,
          24,
          22.5,
          22,
          22,
          21.5,
          20.69,
          20,
          20,
          20,
          20,
          19.969,
          19.69,
          19,
          19,
          18.95,
          18.88,
          18.5,
          18.1337,
          18,
          18,
          17.99,
          17.95,
          17,
          17,
          16.69,
          16.5,
          16,
          15.9,
          15.9,
          15.8,
          15.241146984315206,
          15,
          15,
          15,
          15,
          15,
          15,
          14.99,
          14.5,
          14,
          14,
          14,
          14,
          14,
          14,
          13.5,
          13.5,
          13.5,
          13,
          13,
          12.95,
          12.8,
          12.8,
          12.69,
          12.69,
          12.5,
          12.43,
          12,
          12,
          12,
          11.99,
          11.98,
          11.77,
          11.5,
          11.5,
          11.11,
          11,
          11,
          11,
          11,
          11,
          11,
          9.999,
          9.99,
          9.99,
          9.9,
          9.8,
          9.8,
          9.8,
          9.8,
          9.69,
          9.69,
          9.69,
          9.5,
          9.5,
          9.5,
          9.25,
          9,
          9,
          8.8,
          8.69,
          8.6,
          8.5,
          8.25,
          8.1,
          8,
          8,
          8,
          8,
          8,
          7.99,
          7.98,
          7.9,
          7.9,
          7.9,
          7.7777,
          7.75,
          7.7,
          7.5,
          7.5,
          7.5,
          7.49,
          7.49,
          7.48,
          7.3,
          7.22,
          7.2,
          7.123,
          7.1,
          7,
          6.9,
          6.79,
          6.68,
          6.6,
          6.5,
          6.5,
          6.5,
          6.49,
          6.49,
          6.4,
          6.1,
          6,
          5.99,
          5.95,
          5.9,
          5.77,
          5.75,
          5.55,
          0.01,
          null,
          null,
          null,
          null,
          null,
          null,
          null,
          null,
          null,
          null,
          null,
          null,
          null,
          null,
          null,
          null,
          null,
          null,
          null,
          null,
          null,
          null,
          null,
          null,
          null,
          null,
          null,
          null,
          null,
          null,
          null,
          null,
          null,
          null,
          null,
          null,
          null,
          null,
          null,
          null,
          null,
          null,
          null,
          null,
          null,
          null,
          null,
          null
         ],
         "y0": " ",
         "yaxis": "y"
        },
        {
         "alignmentgroup": "True",
         "hovertemplate": "Chromaticity=Duochrome<br>Style=%{x}<br>Lastprice=%{y}<extra></extra>",
         "legendgroup": "Duochrome",
         "marker": {
          "color": "#00cc96"
         },
         "name": "Duochrome",
         "notched": false,
         "offsetgroup": "Duochrome",
         "orientation": "v",
         "showlegend": true,
         "type": "box",
         "x": [
          "Paletted",
          "Paletted",
          "Polarized",
          "Paletted",
          "Paletted",
          "Paletted",
          "Paletted",
          "Polarized",
          "Gouache",
          "Paletted",
          "Paletted",
          "Paletted",
          "Paletted",
          "Paletted",
          "Paletted",
          "Watercolour",
          "Paletted",
          "Paletted",
          "Paletted",
          "Paletted",
          "Paletted",
          "Paletted",
          "Paletted",
          "Paletted",
          "Paletted",
          "Watercolour",
          "Gouache",
          "Gouache",
          "Watercolour",
          "Gouache",
          "Paletted",
          "Paletted",
          "Paletted",
          "Paletted",
          "Gouache",
          "Paletted",
          "Paletted",
          "Paletted",
          "Paletted",
          "Paletted",
          "Paletted",
          "Paletted",
          "Paletted",
          "Paletted",
          "Paletted",
          "Polarized",
          "Paletted",
          "Gouache",
          "Gouache",
          "Paletted",
          "Paletted",
          "Polarized",
          "Polarized",
          "Polarized",
          "Paletted",
          "Paletted",
          "Gouache",
          "Procedural",
          "Paletted",
          "Paletted",
          "Paletted",
          "Paletted",
          "Paletted",
          "Paletted",
          "Paletted",
          "Paletted",
          "Paletted",
          "Polarized",
          "Paletted",
          "Paletted",
          "Paletted",
          "Polarized",
          "Polarized",
          "Paletted",
          "Paletted",
          "Paletted",
          "Paletted",
          "Paletted",
          "Procedural",
          "Paletted",
          "Paletted",
          "Paletted",
          "Paletted",
          "Procedural",
          "Polarized",
          "Watercolour",
          "Gouache",
          "Paletted",
          "Polarized",
          "Paletted",
          "Paletted",
          "Paletted",
          "Procedural",
          "Paletted",
          "Paletted",
          "Paletted",
          "Procedural",
          "Paletted",
          "Paletted",
          "Paletted",
          "Paletted",
          "Paletted",
          "Paletted",
          "Paletted",
          "Paletted",
          "Paletted",
          "Paletted",
          "Paletted",
          "Paletted",
          "Paletted",
          "Paletted",
          "Paletted",
          "Procedural",
          "Paletted",
          "Paletted",
          "Paletted",
          "Gouache",
          "Paletted",
          "Paletted",
          "Paletted",
          "Paletted",
          "Procedural",
          "Paletted",
          "Paletted",
          "Paletted",
          "Paletted",
          "Paletted",
          "Paletted",
          "Paletted",
          "Paletted",
          "Gouache",
          "Paletted",
          "Procedural",
          "Paletted",
          "Paletted",
          "Paletted",
          "Paletted",
          "Paletted",
          "Paletted",
          "Paletted",
          "Procedural",
          "Paletted",
          "Paletted",
          "Paletted",
          "Paletted",
          "Paletted",
          "Polarized",
          "Paletted",
          "Watercolour",
          "Polarized",
          "Paletted",
          "Paletted",
          "Polarized",
          "Paletted",
          "Paletted",
          "Procedural",
          "Paletted",
          "Paletted",
          "Paletted",
          "Paletted",
          "Paletted",
          "Paletted",
          "Gouache",
          "Paletted",
          "Paletted",
          "Paletted",
          "Paletted",
          "Paletted",
          "Gouache",
          "Gouache",
          "Gouache",
          "Paletted",
          "Paletted",
          "Procedural",
          "Paletted",
          "Paletted",
          "Paletted",
          "Paletted",
          "Paletted",
          "Paletted",
          "Paletted",
          "Paletted",
          "Paletted",
          "Paletted",
          "Procedural",
          "Paletted",
          "Polarized",
          "Paletted",
          "Paletted",
          "Procedural",
          "Paletted",
          "Paletted",
          "Paletted",
          "Gouache",
          "Paletted",
          "Paletted",
          "Paletted",
          "Procedural",
          "Procedural",
          "Paletted",
          "Paletted",
          "Paletted",
          "Paletted",
          "Paletted",
          "Paletted",
          "Paletted",
          "Procedural",
          "Gouache",
          "Polarized",
          "Paletted",
          "Paletted",
          "Paletted",
          "Paletted",
          "Paletted",
          "Paletted",
          "Procedural",
          "Paletted",
          "Paletted",
          "Paletted",
          "Procedural",
          "Paletted",
          "Paletted",
          "Procedural",
          "Polarized",
          "Paletted",
          "Gouache",
          "Paletted",
          "Paletted",
          "Paletted",
          "Paletted",
          "Paletted",
          "Paletted",
          "Paletted",
          "Paletted",
          "Paletted",
          "Paletted",
          "Polarized",
          "Paletted",
          "Gouache",
          "Procedural",
          "Gouache",
          "Paletted",
          "Paletted",
          "Paletted",
          "Paletted",
          "Procedural",
          "Gouache",
          "Paletted",
          "Paletted",
          "Paletted",
          "Paletted",
          "Paletted",
          "Paletted",
          "Paletted",
          "Paletted",
          "Gouache",
          "Gouache",
          "Paletted",
          "Procedural",
          "Paletted",
          "Paletted",
          "Paletted",
          "Paletted",
          "Paletted",
          "Paletted",
          "Paletted",
          "Paletted",
          "Paletted",
          "Paletted",
          "Paletted",
          "Paletted",
          "Paletted",
          "Paletted",
          "Paletted",
          "Paletted",
          "Procedural",
          "Paletted",
          "Paletted",
          "Watercolour",
          "Paletted",
          "Paletted",
          "Paletted",
          "Paletted",
          "Paletted",
          "Paletted",
          "Paletted",
          "Paletted",
          "Paletted",
          "Polarized",
          "Paletted",
          "Paletted",
          "Gouache",
          "Paletted",
          "Gouache",
          "Paletted",
          "Gouache",
          "Polarized",
          "Paletted",
          "Paletted",
          "Paletted",
          "Polarized",
          "Paletted",
          "Procedural",
          "Paletted",
          "Procedural",
          "Paletted",
          "Paletted",
          "Paletted",
          "Paletted",
          "Procedural",
          "Procedural",
          "Procedural",
          "Gouache",
          "Procedural",
          "Paletted",
          "Paletted",
          "Procedural",
          "Paletted",
          "Paletted",
          "Paletted",
          "Paletted",
          "Paletted",
          "Paletted",
          "Paletted",
          "Paletted",
          "Paletted",
          "Procedural",
          "Paletted",
          "Paletted",
          "Watercolour",
          "Paletted",
          "Paletted",
          "Paletted",
          "Paletted",
          "Paletted",
          "Paletted",
          "Paletted",
          "Paletted",
          "Gouache",
          "Paletted",
          "Paletted",
          "Paletted",
          "Paletted",
          "Paletted",
          "Paletted",
          "Gouache",
          "Paletted",
          "Paletted",
          "Paletted",
          "Paletted",
          "Paletted",
          "Paletted"
         ],
         "x0": " ",
         "xaxis": "x",
         "y": [
          35,
          35,
          30,
          30,
          30,
          29.91,
          28.94,
          28.88,
          28,
          28,
          27.5,
          27,
          25,
          25,
          25,
          25,
          24.9999,
          24,
          24,
          24,
          24,
          23.888,
          23.69,
          23.5,
          23.5,
          23.337,
          23,
          23,
          23,
          22.99,
          22.5,
          22.22,
          22.2,
          22,
          22,
          22,
          22,
          21.99,
          21.99,
          21.5,
          21.5,
          21,
          21,
          21,
          20,
          20,
          20,
          20,
          19.99992336795338,
          19.99,
          19.3,
          18.95,
          18.75,
          18.5,
          18.5,
          18.5,
          18.5,
          18,
          18,
          18,
          18,
          18,
          18,
          18,
          18,
          17.99,
          17.98,
          17.5,
          17.5,
          17.167257721296323,
          17,
          17,
          16.99,
          16.99,
          16,
          15.99,
          15.9,
          15.9,
          15,
          15,
          15,
          15,
          15,
          15,
          15,
          15,
          15,
          14.95,
          14.9,
          14.9,
          14.69,
          14,
          14,
          14,
          14,
          14,
          13.99,
          13.9,
          13.8,
          13.75,
          13.5,
          13.33,
          13.3,
          13.2,
          13,
          13,
          13,
          12.888,
          12.8,
          12.69,
          12.65,
          12.5,
          12.5,
          12.45,
          12.4,
          12.4,
          12.4,
          12.35,
          12.29,
          12,
          12,
          12,
          12,
          12,
          12,
          12,
          12,
          12,
          12,
          11.99,
          11.99,
          11.96,
          11.95,
          11.9,
          11.9,
          11.88,
          11.8,
          11.8,
          11.75,
          11.75,
          11.75,
          11.5,
          11.45,
          11.4,
          11.3,
          11.11,
          11.11,
          11.11,
          11,
          11,
          11,
          11,
          11,
          10.99,
          10.98,
          10.97,
          10.96,
          10.9,
          10.9,
          10.88,
          10.88,
          10.69,
          10.5,
          10.5,
          10.25,
          10,
          10,
          10,
          10,
          10,
          10,
          10,
          9.9999,
          9.99,
          9.99,
          9.88,
          9.8,
          9.69,
          9.5,
          9.4,
          9.1,
          9,
          9,
          9,
          8.99,
          8.99,
          8.88,
          8.85,
          8.8,
          8.79,
          8.7654,
          8.75,
          8.6,
          8.5,
          8.5,
          8.49,
          8.469,
          8.44,
          8.432,
          8.2,
          8.1,
          8,
          8,
          8,
          8,
          8,
          7.99,
          7.99,
          7.8,
          7.77,
          7.7,
          7.66,
          7.536953642384106,
          7.5,
          7.5,
          7.5,
          7.5,
          7.49,
          7.4888,
          7.4,
          7.4,
          7.35,
          7.3,
          7.25,
          7.25,
          7.25,
          7.1499,
          7.1,
          7.1,
          7.1,
          7,
          7,
          7,
          7,
          6.99,
          6.99,
          6.99,
          6.99,
          6.99,
          6.98,
          6.969,
          6.9,
          6.9,
          6.9,
          6.89,
          6.8,
          6.75,
          6.75,
          6.7,
          6.68,
          6.6,
          6.5,
          6.5,
          6.5,
          6.49,
          6.49,
          6.477,
          6.4,
          6.4,
          6.4,
          6.35,
          6.3,
          6.29,
          6.29,
          6.21,
          6.19,
          6,
          5.99,
          5.97,
          5.8888,
          5.85,
          5.85,
          5.8,
          5.8,
          5.75,
          5.7,
          5.7,
          5.7,
          5.6,
          5.6,
          5.555,
          5.5,
          5.5,
          null,
          null,
          null,
          null,
          null,
          null,
          null,
          null,
          null,
          null,
          null,
          null,
          null,
          null,
          null,
          null,
          null,
          null,
          null,
          null,
          null,
          null,
          null,
          null,
          null,
          null,
          null,
          null,
          null,
          null,
          null,
          null,
          null,
          null,
          null,
          null,
          null,
          null,
          null,
          null,
          null,
          null,
          null,
          null,
          null,
          null,
          null,
          null,
          null,
          null,
          null,
          null,
          null,
          null,
          null,
          null,
          null,
          null,
          null,
          null,
          null,
          null,
          null,
          null,
          null,
          null,
          null,
          null,
          null
         ],
         "y0": " ",
         "yaxis": "y"
        },
        {
         "alignmentgroup": "True",
         "hovertemplate": "Chromaticity=Polychrome<br>Style=%{x}<br>Lastprice=%{y}<extra></extra>",
         "legendgroup": "Polychrome",
         "marker": {
          "color": "#ab63fa"
         },
         "name": "Polychrome",
         "notched": false,
         "offsetgroup": "Polychrome",
         "orientation": "v",
         "showlegend": true,
         "type": "box",
         "x": [
          "Gouache",
          "Gouache",
          "Gouache",
          "Gouache",
          "Gouache",
          "Gouache",
          "Gouache",
          "Gouache",
          "Gouache",
          "Gouache",
          "Gouache",
          "Gouache",
          "Gouache",
          "Gouache",
          "Gouache",
          "Gouache",
          "Gouache",
          "Gouache",
          "Gouache",
          "Gouache",
          "Gouache",
          "Gouache",
          "Gouache",
          "Gouache",
          "Gouache",
          "Gouache",
          "Gouache",
          "Gouache",
          "Gouache",
          "Gouache",
          "Gouache",
          "Gouache",
          "Gouache"
         ],
         "x0": " ",
         "xaxis": "x",
         "y": [
          23.69,
          22.99,
          22.5,
          21,
          18,
          17.5,
          17,
          16.5,
          16.5,
          15.89,
          15,
          15,
          15,
          12.95,
          12.5,
          12.5,
          12,
          11.5,
          11.5,
          11.11,
          10.97,
          10,
          9.8,
          9.5,
          8.8,
          8.7,
          6.88,
          6.5,
          5.99,
          5.8,
          5.69,
          null,
          null
         ],
         "y0": " ",
         "yaxis": "y"
        }
       ],
       "layout": {
        "boxmode": "group",
        "legend": {
         "title": {
          "text": "Chromaticity"
         },
         "tracegroupgap": 0
        },
        "margin": {
         "t": 60
        },
        "template": {
         "data": {
          "bar": [
           {
            "error_x": {
             "color": "#2a3f5f"
            },
            "error_y": {
             "color": "#2a3f5f"
            },
            "marker": {
             "line": {
              "color": "#E5ECF6",
              "width": 0.5
             },
             "pattern": {
              "fillmode": "overlay",
              "size": 10,
              "solidity": 0.2
             }
            },
            "type": "bar"
           }
          ],
          "barpolar": [
           {
            "marker": {
             "line": {
              "color": "#E5ECF6",
              "width": 0.5
             },
             "pattern": {
              "fillmode": "overlay",
              "size": 10,
              "solidity": 0.2
             }
            },
            "type": "barpolar"
           }
          ],
          "carpet": [
           {
            "aaxis": {
             "endlinecolor": "#2a3f5f",
             "gridcolor": "white",
             "linecolor": "white",
             "minorgridcolor": "white",
             "startlinecolor": "#2a3f5f"
            },
            "baxis": {
             "endlinecolor": "#2a3f5f",
             "gridcolor": "white",
             "linecolor": "white",
             "minorgridcolor": "white",
             "startlinecolor": "#2a3f5f"
            },
            "type": "carpet"
           }
          ],
          "choropleth": [
           {
            "colorbar": {
             "outlinewidth": 0,
             "ticks": ""
            },
            "type": "choropleth"
           }
          ],
          "contour": [
           {
            "colorbar": {
             "outlinewidth": 0,
             "ticks": ""
            },
            "colorscale": [
             [
              0,
              "#0d0887"
             ],
             [
              0.1111111111111111,
              "#46039f"
             ],
             [
              0.2222222222222222,
              "#7201a8"
             ],
             [
              0.3333333333333333,
              "#9c179e"
             ],
             [
              0.4444444444444444,
              "#bd3786"
             ],
             [
              0.5555555555555556,
              "#d8576b"
             ],
             [
              0.6666666666666666,
              "#ed7953"
             ],
             [
              0.7777777777777778,
              "#fb9f3a"
             ],
             [
              0.8888888888888888,
              "#fdca26"
             ],
             [
              1,
              "#f0f921"
             ]
            ],
            "type": "contour"
           }
          ],
          "contourcarpet": [
           {
            "colorbar": {
             "outlinewidth": 0,
             "ticks": ""
            },
            "type": "contourcarpet"
           }
          ],
          "heatmap": [
           {
            "colorbar": {
             "outlinewidth": 0,
             "ticks": ""
            },
            "colorscale": [
             [
              0,
              "#0d0887"
             ],
             [
              0.1111111111111111,
              "#46039f"
             ],
             [
              0.2222222222222222,
              "#7201a8"
             ],
             [
              0.3333333333333333,
              "#9c179e"
             ],
             [
              0.4444444444444444,
              "#bd3786"
             ],
             [
              0.5555555555555556,
              "#d8576b"
             ],
             [
              0.6666666666666666,
              "#ed7953"
             ],
             [
              0.7777777777777778,
              "#fb9f3a"
             ],
             [
              0.8888888888888888,
              "#fdca26"
             ],
             [
              1,
              "#f0f921"
             ]
            ],
            "type": "heatmap"
           }
          ],
          "heatmapgl": [
           {
            "colorbar": {
             "outlinewidth": 0,
             "ticks": ""
            },
            "colorscale": [
             [
              0,
              "#0d0887"
             ],
             [
              0.1111111111111111,
              "#46039f"
             ],
             [
              0.2222222222222222,
              "#7201a8"
             ],
             [
              0.3333333333333333,
              "#9c179e"
             ],
             [
              0.4444444444444444,
              "#bd3786"
             ],
             [
              0.5555555555555556,
              "#d8576b"
             ],
             [
              0.6666666666666666,
              "#ed7953"
             ],
             [
              0.7777777777777778,
              "#fb9f3a"
             ],
             [
              0.8888888888888888,
              "#fdca26"
             ],
             [
              1,
              "#f0f921"
             ]
            ],
            "type": "heatmapgl"
           }
          ],
          "histogram": [
           {
            "marker": {
             "pattern": {
              "fillmode": "overlay",
              "size": 10,
              "solidity": 0.2
             }
            },
            "type": "histogram"
           }
          ],
          "histogram2d": [
           {
            "colorbar": {
             "outlinewidth": 0,
             "ticks": ""
            },
            "colorscale": [
             [
              0,
              "#0d0887"
             ],
             [
              0.1111111111111111,
              "#46039f"
             ],
             [
              0.2222222222222222,
              "#7201a8"
             ],
             [
              0.3333333333333333,
              "#9c179e"
             ],
             [
              0.4444444444444444,
              "#bd3786"
             ],
             [
              0.5555555555555556,
              "#d8576b"
             ],
             [
              0.6666666666666666,
              "#ed7953"
             ],
             [
              0.7777777777777778,
              "#fb9f3a"
             ],
             [
              0.8888888888888888,
              "#fdca26"
             ],
             [
              1,
              "#f0f921"
             ]
            ],
            "type": "histogram2d"
           }
          ],
          "histogram2dcontour": [
           {
            "colorbar": {
             "outlinewidth": 0,
             "ticks": ""
            },
            "colorscale": [
             [
              0,
              "#0d0887"
             ],
             [
              0.1111111111111111,
              "#46039f"
             ],
             [
              0.2222222222222222,
              "#7201a8"
             ],
             [
              0.3333333333333333,
              "#9c179e"
             ],
             [
              0.4444444444444444,
              "#bd3786"
             ],
             [
              0.5555555555555556,
              "#d8576b"
             ],
             [
              0.6666666666666666,
              "#ed7953"
             ],
             [
              0.7777777777777778,
              "#fb9f3a"
             ],
             [
              0.8888888888888888,
              "#fdca26"
             ],
             [
              1,
              "#f0f921"
             ]
            ],
            "type": "histogram2dcontour"
           }
          ],
          "mesh3d": [
           {
            "colorbar": {
             "outlinewidth": 0,
             "ticks": ""
            },
            "type": "mesh3d"
           }
          ],
          "parcoords": [
           {
            "line": {
             "colorbar": {
              "outlinewidth": 0,
              "ticks": ""
             }
            },
            "type": "parcoords"
           }
          ],
          "pie": [
           {
            "automargin": true,
            "type": "pie"
           }
          ],
          "scatter": [
           {
            "marker": {
             "colorbar": {
              "outlinewidth": 0,
              "ticks": ""
             }
            },
            "type": "scatter"
           }
          ],
          "scatter3d": [
           {
            "line": {
             "colorbar": {
              "outlinewidth": 0,
              "ticks": ""
             }
            },
            "marker": {
             "colorbar": {
              "outlinewidth": 0,
              "ticks": ""
             }
            },
            "type": "scatter3d"
           }
          ],
          "scattercarpet": [
           {
            "marker": {
             "colorbar": {
              "outlinewidth": 0,
              "ticks": ""
             }
            },
            "type": "scattercarpet"
           }
          ],
          "scattergeo": [
           {
            "marker": {
             "colorbar": {
              "outlinewidth": 0,
              "ticks": ""
             }
            },
            "type": "scattergeo"
           }
          ],
          "scattergl": [
           {
            "marker": {
             "colorbar": {
              "outlinewidth": 0,
              "ticks": ""
             }
            },
            "type": "scattergl"
           }
          ],
          "scattermapbox": [
           {
            "marker": {
             "colorbar": {
              "outlinewidth": 0,
              "ticks": ""
             }
            },
            "type": "scattermapbox"
           }
          ],
          "scatterpolar": [
           {
            "marker": {
             "colorbar": {
              "outlinewidth": 0,
              "ticks": ""
             }
            },
            "type": "scatterpolar"
           }
          ],
          "scatterpolargl": [
           {
            "marker": {
             "colorbar": {
              "outlinewidth": 0,
              "ticks": ""
             }
            },
            "type": "scatterpolargl"
           }
          ],
          "scatterternary": [
           {
            "marker": {
             "colorbar": {
              "outlinewidth": 0,
              "ticks": ""
             }
            },
            "type": "scatterternary"
           }
          ],
          "surface": [
           {
            "colorbar": {
             "outlinewidth": 0,
             "ticks": ""
            },
            "colorscale": [
             [
              0,
              "#0d0887"
             ],
             [
              0.1111111111111111,
              "#46039f"
             ],
             [
              0.2222222222222222,
              "#7201a8"
             ],
             [
              0.3333333333333333,
              "#9c179e"
             ],
             [
              0.4444444444444444,
              "#bd3786"
             ],
             [
              0.5555555555555556,
              "#d8576b"
             ],
             [
              0.6666666666666666,
              "#ed7953"
             ],
             [
              0.7777777777777778,
              "#fb9f3a"
             ],
             [
              0.8888888888888888,
              "#fdca26"
             ],
             [
              1,
              "#f0f921"
             ]
            ],
            "type": "surface"
           }
          ],
          "table": [
           {
            "cells": {
             "fill": {
              "color": "#EBF0F8"
             },
             "line": {
              "color": "white"
             }
            },
            "header": {
             "fill": {
              "color": "#C8D4E3"
             },
             "line": {
              "color": "white"
             }
            },
            "type": "table"
           }
          ]
         },
         "layout": {
          "annotationdefaults": {
           "arrowcolor": "#2a3f5f",
           "arrowhead": 0,
           "arrowwidth": 1
          },
          "autotypenumbers": "strict",
          "coloraxis": {
           "colorbar": {
            "outlinewidth": 0,
            "ticks": ""
           }
          },
          "colorscale": {
           "diverging": [
            [
             0,
             "#8e0152"
            ],
            [
             0.1,
             "#c51b7d"
            ],
            [
             0.2,
             "#de77ae"
            ],
            [
             0.3,
             "#f1b6da"
            ],
            [
             0.4,
             "#fde0ef"
            ],
            [
             0.5,
             "#f7f7f7"
            ],
            [
             0.6,
             "#e6f5d0"
            ],
            [
             0.7,
             "#b8e186"
            ],
            [
             0.8,
             "#7fbc41"
            ],
            [
             0.9,
             "#4d9221"
            ],
            [
             1,
             "#276419"
            ]
           ],
           "sequential": [
            [
             0,
             "#0d0887"
            ],
            [
             0.1111111111111111,
             "#46039f"
            ],
            [
             0.2222222222222222,
             "#7201a8"
            ],
            [
             0.3333333333333333,
             "#9c179e"
            ],
            [
             0.4444444444444444,
             "#bd3786"
            ],
            [
             0.5555555555555556,
             "#d8576b"
            ],
            [
             0.6666666666666666,
             "#ed7953"
            ],
            [
             0.7777777777777778,
             "#fb9f3a"
            ],
            [
             0.8888888888888888,
             "#fdca26"
            ],
            [
             1,
             "#f0f921"
            ]
           ],
           "sequentialminus": [
            [
             0,
             "#0d0887"
            ],
            [
             0.1111111111111111,
             "#46039f"
            ],
            [
             0.2222222222222222,
             "#7201a8"
            ],
            [
             0.3333333333333333,
             "#9c179e"
            ],
            [
             0.4444444444444444,
             "#bd3786"
            ],
            [
             0.5555555555555556,
             "#d8576b"
            ],
            [
             0.6666666666666666,
             "#ed7953"
            ],
            [
             0.7777777777777778,
             "#fb9f3a"
            ],
            [
             0.8888888888888888,
             "#fdca26"
            ],
            [
             1,
             "#f0f921"
            ]
           ]
          },
          "colorway": [
           "#636efa",
           "#EF553B",
           "#00cc96",
           "#ab63fa",
           "#FFA15A",
           "#19d3f3",
           "#FF6692",
           "#B6E880",
           "#FF97FF",
           "#FECB52"
          ],
          "font": {
           "color": "#2a3f5f"
          },
          "geo": {
           "bgcolor": "white",
           "lakecolor": "white",
           "landcolor": "#E5ECF6",
           "showlakes": true,
           "showland": true,
           "subunitcolor": "white"
          },
          "hoverlabel": {
           "align": "left"
          },
          "hovermode": "closest",
          "mapbox": {
           "style": "light"
          },
          "paper_bgcolor": "white",
          "plot_bgcolor": "#E5ECF6",
          "polar": {
           "angularaxis": {
            "gridcolor": "white",
            "linecolor": "white",
            "ticks": ""
           },
           "bgcolor": "#E5ECF6",
           "radialaxis": {
            "gridcolor": "white",
            "linecolor": "white",
            "ticks": ""
           }
          },
          "scene": {
           "xaxis": {
            "backgroundcolor": "#E5ECF6",
            "gridcolor": "white",
            "gridwidth": 2,
            "linecolor": "white",
            "showbackground": true,
            "ticks": "",
            "zerolinecolor": "white"
           },
           "yaxis": {
            "backgroundcolor": "#E5ECF6",
            "gridcolor": "white",
            "gridwidth": 2,
            "linecolor": "white",
            "showbackground": true,
            "ticks": "",
            "zerolinecolor": "white"
           },
           "zaxis": {
            "backgroundcolor": "#E5ECF6",
            "gridcolor": "white",
            "gridwidth": 2,
            "linecolor": "white",
            "showbackground": true,
            "ticks": "",
            "zerolinecolor": "white"
           }
          },
          "shapedefaults": {
           "line": {
            "color": "#2a3f5f"
           }
          },
          "ternary": {
           "aaxis": {
            "gridcolor": "white",
            "linecolor": "white",
            "ticks": ""
           },
           "baxis": {
            "gridcolor": "white",
            "linecolor": "white",
            "ticks": ""
           },
           "bgcolor": "#E5ECF6",
           "caxis": {
            "gridcolor": "white",
            "linecolor": "white",
            "ticks": ""
           }
          },
          "title": {
           "x": 0.05
          },
          "xaxis": {
           "automargin": true,
           "gridcolor": "white",
           "linecolor": "white",
           "ticks": "",
           "title": {
            "standoff": 15
           },
           "zerolinecolor": "white",
           "zerolinewidth": 2
          },
          "yaxis": {
           "automargin": true,
           "gridcolor": "white",
           "linecolor": "white",
           "ticks": "",
           "title": {
            "standoff": 15
           },
           "zerolinecolor": "white",
           "zerolinewidth": 2
          }
         }
        },
        "xaxis": {
         "anchor": "y",
         "domain": [
          0,
          1
         ],
         "title": {
          "text": "Style"
         }
        },
        "yaxis": {
         "anchor": "x",
         "domain": [
          0,
          1
         ],
         "title": {
          "text": "Lastprice"
         }
        }
       }
      }
     },
     "metadata": {}
    }
   ],
   "metadata": {}
  }
 ],
 "metadata": {
  "orig_nbformat": 4,
  "language_info": {
   "name": "python",
   "version": "3.7.9",
   "mimetype": "text/x-python",
   "codemirror_mode": {
    "name": "ipython",
    "version": 3
   },
   "pygments_lexer": "ipython3",
   "nbconvert_exporter": "python",
   "file_extension": ".py"
  },
  "kernelspec": {
   "name": "python3",
   "display_name": "Python 3.7.9 64-bit ('venv': venv)"
  },
  "interpreter": {
   "hash": "0a6dc87dfae80f3db58cc7c505abc01f8b602781e7d38792441ee143cc505ce9"
  }
 },
 "nbformat": 4,
 "nbformat_minor": 2
}