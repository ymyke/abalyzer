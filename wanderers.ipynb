{
 "cells": [
  {
   "cell_type": "markdown",
   "metadata": {},
   "source": [
    "# Analyzing Wanderers"
   ]
  },
  {
   "cell_type": "markdown",
   "metadata": {},
   "source": [
    "Important: This notebook uses [Plotly](https://plotly.com/python/) mostly to visualize data. Plotly charts won't be rendered in Githubs notebook viewer. So please [view this notebook on nbviewer](https://nbviewer.org/github/ymyke/abalyzer/blob/main/fidenzas.ipynb) (or on your local installation after cloning the repo). Note that nbviewer caches notebooks and sometimes takes a long time to pick up a new version.\n",
    "\n",
    "On the upside, all the Plotly charts are interactive. You can zoom, hover, pan, etc. Zooming is especially important due to the outliers in some the data so you can zoom in on the interesting parts."
   ]
  },
  {
   "cell_type": "code",
   "execution_count": null,
   "metadata": {},
   "outputs": [],
   "source": [
    "import plotly.io as pio\n",
    "pio.renderers.default = \"notebook_connected\""
   ]
  },
  {
   "cell_type": "markdown",
   "metadata": {},
   "source": [
    "## Get the assets"
   ]
  },
  {
   "cell_type": "code",
   "execution_count": null,
   "metadata": {},
   "outputs": [],
   "source": [
    "import datetime\n",
    "from opensea import retrieve_assets\n",
    "\n",
    "ids = list(range(0, 8888))\n",
    "assets = retrieve_assets(token_ids=ids, contract=\"0x8184a482A5038B124d933B779E0Ea6e0fb72F54E\")\n",
    "print(datetime.datetime.now())\n"
   ]
  },
  {
   "cell_type": "markdown",
   "metadata": {},
   "source": [
    "## Build a dataframe"
   ]
  },
  {
   "cell_type": "markdown",
   "metadata": {},
   "source": [
    "Check the trait types there are. We'll see that 1) different assets can have different numbers of traits, 2) the same asset can have traits with the same name, i.e. \"Celestial Body\"."
   ]
  },
  {
   "cell_type": "code",
   "execution_count": null,
   "metadata": {},
   "outputs": [],
   "source": [
    "[\", \".join(t[\"trait_type\"] for t in a[\"traits\"]) for a in assets][:10]"
   ]
  },
  {
   "cell_type": "markdown",
   "metadata": {},
   "source": [
    "All the possible celestial bodies there are:"
   ]
  },
  {
   "cell_type": "code",
   "execution_count": null,
   "metadata": {},
   "outputs": [],
   "source": [
    "set([t[\"value\"]  for a in assets for t in a[\"traits\"] if t[\"trait_type\"] == \"Celestial Body\"])"
   ]
  },
  {
   "cell_type": "markdown",
   "metadata": {},
   "source": [
    "We will count the number of Celestial Bodies as well as the number of stars and galaxies when tabulating all the information into a dataframe:\n",
    "\n",
    "(Large vs not large galaxies will be ignored; could be added as some point in the future.)"
   ]
  },
  {
   "cell_type": "code",
   "execution_count": null,
   "metadata": {},
   "outputs": [],
   "source": [
    "from typing import Union\n",
    "from functools import reduce\n",
    "import operator\n",
    "import pandas as pd\n",
    "import numpy as np\n",
    "\n",
    "pd.set_option(\"display.max_rows\", None)\n",
    "\n",
    "\n",
    "def turn_assets_into_df_generalized(assets: list) -> Union[pd.DataFrame, list]:\n",
    "\n",
    "    trait_blueprint = {\n",
    "        k: \"-\" for k in set([t[\"trait_type\"] for a in assets for t in a[\"traits\"]])\n",
    "    }\n",
    "    trait_blueprint[\"Stars\"] = 0\n",
    "    trait_blueprint[\"Galaxies\"] = 0\n",
    "    trait_blueprint[\"Celestial Bodies\"] = 0\n",
    "    del trait_blueprint[\"Celestial Body\"]\n",
    "\n",
    "    _tt = []\n",
    "    for a in assets:\n",
    "\n",
    "        # Calc probability score:\n",
    "        prob_score = (\n",
    "            reduce(operator.mul, [t[\"trait_count\"] / 1000 for t in a[\"traits\"]], 1)\n",
    "            * 1000\n",
    "        )\n",
    "\n",
    "        # Get current price:\n",
    "        price = price_symbol = np.nan\n",
    "        if a[\"sell_orders\"] is not None:\n",
    "            so = a[\"sell_orders\"][0]\n",
    "            price = float(so[\"current_price\"]) / 10 ** int(\n",
    "                so[\"payment_token_contract\"][\"decimals\"]\n",
    "            )\n",
    "            price_symbol = so[\"payment_token_contract\"][\"symbol\"]\n",
    "            # Convert to ETH if necessary:\n",
    "            if price_symbol not in [\"ETH\", \"WETH\"]:\n",
    "                price *= float(so[\"payment_token_contract\"][\"eth_price\"])\n",
    "                price_symbol = \"ETH\"\n",
    "\n",
    "        # Get last price:\n",
    "        last_price = last_price_symbol = last_sale_date = np.nan\n",
    "        if a[\"last_sale\"] is not None:\n",
    "            ls = a[\"last_sale\"]\n",
    "            last_price = float(ls[\"total_price\"]) / 10 ** int(\n",
    "                ls[\"payment_token\"][\"decimals\"]\n",
    "            )\n",
    "            last_price_symbol = ls[\"payment_token\"][\"symbol\"]\n",
    "            # Convert to ETH if necessary:\n",
    "            if last_price_symbol not in [\"ETH\", \"WETH\"]:\n",
    "                last_price *= float(ls[\"payment_token\"][\"eth_price\"])\n",
    "                last_price_symbol = \"ETH\"\n",
    "            last_sale_date = ls[\"event_timestamp\"]\n",
    "\n",
    "        # Traits:\n",
    "        traits = trait_blueprint.copy()\n",
    "        for t in a[\"traits\"]:\n",
    "            if t[\"trait_type\"] == \"Celestial Body\":\n",
    "                traits[\"Celestial Bodies\"] += 1\n",
    "                if \"Galaxy\" in t[\"value\"]:\n",
    "                    traits[\"Galaxies\"] += 1\n",
    "                else:\n",
    "                    traits[\"Stars\"] += 1\n",
    "            else:\n",
    "                if traits[t[\"trait_type\"]] == \"-\":\n",
    "                    traits[t[\"trait_type\"]] = t[\"value\"]\n",
    "                else:\n",
    "                    traits[t[\"trait_type\"]] += \", \" + t[\"value\"]\n",
    "\n",
    "        # Add everything to the table:\n",
    "        _tt.append(\n",
    "            [\n",
    "                a[\"token_id\"],  # CHANGED\n",
    "                a[\n",
    "                    \"token_id\"\n",
    "                ],  # FIXME Not really a nice solution // but they don't have names and I need some attribute that is not the index to expose via hover in the Plotly charts.\n",
    "                price,\n",
    "                price_symbol,\n",
    "                last_price,\n",
    "                last_price_symbol,\n",
    "                last_sale_date,\n",
    "                prob_score,\n",
    "                *[  # All the traits:\n",
    "                    v for _, v in sorted(traits.items(), key=lambda x: x[0])\n",
    "                ],\n",
    "                a[\"permalink\"],\n",
    "            ]\n",
    "        )\n",
    "\n",
    "    # Get the traits names:\n",
    "    trait_names = [  # All the traits:\n",
    "        k for k, _ in sorted(trait_blueprint.items(), key=lambda x: x[0])\n",
    "    ]\n",
    "\n",
    "    # Turn table into df:\n",
    "    df = pd.DataFrame(_tt)\n",
    "    df.columns = [\n",
    "        \"ID\",\n",
    "        \"Name\",\n",
    "        \"Price\",\n",
    "        \"Psymbol\",\n",
    "        \"Lastprice\",\n",
    "        \"LPsymbol\",\n",
    "        \"LPdate\",\n",
    "        \"Probscore\",\n",
    "        *trait_names,\n",
    "        \"Link\",\n",
    "    ]\n",
    "    df[\"LPdate\"] = pd.to_datetime(df.LPdate)\n",
    "    df = df.set_index(\"ID\").sort_values(\"Lastprice\", ascending=False)\n",
    "\n",
    "    return df, traits\n"
   ]
  },
  {
   "cell_type": "code",
   "execution_count": null,
   "metadata": {},
   "outputs": [],
   "source": [
    "import numpy as np\n",
    "import pandas as pd\n",
    "df, traits = turn_assets_into_df_generalized(assets)\n",
    "hoverdata = [ \"Name\", *traits, \"Probscore\"]"
   ]
  },
  {
   "cell_type": "code",
   "execution_count": null,
   "metadata": {},
   "outputs": [],
   "source": [
    "assert set(df.LPsymbol.unique()) == set([\"ETH\", \"WETH\", np.nan]), \"\"\"\n",
    "This sheet does not do currency conversion at the moment and therefore \n",
    "assumes all prices are in (W)ETH. But there are more symbols in the input \n",
    "data which would lead to apples being compared to ranges below. Aborting.\n",
    "\"\"\""
   ]
  },
  {
   "cell_type": "markdown",
   "metadata": {},
   "source": [
    "## How many pieces have a last price on OpenSea?"
   ]
  },
  {
   "cell_type": "code",
   "execution_count": null,
   "metadata": {},
   "outputs": [],
   "source": [
    "print(f\"{df[~df.Lastprice.isna()].shape[0] / df.shape[0]:.0%}\")"
   ]
  },
  {
   "cell_type": "markdown",
   "metadata": {},
   "source": [
    "## How are prices evolving over time?"
   ]
  },
  {
   "cell_type": "markdown",
   "metadata": {},
   "source": [
    "Note that this only takes into account the last sale of each piece."
   ]
  },
  {
   "cell_type": "code",
   "execution_count": null,
   "metadata": {},
   "outputs": [],
   "source": [
    "import plotly.express as px\n",
    "import plotly.graph_objects as go\n",
    "import matplotlib.pyplot as plt\n",
    "\n",
    "plt.rcParams[\"figure.figsize\"] = (20, 8)\n",
    "pd.plotting.register_matplotlib_converters()\n",
    "\n",
    "fig = px.scatter(df, x=\"LPdate\", y=\"Lastprice\", hover_data=hoverdata)\n",
    "fig.show()"
   ]
  },
  {
   "cell_type": "markdown",
   "metadata": {},
   "source": [
    "## Price levels today"
   ]
  },
  {
   "cell_type": "code",
   "execution_count": null,
   "metadata": {},
   "outputs": [],
   "source": [
    "fig = px.histogram(df, x=\"Lastprice\", marginal=\"box\", hover_data=hoverdata)\n",
    "fig.show()"
   ]
  },
  {
   "cell_type": "markdown",
   "metadata": {},
   "source": [
    "## How frequent are the different traits?"
   ]
  },
  {
   "cell_type": "code",
   "execution_count": null,
   "metadata": {},
   "outputs": [],
   "source": [
    "pd.set_option(\"display.max_columns\", None)\n",
    "\n",
    "from IPython.display import display\n",
    "for trait in sorted(traits.keys()):\n",
    "    display(\n",
    "        pd.DataFrame(df[trait].value_counts(normalize=False, sort=True, ascending=True)).transpose()\n",
    "    )\n"
   ]
  },
  {
   "cell_type": "markdown",
   "metadata": {},
   "source": [
    "## How much do people pay for the different traits?"
   ]
  },
  {
   "cell_type": "code",
   "execution_count": null,
   "metadata": {},
   "outputs": [],
   "source": [
    "for trait in sorted(traits.keys()):\n",
    "\n",
    "    fig = go.Figure()\n",
    "    for traitvariant in (\n",
    "        df.groupby(trait).median().sort_values(\"Lastprice\", ascending=False).index\n",
    "    ):\n",
    "        fig.add_trace(\n",
    "            go.Box(\n",
    "                y=df[df[trait] == traitvariant].fillna(\"-\").Lastprice.values,\n",
    "                name=traitvariant,\n",
    "                boxpoints=\"all\",\n",
    "                jitter=0.2,\n",
    "                whiskerwidth=0.2,\n",
    "                marker_size=2,\n",
    "                line_width=1,\n",
    "            )\n",
    "        )\n",
    "    fig.update_layout(title=trait)\n",
    "    fig.show()"
   ]
  },
  {
   "cell_type": "markdown",
   "metadata": {},
   "source": [
    "**Some Observations**:\n",
    "\n",
    "- The monolith anomaly commands much higher prices than other anomalies. It is also the most seldom anomaly.\n",
    "- The more celestial bodies, the higher the price. Same with galaxies and stars. (4 stars is really seldom and outperforms 0-3 stars massively.)\n",
    "- A cat cockpit slightly outperforms other cockpits. Interestingly, glyphs perform average, even though they are much rarer than average.\n",
    "- Arms: Joints perform best, followed by ETH, bong, porn, alien joint, and skull. Flag is clearly worst (I wonder why?). Bongs perform much better than their rarity would suggest, whereas flags left perform much worse than their rarity would suggest (not so much for flags right, strangely).\n",
    "- Music doesn't make a difference.\n",
    "- Panels: Crypto, bounty, tetris, spam are the best preformers which is very much in line with their rarity.\n",
    "- Planet: Anger orb and destroyed planet are clearly performing best and also rarest.\n",
    "- Ships: Doesn't make much of a difference.\n",
    "- Window: Doesn't make much of a difference.\n",
    "- Special: Specials in general add to the value. Warp squad sixteen performs very high."
   ]
  },
  {
   "cell_type": "markdown",
   "metadata": {},
   "source": [
    "## What is pricier, galaxies or stars?\n",
    "\n",
    "There seems to be no fundamental difference between stars and galaxies. In either case, rarity is the differentiator: 3 galaxies is slightly rare, 4 stars is rare, 5 bodies overall is rare and 6 bodies is superrare – so these all command higher prices."
   ]
  },
  {
   "cell_type": "code",
   "execution_count": null,
   "metadata": {},
   "outputs": [],
   "source": [
    "df[\"Celestialstype\"] = df.apply(\n",
    "    lambda x: \"Starsonly\"\n",
    "    if x[\"Galaxies\"] == 0\n",
    "    else \"Galaxiesonly\"\n",
    "    if x[\"Stars\"] == 0\n",
    "    else \"Both\",\n",
    "    axis=1,\n",
    ")\n",
    "px.box(df, x=\"Celestial Bodies\", y=\"Lastprice\", color=\"Celestialstype\", points=\"all\", hover_data=hoverdata)"
   ]
  }
 ],
 "metadata": {
  "interpreter": {
   "hash": "0a6dc87dfae80f3db58cc7c505abc01f8b602781e7d38792441ee143cc505ce9"
  },
  "kernelspec": {
   "display_name": "Python 3.7.9 64-bit ('venv': venv)",
   "name": "python3"
  },
  "language_info": {
   "codemirror_mode": {
    "name": "ipython",
    "version": 3
   },
   "file_extension": ".py",
   "mimetype": "text/x-python",
   "name": "python",
   "nbconvert_exporter": "python",
   "pygments_lexer": "ipython3",
   "version": "3.7.9"
  },
  "orig_nbformat": 4
 },
 "nbformat": 4,
 "nbformat_minor": 2
}
